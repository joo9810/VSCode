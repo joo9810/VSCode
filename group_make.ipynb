{
 "cells": [
  {
   "cell_type": "code",
   "execution_count": 2,
   "metadata": {},
   "outputs": [],
   "source": [
    "import group_make as gm"
   ]
  },
  {
   "cell_type": "markdown",
   "metadata": {},
   "source": [
    "### 그룹 기록  \n",
    "ex)  \n",
    "group1 =  \n",
    "group2 =  \n",
    "..."
   ]
  },
  {
   "cell_type": "code",
   "execution_count": 3,
   "metadata": {},
   "outputs": [],
   "source": [
    "group1 = {'1조': ['한세진', '김경환', '김경태', '이민하'],\n",
    "  '2조': ['조혜리', '김환선', '전민규', '안효준'],\n",
    "  '3조': ['김민석', '박란영', '김도연', '권도운'],\n",
    "  '4조': ['박지훈', '도영훈', '손지원', '김이현'],\n",
    "  '5조': ['김태헌', '김재성', '곽경민', '구성윤'],\n",
    "  '6조': ['이동건', '김현주', '황지원', '김미소'],\n",
    "  '7조': ['장재웅', '이송은', '황은혁', '박형준'],\n",
    "  '8조': ['안윤호', '이현종', '김아란', '김영주']}"
   ]
  },
  {
   "cell_type": "markdown",
   "metadata": {},
   "source": [
    "### 전체 그룹 기록  \n",
    "ex) all_group = [group1, group2, ...]"
   ]
  },
  {
   "cell_type": "code",
   "execution_count": 4,
   "metadata": {},
   "outputs": [],
   "source": [
    "# 모든 프로젝트 그룹명 작성\n",
    "all_group = [group1]"
   ]
  },
  {
   "cell_type": "code",
   "execution_count": null,
   "metadata": {},
   "outputs": [],
   "source": [
    "gm.without_duplicates(all_group)[-1]"
   ]
  }
 ],
 "metadata": {
  "kernelspec": {
   "display_name": "Python 3",
   "language": "python",
   "name": "python3"
  },
  "language_info": {
   "codemirror_mode": {
    "name": "ipython",
    "version": 3
   },
   "file_extension": ".py",
   "mimetype": "text/x-python",
   "name": "python",
   "nbconvert_exporter": "python",
   "pygments_lexer": "ipython3",
   "version": "3.9.19"
  }
 },
 "nbformat": 4,
 "nbformat_minor": 2
}
