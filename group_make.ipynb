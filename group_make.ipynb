{
 "cells": [
  {
   "cell_type": "code",
   "execution_count": 1,
   "metadata": {},
   "outputs": [],
   "source": [
    "import group_make as gm"
   ]
  },
  {
   "cell_type": "code",
   "execution_count": null,
   "metadata": {},
   "outputs": [],
   "source": []
  },
  {
   "cell_type": "code",
   "execution_count": 13,
   "metadata": {},
   "outputs": [],
   "source": [
    "# 모든 프로젝트 그룹명 작성\n",
    "all_group = []"
   ]
  },
  {
   "cell_type": "code",
   "execution_count": 14,
   "metadata": {},
   "outputs": [
    {
     "data": {
      "text/plain": [
       "[{'1조': ['도영훈', '박형준', '곽경민', '이송은'],\n",
       "  '2조': ['박란영', '손지원', '김태헌', '이동건'],\n",
       "  '3조': ['김현주', '김이현', '김경태', '황지원'],\n",
       "  '4조': ['김재성', '박지훈', '한세진', '안효준'],\n",
       "  '5조': ['김민석', '김미소', '구성윤', '조혜리'],\n",
       "  '6조': ['장재웅', '김경환', '김도연', '김환선'],\n",
       "  '7조': ['김아란', '이현종', '권도운', '전민규'],\n",
       "  '8조': ['이민하', '안윤호', '황은혁', '김영주']}]"
      ]
     },
     "execution_count": 14,
     "metadata": {},
     "output_type": "execute_result"
    }
   ],
   "source": [
    "gm.without_duplicates(all_group)"
   ]
  },
  {
   "cell_type": "code",
   "execution_count": null,
   "metadata": {},
   "outputs": [],
   "source": []
  }
 ],
 "metadata": {
  "kernelspec": {
   "display_name": "Python 3",
   "language": "python",
   "name": "python3"
  },
  "language_info": {
   "codemirror_mode": {
    "name": "ipython",
    "version": 3
   },
   "file_extension": ".py",
   "mimetype": "text/x-python",
   "name": "python",
   "nbconvert_exporter": "python",
   "pygments_lexer": "ipython3",
   "version": "3.9.19"
  }
 },
 "nbformat": 4,
 "nbformat_minor": 2
}
