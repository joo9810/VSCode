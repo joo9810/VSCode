{
 "cells": [
  {
   "cell_type": "code",
   "execution_count": 2,
   "metadata": {},
   "outputs": [],
   "source": [
    "import group_make as gm"
   ]
  },
  {
   "cell_type": "markdown",
   "metadata": {},
   "source": [
    "### 그룹 기록  \n",
    "ex)  \n",
    "group1 =  \n",
    "group2 =  \n",
    "..."
   ]
  },
  {
   "cell_type": "code",
   "execution_count": 48,
   "metadata": {},
   "outputs": [],
   "source": [
    "group1 = {'1조': ['한세진', '김경환', '김경태', '이민하'],\n",
    "  '2조': ['조혜리', '김환선', '전민규', '안효준'],\n",
    "  '3조': ['김민석', '박란영', '김도연', '권도운'],\n",
    "  '4조': ['박지훈', '도영훈', '손지원', '김이현'],\n",
    "  '5조': ['김태헌', '김재성', '곽경민', '구성윤'],\n",
    "  '6조': ['이동건', '김현주', '황지원', '김미소'],\n",
    "  '7조': ['장재웅', '이송은', '황은혁', '박형준'],\n",
    "  '8조': ['안윤호', '이현종', '김아란', '김영주']}\n",
    "\n",
    "group2 = {'1조': ['이송은', '황은혁', '장재웅', '김경태'],\n",
    "  '2조': ['박형준', '김경환', '박지훈', '권도운'],\n",
    "  '3조': ['김아란', '한세진', '김현주', '김태헌'],\n",
    "  '4조': ['이현종', '이민하', '김도연', '조혜리'],\n",
    "  '5조': ['김미소', '김재성', '안효준', '황지원'],\n",
    "  '6조': ['이동건', '구성윤', '곽경민', '김영주'],\n",
    "  '7조': ['전민규', '김이현', '도영훈', '손지원'],\n",
    "  '8조': ['안윤호', '김민석', '김환선', '박란영']}"
   ]
  },
  {
   "cell_type": "markdown",
   "metadata": {},
   "source": [
    "### 전체 그룹 기록  \n",
    "ex) all_group = [group1, group2, ...]"
   ]
  },
  {
   "cell_type": "code",
   "execution_count": 5,
   "metadata": {},
   "outputs": [
    {
     "data": {
      "text/plain": [
       "{'1조': ['김도연', '박란영', '김현주', '구성윤'],\n",
       " '2조': ['박지훈', '황은혁', '김경태', '조혜리'],\n",
       " '3조': ['김영주', '김태헌', '이민하', '이동건'],\n",
       " '4조': ['이송은', '손지원', '한세진', '김경환'],\n",
       " '5조': ['김아란', '김재성', '권도운', '장재웅'],\n",
       " '6조': ['안윤호', '안효준', '이현종', '전민규'],\n",
       " '7조': ['도영훈', '황지원', '박형준', '김민석'],\n",
       " '8조': ['김미소', '김환선', '곽경민', '김이현']}"
      ]
     },
     "execution_count": 5,
     "metadata": {},
     "output_type": "execute_result"
    }
   ],
   "source": [
    "group = gm.generate_group()\n",
    "group"
   ]
  },
  {
   "cell_type": "code",
   "execution_count": 35,
   "metadata": {},
   "outputs": [],
   "source": [
    "group = {'1조': ['김도연', '박란영', '김현주', '구성윤'],\n",
    " '2조': ['박지훈', '황은혁', '김경태', '안윤호'],\n",
    " '3조': ['김영주', '김태헌', '이민하', '이동건'],\n",
    " '4조': ['이송은', '손지원', '한세진', '김경환'],\n",
    " '5조': ['김아란', '김재성', '권도운', '장재웅'],\n",
    " '6조': ['조혜리', '안효준', '이현종', '전민규'],\n",
    " '7조': ['도영훈', '황지원', '박형준', '김민석'],\n",
    " '8조': ['김미소', '김환선', '곽경민', '김이현']}"
   ]
  },
  {
   "cell_type": "code",
   "execution_count": 45,
   "metadata": {},
   "outputs": [],
   "source": [
    "def team_make():\n",
    "    while True:\n",
    "        group = gm.generate_group()\n",
    "        for i in group:\n",
    "            if ('조혜리' in group[i]) and ('안효준' in group[i]):\n",
    "                isOk = False\n",
    "                break\n",
    "            else:\n",
    "                isOk = True\n",
    "                continue\n",
    "\n",
    "        if isOk == True:\n",
    "            break\n",
    "\n",
    "    return group"
   ]
  },
  {
   "cell_type": "code",
   "execution_count": 47,
   "metadata": {},
   "outputs": [
    {
     "data": {
      "text/plain": [
       "{'1조': ['조혜리', '황지원', '김도연', '김태헌'],\n",
       " '2조': ['도영훈', '김경태', '안효준', '구성윤'],\n",
       " '3조': ['박란영', '김미소', '김민석', '이현종'],\n",
       " '4조': ['한세진', '김아란', '권도운', '박지훈'],\n",
       " '5조': ['안윤호', '이동건', '황은혁', '박형준'],\n",
       " '6조': ['김재성', '김이현', '전민규', '이송은'],\n",
       " '7조': ['김현주', '김환선', '손지원', '장재웅'],\n",
       " '8조': ['곽경민', '김영주', '이민하', '김경환']}"
      ]
     },
     "execution_count": 47,
     "metadata": {},
     "output_type": "execute_result"
    }
   ],
   "source": [
    "team_make()"
   ]
  },
  {
   "cell_type": "code",
   "execution_count": 17,
   "metadata": {},
   "outputs": [],
   "source": [
    "# 모든 프로젝트 그룹명 작성\n",
    "all_group = [group1, group2]"
   ]
  },
  {
   "cell_type": "markdown",
   "metadata": {},
   "source": [
    "중복 허용X"
   ]
  },
  {
   "cell_type": "code",
   "execution_count": 18,
   "metadata": {},
   "outputs": [
    {
     "data": {
      "text/plain": [
       "[{'1조': ['한세진', '김경환', '김경태', '이민하'],\n",
       "  '2조': ['조혜리', '김환선', '전민규', '안효준'],\n",
       "  '3조': ['김민석', '박란영', '김도연', '권도운'],\n",
       "  '4조': ['박지훈', '도영훈', '손지원', '김이현'],\n",
       "  '5조': ['김태헌', '김재성', '곽경민', '구성윤'],\n",
       "  '6조': ['이동건', '김현주', '황지원', '김미소'],\n",
       "  '7조': ['장재웅', '이송은', '황은혁', '박형준'],\n",
       "  '8조': ['안윤호', '이현종', '김아란', '김영주']},\n",
       " {'1조': ['전민규', '김이현', '황지원', '김아란'],\n",
       "  '2조': ['이동건', '이송은', '박지훈', '한세진'],\n",
       "  '3조': ['김경환', '김민석', '김재성', '김환선'],\n",
       "  '4조': ['김도연', '도영훈', '이현종', '김태헌'],\n",
       "  '5조': ['안윤호', '구성윤', '황은혁', '권도운'],\n",
       "  '6조': ['박형준', '조혜리', '이민하', '곽경민'],\n",
       "  '7조': ['김영주', '김현주', '박란영', '김경태'],\n",
       "  '8조': ['장재웅', '안효준', '손지원', '김미소']}]"
      ]
     },
     "execution_count": 18,
     "metadata": {},
     "output_type": "execute_result"
    }
   ],
   "source": [
    "gm.without_duplicates(all_group)"
   ]
  },
  {
   "cell_type": "code",
   "execution_count": 50,
   "metadata": {},
   "outputs": [
    {
     "data": {
      "text/plain": [
       "{'1조': ['김경환', '김민석', '권도운', '조혜리', '김아란'],\n",
       " '2조': ['장재웅', '김이현', '김재성', '황지원'],\n",
       " '3조': ['김현주', '손지원', '안효준', '박지훈'],\n",
       " '4조': ['전민규', '도영훈', '박형준', '김경태'],\n",
       " '5조': ['한세진', '이민하', '김환선', '이현종'],\n",
       " '6조': ['이동건', '김영주', '김도연', '박란영'],\n",
       " '7조': ['안윤호', '곽경민', '이송은', '김태헌']}"
      ]
     },
     "execution_count": 50,
     "metadata": {},
     "output_type": "execute_result"
    }
   ],
   "source": [
    "import group_make2\n",
    "group_make2.generate_group()"
   ]
  },
  {
   "cell_type": "code",
   "execution_count": null,
   "metadata": {},
   "outputs": [],
   "source": []
  }
 ],
 "metadata": {
  "kernelspec": {
   "display_name": "Python 3",
   "language": "python",
   "name": "python3"
  },
  "language_info": {
   "codemirror_mode": {
    "name": "ipython",
    "version": 3
   },
   "file_extension": ".py",
   "mimetype": "text/x-python",
   "name": "python",
   "nbconvert_exporter": "python",
   "pygments_lexer": "ipython3",
   "version": "3.11.9"
  }
 },
 "nbformat": 4,
 "nbformat_minor": 2
}
