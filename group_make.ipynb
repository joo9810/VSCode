{
 "cells": [
  {
   "cell_type": "code",
   "execution_count": 15,
   "metadata": {},
   "outputs": [],
   "source": [
    "import group_make as gm"
   ]
  },
  {
   "cell_type": "markdown",
   "metadata": {},
   "source": [
    "### 그룹 기록  \n",
    "ex)  \n",
    "group1 =  \n",
    "group2 =  \n",
    "..."
   ]
  },
  {
   "cell_type": "code",
   "execution_count": 16,
   "metadata": {},
   "outputs": [],
   "source": [
    "group1 = {'1조': ['한세진', '김경환', '김경태', '이민하'],\n",
    "  '2조': ['조혜리', '김환선', '전민규', '안효준'],\n",
    "  '3조': ['김민석', '박란영', '김도연', '권도운'],\n",
    "  '4조': ['박지훈', '도영훈', '손지원', '김이현'],\n",
    "  '5조': ['김태헌', '김재성', '곽경민', '구성윤'],\n",
    "  '6조': ['이동건', '김현주', '황지원', '김미소'],\n",
    "  '7조': ['장재웅', '이송은', '황은혁', '박형준'],\n",
    "  '8조': ['안윤호', '이현종', '김아란', '김영주']}\n",
    "\n",
    "group2 = {'1조': ['이송은', '황은혁', '장재웅', '김경태'],\n",
    "  '2조': ['박형준', '김경환', '박지훈', '권도운'],\n",
    "  '3조': ['김아란', '한세진', '김현주', '김태헌'],\n",
    "  '4조': ['이현종', '이민하', '김도연', '조혜리'],\n",
    "  '5조': ['김미소', '김재성', '안효준', '황지원'],\n",
    "  '6조': ['이동건', '구성윤', '곽경민', '김영주'],\n",
    "  '7조': ['전민규', '김이현', '도영훈', '손지원'],\n",
    "  '8조': ['안윤호', '김민석', '김환선', '박란영']}"
   ]
  },
  {
   "cell_type": "markdown",
   "metadata": {},
   "source": [
    "### 전체 그룹 기록  \n",
    "ex) all_group = [group1, group2, ...]"
   ]
  },
  {
   "cell_type": "code",
   "execution_count": 17,
   "metadata": {},
   "outputs": [],
   "source": [
    "# 모든 프로젝트 그룹명 작성\n",
    "all_group1 = [group1]\n",
    "all_group2 = []"
   ]
  },
  {
   "cell_type": "markdown",
   "metadata": {},
   "source": [
    "중복 허용X"
   ]
  },
  {
   "cell_type": "code",
   "execution_count": 18,
   "metadata": {},
   "outputs": [
    {
     "data": {
      "text/plain": [
       "[{'1조': ['한세진', '김경환', '김경태', '이민하'],\n",
       "  '2조': ['조혜리', '김환선', '전민규', '안효준'],\n",
       "  '3조': ['김민석', '박란영', '김도연', '권도운'],\n",
       "  '4조': ['박지훈', '도영훈', '손지원', '김이현'],\n",
       "  '5조': ['김태헌', '김재성', '곽경민', '구성윤'],\n",
       "  '6조': ['이동건', '김현주', '황지원', '김미소'],\n",
       "  '7조': ['장재웅', '이송은', '황은혁', '박형준'],\n",
       "  '8조': ['안윤호', '이현종', '김아란', '김영주']},\n",
       " {'1조': ['전민규', '김이현', '황지원', '김아란'],\n",
       "  '2조': ['이동건', '이송은', '박지훈', '한세진'],\n",
       "  '3조': ['김경환', '김민석', '김재성', '김환선'],\n",
       "  '4조': ['김도연', '도영훈', '이현종', '김태헌'],\n",
       "  '5조': ['안윤호', '구성윤', '황은혁', '권도운'],\n",
       "  '6조': ['박형준', '조혜리', '이민하', '곽경민'],\n",
       "  '7조': ['김영주', '김현주', '박란영', '김경태'],\n",
       "  '8조': ['장재웅', '안효준', '손지원', '김미소']}]"
      ]
     },
     "execution_count": 18,
     "metadata": {},
     "output_type": "execute_result"
    }
   ],
   "source": [
    "gm.without_duplicates(all_group1)"
   ]
  },
  {
   "cell_type": "markdown",
   "metadata": {},
   "source": [
    "중복 허용O"
   ]
  },
  {
   "cell_type": "code",
   "execution_count": 19,
   "metadata": {},
   "outputs": [
    {
     "data": {
      "text/plain": [
       "[{'1조': ['이송은', '황은혁', '장재웅', '김경태'],\n",
       "  '2조': ['박형준', '김경환', '박지훈', '권도운'],\n",
       "  '3조': ['김아란', '한세진', '김현주', '김태헌'],\n",
       "  '4조': ['이현종', '이민하', '김도연', '조혜리'],\n",
       "  '5조': ['김미소', '김재성', '안효준', '황지원'],\n",
       "  '6조': ['이동건', '구성윤', '곽경민', '김영주'],\n",
       "  '7조': ['전민규', '김이현', '도영훈', '손지원'],\n",
       "  '8조': ['안윤호', '김민석', '김환선', '박란영']}]"
      ]
     },
     "execution_count": 19,
     "metadata": {},
     "output_type": "execute_result"
    }
   ],
   "source": [
    "gm.without_duplicates(all_group2)"
   ]
  }
 ],
 "metadata": {
  "kernelspec": {
   "display_name": "Python 3",
   "language": "python",
   "name": "python3"
  },
  "language_info": {
   "codemirror_mode": {
    "name": "ipython",
    "version": 3
   },
   "file_extension": ".py",
   "mimetype": "text/x-python",
   "name": "python",
   "nbconvert_exporter": "python",
   "pygments_lexer": "ipython3",
   "version": "3.9.19"
  }
 },
 "nbformat": 4,
 "nbformat_minor": 2
}
