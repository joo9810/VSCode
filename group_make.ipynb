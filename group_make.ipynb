{
 "cells": [
  {
   "cell_type": "code",
   "execution_count": 2,
   "metadata": {},
   "outputs": [],
   "source": [
    "import group_make as gm"
   ]
  },
  {
   "cell_type": "markdown",
   "metadata": {},
   "source": [
    "### 그룹 기록  \n",
    "ex)  \n",
    "group1 =  \n",
    "group2 =  \n",
    "..."
   ]
  },
  {
   "cell_type": "code",
   "execution_count": 48,
   "metadata": {},
   "outputs": [],
   "source": [
    "group1 = {'1조': ['한세진', '김경환', '김경태', '이민하'],\n",
    "  '2조': ['조혜리', '김환선', '전민규', '안효준'],\n",
    "  '3조': ['김민석', '박란영', '김도연', '권도운'],\n",
    "  '4조': ['박지훈', '도영훈', '손지원', '김이현'],\n",
    "  '5조': ['김태헌', '김재성', '곽경민', '구성윤'],\n",
    "  '6조': ['이동건', '김현주', '황지원', '김미소'],\n",
    "  '7조': ['장재웅', '이송은', '황은혁', '박형준'],\n",
    "  '8조': ['안윤호', '이현종', '김아란', '김영주']}\n",
    "\n",
    "group2 = {'1조': ['이송은', '황은혁', '장재웅', '김경태'],\n",
    "  '2조': ['박형준', '김경환', '박지훈', '권도운'],\n",
    "  '3조': ['김아란', '한세진', '김현주', '김태헌'],\n",
    "  '4조': ['이현종', '이민하', '김도연', '조혜리'],\n",
    "  '5조': ['김미소', '김재성', '안효준', '황지원'],\n",
    "  '6조': ['이동건', '구성윤', '곽경민', '김영주'],\n",
    "  '7조': ['전민규', '김이현', '도영훈', '손지원'],\n",
    "  '8조': ['안윤호', '김민석', '김환선', '박란영']}"
   ]
  },
  {
   "cell_type": "markdown",
   "metadata": {},
   "source": [
    "### 전체 그룹 기록  \n",
    "ex) all_group = [group1, group2, ...]"
   ]
  },
  {
   "cell_type": "code",
   "execution_count": 5,
   "metadata": {},
   "outputs": [
    {
     "data": {
      "text/plain": [
       "{'1조': ['김도연', '박란영', '김현주', '구성윤'],\n",
       " '2조': ['박지훈', '황은혁', '김경태', '조혜리'],\n",
       " '3조': ['김영주', '김태헌', '이민하', '이동건'],\n",
       " '4조': ['이송은', '손지원', '한세진', '김경환'],\n",
       " '5조': ['김아란', '김재성', '권도운', '장재웅'],\n",
       " '6조': ['안윤호', '안효준', '이현종', '전민규'],\n",
       " '7조': ['도영훈', '황지원', '박형준', '김민석'],\n",
       " '8조': ['김미소', '김환선', '곽경민', '김이현']}"
      ]
     },
     "execution_count": 5,
     "metadata": {},
     "output_type": "execute_result"
    }
   ],
   "source": [
    "group = gm.generate_group()\n",
    "group"
   ]
  },
  {
   "cell_type": "code",
   "execution_count": 35,
   "metadata": {},
   "outputs": [],
   "source": [
    "group = {'1조': ['김도연', '박란영', '김현주', '구성윤'],\n",
    " '2조': ['박지훈', '황은혁', '김경태', '안윤호'],\n",
    " '3조': ['김영주', '김태헌', '이민하', '이동건'],\n",
    " '4조': ['이송은', '손지원', '한세진', '김경환'],\n",
    " '5조': ['김아란', '김재성', '권도운', '장재웅'],\n",
    " '6조': ['조혜리', '안효준', '이현종', '전민규'],\n",
    " '7조': ['도영훈', '황지원', '박형준', '김민석'],\n",
    " '8조': ['김미소', '김환선', '곽경민', '김이현']}"
   ]
  },
  {
   "cell_type": "code",
   "execution_count": 45,
   "metadata": {},
   "outputs": [],
   "source": [
    "def team_make():\n",
    "    while True:\n",
    "        group = gm.generate_group()\n",
    "        for i in group:\n",
    "            if ('조혜리' in group[i]) and ('안효준' in group[i]):\n",
    "                isOk = False\n",
    "                break\n",
    "            else:\n",
    "                isOk = True\n",
    "                continue\n",
    "\n",
    "        if isOk == True:\n",
    "            break\n",
    "\n",
    "    return group"
   ]
  },
  {
   "cell_type": "code",
   "execution_count": 47,
   "metadata": {},
   "outputs": [
    {
     "data": {
      "text/plain": [
       "{'1조': ['조혜리', '황지원', '김도연', '김태헌'],\n",
       " '2조': ['도영훈', '김경태', '안효준', '구성윤'],\n",
       " '3조': ['박란영', '김미소', '김민석', '이현종'],\n",
       " '4조': ['한세진', '김아란', '권도운', '박지훈'],\n",
       " '5조': ['안윤호', '이동건', '황은혁', '박형준'],\n",
       " '6조': ['김재성', '김이현', '전민규', '이송은'],\n",
       " '7조': ['김현주', '김환선', '손지원', '장재웅'],\n",
       " '8조': ['곽경민', '김영주', '이민하', '김경환']}"
      ]
     },
     "execution_count": 47,
     "metadata": {},
     "output_type": "execute_result"
    }
   ],
   "source": [
    "team_make()"
   ]
  },
  {
   "cell_type": "code",
   "execution_count": 17,
   "metadata": {},
   "outputs": [],
   "source": [
    "# 모든 프로젝트 그룹명 작성\n",
    "all_group = [group1, group2]"
   ]
  },
  {
   "cell_type": "markdown",
   "metadata": {},
   "source": [
    "중복 허용X"
   ]
  },
  {
   "cell_type": "code",
   "execution_count": 18,
   "metadata": {},
   "outputs": [
    {
     "data": {
      "text/plain": [
       "[{'1조': ['한세진', '김경환', '김경태', '이민하'],\n",
       "  '2조': ['조혜리', '김환선', '전민규', '안효준'],\n",
       "  '3조': ['김민석', '박란영', '김도연', '권도운'],\n",
       "  '4조': ['박지훈', '도영훈', '손지원', '김이현'],\n",
       "  '5조': ['김태헌', '김재성', '곽경민', '구성윤'],\n",
       "  '6조': ['이동건', '김현주', '황지원', '김미소'],\n",
       "  '7조': ['장재웅', '이송은', '황은혁', '박형준'],\n",
       "  '8조': ['안윤호', '이현종', '김아란', '김영주']},\n",
       " {'1조': ['전민규', '김이현', '황지원', '김아란'],\n",
       "  '2조': ['이동건', '이송은', '박지훈', '한세진'],\n",
       "  '3조': ['김경환', '김민석', '김재성', '김환선'],\n",
       "  '4조': ['김도연', '도영훈', '이현종', '김태헌'],\n",
       "  '5조': ['안윤호', '구성윤', '황은혁', '권도운'],\n",
       "  '6조': ['박형준', '조혜리', '이민하', '곽경민'],\n",
       "  '7조': ['김영주', '김현주', '박란영', '김경태'],\n",
       "  '8조': ['장재웅', '안효준', '손지원', '김미소']}]"
      ]
     },
     "execution_count": 18,
     "metadata": {},
     "output_type": "execute_result"
    }
   ],
   "source": [
    "gm.without_duplicates(all_group)"
   ]
  },
  {
   "cell_type": "code",
   "execution_count": 6,
   "metadata": {},
   "outputs": [],
   "source": [
    "student_list = ['박란영', '조혜리', '전민규', '안효준', '김경태', '김태헌', '구성윤', '황은혁',\n",
    "                '김경환', '곽경민', '김재성', '도영훈', '한세진', '이민하', '장재웅', '이현종',\n",
    "                '박형준', '손지원', '황지원', '김환선', '김민석', '이동건', '김영주', '안윤호',\n",
    "                '김미소', '김아란', '김도연', '권도운', '김이현', '김현주', '이송은', '박지훈']\n",
    "\n",
    "def ck(group):\n",
    "    for i in group:\n",
    "        if (student_list[1] in group[i]) and (student_list[3] in group[i]):\n",
    "            return False\n",
    "    return True"
   ]
  },
  {
   "cell_type": "code",
   "execution_count": 1,
   "metadata": {},
   "outputs": [
    {
     "ename": "IndexError",
     "evalue": "pop index out of range",
     "output_type": "error",
     "traceback": [
      "\u001b[1;31m---------------------------------------------------------------------------\u001b[0m",
      "\u001b[1;31mIndexError\u001b[0m                                Traceback (most recent call last)",
      "Cell \u001b[1;32mIn[1], line 2\u001b[0m\n\u001b[0;32m      1\u001b[0m \u001b[38;5;28;01mimport\u001b[39;00m \u001b[38;5;21;01mgroup_make2\u001b[39;00m\n\u001b[1;32m----> 2\u001b[0m \u001b[43mgroup_make2\u001b[49m\u001b[38;5;241;43m.\u001b[39;49m\u001b[43mgenerate_group\u001b[49m\u001b[43m(\u001b[49m\u001b[43m)\u001b[49m\n",
      "File \u001b[1;32mc:\\VSCode-1\\group_make2.py:18\u001b[0m, in \u001b[0;36mgenerate_group\u001b[1;34m()\u001b[0m\n\u001b[0;32m     16\u001b[0m     \u001b[38;5;28;01mfor\u001b[39;00m j \u001b[38;5;129;01min\u001b[39;00m \u001b[38;5;28mrange\u001b[39m(\u001b[38;5;241m4\u001b[39m):\n\u001b[0;32m     17\u001b[0m         idx \u001b[38;5;241m=\u001b[39m random\u001b[38;5;241m.\u001b[39mchoice(\u001b[38;5;28mrange\u001b[39m(\u001b[38;5;241m29\u001b[39m\u001b[38;5;241m-\u001b[39m(i\u001b[38;5;241m*\u001b[39m\u001b[38;5;241m4\u001b[39m\u001b[38;5;241m+\u001b[39mj))) \u001b[38;5;66;03m# 학생 한 명을 뽑을때마다 리스트 길이가 1씩 줄어듦\u001b[39;00m\n\u001b[1;32m---> 18\u001b[0m         group_list\u001b[38;5;241m.\u001b[39mappend(student\u001b[38;5;241m.\u001b[39mpop(idx)) \u001b[38;5;66;03m# pop을 사용해서 비복원 추출\u001b[39;00m\n\u001b[0;32m     19\u001b[0m     group_dict[\u001b[38;5;124mf\u001b[39m\u001b[38;5;124m'\u001b[39m\u001b[38;5;132;01m{\u001b[39;00mi\u001b[38;5;241m+\u001b[39m\u001b[38;5;241m1\u001b[39m\u001b[38;5;132;01m}\u001b[39;00m\u001b[38;5;124m조\u001b[39m\u001b[38;5;124m'\u001b[39m] \u001b[38;5;241m=\u001b[39m group_list \u001b[38;5;66;03m# 딕셔너리에 저장\u001b[39;00m\n\u001b[0;32m     21\u001b[0m number \u001b[38;5;241m=\u001b[39m random\u001b[38;5;241m.\u001b[39mchoice(\u001b[38;5;28mrange\u001b[39m(\u001b[38;5;241m1\u001b[39m, \u001b[38;5;241m8\u001b[39m))\n",
      "\u001b[1;31mIndexError\u001b[0m: pop index out of range"
     ]
    }
   ],
   "source": [
    "import group_make2\n",
    "group_make2.generate_group()"
   ]
  },
  {
   "cell_type": "code",
   "execution_count": null,
   "metadata": {},
   "outputs": [],
   "source": []
  }
 ],
 "metadata": {
  "kernelspec": {
   "display_name": "Python 3",
   "language": "python",
   "name": "python3"
  },
  "language_info": {
   "codemirror_mode": {
    "name": "ipython",
    "version": 3
   },
   "file_extension": ".py",
   "mimetype": "text/x-python",
   "name": "python",
   "nbconvert_exporter": "python",
   "pygments_lexer": "ipython3",
   "version": "3.11.9"
  }
 },
 "nbformat": 4,
 "nbformat_minor": 2
}
