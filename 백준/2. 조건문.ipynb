{
 "cells": [
  {
   "cell_type": "code",
   "execution_count": 3,
   "metadata": {},
   "outputs": [
    {
     "name": "stdout",
     "output_type": "stream",
     "text": [
      "==\n"
     ]
    }
   ],
   "source": [
    "# 1330번 두 수 비교하기\n",
    "A, B = map(int, input().split())\n",
    "if A > B: print('>')\n",
    "elif A < B: print('<')\n",
    "else: print('==')"
   ]
  },
  {
   "cell_type": "code",
   "execution_count": 5,
   "metadata": {},
   "outputs": [
    {
     "name": "stdout",
     "output_type": "stream",
     "text": [
      "A\n"
     ]
    }
   ],
   "source": [
    "# 9498번 시험 성적\n",
    "A = int(input())\n",
    "if 90 <= A <= 100: print('A')\n",
    "elif 80 <= A <= 89: print('B')\n",
    "elif 70 <= A <= 79: print('C')\n",
    "elif 60 <= A <= 69: print('D')\n",
    "else: print('F')"
   ]
  },
  {
   "cell_type": "code",
   "execution_count": 10,
   "metadata": {},
   "outputs": [
    {
     "name": "stdout",
     "output_type": "stream",
     "text": [
      "0\n"
     ]
    }
   ],
   "source": [
    "# 2753번 윤년\n",
    "A = int(input())\n",
    "if (A%4==0) and (A%100!=0 or A%400==0): print(1)\n",
    "else: print(0)"
   ]
  },
  {
   "cell_type": "code",
   "execution_count": 12,
   "metadata": {},
   "outputs": [
    {
     "name": "stdout",
     "output_type": "stream",
     "text": [
      "4\n"
     ]
    }
   ],
   "source": [
    "# 14681번 사분면 고르기\n",
    "x = int(input())\n",
    "y = int(input())\n",
    "if x > 0 and y > 0: print(1)\n",
    "elif x < 0 and y > 0: print(2)\n",
    "elif x < 0 and y < 0: print(3)\n",
    "else: print(4)"
   ]
  },
  {
   "cell_type": "code",
   "execution_count": 23,
   "metadata": {},
   "outputs": [
    {
     "name": "stdout",
     "output_type": "stream",
     "text": [
      "22 55\n"
     ]
    }
   ],
   "source": [
    "# 2884번 알람 시계\n",
    "H, M = map(int, input().split())\n",
    "total = (60*H + M) - 45\n",
    "if total//60 < 0: print(24 + (total//60), total%60)\n",
    "else: print(total//60, total%60)"
   ]
  },
  {
   "cell_type": "code",
   "execution_count": 28,
   "metadata": {},
   "outputs": [
    {
     "name": "stdout",
     "output_type": "stream",
     "text": [
      "0 13\n"
     ]
    }
   ],
   "source": [
    "# 2525번 오븐 시계\n",
    "A, B = map(int, input().split())\n",
    "C = int(input())\n",
    "total = A*60 + B + C\n",
    "if total//60 > 23:\n",
    "    print(total//60 - 24, total%60)\n",
    "else:\n",
    "    print(total//60, total%60)"
   ]
  },
  {
   "cell_type": "code",
   "execution_count": 41,
   "metadata": {},
   "outputs": [
    {
     "name": "stdout",
     "output_type": "stream",
     "text": [
      "600\n"
     ]
    }
   ],
   "source": [
    "# 2480번 주사위 세개\n",
    "A, B, C = map(int, input().split())\n",
    "if A == B == C: print(10000 + A*1000)\n",
    "elif A == B: print(1000 + A*100)\n",
    "elif A == C: print(1000 + A*100)\n",
    "elif B == C: print(1000 + B*100)\n",
    "else: print(max(A, B, C)*100)"
   ]
  }
 ],
 "metadata": {
  "kernelspec": {
   "display_name": "TORCH_38",
   "language": "python",
   "name": "python3"
  },
  "language_info": {
   "codemirror_mode": {
    "name": "ipython",
    "version": 3
   },
   "file_extension": ".py",
   "mimetype": "text/x-python",
   "name": "python",
   "nbconvert_exporter": "python",
   "pygments_lexer": "ipython3",
   "version": "3.8.19"
  }
 },
 "nbformat": 4,
 "nbformat_minor": 2
}
