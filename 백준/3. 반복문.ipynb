{
 "cells": [
  {
   "cell_type": "code",
   "execution_count": 3,
   "metadata": {},
   "outputs": [
    {
     "name": "stdout",
     "output_type": "stream",
     "text": [
      "2 * 1 = 2\n",
      "2 * 2 = 4\n",
      "2 * 3 = 6\n",
      "2 * 4 = 8\n",
      "2 * 5 = 10\n",
      "2 * 6 = 12\n",
      "2 * 7 = 14\n",
      "2 * 8 = 16\n",
      "2 * 9 = 18\n"
     ]
    }
   ],
   "source": [
    "# 2739번 구구단\n",
    "N = int(input())\n",
    "for i in range(1, 10): print(f\"{N} * {i} = {N*i}\")"
   ]
  },
  {
   "cell_type": "code",
   "execution_count": 4,
   "metadata": {},
   "outputs": [
    {
     "name": "stdout",
     "output_type": "stream",
     "text": [
      "2\n",
      "5\n",
      "7\n",
      "17\n",
      "7\n"
     ]
    }
   ],
   "source": [
    "# 10950번 A+B - 3\n",
    "T = int(input())\n",
    "for i in range(T):\n",
    "    A, B = map(int, input().split())\n",
    "    print(A+B)"
   ]
  },
  {
   "cell_type": "code",
   "execution_count": 8,
   "metadata": {},
   "outputs": [
    {
     "name": "stdout",
     "output_type": "stream",
     "text": [
      "5050\n"
     ]
    }
   ],
   "source": [
    "# 8393번 합\n",
    "n = int(input())\n",
    "total = 0\n",
    "for i in range(1, n+1):\n",
    "    total += i\n",
    "print(total)"
   ]
  },
  {
   "cell_type": "code",
   "execution_count": 15,
   "metadata": {},
   "outputs": [
    {
     "name": "stdout",
     "output_type": "stream",
     "text": [
      "Yes\n"
     ]
    }
   ],
   "source": [
    "# 25304번 영수증\n",
    "X = int(input())\n",
    "N = int(input())\n",
    "total = 0\n",
    "for i in range(N):\n",
    "    A, B = map(int, input().split())\n",
    "    total += (A*B)\n",
    "if X == total: print('Yes')\n",
    "else: print('No')"
   ]
  },
  {
   "cell_type": "code",
   "execution_count": 23,
   "metadata": {},
   "outputs": [
    {
     "name": "stdout",
     "output_type": "stream",
     "text": [
      "long long long long long int\n"
     ]
    }
   ],
   "source": [
    "# 25314번 코딩은 체육과목 입니다\n",
    "N = int(input())\n",
    "repeat = int(N/4)\n",
    "print('long '*repeat + 'int')"
   ]
  },
  {
   "cell_type": "code",
   "execution_count": 35,
   "metadata": {},
   "outputs": [
    {
     "name": "stdout",
     "output_type": "stream",
     "text": [
      "2\n",
      "46\n",
      "505\n",
      "100\n",
      "2000\n"
     ]
    }
   ],
   "source": [
    "import sys\n",
    "K = int(input())\n",
    "for i in range(K):\n",
    "    A, B = map(int, input().split())\n",
    "    print(A + B)"
   ]
  },
  {
   "cell_type": "code",
   "execution_count": 37,
   "metadata": {},
   "outputs": [
    {
     "name": "stdout",
     "output_type": "stream",
     "text": [
      "2\n",
      "46\n",
      "505\n",
      "100\n",
      "2000\n"
     ]
    }
   ],
   "source": [
    "# 15552번 빠른 A+B\n",
    "import sys\n",
    "T = int(input())\n",
    "# T = int(sys.stdin.readline().rstrip())\n",
    "for i in range(T):\n",
    "    A, B = map(int, input().split())\n",
    "    # A, B = map(int, sys.stdin.readline().rstrip().split())\n",
    "    print(A + B)"
   ]
  },
  {
   "cell_type": "code",
   "execution_count": 1,
   "metadata": {},
   "outputs": [
    {
     "name": "stdout",
     "output_type": "stream",
     "text": [
      "Case #1: 2\n",
      "Case #2: 5\n",
      "Case #3: 7\n",
      "Case #4: 17\n",
      "Case #5: 7\n"
     ]
    }
   ],
   "source": [
    "# 11021번 A+B - 7\n",
    "T = int(input())\n",
    "for i in range(T):\n",
    "    A, B = map(int, input().split())\n",
    "    print(f'Case #{i+1}: {A+B}')"
   ]
  },
  {
   "cell_type": "code",
   "execution_count": 2,
   "metadata": {},
   "outputs": [
    {
     "name": "stdout",
     "output_type": "stream",
     "text": [
      "Case #1: 1 + 1 = 2\n",
      "Case #2: 2 + 3 = 5\n",
      "Case #3: 3 + 4 = 7\n",
      "Case #4: 9 + 8 = 17\n",
      "Case #5: 5 + 2 = 7\n"
     ]
    }
   ],
   "source": [
    "# 11022번 A+B - 8\n",
    "T = int(input())\n",
    "for i in range(T):\n",
    "    A, B = map(int, input().split())\n",
    "    print(f'Case #{i+1}: {A} + {B} = {A+B}')"
   ]
  },
  {
   "cell_type": "code",
   "execution_count": 3,
   "metadata": {},
   "outputs": [
    {
     "name": "stdout",
     "output_type": "stream",
     "text": [
      "*\n",
      "**\n",
      "***\n",
      "****\n",
      "*****\n"
     ]
    }
   ],
   "source": [
    "# 2438번 별 찍기 - 1\n",
    "N = int(input())\n",
    "for i in range(N):\n",
    "    print('*'*(i+1))"
   ]
  },
  {
   "cell_type": "code",
   "execution_count": 5,
   "metadata": {},
   "outputs": [
    {
     "name": "stdout",
     "output_type": "stream",
     "text": [
      "    *\n",
      "   **\n",
      "  ***\n",
      " ****\n",
      "*****\n"
     ]
    }
   ],
   "source": [
    "# 2439번 별 찍기 - 2\n",
    "N = int(input())\n",
    "for i in range(1, N+1):\n",
    "    print(' '*(N-i) + '*'*(i))"
   ]
  },
  {
   "cell_type": "code",
   "execution_count": 7,
   "metadata": {},
   "outputs": [
    {
     "name": "stdout",
     "output_type": "stream",
     "text": [
      "2\n",
      "5\n",
      "7\n",
      "17\n",
      "7\n"
     ]
    }
   ],
   "source": [
    "# 10952번 A+B - 5\n",
    "while True:\n",
    "    A, B = map(int, input().split())\n",
    "    if A == B == 0:\n",
    "        break\n",
    "    else:\n",
    "        print(A + B)"
   ]
  },
  {
   "cell_type": "code",
   "execution_count": 9,
   "metadata": {},
   "outputs": [
    {
     "name": "stdout",
     "output_type": "stream",
     "text": [
      "2\n",
      "5\n",
      "7\n",
      "17\n",
      "7\n"
     ]
    }
   ],
   "source": [
    "# 10951번 A+B - 4\n",
    "while True:\n",
    "    try:\n",
    "        A, B = map(int, input().split())\n",
    "        print(A + B)\n",
    "    except:\n",
    "        break"
   ]
  },
  {
   "cell_type": "code",
   "execution_count": null,
   "metadata": {},
   "outputs": [],
   "source": []
  }
 ],
 "metadata": {
  "kernelspec": {
   "display_name": "TORCH_38",
   "language": "python",
   "name": "python3"
  },
  "language_info": {
   "codemirror_mode": {
    "name": "ipython",
    "version": 3
   },
   "file_extension": ".py",
   "mimetype": "text/x-python",
   "name": "python",
   "nbconvert_exporter": "python",
   "pygments_lexer": "ipython3",
   "version": "3.8.19"
  }
 },
 "nbformat": 4,
 "nbformat_minor": 2
}
