{
 "cells": [
  {
   "cell_type": "code",
   "execution_count": 6,
   "metadata": {},
   "outputs": [
    {
     "name": "stdout",
     "output_type": "stream",
     "text": [
      "         ,r'\"7\n",
      "r`-_   ,'  ,/\n",
      " \\. \". L_r'\n",
      "   `~\\/\n",
      "      |\n",
      "      |\n"
     ]
    }
   ],
   "source": [
    "# 25083번 새싹\n",
    "print('         ,r\\'\\\"7')\n",
    "print('r`-_   ,\\'  ,/')\n",
    "print(' \\. \". L_r\\'')\n",
    "print('   `~\\/')\n",
    "print('      |')\n",
    "print('      |')"
   ]
  },
  {
   "cell_type": "code",
   "execution_count": 10,
   "metadata": {},
   "outputs": [
    {
     "name": "stdout",
     "output_type": "stream",
     "text": [
      "-1 0 0 1 0 7 "
     ]
    }
   ],
   "source": [
    "# 3003번 킹, 퀸, 룩, 비숍, 나이트, 폰\n",
    "a = [1, 1, 2, 2, 2, 8]\n",
    "b = list(map(int, input().split()))\n",
    "for i in range(len(a)):\n",
    "    print(a[i]-b[i],end=' ')"
   ]
  },
  {
   "cell_type": "code",
   "execution_count": 48,
   "metadata": {},
   "outputs": [
    {
     "name": "stdout",
     "output_type": "stream",
     "text": [
      "    *\n",
      "   ***\n",
      "  *****\n",
      " *******\n",
      "*********\n",
      " *******\n",
      "  *****\n",
      "   ***\n",
      "    *\n"
     ]
    }
   ],
   "source": [
    "# 2444번 별 찍기 - 7\n",
    "a = int(input())\n",
    "for i in range(a*2-1):\n",
    "    if i < a:\n",
    "        print(' '*(a-1-i) + '*'*(i*2+1))\n",
    "    else:\n",
    "        print(' '*(i-(a-1)) + '*'*((a*2-1)*2-2*i-1))"
   ]
  },
  {
   "cell_type": "code",
   "execution_count": 182,
   "metadata": {},
   "outputs": [
    {
     "name": "stdout",
     "output_type": "stream",
     "text": [
      "0\n"
     ]
    }
   ],
   "source": [
    "# 10988번 팰린드롬인지 확인하기\n",
    "a = input()\n",
    "if a == ''.join(list(reversed(a))):\n",
    "    print(1)\n",
    "else:\n",
    "    print(0)"
   ]
  },
  {
   "cell_type": "code",
   "execution_count": 192,
   "metadata": {},
   "outputs": [
    {
     "name": "stdout",
     "output_type": "stream",
     "text": [
      "A\n"
     ]
    }
   ],
   "source": [
    "# 1157번 단어 공부\n",
    "a = input().lower()\n",
    "unique_dict = {key : 0 for key in list(set(a))}\n",
    "for i in a:\n",
    "    if i in unique_dict.keys():\n",
    "        unique_dict[i] += 1\n",
    "sorted_unique_list = sorted(unique_dict.items(),\n",
    "                            key = lambda x : x[1], reverse = True)\n",
    "if len(sorted_unique_list) >= 2:\n",
    "    if sorted_unique_list[0][1] == sorted_unique_list[1][1]:\n",
    "        print('?')\n",
    "    else:\n",
    "        print(sorted_unique_list[0][0].upper())\n",
    "else:\n",
    "    print(sorted_unique_list[0][0].upper())"
   ]
  },
  {
   "cell_type": "code",
   "execution_count": 216,
   "metadata": {},
   "outputs": [
    {
     "name": "stdout",
     "output_type": "stream",
     "text": [
      "3\n"
     ]
    }
   ],
   "source": [
    "# 2941번 크로아티아 알파벳 (어려움)\n",
    "a = input()\n",
    "croatia = ['c=','c-','dz=','d-','lj','nj','s=','z=']\n",
    "unique_list = []\n",
    "while True:\n",
    "    changed = False\n",
    "    for i in croatia:\n",
    "        if i in a:\n",
    "            unique_list.append(i)\n",
    "            a = a.replace(i,' ',1)\n",
    "            changed = True\n",
    "            break\n",
    "    if changed == False:\n",
    "        break\n",
    "print(len(unique_list)+len(a.replace(' ','')))"
   ]
  },
  {
   "cell_type": "code",
   "execution_count": 150,
   "metadata": {},
   "outputs": [
    {
     "name": "stdout",
     "output_type": "stream",
     "text": [
      "2\n"
     ]
    }
   ],
   "source": [
    "# 1316번 그룹 단어 체커 (어려움)\n",
    "N = int(input())\n",
    "group = 0\n",
    "for i in range(N):\n",
    "    a = input()\n",
    "    unique_dict = {key : [] for key in list(set(a))}\n",
    "    for i in range(len(a)):\n",
    "        unique_dict[a[i]].append(i)\n",
    "    total = 0\n",
    "    for j in unique_dict.values():\n",
    "        if len(j) == 2:\n",
    "            if j[0]+1 == j[1]:\n",
    "                total +=1\n",
    "        elif len(j) >= 3: \n",
    "            sequenced = True\n",
    "            for k in range(len(j)-1):\n",
    "                if j[k]+1 != j[k+1]:\n",
    "                    sequenced = False\n",
    "            if sequenced == True:\n",
    "                total += 1\n",
    "        else:\n",
    "            total += 1\n",
    "    if total == len(unique_dict.values()):\n",
    "        group += 1\n",
    "print(group)"
   ]
  },
  {
   "cell_type": "code",
   "execution_count": 174,
   "metadata": {},
   "outputs": [
    {
     "name": "stdout",
     "output_type": "stream",
     "text": [
      "0.0\n"
     ]
    }
   ],
   "source": [
    "# 25206번 너의 평점은 (어려움)\n",
    "a, b = [], []\n",
    "total = 0\n",
    "PF_score = 0\n",
    "for i in range(20):\n",
    "    _,A,B = input().split()\n",
    "    a.append(float(A))\n",
    "    b.append(B)\n",
    "for i in range(20):\n",
    "    if b[i] == 'A+': total += a[i]*4.5\n",
    "    elif b[i] == 'A0': total += a[i]*4.0\n",
    "    elif b[i] == 'B+': total += a[i]*3.5\n",
    "    elif b[i] == 'B0': total += a[i]*3.0\n",
    "    elif b[i] == 'C+': total += a[i]*2.5\n",
    "    elif b[i] == 'C0': total += a[i]*2.0\n",
    "    elif b[i] == 'D+': total += a[i]*1.5\n",
    "    elif b[i] == 'D0': total += a[i]*1.0\n",
    "    elif b[i] == 'P': PF_score += a[i]\n",
    "\n",
    "print(total/(sum(a)-PF_score))"
   ]
  },
  {
   "cell_type": "code",
   "execution_count": null,
   "metadata": {},
   "outputs": [],
   "source": []
  }
 ],
 "metadata": {
  "kernelspec": {
   "display_name": "Python 3",
   "language": "python",
   "name": "python3"
  },
  "language_info": {
   "codemirror_mode": {
    "name": "ipython",
    "version": 3
   },
   "file_extension": ".py",
   "mimetype": "text/x-python",
   "name": "python",
   "nbconvert_exporter": "python",
   "pygments_lexer": "ipython3",
   "version": "3.11.9"
  }
 },
 "nbformat": 4,
 "nbformat_minor": 2
}
