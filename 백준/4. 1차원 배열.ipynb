{
 "cells": [
  {
   "cell_type": "code",
   "execution_count": null,
   "metadata": {},
   "outputs": [
    {
     "name": "stdout",
     "output_type": "stream",
     "text": [
      "0\n"
     ]
    }
   ],
   "source": [
    "# 10807번 개수 세기\n",
    "N = int(input())\n",
    "num_list = list(map(int, input().split()))\n",
    "v = int(input())\n",
    "count = 0\n",
    "for i in num_list:\n",
    "    if v == i: count += 1\n",
    "print(count)"
   ]
  },
  {
   "cell_type": "code",
   "execution_count": null,
   "metadata": {},
   "outputs": [
    {
     "name": "stdout",
     "output_type": "stream",
     "text": [
      "1 4 2 3 "
     ]
    }
   ],
   "source": [
    "# 10871번 X보다 작은 수\n",
    "N, X = map(int, input().split())\n",
    "num_list = list(map(int, input().split()))\n",
    "for i in num_list:\n",
    "    if i < X:\n",
    "        print(i, end = ' ')"
   ]
  },
  {
   "cell_type": "code",
   "execution_count": 1,
   "metadata": {},
   "outputs": [
    {
     "name": "stdout",
     "output_type": "stream",
     "text": [
      "7 35\n"
     ]
    }
   ],
   "source": [
    "# 10818번 최소, 최대\n",
    "N = int(input())\n",
    "num_list = list(map(int, input().split()))\n",
    "print(min(num_list), max(num_list))"
   ]
  },
  {
   "cell_type": "code",
   "execution_count": 9,
   "metadata": {},
   "outputs": [
    {
     "name": "stdout",
     "output_type": "stream",
     "text": [
      "85\n",
      "8\n"
     ]
    }
   ],
   "source": [
    "# 2562번 최댓값\n",
    "num_list = [int(input()) for _ in range(9)]\n",
    "print(max(num_list))\n",
    "for i in range(len(num_list)):\n",
    "    if num_list[i] == max(num_list):\n",
    "        print(i+1)"
   ]
  },
  {
   "cell_type": "code",
   "execution_count": 20,
   "metadata": {},
   "outputs": [
    {
     "name": "stdout",
     "output_type": "stream",
     "text": [
      "1 2 1 1 0 "
     ]
    }
   ],
   "source": [
    "# 10810번 공 넣기\n",
    "N, M = map(int, input().split())\n",
    "num_list = [0 for _ in range(N)]\n",
    "for _ in range(M):\n",
    "    i, j, k = map(int, input().split())\n",
    "    num_list[i-1:j] = [k] * (j-i+1)\n",
    "for i in num_list:\n",
    "    print(i, end=' ')"
   ]
  },
  {
   "cell_type": "code",
   "execution_count": 14,
   "metadata": {},
   "outputs": [
    {
     "name": "stdout",
     "output_type": "stream",
     "text": [
      "3 1 4 2 5 "
     ]
    }
   ],
   "source": [
    "# 10813번 공 바꾸기\n",
    "N, M = map(int, input().split())\n",
    "num_list = [i for i in range(1,N+1)]\n",
    "for i in range(M):\n",
    "    i, j = map(int, input().split())\n",
    "    temp = num_list[i-1]\n",
    "    num_list[i-1] = num_list[j-1]\n",
    "    num_list[j-1] = temp\n",
    "for i in num_list:\n",
    "    print(i, end=' ')"
   ]
  },
  {
   "cell_type": "code",
   "execution_count": 35,
   "metadata": {},
   "outputs": [
    {
     "name": "stdout",
     "output_type": "stream",
     "text": [
      "2\n",
      "8\n"
     ]
    }
   ],
   "source": [
    "# 5597번 과제 안 내신 분..?\n",
    "num_list = [int(input()) for _ in range(28)]\n",
    "output_list = []\n",
    "for i in range(1,31):\n",
    "    if i not in num_list:\n",
    "        output_list.append(i)\n",
    "for i in output_list:\n",
    "    print(i)"
   ]
  },
  {
   "cell_type": "code",
   "execution_count": 41,
   "metadata": {},
   "outputs": [
    {
     "name": "stdout",
     "output_type": "stream",
     "text": [
      "1\n"
     ]
    }
   ],
   "source": [
    "# 3052번 나머지\n",
    "num_set = set()\n",
    "for i in range(10):\n",
    "    num_set.add(int(input())%42)\n",
    "print(len(num_set))"
   ]
  },
  {
   "cell_type": "code",
   "execution_count": 57,
   "metadata": {},
   "outputs": [
    {
     "name": "stdout",
     "output_type": "stream",
     "text": [
      "3 4 1 2 5 "
     ]
    }
   ],
   "source": [
    "# 10811번 바구니 뒤집기\n",
    "N, M = map(int, input().split())\n",
    "num_list = [i for i in range(1,N+1)]\n",
    "for a in range(M):\n",
    "    i, j = map(int, input().split())\n",
    "    num_list[i-1:j] = list(reversed(num_list[i-1:j]))\n",
    "for k in num_list:\n",
    "    print(k, end=' ')"
   ]
  },
  {
   "cell_type": "code",
   "execution_count": 65,
   "metadata": {},
   "outputs": [
    {
     "name": "stdout",
     "output_type": "stream",
     "text": [
      "66.66666666666667\n"
     ]
    }
   ],
   "source": [
    "# 1546번 평균\n",
    "N = int(input())\n",
    "score_list = list(map(int, input().split()))\n",
    "new_score_list = []\n",
    "for score in score_list:\n",
    "    new_score_list.append(score/max(score_list)*100)\n",
    "print(sum(new_score_list)/len(new_score_list))"
   ]
  },
  {
   "cell_type": "code",
   "execution_count": 46,
   "metadata": {},
   "outputs": [],
   "source": [
    "[2,1].reverse()"
   ]
  },
  {
   "cell_type": "code",
   "execution_count": null,
   "metadata": {},
   "outputs": [],
   "source": []
  }
 ],
 "metadata": {
  "kernelspec": {
   "display_name": "ML_38",
   "language": "python",
   "name": "python3"
  },
  "language_info": {
   "codemirror_mode": {
    "name": "ipython",
    "version": 3
   },
   "file_extension": ".py",
   "mimetype": "text/x-python",
   "name": "python",
   "nbconvert_exporter": "python",
   "pygments_lexer": "ipython3",
   "version": "3.8.19"
  }
 },
 "nbformat": 4,
 "nbformat_minor": 2
}
