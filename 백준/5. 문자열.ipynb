{
 "cells": [
  {
   "cell_type": "code",
   "execution_count": null,
   "metadata": {},
   "outputs": [],
   "source": [
    "# 27866번 문자와 문자열\n",
    "S = input()\n",
    "i = int(input())\n",
    "print(S[i-1])"
   ]
  },
  {
   "cell_type": "code",
   "execution_count": null,
   "metadata": {},
   "outputs": [],
   "source": [
    "# 2743번 단어 길이 재기\n",
    "print(len(input()))"
   ]
  },
  {
   "cell_type": "code",
   "execution_count": null,
   "metadata": {},
   "outputs": [],
   "source": [
    "# 9086번 문자열\n",
    "T=int(input())\n",
    "for i in range(T):\n",
    "    a=input()\n",
    "    print(a[0],a[-1],sep='')"
   ]
  },
  {
   "cell_type": "code",
   "execution_count": null,
   "metadata": {},
   "outputs": [],
   "source": [
    "# 11654번 아스키 코드\n",
    "print(ord(input()))"
   ]
  },
  {
   "cell_type": "code",
   "execution_count": null,
   "metadata": {},
   "outputs": [],
   "source": [
    "# 11720번 숫자의 합\n",
    "N=int(input())\n",
    "total=0\n",
    "a=input()\n",
    "for i in a:\n",
    "    total += int(i)\n",
    "print(total)"
   ]
  },
  {
   "cell_type": "code",
   "execution_count": null,
   "metadata": {},
   "outputs": [],
   "source": [
    "# 10809번 알파벳 찾기\n",
    "S = input()\n",
    "for i in range(97,123):\n",
    "    for idx, string in enumerate(S):\n",
    "        if chr(i) == string:\n",
    "            print(idx,end=' ')\n",
    "            break\n",
    "        if idx == len(S)-1:\n",
    "            print(-1,end=' ')"
   ]
  },
  {
   "cell_type": "code",
   "execution_count": null,
   "metadata": {},
   "outputs": [],
   "source": [
    "ord('z')"
   ]
  },
  {
   "cell_type": "code",
   "execution_count": null,
   "metadata": {},
   "outputs": [],
   "source": [
    "# 2675번 문자열 반복\n",
    "T = int(input())\n",
    "for i in range(T):\n",
    "    A, B = input().split()\n",
    "    print(''.join([i*int(A) for i in B]))"
   ]
  },
  {
   "cell_type": "code",
   "execution_count": null,
   "metadata": {},
   "outputs": [],
   "source": [
    "# 1152번 단어의 개수\n",
    "print(len(input().split()))"
   ]
  },
  {
   "cell_type": "code",
   "execution_count": null,
   "metadata": {},
   "outputs": [],
   "source": [
    "# 2908번 상수\n",
    "A, B = input().split()\n",
    "num_list = []\n",
    "A = int(''.join(list(reversed(A))))\n",
    "B = int(''.join(list(reversed(B))))\n",
    "num_list.append(A)\n",
    "num_list.append(B)\n",
    "print(max(num_list))"
   ]
  },
  {
   "cell_type": "code",
   "execution_count": null,
   "metadata": {},
   "outputs": [],
   "source": [
    "# 5622번 다이얼\n",
    "a = input()\n",
    "total = 0\n",
    "for i in a:\n",
    "    if i in ['A','B','C']: total += 3\n",
    "    elif i in ['D','E','F']: total += 4\n",
    "    elif i in ['G','H','I']: total += 5\n",
    "    elif i in ['J','K','L']: total += 6\n",
    "    elif i in ['M','N','O']: total += 7\n",
    "    elif i in ['P','Q','R','S']: total += 8\n",
    "    elif i in ['T','U','V']: total += 9\n",
    "    elif i in ['W','X','Y','Z']: total += 10\n",
    "print(total)"
   ]
  },
  {
   "cell_type": "code",
   "execution_count": 1,
   "metadata": {},
   "outputs": [
    {
     "name": "stdout",
     "output_type": "stream",
     "text": [
      "\n",
      "\n",
      "\n",
      "\n",
      "\n",
      " \n"
     ]
    }
   ],
   "source": [
    "# 11718번 그대로 출력하기\n",
    "while True:\n",
    "        try:\n",
    "            print(input())\n",
    "        except:\n",
    "            break"
   ]
  },
  {
   "cell_type": "code",
   "execution_count": null,
   "metadata": {},
   "outputs": [],
   "source": []
  }
 ],
 "metadata": {
  "kernelspec": {
   "display_name": "Python 3",
   "language": "python",
   "name": "python3"
  },
  "language_info": {
   "codemirror_mode": {
    "name": "ipython",
    "version": 3
   },
   "file_extension": ".py",
   "mimetype": "text/x-python",
   "name": "python",
   "nbconvert_exporter": "python",
   "pygments_lexer": "ipython3",
   "version": "3.11.9"
  }
 },
 "nbformat": 4,
 "nbformat_minor": 2
}
