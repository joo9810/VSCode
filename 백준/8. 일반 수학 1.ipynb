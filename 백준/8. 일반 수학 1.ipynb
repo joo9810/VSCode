{
 "cells": [
  {
   "cell_type": "code",
   "execution_count": 22,
   "metadata": {},
   "outputs": [
    {
     "name": "stdout",
     "output_type": "stream",
     "text": [
      "7390552\n"
     ]
    }
   ],
   "source": [
    "# 2745번 진법 변환\n",
    "N, B = input().split()\n",
    "B = int(B)\n",
    "total = 0\n",
    "for i in range(len(N)):\n",
    "    if N[i].isdecimal() == True:\n",
    "        total += (int(N[i]))*(B**(len(N)-1-i))\n",
    "    else:\n",
    "        total += (ord(N[i]) - 55)*(B**(len(N)-1-i))\n",
    "\n",
    "print(total)"
   ]
  },
  {
   "cell_type": "code",
   "execution_count": null,
   "metadata": {},
   "outputs": [],
   "source": []
  }
 ],
 "metadata": {
  "kernelspec": {
   "display_name": "TORCH_38",
   "language": "python",
   "name": "python3"
  },
  "language_info": {
   "codemirror_mode": {
    "name": "ipython",
    "version": 3
   },
   "file_extension": ".py",
   "mimetype": "text/x-python",
   "name": "python",
   "nbconvert_exporter": "python",
   "pygments_lexer": "ipython3",
   "version": "3.8.19"
  }
 },
 "nbformat": 4,
 "nbformat_minor": 2
}
