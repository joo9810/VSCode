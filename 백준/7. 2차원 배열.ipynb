{
 "cells": [
  {
   "cell_type": "code",
   "execution_count": 13,
   "metadata": {},
   "outputs": [
    {
     "name": "stdout",
     "output_type": "stream",
     "text": [
      "4 4 4 \n",
      "6 6 6 \n",
      "5 6 100 \n"
     ]
    }
   ],
   "source": [
    "# 2738번 행렬 덧셈\n",
    "N, M = map(int, input().split())\n",
    "A, B = [], []\n",
    "for i in [A, B]:\n",
    "    for j in range(N):\n",
    "        i.append(list(map(int, input().split())))\n",
    "\n",
    "for i in range(N):\n",
    "    for j in range(M):\n",
    "        print(A[i][j] + B[i][j], end=' ')\n",
    "    print()"
   ]
  },
  {
   "cell_type": "code",
   "execution_count": 63,
   "metadata": {},
   "outputs": [
    {
     "name": "stdout",
     "output_type": "stream",
     "text": [
      "90\n",
      "5 7\n"
     ]
    }
   ],
   "source": [
    "# 2566번 최댓값\n",
    "matrix = []\n",
    "for i in range(9):\n",
    "    matrix.append(list(map(int, input().split())))\n",
    "\n",
    "row_max_index = []\n",
    "row_max_value = []\n",
    "\n",
    "for i in range(9):\n",
    "    for j in range(9):\n",
    "        if max(matrix[i]) == matrix[i][j]:\n",
    "            row_max_index.append(j)\n",
    "            row_max_value.append(matrix[i][j])\n",
    "\n",
    "for i in range(9):\n",
    "    if max(row_max_value) == row_max_value[i]:\n",
    "        print(row_max_value[i])\n",
    "        print(i+1, row_max_index[i]+1)"
   ]
  },
  {
   "cell_type": "code",
   "execution_count": 19,
   "metadata": {},
   "outputs": [
    {
     "name": "stdout",
     "output_type": "stream",
     "text": [
      "Aa0aPAf985Bz1EhCz2W3D1gkD6x"
     ]
    }
   ],
   "source": [
    "# 10798번 세로읽기\n",
    "a = []\n",
    "for i in range(5):\n",
    "    a.append(input())\n",
    "for j in range(max([len(i) for i in a])):\n",
    "    for i in a:\n",
    "        try:\n",
    "            print(i[j], end='')\n",
    "        except:\n",
    "            pass"
   ]
  },
  {
   "cell_type": "code",
   "execution_count": 25,
   "metadata": {},
   "outputs": [
    {
     "name": "stdout",
     "output_type": "stream",
     "text": [
      "260\n"
     ]
    }
   ],
   "source": [
    "# 2563번 색종이\n",
    "N = int(input())\n",
    "square_list = []\n",
    "a = set()\n",
    "\n",
    "for i in range(N):\n",
    "    square_list.append(list(map(int, input().split())))\n",
    "\n",
    "for i in square_list:\n",
    "    x = [j+i[0] for j in range(10)]\n",
    "    y = [j+i[1] for j in range(10)]\n",
    "\n",
    "    for k in x:\n",
    "        for l in y:\n",
    "            a.add((k,l))\n",
    "\n",
    "print(len(a))"
   ]
  },
  {
   "cell_type": "code",
   "execution_count": null,
   "metadata": {},
   "outputs": [],
   "source": []
  }
 ],
 "metadata": {
  "kernelspec": {
   "display_name": "Python 3",
   "language": "python",
   "name": "python3"
  },
  "language_info": {
   "codemirror_mode": {
    "name": "ipython",
    "version": 3
   },
   "file_extension": ".py",
   "mimetype": "text/x-python",
   "name": "python",
   "nbconvert_exporter": "python",
   "pygments_lexer": "ipython3",
   "version": "3.8.19"
  }
 },
 "nbformat": 4,
 "nbformat_minor": 2
}
