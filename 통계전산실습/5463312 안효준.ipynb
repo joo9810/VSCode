{
 "cells": [
  {
   "cell_type": "code",
   "execution_count": 98,
   "id": "7589c2b1",
   "metadata": {},
   "outputs": [],
   "source": [
    "# 1번\n",
    "a = {'Apple' : '사과', 'Banana' : '바나나', 'Melon' : '수박'}"
   ]
  },
  {
   "cell_type": "code",
   "execution_count": 99,
   "id": "237efbdc",
   "metadata": {},
   "outputs": [
    {
     "name": "stdout",
     "output_type": "stream",
     "text": [
      "{'Apple': '사과', 'Banana': '바나나', 'Melon': '수박'}\n"
     ]
    }
   ],
   "source": [
    "print(a)"
   ]
  },
  {
   "cell_type": "code",
   "execution_count": 100,
   "id": "4d71b969",
   "metadata": {},
   "outputs": [
    {
     "name": "stdout",
     "output_type": "stream",
     "text": [
      "<class 'dict'>\n"
     ]
    }
   ],
   "source": [
    "print(type(a))"
   ]
  },
  {
   "cell_type": "code",
   "execution_count": 101,
   "id": "602ac38d",
   "metadata": {},
   "outputs": [],
   "source": [
    "# 2번\n",
    "a['Melon'] = '멜론'"
   ]
  },
  {
   "cell_type": "code",
   "execution_count": 102,
   "id": "e05b3b47",
   "metadata": {},
   "outputs": [
    {
     "name": "stdout",
     "output_type": "stream",
     "text": [
      "{'Apple': '사과', 'Banana': '바나나', 'Melon': '멜론'}\n"
     ]
    }
   ],
   "source": [
    "print(a)"
   ]
  },
  {
   "cell_type": "code",
   "execution_count": 103,
   "id": "764e39dd",
   "metadata": {},
   "outputs": [
    {
     "name": "stdout",
     "output_type": "stream",
     "text": [
      "dict_keys(['Apple', 'Banana', 'Melon'])\n"
     ]
    }
   ],
   "source": [
    "# 3번\n",
    "print(a.keys())"
   ]
  },
  {
   "cell_type": "code",
   "execution_count": 104,
   "id": "26216a0e",
   "metadata": {},
   "outputs": [
    {
     "name": "stdout",
     "output_type": "stream",
     "text": [
      "dict_values(['사과', '바나나', '멜론'])\n"
     ]
    }
   ],
   "source": [
    "print(a.values())"
   ]
  },
  {
   "cell_type": "code",
   "execution_count": 105,
   "id": "9a9c5e6f",
   "metadata": {},
   "outputs": [
    {
     "name": "stdout",
     "output_type": "stream",
     "text": [
      "['Apple', 'Banana', 'Melon']\n"
     ]
    }
   ],
   "source": [
    "print(list(a.keys()))"
   ]
  },
  {
   "cell_type": "code",
   "execution_count": 106,
   "id": "25e8685a",
   "metadata": {},
   "outputs": [
    {
     "name": "stdout",
     "output_type": "stream",
     "text": [
      "['사과', '바나나', '멜론']\n"
     ]
    }
   ],
   "source": [
    "print(list(a.values()))"
   ]
  },
  {
   "cell_type": "code",
   "execution_count": 107,
   "id": "8bdafc2e",
   "metadata": {},
   "outputs": [
    {
     "name": "stdout",
     "output_type": "stream",
     "text": [
      "[('Apple', '사과'), ('Banana', '바나나'), ('Melon', '멜론')]\n"
     ]
    }
   ],
   "source": [
    "print(list(a.items()))"
   ]
  },
  {
   "cell_type": "code",
   "execution_count": 108,
   "id": "c2446be0",
   "metadata": {},
   "outputs": [],
   "source": [
    "# 4번\n",
    "def multip(x):\n",
    "    a = '곱하기'\n",
    "    b = '은(는)'\n",
    "    c = '입니다'\n",
    "    for i in range(2,10):\n",
    "        if i == x:\n",
    "            pass\n",
    "        else:\n",
    "            continue\n",
    "        for j in range(1,10):\n",
    "            print(i,'{}'.format(a),j,'{}'.format(b),i*j,'{}'.format(c))"
   ]
  },
  {
   "cell_type": "code",
   "execution_count": 109,
   "id": "10c88c89",
   "metadata": {
    "scrolled": true
   },
   "outputs": [
    {
     "name": "stdout",
     "output_type": "stream",
     "text": [
      "3 곱하기 1 은(는) 3 입니다\n",
      "3 곱하기 2 은(는) 6 입니다\n",
      "3 곱하기 3 은(는) 9 입니다\n",
      "3 곱하기 4 은(는) 12 입니다\n",
      "3 곱하기 5 은(는) 15 입니다\n",
      "3 곱하기 6 은(는) 18 입니다\n",
      "3 곱하기 7 은(는) 21 입니다\n",
      "3 곱하기 8 은(는) 24 입니다\n",
      "3 곱하기 9 은(는) 27 입니다\n"
     ]
    }
   ],
   "source": [
    "multip(3)"
   ]
  },
  {
   "cell_type": "code",
   "execution_count": 110,
   "id": "f25324f2",
   "metadata": {},
   "outputs": [],
   "source": [
    "# 5번"
   ]
  },
  {
   "cell_type": "code",
   "execution_count": 111,
   "id": "fc35aa35",
   "metadata": {},
   "outputs": [],
   "source": [
    "def multip2(x):\n",
    "    a = '곱하기'\n",
    "    b = '은'\n",
    "    c = '는'\n",
    "    d = '입니다'\n",
    "    for i in range(2,10):\n",
    "        if i == x:\n",
    "            pass\n",
    "        else:\n",
    "            continue\n",
    "        for j in range(1,10):\n",
    "            if j == 1 or j == 3 or j == 6 or j == 7 or j == 8:\n",
    "                print(i,'{}'.format(a),j,'{}'.format(b),i*j,'{}'.format(d))\n",
    "            else:\n",
    "                print(i,'{}'.format(a),j,'{}'.format(c),i*j,'{}'.format(d))"
   ]
  },
  {
   "cell_type": "code",
   "execution_count": 123,
   "id": "f620c257",
   "metadata": {},
   "outputs": [
    {
     "name": "stdout",
     "output_type": "stream",
     "text": [
      "4 곱하기 1 은 4 입니다\n",
      "4 곱하기 2 는 8 입니다\n",
      "4 곱하기 3 은 12 입니다\n",
      "4 곱하기 4 는 16 입니다\n",
      "4 곱하기 5 는 20 입니다\n",
      "4 곱하기 6 은 24 입니다\n",
      "4 곱하기 7 은 28 입니다\n",
      "4 곱하기 8 은 32 입니다\n",
      "4 곱하기 9 는 36 입니다\n"
     ]
    }
   ],
   "source": [
    "multip2(4)"
   ]
  },
  {
   "cell_type": "code",
   "execution_count": 113,
   "id": "e2b7d3f2",
   "metadata": {},
   "outputs": [],
   "source": [
    "# 6번\n",
    "def fib(x):\n",
    "    i, j = 0, 1\n",
    "    for _ in range(x):\n",
    "        i, j = j, i + j\n",
    "    return i"
   ]
  },
  {
   "cell_type": "code",
   "execution_count": 114,
   "id": "ff534f59",
   "metadata": {},
   "outputs": [
    {
     "data": {
      "text/plain": [
       "(1, 1, 2, 3, 5, 8, 13, 21)"
      ]
     },
     "execution_count": 114,
     "metadata": {},
     "output_type": "execute_result"
    }
   ],
   "source": [
    "fib(1), fib(2), fib(3), fib(4), fib(5), fib(6), fib(7), fib(8)"
   ]
  },
  {
   "cell_type": "code",
   "execution_count": 115,
   "id": "0c3be4e6",
   "metadata": {},
   "outputs": [],
   "source": [
    "# 7번\n",
    "R2 = [0.82, 0.88, 0.92, 0.33, 0.95]"
   ]
  },
  {
   "cell_type": "code",
   "execution_count": 116,
   "id": "6fd3be6e",
   "metadata": {},
   "outputs": [
    {
     "name": "stdout",
     "output_type": "stream",
     "text": [
      "0.8925000000000001\n"
     ]
    }
   ],
   "source": [
    "dummy = []\n",
    "for i in R2:\n",
    "    if i < 0.5:\n",
    "        continue\n",
    "    else:\n",
    "        dummy.append(i)\n",
    "    mean = sum(dummy)/len(dummy)\n",
    "    \n",
    "print(mean)"
   ]
  },
  {
   "cell_type": "code",
   "execution_count": 117,
   "id": "3367cbb1",
   "metadata": {},
   "outputs": [],
   "source": [
    "# 8번\n",
    "def multip3(*x):\n",
    "    for i in range(2,10):\n",
    "        if i in x:\n",
    "            pass\n",
    "        else:\n",
    "            continue\n",
    "        for j in range(1,10):\n",
    "            print(i,'*',j,'=',i*j)"
   ]
  },
  {
   "cell_type": "code",
   "execution_count": 118,
   "id": "7d4a997e",
   "metadata": {},
   "outputs": [
    {
     "name": "stdout",
     "output_type": "stream",
     "text": [
      "2 * 1 = 2\n",
      "2 * 2 = 4\n",
      "2 * 3 = 6\n",
      "2 * 4 = 8\n",
      "2 * 5 = 10\n",
      "2 * 6 = 12\n",
      "2 * 7 = 14\n",
      "2 * 8 = 16\n",
      "2 * 9 = 18\n"
     ]
    }
   ],
   "source": [
    "multip3(2)"
   ]
  },
  {
   "cell_type": "code",
   "execution_count": 119,
   "id": "d26b3d3c",
   "metadata": {
    "scrolled": true
   },
   "outputs": [
    {
     "name": "stdout",
     "output_type": "stream",
     "text": [
      "3 * 1 = 3\n",
      "3 * 2 = 6\n",
      "3 * 3 = 9\n",
      "3 * 4 = 12\n",
      "3 * 5 = 15\n",
      "3 * 6 = 18\n",
      "3 * 7 = 21\n",
      "3 * 8 = 24\n",
      "3 * 9 = 27\n",
      "5 * 1 = 5\n",
      "5 * 2 = 10\n",
      "5 * 3 = 15\n",
      "5 * 4 = 20\n",
      "5 * 5 = 25\n",
      "5 * 6 = 30\n",
      "5 * 7 = 35\n",
      "5 * 8 = 40\n",
      "5 * 9 = 45\n"
     ]
    }
   ],
   "source": [
    "multip3(3,5)"
   ]
  },
  {
   "cell_type": "code",
   "execution_count": 120,
   "id": "4c797f19",
   "metadata": {},
   "outputs": [
    {
     "data": {
      "text/plain": [
       "(4, 12)"
      ]
     },
     "execution_count": 120,
     "metadata": {},
     "output_type": "execute_result"
    }
   ],
   "source": [
    "# 9번\n",
    "def add(x,y):\n",
    "    return x + y\n",
    "\n",
    "add(1,3), add(5,7)"
   ]
  },
  {
   "cell_type": "code",
   "execution_count": 121,
   "id": "47b8c9cf",
   "metadata": {},
   "outputs": [
    {
     "data": {
      "text/plain": [
       "(4, 12)"
      ]
     },
     "execution_count": 121,
     "metadata": {},
     "output_type": "execute_result"
    }
   ],
   "source": [
    "add2 = lambda x,y:x+y\n",
    "\n",
    "add2(1,3), add2(5,7)"
   ]
  }
 ],
 "metadata": {
  "kernelspec": {
   "display_name": "Python 3 (ipykernel)",
   "language": "python",
   "name": "python3"
  },
  "language_info": {
   "codemirror_mode": {
    "name": "ipython",
    "version": 3
   },
   "file_extension": ".py",
   "mimetype": "text/x-python",
   "name": "python",
   "nbconvert_exporter": "python",
   "pygments_lexer": "ipython3",
   "version": "3.9.12"
  }
 },
 "nbformat": 4,
 "nbformat_minor": 5
}
