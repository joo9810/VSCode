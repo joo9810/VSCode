{
 "cells": [
  {
   "cell_type": "code",
   "execution_count": 22,
   "metadata": {},
   "outputs": [
    {
     "name": "stdout",
     "output_type": "stream",
     "text": [
      "Hello Mars\n"
     ]
    }
   ],
   "source": [
    "# Hello Mars 출력\n",
    "print('Hello Mars')"
   ]
  },
  {
   "cell_type": "code",
   "execution_count": 23,
   "metadata": {},
   "outputs": [
    {
     "name": "stdout",
     "output_type": "stream",
     "text": [
      "2023-08-27 12:00:00,INFO,Center and mission control systems powered down.\n",
      "2023-08-27 11:40:00,INFO,Oxygen tank explosion.\n",
      "2023-08-27 11:35:00,INFO,Oxygen tank unstable.\n",
      "2023-08-27 11:30:00,INFO,Mission completed successfully. Recovery team dispatched.\n",
      "2023-08-27 11:28:00,INFO,Touchdown confirmed. Rocket safely landed.\n",
      "2023-08-27 11:25:00,INFO,Main parachutes deployed. Rocket descent rate reducing.\n",
      "2023-08-27 11:20:00,INFO,Heat shield performing as expected during reentry.\n",
      "2023-08-27 11:15:00,INFO,Reentry sequence started. Atmospheric drag noticeable.\n",
      "2023-08-27 11:10:00,INFO,Initiating deorbit maneuvers for rocket's reentry.\n",
      "2023-08-27 11:05:00,INFO,Satellite deployment successful. Mission objectives achieved.\n",
      "2023-08-27 11:00:00,INFO,Orbital operations initiated. Satellite deployment upcoming.\n",
      "2023-08-27 10:57:00,INFO,Entering planned orbit around Earth.\n",
      "2023-08-27 10:55:00,INFO,Second stage burn nominal. Rocket velocity increasing.\n",
      "2023-08-27 10:52:00,INFO,Navigation systems show nominal performance.\n",
      "2023-08-27 10:50:00,INFO,Orbital insertion calculations initiated.\n",
      "2023-08-27 10:48:00,INFO,Payload fairing jettisoned. Satellite now exposed.\n",
      "2023-08-27 10:45:00,INFO,Second stage ignition. Rocket continues its ascent.\n",
      "2023-08-27 10:42:00,INFO,Main engine cutoff confirmed. Stage separation initiated.\n",
      "2023-08-27 10:40:00,INFO,First stage engines throttled down as planned.\n",
      "2023-08-27 10:37:00,INFO,Max-Q passed. Vehicle is stable.\n",
      "2023-08-27 10:35:00,INFO,Approaching max-Q. Aerodynamic pressure increasing.\n",
      "2023-08-27 10:32:00,INFO,Initial telemetry received. Rocket is on its trajectory.\n",
      "2023-08-27 10:30:00,INFO,Liftoff! Rocket has left the launchpad.\n",
      "2023-08-27 10:27:00,INFO,Engines at maximum thrust. Liftoff imminent.\n",
      "2023-08-27 10:25:00,INFO,Engine ignition sequence started.\n",
      "2023-08-27 10:23:00,INFO,Countdown sequence initiated.\n",
      "2023-08-27 10:20:00,INFO,Final system checks complete. Rocket is ready for launch.\n",
      "2023-08-27 10:18:00,INFO,Cargo bay secured and sealed properly.\n",
      "2023-08-27 10:15:00,INFO,Life support systems nominal.\n",
      "2023-08-27 10:12:00,INFO,Propulsion check: Thrusters responding as expected.\n",
      "2023-08-27 10:10:00,INFO,Avionics check: All systems functional.\n",
      "2023-08-27 10:08:00,INFO,Pre-launch checklist initiated.\n",
      "2023-08-27 10:05:00,INFO,Communication established with mission control.\n",
      "2023-08-27 10:02:00,INFO,Power systems online. Batteries at optimal charge.\n",
      "2023-08-27 10:00:00,INFO,Rocket initialization process started.\n"
     ]
    }
   ],
   "source": [
    "# main_computer_main.log 파일 출력 (예외 처리)\n",
    "try:\n",
    "    file = open('mission_computer_main.log', 'r', encoding = 'utf-8')\n",
    "    file_data = file.readlines()\n",
    "\n",
    "    # 시간을 기준으로 정렬 (역순)\n",
    "    sorted_data = sorted(file_data[1:], key = lambda i: i.split(',')[0], reverse = True)\n",
    "    # 헤더를 제외한 file_data를 콤마를 기준으로 분리한 다음 첫 번째 인덱스인 시간을 기준으로 내림차순 정렬\n",
    "\n",
    "    for line in sorted_data:\n",
    "        print(line.strip()) # 다음 줄로 넘어갈때 공백 없애려면 line.strip()\n",
    "\n",
    "    file.close()\n",
    "except:\n",
    "    print('파일이 존재하지 않습니다.')"
   ]
  },
  {
   "cell_type": "code",
   "execution_count": 24,
   "metadata": {},
   "outputs": [],
   "source": [
    "# 사고의 원인을 분석하여 log_analysis.md 작성\n",
    "accident_time = [] # 사고 발생 시간\n",
    "accident_message = [] # 사고 발생 메세지\n",
    "for line in file_data:\n",
    "    if 'unstable' in line:\n",
    "        time = line.split(',')[0]\n",
    "        message = line.split(',')[2].rstrip('\\n')\n",
    "        accident_time.append(time)\n",
    "        accident_message.append(message)\n",
    "        break"
   ]
  },
  {
   "cell_type": "code",
   "execution_count": 25,
   "metadata": {},
   "outputs": [],
   "source": [
    "try:\n",
    "    report = open('log_analysis.md', 'w', encoding = 'utf-8')\n",
    "    report.write('# 사고 분석 보고서\\n\\n')\n",
    "    report.write('## 사고 발생 시간\\n\\n')\n",
    "    report.write(f'{accident_time[0]}\\n\\n')\n",
    "    report.write('## 사고 발생 메세지\\n\\n')\n",
    "    report.write(f'{accident_message[0]}\\n\\n')\n",
    "except:\n",
    "    print('사고 원인 파악을 위해서는 추가적인 분석이 필요합니다.')"
   ]
  },
  {
   "cell_type": "code",
   "execution_count": 28,
   "metadata": {},
   "outputs": [
    {
     "ename": "NameError",
     "evalue": "name 'datetime' is not defined",
     "output_type": "error",
     "traceback": [
      "\u001b[0;31m---------------------------------------------------------------------------\u001b[0m",
      "\u001b[0;31mNameError\u001b[0m                                 Traceback (most recent call last)",
      "Cell \u001b[0;32mIn[28], line 1\u001b[0m\n\u001b[0;32m----> 1\u001b[0m \u001b[43mdatetime\u001b[49m(accident_time[\u001b[38;5;241m0\u001b[39m])\n",
      "\u001b[0;31mNameError\u001b[0m: name 'datetime' is not defined"
     ]
    }
   ],
   "source": [
    "datetime(accident_time[0])"
   ]
  },
  {
   "cell_type": "code",
   "execution_count": 129,
   "metadata": {},
   "outputs": [
    {
     "name": "stdout",
     "output_type": "stream",
     "text": [
      "Date: ['2023-08-27', '2023-08-27', '2023-08-27', '2023-08-27', '2023-08-27', '2023-08-27', '2023-08-27', '2023-08-27', '2023-08-27', '2023-08-27', '2023-08-27', '2023-08-27', '2023-08-27', '2023-08-27', '2023-08-27', '2023-08-27', '2023-08-27', '2023-08-27', '2023-08-27', '2023-08-27', '2023-08-27', '2023-08-27', '2023-08-27', '2023-08-27', '2023-08-27', '2023-08-27', '2023-08-27', '2023-08-27', '2023-08-27', '2023-08-27', '2023-08-27', '2023-08-27', '2023-08-27', '2023-08-27', '2023-08-27']\n",
      "Time: ['10:00:00', '10:02:00', '10:05:00', '10:08:00', '10:10:00', '10:12:00', '10:15:00', '10:18:00', '10:20:00', '10:23:00', '10:25:00', '10:27:00', '10:30:00', '10:32:00', '10:35:00', '10:37:00', '10:40:00', '10:42:00', '10:45:00', '10:48:00', '10:50:00', '10:52:00', '10:55:00', '10:57:00', '11:00:00', '11:05:00', '11:10:00', '11:15:00', '11:20:00', '11:25:00', '11:28:00', '11:30:00', '11:35:00', '11:40:00', '12:00:00']\n",
      "Message: ['Rocket initialization process started.', 'Power systems online. Batteries at optimal charge.', 'Communication established with mission control.', 'Pre-launch checklist initiated.', 'Avionics check: All systems functional.', 'Propulsion check: Thrusters responding as expected.', 'Life support systems nominal.', 'Cargo bay secured and sealed properly.', 'Final system checks complete. Rocket is ready for launch.', 'Countdown sequence initiated.', 'Engine ignition sequence started.', 'Engines at maximum thrust. Liftoff imminent.', 'Liftoff! Rocket has left the launchpad.', 'Initial telemetry received. Rocket is on its trajectory.', 'Approaching max-Q. Aerodynamic pressure increasing.', 'Max-Q passed. Vehicle is stable.', 'First stage engines throttled down as planned.', 'Main engine cutoff confirmed. Stage separation initiated.', 'Second stage ignition. Rocket continues its ascent.', 'Payload fairing jettisoned. Satellite now exposed.', 'Orbital insertion calculations initiated.', 'Navigation systems show nominal performance.', 'Second stage burn nominal. Rocket velocity increasing.', 'Entering planned orbit around Earth.', 'Orbital operations initiated. Satellite deployment upcoming.', 'Satellite deployment successful. Mission objectives achieved.', \"Initiating deorbit maneuvers for rocket's reentry.\", 'Reentry sequence started. Atmospheric drag noticeable.', 'Heat shield performing as expected during reentry.', 'Main parachutes deployed. Rocket descent rate reducing.', 'Touchdown confirmed. Rocket safely landed.', 'Mission completed successfully. Recovery team dispatched.', 'Oxygen tank unstable.', 'Oxygen tank explosion.', 'Center and mission control systems powered down.']\n"
     ]
    }
   ],
   "source": [
    "date = []\n",
    "time = []\n",
    "message = []\n",
    "\n",
    "with open('mission_computer_main.log', 'r') as file:\n",
    "    # 파일 전체를 한 번에 읽기\n",
    "    lines = file.readlines()[1:] # 헤더 제외\n",
    "\n",
    "for line in lines:\n",
    "    parts = line.split(',') # [0]: 날짜 및 시간, [1]: INFO, [2]: 메세지\n",
    "    date.append(parts[0][:10])\n",
    "    time.append(parts[0][11:19])\n",
    "    message.append(parts[2].rstrip('\\n')) # 각 메세지의 오른쪽 부분의 \\n 제거\n",
    "\n",
    "print('Date:', date)\n",
    "print('Time:', time)\n",
    "print('Message:', message)"
   ]
  },
  {
   "cell_type": "code",
   "execution_count": 130,
   "metadata": {},
   "outputs": [
    {
     "name": "stdout",
     "output_type": "stream",
     "text": [
      "Date (sorted): ['2023-08-27', '2023-08-27', '2023-08-27', '2023-08-27', '2023-08-27', '2023-08-27', '2023-08-27', '2023-08-27', '2023-08-27', '2023-08-27', '2023-08-27', '2023-08-27', '2023-08-27', '2023-08-27', '2023-08-27', '2023-08-27', '2023-08-27', '2023-08-27', '2023-08-27', '2023-08-27', '2023-08-27', '2023-08-27', '2023-08-27', '2023-08-27', '2023-08-27', '2023-08-27', '2023-08-27', '2023-08-27', '2023-08-27', '2023-08-27', '2023-08-27', '2023-08-27', '2023-08-27', '2023-08-27', '2023-08-27']\n",
      "Time (sorted): ['12:00:00', '11:40:00', '11:35:00', '11:30:00', '11:28:00', '11:25:00', '11:20:00', '11:15:00', '11:10:00', '11:05:00', '11:00:00', '10:57:00', '10:55:00', '10:52:00', '10:50:00', '10:48:00', '10:45:00', '10:42:00', '10:40:00', '10:37:00', '10:35:00', '10:32:00', '10:30:00', '10:27:00', '10:25:00', '10:23:00', '10:20:00', '10:18:00', '10:15:00', '10:12:00', '10:10:00', '10:08:00', '10:05:00', '10:02:00', '10:00:00']\n",
      "Message (sorted): ['Center and mission control systems powered down.', 'Oxygen tank explosion.', 'Oxygen tank unstable.', 'Mission completed successfully. Recovery team dispatched.', 'Touchdown confirmed. Rocket safely landed.', 'Main parachutes deployed. Rocket descent rate reducing.', 'Heat shield performing as expected during reentry.', 'Reentry sequence started. Atmospheric drag noticeable.', \"Initiating deorbit maneuvers for rocket's reentry.\", 'Satellite deployment successful. Mission objectives achieved.', 'Orbital operations initiated. Satellite deployment upcoming.', 'Entering planned orbit around Earth.', 'Second stage burn nominal. Rocket velocity increasing.', 'Navigation systems show nominal performance.', 'Orbital insertion calculations initiated.', 'Payload fairing jettisoned. Satellite now exposed.', 'Second stage ignition. Rocket continues its ascent.', 'Main engine cutoff confirmed. Stage separation initiated.', 'First stage engines throttled down as planned.', 'Max-Q passed. Vehicle is stable.', 'Approaching max-Q. Aerodynamic pressure increasing.', 'Initial telemetry received. Rocket is on its trajectory.', 'Liftoff! Rocket has left the launchpad.', 'Engines at maximum thrust. Liftoff imminent.', 'Engine ignition sequence started.', 'Countdown sequence initiated.', 'Final system checks complete. Rocket is ready for launch.', 'Cargo bay secured and sealed properly.', 'Life support systems nominal.', 'Propulsion check: Thrusters responding as expected.', 'Avionics check: All systems functional.', 'Pre-launch checklist initiated.', 'Communication established with mission control.', 'Power systems online. Batteries at optimal charge.', 'Rocket initialization process started.']\n"
     ]
    }
   ],
   "source": [
    "# 시간 정보 생성\n",
    "timestamps = [date[i] + ' ' + time[i] for i in range(len(date))]\n",
    "\n",
    "# 0 ~ len(timestamps)-1 만큼의 인덱스를 내림차순으로 정렬 (만약에 len(timestamps)가 100이면 99, 98, ..., 0 이런식으로)\n",
    "sorted_index = sorted(range(len(timestamps)), key = lambda i: timestamps[i], reverse = True)\n",
    "\n",
    "# sorted_index를 기반으로 모든 리스트 재정렬\n",
    "date = [date[i] for i in sorted_index]\n",
    "time = [time[i] for i in sorted_index]\n",
    "message = [message[i] for i in sorted_index]\n",
    "\n",
    "# 결과 출력\n",
    "print('Date (sorted):', date)\n",
    "print('Time (sorted):', time)\n",
    "print('Message (sorted):', message)"
   ]
  },
  {
   "cell_type": "code",
   "execution_count": 131,
   "metadata": {},
   "outputs": [
    {
     "name": "stdout",
     "output_type": "stream",
     "text": [
      "{'Date': ['2023-08-27', '2023-08-27', '2023-08-27', '2023-08-27', '2023-08-27', '2023-08-27', '2023-08-27', '2023-08-27', '2023-08-27', '2023-08-27', '2023-08-27', '2023-08-27', '2023-08-27', '2023-08-27', '2023-08-27', '2023-08-27', '2023-08-27', '2023-08-27', '2023-08-27', '2023-08-27', '2023-08-27', '2023-08-27', '2023-08-27', '2023-08-27', '2023-08-27', '2023-08-27', '2023-08-27', '2023-08-27', '2023-08-27', '2023-08-27', '2023-08-27', '2023-08-27', '2023-08-27', '2023-08-27', '2023-08-27'], 'Time': ['12:00:00', '11:40:00', '11:35:00', '11:30:00', '11:28:00', '11:25:00', '11:20:00', '11:15:00', '11:10:00', '11:05:00', '11:00:00', '10:57:00', '10:55:00', '10:52:00', '10:50:00', '10:48:00', '10:45:00', '10:42:00', '10:40:00', '10:37:00', '10:35:00', '10:32:00', '10:30:00', '10:27:00', '10:25:00', '10:23:00', '10:20:00', '10:18:00', '10:15:00', '10:12:00', '10:10:00', '10:08:00', '10:05:00', '10:02:00', '10:00:00'], 'Message': ['Center and mission control systems powered down.', 'Oxygen tank explosion.', 'Oxygen tank unstable.', 'Mission completed successfully. Recovery team dispatched.', 'Touchdown confirmed. Rocket safely landed.', 'Main parachutes deployed. Rocket descent rate reducing.', 'Heat shield performing as expected during reentry.', 'Reentry sequence started. Atmospheric drag noticeable.', \"Initiating deorbit maneuvers for rocket's reentry.\", 'Satellite deployment successful. Mission objectives achieved.', 'Orbital operations initiated. Satellite deployment upcoming.', 'Entering planned orbit around Earth.', 'Second stage burn nominal. Rocket velocity increasing.', 'Navigation systems show nominal performance.', 'Orbital insertion calculations initiated.', 'Payload fairing jettisoned. Satellite now exposed.', 'Second stage ignition. Rocket continues its ascent.', 'Main engine cutoff confirmed. Stage separation initiated.', 'First stage engines throttled down as planned.', 'Max-Q passed. Vehicle is stable.', 'Approaching max-Q. Aerodynamic pressure increasing.', 'Initial telemetry received. Rocket is on its trajectory.', 'Liftoff! Rocket has left the launchpad.', 'Engines at maximum thrust. Liftoff imminent.', 'Engine ignition sequence started.', 'Countdown sequence initiated.', 'Final system checks complete. Rocket is ready for launch.', 'Cargo bay secured and sealed properly.', 'Life support systems nominal.', 'Propulsion check: Thrusters responding as expected.', 'Avionics check: All systems functional.', 'Pre-launch checklist initiated.', 'Communication established with mission control.', 'Power systems online. Batteries at optimal charge.', 'Rocket initialization process started.']}\n"
     ]
    }
   ],
   "source": [
    "# 리스트 객체를 사전 객체로 전환\n",
    "logs_dict = {'Date': date, 'Time': time, 'Message': message}\n",
    "\n",
    "print(logs_dict)"
   ]
  },
  {
   "cell_type": "code",
   "execution_count": 132,
   "metadata": {},
   "outputs": [
    {
     "name": "stdout",
     "output_type": "stream",
     "text": [
      "JSON 파일이 생성되었습니다.\n"
     ]
    }
   ],
   "source": [
    "# JSON 형식의 문자열 생성\n",
    "json_data = '{{\"Date\": {date}, \"Time\": {time}, \"Message\": {message}}}'.format(date=date, time=time, message=message)\n",
    "# 형식 문자열은 { } 형태 (형식 문자열 안에 중괄호를 넣으려면 {{ }} 형태로 작성)\n",
    "# \"키\": {값}의 형태이며 각각의 {date}, {time}, {message} 값에 date, time, message값을 삽입\n",
    "\n",
    "try:\n",
    "    with open('mission_computer_main.json', 'w') as json_file:\n",
    "        json_file.write(json_data)\n",
    "    print(\"JSON 파일이 생성되었습니다.\")\n",
    "except:\n",
    "    print('JSON 파일 생성 중 오류가 발생했습니다.')"
   ]
  },
  {
   "cell_type": "code",
   "execution_count": 133,
   "metadata": {},
   "outputs": [
    {
     "name": "stdout",
     "output_type": "stream",
     "text": [
      "Oxygen tank explosion.\n",
      "Oxygen tank unstable.\n"
     ]
    }
   ],
   "source": [
    "# 특정 문자열을 포함하는 메시지만 출력하는 함수\n",
    "def filter_messages(keyword, logs_dict):\n",
    "    filtered_messages = [message for message in logs_dict['Message'] if keyword in message]\n",
    "    # message는 logs_dict['Message'] 안에 있다.\n",
    "    # 만약 keyword가 message에 포함되어 있다면 filtered_messages에 저장해라.\n",
    "    return filtered_messages\n",
    "\n",
    "# 사전 객체로 전환된 내용\n",
    "logs_dict = {'Date': date, 'Time': time, 'Message': message}\n",
    "\n",
    "# 특정 문자열 입력\n",
    "keyword = input('필터링할 키워드를 입력하세요')\n",
    "\n",
    "# 특정 문자열을 포함하는 메시지 출력\n",
    "filtered = filter_messages(keyword, logs_dict)\n",
    "if filtered: # filtered에 문자가 존재한다면 그 자체로 True가 됨\n",
    "    for message in filtered:\n",
    "        print(message)\n",
    "else:\n",
    "    print('키워드를 포함하는 메시지가 없습니다.')"
   ]
  }
 ],
 "metadata": {
  "kernelspec": {
   "display_name": "Python 3",
   "language": "python",
   "name": "python3"
  },
  "language_info": {
   "codemirror_mode": {
    "name": "ipython",
    "version": 3
   },
   "file_extension": ".py",
   "mimetype": "text/x-python",
   "name": "python",
   "nbconvert_exporter": "python",
   "pygments_lexer": "ipython3",
   "version": "3.12.2"
  }
 },
 "nbformat": 4,
 "nbformat_minor": 2
}
