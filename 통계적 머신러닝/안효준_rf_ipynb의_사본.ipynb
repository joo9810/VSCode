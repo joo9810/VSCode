{
  "nbformat": 4,
  "nbformat_minor": 0,
  "metadata": {
    "colab": {
      "provenance": []
    },
    "kernelspec": {
      "name": "python3",
      "display_name": "Python 3"
    },
    "language_info": {
      "name": "python"
    }
  },
  "cells": [
    {
      "cell_type": "code",
      "source": [
        "import pandas as pd"
      ],
      "metadata": {
        "id": "KzOpem1Tel5s"
      },
      "execution_count": null,
      "outputs": []
    },
    {
      "cell_type": "code",
      "source": [
        "df = pd.read_csv('/content/drive/MyDrive/최종데이터.csv')"
      ],
      "metadata": {
        "id": "qqmOjf1ac53B"
      },
      "execution_count": null,
      "outputs": []
    },
    {
      "cell_type": "markdown",
      "source": [
        "# 모델링"
      ],
      "metadata": {
        "id": "Y_3I1mwt6uBG"
      }
    },
    {
      "cell_type": "code",
      "source": [
        "x_data = df.drop(['salary'], axis=1)\n",
        "y_data = df['salary']"
      ],
      "metadata": {
        "id": "HSCliM8A61PJ"
      },
      "execution_count": null,
      "outputs": []
    },
    {
      "cell_type": "markdown",
      "source": [
        "## train, test 나누기"
      ],
      "metadata": {
        "id": "vzrcXEH16yCr"
      }
    },
    {
      "cell_type": "code",
      "source": [
        "from sklearn.model_selection import train_test_split\n",
        "x_train, x_test, y_train, y_test = train_test_split(x_data , y_data , test_size=0.3, random_state=42)"
      ],
      "metadata": {
        "id": "LKoViHfwt6Sa"
      },
      "execution_count": null,
      "outputs": []
    },
    {
      "cell_type": "markdown",
      "source": [
        "## sampling"
      ],
      "metadata": {
        "id": "Rf0ofv-H60oD"
      }
    },
    {
      "cell_type": "code",
      "source": [
        "y_train.value_counts()"
      ],
      "metadata": {
        "colab": {
          "base_uri": "https://localhost:8080/"
        },
        "id": "Dwyzo6zG1twK",
        "outputId": "21a31b78-5c67-4c69-c516-4e404ecd2927"
      },
      "execution_count": null,
      "outputs": [
        {
          "output_type": "execute_result",
          "data": {
            "text/plain": [
              "0    17211\n",
              "1     5564\n",
              "Name: salary, dtype: int64"
            ]
          },
          "metadata": {},
          "execution_count": 20
        }
      ]
    },
    {
      "cell_type": "code",
      "source": [
        "from imblearn.combine import *"
      ],
      "metadata": {
        "id": "huhwB1tTvGGE"
      },
      "execution_count": null,
      "outputs": []
    },
    {
      "cell_type": "code",
      "source": [
        "sme = SMOTETomek(random_state=42)\n",
        "X_samp, y_samp = sme.fit_resample(x_train, y_train)"
      ],
      "metadata": {
        "id": "X7BjGZEe_-UT"
      },
      "execution_count": null,
      "outputs": []
    },
    {
      "cell_type": "code",
      "source": [
        "y_samp.value_counts()"
      ],
      "metadata": {
        "colab": {
          "base_uri": "https://localhost:8080/"
        },
        "id": "14bTtMixwsiP",
        "outputId": "52f704a2-ef3c-4cb7-8328-dfe86559c470"
      },
      "execution_count": null,
      "outputs": [
        {
          "output_type": "execute_result",
          "data": {
            "text/plain": [
              "0    15152\n",
              "1    15152\n",
              "Name: salary, dtype: int64"
            ]
          },
          "metadata": {},
          "execution_count": 23
        }
      ]
    },
    {
      "cell_type": "code",
      "source": [
        "from sklearn.ensemble import RandomForestClassifier\n",
        "from sklearn.metrics import classification_report\n",
        "rf = RandomForestClassifier(random_state=42)\n",
        "rf.fit(X_samp, y_samp)\n",
        "y_predict_train = rf.predict(X_samp)\n",
        "y_predict = rf.predict(x_test)\n",
        "\n",
        "print(classification_report(y_samp, y_predict_train))\n",
        "print(classification_report(y_test, y_predict))"
      ],
      "metadata": {
        "id": "hqB-c4z3VUpB",
        "colab": {
          "base_uri": "https://localhost:8080/"
        },
        "outputId": "29069cee-54b0-4a48-c55c-1cb62429e8aa"
      },
      "execution_count": null,
      "outputs": [
        {
          "output_type": "stream",
          "name": "stdout",
          "text": [
            "              precision    recall  f1-score   support\n",
            "\n",
            "           0       1.00      1.00      1.00     15152\n",
            "           1       1.00      1.00      1.00     15152\n",
            "\n",
            "    accuracy                           1.00     30304\n",
            "   macro avg       1.00      1.00      1.00     30304\n",
            "weighted avg       1.00      1.00      1.00     30304\n",
            "\n",
            "              precision    recall  f1-score   support\n",
            "\n",
            "           0       0.91      0.85      0.88      7487\n",
            "           1       0.60      0.73      0.66      2275\n",
            "\n",
            "    accuracy                           0.82      9762\n",
            "   macro avg       0.75      0.79      0.77      9762\n",
            "weighted avg       0.84      0.82      0.83      9762\n",
            "\n"
          ]
        }
      ]
    },
    {
      "cell_type": "code",
      "source": [
        "from sklearn.model_selection import GridSearchCV\n",
        "params = {'n_estimators' : [50,100,150,200],\n",
        "    'min_samples_split' : [2,4,6,8,10],\n",
        "          'max_depth' : [3,5,7,9],\n",
        "          'min_samples_leaf' : [1,3,5,7,8]\n",
        "          }\n",
        "\n",
        "gs = GridSearchCV(RandomForestClassifier(random_state=42), params, n_jobs=-1, cv=5)"
      ],
      "metadata": {
        "id": "28H8zl_DPyXI"
      },
      "execution_count": null,
      "outputs": []
    },
    {
      "cell_type": "code",
      "source": [
        "gs.fit(X_samp, y_samp)\n",
        "print(gs.best_params_)"
      ],
      "metadata": {
        "id": "_omYiZqEe9j1",
        "outputId": "f7098c47-b8e4-4e63-cd63-06fb591d4100",
        "colab": {
          "base_uri": "https://localhost:8080/"
        }
      },
      "execution_count": null,
      "outputs": [
        {
          "output_type": "stream",
          "name": "stdout",
          "text": [
            "{'max_depth': 9, 'min_samples_leaf': 1, 'min_samples_split': 2, 'n_estimators': 150}\n"
          ]
        }
      ]
    }
  ]
}