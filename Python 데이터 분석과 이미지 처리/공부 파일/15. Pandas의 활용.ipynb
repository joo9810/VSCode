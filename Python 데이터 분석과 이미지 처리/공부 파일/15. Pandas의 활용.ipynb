{
 "cells": [
  {
   "cell_type": "markdown",
   "metadata": {},
   "source": [
    "데이터 프레임의 마스킹"
   ]
  },
  {
   "cell_type": "code",
   "execution_count": 20,
   "metadata": {},
   "outputs": [
    {
     "name": "stdout",
     "output_type": "stream",
     "text": [
      "   A  B\n",
      "0  5  7\n",
      "1  5  1\n",
      "0    True\n",
      "1    True\n",
      "Name: A, dtype: bool\n",
      "   A  B\n",
      "0  5  7\n"
     ]
    }
   ],
   "source": [
    "import pandas as pd\n",
    "import numpy as np\n",
    "\n",
    "df = pd.DataFrame(np.random.randint(1, 10, (2, 2)), index = [0, 1], columns = ['A', 'B'])\n",
    "print(df) # 1~9 사이의 정수 중 2행 2열로 랜덤 추출\n",
    "\n",
    "print(df['A'] <= 5) # 칼럼 A의 값들이 5보다 같거나 작은지\n",
    "\n",
    "print(df.query('A <= 5 and B >= 7')) # 칼럼 A는 5보다 작으면서 칼럼 B는 8보다 큰 데이터만 추출"
   ]
  },
  {
   "cell_type": "markdown",
   "metadata": {},
   "source": [
    "데이터 프레임의 개별 연산 ①"
   ]
  },
  {
   "cell_type": "code",
   "execution_count": 26,
   "metadata": {},
   "outputs": [
    {
     "name": "stdout",
     "output_type": "stream",
     "text": [
      "   A  B  C  D\n",
      "0  1  2  3  4\n",
      "1  1  2  3  4\n",
      "   A  B  C  D\n",
      "0  2  3  4  5\n",
      "1  2  3  4  5\n",
      "   A  B  C  D\n",
      "0  3  4  5  6\n",
      "1  3  4  5  6\n"
     ]
    }
   ],
   "source": [
    "import pandas as pd\n",
    "\n",
    "df = pd.DataFrame([[1, 2, 3, 4], [1, 2, 3, 4]], index = [0, 1], columns = ['A', 'B', 'C', 'D'])\n",
    "print(df)\n",
    "\n",
    "df2 = df.apply(lambda x : x + 1) # apply안에 lambda를 넣으면 행을 단위로 반복 명령 수행\n",
    "print(df2)\n",
    "\n",
    "# 단순하게 1을 더해주는 함수\n",
    "def add_one(x):\n",
    "    return x + 1\n",
    "\n",
    "df3 = df2.apply(add_one) # apply안에 함수를 넣으면 데이터 프레임의 각 값에 모두 함수가 적용 됨\n",
    "print(df3)"
   ]
  },
  {
   "cell_type": "markdown",
   "metadata": {},
   "source": [
    "데이터 프레임의 개별 연산 ②"
   ]
  },
  {
   "cell_type": "code",
   "execution_count": 32,
   "metadata": {},
   "outputs": [
    {
     "name": "stdout",
     "output_type": "stream",
     "text": [
      "Original DataFrame:\n",
      "        A       B       C       D\n",
      "0   Apple   Apple  Carrot  Banana\n",
      "1  Durian  Banana   Apple  Carrot\n",
      "\n",
      "DataFrame after replacement:\n",
      "         A        B        C       D\n",
      "0  Airport  Airport   Carrot  Banana\n",
      "1   Durian   Banana  Airport  Carrot\n"
     ]
    }
   ],
   "source": [
    "import pandas as pd\n",
    "\n",
    "df = pd.DataFrame([\n",
    "    ['Apple', 'Apple', 'Carrot', 'Banana'],\n",
    "    ['Durian', 'Banana', 'Apple', 'Carrot']\n",
    "], index = [0, 1], columns = ['A', 'B', 'C', 'D'])\n",
    "\n",
    "print(\"Original DataFrame:\")\n",
    "print(df)\n",
    "\n",
    "df2 = df.replace({'Apple' : 'Airport'}) # Apple을 Airport로 \n",
    "\n",
    "print(\"\\nDataFrame after replacement:\") # \\n은 한줄 띄우는 명령어\n",
    "print(df2)"
   ]
  },
  {
   "cell_type": "markdown",
   "metadata": {},
   "source": [
    "데이터 프레임의 그룹화 ①"
   ]
  },
  {
   "cell_type": "code",
   "execution_count": 41,
   "metadata": {},
   "outputs": [
    {
     "name": "stdout",
     "output_type": "stream",
     "text": [
      "     Name  Frequency   Type\n",
      "0   Apple          7  Fruit\n",
      "1  Banana          3  Fruit\n",
      "2    Beef          5   Meal\n",
      "3  Kimchi          4   Meal\n",
      "Type\n",
      "Fruit    10\n",
      "Meal      9\n",
      "Name: Frequency, dtype: int64\n"
     ]
    }
   ],
   "source": [
    "import pandas as pd\n",
    "\n",
    "df = pd.DataFrame([['Apple', 7, 'Fruit'],\n",
    "                   ['Banana', 3, 'Fruit'],\n",
    "                   ['Beef', 5, 'Meal'],\n",
    "                   ['Kimchi', 4, 'Meal']],\n",
    "                   columns = ['Name', 'Frequency', 'Type'])\n",
    "\n",
    "print(df)\n",
    "\n",
    "print(df.groupby(['Type']).sum()['Frequency'])"
   ]
  },
  {
   "cell_type": "markdown",
   "metadata": {},
   "source": [
    "데이터 프레임의 그룹화 ②"
   ]
  },
  {
   "cell_type": "code",
   "execution_count": 66,
   "metadata": {},
   "outputs": [
    {
     "name": "stdout",
     "output_type": "stream",
     "text": [
      "     Name  Frequency  Importance   Type\n",
      "0   Apple          7           5  Fruit\n",
      "1  Banana          3           6  Fruit\n",
      "2    Beef          5           2   Meal\n",
      "3  Kimchi          4           8   Meal\n",
      "      Frequency          Importance         \n",
      "            min max mean        min max mean\n",
      "Type                                        \n",
      "Fruit         3   7  5.0          5   6  5.5\n",
      "Meal          4   5  4.5          2   8  5.0\n"
     ]
    }
   ],
   "source": [
    "import numpy as np\n",
    "import pandas as pd\n",
    "\n",
    "df = pd.DataFrame([\n",
    "  ['Apple', 7, 5, 'Fruit'],\n",
    "  ['Banana', 3, 6, 'Fruit'],\n",
    "  ['Beef', 5, 2, 'Meal'],\n",
    "  ['Kimchi', 4, 8, 'Meal']],\n",
    "  columns=[\"Name\", \"Frequency\", \"Importance\", \"Type\"])\n",
    "\n",
    "print(df)\n",
    "\n",
    "print(df.groupby('Type')[['Frequency', 'Importance']].aggregate(['min', 'max', 'mean']))"
   ]
  },
  {
   "cell_type": "markdown",
   "metadata": {},
   "source": [
    "데이터 프레임의 그룹화 ③"
   ]
  },
  {
   "cell_type": "code",
   "execution_count": 77,
   "metadata": {},
   "outputs": [
    {
     "name": "stdout",
     "output_type": "stream",
     "text": [
      "     Name  Frequency  Importance   Type\n",
      "0   Apple          7           5  Fruit\n",
      "1  Banana          3           6  Fruit\n",
      "2    Beef          5           2   Meal\n",
      "3  Kimchi          4           8   Meal\n",
      "     Name  Frequency  Importance   Type\n",
      "0   Apple          7           5  Fruit\n",
      "1  Banana          3           6  Fruit\n"
     ]
    }
   ],
   "source": [
    "import pandas as pd\n",
    "\n",
    "df = pd.DataFrame([\n",
    "  ['Apple', 7, 5, 'Fruit'],\n",
    "  ['Banana', 3, 6, 'Fruit'],\n",
    "  ['Beef', 5, 2, 'Meal'],\n",
    "  ['Kimchi', 4, 8, 'Meal']],\n",
    "  columns=[\"Name\", \"Frequency\", \"Importance\", \"Type\"])\n",
    "\n",
    "print(df)\n",
    "\n",
    "def my_filter(data):\n",
    "    return data['Frequency'].mean() >= 5\n",
    "\n",
    "print(df.groupby('Type').filter(my_filter))"
   ]
  },
  {
   "cell_type": "markdown",
   "metadata": {},
   "source": [
    "데이터 프레임의 그룹화 ④"
   ]
  },
  {
   "cell_type": "code",
   "execution_count": 81,
   "metadata": {},
   "outputs": [
    {
     "name": "stdout",
     "output_type": "stream",
     "text": [
      "     Name  Frequency  Importance   Type\n",
      "0   Apple          7           5  Fruit\n",
      "1  Banana          3           6  Fruit\n",
      "2    Beef          5           2   Meal\n",
      "3  Kimchi          4           8   Meal\n",
      "     Name  Frequency  Importance   Type\n",
      "0   Apple          7           5  Fruit\n",
      "1  Banana          3           6  Fruit\n"
     ]
    }
   ],
   "source": [
    "import pandas as pd\n",
    "\n",
    "df = pd.DataFrame([\n",
    "  ['Apple', 7, 5, 'Fruit'],\n",
    "  ['Banana', 3, 6, 'Fruit'],\n",
    "  ['Beef', 5, 2, 'Meal'],\n",
    "  ['Kimchi', 4, 8, 'Meal']],\n",
    "  columns=[\"Name\", \"Frequency\", \"Importance\", \"Type\"])\n",
    "\n",
    "print(df)\n",
    "\n",
    "print(df.groupby('Type').get_group('Fruit'))"
   ]
  },
  {
   "cell_type": "markdown",
   "metadata": {},
   "source": [
    "데이터 프레임의 그룹화 ⑤"
   ]
  },
  {
   "cell_type": "code",
   "execution_count": 104,
   "metadata": {},
   "outputs": [
    {
     "name": "stdout",
     "output_type": "stream",
     "text": [
      "     Name  Frequency  Importance   Type\n",
      "0   Apple          7           5  Fruit\n",
      "1  Banana          3           6  Fruit\n",
      "2    Beef          5           2   Meal\n",
      "3  Kimchi          4           8   Meal\n",
      "frequency_mean\n",
      "Type\n",
      "Fruit    5.0\n",
      "Meal     4.5\n",
      "Name: Frequency, dtype: float64\n",
      "     Name  Frequency  Importance   Type  gap\n",
      "0   Apple          7           5  Fruit  2.0\n",
      "1  Banana          3           6  Fruit -2.0\n",
      "2    Beef          5           2   Meal  0.5\n",
      "3  Kimchi          4           8   Meal -0.5\n"
     ]
    }
   ],
   "source": [
    "import pandas as pd\n",
    "\n",
    "df = pd.DataFrame([\n",
    "  ['Apple', 7, 5, 'Fruit'],\n",
    "  ['Banana', 3, 6, 'Fruit'],\n",
    "  ['Beef', 5, 2, 'Meal'],\n",
    "  ['Kimchi', 4, 8, 'Meal']],\n",
    "  columns=[\"Name\", \"Frequency\", \"Importance\", \"Type\"])\n",
    "\n",
    "print(df)\n",
    "\n",
    "# 각 그룹의 Frequency 평균 계산\n",
    "frequency_mean = df.groupby('Type')['Frequency'].mean()\n",
    "\n",
    "print('frequency_mean')\n",
    "print(frequency_mean)\n",
    "\n",
    "df['gap'] = df.apply(lambda x : x['Frequency'] - frequency_mean[x['Type']], axis = 1) # axis = 1: 행 방향\n",
    "\n",
    "print(df)"
   ]
  },
  {
   "cell_type": "markdown",
   "metadata": {},
   "source": [
    "데이터 프레임의 다중화"
   ]
  },
  {
   "cell_type": "code",
   "execution_count": 128,
   "metadata": {},
   "outputs": [
    {
     "data": {
      "text/html": [
       "<div>\n",
       "<style scoped>\n",
       "    .dataframe tbody tr th:only-of-type {\n",
       "        vertical-align: middle;\n",
       "    }\n",
       "\n",
       "    .dataframe tbody tr th {\n",
       "        vertical-align: top;\n",
       "    }\n",
       "\n",
       "    .dataframe thead th {\n",
       "        text-align: right;\n",
       "    }\n",
       "</style>\n",
       "<table border=\"1\" class=\"dataframe\">\n",
       "  <thead>\n",
       "    <tr style=\"text-align: right;\">\n",
       "      <th></th>\n",
       "      <th></th>\n",
       "      <th>1회</th>\n",
       "      <th>2회</th>\n",
       "      <th>3회</th>\n",
       "      <th>4회</th>\n",
       "    </tr>\n",
       "  </thead>\n",
       "  <tbody>\n",
       "    <tr>\n",
       "      <th rowspan=\"2\" valign=\"top\">1차</th>\n",
       "      <th>공격</th>\n",
       "      <td>9</td>\n",
       "      <td>8</td>\n",
       "      <td>2</td>\n",
       "      <td>9</td>\n",
       "    </tr>\n",
       "    <tr>\n",
       "      <th>수비</th>\n",
       "      <td>8</td>\n",
       "      <td>9</td>\n",
       "      <td>6</td>\n",
       "      <td>4</td>\n",
       "    </tr>\n",
       "    <tr>\n",
       "      <th rowspan=\"2\" valign=\"top\">2차</th>\n",
       "      <th>공격</th>\n",
       "      <td>6</td>\n",
       "      <td>6</td>\n",
       "      <td>1</td>\n",
       "      <td>8</td>\n",
       "    </tr>\n",
       "    <tr>\n",
       "      <th>수비</th>\n",
       "      <td>2</td>\n",
       "      <td>2</td>\n",
       "      <td>2</td>\n",
       "      <td>8</td>\n",
       "    </tr>\n",
       "  </tbody>\n",
       "</table>\n",
       "</div>"
      ],
      "text/plain": [
       "       1회  2회  3회  4회\n",
       "1차 공격   9   8   2   9\n",
       "   수비   8   9   6   4\n",
       "2차 공격   6   6   1   8\n",
       "   수비   2   2   2   8"
      ]
     },
     "metadata": {},
     "output_type": "display_data"
    },
    {
     "data": {
      "text/html": [
       "<div>\n",
       "<style scoped>\n",
       "    .dataframe tbody tr th:only-of-type {\n",
       "        vertical-align: middle;\n",
       "    }\n",
       "\n",
       "    .dataframe tbody tr th {\n",
       "        vertical-align: top;\n",
       "    }\n",
       "\n",
       "    .dataframe thead th {\n",
       "        text-align: right;\n",
       "    }\n",
       "</style>\n",
       "<table border=\"1\" class=\"dataframe\">\n",
       "  <thead>\n",
       "    <tr style=\"text-align: right;\">\n",
       "      <th></th>\n",
       "      <th>1회</th>\n",
       "      <th>2회</th>\n",
       "    </tr>\n",
       "  </thead>\n",
       "  <tbody>\n",
       "    <tr>\n",
       "      <th>공격</th>\n",
       "      <td>6</td>\n",
       "      <td>6</td>\n",
       "    </tr>\n",
       "    <tr>\n",
       "      <th>수비</th>\n",
       "      <td>2</td>\n",
       "      <td>2</td>\n",
       "    </tr>\n",
       "  </tbody>\n",
       "</table>\n",
       "</div>"
      ],
      "text/plain": [
       "    1회  2회\n",
       "공격   6   6\n",
       "수비   2   2"
      ]
     },
     "metadata": {},
     "output_type": "display_data"
    }
   ],
   "source": [
    "import numpy as np\n",
    "import pandas as pd\n",
    "from IPython.display import display\n",
    "\n",
    "df = pd.DataFrame(np.random.randint(1, 10, (4, 4)),\n",
    "                  index = [['1차', '1차', '2차', '2차'],\n",
    "                           ['공격', '수비', '공격', '수비']],\n",
    "                  columns = ['1회', '2회', '3회', '4회'])\n",
    "\n",
    "display(df)\n",
    "display(df[['1회', '2회']].loc['2차'])"
   ]
  },
  {
   "cell_type": "markdown",
   "metadata": {},
   "source": [
    "피벗 테이블의 기초"
   ]
  },
  {
   "cell_type": "code",
   "execution_count": 131,
   "metadata": {},
   "outputs": [
    {
     "data": {
      "text/html": [
       "<div>\n",
       "<style scoped>\n",
       "    .dataframe tbody tr th:only-of-type {\n",
       "        vertical-align: middle;\n",
       "    }\n",
       "\n",
       "    .dataframe tbody tr th {\n",
       "        vertical-align: top;\n",
       "    }\n",
       "\n",
       "    .dataframe thead th {\n",
       "        text-align: right;\n",
       "    }\n",
       "</style>\n",
       "<table border=\"1\" class=\"dataframe\">\n",
       "  <thead>\n",
       "    <tr style=\"text-align: right;\">\n",
       "      <th></th>\n",
       "      <th>Name</th>\n",
       "      <th>Frequency</th>\n",
       "      <th>Importance</th>\n",
       "      <th>Type</th>\n",
       "    </tr>\n",
       "  </thead>\n",
       "  <tbody>\n",
       "    <tr>\n",
       "      <th>0</th>\n",
       "      <td>Apple</td>\n",
       "      <td>7</td>\n",
       "      <td>5</td>\n",
       "      <td>Fruit</td>\n",
       "    </tr>\n",
       "    <tr>\n",
       "      <th>1</th>\n",
       "      <td>Banana</td>\n",
       "      <td>3</td>\n",
       "      <td>6</td>\n",
       "      <td>Fruit</td>\n",
       "    </tr>\n",
       "    <tr>\n",
       "      <th>2</th>\n",
       "      <td>Coconut</td>\n",
       "      <td>2</td>\n",
       "      <td>6</td>\n",
       "      <td>Fruit</td>\n",
       "    </tr>\n",
       "    <tr>\n",
       "      <th>3</th>\n",
       "      <td>Rice</td>\n",
       "      <td>8</td>\n",
       "      <td>2</td>\n",
       "      <td>Meal</td>\n",
       "    </tr>\n",
       "    <tr>\n",
       "      <th>4</th>\n",
       "      <td>Beef</td>\n",
       "      <td>5</td>\n",
       "      <td>2</td>\n",
       "      <td>Meal</td>\n",
       "    </tr>\n",
       "    <tr>\n",
       "      <th>5</th>\n",
       "      <td>Kimchi</td>\n",
       "      <td>4</td>\n",
       "      <td>8</td>\n",
       "      <td>Meal</td>\n",
       "    </tr>\n",
       "  </tbody>\n",
       "</table>\n",
       "</div>"
      ],
      "text/plain": [
       "      Name  Frequency  Importance   Type\n",
       "0    Apple          7           5  Fruit\n",
       "1   Banana          3           6  Fruit\n",
       "2  Coconut          2           6  Fruit\n",
       "3     Rice          8           2   Meal\n",
       "4     Beef          5           2   Meal\n",
       "5   Kimchi          4           8   Meal"
      ]
     },
     "metadata": {},
     "output_type": "display_data"
    },
    {
     "data": {
      "text/html": [
       "<div>\n",
       "<style scoped>\n",
       "    .dataframe tbody tr th:only-of-type {\n",
       "        vertical-align: middle;\n",
       "    }\n",
       "\n",
       "    .dataframe tbody tr th {\n",
       "        vertical-align: top;\n",
       "    }\n",
       "\n",
       "    .dataframe thead th {\n",
       "        text-align: right;\n",
       "    }\n",
       "</style>\n",
       "<table border=\"1\" class=\"dataframe\">\n",
       "  <thead>\n",
       "    <tr style=\"text-align: right;\">\n",
       "      <th>Type</th>\n",
       "      <th>Fruit</th>\n",
       "      <th>Meal</th>\n",
       "    </tr>\n",
       "    <tr>\n",
       "      <th>Importance</th>\n",
       "      <th></th>\n",
       "      <th></th>\n",
       "    </tr>\n",
       "  </thead>\n",
       "  <tbody>\n",
       "    <tr>\n",
       "      <th>2</th>\n",
       "      <td>NaN</td>\n",
       "      <td>6.5</td>\n",
       "    </tr>\n",
       "    <tr>\n",
       "      <th>5</th>\n",
       "      <td>7.0</td>\n",
       "      <td>NaN</td>\n",
       "    </tr>\n",
       "    <tr>\n",
       "      <th>6</th>\n",
       "      <td>2.5</td>\n",
       "      <td>NaN</td>\n",
       "    </tr>\n",
       "    <tr>\n",
       "      <th>8</th>\n",
       "      <td>NaN</td>\n",
       "      <td>4.0</td>\n",
       "    </tr>\n",
       "  </tbody>\n",
       "</table>\n",
       "</div>"
      ],
      "text/plain": [
       "Type        Fruit  Meal\n",
       "Importance             \n",
       "2             NaN   6.5\n",
       "5             7.0   NaN\n",
       "6             2.5   NaN\n",
       "8             NaN   4.0"
      ]
     },
     "metadata": {},
     "output_type": "display_data"
    }
   ],
   "source": [
    "import numpy as np\n",
    "import pandas as pd\n",
    "from IPython.display import display\n",
    "\n",
    "df = pd.DataFrame([\n",
    "    ['Apple', 7, 5, 'Fruit'],\n",
    "    ['Banana', 3, 6, 'Fruit'],\n",
    "    ['Coconut', 2, 6, 'Fruit'],\n",
    "    ['Rice', 8, 2, 'Meal'],\n",
    "    ['Beef', 5, 2, 'Meal'],\n",
    "    ['Kimchi', 4, 8, 'Meal']],\n",
    "   columns=[\"Name\", \"Frequency\", \"Importance\", \"Type\"])\n",
    "\n",
    "display(df)\n",
    "\n",
    "df_pivot = df.pivot_table(\n",
    "    index = 'Importance',\n",
    "    columns = 'Type',\n",
    "    values = 'Frequency'\n",
    ")\n",
    "\n",
    "display(df_pivot)"
   ]
  }
 ],
 "metadata": {
  "kernelspec": {
   "display_name": "Python 3 (ipykernel)",
   "language": "python",
   "name": "python3"
  },
  "language_info": {
   "codemirror_mode": {
    "name": "ipython",
    "version": 3
   },
   "file_extension": ".py",
   "mimetype": "text/x-python",
   "name": "python",
   "nbconvert_exporter": "python",
   "pygments_lexer": "ipython3",
   "version": "3.11.7"
  }
 },
 "nbformat": 4,
 "nbformat_minor": 4
}
