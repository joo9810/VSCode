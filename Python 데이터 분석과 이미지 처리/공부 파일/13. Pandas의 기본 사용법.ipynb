{
 "cells": [
  {
   "cell_type": "markdown",
   "metadata": {},
   "source": [
    "시리즈(Series)"
   ]
  },
  {
   "cell_type": "code",
   "execution_count": 10,
   "metadata": {},
   "outputs": [
    {
     "name": "stdout",
     "output_type": "stream",
     "text": [
      "a     사과\n",
      "b    바나나\n",
      "c     당근\n",
      "dtype: object\n",
      "사과\n"
     ]
    }
   ],
   "source": [
    "import pandas as pd\n",
    "\n",
    "array = pd.Series(['사과', '바나나', '당근'], index = ['a', 'b', 'c']) # 인덱스와 값으로 구성\n",
    "\n",
    "print(array)\n",
    "print(array['a']) # a 인덱스의 데이터"
   ]
  },
  {
   "cell_type": "markdown",
   "metadata": {},
   "source": [
    "딕셔너리(Dictionary)를 시리즈(Series)로 변환"
   ]
  },
  {
   "cell_type": "code",
   "execution_count": 13,
   "metadata": {},
   "outputs": [
    {
     "name": "stdout",
     "output_type": "stream",
     "text": [
      "a     사과\n",
      "b    바나나\n",
      "c     당근\n",
      "dtype: object\n",
      "사과\n"
     ]
    }
   ],
   "source": [
    "data = {\n",
    "    'a' : '사과',\n",
    "    'b' : '바나나',\n",
    "    'c' : '당근'\n",
    "}\n",
    "\n",
    "array = pd.Series(data)\n",
    "\n",
    "print(array)\n",
    "print(array['a'])"
   ]
  },
  {
   "cell_type": "markdown",
   "metadata": {},
   "source": [
    "데이터 프레임(DataFrame)"
   ]
  },
  {
   "cell_type": "code",
   "execution_count": 14,
   "metadata": {},
   "outputs": [
    {
     "name": "stdout",
     "output_type": "stream",
     "text": [
      "Apple      사과\n",
      "Banana    바나나\n",
      "Carrot     당근\n",
      "dtype: object\n",
      "Apple     3\n",
      "Banana    5\n",
      "Carrot    7\n",
      "dtype: int64\n",
      "       word  frequency\n",
      "Apple    사과          3\n",
      "Banana  바나나          5\n",
      "Carrot   당근          7\n"
     ]
    }
   ],
   "source": [
    "word_dict = {\n",
    "    'Apple' : '사과',\n",
    "    'Banana' : '바나나',\n",
    "    'Carrot' : '당근'\n",
    "}\n",
    "\n",
    "frequency_dict = {\n",
    "    'Apple' : 3,\n",
    "    'Banana' : 5,\n",
    "    'Carrot' : 7\n",
    "}\n",
    "\n",
    "# 딕셔너리들을 시리즈로 변환\n",
    "word = pd.Series(word_dict)\n",
    "frequency = pd.Series(frequency_dict)\n",
    "\n",
    "print(word)\n",
    "print(frequency)\n",
    "\n",
    "# 데이터 프레임은 다수의 시리즈로 구성\n",
    "summary = pd.DataFrame({\n",
    "    'word' : word, \n",
    "    'frequency' : frequency\n",
    "    # word와 frequency를 칼럼명으로 인식\n",
    "})\n",
    "\n",
    "print(summary)"
   ]
  },
  {
   "cell_type": "markdown",
   "metadata": {},
   "source": [
    "시리즈의 연산"
   ]
  },
  {
   "cell_type": "code",
   "execution_count": 17,
   "metadata": {},
   "outputs": [
    {
     "name": "stdout",
     "output_type": "stream",
     "text": [
      "       word  frequency  important  score\n",
      "Apple    사과          3          3      9\n",
      "Banana  바나나          5          2     10\n",
      "Carrot   당근          7          1      7\n"
     ]
    }
   ],
   "source": [
    "import pandas as pd\n",
    "\n",
    "word_dict = {\n",
    "    'Apple' : '사과',\n",
    "    'Banana' : '바나나',\n",
    "    'Carrot' : '당근'\n",
    "}\n",
    "\n",
    "frequency_dict = {\n",
    "    'Apple' : 3,\n",
    "    'Banana' : 5,\n",
    "    'Carrot' : 7\n",
    "}\n",
    "\n",
    "important_dict = {\n",
    "    'Apple' : 3,\n",
    "    'Banana' : 2,\n",
    "    'Carrot' : 1\n",
    "}\n",
    "\n",
    "word = pd.Series(word_dict)\n",
    "frequency = pd.Series(frequency_dict)\n",
    "important = pd.Series(important_dict)\n",
    "\n",
    "summary = pd.DataFrame({\n",
    "    'word' : word,\n",
    "    'frequency' : frequency,\n",
    "    'important' : important\n",
    "})\n",
    "\n",
    "score = summary['frequency'] * summary['important']\n",
    "summary['score'] = score\n",
    "\n",
    "print(summary)"
   ]
  },
  {
   "cell_type": "markdown",
   "metadata": {},
   "source": [
    "데이터 프레임의 슬라이싱(Slicing)"
   ]
  },
  {
   "cell_type": "code",
   "execution_count": 30,
   "metadata": {},
   "outputs": [
    {
     "name": "stdout",
     "output_type": "stream",
     "text": [
      "       word  frequency  important\n",
      "Apple    사과          3          3\n",
      "Banana  바나나          5          2\n",
      "Carrot   당근          7          1\n",
      "Durian  두리안          2          1\n",
      "        important\n",
      "Banana          2\n",
      "Carrot          1\n",
      "Durian          1\n",
      "        important\n",
      "Banana          2\n",
      "Carrot          1\n",
      "Durian          1\n"
     ]
    }
   ],
   "source": [
    "word_dict = {\n",
    "    'Apple' : '사과',\n",
    "    'Banana' : '바나나',\n",
    "    'Carrot' : '당근',\n",
    "    'Durian' : '두리안'\n",
    "}\n",
    "\n",
    "frequency_dict = {\n",
    "    'Apple' : 3,\n",
    "    'Banana' : 5,\n",
    "    'Carrot' : 7,\n",
    "    'Durian' : 2\n",
    "}\n",
    "\n",
    "important_dict = {\n",
    "    'Apple' : 3,\n",
    "    'Banana' : 2,\n",
    "    'Carrot' : 1,\n",
    "    'Durian' : 1\n",
    "}\n",
    "\n",
    "word = pd.Series(word_dict)\n",
    "frequency = pd.Series(frequency_dict)\n",
    "important = pd.Series(important_dict)\n",
    "\n",
    "summary = pd.DataFrame({\n",
    "    'word' : word,\n",
    "    'frequency' : frequency,\n",
    "    'important' : important\n",
    "})\n",
    "\n",
    "print(summary)\n",
    "\n",
    "# loc: 이름을 기준으로 슬라이싱\n",
    "print(summary.loc['Banana':'Durian', 'important':])\n",
    "\n",
    "# iloc: 인덱스를 기준으로 슬라이싱\n",
    "print(summary.iloc[1:4, 2:])"
   ]
  },
  {
   "cell_type": "markdown",
   "metadata": {},
   "source": [
    "데이터 프레임의 연산"
   ]
  },
  {
   "cell_type": "code",
   "execution_count": 32,
   "metadata": {},
   "outputs": [
    {
     "name": "stdout",
     "output_type": "stream",
     "text": [
      "       word  frequency  important\n",
      "Apple    사과          3          3\n",
      "Banana  바나나          5          2\n",
      "Carrot   당근          7          1\n",
      "Durian  두리안          2          1\n",
      "            word  frequency  important\n",
      "Apple         사과          3          5\n",
      "Banana       바나나          5          2\n",
      "Carrot        당근          7          1\n",
      "Durian       두리안          2          1\n",
      "Elderberry  엘더베리          5          3\n"
     ]
    }
   ],
   "source": [
    "word_dict = {\n",
    "    'Apple' : '사과',\n",
    "    'Banana' : '바나나',\n",
    "    'Carrot' : '당근',\n",
    "    'Durian' : '두리안'\n",
    "}\n",
    "\n",
    "frequency_dict = {\n",
    "    'Apple' : 3,\n",
    "    'Banana' : 5,\n",
    "    'Carrot' : 7,\n",
    "    'Durian' : 2\n",
    "}\n",
    "\n",
    "important_dict = {\n",
    "    'Apple' : 3,\n",
    "    'Banana' : 2,\n",
    "    'Carrot' : 1,\n",
    "    'Durian' : 1\n",
    "}\n",
    "\n",
    "word = pd.Series(word_dict)\n",
    "frequency = pd.Series(frequency_dict)\n",
    "important = pd.Series(important_dict)\n",
    "\n",
    "summary = pd.DataFrame({\n",
    "    'word' : word,\n",
    "    'frequency' : frequency,\n",
    "    'important' : important\n",
    "})\n",
    "\n",
    "print(summary)\n",
    "\n",
    "summary.loc['Apple', 'important'] = 5 # 데이터 변경\n",
    "summary.loc['Elderberry'] = ['엘더베리', 5, 3] # 데이터 추가\n",
    "\n",
    "print(summary)"
   ]
  },
  {
   "cell_type": "markdown",
   "metadata": {},
   "source": [
    "엑셀로 내보내기/불러오기"
   ]
  },
  {
   "cell_type": "code",
   "execution_count": 38,
   "metadata": {},
   "outputs": [
    {
     "name": "stdout",
     "output_type": "stream",
     "text": [
      "       word  frequency\n",
      "Apple    사과          3\n",
      "Banana  바나나          5\n",
      "Carrot   당근          7\n",
      "       word  frequency\n",
      "Apple    사과          3\n",
      "Banana  바나나          5\n",
      "Carrot   당근          7\n"
     ]
    }
   ],
   "source": [
    "import pandas as pd\n",
    "\n",
    "word_dict = {\n",
    "    'Apple': '사과',\n",
    "    'Banana': '바나나',\n",
    "    'Carrot': '당근'\n",
    "}\n",
    "\n",
    "frequency_dict = {\n",
    "    'Apple': 3,\n",
    "    'Banana': 5,\n",
    "    'Carrot': 7\n",
    "}\n",
    "\n",
    "word = pd.Series(word_dict)\n",
    "frequency = pd.Series(frequency_dict)\n",
    "\n",
    "summary = pd.DataFrame({\n",
    "    'word': word,\n",
    "    'frequency': frequency\n",
    "})\n",
    "\n",
    "print(summary)\n",
    "\n",
    "summary.to_csv('summary.csv', encoding = 'utf-8-sig') # 데이터 저장\n",
    "saved = pd.read_csv('summary.csv', index_col = 0) # 데이터 불러오기 (index_col = 0: 첫 번째 열을 인덱스로 사용)\n",
    "\n",
    "print(saved)"
   ]
  }
 ],
 "metadata": {
  "kernelspec": {
   "display_name": "Python 3",
   "language": "python",
   "name": "python3"
  },
  "language_info": {
   "codemirror_mode": {
    "name": "ipython",
    "version": 3
   },
   "file_extension": ".py",
   "mimetype": "text/x-python",
   "name": "python",
   "nbconvert_exporter": "python",
   "pygments_lexer": "ipython3",
   "version": "3.9.18"
  }
 },
 "nbformat": 4,
 "nbformat_minor": 2
}
