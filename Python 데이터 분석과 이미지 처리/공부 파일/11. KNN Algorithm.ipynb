{
 "cells": [
  {
   "cell_type": "code",
   "execution_count": null,
   "metadata": {},
   "outputs": [],
   "source": [
    "!pip install pandas"
   ]
  },
  {
   "cell_type": "markdown",
   "metadata": {},
   "source": [
    "KNN 알고리즘"
   ]
  },
  {
   "cell_type": "code",
   "execution_count": 27,
   "metadata": {},
   "outputs": [
    {
     "name": "stdout",
     "output_type": "stream",
     "text": [
      "[[22. 20.]\n",
      " [38.  1.]\n",
      " [91. 82.]\n",
      " [11. 86.]\n",
      " [43. 33.]]\n",
      "[[1.]\n",
      " [1.]\n",
      " [1.]\n",
      " [1.]\n",
      " [1.]]\n",
      "[[69. 13.]]\n"
     ]
    }
   ],
   "source": [
    "import cv2\n",
    "import matplotlib.pyplot as plt\n",
    "import numpy as np\n",
    "import pandas as pd\n",
    "\n",
    "trainData = np.random.randint(0, 100, (25, 2)).astype(np.float32)\n",
    "print(trainData[:5]) # 0~99 사이의 정수들 중에 x, y 축 값으로 25개 뽑기 (5개만 보기)\n",
    "\n",
    "response = np.random.randint(0, 2, (25, 1)).astype(np.float32)\n",
    "print(response[:5]) # 0또는 1 중에 25개 뽑기 (5개만 보기)\n",
    "\n",
    "NewData = np.random.randint(0, 100, (1, 2)).astype(np.float32) # 0~99 사이의 정수들 중에 x, y 축 값으로 1개 뽑기\n",
    "print(NewData)"
   ]
  },
  {
   "cell_type": "code",
   "execution_count": 28,
   "metadata": {},
   "outputs": [
    {
     "name": "stdout",
     "output_type": "stream",
     "text": [
      "[[14. 11.]\n",
      " [90. 49.]\n",
      " [48. 24.]\n",
      " [37. 63.]\n",
      " [47. 78.]\n",
      " [32. 29.]\n",
      " [78.  8.]\n",
      " [96. 60.]\n",
      " [ 6.  7.]\n",
      " [ 8. 51.]\n",
      " [60. 67.]\n",
      " [82. 37.]]\n"
     ]
    }
   ],
   "source": [
    "red = trainData[response.ravel() == 0]\n",
    "print(red) # reponse 값이 0인 trainData 인덱스 값을 red로 지정"
   ]
  },
  {
   "cell_type": "code",
   "execution_count": 29,
   "metadata": {},
   "outputs": [
    {
     "name": "stdout",
     "output_type": "stream",
     "text": [
      "[[22. 20.]\n",
      " [38.  1.]\n",
      " [91. 82.]\n",
      " [11. 86.]\n",
      " [43. 33.]\n",
      " [ 6. 71.]\n",
      " [91. 17.]\n",
      " [59. 76.]\n",
      " [49. 74.]\n",
      " [69. 80.]\n",
      " [34. 52.]\n",
      " [79. 12.]\n",
      " [90. 48.]]\n"
     ]
    }
   ],
   "source": [
    "blue = trainData[response.ravel() == 1]\n",
    "print(blue) # reponse 값이 1인 trainData 인덱스 값을 blue로 지정"
   ]
  },
  {
   "cell_type": "code",
   "execution_count": 31,
   "metadata": {},
   "outputs": [
    {
     "data": {
      "text/plain": [
       "<matplotlib.collections.PathCollection at 0x2441bb88520>"
      ]
     },
     "execution_count": 31,
     "metadata": {},
     "output_type": "execute_result"
    },
    {
     "data": {
      "image/png": "[encoded data removed]",
      "text/plain": [
       "<Figure size 640x480 with 1 Axes>"
      ]
     },
     "metadata": {},
     "output_type": "display_data"
    }
   ],
   "source": [
    "plt.scatter(red[:, 0], red[:, 1], 80, \"r\", \"^\") # 80은 마커의 크기\n",
    "plt.scatter(blue[:, 0], blue[:, 1], 80, \"b\", \"s\")\n",
    "\n",
    "plt.scatter(NewData[:, 0], NewData[:, 1], 80, \"g\", \"o\")"
   ]
  },
  {
   "cell_type": "code",
   "execution_count": 32,
   "metadata": {},
   "outputs": [
    {
     "data": {
      "text/plain": [
       "True"
      ]
     },
     "execution_count": 32,
     "metadata": {},
     "output_type": "execute_result"
    }
   ],
   "source": [
    "knn = cv2.ml.KNearest.create()\n",
    "knn.train(trainData, cv2.ml.ROW_SAMPLE, response)\n",
    "# ROW_SAMPLE: 데이터가 행 단위로 구성된다는 것을 나타내는 플래그\n",
    "# response: 각 훈련 샘플에 대한 응답(라벨)을 나타내는 배열"
   ]
  },
  {
   "cell_type": "code",
   "execution_count": 35,
   "metadata": {},
   "outputs": [
    {
     "name": "stdout",
     "output_type": "stream",
     "text": [
      "(1.0, array([[1.]], dtype=float32), array([[1., 0., 1.]], dtype=float32), array([[101., 106., 500.]], dtype=float32))\n"
     ]
    }
   ],
   "source": [
    "ret, result, neighbors, distance =knn.findNearest(NewData, 3)\n",
    "print(knn.findNearest(NewData, 3))\n",
    "# ret = 1.0\n",
    "# result = array([[1.]], dtype=float32)\n",
    "# neighbors = array([[1., 0., 1.]]dtype=float32)\n",
    "# distance = array([[101., 106., 500.]], dtype=float32))"
   ]
  },
  {
   "cell_type": "code",
   "execution_count": 37,
   "metadata": {},
   "outputs": [
    {
     "name": "stdout",
     "output_type": "stream",
     "text": [
      "ret : 1.0\n",
      "result : [[1.]]\n",
      "neighbors : [[1. 0. 1.]]\n",
      "distance : [[101. 106. 500.]]\n"
     ]
    }
   ],
   "source": [
    "print(\"ret :\", ret)\n",
    "print(\"result :\", result)\n",
    "print(\"neighbors :\", neighbors)\n",
    "print(\"distance :\", distance)"
   ]
  },
  {
   "cell_type": "code",
   "execution_count": null,
   "metadata": {},
   "outputs": [],
   "source": []
  }
 ],
 "metadata": {
  "kernelspec": {
   "display_name": "Python 3",
   "language": "python",
   "name": "python3"
  },
  "language_info": {
   "codemirror_mode": {
    "name": "ipython",
    "version": 3
   },
   "file_extension": ".py",
   "mimetype": "text/x-python",
   "name": "python",
   "nbconvert_exporter": "python",
   "pygments_lexer": "ipython3",
   "version": "3.9.18"
  }
 },
 "nbformat": 4,
 "nbformat_minor": 2
}
