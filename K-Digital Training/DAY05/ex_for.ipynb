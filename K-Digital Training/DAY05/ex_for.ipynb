{
 "cells": [
  {
   "cell_type": "markdown",
   "metadata": {},
   "source": [
    "## ex_for_01"
   ]
  },
  {
   "cell_type": "markdown",
   "metadata": {},
   "source": [
    "제어문 - 반복문\n",
    "- 유사하거나 동일한 코드를 1번 작성으로 재사용하기 위한 방법\n",
    "- 종류 : for, while"
   ]
  },
  {
   "cell_type": "markdown",
   "metadata": {},
   "source": [
    "for 반복문\n",
    " - 시퀀스(이터러블) 데이터에서 원소/요소를 하나씩 읽어올때 사용\n",
    " - 형식 : \n",
    " - for 변수명 in 시퀀스/이터러블 데이터:  \n",
    "   ----반복 실행될 코드"
   ]
  },
  {
   "cell_type": "markdown",
   "metadata": {},
   "source": [
    "[실습] 문자열에서 문자를 1줄에 1개씩 출력하기"
   ]
  },
  {
   "cell_type": "code",
   "execution_count": 1,
   "metadata": {},
   "outputs": [
    {
     "name": "stdout",
     "output_type": "stream",
     "text": [
      "M\n",
      "e\n",
      "r\n",
      "r\n",
      "y\n",
      " \n",
      "C\n",
      "h\n",
      "r\n",
      "i\n",
      "s\n",
      "t\n",
      "m\n",
      "a\n",
      "s\n",
      " \n",
      "2\n",
      "0\n",
      "2\n",
      "5\n"
     ]
    }
   ],
   "source": [
    "msg = \"Merry Christmas 2025\"\n",
    "\n",
    "for i in msg:\n",
    "    print(i)"
   ]
  },
  {
   "cell_type": "code",
   "execution_count": null,
   "metadata": {},
   "outputs": [],
   "source": []
  }
 ],
 "metadata": {
  "kernelspec": {
   "display_name": "Python 3",
   "language": "python",
   "name": "python3"
  },
  "language_info": {
   "codemirror_mode": {
    "name": "ipython",
    "version": 3
   },
   "file_extension": ".py",
   "mimetype": "text/x-python",
   "name": "python",
   "nbconvert_exporter": "python",
   "pygments_lexer": "ipython3",
   "version": "3.12.2"
  }
 },
 "nbformat": 4,
 "nbformat_minor": 2
}
