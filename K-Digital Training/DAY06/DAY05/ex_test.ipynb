{
 "cells": [
  {
   "cell_type": "markdown",
   "metadata": {},
   "source": [
    "## ex_test_01"
   ]
  },
  {
   "cell_type": "markdown",
   "metadata": {},
   "source": [
    "[실습1] 글자를 입력 받습니다  \n",
    "-------입력 받은 글자의(a~z, A~Z) 코드값을 출력합니다."
   ]
  },
  {
   "cell_type": "code",
   "execution_count": 25,
   "metadata": {},
   "outputs": [
    {
     "name": "stdout",
     "output_type": "stream",
     "text": [
      "aA의 아스키 코드: [97, 65]\n"
     ]
    }
   ],
   "source": [
    "data = input('글자 입력(a~z, A~Z): ')\n",
    "\n",
    "if (len(data) > 0) and ('a' <= data <= 'z' or 'A' <= data <= 'Z'):\n",
    "        print(f'{data}의 아스키 코드: {list(map(ord, data))}')\n",
    "else:\n",
    "    print('한 개의 알파벳 문자만 입력해야 합니다. \\n입력된 데이터를 확인하세요.')"
   ]
  },
  {
   "cell_type": "markdown",
   "metadata": {},
   "source": [
    "[실습1] 점수를 입력 받은 후 학점을 출력합니다.  \n",
    "-------학점: A+, A, A-, B+, B, B-, C+, C, C-, D+, D, D-, F  \n",
    "\\# A+ : 96 ~ 100  \n",
    "\\# A  : 95  \n",
    "\\# A- : 90 ~ 94  \n",
    "\\# B+ : 85 ~ 89\n"
   ]
  },
  {
   "cell_type": "code",
   "execution_count": 29,
   "metadata": {},
   "outputs": [
    {
     "name": "stdout",
     "output_type": "stream",
     "text": [
      "90점의 학점은 A-입니다.\n"
     ]
    }
   ],
   "source": [
    "score = int(input())\n",
    "grade = ''\n",
    "\n",
    "if score < 0 or score > 100:\n",
    "    print(f'{score}는 잘못 입력된 점수입니다.')\n",
    "else:\n",
    "    if score > 95:\n",
    "        grade = 'A+'\n",
    "    elif score == 95:\n",
    "        grade = 'A'\n",
    "    elif score >= 90:\n",
    "        grade = 'A-'\n",
    "    elif score > 85:\n",
    "        grade = 'B+'\n",
    "    elif score == 85:\n",
    "        grade = 'B'\n",
    "    elif score >= 80:\n",
    "        grade = 'B-'\n",
    "    elif score > 75:\n",
    "        grade = 'C+'\n",
    "    elif score == 75:\n",
    "        grade = 'C'\n",
    "    elif score >= 70:\n",
    "        grade = 'C-'\n",
    "    elif score > 65:\n",
    "        grade = 'D+'\n",
    "    elif score == 65:\n",
    "        grade = 'D'\n",
    "    elif score >= 60:\n",
    "        grade = 'D-'\n",
    "    else:\n",
    "        grade = 'F'\n",
    "    print(f'{score}점의 학점은 {grade}입니다.')"
   ]
  },
  {
   "cell_type": "markdown",
   "metadata": {},
   "source": [
    "## ex_test_02"
   ]
  },
  {
   "cell_type": "markdown",
   "metadata": {},
   "source": [
    "[실습] 임의의 숫자가 5의 배수인지 아닌지 결과를 출력하세요."
   ]
  },
  {
   "cell_type": "code",
   "execution_count": 46,
   "metadata": {},
   "outputs": [
    {
     "name": "stdout",
     "output_type": "stream",
     "text": [
      "4은(는) 5의 배수가 아닙니다.\n"
     ]
    }
   ],
   "source": [
    "num = int(input())\n",
    "\n",
    "print(f'{num}은(는) 5의 배수입니다.') if num % 5 == 0 else print(f'{num}은(는) 5의 배수가 아닙니다.')"
   ]
  },
  {
   "cell_type": "code",
   "execution_count": 47,
   "metadata": {},
   "outputs": [
    {
     "name": "stdout",
     "output_type": "stream",
     "text": [
      "5은(는) 5의 배수입니다.\n"
     ]
    }
   ],
   "source": [
    "num = int(input())\n",
    "\n",
    "if num % 5 == 0:\n",
    "    print(f'{num}은(는) 5의 배수입니다.')\n",
    "else:\n",
    "    print(f'{num}은(는) 5의 배수가 아닙니다.')"
   ]
  },
  {
   "cell_type": "markdown",
   "metadata": {},
   "source": [
    "[실습] 문자열을 입력 받아서 문자열의 원소 개수를 저장\n",
    " - 단 원소 개수가 0이면 None 저장\n",
    " - (1) 입력받기 input()\n",
    " - (2) 원소/요소 개수 파악 len()\n",
    " - (3) 원소/요소 개수 저장 단, 0인 경우 None 저장하기"
   ]
  },
  {
   "cell_type": "code",
   "execution_count": 56,
   "metadata": {},
   "outputs": [
    {
     "name": "stdout",
     "output_type": "stream",
     "text": [
      "Hello Python 문자열의 원소 개수 : 12개\n"
     ]
    }
   ],
   "source": [
    "data = input('문자열을 입력하세요 : ')\n",
    "\n",
    "result = len(data) if len(data) > 0 else None\n",
    "\n",
    "print(f'{data} 문자열의 원소 개수 : {result}개')"
   ]
  },
  {
   "cell_type": "code",
   "execution_count": 53,
   "metadata": {},
   "outputs": [
    {
     "name": "stdout",
     "output_type": "stream",
     "text": [
      "Hello 문자열의 원소 개수 : 5개\n"
     ]
    }
   ],
   "source": [
    "data = input('문자열을 입력하세요 : ')\n",
    "\n",
    "result = ''\n",
    "\n",
    "if len(data) > 0:\n",
    "    result = len(data)\n",
    "else:\n",
    "    result = None\n",
    "\n",
    "print(f'{data} 문자열의 원소 개수 : {result}개')"
   ]
  },
  {
   "cell_type": "markdown",
   "metadata": {},
   "source": [
    "[실습] 연산자(4칙연산자 : +, -, *, /)와 숫자 2개 입력 받기\n",
    " - 입력된 연산자에 따라 계산 결과 저장\n",
    " - 예) 입력 : + 10 3     출력 : 13"
   ]
  },
  {
   "cell_type": "code",
   "execution_count": 60,
   "metadata": {},
   "outputs": [
    {
     "name": "stdout",
     "output_type": "stream",
     "text": [
      "10 * 3 = 30\n"
     ]
    }
   ],
   "source": [
    "data = input('사칙 연산자 1개와 숫자 2개 입력\\n(예: + 10 3) : ').split()\n",
    "\n",
    "result = ''\n",
    "\n",
    "\n",
    "if data[0] == '+':\n",
    "    result = int(data[1]) + int(data[2])\n",
    "elif data[0] == '-':\n",
    "    result = int(data[1]) - int(data[2])\n",
    "elif data[0] == '*':\n",
    "    result = int(data[1]) * int(data[2])\n",
    "elif data[0] == '/':\n",
    "    result = int(data[1]) / int(data[2])\n",
    "else:\n",
    "   print('사칙 연산자 하나와 숫자 2개를 입력하세요.')\n",
    "\n",
    "print(result)"
   ]
  },
  {
   "cell_type": "code",
   "execution_count": 62,
   "metadata": {},
   "outputs": [
    {
     "name": "stdout",
     "output_type": "stream",
     "text": [
      "['+', '5', '9']\n"
     ]
    }
   ],
   "source": [
    "command = input('사칙 연산자 1개와 숫자 2개 입력\\n(예: + 10 3) : ').split()\n",
    "print(command)"
   ]
  },
  {
   "cell_type": "code",
   "execution_count": null,
   "metadata": {},
   "outputs": [],
   "source": []
  }
 ],
 "metadata": {
  "kernelspec": {
   "display_name": "Python 3",
   "language": "python",
   "name": "python3"
  },
  "language_info": {
   "codemirror_mode": {
    "name": "ipython",
    "version": 3
   },
   "file_extension": ".py",
   "mimetype": "text/x-python",
   "name": "python",
   "nbconvert_exporter": "python",
   "pygments_lexer": "ipython3",
   "version": "3.12.2"
  }
 },
 "nbformat": 4,
 "nbformat_minor": 2
}
