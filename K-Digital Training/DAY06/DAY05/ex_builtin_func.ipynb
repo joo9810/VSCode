{
 "cells": [
  {
   "cell_type": "markdown",
   "metadata": {},
   "source": [
    "내장함수"
   ]
  },
  {
   "cell_type": "markdown",
   "metadata": {},
   "source": [
    "정수 관련 내장함수  \n",
    "2진수(컴), 8진수, 10진수(사), 16진수(프)  \n",
    "숫자 표현  \n",
    " - [10진수] 0~9        0 1 2 3 4 5 6 7 8 9 10 11 .... 19 20 21 ... 99 100  \n",
    " - [8진수]  0~7        0 1 2 3 4 5 6 7 10 11 ... 17 20 .....  \n",
    " - [2진수]  0~1        0 1 10 11   \n",
    " - [16진수] 0~9 A~F    0 1 2 3 4 5 6 7 8 9 A B ... F 10 ... FF 100  "
   ]
  },
  {
   "cell_type": "markdown",
   "metadata": {},
   "source": [
    "정수 ==> 2진수 변환해주는 내장함수 bin(정수) ==> 0b2진수 str타입"
   ]
  },
  {
   "cell_type": "code",
   "execution_count": 2,
   "metadata": {},
   "outputs": [
    {
     "name": "stdout",
     "output_type": "stream",
     "text": [
      "4 0b100 <class 'str'>\n"
     ]
    }
   ],
   "source": [
    "print(4, bin(4), type(bin(4)))"
   ]
  },
  {
   "cell_type": "markdown",
   "metadata": {},
   "source": [
    "정수 ==> 8진수 변환해주는 내장함수 oct(정수) ==> 0o8진수 str타입"
   ]
  },
  {
   "cell_type": "code",
   "execution_count": 4,
   "metadata": {},
   "outputs": [
    {
     "name": "stdout",
     "output_type": "stream",
     "text": [
      "4 0o4 <class 'str'>\n",
      "8 0o10 <class 'str'>\n"
     ]
    }
   ],
   "source": [
    "print(4, oct(4), type(oct(4)))\n",
    "print(8, oct(8), type(oct(8)))"
   ]
  },
  {
   "cell_type": "markdown",
   "metadata": {},
   "source": [
    "정수 ==> 16진수 변환해주는 내장함수 hex(정수) ==> 0x16진수 str타입"
   ]
  },
  {
   "cell_type": "code",
   "execution_count": 5,
   "metadata": {},
   "outputs": [
    {
     "name": "stdout",
     "output_type": "stream",
     "text": [
      "17 0x11 <class 'str'>\n"
     ]
    }
   ],
   "source": [
    "print(17, hex(17), type(hex(17)))"
   ]
  },
  {
   "cell_type": "code",
   "execution_count": null,
   "metadata": {},
   "outputs": [],
   "source": []
  }
 ],
 "metadata": {
  "kernelspec": {
   "display_name": "Python 3",
   "language": "python",
   "name": "python3"
  },
  "language_info": {
   "codemirror_mode": {
    "name": "ipython",
    "version": 3
   },
   "file_extension": ".py",
   "mimetype": "text/x-python",
   "name": "python",
   "nbconvert_exporter": "python",
   "pygments_lexer": "ipython3",
   "version": "3.12.2"
  }
 },
 "nbformat": 4,
 "nbformat_minor": 2
}
