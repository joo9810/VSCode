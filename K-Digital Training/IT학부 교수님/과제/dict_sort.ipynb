{
 "cells": [
  {
   "cell_type": "markdown",
   "metadata": {},
   "source": [
    "## Python 과제 #02"
   ]
  },
  {
   "cell_type": "code",
   "execution_count": 45,
   "metadata": {},
   "outputs": [
    {
     "name": "stdout",
     "output_type": "stream",
     "text": [
      "--------------------------------------------------\n",
      "\n",
      "1. 전체 데이터 출력\n",
      "2. 수도 이름 오름차순 출력\n",
      "3. 모든 도시의 인구수 내림차순 출력\n",
      "4. 특정 도시의 정보 출력\n",
      "5. 대륙별 인구수 계산 및 출력\n",
      "6. 프로그램 종료\n",
      "\n",
      "--------------------------------------------------\n",
      "Beijing     : China           Asia     21,540,000\n",
      "Berlin      : Germany         Europe   3,426,000\n",
      "London      : United Kingdom  Europe   14,800,000\n",
      "Mexico City : Mexico          America  21,200,000\n",
      "Seoul       : South Korea     Asia     9,655,000\n",
      "Tokyo       : Japan           Asia     14,110,000\n",
      "--------------------------------------------------\n",
      "\n",
      "1. 전체 데이터 출력\n",
      "2. 수도 이름 오름차순 출력\n",
      "3. 모든 도시의 인구수 내림차순 출력\n",
      "4. 특정 도시의 정보 출력\n",
      "5. 대륙별 인구수 계산 및 출력\n",
      "6. 프로그램 종료\n",
      "\n",
      "--------------------------------------------------\n"
     ]
    }
   ],
   "source": [
    "country_dict = {'Seoul' : ['South Korea', 'Asia', 9655000],\n",
    "                'Tokyo' : ['Japan', 'Asia', 14110000],\n",
    "                'Beijing' : ['China', 'Asia', 21540000],\n",
    "                'London' : ['United Kingdom', 'Europe', 14800000],\n",
    "                'Berlin' : ['Germany', 'Europe', 3426000],\n",
    "                'Mexico City' : ['Mexico', 'America', 21200000]}\n",
    "\n",
    "while True:\n",
    "    print('-' * 50)\n",
    "    print(f'\\n1. 전체 데이터 출력\\n'\n",
    "          f'2. 수도 이름 오름차순 출력\\n'\n",
    "          f'3. 모든 도시의 인구수 내림차순 출력\\n'\n",
    "          f'4. 특정 도시의 정보 출력\\n'\n",
    "          f'5. 대륙별 인구수 계산 및 출력\\n'\n",
    "          f'6. 프로그램 종료\\n')\n",
    "    menu_number = input('메뉴를 입력하세요: ')\n",
    "    print('-' * 50)\n",
    "    if menu_number == '1':\n",
    "        for i in range(len(country_dict)):\n",
    "            print(f'{list(country_dict.keys())[i]}: {list(country_dict.values())[i]}')\n",
    "\n",
    "    elif menu_number == '2':\n",
    "        sorted_data = sorted(country_dict.items(), key = lambda x : x[0])\n",
    "        for i in range(len(sorted_data)):\n",
    "            print(f'{sorted_data[i][0]:11} : {sorted_data[i][1][0]:15} {sorted_data[i][1][1]:8} {sorted_data[i][1][2]:>8}')\n",
    "\n",
    "    elif menu_number == '3':\n",
    "        sorted_data = sorted(country_dict.items(), key = lambda x : x[1][2], reverse=True)\n",
    "        for i in range(len(sorted_data)):\n",
    "            print(f'{sorted_data[i][0]:11} : {sorted_data[i][1][2]:>8}')\n",
    "\n",
    "    elif menu_number == '4':\n",
    "        city_name = input('출력할 도시 이름을 입력하세요: ')\n",
    "        if city_name in country_dict.keys():\n",
    "            print(f'국가:{country_dict[city_name][0]}, 대륙:{country_dict[city_name][1]}, 인구수:{country_dict[city_name][2]:,}')\n",
    "        else:\n",
    "            print(f'도시이름: {city_name}은 key에 없습니다.')\n",
    "    \n",
    "    elif menu_number == '5':\n",
    "        continent_name = input('대륙 이름을 입력하세요(Asia, Europe, America): ')\n",
    "        total = 0\n",
    "        for i in range(len(country_dict)):\n",
    "            if list(country_dict.items())[i][1][1] == continent_name:\n",
    "                print(f'{list(country_dict.items())[i][0]}: {list(country_dict.items())[i][1][2]:,}')\n",
    "                total = total + list(country_dict.items())[i][1][2]\n",
    "        print(f'{continent_name} 전체 인구수: {total:,}')\n",
    "        \n",
    "    elif menu_number == '6':\n",
    "        break"
   ]
  },
  {
   "cell_type": "code",
   "execution_count": null,
   "metadata": {},
   "outputs": [],
   "source": []
  }
 ],
 "metadata": {
  "kernelspec": {
   "display_name": "PY_39",
   "language": "python",
   "name": "python3"
  },
  "language_info": {
   "codemirror_mode": {
    "name": "ipython",
    "version": 3
   },
   "file_extension": ".py",
   "mimetype": "text/x-python",
   "name": "python",
   "nbconvert_exporter": "python",
   "pygments_lexer": "ipython3",
   "version": "3.9.19"
  }
 },
 "nbformat": 4,
 "nbformat_minor": 2
}
