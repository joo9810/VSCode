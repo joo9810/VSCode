{
 "cells": [
  {
   "cell_type": "markdown",
   "metadata": {},
   "source": [
    "Tuple 전용 함수 즉, 메서드\n",
    " - 수정 불가 즉, 추가, 삭제, 변경 X"
   ]
  },
  {
   "cell_type": "markdown",
   "metadata": {},
   "source": [
    "[메서드 - 인덱스 확인 메서드 index(데이터)]"
   ]
  },
  {
   "cell_type": "code",
   "execution_count": 3,
   "metadata": {},
   "outputs": [
    {
     "name": "stdout",
     "output_type": "stream",
     "text": [
      "데이터에 5가 없습니다.\n"
     ]
    }
   ],
   "source": [
    "nums = 10, 20, 30\n",
    "\n",
    "a = 5\n",
    "\n",
    "if a in nums:\n",
    "    idx = nums.index(20)\n",
    "    print(idx)\n",
    "else:\n",
    "    print(f'데이터에 {a}가 없습니다.')"
   ]
  },
  {
   "cell_type": "markdown",
   "metadata": {},
   "source": [
    "[메서드 - 데이터 개수 메서드 count(데이터)]"
   ]
  },
  {
   "cell_type": "code",
   "execution_count": 5,
   "metadata": {},
   "outputs": [
    {
     "name": "stdout",
     "output_type": "stream",
     "text": [
      "10 1\n",
      "5 0\n"
     ]
    }
   ],
   "source": [
    "print(10, nums.count(10))\n",
    "print(5, nums.count(5))"
   ]
  },
  {
   "cell_type": "code",
   "execution_count": null,
   "metadata": {},
   "outputs": [],
   "source": []
  }
 ],
 "metadata": {
  "kernelspec": {
   "display_name": "Python 3",
   "language": "python",
   "name": "python3"
  },
  "language_info": {
   "codemirror_mode": {
    "name": "ipython",
    "version": 3
   },
   "file_extension": ".py",
   "mimetype": "text/x-python",
   "name": "python",
   "nbconvert_exporter": "python",
   "pygments_lexer": "ipython3",
   "version": "3.12.2"
  }
 },
 "nbformat": 4,
 "nbformat_minor": 2
}
