{
 "cells": [
  {
   "cell_type": "markdown",
   "metadata": {},
   "source": [
    "## ex_list_method_01"
   ]
  },
  {
   "cell_type": "markdown",
   "metadata": {},
   "source": [
    " - 리스트의 원소/요소를 제어하기 위한 함수들"
   ]
  },
  {
   "cell_type": "code",
   "execution_count": 1,
   "metadata": {},
   "outputs": [],
   "source": [
    "import random as rd"
   ]
  },
  {
   "cell_type": "markdown",
   "metadata": {},
   "source": [
    "[1] 실습 데이터 => 임의의 정수 숫자 10개 구성된 리스트"
   ]
  },
  {
   "cell_type": "code",
   "execution_count": 2,
   "metadata": {},
   "outputs": [],
   "source": [
    "data = [7, 3, 9, 11, 5, 7, 2, 1, 8, 4]"
   ]
  },
  {
   "cell_type": "markdown",
   "metadata": {},
   "source": [
    "[메서드 - 요소 인덱스를 반환하는 메서드 index()]  \n",
    "-> 11의 인덱스를 찾기  \n",
    "-> 왼쪽 >>>> 오른쪽으로 찾기  "
   ]
  },
  {
   "cell_type": "code",
   "execution_count": 4,
   "metadata": {},
   "outputs": [
    {
     "name": "stdout",
     "output_type": "stream",
     "text": [
      "11의 인덱스 : 3\n"
     ]
    }
   ],
   "source": [
    "idx = data.index(11)\n",
    "\n",
    "print(f'11의 인덱스 : {idx}')"
   ]
  },
  {
   "cell_type": "markdown",
   "metadata": {},
   "source": [
    "-> 0의 인덱스를 찾기 ==> 존재하지 않는 데이터의 경우 ERROR"
   ]
  },
  {
   "cell_type": "code",
   "execution_count": 7,
   "metadata": {},
   "outputs": [
    {
     "name": "stdout",
     "output_type": "stream",
     "text": [
      "0은 존재하지 않는 데이터입니다.\n"
     ]
    }
   ],
   "source": [
    "find_number = 0\n",
    "\n",
    "if find_number in data:\n",
    "    idx = data.index(find_number)\n",
    "    print(f'{find_number}의 인덱스 : {idx}')\n",
    "else:\n",
    "    print(f'{find_number}은 존재하지 않는 데이터입니다.')"
   ]
  },
  {
   "cell_type": "markdown",
   "metadata": {},
   "source": [
    "-> 3의 인덱스 찾기"
   ]
  },
  {
   "cell_type": "code",
   "execution_count": 12,
   "metadata": {},
   "outputs": [
    {
     "name": "stdout",
     "output_type": "stream",
     "text": [
      "첫 번째 3의 인덱스 : 1\n",
      "두 번째 3의 인덱스 : 4\n",
      "세 번째 3의 인덱스 : 7\n"
     ]
    }
   ],
   "source": [
    "data = [7, 3, 9, 11, 3, 7, 2, 3, 8, 4]\n",
    "\n",
    "num = 3\n",
    "\n",
    "if num in data:\n",
    "    idx = data.index(num)\n",
    "    print(f'첫 번째 {num}의 인덱스 : {idx}')\n",
    "\n",
    "    idx = data.index(num, idx + 1)\n",
    "    print(f'두 번째 {num}의 인덱스 : {idx}')\n",
    "\n",
    "    idx = data.index(num, idx + 1)\n",
    "    print(f'세 번째 {num}의 인덱스 : {idx}')"
   ]
  },
  {
   "cell_type": "markdown",
   "metadata": {},
   "source": [
    "[메서드 - 데이터가 몇 개 존재하는지 개수 파악하는 메서드 count(데이터)]"
   ]
  },
  {
   "cell_type": "code",
   "execution_count": 13,
   "metadata": {},
   "outputs": [
    {
     "name": "stdout",
     "output_type": "stream",
     "text": [
      "3의 개수 : 3개\n"
     ]
    }
   ],
   "source": [
    "cnt = data.count(3)\n",
    "print(f'3의 개수 : {cnt}개')"
   ]
  },
  {
   "cell_type": "code",
   "execution_count": 14,
   "metadata": {},
   "outputs": [
    {
     "name": "stdout",
     "output_type": "stream",
     "text": [
      "1번째 3의 인덱스 : 1\n",
      "2번째 3의 인덱스 : 4\n",
      "3번째 3의 인덱스 : 7\n"
     ]
    }
   ],
   "source": [
    "idx = -1\n",
    "for i in range(cnt):\n",
    "    idx = data.index(3, idx + 1)\n",
    "    print(f'{i + 1}번째 3의 인덱스 : {idx}')"
   ]
  },
  {
   "cell_type": "markdown",
   "metadata": {},
   "source": [
    "## ex_list_method_02"
   ]
  },
  {
   "cell_type": "markdown",
   "metadata": {},
   "source": [
    "리스트 전용의 함수 즉, 메서드(Method)\n",
    " - 리스트의 원소/요소를 제어하기 위한 함수들"
   ]
  },
  {
   "cell_type": "markdown",
   "metadata": {},
   "source": [
    "[메서드 - 요소 추가 메서드 append(데이터)]"
   ]
  },
  {
   "cell_type": "markdown",
   "metadata": {},
   "source": [
    "새로운 데이터 100 추가 : 제일 마지막 원소 추가"
   ]
  },
  {
   "cell_type": "code",
   "execution_count": 16,
   "metadata": {},
   "outputs": [
    {
     "name": "stdout",
     "output_type": "stream",
     "text": [
      "datas 개수: 4, [1, 3, 5, 100]\n",
      "datas 개수: 5, [1, 3, 5, 100, 100]\n"
     ]
    }
   ],
   "source": [
    "data = [1, 3, 5]\n",
    "\n",
    "data.append(100)\n",
    "print(f'datas 개수: {len(data)}, {data}')\n",
    "\n",
    "data.append(100)\n",
    "print(f'datas 개수: {len(data)}, {data}')"
   ]
  },
  {
   "cell_type": "markdown",
   "metadata": {},
   "source": [
    "[메서드 - 요소 추가 메서드 insert(인덱스, 데이터)]"
   ]
  },
  {
   "cell_type": "code",
   "execution_count": 17,
   "metadata": {},
   "outputs": [
    {
     "name": "stdout",
     "output_type": "stream",
     "text": [
      "datas 개수: 4, [300, 1, 3, 5]\n"
     ]
    }
   ],
   "source": [
    "data = [1, 3, 5]\n",
    "\n",
    "data.insert(0, 300)\n",
    "print(f'datas 개수: {len(data)}, {data}')"
   ]
  },
  {
   "cell_type": "code",
   "execution_count": 18,
   "metadata": {},
   "outputs": [
    {
     "name": "stdout",
     "output_type": "stream",
     "text": [
      "datas 개수: 4, [1, 3, 300, 5]\n"
     ]
    }
   ],
   "source": [
    "data = [1, 3, 5]\n",
    "\n",
    "data.insert(-1, 300)\n",
    "print(f'datas 개수: {len(data)}, {data}')"
   ]
  },
  {
   "cell_type": "markdown",
   "metadata": {},
   "source": [
    "[실습] 임의의 정수 숫자 10개 저장하는 리스트 생성"
   ]
  },
  {
   "cell_type": "code",
   "execution_count": 32,
   "metadata": {},
   "outputs": [
    {
     "name": "stdout",
     "output_type": "stream",
     "text": [
      "nums => [32, 74, 100, 37, 96, 93, 79, 39, 20, 54]\n"
     ]
    }
   ],
   "source": [
    "import random as rd\n",
    "\n",
    "data = []\n",
    "\n",
    "for i in range(10):\n",
    "    data.append(rd.randint(1, 100))\n",
    "\n",
    "print(f'nums => {data}')"
   ]
  },
  {
   "cell_type": "markdown",
   "metadata": {},
   "source": [
    "[메서드 - 요소 삭제 메서드 remove(데이터)]\n",
    "- 존재하지 않는 데이터 삭제 시 ERROR 발생함!"
   ]
  },
  {
   "cell_type": "code",
   "execution_count": 37,
   "metadata": {},
   "outputs": [
    {
     "name": "stdout",
     "output_type": "stream",
     "text": [
      "data 개수 : 7, [300, 1, 3, 5, 100, 300, 100]\n",
      "data 개수 : 5, [1, 3, 5, 100, 100]\n"
     ]
    }
   ],
   "source": [
    "data = [300, 1, 3, 5, 100, 300, 100]\n",
    "print(f'data 개수 : {len(data)}, {data}')\n",
    "\n",
    "for cnt in range(data.count(300)):\n",
    "    data.remove(300)\n",
    "print(f'data 개수 : {len(data)}, {data}')"
   ]
  },
  {
   "cell_type": "markdown",
   "metadata": {},
   "source": [
    "## ex_list_method_03"
   ]
  },
  {
   "cell_type": "markdown",
   "metadata": {},
   "source": [
    "[메서드 - 요소 순서 제어 메서드 reverse(데이터)]"
   ]
  },
  {
   "cell_type": "code",
   "execution_count": 42,
   "metadata": {},
   "outputs": [
    {
     "name": "stdout",
     "output_type": "stream",
     "text": [
      "10개, [8, 19, 18, 5, 12, 30, 20, 16, 21, 19]\n"
     ]
    }
   ],
   "source": [
    "import random as rd\n",
    "\n",
    "rd.seed(3) # 동일한 랜덤 숫자 추출을 위한 기준점\n",
    "data = []\n",
    "\n",
    "for i in range(10):\n",
    "    data.append(rd.randint(1, 30))\n",
    "print(f'{len(data)}개, {data}')"
   ]
  },
  {
   "cell_type": "markdown",
   "metadata": {},
   "source": [
    "0번 => -1번으로, -1 => 0번으로 위치 변경"
   ]
  },
  {
   "cell_type": "code",
   "execution_count": 43,
   "metadata": {},
   "outputs": [
    {
     "name": "stdout",
     "output_type": "stream",
     "text": [
      "10개, [19, 21, 16, 20, 30, 12, 5, 18, 19, 8]\n"
     ]
    }
   ],
   "source": [
    "data.reverse()\n",
    "\n",
    "print(f'{len(data)}개, {data}')"
   ]
  },
  {
   "cell_type": "markdown",
   "metadata": {},
   "source": [
    "[메서드 - 요소 크기를 비교해서 정렬해주는 메서드 sort()]\n",
    " - 기본정렬: 오름차순 즉, 작은 데이터부터 큰 데이터 순서로"
   ]
  },
  {
   "cell_type": "code",
   "execution_count": 44,
   "metadata": {},
   "outputs": [
    {
     "name": "stdout",
     "output_type": "stream",
     "text": [
      "10개, [5, 8, 12, 16, 18, 19, 19, 20, 21, 30]\n"
     ]
    }
   ],
   "source": [
    "data.sort()\n",
    "print(f'{len(data)}개, {data}')"
   ]
  },
  {
   "cell_type": "markdown",
   "metadata": {},
   "source": [
    " - 내림차순 즉, 큰 데이터부터 작은 데이터 순서로"
   ]
  },
  {
   "cell_type": "code",
   "execution_count": 45,
   "metadata": {},
   "outputs": [
    {
     "name": "stdout",
     "output_type": "stream",
     "text": [
      "10개, [30, 21, 20, 19, 19, 18, 16, 12, 8, 5]\n"
     ]
    }
   ],
   "source": [
    "data.sort(reverse=True)\n",
    "print(f'{len(data)}개, {data}')"
   ]
  },
  {
   "cell_type": "markdown",
   "metadata": {},
   "source": [
    "[메서드 - 리스트에서  요소를 꺼내는 메서드 pop()]\n",
    " - 리스트에서 요소가 삭제됨"
   ]
  },
  {
   "cell_type": "code",
   "execution_count": 59,
   "metadata": {},
   "outputs": [
    {
     "name": "stdout",
     "output_type": "stream",
     "text": [
      "value :5 - 9개, [30, 21, 20, 19, 19, 18, 16, 12, 8]\n"
     ]
    }
   ],
   "source": [
    "data = [30, 21, 20, 19, 19, 18, 16, 12, 8, 5]\n",
    "\n",
    "value = data.pop()  # 제일 마지막 원소/요소 꺼내기\n",
    "print(f'value :{value} - {len(data)}개, {data}')"
   ]
  },
  {
   "cell_type": "code",
   "execution_count": 60,
   "metadata": {},
   "outputs": [
    {
     "name": "stdout",
     "output_type": "stream",
     "text": [
      "value :30 - 8개, [21, 20, 19, 19, 18, 16, 12, 8]\n"
     ]
    }
   ],
   "source": [
    "value = data.pop(0)  # 특정 인덱스의 원소/요소 꺼내기\n",
    "print(f'value :{value} - {len(data)}개, {data}')"
   ]
  },
  {
   "cell_type": "markdown",
   "metadata": {},
   "source": [
    "[메서드 - 리스트 확장 시켜주는 메서드 extend()]"
   ]
  },
  {
   "cell_type": "code",
   "execution_count": 61,
   "metadata": {},
   "outputs": [
    {
     "name": "stdout",
     "output_type": "stream",
     "text": [
      "11개, [21, 20, 19, 19, 18, 16, 12, 8, 11, 22, 33]\n"
     ]
    }
   ],
   "source": [
    "data.extend([11, 22, 33])\n",
    "print(f'{len(data)}개, {data}')"
   ]
  },
  {
   "cell_type": "code",
   "execution_count": 62,
   "metadata": {},
   "outputs": [
    {
     "name": "stdout",
     "output_type": "stream",
     "text": [
      "13개, [21, 20, 19, 19, 18, 16, 12, 8, 11, 22, 33, 555, 777]\n"
     ]
    }
   ],
   "source": [
    "data.extend((555, 777))\n",
    "print(f'{len(data)}개, {data}')"
   ]
  },
  {
   "cell_type": "code",
   "execution_count": 63,
   "metadata": {},
   "outputs": [
    {
     "name": "stdout",
     "output_type": "stream",
     "text": [
      "22개, [21, 20, 19, 19, 18, 16, 12, 8, 11, 22, 33, 555, 777, 'G', 'o', 'o', 'd', ' ', 'L', 'u', 'c', 'k']\n"
     ]
    }
   ],
   "source": [
    "data.extend('Good Luck')\n",
    "print(f'{len(data)}개, {data}')"
   ]
  },
  {
   "cell_type": "code",
   "execution_count": 64,
   "metadata": {},
   "outputs": [
    {
     "name": "stdout",
     "output_type": "stream",
     "text": [
      "24개, [21, 20, 19, 19, 18, 16, 12, 8, 11, 22, 33, 555, 777, 'G', 'o', 'o', 'd', ' ', 'L', 'u', 'c', 'k', 'name', 'age']\n"
     ]
    }
   ],
   "source": [
    "data.extend({'name' : '홍길동', 'age' : 12})\n",
    "print(f'{len(data)}개, {data}')"
   ]
  },
  {
   "cell_type": "markdown",
   "metadata": {},
   "source": [
    "[메서드 - 모든 원소 삭제 메서드 clear()]"
   ]
  },
  {
   "cell_type": "code",
   "execution_count": 65,
   "metadata": {},
   "outputs": [
    {
     "name": "stdout",
     "output_type": "stream",
     "text": [
      "0개, []\n"
     ]
    }
   ],
   "source": [
    "data.clear()\n",
    "print(f'{len(data)}개, {data}')"
   ]
  },
  {
   "cell_type": "markdown",
   "metadata": {},
   "source": [
    "## ex_list_method_04"
   ]
  },
  {
   "cell_type": "code",
   "execution_count": 70,
   "metadata": {},
   "outputs": [
    {
     "name": "stdout",
     "output_type": "stream",
     "text": [
      "data => [11, 22, 33]\n",
      "nums => [11, 22, 33]\n",
      "data => ['백', 22, 33]\n",
      "nums => ['백', 22, 33]\n"
     ]
    }
   ],
   "source": [
    "data = [11, 22, 33]\n",
    "nums = data\n",
    "print(f'data => {data}\\nnums => {nums}')\n",
    "\n",
    "nums[0]='백'\n",
    "\n",
    "print(f'data => {data}\\nnums => {nums}')"
   ]
  },
  {
   "cell_type": "markdown",
   "metadata": {},
   "source": [
    "[메서드 - 리스트 복사해주는 메서드 copy()]  \n",
    "얕은 복사임!! ---> 깊은 복사는 모듈 추가!"
   ]
  },
  {
   "cell_type": "code",
   "execution_count": 69,
   "metadata": {},
   "outputs": [
    {
     "name": "stdout",
     "output_type": "stream",
     "text": [
      "data => [11, 22, 33]\n",
      "nums2 => [11, 22, 33]\n",
      "data => [11, 22, 33]\n",
      "nums2 => ['A', 22, 33]\n"
     ]
    }
   ],
   "source": [
    "data = [11, 22, 33]\n",
    "nums2 = data.copy()\n",
    "print(f'data => {data}\\nnums2 => {nums2}')\n",
    "\n",
    "nums2[0] = 'A'\n",
    "\n",
    "print(f'data => {data}\\nnums2 => {nums2}')"
   ]
  },
  {
   "cell_type": "code",
   "execution_count": null,
   "metadata": {},
   "outputs": [],
   "source": []
  }
 ],
 "metadata": {
  "kernelspec": {
   "display_name": "Python 3",
   "language": "python",
   "name": "python3"
  },
  "language_info": {
   "codemirror_mode": {
    "name": "ipython",
    "version": 3
   },
   "file_extension": ".py",
   "mimetype": "text/x-python",
   "name": "python",
   "nbconvert_exporter": "python",
   "pygments_lexer": "ipython3",
   "version": "3.12.2"
  }
 },
 "nbformat": 4,
 "nbformat_minor": 2
}
