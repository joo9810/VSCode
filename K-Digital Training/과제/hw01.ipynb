{
 "cells": [
  {
   "cell_type": "code",
   "execution_count": 56,
   "metadata": {},
   "outputs": [],
   "source": [
    "import pandas as pd\n",
    "import numpy as np\n",
    "import matplotlib.pyplot as plt"
   ]
  },
  {
   "cell_type": "code",
   "execution_count": 57,
   "metadata": {},
   "outputs": [
    {
     "data": {
      "text/html": [
       "<div>\n",
       "<style scoped>\n",
       "    .dataframe tbody tr th:only-of-type {\n",
       "        vertical-align: middle;\n",
       "    }\n",
       "\n",
       "    .dataframe tbody tr th {\n",
       "        vertical-align: top;\n",
       "    }\n",
       "\n",
       "    .dataframe thead th {\n",
       "        text-align: right;\n",
       "    }\n",
       "</style>\n",
       "<table border=\"1\" class=\"dataframe\">\n",
       "  <thead>\n",
       "    <tr style=\"text-align: right;\">\n",
       "      <th></th>\n",
       "      <th>사용일자</th>\n",
       "      <th>노선명</th>\n",
       "      <th>역명</th>\n",
       "      <th>승차총승객수</th>\n",
       "      <th>하차총승객수</th>\n",
       "      <th>승하차객수</th>\n",
       "    </tr>\n",
       "  </thead>\n",
       "  <tbody>\n",
       "    <tr>\n",
       "      <th>0</th>\n",
       "      <td>20240701</td>\n",
       "      <td>9호선2~3단계</td>\n",
       "      <td>석촌고분</td>\n",
       "      <td>7665</td>\n",
       "      <td>7414</td>\n",
       "      <td>15079</td>\n",
       "    </tr>\n",
       "    <tr>\n",
       "      <th>1</th>\n",
       "      <td>20240701</td>\n",
       "      <td>중앙선</td>\n",
       "      <td>도농</td>\n",
       "      <td>12178</td>\n",
       "      <td>10957</td>\n",
       "      <td>23135</td>\n",
       "    </tr>\n",
       "    <tr>\n",
       "      <th>2</th>\n",
       "      <td>20240701</td>\n",
       "      <td>중앙선</td>\n",
       "      <td>구리</td>\n",
       "      <td>14053</td>\n",
       "      <td>14085</td>\n",
       "      <td>28138</td>\n",
       "    </tr>\n",
       "    <tr>\n",
       "      <th>3</th>\n",
       "      <td>20240701</td>\n",
       "      <td>4호선</td>\n",
       "      <td>길음</td>\n",
       "      <td>22687</td>\n",
       "      <td>22215</td>\n",
       "      <td>44902</td>\n",
       "    </tr>\n",
       "    <tr>\n",
       "      <th>4</th>\n",
       "      <td>20240701</td>\n",
       "      <td>분당선</td>\n",
       "      <td>복정</td>\n",
       "      <td>1</td>\n",
       "      <td>0</td>\n",
       "      <td>1</td>\n",
       "    </tr>\n",
       "    <tr>\n",
       "      <th>...</th>\n",
       "      <td>...</td>\n",
       "      <td>...</td>\n",
       "      <td>...</td>\n",
       "      <td>...</td>\n",
       "      <td>...</td>\n",
       "      <td>...</td>\n",
       "    </tr>\n",
       "    <tr>\n",
       "      <th>19098</th>\n",
       "      <td>20240731</td>\n",
       "      <td>7호선</td>\n",
       "      <td>신풍</td>\n",
       "      <td>11494</td>\n",
       "      <td>10664</td>\n",
       "      <td>22158</td>\n",
       "    </tr>\n",
       "    <tr>\n",
       "      <th>19099</th>\n",
       "      <td>20240731</td>\n",
       "      <td>7호선</td>\n",
       "      <td>대림(구로구청)</td>\n",
       "      <td>9328</td>\n",
       "      <td>9366</td>\n",
       "      <td>18694</td>\n",
       "    </tr>\n",
       "    <tr>\n",
       "      <th>19100</th>\n",
       "      <td>20240731</td>\n",
       "      <td>7호선</td>\n",
       "      <td>남구로</td>\n",
       "      <td>15284</td>\n",
       "      <td>16072</td>\n",
       "      <td>31356</td>\n",
       "    </tr>\n",
       "    <tr>\n",
       "      <th>19101</th>\n",
       "      <td>20240731</td>\n",
       "      <td>7호선</td>\n",
       "      <td>가산디지털단지</td>\n",
       "      <td>47493</td>\n",
       "      <td>47452</td>\n",
       "      <td>94945</td>\n",
       "    </tr>\n",
       "    <tr>\n",
       "      <th>19102</th>\n",
       "      <td>20240731</td>\n",
       "      <td>7호선</td>\n",
       "      <td>철산</td>\n",
       "      <td>21851</td>\n",
       "      <td>22156</td>\n",
       "      <td>44007</td>\n",
       "    </tr>\n",
       "  </tbody>\n",
       "</table>\n",
       "<p>19103 rows × 6 columns</p>\n",
       "</div>"
      ],
      "text/plain": [
       "           사용일자       노선명        역명  승차총승객수  하차총승객수  승하차객수\n",
       "0      20240701  9호선2~3단계      석촌고분    7665    7414  15079\n",
       "1      20240701       중앙선        도농   12178   10957  23135\n",
       "2      20240701       중앙선        구리   14053   14085  28138\n",
       "3      20240701       4호선        길음   22687   22215  44902\n",
       "4      20240701       분당선        복정       1       0      1\n",
       "...         ...       ...       ...     ...     ...    ...\n",
       "19098  20240731       7호선        신풍   11494   10664  22158\n",
       "19099  20240731       7호선  대림(구로구청)    9328    9366  18694\n",
       "19100  20240731       7호선       남구로   15284   16072  31356\n",
       "19101  20240731       7호선   가산디지털단지   47493   47452  94945\n",
       "19102  20240731       7호선        철산   21851   22156  44007\n",
       "\n",
       "[19103 rows x 6 columns]"
      ]
     },
     "execution_count": 57,
     "metadata": {},
     "output_type": "execute_result"
    }
   ],
   "source": [
    "df = pd.read_csv('과제1-데이터예시(seoul.csv).csv')\n",
    "df"
   ]
  },
  {
   "cell_type": "markdown",
   "metadata": {},
   "source": [
    "## 1. 각 지하철 역별 평균 이용객수"
   ]
  },
  {
   "cell_type": "code",
   "execution_count": 58,
   "metadata": {},
   "outputs": [
    {
     "data": {
      "text/html": [
       "<div>\n",
       "<style scoped>\n",
       "    .dataframe tbody tr th:only-of-type {\n",
       "        vertical-align: middle;\n",
       "    }\n",
       "\n",
       "    .dataframe tbody tr th {\n",
       "        vertical-align: top;\n",
       "    }\n",
       "\n",
       "    .dataframe thead th {\n",
       "        text-align: right;\n",
       "    }\n",
       "</style>\n",
       "<table border=\"1\" class=\"dataframe\">\n",
       "  <thead>\n",
       "    <tr style=\"text-align: right;\">\n",
       "      <th></th>\n",
       "      <th>승하차객수</th>\n",
       "    </tr>\n",
       "    <tr>\n",
       "      <th>역명</th>\n",
       "      <th></th>\n",
       "    </tr>\n",
       "  </thead>\n",
       "  <tbody>\n",
       "    <tr>\n",
       "      <th>4.19민주묘지</th>\n",
       "      <td>178406</td>\n",
       "    </tr>\n",
       "    <tr>\n",
       "      <th>가능</th>\n",
       "      <td>373418</td>\n",
       "    </tr>\n",
       "    <tr>\n",
       "      <th>가락시장</th>\n",
       "      <td>1011033</td>\n",
       "    </tr>\n",
       "    <tr>\n",
       "      <th>가산디지털단지</th>\n",
       "      <td>3576861</td>\n",
       "    </tr>\n",
       "    <tr>\n",
       "      <th>가양</th>\n",
       "      <td>1313196</td>\n",
       "    </tr>\n",
       "    <tr>\n",
       "      <th>...</th>\n",
       "      <td>...</td>\n",
       "    </tr>\n",
       "    <tr>\n",
       "      <th>회기</th>\n",
       "      <td>1431436</td>\n",
       "    </tr>\n",
       "    <tr>\n",
       "      <th>회룡</th>\n",
       "      <td>757577</td>\n",
       "    </tr>\n",
       "    <tr>\n",
       "      <th>회현(남대문시장)</th>\n",
       "      <td>1620940</td>\n",
       "    </tr>\n",
       "    <tr>\n",
       "      <th>효창공원앞</th>\n",
       "      <td>606451</td>\n",
       "    </tr>\n",
       "    <tr>\n",
       "      <th>흑석(중앙대입구)</th>\n",
       "      <td>513214</td>\n",
       "    </tr>\n",
       "  </tbody>\n",
       "</table>\n",
       "<p>528 rows × 1 columns</p>\n",
       "</div>"
      ],
      "text/plain": [
       "             승하차객수\n",
       "역명                \n",
       "4.19민주묘지    178406\n",
       "가능          373418\n",
       "가락시장       1011033\n",
       "가산디지털단지    3576861\n",
       "가양         1313196\n",
       "...            ...\n",
       "회기         1431436\n",
       "회룡          757577\n",
       "회현(남대문시장)  1620940\n",
       "효창공원앞       606451\n",
       "흑석(중앙대입구)   513214\n",
       "\n",
       "[528 rows x 1 columns]"
      ]
     },
     "execution_count": 58,
     "metadata": {},
     "output_type": "execute_result"
    }
   ],
   "source": [
    "q1 = df[['역명', '승하차객수']].groupby('역명').sum()\n",
    "q1"
   ]
  },
  {
   "cell_type": "markdown",
   "metadata": {},
   "source": [
    "## 2. 각 지하철 역별 이용객수의 표준 편차"
   ]
  },
  {
   "cell_type": "code",
   "execution_count": 59,
   "metadata": {},
   "outputs": [
    {
     "data": {
      "text/html": [
       "<div>\n",
       "<style scoped>\n",
       "    .dataframe tbody tr th:only-of-type {\n",
       "        vertical-align: middle;\n",
       "    }\n",
       "\n",
       "    .dataframe tbody tr th {\n",
       "        vertical-align: top;\n",
       "    }\n",
       "\n",
       "    .dataframe thead th {\n",
       "        text-align: right;\n",
       "    }\n",
       "</style>\n",
       "<table border=\"1\" class=\"dataframe\">\n",
       "  <thead>\n",
       "    <tr style=\"text-align: right;\">\n",
       "      <th></th>\n",
       "      <th>승하차객수</th>\n",
       "    </tr>\n",
       "    <tr>\n",
       "      <th>역명</th>\n",
       "      <th></th>\n",
       "    </tr>\n",
       "  </thead>\n",
       "  <tbody>\n",
       "    <tr>\n",
       "      <th>4.19민주묘지</th>\n",
       "      <td>763.978555</td>\n",
       "    </tr>\n",
       "    <tr>\n",
       "      <th>가능</th>\n",
       "      <td>2242.258296</td>\n",
       "    </tr>\n",
       "    <tr>\n",
       "      <th>가락시장</th>\n",
       "      <td>4052.100494</td>\n",
       "    </tr>\n",
       "    <tr>\n",
       "      <th>가산디지털단지</th>\n",
       "      <td>35085.671021</td>\n",
       "    </tr>\n",
       "    <tr>\n",
       "      <th>가양</th>\n",
       "      <td>9110.213862</td>\n",
       "    </tr>\n",
       "    <tr>\n",
       "      <th>...</th>\n",
       "      <td>...</td>\n",
       "    </tr>\n",
       "    <tr>\n",
       "      <th>회기</th>\n",
       "      <td>7077.440020</td>\n",
       "    </tr>\n",
       "    <tr>\n",
       "      <th>회룡</th>\n",
       "      <td>4448.056103</td>\n",
       "    </tr>\n",
       "    <tr>\n",
       "      <th>회현(남대문시장)</th>\n",
       "      <td>13135.829043</td>\n",
       "    </tr>\n",
       "    <tr>\n",
       "      <th>효창공원앞</th>\n",
       "      <td>4141.904922</td>\n",
       "    </tr>\n",
       "    <tr>\n",
       "      <th>흑석(중앙대입구)</th>\n",
       "      <td>3921.212603</td>\n",
       "    </tr>\n",
       "  </tbody>\n",
       "</table>\n",
       "<p>528 rows × 1 columns</p>\n",
       "</div>"
      ],
      "text/plain": [
       "                  승하차객수\n",
       "역명                     \n",
       "4.19민주묘지     763.978555\n",
       "가능          2242.258296\n",
       "가락시장        4052.100494\n",
       "가산디지털단지    35085.671021\n",
       "가양          9110.213862\n",
       "...                 ...\n",
       "회기          7077.440020\n",
       "회룡          4448.056103\n",
       "회현(남대문시장)  13135.829043\n",
       "효창공원앞       4141.904922\n",
       "흑석(중앙대입구)   3921.212603\n",
       "\n",
       "[528 rows x 1 columns]"
      ]
     },
     "execution_count": 59,
     "metadata": {},
     "output_type": "execute_result"
    }
   ],
   "source": [
    "q2 = df[['역명', '승하차객수']].groupby('역명').std()\n",
    "q2"
   ]
  },
  {
   "cell_type": "markdown",
   "metadata": {},
   "source": [
    "## 3. 가장 많은 이용객이 있는 역의 이용객 수"
   ]
  },
  {
   "cell_type": "code",
   "execution_count": 60,
   "metadata": {},
   "outputs": [
    {
     "data": {
      "text/plain": [
       "승하차객수    5993237\n",
       "Name: 잠실(송파구청), dtype: int64"
      ]
     },
     "execution_count": 60,
     "metadata": {},
     "output_type": "execute_result"
    }
   ],
   "source": [
    "q1.loc[q1['승하차객수'].idxmax(), :]"
   ]
  },
  {
   "cell_type": "markdown",
   "metadata": {},
   "source": [
    "## 4. 가장 적은 이용객이 있는 역의 이용객 수"
   ]
  },
  {
   "cell_type": "code",
   "execution_count": 61,
   "metadata": {},
   "outputs": [
    {
     "data": {
      "text/plain": [
       "승하차객수    1\n",
       "Name: 까치울, dtype: int64"
      ]
     },
     "execution_count": 61,
     "metadata": {},
     "output_type": "execute_result"
    }
   ],
   "source": [
    "q1.loc[q1['승하차객수'].idxmin(), :]"
   ]
  },
  {
   "cell_type": "markdown",
   "metadata": {},
   "source": [
    "## 5. 이용객 수가 가장 많은 역의 이름"
   ]
  },
  {
   "cell_type": "code",
   "execution_count": 62,
   "metadata": {},
   "outputs": [
    {
     "data": {
      "text/plain": [
       "'잠실(송파구청)'"
      ]
     },
     "execution_count": 62,
     "metadata": {},
     "output_type": "execute_result"
    }
   ],
   "source": [
    "q1['승하차객수'].idxmax()"
   ]
  },
  {
   "cell_type": "markdown",
   "metadata": {},
   "source": [
    "## 6. 이용객 수가 가장 적은 역의 이름"
   ]
  },
  {
   "cell_type": "code",
   "execution_count": 63,
   "metadata": {},
   "outputs": [
    {
     "data": {
      "text/plain": [
       "'까치울'"
      ]
     },
     "execution_count": 63,
     "metadata": {},
     "output_type": "execute_result"
    }
   ],
   "source": [
    "q1['승하차객수'].idxmin()"
   ]
  },
  {
   "cell_type": "markdown",
   "metadata": {},
   "source": [
    "## 7. 이용객 수의 분포를 히스토그램으로 시각화하세요."
   ]
  },
  {
   "cell_type": "code",
   "execution_count": 64,
   "metadata": {},
   "outputs": [
    {
     "data": {
      "text/html": [
       "<div>\n",
       "<style scoped>\n",
       "    .dataframe tbody tr th:only-of-type {\n",
       "        vertical-align: middle;\n",
       "    }\n",
       "\n",
       "    .dataframe tbody tr th {\n",
       "        vertical-align: top;\n",
       "    }\n",
       "\n",
       "    .dataframe thead th {\n",
       "        text-align: right;\n",
       "    }\n",
       "</style>\n",
       "<table border=\"1\" class=\"dataframe\">\n",
       "  <thead>\n",
       "    <tr style=\"text-align: right;\">\n",
       "      <th></th>\n",
       "      <th>승하차객수</th>\n",
       "    </tr>\n",
       "    <tr>\n",
       "      <th>사용일자</th>\n",
       "      <th></th>\n",
       "    </tr>\n",
       "  </thead>\n",
       "  <tbody>\n",
       "    <tr>\n",
       "      <th>20240701</th>\n",
       "      <td>15025891</td>\n",
       "    </tr>\n",
       "    <tr>\n",
       "      <th>20240702</th>\n",
       "      <td>14205147</td>\n",
       "    </tr>\n",
       "    <tr>\n",
       "      <th>20240703</th>\n",
       "      <td>15470473</td>\n",
       "    </tr>\n",
       "    <tr>\n",
       "      <th>20240704</th>\n",
       "      <td>15636537</td>\n",
       "    </tr>\n",
       "    <tr>\n",
       "      <th>20240705</th>\n",
       "      <td>16109500</td>\n",
       "    </tr>\n",
       "    <tr>\n",
       "      <th>20240706</th>\n",
       "      <td>10999692</td>\n",
       "    </tr>\n",
       "    <tr>\n",
       "      <th>20240707</th>\n",
       "      <td>8513251</td>\n",
       "    </tr>\n",
       "    <tr>\n",
       "      <th>20240708</th>\n",
       "      <td>14291160</td>\n",
       "    </tr>\n",
       "    <tr>\n",
       "      <th>20240709</th>\n",
       "      <td>15144902</td>\n",
       "    </tr>\n",
       "    <tr>\n",
       "      <th>20240710</th>\n",
       "      <td>15480505</td>\n",
       "    </tr>\n",
       "    <tr>\n",
       "      <th>20240711</th>\n",
       "      <td>15603328</td>\n",
       "    </tr>\n",
       "    <tr>\n",
       "      <th>20240712</th>\n",
       "      <td>16138133</td>\n",
       "    </tr>\n",
       "    <tr>\n",
       "      <th>20240713</th>\n",
       "      <td>11854540</td>\n",
       "    </tr>\n",
       "    <tr>\n",
       "      <th>20240714</th>\n",
       "      <td>8803774</td>\n",
       "    </tr>\n",
       "    <tr>\n",
       "      <th>20240715</th>\n",
       "      <td>14988963</td>\n",
       "    </tr>\n",
       "    <tr>\n",
       "      <th>20240716</th>\n",
       "      <td>15057344</td>\n",
       "    </tr>\n",
       "    <tr>\n",
       "      <th>20240717</th>\n",
       "      <td>14517044</td>\n",
       "    </tr>\n",
       "    <tr>\n",
       "      <th>20240718</th>\n",
       "      <td>14016225</td>\n",
       "    </tr>\n",
       "    <tr>\n",
       "      <th>20240719</th>\n",
       "      <td>16135194</td>\n",
       "    </tr>\n",
       "    <tr>\n",
       "      <th>20240720</th>\n",
       "      <td>10907852</td>\n",
       "    </tr>\n",
       "    <tr>\n",
       "      <th>20240721</th>\n",
       "      <td>8265640</td>\n",
       "    </tr>\n",
       "    <tr>\n",
       "      <th>20240722</th>\n",
       "      <td>14355186</td>\n",
       "    </tr>\n",
       "    <tr>\n",
       "      <th>20240723</th>\n",
       "      <td>14809199</td>\n",
       "    </tr>\n",
       "    <tr>\n",
       "      <th>20240724</th>\n",
       "      <td>15264407</td>\n",
       "    </tr>\n",
       "    <tr>\n",
       "      <th>20240725</th>\n",
       "      <td>15334871</td>\n",
       "    </tr>\n",
       "    <tr>\n",
       "      <th>20240726</th>\n",
       "      <td>15369076</td>\n",
       "    </tr>\n",
       "    <tr>\n",
       "      <th>20240727</th>\n",
       "      <td>10516427</td>\n",
       "    </tr>\n",
       "    <tr>\n",
       "      <th>20240728</th>\n",
       "      <td>8197898</td>\n",
       "    </tr>\n",
       "    <tr>\n",
       "      <th>20240729</th>\n",
       "      <td>14118844</td>\n",
       "    </tr>\n",
       "    <tr>\n",
       "      <th>20240730</th>\n",
       "      <td>14640301</td>\n",
       "    </tr>\n",
       "    <tr>\n",
       "      <th>20240731</th>\n",
       "      <td>14808876</td>\n",
       "    </tr>\n",
       "  </tbody>\n",
       "</table>\n",
       "</div>"
      ],
      "text/plain": [
       "             승하차객수\n",
       "사용일자              \n",
       "20240701  15025891\n",
       "20240702  14205147\n",
       "20240703  15470473\n",
       "20240704  15636537\n",
       "20240705  16109500\n",
       "20240706  10999692\n",
       "20240707   8513251\n",
       "20240708  14291160\n",
       "20240709  15144902\n",
       "20240710  15480505\n",
       "20240711  15603328\n",
       "20240712  16138133\n",
       "20240713  11854540\n",
       "20240714   8803774\n",
       "20240715  14988963\n",
       "20240716  15057344\n",
       "20240717  14517044\n",
       "20240718  14016225\n",
       "20240719  16135194\n",
       "20240720  10907852\n",
       "20240721   8265640\n",
       "20240722  14355186\n",
       "20240723  14809199\n",
       "20240724  15264407\n",
       "20240725  15334871\n",
       "20240726  15369076\n",
       "20240727  10516427\n",
       "20240728   8197898\n",
       "20240729  14118844\n",
       "20240730  14640301\n",
       "20240731  14808876"
      ]
     },
     "execution_count": 64,
     "metadata": {},
     "output_type": "execute_result"
    }
   ],
   "source": [
    "q3 = df[['사용일자', '승하차객수']].groupby('사용일자').sum()\n",
    "q3"
   ]
  },
  {
   "cell_type": "code",
   "execution_count": 66,
   "metadata": {},
   "outputs": [
    {
     "data": {
      "text/plain": [
       "array([[<Axes: title={'center': '승하차객수'}>]], dtype=object)"
      ]
     },
     "execution_count": 66,
     "metadata": {},
     "output_type": "execute_result"
    },
    {
     "data": {
      "image/png": "[encoded data removed]",
      "text/plain": [
       "<Figure size 640x480 with 1 Axes>"
      ]
     },
     "metadata": {},
     "output_type": "display_data"
    }
   ],
   "source": [
    "plt.rcParams['font.family'] = 'AppleGothic'\n",
    "q3.hist()"
   ]
  }
 ],
 "metadata": {
  "kernelspec": {
   "display_name": "PY_39",
   "language": "python",
   "name": "python3"
  },
  "language_info": {
   "codemirror_mode": {
    "name": "ipython",
    "version": 3
   },
   "file_extension": ".py",
   "mimetype": "text/x-python",
   "name": "python",
   "nbconvert_exporter": "python",
   "pygments_lexer": "ipython3",
   "version": "3.9.19"
  }
 },
 "nbformat": 4,
 "nbformat_minor": 2
}
