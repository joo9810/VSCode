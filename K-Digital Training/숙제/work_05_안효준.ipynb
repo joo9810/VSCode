{
 "cells": [
  {
   "cell_type": "markdown",
   "metadata": {},
   "source": [
    "## UNIT17 while 반복문으로 Hello, world! 100번 출력하기"
   ]
  },
  {
   "cell_type": "code",
   "execution_count": null,
   "metadata": {},
   "outputs": [
    {
     "name": "stdout",
     "output_type": "stream",
     "text": [
      "Hello, world!\n",
      "Hello, world!\n",
      "Hello, world!\n",
      "Hello, world!\n",
      "Hello, world!\n",
      "Hello, world!\n",
      "Hello, world!\n",
      "Hello, world!\n",
      "Hello, world!\n",
      "Hello, world!\n",
      "Hello, world!\n",
      "Hello, world!\n",
      "Hello, world!\n",
      "Hello, world!\n",
      "Hello, world!\n",
      "Hello, world!\n",
      "Hello, world!\n",
      "Hello, world!\n",
      "Hello, world!\n",
      "Hello, world!\n",
      "Hello, world!\n",
      "Hello, world!\n",
      "Hello, world!\n",
      "Hello, world!\n",
      "Hello, world!\n",
      "Hello, world!\n",
      "Hello, world!\n",
      "Hello, world!\n",
      "Hello, world!\n",
      "Hello, world!\n",
      "Hello, world!\n",
      "Hello, world!\n",
      "Hello, world!\n",
      "Hello, world!\n",
      "Hello, world!\n",
      "Hello, world!\n",
      "Hello, world!\n",
      "Hello, world!\n",
      "Hello, world!\n",
      "Hello, world!\n",
      "Hello, world!\n",
      "Hello, world!\n",
      "Hello, world!\n",
      "Hello, world!\n",
      "Hello, world!\n",
      "Hello, world!\n",
      "Hello, world!\n",
      "Hello, world!\n",
      "Hello, world!\n",
      "Hello, world!\n",
      "Hello, world!\n",
      "Hello, world!\n",
      "Hello, world!\n",
      "Hello, world!\n",
      "Hello, world!\n",
      "Hello, world!\n",
      "Hello, world!\n",
      "Hello, world!\n",
      "Hello, world!\n",
      "Hello, world!\n",
      "Hello, world!\n",
      "Hello, world!\n",
      "Hello, world!\n",
      "Hello, world!\n",
      "Hello, world!\n",
      "Hello, world!\n",
      "Hello, world!\n",
      "Hello, world!\n",
      "Hello, world!\n",
      "Hello, world!\n",
      "Hello, world!\n",
      "Hello, world!\n",
      "Hello, world!\n",
      "Hello, world!\n",
      "Hello, world!\n",
      "Hello, world!\n",
      "Hello, world!\n",
      "Hello, world!\n",
      "Hello, world!\n",
      "Hello, world!\n",
      "Hello, world!\n",
      "Hello, world!\n",
      "Hello, world!\n",
      "Hello, world!\n",
      "Hello, world!\n",
      "Hello, world!\n",
      "Hello, world!\n",
      "Hello, world!\n",
      "Hello, world!\n",
      "Hello, world!\n",
      "Hello, world!\n",
      "Hello, world!\n",
      "Hello, world!\n",
      "Hello, world!\n",
      "Hello, world!\n",
      "Hello, world!\n",
      "Hello, world!\n",
      "Hello, world!\n",
      "Hello, world!\n",
      "Hello, world!\n"
     ]
    }
   ],
   "source": [
    "i = 0                      # 초기식\n",
    "while i < 100:             # while 조건식\n",
    "    print('Hello, world!') # 반복할 코드\n",
    "    i += 1                 # 변화식"
   ]
  },
  {
   "cell_type": "markdown",
   "metadata": {},
   "source": [
    "#### 17.1 while 반복문 사용하기"
   ]
  },
  {
   "cell_type": "code",
   "execution_count": null,
   "metadata": {},
   "outputs": [
    {
     "name": "stdout",
     "output_type": "stream",
     "text": [
      "Hello, world!\n",
      "Hello, world!\n",
      "Hello, world!\n",
      "Hello, world!\n",
      "Hello, world!\n",
      "Hello, world!\n",
      "Hello, world!\n",
      "Hello, world!\n",
      "Hello, world!\n",
      "Hello, world!\n",
      "Hello, world!\n",
      "Hello, world!\n",
      "Hello, world!\n",
      "Hello, world!\n",
      "Hello, world!\n",
      "Hello, world!\n",
      "Hello, world!\n",
      "Hello, world!\n",
      "Hello, world!\n",
      "Hello, world!\n",
      "Hello, world!\n",
      "Hello, world!\n",
      "Hello, world!\n",
      "Hello, world!\n",
      "Hello, world!\n",
      "Hello, world!\n",
      "Hello, world!\n",
      "Hello, world!\n",
      "Hello, world!\n",
      "Hello, world!\n",
      "Hello, world!\n",
      "Hello, world!\n",
      "Hello, world!\n",
      "Hello, world!\n",
      "Hello, world!\n",
      "Hello, world!\n",
      "Hello, world!\n",
      "Hello, world!\n",
      "Hello, world!\n",
      "Hello, world!\n",
      "Hello, world!\n",
      "Hello, world!\n",
      "Hello, world!\n",
      "Hello, world!\n",
      "Hello, world!\n",
      "Hello, world!\n",
      "Hello, world!\n",
      "Hello, world!\n",
      "Hello, world!\n",
      "Hello, world!\n",
      "Hello, world!\n",
      "Hello, world!\n",
      "Hello, world!\n",
      "Hello, world!\n",
      "Hello, world!\n",
      "Hello, world!\n",
      "Hello, world!\n",
      "Hello, world!\n",
      "Hello, world!\n",
      "Hello, world!\n",
      "Hello, world!\n",
      "Hello, world!\n",
      "Hello, world!\n",
      "Hello, world!\n",
      "Hello, world!\n",
      "Hello, world!\n",
      "Hello, world!\n",
      "Hello, world!\n",
      "Hello, world!\n",
      "Hello, world!\n",
      "Hello, world!\n",
      "Hello, world!\n",
      "Hello, world!\n",
      "Hello, world!\n",
      "Hello, world!\n",
      "Hello, world!\n",
      "Hello, world!\n",
      "Hello, world!\n",
      "Hello, world!\n",
      "Hello, world!\n",
      "Hello, world!\n",
      "Hello, world!\n",
      "Hello, world!\n",
      "Hello, world!\n",
      "Hello, world!\n",
      "Hello, world!\n",
      "Hello, world!\n",
      "Hello, world!\n",
      "Hello, world!\n",
      "Hello, world!\n",
      "Hello, world!\n",
      "Hello, world!\n",
      "Hello, world!\n",
      "Hello, world!\n",
      "Hello, world!\n",
      "Hello, world!\n",
      "Hello, world!\n",
      "Hello, world!\n",
      "Hello, world!\n",
      "Hello, world!\n"
     ]
    }
   ],
   "source": [
    "i = 0\n",
    "while i < 100:\n",
    "    print('Hello, world!')\n",
    "    i += 1\n",
    "    "
   ]
  },
  {
   "cell_type": "markdown",
   "metadata": {},
   "source": [
    "##### 17.1.1 초깃값을 1부터 시작하기"
   ]
  },
  {
   "cell_type": "code",
   "execution_count": null,
   "metadata": {},
   "outputs": [
    {
     "name": "stdout",
     "output_type": "stream",
     "text": [
      "Hello, world! 1\n",
      "Hello, world! 2\n",
      "Hello, world! 3\n",
      "Hello, world! 4\n",
      "Hello, world! 5\n",
      "Hello, world! 6\n",
      "Hello, world! 7\n",
      "Hello, world! 8\n",
      "Hello, world! 9\n",
      "Hello, world! 10\n",
      "Hello, world! 11\n",
      "Hello, world! 12\n",
      "Hello, world! 13\n",
      "Hello, world! 14\n",
      "Hello, world! 15\n",
      "Hello, world! 16\n",
      "Hello, world! 17\n",
      "Hello, world! 18\n",
      "Hello, world! 19\n",
      "Hello, world! 20\n",
      "Hello, world! 21\n",
      "Hello, world! 22\n",
      "Hello, world! 23\n",
      "Hello, world! 24\n",
      "Hello, world! 25\n",
      "Hello, world! 26\n",
      "Hello, world! 27\n",
      "Hello, world! 28\n",
      "Hello, world! 29\n",
      "Hello, world! 30\n",
      "Hello, world! 31\n",
      "Hello, world! 32\n",
      "Hello, world! 33\n",
      "Hello, world! 34\n",
      "Hello, world! 35\n",
      "Hello, world! 36\n",
      "Hello, world! 37\n",
      "Hello, world! 38\n",
      "Hello, world! 39\n",
      "Hello, world! 40\n",
      "Hello, world! 41\n",
      "Hello, world! 42\n",
      "Hello, world! 43\n",
      "Hello, world! 44\n",
      "Hello, world! 45\n",
      "Hello, world! 46\n",
      "Hello, world! 47\n",
      "Hello, world! 48\n",
      "Hello, world! 49\n",
      "Hello, world! 50\n",
      "Hello, world! 51\n",
      "Hello, world! 52\n",
      "Hello, world! 53\n",
      "Hello, world! 54\n",
      "Hello, world! 55\n",
      "Hello, world! 56\n",
      "Hello, world! 57\n",
      "Hello, world! 58\n",
      "Hello, world! 59\n",
      "Hello, world! 60\n",
      "Hello, world! 61\n",
      "Hello, world! 62\n",
      "Hello, world! 63\n",
      "Hello, world! 64\n",
      "Hello, world! 65\n",
      "Hello, world! 66\n",
      "Hello, world! 67\n",
      "Hello, world! 68\n",
      "Hello, world! 69\n",
      "Hello, world! 70\n",
      "Hello, world! 71\n",
      "Hello, world! 72\n",
      "Hello, world! 73\n",
      "Hello, world! 74\n",
      "Hello, world! 75\n",
      "Hello, world! 76\n",
      "Hello, world! 77\n",
      "Hello, world! 78\n",
      "Hello, world! 79\n",
      "Hello, world! 80\n",
      "Hello, world! 81\n",
      "Hello, world! 82\n",
      "Hello, world! 83\n",
      "Hello, world! 84\n",
      "Hello, world! 85\n",
      "Hello, world! 86\n",
      "Hello, world! 87\n",
      "Hello, world! 88\n",
      "Hello, world! 89\n",
      "Hello, world! 90\n",
      "Hello, world! 91\n",
      "Hello, world! 92\n",
      "Hello, world! 93\n",
      "Hello, world! 94\n",
      "Hello, world! 95\n",
      "Hello, world! 96\n",
      "Hello, world! 97\n",
      "Hello, world! 98\n",
      "Hello, world! 99\n",
      "Hello, world! 100\n"
     ]
    }
   ],
   "source": [
    "i = 1\n",
    "while i <= 100:\n",
    "    print('Hello, world!', i)\n",
    "    i += 1"
   ]
  },
  {
   "cell_type": "markdown",
   "metadata": {},
   "source": [
    "##### 17.1.2 초깃값을 감소시키기"
   ]
  },
  {
   "cell_type": "code",
   "execution_count": null,
   "metadata": {},
   "outputs": [
    {
     "name": "stdout",
     "output_type": "stream",
     "text": [
      "Hello, world! 100\n",
      "Hello, world! 99\n",
      "Hello, world! 98\n",
      "Hello, world! 97\n",
      "Hello, world! 96\n",
      "Hello, world! 95\n",
      "Hello, world! 94\n",
      "Hello, world! 93\n",
      "Hello, world! 92\n",
      "Hello, world! 91\n",
      "Hello, world! 90\n",
      "Hello, world! 89\n",
      "Hello, world! 88\n",
      "Hello, world! 87\n",
      "Hello, world! 86\n",
      "Hello, world! 85\n",
      "Hello, world! 84\n",
      "Hello, world! 83\n",
      "Hello, world! 82\n",
      "Hello, world! 81\n",
      "Hello, world! 80\n",
      "Hello, world! 79\n",
      "Hello, world! 78\n",
      "Hello, world! 77\n",
      "Hello, world! 76\n",
      "Hello, world! 75\n",
      "Hello, world! 74\n",
      "Hello, world! 73\n",
      "Hello, world! 72\n",
      "Hello, world! 71\n",
      "Hello, world! 70\n",
      "Hello, world! 69\n",
      "Hello, world! 68\n",
      "Hello, world! 67\n",
      "Hello, world! 66\n",
      "Hello, world! 65\n",
      "Hello, world! 64\n",
      "Hello, world! 63\n",
      "Hello, world! 62\n",
      "Hello, world! 61\n",
      "Hello, world! 60\n",
      "Hello, world! 59\n",
      "Hello, world! 58\n",
      "Hello, world! 57\n",
      "Hello, world! 56\n",
      "Hello, world! 55\n",
      "Hello, world! 54\n",
      "Hello, world! 53\n",
      "Hello, world! 52\n",
      "Hello, world! 51\n",
      "Hello, world! 50\n",
      "Hello, world! 49\n",
      "Hello, world! 48\n",
      "Hello, world! 47\n",
      "Hello, world! 46\n",
      "Hello, world! 45\n",
      "Hello, world! 44\n",
      "Hello, world! 43\n",
      "Hello, world! 42\n",
      "Hello, world! 41\n",
      "Hello, world! 40\n",
      "Hello, world! 39\n",
      "Hello, world! 38\n",
      "Hello, world! 37\n",
      "Hello, world! 36\n",
      "Hello, world! 35\n",
      "Hello, world! 34\n",
      "Hello, world! 33\n",
      "Hello, world! 32\n",
      "Hello, world! 31\n",
      "Hello, world! 30\n",
      "Hello, world! 29\n",
      "Hello, world! 28\n",
      "Hello, world! 27\n",
      "Hello, world! 26\n",
      "Hello, world! 25\n",
      "Hello, world! 24\n",
      "Hello, world! 23\n",
      "Hello, world! 22\n",
      "Hello, world! 21\n",
      "Hello, world! 20\n",
      "Hello, world! 19\n",
      "Hello, world! 18\n",
      "Hello, world! 17\n",
      "Hello, world! 16\n",
      "Hello, world! 15\n",
      "Hello, world! 14\n",
      "Hello, world! 13\n",
      "Hello, world! 12\n",
      "Hello, world! 11\n",
      "Hello, world! 10\n",
      "Hello, world! 9\n",
      "Hello, world! 8\n",
      "Hello, world! 7\n",
      "Hello, world! 6\n",
      "Hello, world! 5\n",
      "Hello, world! 4\n",
      "Hello, world! 3\n",
      "Hello, world! 2\n",
      "Hello, world! 1\n"
     ]
    }
   ],
   "source": [
    "i = 100\n",
    "while i > 0:\n",
    "    print('Hello, world!', i)\n",
    "    i -= 1"
   ]
  },
  {
   "cell_type": "markdown",
   "metadata": {},
   "source": [
    "##### 17.1.3 입력한 횟수대로 반복하기"
   ]
  },
  {
   "cell_type": "code",
   "execution_count": null,
   "metadata": {},
   "outputs": [
    {
     "name": "stdout",
     "output_type": "stream",
     "text": [
      "Hello, world! 0\n",
      "Hello, world! 1\n",
      "Hello, world! 2\n"
     ]
    }
   ],
   "source": [
    "count = int(input('반복할 횟수를 입력하세요: '))\n",
    "\n",
    "i = 0\n",
    "while i < count: # i가 count보다 작을 때 반복\n",
    "    print('Hello, world!', i)\n",
    "    i += 1"
   ]
  },
  {
   "cell_type": "code",
   "execution_count": null,
   "metadata": {},
   "outputs": [
    {
     "name": "stdout",
     "output_type": "stream",
     "text": [
      "Hello, world! 3\n",
      "Hello, world! 2\n",
      "Hello, world! 1\n"
     ]
    }
   ],
   "source": [
    "count = int(input('반복할 횟수를 입력하세요: '))\n",
    "\n",
    "while count > 0: # count가 0보다 클 때 반복\n",
    "    print('Hello, world!', count)\n",
    "    count -= 1 # count를 1씩 감소시킴"
   ]
  },
  {
   "cell_type": "markdown",
   "metadata": {},
   "source": [
    "#### 17.2 반복 횟수가 정해지지 않은 경우"
   ]
  },
  {
   "cell_type": "code",
   "execution_count": null,
   "metadata": {},
   "outputs": [],
   "source": [
    "import random # random 모듈을 가져옴"
   ]
  },
  {
   "cell_type": "code",
   "execution_count": null,
   "metadata": {},
   "outputs": [
    {
     "data": {
      "text/plain": [
       "0.715828131388978"
      ]
     },
     "metadata": {},
     "output_type": "display_data"
    }
   ],
   "source": [
    "random.random() # 0~1 사이의 실수 난수 생성"
   ]
  },
  {
   "cell_type": "code",
   "execution_count": null,
   "metadata": {},
   "outputs": [
    {
     "data": {
      "text/plain": [
       "6"
      ]
     },
     "metadata": {},
     "output_type": "display_data"
    }
   ],
   "source": [
    "random.randint(1, 6) # 1~6 사이의 정수 난수 생성"
   ]
  },
  {
   "cell_type": "code",
   "execution_count": null,
   "metadata": {},
   "outputs": [
    {
     "name": "stdout",
     "output_type": "stream",
     "text": [
      "6\n",
      "2\n",
      "6\n",
      "4\n",
      "4\n",
      "4\n",
      "4\n",
      "4\n",
      "4\n",
      "1\n",
      "4\n",
      "2\n",
      "3\n"
     ]
    }
   ],
   "source": [
    "import random # random 모듈을 가져옴\n",
    "\n",
    "i = 0\n",
    "while i != 3: # 3이 아닐 때 계속 반복\n",
    "    i = random.randint(1, 6) # randint를 사용하여 1과 6 사이의 난수를 생성\n",
    "    print(i)\n",
    "\n",
    "# 마지막에 3이 나오면 스탑"
   ]
  },
  {
   "cell_type": "markdown",
   "metadata": {},
   "source": [
    "##### 참고) random.choice"
   ]
  },
  {
   "cell_type": "code",
   "execution_count": null,
   "metadata": {},
   "outputs": [
    {
     "data": {
      "text/plain": [
       "4"
      ]
     },
     "metadata": {},
     "output_type": "display_data"
    }
   ],
   "source": [
    "dice = [1, 2, 3, 4, 5, 6]\n",
    "random.choice(dice) # dice 리스트에서 랜덤으로 하나 추출"
   ]
  },
  {
   "cell_type": "markdown",
   "metadata": {},
   "source": [
    "#### 17.3 while 반복문으로 무한 루프 만들기"
   ]
  },
  {
   "cell_type": "code",
   "execution_count": null,
   "metadata": {},
   "outputs": [],
   "source": [
    "while True: # while에 True를 지정하면 무한 루프\n",
    "    print('Hello, world!')"
   ]
  },
  {
   "cell_type": "code",
   "execution_count": null,
   "metadata": {},
   "outputs": [],
   "source": [
    "while 1: # 0이 아닌 숫자는 True로 취급하여 무한 루프로 동작\n",
    "    print('Hello, world!')"
   ]
  },
  {
   "cell_type": "code",
   "execution_count": null,
   "metadata": {},
   "outputs": [],
   "source": [
    "while 'Hello': # 내용이 있는 문자열은 True로 취급하여 무한 루프로 동작\n",
    "    print('Hello, world!')"
   ]
  },
  {
   "cell_type": "markdown",
   "metadata": {},
   "source": [
    "#### 17.4 퀴즈"
   ]
  },
  {
   "cell_type": "markdown",
   "metadata": {},
   "source": [
    "##### 1. 다음 중 while 반복문에 대한 설명으로 잘못된 것을 모두 고르세요."
   ]
  },
  {
   "cell_type": "markdown",
   "metadata": {},
   "source": [
    "a. while 반복문에는 조건식 또는 값을 지정하면 된다. (O)  \n",
    "b. while 반복문은 조건식의 결과가 True이면 반복을 끝낸다. (X)  \n",
    "c. while 반복문은 반복 횟수가 정해져 있을 때만 사용할 수 있다. (X)  \n",
    "d. while 반복문의 다음 줄은 반드시 들여쓰기를 해야 한다. (O)  \n",
    "e. while 반복문의 조건식에 True를 지정하면 무한 루프가 된다. (O)  "
   ]
  },
  {
   "cell_type": "markdown",
   "metadata": {},
   "source": [
    "##### 2. 다음 while 반복문을 실행했을 때 출력 결과를 고르세요."
   ]
  },
  {
   "cell_type": "code",
   "execution_count": null,
   "metadata": {},
   "outputs": [
    {
     "name": "stdout",
     "output_type": "stream",
     "text": [
      "10 12 14 16 18 "
     ]
    }
   ],
   "source": [
    "i = 10\n",
    "\n",
    "while i < 19:\n",
    "    print(i, end=' ')\n",
    "    i += 2\n",
    "\n",
    "# d"
   ]
  },
  {
   "cell_type": "markdown",
   "metadata": {},
   "source": [
    "##### 3. while 반복문으로 'Hello, world!'를 10번 출력한다고 했을 때, 잘못된 부분을 고르세요."
   ]
  },
  {
   "cell_type": "code",
   "execution_count": null,
   "metadata": {},
   "outputs": [
    {
     "name": "stdout",
     "output_type": "stream",
     "text": [
      "Hello, world!\n",
      "Hello, world!\n",
      "Hello, world!\n",
      "Hello, world!\n",
      "Hello, world!\n",
      "Hello, world!\n",
      "Hello, world!\n",
      "Hello, world!\n",
      "Hello, world!\n",
      "Hello, world!\n"
     ]
    }
   ],
   "source": [
    "i = 0\n",
    "\n",
    "while i < 20: # >가 아니라 <를 써야한다.\n",
    "    print('Hello, world!')\n",
    "    i = i + 2"
   ]
  },
  {
   "cell_type": "markdown",
   "metadata": {},
   "source": [
    "##### 4. 다음 while 반복문 중 무한 루프를 모두 고르세요."
   ]
  },
  {
   "cell_type": "markdown",
   "metadata": {},
   "source": [
    "a. while '': (X)  \n",
    "b. while 1.1: (O)  \n",
    "c. while None: (X)  \n",
    "d. while False: (X)  \n",
    "e. while not 0: (O)  "
   ]
  },
  {
   "cell_type": "markdown",
   "metadata": {},
   "source": [
    "#### 17.5 연습문제: 변수 두 개를 다르게 반복하기"
   ]
  },
  {
   "cell_type": "code",
   "execution_count": null,
   "metadata": {},
   "outputs": [
    {
     "name": "stdout",
     "output_type": "stream",
     "text": [
      "2 5\n",
      "4 4\n",
      "8 3\n",
      "16 2\n",
      "32 1\n"
     ]
    }
   ],
   "source": [
    "i = 2\n",
    "j = 5\n",
    "\n",
    "while i <= 32 or j >= 1:\n",
    "    print(i, j)\n",
    "    i *= 2\n",
    "    j -= 1"
   ]
  },
  {
   "cell_type": "markdown",
   "metadata": {},
   "source": [
    "#### 17.6 심사문제: 교통카드 잔액 출력하기"
   ]
  },
  {
   "cell_type": "code",
   "execution_count": null,
   "metadata": {},
   "outputs": [
    {
     "name": "stdout",
     "output_type": "stream",
     "text": [
      "8650\n",
      "7300\n",
      "5950\n",
      "4600\n",
      "3250\n",
      "1900\n",
      "550\n"
     ]
    }
   ],
   "source": [
    "balance = int(input())\n",
    "while balance >= 0:\n",
    "    balance -= 1350\n",
    "    if balance < 0:\n",
    "        break\n",
    "    print(balance)"
   ]
  },
  {
   "cell_type": "code",
   "execution_count": null,
   "metadata": {},
   "outputs": [
    {
     "name": "stdout",
     "output_type": "stream",
     "text": [
      "12150\n",
      "10800\n",
      "9450\n",
      "8100\n",
      "6750\n",
      "5400\n",
      "4050\n",
      "2700\n",
      "1350\n",
      "0\n"
     ]
    }
   ],
   "source": [
    "balance = int(input())\n",
    "\n",
    "while balance >= 0:\n",
    "    balance -= 1350\n",
    "    if balance < 0:\n",
    "        break\n",
    "    print(balance)"
   ]
  },
  {
   "cell_type": "markdown",
   "metadata": {},
   "source": [
    "## UNIT18 break, continue로 반복문 제어하기"
   ]
  },
  {
   "cell_type": "markdown",
   "metadata": {},
   "source": [
    "#### 18.1 break로 반복문 끝내기"
   ]
  },
  {
   "cell_type": "markdown",
   "metadata": {},
   "source": [
    "##### 18.1.1 while에서 break로 반복문 끝내기"
   ]
  },
  {
   "cell_type": "code",
   "execution_count": null,
   "metadata": {},
   "outputs": [
    {
     "name": "stdout",
     "output_type": "stream",
     "text": [
      "0\n",
      "1\n",
      "2\n",
      "3\n",
      "4\n",
      "5\n",
      "6\n",
      "7\n",
      "8\n",
      "9\n",
      "10\n",
      "11\n",
      "12\n",
      "13\n",
      "14\n",
      "15\n",
      "16\n",
      "17\n",
      "18\n",
      "19\n",
      "20\n",
      "21\n",
      "22\n",
      "23\n",
      "24\n",
      "25\n",
      "26\n",
      "27\n",
      "28\n",
      "29\n",
      "30\n",
      "31\n",
      "32\n",
      "33\n",
      "34\n",
      "35\n",
      "36\n",
      "37\n",
      "38\n",
      "39\n",
      "40\n",
      "41\n",
      "42\n",
      "43\n",
      "44\n",
      "45\n",
      "46\n",
      "47\n",
      "48\n",
      "49\n",
      "50\n",
      "51\n",
      "52\n",
      "53\n",
      "54\n",
      "55\n",
      "56\n",
      "57\n",
      "58\n",
      "59\n",
      "60\n",
      "61\n",
      "62\n",
      "63\n",
      "64\n",
      "65\n",
      "66\n",
      "67\n",
      "68\n",
      "69\n",
      "70\n",
      "71\n",
      "72\n",
      "73\n",
      "74\n",
      "75\n",
      "76\n",
      "77\n",
      "78\n",
      "79\n",
      "80\n",
      "81\n",
      "82\n",
      "83\n",
      "84\n",
      "85\n",
      "86\n",
      "87\n",
      "88\n",
      "89\n",
      "90\n",
      "91\n",
      "92\n",
      "93\n",
      "94\n",
      "95\n",
      "96\n",
      "97\n",
      "98\n",
      "99\n"
     ]
    }
   ],
   "source": [
    "i = 0\n",
    "while True: # 무한 루프\n",
    "    print(i)\n",
    "    i += 1         # i를 1씩 증가시킴\n",
    "    if i == 100:   # i가 100일 때\n",
    "        break      # 반복문을 끝냄. while의 제어 흐름을 벗어남"
   ]
  },
  {
   "cell_type": "markdown",
   "metadata": {},
   "source": [
    "##### 18.1.2 for에서 break로 반복문 끝내기"
   ]
  },
  {
   "cell_type": "code",
   "execution_count": null,
   "metadata": {},
   "outputs": [
    {
     "name": "stdout",
     "output_type": "stream",
     "text": [
      "0\n",
      "1\n",
      "2\n",
      "3\n",
      "4\n",
      "5\n",
      "6\n",
      "7\n",
      "8\n",
      "9\n",
      "10\n",
      "11\n",
      "12\n",
      "13\n",
      "14\n",
      "15\n",
      "16\n",
      "17\n",
      "18\n",
      "19\n",
      "20\n",
      "21\n",
      "22\n",
      "23\n",
      "24\n",
      "25\n",
      "26\n",
      "27\n",
      "28\n",
      "29\n",
      "30\n",
      "31\n",
      "32\n",
      "33\n",
      "34\n",
      "35\n",
      "36\n",
      "37\n",
      "38\n",
      "39\n",
      "40\n",
      "41\n",
      "42\n",
      "43\n",
      "44\n",
      "45\n",
      "46\n",
      "47\n",
      "48\n",
      "49\n",
      "50\n",
      "51\n",
      "52\n",
      "53\n",
      "54\n",
      "55\n",
      "56\n",
      "57\n",
      "58\n",
      "59\n",
      "60\n",
      "61\n",
      "62\n",
      "63\n",
      "64\n",
      "65\n",
      "66\n",
      "67\n",
      "68\n",
      "69\n",
      "70\n",
      "71\n",
      "72\n",
      "73\n",
      "74\n",
      "75\n",
      "76\n",
      "77\n",
      "78\n",
      "79\n",
      "80\n",
      "81\n",
      "82\n",
      "83\n",
      "84\n",
      "85\n",
      "86\n",
      "87\n",
      "88\n",
      "89\n",
      "90\n",
      "91\n",
      "92\n",
      "93\n",
      "94\n",
      "95\n",
      "96\n",
      "97\n",
      "98\n",
      "99\n",
      "100\n"
     ]
    }
   ],
   "source": [
    "for i in range(10000): # 0부터 9999까지 반복\n",
    "    print(i)\n",
    "    if i == 100:       # i가 100일 때\n",
    "        break          # 반복문을 끝냄. for의 제어 흐름을 벗어남"
   ]
  },
  {
   "cell_type": "markdown",
   "metadata": {},
   "source": [
    "#### 18.2 continue로 코드 실행 건너뛰기"
   ]
  },
  {
   "cell_type": "markdown",
   "metadata": {},
   "source": [
    "##### 18.2.1 for에서 continue로 코드 실행 건너뛰기"
   ]
  },
  {
   "cell_type": "code",
   "execution_count": null,
   "metadata": {},
   "outputs": [
    {
     "name": "stdout",
     "output_type": "stream",
     "text": [
      "1\n",
      "3\n",
      "5\n",
      "7\n",
      "9\n",
      "11\n",
      "13\n",
      "15\n",
      "17\n",
      "19\n",
      "21\n",
      "23\n",
      "25\n",
      "27\n",
      "29\n",
      "31\n",
      "33\n",
      "35\n",
      "37\n",
      "39\n",
      "41\n",
      "43\n",
      "45\n",
      "47\n",
      "49\n",
      "51\n",
      "53\n",
      "55\n",
      "57\n",
      "59\n",
      "61\n",
      "63\n",
      "65\n",
      "67\n",
      "69\n",
      "71\n",
      "73\n",
      "75\n",
      "77\n",
      "79\n",
      "81\n",
      "83\n",
      "85\n",
      "87\n",
      "89\n",
      "91\n",
      "93\n",
      "95\n",
      "97\n",
      "99\n"
     ]
    }
   ],
   "source": [
    "for i in range(100):    # 0부터 99까지 증가하면서 100번 반복\n",
    "    if i % 2 == 0:      # i를 2로 나누었을 때 나머지가 0면 짝수\n",
    "        continue        # 아래 코드를 실행하지 않고 건너뜀\n",
    "    print(i)"
   ]
  },
  {
   "cell_type": "markdown",
   "metadata": {},
   "source": [
    "##### 18.2.2 while 반복문에서 continue로 코드 실행 건너뛰기"
   ]
  },
  {
   "cell_type": "code",
   "execution_count": null,
   "metadata": {},
   "outputs": [
    {
     "name": "stdout",
     "output_type": "stream",
     "text": [
      "1\n",
      "3\n",
      "5\n",
      "7\n",
      "9\n",
      "11\n",
      "13\n",
      "15\n",
      "17\n",
      "19\n",
      "21\n",
      "23\n",
      "25\n",
      "27\n",
      "29\n",
      "31\n",
      "33\n",
      "35\n",
      "37\n",
      "39\n",
      "41\n",
      "43\n",
      "45\n",
      "47\n",
      "49\n",
      "51\n",
      "53\n",
      "55\n",
      "57\n",
      "59\n",
      "61\n",
      "63\n",
      "65\n",
      "67\n",
      "69\n",
      "71\n",
      "73\n",
      "75\n",
      "77\n",
      "79\n",
      "81\n",
      "83\n",
      "85\n",
      "87\n",
      "89\n",
      "91\n",
      "93\n",
      "95\n",
      "97\n",
      "99\n"
     ]
    }
   ],
   "source": [
    "i = 0\n",
    "while i < 100:       # i가 100보다 작을 때 반복. 0부터 99까지 증가하면서 100번 반복\n",
    "    i += 1           # i를 1씩 증가시킴\n",
    "    if i % 2 == 0:   # i를 2로 나누었을 때 나머지가 0이면 짝수\n",
    "        continue     # 아래 코드를 실행하지 않고 건너뜀\n",
    "    \n",
    "    print(i)"
   ]
  },
  {
   "cell_type": "markdown",
   "metadata": {},
   "source": [
    "#### 참고) 반복문과 pass"
   ]
  },
  {
   "cell_type": "markdown",
   "metadata": {},
   "source": [
    "> for, while의 반복할 코드에서 아무 일도 하지 않지만, 반복문의 형태를 유지하고 싶다면 pass를 사용하면 됩니다."
   ]
  },
  {
   "cell_type": "code",
   "execution_count": null,
   "metadata": {},
   "outputs": [],
   "source": [
    "for i in range(10):  # 10번 반복\n",
    "    pass             # 아무 일도 하지 않음"
   ]
  },
  {
   "cell_type": "code",
   "execution_count": null,
   "metadata": {},
   "outputs": [],
   "source": [
    "while True: # 무한 루프\n",
    "    pass    # 아무 일도 하지 않음"
   ]
  },
  {
   "cell_type": "markdown",
   "metadata": {},
   "source": [
    "#### 18.3 입력한 횟수대로 반복하기"
   ]
  },
  {
   "cell_type": "code",
   "execution_count": 20,
   "metadata": {},
   "outputs": [
    {
     "name": "stdout",
     "output_type": "stream",
     "text": [
      "0\n",
      "1\n",
      "2\n"
     ]
    }
   ],
   "source": [
    "count = int(input('반복할 횟수를 입력하세요: '))\n",
    "\n",
    "i = 0\n",
    "while True: # 무한 루프\n",
    "    print(i)\n",
    "    i += 1\n",
    "    if i == count: # i가 입력받은 값과 같을 때\n",
    "        break      # 반복문을 끝냄"
   ]
  },
  {
   "cell_type": "markdown",
   "metadata": {},
   "source": [
    "##### 18.3.1 입력한 숫자까지 홀수 출력하기"
   ]
  },
  {
   "cell_type": "code",
   "execution_count": 21,
   "metadata": {},
   "outputs": [
    {
     "name": "stdout",
     "output_type": "stream",
     "text": [
      "1\n",
      "3\n",
      "5\n",
      "7\n",
      "9\n"
     ]
    }
   ],
   "source": [
    "count = int(input('반복할 횟수를 입력하세요: '))\n",
    "\n",
    "for i in range(count + 1):  # 0부터 증가하면서 count까지 반복(count + 1)\n",
    "    if i % 2 == 0:          # i를 2로 나누었을 때 나머지가 0이면 짝수\n",
    "        continue            # 아래 코드를 실행하지 않고 건너뜀\n",
    "    print(i)"
   ]
  },
  {
   "cell_type": "markdown",
   "metadata": {},
   "source": [
    "#### 18.4 퀴즈"
   ]
  },
  {
   "cell_type": "markdown",
   "metadata": {},
   "source": [
    "##### 1. 다음 중 break와 continue에 대한 설명으로 올바른 것을 모두 고르세요."
   ]
  },
  {
   "cell_type": "markdown",
   "metadata": {},
   "source": [
    "a. break는 if 조건문을 끝낸다. (X)  \n",
    "b. break는 while 반복문을 끝낸다. (O)  \n",
    "c. break는 for range 반복문에 사용할 수 없다. (X)  \n",
    "d. continue는 코드를 실행하지 않고 건너뛰며 루프를 중단하지 않는다. (O)  \n",
    "e. continue는 코드를 실행하지 않고 건너뛴 뒤 루프를 중단한다. (X)  "
   ]
  },
  {
   "cell_type": "markdown",
   "metadata": {},
   "source": [
    "##### 2. 다음 코드로 1부터 10까지 출력하면서 3의 배수는 제외하려고 할 때 밑줄 부분에 들어가야 할 코드를 고르세요."
   ]
  },
  {
   "cell_type": "code",
   "execution_count": 22,
   "metadata": {},
   "outputs": [
    {
     "name": "stdout",
     "output_type": "stream",
     "text": [
      "1\n",
      "2\n",
      "4\n",
      "5\n",
      "7\n",
      "8\n",
      "10\n"
     ]
    }
   ],
   "source": [
    "for i in range(1, 11):\n",
    "    if i % 3 == 0:\n",
    "        continue\n",
    "    print(i)\n",
    "# b"
   ]
  },
  {
   "cell_type": "markdown",
   "metadata": {},
   "source": [
    "##### 3. 다음 코드로 30부터 10까지 출력할 때 밑줄 부분에 들어가야 할 코드를 고르세요."
   ]
  },
  {
   "cell_type": "code",
   "execution_count": 23,
   "metadata": {},
   "outputs": [
    {
     "name": "stdout",
     "output_type": "stream",
     "text": [
      "30\n",
      "29\n",
      "28\n",
      "27\n",
      "26\n",
      "25\n",
      "24\n",
      "23\n",
      "22\n",
      "21\n",
      "20\n",
      "19\n",
      "18\n",
      "17\n",
      "16\n",
      "15\n",
      "14\n",
      "13\n",
      "12\n",
      "11\n",
      "10\n"
     ]
    }
   ],
   "source": [
    "i = 30\n",
    "\n",
    "while True:\n",
    "    print(i)\n",
    "    if i == 10:\n",
    "        break\n",
    "    i -= 1\n",
    "# c"
   ]
  },
  {
   "cell_type": "markdown",
   "metadata": {},
   "source": [
    "#### 18.5 연습문제: 3으로 끝나는 숫자만 출력하기"
   ]
  },
  {
   "cell_type": "code",
   "execution_count": 26,
   "metadata": {},
   "outputs": [
    {
     "name": "stdout",
     "output_type": "stream",
     "text": [
      "3 13 23 33 43 53 63 73 "
     ]
    }
   ],
   "source": [
    "i = 0\n",
    "while True:\n",
    "    if i % 10 != 3:\n",
    "        i += 1\n",
    "        continue\n",
    "    elif i > 73:\n",
    "        break\n",
    "    print(i, end = ' ')\n",
    "    i += 1"
   ]
  },
  {
   "cell_type": "markdown",
   "metadata": {},
   "source": [
    "#### 18.6 심사문제: 두 수 사이의 숫자 중 3으로 끝나지 않는 숫자 출력"
   ]
  },
  {
   "cell_type": "code",
   "execution_count": 27,
   "metadata": {},
   "outputs": [
    {
     "name": "stdout",
     "output_type": "stream",
     "text": [
      "1 2 4 5 6 7 8 9 10 11 12 14 15 16 17 18 19 20 "
     ]
    }
   ],
   "source": [
    "start, stop = map(int, input().split())\n",
    "\n",
    "i = start\n",
    "\n",
    "while True:\n",
    "    if i % 10 == 3:\n",
    "        i += 1\n",
    "        continue\n",
    "    elif i > stop:\n",
    "        break\n",
    "    print(i, end=' ')\n",
    "    i += 1"
   ]
  },
  {
   "cell_type": "code",
   "execution_count": 28,
   "metadata": {},
   "outputs": [
    {
     "name": "stdout",
     "output_type": "stream",
     "text": [
      "21 22 24 25 26 27 28 29 30 31 32 "
     ]
    }
   ],
   "source": [
    "start, stop = map(int, input().split())\n",
    "\n",
    "i = start\n",
    "\n",
    "while True:\n",
    "    if i % 10 == 3:\n",
    "        i += 1\n",
    "        continue\n",
    "    elif i > stop:\n",
    "        break\n",
    "    print(i, end=' ')\n",
    "    i += 1"
   ]
  },
  {
   "cell_type": "code",
   "execution_count": null,
   "metadata": {},
   "outputs": [],
   "source": []
  }
 ],
 "metadata": {
  "kernelspec": {
   "display_name": "Python 3",
   "language": "python",
   "name": "python3"
  },
  "language_info": {
   "codemirror_mode": {
    "name": "ipython",
    "version": 3
   },
   "file_extension": ".py",
   "mimetype": "text/x-python",
   "name": "python",
   "nbconvert_exporter": "python",
   "pygments_lexer": "ipython3",
   "version": "3.12.2"
  }
 },
 "nbformat": 4,
 "nbformat_minor": 2
}
