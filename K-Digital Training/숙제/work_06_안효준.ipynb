{
 "cells": [
  {
   "cell_type": "markdown",
   "metadata": {},
   "source": [
    "## UNIT21 터틀 그래픽스로 그림 그리기"
   ]
  },
  {
   "cell_type": "markdown",
   "metadata": {},
   "source": [
    "#### 21.1 사각형 그리기"
   ]
  },
  {
   "cell_type": "code",
   "execution_count": 1,
   "metadata": {},
   "outputs": [],
   "source": [
    "import turtle as t\n",
    "t.shape('turtle')\n",
    "\n",
    "t.fd(100)\n",
    "t.rt(90)\n",
    "t.fd(100)\n",
    "t.rt(90)\n",
    "t.fd(100)\n",
    "t.rt(90)\n",
    "t.fd(100)"
   ]
  },
  {
   "cell_type": "markdown",
   "metadata": {},
   "source": [
    "#### 21.2 다각형 그리기"
   ]
  },
  {
   "cell_type": "code",
   "execution_count": 22,
   "metadata": {},
   "outputs": [],
   "source": [
    "import turtle as t\n",
    "\n",
    "t.shape('turtle')\n",
    "for i in range(4):  # 사각형이므로 4번 반복\n",
    "    t.forward(100)\n",
    "    t.right(90)\n"
   ]
  },
  {
   "cell_type": "markdown",
   "metadata": {},
   "source": [
    "##### 21.2.1 오각형 그리기"
   ]
  },
  {
   "cell_type": "code",
   "execution_count": 5,
   "metadata": {},
   "outputs": [],
   "source": [
    "import turtle as t\n",
    "t.shape('turtle')\n",
    "for i in range(5):      # 오각형이므로 5번 반복\n",
    "    t.forward(100)\n",
    "    t.right(360 / 5)    # 360을 5로 나누어서 외각을 구함"
   ]
  },
  {
   "cell_type": "markdown",
   "metadata": {},
   "source": [
    "##### 21.2.2 다각형 그리기"
   ]
  },
  {
   "cell_type": "code",
   "execution_count": 6,
   "metadata": {},
   "outputs": [],
   "source": [
    "import turtle as t\n",
    "\n",
    "n = int(input())        # 사용자의 입력을 받음\n",
    "t.shape('turtle')\n",
    "for i in range(n):      # n번 반복\n",
    "    t.forward(100)\n",
    "    t.right(360 / n)    # 360을 n으로 나누어서 외각을 구함"
   ]
  },
  {
   "cell_type": "markdown",
   "metadata": {},
   "source": [
    "##### 21.2.3 다각형에 색칠하기"
   ]
  },
  {
   "cell_type": "code",
   "execution_count": 3,
   "metadata": {},
   "outputs": [],
   "source": [
    "import turtle as t\n",
    "\n",
    "n"
   ]
  },
  {
   "cell_type": "code",
   "execution_count": null,
   "metadata": {},
   "outputs": [],
   "source": []
  },
  {
   "cell_type": "code",
   "execution_count": null,
   "metadata": {},
   "outputs": [],
   "source": []
  }
 ],
 "metadata": {
  "kernelspec": {
   "display_name": "Python 3",
   "language": "python",
   "name": "python3"
  },
  "language_info": {
   "codemirror_mode": {
    "name": "ipython",
    "version": 3
   },
   "file_extension": ".py",
   "mimetype": "text/x-python",
   "name": "python",
   "nbconvert_exporter": "python",
   "pygments_lexer": "ipython3",
   "version": "3.12.2"
  }
 },
 "nbformat": 4,
 "nbformat_minor": 2
}
