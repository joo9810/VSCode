{
 "cells": [
  {
   "cell_type": "markdown",
   "metadata": {},
   "source": [
    "# ex_collect_01"
   ]
  },
  {
   "cell_type": "markdown",
   "metadata": {},
   "source": [
    "##### Collection 자료형에 공통적인 부분 살펴보기"
   ]
  },
  {
   "cell_type": "markdown",
   "metadata": {},
   "source": [
    "[여러개의 변수에 데이터 저장]"
   ]
  },
  {
   "cell_type": "code",
   "execution_count": 3,
   "metadata": {},
   "outputs": [
    {
     "name": "stdout",
     "output_type": "stream",
     "text": [
      "홍길동 12 의적 남\n"
     ]
    }
   ],
   "source": [
    "name = '홍길동'\n",
    "age = 12\n",
    "job = '의적'\n",
    "gender = '남'\n",
    "\n",
    "print(name, age, job, gender)"
   ]
  },
  {
   "cell_type": "markdown",
   "metadata": {},
   "source": [
    " - 팩킹(packing), 언팩킹(unpacking)"
   ]
  },
  {
   "cell_type": "code",
   "execution_count": 6,
   "metadata": {},
   "outputs": [
    {
     "name": "stdout",
     "output_type": "stream",
     "text": [
      "('홍길동', 12, '의적', '남')\n",
      "홍길동 12 의적 남\n"
     ]
    }
   ],
   "source": [
    "# 팩킹(packing) 방식 : 변수명 = Tuple 타입\n",
    "data = '홍길동', 12, '의적', '남'\n",
    "\n",
    "print(data)\n",
    "\n",
    "# 언팩킹(unpacking) 방식 : 변1, 변2, .., 변n = Tuple 타입\n",
    "#                          변수명 개수 == 데이터 수\n",
    "name, age, job, gender = '홍길동', 12, '의적', '남' # Tuple 타입\n",
    "# name, age = '홍길동', 12, '의적', '남' # ERROR\n",
    "\n",
    "print(name, age, job, gender)"
   ]
  },
  {
   "cell_type": "code",
   "execution_count": 8,
   "metadata": {},
   "outputs": [
    {
     "name": "stdout",
     "output_type": "stream",
     "text": [
      "마징가 12 남\n"
     ]
    }
   ],
   "source": [
    "# 특정 데이터를 다시 쓸 일이 없을 때\n",
    "name, age, _, _ = '마징가', 12, '의적', '남' # _는 의미 없는 데이터\n",
    "print(name, age, _) # _를 출력하면 _ 중 마지막 값이 출력 됨"
   ]
  },
  {
   "cell_type": "code",
   "execution_count": 9,
   "metadata": {},
   "outputs": [
    {
     "name": "stdout",
     "output_type": "stream",
     "text": [
      "[100, 99] 100 99\n"
     ]
    }
   ],
   "source": [
    "# 리스트를 언팩킹 방식으로 받기\n",
    "jumsu = [100, 99]\n",
    "kor, math = [100, 99]\n",
    "print(jumsu, kor, math)"
   ]
  },
  {
   "cell_type": "code",
   "execution_count": 11,
   "metadata": {},
   "outputs": [
    {
     "name": "stdout",
     "output_type": "stream",
     "text": [
      "{'name': '박', 'age': 11} name age\n"
     ]
    }
   ],
   "source": [
    "person = {'name' : '박', 'age' : 11}\n",
    "k1, k2 = {'name' : '박', 'age' : 11}\n",
    "print(person, k1, k2) # person은 dict가 그대로 나오지만 k1, k2는 key만 나옴"
   ]
  },
  {
   "cell_type": "markdown",
   "metadata": {},
   "source": [
    "##### 생성자(Constructor) 함수 : 타입명과 동일한 이름의 함수"
   ]
  },
  {
   "cell_type": "markdown",
   "metadata": {},
   "source": [
    " - int(), float(), str(), bool(), list(), tuple(), dict(), set()\n",
    " - map(), range()"
   ]
  },
  {
   "cell_type": "code",
   "execution_count": 12,
   "metadata": {},
   "outputs": [
    {
     "name": "stdout",
     "output_type": "stream",
     "text": [
      "10 10.2 Good False\n"
     ]
    }
   ],
   "source": [
    "# 기본 데이터 타입\n",
    "num = int(10)           # num = 10\n",
    "fnum = float(10.2)      # fnum = 10.2\n",
    "msg = str('Good')       # msg = 'Good'\n",
    "isOk = bool(False)      # isOk = False\n",
    "\n",
    "print(num ,fnum, msg, isOk)"
   ]
  },
  {
   "cell_type": "code",
   "execution_count": 19,
   "metadata": {},
   "outputs": [
    {
     "name": "stdout",
     "output_type": "stream",
     "text": [
      "[1, 2, 3, 4] (3, 6, 9) {'d1': 10, 'd2': 30} {1, 3, 5}\n"
     ]
    }
   ],
   "source": [
    "# 컬렉션 데이터 타입\n",
    "lnums = list([1, 2, 3, 4])        # lnums = [1, 2, 3, 4]\n",
    "tnums = tuple((3, 6, 9))          # tnums = (3, 6, 9)\n",
    "ds = dict({'d1' : 10, 'd2' : 30}) # ds = {'d1' : 10, 'd2' : 30}\n",
    "ss = set({1, 1, 3, 3, 5})         # ss = {1, 1, 3, 3, 5}\n",
    "\n",
    "print(lnums, tnums, ds, ss)"
   ]
  },
  {
   "cell_type": "markdown",
   "metadata": {},
   "source": [
    "##### 타입 변경 => 형변환\n",
    "dict 자료형은 다른 자료형과 달리 데이터 형태가 다름\n",
    " - 데이터 형태 => 키 : 값\n",
    " - dict(키1 = 값1, 키2 = 값2, ...) : key는 str만 가능, ''나 \"\"사용 불가"
   ]
  },
  {
   "cell_type": "code",
   "execution_count": 20,
   "metadata": {},
   "outputs": [
    {
     "ename": "TypeError",
     "evalue": "cannot convert dictionary update sequence element #0 to a sequence",
     "output_type": "error",
     "traceback": [
      "\u001b[0;31m---------------------------------------------------------------------------\u001b[0m",
      "\u001b[0;31mTypeError\u001b[0m                                 Traceback (most recent call last)",
      "Cell \u001b[0;32mIn[20], line 1\u001b[0m\n\u001b[0;32m----> 1\u001b[0m ds \u001b[38;5;241m=\u001b[39m \u001b[38;5;28;43mdict\u001b[39;49m\u001b[43m(\u001b[49m\u001b[43m[\u001b[49m\u001b[38;5;241;43m1\u001b[39;49m\u001b[43m,\u001b[49m\u001b[43m \u001b[49m\u001b[38;5;241;43m2\u001b[39;49m\u001b[43m,\u001b[49m\u001b[43m \u001b[49m\u001b[38;5;241;43m3\u001b[39;49m\u001b[43m]\u001b[49m\u001b[43m)\u001b[49m\n\u001b[1;32m      2\u001b[0m \u001b[38;5;28mprint\u001b[39m(ds)\n",
      "\u001b[0;31mTypeError\u001b[0m: cannot convert dictionary update sequence element #0 to a sequence"
     ]
    }
   ],
   "source": [
    "ds = dict([1, 2, 3])\n",
    "print(ds) # 무엇을 키로 하고 값으로 할지 모르기 때문에 에러"
   ]
  },
  {
   "cell_type": "code",
   "execution_count": 23,
   "metadata": {},
   "outputs": [
    {
     "name": "stdout",
     "output_type": "stream",
     "text": [
      "{'name': 1, 'age': 2, 'gender': '남'}\n"
     ]
    }
   ],
   "source": [
    "ds = dict(name = 1, age = 2, gender = '남')\n",
    "\n",
    "print(ds)"
   ]
  },
  {
   "cell_type": "code",
   "execution_count": 24,
   "metadata": {},
   "outputs": [
    {
     "name": "stdout",
     "output_type": "stream",
     "text": [
      "{'name': '마징가', 'age': 12}\n"
     ]
    }
   ],
   "source": [
    "ds = dict([('name', '마징가'), ('age', 12)])\n",
    "print(ds)"
   ]
  },
  {
   "cell_type": "code",
   "execution_count": 25,
   "metadata": {},
   "outputs": [
    {
     "name": "stdout",
     "output_type": "stream",
     "text": [
      "{'name': '마징가', 'age': 12}\n"
     ]
    }
   ],
   "source": [
    "ds = dict([['name', '마징가'], ['age', 12]])\n",
    "print(ds)"
   ]
  },
  {
   "cell_type": "markdown",
   "metadata": {},
   "source": [
    "내장함수 zip() : 같은 인덱스의 요소끼리 묶어줌"
   ]
  },
  {
   "cell_type": "code",
   "execution_count": 31,
   "metadata": {},
   "outputs": [
    {
     "name": "stdout",
     "output_type": "stream",
     "text": [
      "[('name', '마징가', False), ('age', 12, True), ('gender', '남', True)]\n"
     ]
    }
   ],
   "source": [
    "l1 = ['name', 'age', 'gender']\n",
    "l2 = ['마징가', 12, '남']\n",
    "l3 = [False, True, True]\n",
    "print(list(zip(l1, l2, l3)))"
   ]
  },
  {
   "cell_type": "code",
   "execution_count": 32,
   "metadata": {},
   "outputs": [
    {
     "name": "stdout",
     "output_type": "stream",
     "text": [
      "{'name': '마징가', 'age': 12, 'gender': '남'}\n"
     ]
    }
   ],
   "source": [
    "ds = dict(zip(l1, l2))\n",
    "print(ds)"
   ]
  },
  {
   "cell_type": "code",
   "execution_count": null,
   "metadata": {},
   "outputs": [],
   "source": []
  }
 ],
 "metadata": {
  "kernelspec": {
   "display_name": "Python 3",
   "language": "python",
   "name": "python3"
  },
  "language_info": {
   "codemirror_mode": {
    "name": "ipython",
    "version": 3
   },
   "file_extension": ".py",
   "mimetype": "text/x-python",
   "name": "python",
   "nbconvert_exporter": "python",
   "pygments_lexer": "ipython3",
   "version": "3.12.2"
  }
 },
 "nbformat": 4,
 "nbformat_minor": 2
}
