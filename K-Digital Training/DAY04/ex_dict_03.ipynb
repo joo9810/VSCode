{
 "cells": [
  {
   "cell_type": "markdown",
   "metadata": {},
   "source": [
    "##### Dict 자료형 살펴보기\n",
    " - Dict 자료형 전용의 함수 즉, 메서드(Method) 사용\n",
    " - 사용법 : 변수명.메서드명()\n",
    "\n",
    " [Dict 에서 키만 추출하는 메서드 keys()] ----------"
   ]
  },
  {
   "cell_type": "code",
   "execution_count": 3,
   "metadata": {},
   "outputs": [
    {
     "name": "stdout",
     "output_type": "stream",
     "text": [
      "키 추출 : dict_keys(['name', 'age', 'job']), <class 'dict_keys'>\n"
     ]
    }
   ],
   "source": [
    "p1 = {'name' : '홍길동', 'age' : 20, 'job' : '학생'}\n",
    "\n",
    "result = p1.keys() # 메서드\n",
    "# keys()만 쓰면 없음\n",
    "\n",
    "print(f'키 추출 : {result}, {type(result)}')\n",
    "# ERROR : print(result[0])\n",
    "# keys()는 따로 리스트 형태로 저장되지 않음"
   ]
  },
  {
   "cell_type": "code",
   "execution_count": 6,
   "metadata": {},
   "outputs": [
    {
     "data": {
      "text/plain": [
       "'name'"
      ]
     },
     "execution_count": 6,
     "metadata": {},
     "output_type": "execute_result"
    }
   ],
   "source": [
    "# list 형변환 => list(dict_keys 타입)\n",
    "result = list(result)\n",
    "\n",
    "print(result[0]) # 인덱스로 키를 추출 가능하게 됨"
   ]
  },
  {
   "cell_type": "markdown",
   "metadata": {},
   "source": [
    " [Dict 에서 값/데이터만 추출하는 메서드 values()] ----------"
   ]
  },
  {
   "cell_type": "code",
   "execution_count": 17,
   "metadata": {},
   "outputs": [
    {
     "name": "stdout",
     "output_type": "stream",
     "text": [
      "값 추출 : dict_values(['홍길동', 20, '학생']), <class 'dict_values'>\n"
     ]
    }
   ],
   "source": [
    "result = p1.values()\n",
    "print(f'값 추출 : {result}, {type(result)}')"
   ]
  },
  {
   "cell_type": "code",
   "execution_count": 18,
   "metadata": {},
   "outputs": [
    {
     "name": "stdout",
     "output_type": "stream",
     "text": [
      "홍길동\n"
     ]
    }
   ],
   "source": [
    "result = list(result)\n",
    "print(result[0])"
   ]
  },
  {
   "cell_type": "markdown",
   "metadata": {},
   "source": [
    " [Dict 에서 키/값 묶어서 추출하는 메서드 items()] ----------"
   ]
  },
  {
   "cell_type": "code",
   "execution_count": 15,
   "metadata": {},
   "outputs": [
    {
     "name": "stdout",
     "output_type": "stream",
     "text": [
      "키/값 묶음 추출 : dict_items([('name', '홍길동'), ('age', 20), ('job', '학생')]), <class 'dict_items'>\n"
     ]
    }
   ],
   "source": [
    "result = p1.items()\n",
    "print(f'키/값 묶음 추출 : {result}, {type(result)}')"
   ]
  },
  {
   "cell_type": "code",
   "execution_count": 16,
   "metadata": {},
   "outputs": [
    {
     "name": "stdout",
     "output_type": "stream",
     "text": [
      "{('name', '홍길동')} {<class 'tuple'>}\n"
     ]
    }
   ],
   "source": [
    "result = list(result)\n",
    "print({result[0]}, {type(result[0])})"
   ]
  },
  {
   "cell_type": "code",
   "execution_count": null,
   "metadata": {},
   "outputs": [],
   "source": []
  }
 ],
 "metadata": {
  "kernelspec": {
   "display_name": "Python 3",
   "language": "python",
   "name": "python3"
  },
  "language_info": {
   "codemirror_mode": {
    "name": "ipython",
    "version": 3
   },
   "file_extension": ".py",
   "mimetype": "text/x-python",
   "name": "python",
   "nbconvert_exporter": "python",
   "pygments_lexer": "ipython3",
   "version": "3.12.2"
  }
 },
 "nbformat": 4,
 "nbformat_minor": 2
}
