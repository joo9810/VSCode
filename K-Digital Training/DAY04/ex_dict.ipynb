{
 "cells": [
  {
   "cell_type": "markdown",
   "metadata": {},
   "source": [
    "# ex_dict_01"
   ]
  },
  {
   "cell_type": "markdown",
   "metadata": {},
   "source": [
    "##### Dict 자료형 살펴보기\n",
    " - 데이터의 의미를 함께 저장하는 자료형\n",
    " - 형태 : { 키1 : 값1, 키2 : 값2, ..., 키n, 값n }\n",
    " - 키는 중복 X, 값은 중복 O\n",
    " - 데이터 분석 시 파일 데이터 가져올 때 많이 사용\n",
    "\n",
    " [Dict 생성] --------------------------------------"
   ]
  },
  {
   "cell_type": "code",
   "execution_count": 1,
   "metadata": {},
   "outputs": [
    {
     "name": "stdout",
     "output_type": "stream",
     "text": [
      "data => 0개, <class 'dict'>, {}\n"
     ]
    }
   ],
   "source": [
    "data = {}\n",
    "print(f'data => {len(data)}개, {type(data)}, {data}')"
   ]
  },
  {
   "cell_type": "code",
   "execution_count": 2,
   "metadata": {},
   "outputs": [
    {
     "name": "stdout",
     "output_type": "stream",
     "text": [
      "data => 3개, <class 'dict'>, {'name': '마징가', 'age': 100, 'gender': '남'}\n"
     ]
    }
   ],
   "source": [
    "data = {'name' : '마징가', 'age' : 100, 'gender' : '남'}\n",
    "print(f'data => {len(data)}개, {type(data)}, {data}')"
   ]
  },
  {
   "cell_type": "code",
   "execution_count": 20,
   "metadata": {},
   "outputs": [
    {
     "name": "stdout",
     "output_type": "stream",
     "text": [
      "data => 4개, <class 'dict'>, {'age': 5, 'color': '하얀색', 'weight': 3, 'kind': '포메라니안'}\n"
     ]
    }
   ],
   "source": [
    "data = {'age' : 5, 'color' : '하얀색', 'weight' : 3, 'kind' : '포메라니안'}\n",
    "print(f'data => {len(data)}개, {type(data)}, {data}')"
   ]
  },
  {
   "cell_type": "markdown",
   "metadata": {},
   "source": [
    "[Dict 원소/요소 읽기] ------------------------------\n",
    "- 키를 가지고 값/데이터 읽기\n",
    "- 형식 : 변수명[키]"
   ]
  },
  {
   "cell_type": "code",
   "execution_count": 21,
   "metadata": {},
   "outputs": [
    {
     "name": "stdout",
     "output_type": "stream",
     "text": [
      "하얀색\n",
      "강아지 성별 : 남, 품종 : 포메라니안\n"
     ]
    }
   ],
   "source": [
    "data = {'age' : 5, 'color' : '하얀색', 'weight' : 3, 'kind' : '포메라니안', 'gender' : '남'}\n",
    "\n",
    "# 색상 출력\n",
    "print(f'{data[\"color\"]}')\n",
    "\n",
    "# 성별, 품종 출력\n",
    "print(f'강아지 성별 : {data[\"gender\"]}, 품종 : {data[\"kind\"]}')"
   ]
  },
  {
   "cell_type": "markdown",
   "metadata": {},
   "source": [
    "[Dict 원소/요소 변경] -------------------------\n",
    " - 수정 : 변수명[키] = 새로운 값"
   ]
  },
  {
   "cell_type": "code",
   "execution_count": 22,
   "metadata": {},
   "outputs": [
    {
     "name": "stdout",
     "output_type": "stream",
     "text": [
      "{'age': 6, 'color': '하얀색', 'weight': 3, 'kind': '포메라니안', 'gender': '남'}\n"
     ]
    }
   ],
   "source": [
    "# 나이 5살 ==> 6살\n",
    "data[\"age\"] = 6\n",
    "print(data)"
   ]
  },
  {
   "cell_type": "code",
   "execution_count": 23,
   "metadata": {},
   "outputs": [
    {
     "name": "stdout",
     "output_type": "stream",
     "text": [
      "{'age': 6, 'color': '하얀색', 'weight': '8kg', 'kind': '포메라니안', 'gender': '남'}\n"
     ]
    }
   ],
   "source": [
    "# 몸무게 3kg ==> 8kg\n",
    "data[\"weight\"] = '8kg'\n",
    "print(data)"
   ]
  },
  {
   "cell_type": "markdown",
   "metadata": {},
   "source": [
    " - 삭제 : del 변수명[키] 또는 del(변수명[키])"
   ]
  },
  {
   "cell_type": "code",
   "execution_count": 24,
   "metadata": {},
   "outputs": [
    {
     "name": "stdout",
     "output_type": "stream",
     "text": [
      "{'age': 6, 'color': '하얀색', 'weight': '8kg', 'kind': '포메라니안'}\n"
     ]
    }
   ],
   "source": [
    "# 성별 데이터 삭제\n",
    "del data[\"gender\"]\n",
    "print(data)"
   ]
  },
  {
   "cell_type": "markdown",
   "metadata": {},
   "source": [
    " - 추가 : 변수명[새로운 키] = 값"
   ]
  },
  {
   "cell_type": "code",
   "execution_count": 26,
   "metadata": {},
   "outputs": [
    {
     "name": "stdout",
     "output_type": "stream",
     "text": [
      "{'age': 6, 'color': '하얀색', 'weight': '8kg', 'kind': '포메라니안', 'name': '뽀삐'}\n"
     ]
    }
   ],
   "source": [
    "# 이름 추가\n",
    "data[\"name\"] = '뽀삐'\n",
    "print(data)"
   ]
  },
  {
   "cell_type": "markdown",
   "metadata": {},
   "source": [
    "# ex_dict_02"
   ]
  },
  {
   "cell_type": "markdown",
   "metadata": {},
   "source": [
    "##### Dict 자료형 살펴보기\n",
    " - 여러가지 데이터를 dict 타입으로 저장\n",
    "\n",
    " [다양한 종류의 키] --------------------------------------\n",
    "  - 키가 여러개 정보 합쳐서 사용하는 경우\n",
    "  - 예) 홍길동1, 홍길동2"
   ]
  },
  {
   "cell_type": "code",
   "execution_count": null,
   "metadata": {},
   "outputs": [],
   "source": [
    "person = {'age' : 20, ('홍길동', 2000) : 100}\n",
    "# Key는 변경이 가능하면 안되기 때문에 아래와 같이 못쓴다\n",
    "# person = {'age' : 20, ['홍길동', 2000] : 100}"
   ]
  },
  {
   "cell_type": "code",
   "execution_count": null,
   "metadata": {},
   "outputs": [
    {
     "data": {
      "text/plain": [
       "'홍길동'"
      ]
     },
     "metadata": {},
     "output_type": "display_data"
    }
   ],
   "source": [
    "# 4명의 정보를 저장 (리스트로 담는 경우)\n",
    "p1 = {'name' : '홍길동', 'age' : 20,  'job' : '학생'}\n",
    "p2 = {'name' : '마징가', 'age' : 100, 'job' : '영웅'}\n",
    "p3 = {'name' : '베트맨', 'age' : 98,  'job' : '박쥐'}\n",
    "p4 = {'name' : '홍길동', 'age' : 11,  'job' : '학생'}\n",
    "\n",
    "persons = [p1, p2, p3, p4]\n",
    "persons[0]['name']"
   ]
  },
  {
   "cell_type": "code",
   "execution_count": null,
   "metadata": {},
   "outputs": [
    {
     "data": {
      "text/plain": [
       "'홍길동'"
      ]
     },
     "metadata": {},
     "output_type": "display_data"
    }
   ],
   "source": [
    "# 4명의 정보를 저장 (딕셔너리로 담는 경우) : Key로 나이를 사용\n",
    "persons2 = {20  : {'name' : '홍길동',  'job' : '학생'},\n",
    "            100 : {'name' : '마징가', 'job' : '영웅'},\n",
    "            98  : {'name' : '베트맨', 'job' : '박쥐'},\n",
    "            11  : {'name' : '홍길동', 'job' : '학생'}}\n",
    "# Key가 중복되면 안되기 때문에 나이를 Key로 설정\n",
    "\n",
    "persons2[11]['name']"
   ]
  },
  {
   "cell_type": "code",
   "execution_count": null,
   "metadata": {},
   "outputs": [
    {
     "name": "stdout",
     "output_type": "stream",
     "text": [
      "{'job': '학생'}\n",
      "{'job': '영웅'}\n"
     ]
    }
   ],
   "source": [
    "# 4명의 정보를 저장 (딕셔너리로 담는 경우) : Key로 이름 + 나이를 사용\n",
    "persons3 = { ('홍길동', 20)  : {'job' : '학생'},\n",
    "             ('마징가', 100) : {'job' : '영웅'},\n",
    "             ('베트맨', 98)  : {'job' : '박쥐'},\n",
    "             ('홍길동', 11)  : {'job' : '학생'}}\n",
    "# Key가 중복되면 안되기 때문에 나이를 Key로 설정\n",
    "\n",
    "print(persons3[('홍길동', 20)])\n",
    "print(persons3[('마징가', 100)])\n",
    "# 키가 2개의 원소로 이루어져 있기 때문에 같이 써야한다"
   ]
  },
  {
   "cell_type": "markdown",
   "metadata": {},
   "source": [
    "# ex_dict_03"
   ]
  },
  {
   "cell_type": "markdown",
   "metadata": {},
   "source": [
    "##### Dict 자료형 살펴보기\n",
    " - Dict 자료형 전용의 함수 즉, 메서드(Method) 사용\n",
    " - 사용법 : 변수명.메서드명()\n",
    "\n",
    " [Dict 에서 키만 추출하는 메서드 keys()] ----------"
   ]
  },
  {
   "cell_type": "code",
   "execution_count": null,
   "metadata": {},
   "outputs": [
    {
     "name": "stdout",
     "output_type": "stream",
     "text": [
      "키 추출 : dict_keys(['name', 'age', 'job']), <class 'dict_keys'>\n"
     ]
    }
   ],
   "source": [
    "p1 = {'name' : '홍길동', 'age' : 20, 'job' : '학생'}\n",
    "\n",
    "result = p1.keys() # 메서드\n",
    "# keys()만 쓰면 없음\n",
    "\n",
    "print(f'키 추출 : {result}, {type(result)}')\n",
    "# ERROR : print(result[0])\n",
    "# keys()는 따로 리스트 형태로 저장되지 않음"
   ]
  },
  {
   "cell_type": "code",
   "execution_count": null,
   "metadata": {},
   "outputs": [
    {
     "data": {
      "text/plain": [
       "'name'"
      ]
     },
     "metadata": {},
     "output_type": "display_data"
    }
   ],
   "source": [
    "# list 형변환 => list(dict_keys 타입)\n",
    "result = list(result)\n",
    "\n",
    "print(result[0]) # 인덱스로 키를 추출 가능하게 됨"
   ]
  },
  {
   "cell_type": "markdown",
   "metadata": {},
   "source": [
    " [Dict 에서 값/데이터만 추출하는 메서드 values()] ----------"
   ]
  },
  {
   "cell_type": "code",
   "execution_count": null,
   "metadata": {},
   "outputs": [
    {
     "name": "stdout",
     "output_type": "stream",
     "text": [
      "값 추출 : dict_values(['홍길동', 20, '학생']), <class 'dict_values'>\n"
     ]
    }
   ],
   "source": [
    "result = p1.values()\n",
    "print(f'값 추출 : {result}, {type(result)}')"
   ]
  },
  {
   "cell_type": "code",
   "execution_count": null,
   "metadata": {},
   "outputs": [
    {
     "name": "stdout",
     "output_type": "stream",
     "text": [
      "홍길동\n"
     ]
    }
   ],
   "source": [
    "result = list(result)\n",
    "print(result[0])"
   ]
  },
  {
   "cell_type": "markdown",
   "metadata": {},
   "source": [
    " [Dict 에서 키/값 묶어서 추출하는 메서드 items()] ----------"
   ]
  },
  {
   "cell_type": "code",
   "execution_count": null,
   "metadata": {},
   "outputs": [
    {
     "name": "stdout",
     "output_type": "stream",
     "text": [
      "키/값 묶음 추출 : dict_items([('name', '홍길동'), ('age', 20), ('job', '학생')]), <class 'dict_items'>\n"
     ]
    }
   ],
   "source": [
    "result = p1.items()\n",
    "print(f'키/값 묶음 추출 : {result}, {type(result)}')"
   ]
  },
  {
   "cell_type": "code",
   "execution_count": null,
   "metadata": {},
   "outputs": [
    {
     "name": "stdout",
     "output_type": "stream",
     "text": [
      "{('name', '홍길동')} {<class 'tuple'>}\n"
     ]
    }
   ],
   "source": [
    "result = list(result)\n",
    "print({result[0]}, {type(result[0])})"
   ]
  },
  {
   "cell_type": "markdown",
   "metadata": {},
   "source": [
    "# ex_dict_04"
   ]
  },
  {
   "cell_type": "markdown",
   "metadata": {},
   "source": [
    "##### Dict 자료형 살펴보기\n",
    " - 연산자와 내장함수"
   ]
  },
  {
   "cell_type": "code",
   "execution_count": null,
   "metadata": {},
   "outputs": [],
   "source": [
    "person = {'name' : '홍길동', 'age' : 20, 'job' : '학생'}\n",
    "dog = {'age' : 5, 'kind' : '허스키', 'weight' : '3kg', 'color' : '검정', 'gender' : '남'}"
   ]
  },
  {
   "cell_type": "markdown",
   "metadata": {},
   "source": [
    "[연산자]"
   ]
  },
  {
   "cell_type": "code",
   "execution_count": null,
   "metadata": {},
   "outputs": [
    {
     "ename": "TypeError",
     "evalue": "unsupported operand type(s) for +: 'dict' and 'dict'",
     "output_type": "error",
     "traceback": [
      "\u001b[0;31m---------------------------------------------------------------------------\u001b[0m\n",
      "\u001b[0;31mTypeError\u001b[0m                                 Traceback (most recent call last)\n",
      "Cell \u001b[0;32mIn[6], line 2\u001b[0m\n",
      "\u001b[1;32m      1\u001b[0m \u001b[38;5;66;03m# 산술 연산은 안됨\u001b[39;00m\n",
      "\u001b[0;32m----> 2\u001b[0m \u001b[43mperson\u001b[49m\u001b[43m \u001b[49m\u001b[38;5;241;43m+\u001b[39;49m\u001b[43m \u001b[49m\u001b[43mdog\u001b[49m\n",
      "\n",
      "\u001b[0;31mTypeError\u001b[0m: unsupported operand type(s) for +: 'dict' and 'dict'"
     ]
    }
   ],
   "source": [
    "# 산술 연산은 안됨\n",
    "person + dog"
   ]
  },
  {
   "cell_type": "code",
   "execution_count": null,
   "metadata": {},
   "outputs": [
    {
     "name": "stdout",
     "output_type": "stream",
     "text": [
      "False\n"
     ]
    }
   ],
   "source": [
    "# 멤버 연산자 : in, not in\n",
    "# key\n",
    "print('name' in dog)"
   ]
  },
  {
   "cell_type": "code",
   "execution_count": null,
   "metadata": {},
   "outputs": [
    {
     "name": "stdout",
     "output_type": "stream",
     "text": [
      "False\n",
      "False\n"
     ]
    }
   ],
   "source": [
    "# value : dict 타입에서는 key만 멤버 연산자로 확인\n",
    "print('허스키' in dog)\n",
    "print(20 in person)\n",
    "# value라 모두 False"
   ]
  },
  {
   "cell_type": "code",
   "execution_count": null,
   "metadata": {},
   "outputs": [
    {
     "name": "stdout",
     "output_type": "stream",
     "text": [
      "True\n",
      "True\n"
     ]
    }
   ],
   "source": [
    "# value 추출\n",
    "print('허스키' in dog.values())\n",
    "print(20 in person.values())\n",
    "# value가 있는지 볼려면 values()로 추출해서 보면 됨"
   ]
  },
  {
   "cell_type": "markdown",
   "metadata": {},
   "source": [
    "[내장함수]"
   ]
  },
  {
   "cell_type": "code",
   "execution_count": null,
   "metadata": {},
   "outputs": [
    {
     "name": "stdout",
     "output_type": "stream",
     "text": [
      "dog의 요소 개수 : 5개\n",
      "person의 요소 개수 : 3개\n"
     ]
    }
   ],
   "source": [
    "# 원소/요소 개수 확인 : len()\n",
    "print(f'dog의 요소 개수 : {len(dog)}개')\n",
    "print(f'person의 요소 개수 : {len(person)}개')"
   ]
  },
  {
   "cell_type": "code",
   "execution_count": null,
   "metadata": {},
   "outputs": [
    {
     "name": "stdout",
     "output_type": "stream",
     "text": [
      "dog 오름차순 정렬 : ['age', 'color', 'gender', 'kind', 'weight']\n",
      "dog 내림차순 정렬 : ['weight', 'kind', 'gender', 'color', 'age']\n",
      "jumsu 오름차순 정렬 : ['국어', '수학', '체육']\n"
     ]
    }
   ],
   "source": [
    "# 원소/요소 정렬 : sorted()\n",
    "print(f'dog 오름차순 정렬 : {sorted(dog)}')\n",
    "print(f'dog 내림차순 정렬 : {sorted(dog, reverse = True)}')\n",
    "# key만 정렬 됨"
   ]
  },
  {
   "cell_type": "code",
   "execution_count": null,
   "metadata": {},
   "outputs": [
    {
     "ename": "TypeError",
     "evalue": "'<' not supported between instances of 'str' and 'int'",
     "output_type": "error",
     "traceback": [
      "\u001b[0;31m---------------------------------------------------------------------------\u001b[0m\n",
      "\u001b[0;31mTypeError\u001b[0m                                 Traceback (most recent call last)\n",
      "Cell \u001b[0;32mIn[11], line 1\u001b[0m\n",
      "\u001b[0;32m----> 1\u001b[0m \u001b[38;5;28mprint\u001b[39m(\u001b[38;5;124mf\u001b[39m\u001b[38;5;124m'\u001b[39m\u001b[38;5;124mdog 오름차순 정렬 : \u001b[39m\u001b[38;5;132;01m{\u001b[39;00m\u001b[38;5;28;43msorted\u001b[39;49m\u001b[43m(\u001b[49m\u001b[43mdog\u001b[49m\u001b[38;5;241;43m.\u001b[39;49m\u001b[43mvalues\u001b[49m\u001b[43m(\u001b[49m\u001b[43m)\u001b[49m\u001b[43m)\u001b[49m\u001b[38;5;132;01m}\u001b[39;00m\u001b[38;5;124m'\u001b[39m)\n",
      "\n",
      "\u001b[0;31mTypeError\u001b[0m: '<' not supported between instances of 'str' and 'int'"
     ]
    }
   ],
   "source": [
    "print(f'dog의 값 정렬 : {sorted(dog.values())}')\n",
    "# value는 타입이 모두 다르기 때문에 정렬을 못함\n",
    "# 타입이 모두 같으면 정렬 가능"
   ]
  },
  {
   "cell_type": "markdown",
   "metadata": {},
   "source": [
    " - 동일한 타입에서 정렬 가능함"
   ]
  },
  {
   "cell_type": "code",
   "execution_count": null,
   "metadata": {},
   "outputs": [],
   "source": [
    "n1 = [1, 4, 9, -2]\n",
    "n2 = ['a', 'Z', 'f']\n",
    "n3 = [1, 'A', -4, 9, 'F'] # 이건 정렬 안됨"
   ]
  },
  {
   "cell_type": "markdown",
   "metadata": {},
   "source": [
    " - 값(점수)를 기준으로 정렬하기"
   ]
  },
  {
   "cell_type": "code",
   "execution_count": null,
   "metadata": {},
   "outputs": [
    {
     "name": "stdout",
     "output_type": "stream",
     "text": [
      "jumsu 키 오름차순 정렬 : ['국어', '수학', '체육']\n",
      "jumsu 값 오름차순 정렬 : [90, 100, 178]\n"
     ]
    }
   ],
   "source": [
    "jumsu = {'국어' : 90, '수학' : 178, '체육' : 100}\n",
    "\n",
    "print(f'jumsu 키 오름차순 정렬 : {sorted(jumsu)}')\n",
    "print(f'jumsu 값 오름차순 정렬 : {sorted(jumsu.values())}')\n",
    "# 이렇게 하면 키랑 값이 매칭이 안됨"
   ]
  },
  {
   "cell_type": "code",
   "execution_count": null,
   "metadata": {},
   "outputs": [
    {
     "name": "stdout",
     "output_type": "stream",
     "text": [
      "[('국어', 90), ('수학', 178), ('체육', 100)]\n"
     ]
    }
   ],
   "source": [
    "print(sorted(jumsu.items()))\n",
    "# 이렇게 하면 키를 기준으로 정렬 됨"
   ]
  },
  {
   "cell_type": "code",
   "execution_count": null,
   "metadata": {},
   "outputs": [
    {
     "name": "stdout",
     "output_type": "stream",
     "text": [
      "[('국어', 90), ('체육', 100), ('수학', 178)]\n"
     ]
    }
   ],
   "source": [
    "print(sorted(jumsu.items(), key = lambda x:x[1]))\n",
    "# items의 각각 요소들의 1번째 인덱스를 기준으로 정렬"
   ]
  }
 ],
 "metadata": {
  "kernelspec": {
   "display_name": "Python 3",
   "language": "python",
   "name": "python3"
  },
  "language_info": {
   "codemirror_mode": {
    "name": "ipython",
    "version": 3
   },
   "file_extension": ".py",
   "mimetype": "text/x-python",
   "name": "python",
   "nbconvert_exporter": "python",
   "pygments_lexer": "ipython3",
   "version": "3.12.2"
  }
 },
 "nbformat": 4,
 "nbformat_minor": 2
}
