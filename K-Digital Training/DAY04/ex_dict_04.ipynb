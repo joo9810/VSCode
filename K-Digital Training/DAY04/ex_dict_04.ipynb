{
 "cells": [
  {
   "cell_type": "markdown",
   "metadata": {},
   "source": [
    "##### Dict 자료형 살펴보기\n",
    " - 연산자와 내장함수"
   ]
  },
  {
   "cell_type": "code",
   "execution_count": 15,
   "metadata": {},
   "outputs": [],
   "source": [
    "person = {'name' : '홍길동', 'age' : 20, 'job' : '학생'}\n",
    "dog = {'age' : 5, 'kind' : '허스키', 'weight' : '3kg', 'color' : '검정', 'gender' : '남'}"
   ]
  },
  {
   "cell_type": "markdown",
   "metadata": {},
   "source": [
    "[연산자]"
   ]
  },
  {
   "cell_type": "code",
   "execution_count": 6,
   "metadata": {},
   "outputs": [
    {
     "ename": "TypeError",
     "evalue": "unsupported operand type(s) for +: 'dict' and 'dict'",
     "output_type": "error",
     "traceback": [
      "\u001b[0;31m---------------------------------------------------------------------------\u001b[0m",
      "\u001b[0;31mTypeError\u001b[0m                                 Traceback (most recent call last)",
      "Cell \u001b[0;32mIn[6], line 2\u001b[0m\n\u001b[1;32m      1\u001b[0m \u001b[38;5;66;03m# 산술 연산은 안됨\u001b[39;00m\n\u001b[0;32m----> 2\u001b[0m \u001b[43mperson\u001b[49m\u001b[43m \u001b[49m\u001b[38;5;241;43m+\u001b[39;49m\u001b[43m \u001b[49m\u001b[43mdog\u001b[49m\n",
      "\u001b[0;31mTypeError\u001b[0m: unsupported operand type(s) for +: 'dict' and 'dict'"
     ]
    }
   ],
   "source": [
    "# 산술 연산은 안됨\n",
    "person + dog"
   ]
  },
  {
   "cell_type": "code",
   "execution_count": 2,
   "metadata": {},
   "outputs": [
    {
     "name": "stdout",
     "output_type": "stream",
     "text": [
      "False\n"
     ]
    }
   ],
   "source": [
    "# 멤버 연산자 : in, not in\n",
    "# key\n",
    "print('name' in dog)"
   ]
  },
  {
   "cell_type": "code",
   "execution_count": 3,
   "metadata": {},
   "outputs": [
    {
     "name": "stdout",
     "output_type": "stream",
     "text": [
      "False\n",
      "False\n"
     ]
    }
   ],
   "source": [
    "# value : dict 타입에서는 key만 멤버 연산자로 확인\n",
    "print('허스키' in dog)\n",
    "print(20 in person)\n",
    "# value라 모두 False"
   ]
  },
  {
   "cell_type": "code",
   "execution_count": 5,
   "metadata": {},
   "outputs": [
    {
     "name": "stdout",
     "output_type": "stream",
     "text": [
      "True\n",
      "True\n"
     ]
    }
   ],
   "source": [
    "# value 추출\n",
    "print('허스키' in dog.values())\n",
    "print(20 in person.values())\n",
    "# value가 있는지 볼려면 values()로 추출해서 보면 됨"
   ]
  },
  {
   "cell_type": "markdown",
   "metadata": {},
   "source": [
    "[내장함수]"
   ]
  },
  {
   "cell_type": "code",
   "execution_count": 7,
   "metadata": {},
   "outputs": [
    {
     "name": "stdout",
     "output_type": "stream",
     "text": [
      "dog의 요소 개수 : 5개\n",
      "person의 요소 개수 : 3개\n"
     ]
    }
   ],
   "source": [
    "# 원소/요소 개수 확인 : len()\n",
    "print(f'dog의 요소 개수 : {len(dog)}개')\n",
    "print(f'person의 요소 개수 : {len(person)}개')"
   ]
  },
  {
   "cell_type": "code",
   "execution_count": 13,
   "metadata": {},
   "outputs": [
    {
     "name": "stdout",
     "output_type": "stream",
     "text": [
      "dog 오름차순 정렬 : ['age', 'color', 'gender', 'kind', 'weight']\n",
      "dog 내림차순 정렬 : ['weight', 'kind', 'gender', 'color', 'age']\n",
      "jumsu 오름차순 정렬 : ['국어', '수학', '체육']\n"
     ]
    }
   ],
   "source": [
    "# 원소/요소 정렬 : sorted()\n",
    "print(f'dog 오름차순 정렬 : {sorted(dog)}')\n",
    "print(f'dog 내림차순 정렬 : {sorted(dog, reverse = True)}')\n",
    "# key만 정렬 됨"
   ]
  },
  {
   "cell_type": "code",
   "execution_count": 11,
   "metadata": {},
   "outputs": [
    {
     "ename": "TypeError",
     "evalue": "'<' not supported between instances of 'str' and 'int'",
     "output_type": "error",
     "traceback": [
      "\u001b[0;31m---------------------------------------------------------------------------\u001b[0m",
      "\u001b[0;31mTypeError\u001b[0m                                 Traceback (most recent call last)",
      "Cell \u001b[0;32mIn[11], line 1\u001b[0m\n\u001b[0;32m----> 1\u001b[0m \u001b[38;5;28mprint\u001b[39m(\u001b[38;5;124mf\u001b[39m\u001b[38;5;124m'\u001b[39m\u001b[38;5;124mdog 오름차순 정렬 : \u001b[39m\u001b[38;5;132;01m{\u001b[39;00m\u001b[38;5;28;43msorted\u001b[39;49m\u001b[43m(\u001b[49m\u001b[43mdog\u001b[49m\u001b[38;5;241;43m.\u001b[39;49m\u001b[43mvalues\u001b[49m\u001b[43m(\u001b[49m\u001b[43m)\u001b[49m\u001b[43m)\u001b[49m\u001b[38;5;132;01m}\u001b[39;00m\u001b[38;5;124m'\u001b[39m)\n",
      "\u001b[0;31mTypeError\u001b[0m: '<' not supported between instances of 'str' and 'int'"
     ]
    }
   ],
   "source": [
    "print(f'dog의 값 정렬 : {sorted(dog.values())}')\n",
    "# value는 타입이 모두 다르기 때문에 정렬을 못함\n",
    "# 타입이 모두 같으면 정렬 가능"
   ]
  },
  {
   "cell_type": "markdown",
   "metadata": {},
   "source": [
    " - 동일한 타입에서 정렬 가능함"
   ]
  },
  {
   "cell_type": "code",
   "execution_count": null,
   "metadata": {},
   "outputs": [],
   "source": [
    "n1 = [1, 4, 9, -2]\n",
    "n2 = ['a', 'Z', 'f']\n",
    "n3 = [1, 'A', -4, 9, 'F'] # 이건 정렬 안됨"
   ]
  },
  {
   "cell_type": "markdown",
   "metadata": {},
   "source": [
    " - 값(점수)를 기준으로 정렬하기"
   ]
  },
  {
   "cell_type": "code",
   "execution_count": 14,
   "metadata": {},
   "outputs": [
    {
     "name": "stdout",
     "output_type": "stream",
     "text": [
      "jumsu 키 오름차순 정렬 : ['국어', '수학', '체육']\n",
      "jumsu 값 오름차순 정렬 : [90, 100, 178]\n"
     ]
    }
   ],
   "source": [
    "jumsu = {'국어' : 90, '수학' : 178, '체육' : 100}\n",
    "\n",
    "print(f'jumsu 키 오름차순 정렬 : {sorted(jumsu)}')\n",
    "print(f'jumsu 값 오름차순 정렬 : {sorted(jumsu.values())}')\n",
    "# 이렇게 하면 키랑 값이 매칭이 안됨"
   ]
  },
  {
   "cell_type": "code",
   "execution_count": 17,
   "metadata": {},
   "outputs": [
    {
     "name": "stdout",
     "output_type": "stream",
     "text": [
      "[('국어', 90), ('수학', 178), ('체육', 100)]\n"
     ]
    }
   ],
   "source": [
    "print(sorted(jumsu.items()))\n",
    "# 이렇게 하면 키를 기준으로 정렬 됨"
   ]
  },
  {
   "cell_type": "code",
   "execution_count": 18,
   "metadata": {},
   "outputs": [
    {
     "name": "stdout",
     "output_type": "stream",
     "text": [
      "[('국어', 90), ('체육', 100), ('수학', 178)]\n"
     ]
    }
   ],
   "source": [
    "print(sorted(jumsu.items(), key = lambda x:x[1]))\n",
    "# items의 각각 요소들의 1번째 인덱스를 기준으로 정렬"
   ]
  },
  {
   "cell_type": "code",
   "execution_count": null,
   "metadata": {},
   "outputs": [],
   "source": []
  }
 ],
 "metadata": {
  "kernelspec": {
   "display_name": "Python 3",
   "language": "python",
   "name": "python3"
  },
  "language_info": {
   "codemirror_mode": {
    "name": "ipython",
    "version": 3
   },
   "file_extension": ".py",
   "mimetype": "text/x-python",
   "name": "python",
   "nbconvert_exporter": "python",
   "pygments_lexer": "ipython3",
   "version": "3.12.2"
  }
 },
 "nbformat": 4,
 "nbformat_minor": 2
}
