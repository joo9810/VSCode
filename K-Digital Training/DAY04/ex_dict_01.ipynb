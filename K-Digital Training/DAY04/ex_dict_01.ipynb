{
 "cells": [
  {
   "cell_type": "markdown",
   "metadata": {},
   "source": [
    "##### Dict 자료형 살펴보기\n",
    " - 데이터의 의미를 함께 저장하는 자료형\n",
    " - 형태 : { 키1 : 값1, 키2 : 값2, ..., 키n, 값n }\n",
    " - 키는 중복 X, 값은 중복 O\n",
    " - 데이터 분석 시 파일 데이터 가져올 때 많이 사용\n",
    "\n",
    " [Dict 생성] --------------------------------------"
   ]
  },
  {
   "cell_type": "code",
   "execution_count": 1,
   "metadata": {},
   "outputs": [
    {
     "name": "stdout",
     "output_type": "stream",
     "text": [
      "data => 0개, <class 'dict'>, {}\n"
     ]
    }
   ],
   "source": [
    "data = {}\n",
    "print(f'data => {len(data)}개, {type(data)}, {data}')"
   ]
  },
  {
   "cell_type": "code",
   "execution_count": 2,
   "metadata": {},
   "outputs": [
    {
     "name": "stdout",
     "output_type": "stream",
     "text": [
      "data => 3개, <class 'dict'>, {'name': '마징가', 'age': 100, 'gender': '남'}\n"
     ]
    }
   ],
   "source": [
    "data = {'name' : '마징가', 'age' : 100, 'gender' : '남'}\n",
    "print(f'data => {len(data)}개, {type(data)}, {data}')"
   ]
  },
  {
   "cell_type": "code",
   "execution_count": 20,
   "metadata": {},
   "outputs": [
    {
     "name": "stdout",
     "output_type": "stream",
     "text": [
      "data => 4개, <class 'dict'>, {'age': 5, 'color': '하얀색', 'weight': 3, 'kind': '포메라니안'}\n"
     ]
    }
   ],
   "source": [
    "data = {'age' : 5, 'color' : '하얀색', 'weight' : 3, 'kind' : '포메라니안'}\n",
    "print(f'data => {len(data)}개, {type(data)}, {data}')"
   ]
  },
  {
   "cell_type": "markdown",
   "metadata": {},
   "source": [
    "[Dict 원소/요소 읽기] ------------------------------\n",
    "- 키를 가지고 값/데이터 읽기\n",
    "- 형식 : 변수명[키]"
   ]
  },
  {
   "cell_type": "code",
   "execution_count": 21,
   "metadata": {},
   "outputs": [
    {
     "name": "stdout",
     "output_type": "stream",
     "text": [
      "하얀색\n",
      "강아지 성별 : 남, 품종 : 포메라니안\n"
     ]
    }
   ],
   "source": [
    "data = {'age' : 5, 'color' : '하얀색', 'weight' : 3, 'kind' : '포메라니안', 'gender' : '남'}\n",
    "\n",
    "# 색상 출력\n",
    "print(f'{data[\"color\"]}')\n",
    "\n",
    "# 성별, 품종 출력\n",
    "print(f'강아지 성별 : {data[\"gender\"]}, 품종 : {data[\"kind\"]}')"
   ]
  },
  {
   "cell_type": "markdown",
   "metadata": {},
   "source": [
    "[Dict 원소/요소 변경] -------------------------\n",
    " - 수정 : 변수명[키] = 새로운 값"
   ]
  },
  {
   "cell_type": "code",
   "execution_count": 22,
   "metadata": {},
   "outputs": [
    {
     "name": "stdout",
     "output_type": "stream",
     "text": [
      "{'age': 6, 'color': '하얀색', 'weight': 3, 'kind': '포메라니안', 'gender': '남'}\n"
     ]
    }
   ],
   "source": [
    "# 나이 5살 ==> 6살\n",
    "data[\"age\"] = 6\n",
    "print(data)"
   ]
  },
  {
   "cell_type": "code",
   "execution_count": 23,
   "metadata": {},
   "outputs": [
    {
     "name": "stdout",
     "output_type": "stream",
     "text": [
      "{'age': 6, 'color': '하얀색', 'weight': '8kg', 'kind': '포메라니안', 'gender': '남'}\n"
     ]
    }
   ],
   "source": [
    "# 몸무게 3kg ==> 8kg\n",
    "data[\"weight\"] = '8kg'\n",
    "print(data)"
   ]
  },
  {
   "cell_type": "markdown",
   "metadata": {},
   "source": [
    " - 삭제 : del 변수명[키] 또는 del(변수명[키])"
   ]
  },
  {
   "cell_type": "code",
   "execution_count": 24,
   "metadata": {},
   "outputs": [
    {
     "name": "stdout",
     "output_type": "stream",
     "text": [
      "{'age': 6, 'color': '하얀색', 'weight': '8kg', 'kind': '포메라니안'}\n"
     ]
    }
   ],
   "source": [
    "# 성별 데이터 삭제\n",
    "del data[\"gender\"]\n",
    "print(data)"
   ]
  },
  {
   "cell_type": "markdown",
   "metadata": {},
   "source": [
    " - 추가 : 변수명[새로운 키] = 값"
   ]
  },
  {
   "cell_type": "code",
   "execution_count": 26,
   "metadata": {},
   "outputs": [
    {
     "name": "stdout",
     "output_type": "stream",
     "text": [
      "{'age': 6, 'color': '하얀색', 'weight': '8kg', 'kind': '포메라니안', 'name': '뽀삐'}\n"
     ]
    }
   ],
   "source": [
    "# 이름 추가\n",
    "data[\"name\"] = '뽀삐'\n",
    "print(data)"
   ]
  },
  {
   "cell_type": "code",
   "execution_count": null,
   "metadata": {},
   "outputs": [],
   "source": []
  }
 ],
 "metadata": {
  "kernelspec": {
   "display_name": "Python 3",
   "language": "python",
   "name": "python3"
  },
  "language_info": {
   "codemirror_mode": {
    "name": "ipython",
    "version": 3
   },
   "file_extension": ".py",
   "mimetype": "text/x-python",
   "name": "python",
   "nbconvert_exporter": "python",
   "pygments_lexer": "ipython3",
   "version": "3.12.2"
  }
 },
 "nbformat": 4,
 "nbformat_minor": 2
}
