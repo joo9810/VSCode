{
 "cells": [
  {
   "cell_type": "code",
   "execution_count": 3,
   "metadata": {},
   "outputs": [],
   "source": [
    "#---------------------------------------------\n",
    "# Dict 자료형 살펴보기\n",
    "# - 데이터의 의미를 함께 저장하는 자료형\n",
    "# - 형태 : { 키1 : 값1, 키2 : 값2, ..., 키n, 값n }\n",
    "# - 키는 중복 X, 값은 중복 O\n",
    "# - 데이터 분석 시 파일 데이터 가져올 때 많이 사용\n",
    "#---------------------------------------------\n",
    "## [Dict 생성] -------------------------------"
   ]
  },
  {
   "cell_type": "code",
   "execution_count": 1,
   "metadata": {},
   "outputs": [
    {
     "name": "stdout",
     "output_type": "stream",
     "text": [
      "data => 0개, <class 'dict'>, {}\n"
     ]
    }
   ],
   "source": [
    "data = {}\n",
    "print(f'data => {len(data)}개, {type(data)}, {data}')"
   ]
  },
  {
   "cell_type": "code",
   "execution_count": 2,
   "metadata": {},
   "outputs": [
    {
     "name": "stdout",
     "output_type": "stream",
     "text": [
      "data => 3개, <class 'dict'>, {'name': '마징가', 'age': 100, 'gender': '남'}\n"
     ]
    }
   ],
   "source": [
    "data = {'name' : '마징가', 'age' : 100, 'gender' : '남'}\n",
    "print(f'data => {len(data)}개, {type(data)}, {data}')"
   ]
  },
  {
   "cell_type": "code",
   "execution_count": null,
   "metadata": {},
   "outputs": [],
   "source": [
    "dog = {'이름' : '강아지', '나이' : 2, '색상' : '하얀색', '무게' : 100, '품종' : '포메라니안'}"
   ]
  }
 ],
 "metadata": {
  "kernelspec": {
   "display_name": "Python 3",
   "language": "python",
   "name": "python3"
  },
  "language_info": {
   "codemirror_mode": {
    "name": "ipython",
    "version": 3
   },
   "file_extension": ".py",
   "mimetype": "text/x-python",
   "name": "python",
   "nbconvert_exporter": "python",
   "pygments_lexer": "ipython3",
   "version": "3.12.2"
  }
 },
 "nbformat": 4,
 "nbformat_minor": 2
}
