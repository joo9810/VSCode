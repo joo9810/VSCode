{
 "cells": [
  {
   "cell_type": "markdown",
   "metadata": {},
   "source": [
    "##### Dict 자료형 살펴보기\n",
    " - 여러가지 데이터를 dict 타입으로 저장\n",
    "\n",
    " [다양한 종류의 키] --------------------------------------\n",
    "  - 키가 여러개 정보 합쳐서 사용하는 경우\n",
    "  - 예) 홍길동1, 홍길동2"
   ]
  },
  {
   "cell_type": "code",
   "execution_count": 2,
   "metadata": {},
   "outputs": [],
   "source": [
    "person = {'age' : 20, ('홍길동', 2000) : 100}\n",
    "# Key는 변경이 가능하면 안되기 때문에 아래와 같이 못쓴다\n",
    "# person = {'age' : 20, ['홍길동', 2000] : 100}"
   ]
  },
  {
   "cell_type": "code",
   "execution_count": 8,
   "metadata": {},
   "outputs": [
    {
     "data": {
      "text/plain": [
       "'홍길동'"
      ]
     },
     "execution_count": 8,
     "metadata": {},
     "output_type": "execute_result"
    }
   ],
   "source": [
    "# 4명의 정보를 저장 (리스트로 담는 경우)\n",
    "p1 = {'name' : '홍길동', 'age' : 20,  'job' : '학생'}\n",
    "p2 = {'name' : '마징가', 'age' : 100, 'job' : '영웅'}\n",
    "p3 = {'name' : '베트맨', 'age' : 98,  'job' : '박쥐'}\n",
    "p4 = {'name' : '홍길동', 'age' : 11,  'job' : '학생'}\n",
    "\n",
    "persons = [p1, p2, p3, p4]\n",
    "persons[0]['name']"
   ]
  },
  {
   "cell_type": "code",
   "execution_count": 13,
   "metadata": {},
   "outputs": [
    {
     "data": {
      "text/plain": [
       "'홍길동'"
      ]
     },
     "execution_count": 13,
     "metadata": {},
     "output_type": "execute_result"
    }
   ],
   "source": [
    "# 4명의 정보를 저장 (딕셔너리로 담는 경우) : Key로 나이를 사용\n",
    "persons2 = {20  : {'name' : '홍길동',  'job' : '학생'},\n",
    "            100 : {'name' : '마징가', 'job' : '영웅'},\n",
    "            98  : {'name' : '베트맨', 'job' : '박쥐'},\n",
    "            11  : {'name' : '홍길동', 'job' : '학생'}}\n",
    "# Key가 중복되면 안되기 때문에 나이를 Key로 설정\n",
    "\n",
    "persons2[11]['name']"
   ]
  },
  {
   "cell_type": "code",
   "execution_count": 20,
   "metadata": {},
   "outputs": [
    {
     "name": "stdout",
     "output_type": "stream",
     "text": [
      "{'job': '학생'}\n",
      "{'job': '영웅'}\n"
     ]
    }
   ],
   "source": [
    "# 4명의 정보를 저장 (딕셔너리로 담는 경우) : Key로 이름 + 나이를 사용\n",
    "persons3 = { ('홍길동', 20)  : {'job' : '학생'},\n",
    "             ('마징가', 100) : {'job' : '영웅'},\n",
    "             ('베트맨', 98)  : {'job' : '박쥐'},\n",
    "             ('홍길동', 11)  : {'job' : '학생'}}\n",
    "# Key가 중복되면 안되기 때문에 나이를 Key로 설정\n",
    "\n",
    "print(persons3[('홍길동', 20)])\n",
    "print(persons3[('마징가', 100)])\n",
    "# 키가 2개의 원소로 이루어져 있기 때문에 같이 써야한다"
   ]
  },
  {
   "cell_type": "code",
   "execution_count": null,
   "metadata": {},
   "outputs": [],
   "source": []
  }
 ],
 "metadata": {
  "kernelspec": {
   "display_name": "Python 3",
   "language": "python",
   "name": "python3"
  },
  "language_info": {
   "codemirror_mode": {
    "name": "ipython",
    "version": 3
   },
   "file_extension": ".py",
   "mimetype": "text/x-python",
   "name": "python",
   "nbconvert_exporter": "python",
   "pygments_lexer": "ipython3",
   "version": "3.12.2"
  }
 },
 "nbformat": 4,
 "nbformat_minor": 2
}
