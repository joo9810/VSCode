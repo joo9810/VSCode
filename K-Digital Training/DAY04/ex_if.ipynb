{
 "cells": [
  {
   "cell_type": "markdown",
   "metadata": {},
   "source": [
    "# ex_if_01"
   ]
  },
  {
   "cell_type": "markdown",
   "metadata": {},
   "source": [
    "##### 제어문 중 조건문 살펴보기\n",
    " - 조건에 만족하는 경우 즉, True가 되면 실행되는 코드와  \n",
    "   실행되지 않는 코드를 결정하는 문법\n",
    " - 형식\n",
    "   if 조건식:  \n",
    "  ----실행코드  \n",
    "  ----실행코드  "
   ]
  },
  {
   "cell_type": "markdown",
   "metadata": {},
   "source": [
    "[실습] 나이에 따른 버스 요금(현금) 출력하기\n",
    " - 무료   : 0~5세\n",
    " - 500원  : 6~12세\n",
    " - 1000원 : 13~19세\n",
    " - 1700원 : 20세 이상"
   ]
  },
  {
   "cell_type": "markdown",
   "metadata": {},
   "source": [
    "[조건문]"
   ]
  },
  {
   "cell_type": "code",
   "execution_count": 5,
   "metadata": {},
   "outputs": [
    {
     "name": "stdout",
     "output_type": "stream",
     "text": [
      "나이 3세는 버스 요금이 무료입니다.\n"
     ]
    }
   ],
   "source": [
    "age = 3\n",
    "bus = ['무료', '500원', '1000원', '1700원']\n",
    "\n",
    "# 2개 경우 => 5세 이하와 5세 초과\n",
    "if age <= 5:\n",
    "    print(f'나이 {age}세는 버스 요금이 {bus[0]}입니다.')\n",
    "else:\n",
    "    print(f'나이 {age}세는 버스 요금이 {bus[1]}입니다.')"
   ]
  },
  {
   "cell_type": "code",
   "execution_count": 12,
   "metadata": {},
   "outputs": [
    {
     "name": "stdout",
     "output_type": "stream",
     "text": [
      "나이 23세는 버스 요금이 1700원입니다.\n"
     ]
    }
   ],
   "source": [
    "# 4개 경우 => 5세 이하, 5세 초과 ~ 12세 이하, 12세 초과 19세 이하, 20세 이상\n",
    "age = int(input('나이를 입력하세요 :'))\n",
    "\n",
    "if age <= 5:\n",
    "    print(f'나이 {age}세는 버스 요금이 {bus[0]}입니다.')\n",
    "\n",
    "if age > 5 and age <= 12:\n",
    "    print(f'나이 {age}세는 버스 요금이 {bus[1]}입니다.')\n",
    "\n",
    "if age > 12 and age <= 19:\n",
    "    print(f'나이 {age}세는 버스 요금이 {bus[2]}입니다.')\n",
    "\n",
    "if age >= 20:\n",
    "    print(f'나이 {age}세는 버스 요금이 {bus[3]}입니다.')"
   ]
  },
  {
   "cell_type": "markdown",
   "metadata": {},
   "source": [
    "[다중 조건문]\n",
    " - 조건이 2개 이상인 경우\n",
    " - 형식 => 조건이 True인 경우  \n",
    "   if 조건1:  \n",
    "   ----실행코드  \n",
    "   elif 조건2:  \n",
    "   ----실행코드  \n",
    "   elif 조건3:  \n",
    "   ----실행코드  \n",
    "       :  \n",
    "   elif 조건n:  \n",
    "   ----실행코드  \n",
    "   else:  \n",
    "   ----실행코드  "
   ]
  },
  {
   "cell_type": "code",
   "execution_count": 13,
   "metadata": {},
   "outputs": [
    {
     "name": "stdout",
     "output_type": "stream",
     "text": [
      "나이 23세는 버스 요금이 1700원입니다.\n"
     ]
    }
   ],
   "source": [
    "# 4개 경우 => 5세 이하, 5세 초과 ~ 12세 이하, 12세 초과 19세 이하, 20세 이상\n",
    "if age <= 5:\n",
    "    print(f'나이 {age}세는 버스 요금이 {bus[0]}입니다.')\n",
    "elif age <= 12:\n",
    "    print(f'나이 {age}세는 버스 요금이 {bus[1]}입니다.')\n",
    "elif age <= 19:\n",
    "    print(f'나이 {age}세는 버스 요금이 {bus[2]}입니다.')\n",
    "else:\n",
    "    print(f'나이 {age}세는 버스 요금이 {bus[3]}입니다.')"
   ]
  },
  {
   "cell_type": "markdown",
   "metadata": {},
   "source": [
    "# ex_if_02"
   ]
  },
  {
   "cell_type": "markdown",
   "metadata": {},
   "source": [
    "[실습] 숫자를 입력 받아서 음이 아닌 정수와 음수 구분하기"
   ]
  },
  {
   "cell_type": "code",
   "execution_count": 16,
   "metadata": {},
   "outputs": [
    {
     "name": "stdout",
     "output_type": "stream",
     "text": [
      "숫자 -5는 음수입니다.\n"
     ]
    }
   ],
   "source": [
    "data = int(input('정수를 입력 해주세요 : '))\n",
    "\n",
    "if data >= 0:\n",
    "    print(f'숫자 {data}는 음이 아닌 정수입니다.')\n",
    "else:\n",
    "    print(f'숫자 {data}는 음수입니다.')"
   ]
  },
  {
   "cell_type": "markdown",
   "metadata": {},
   "source": [
    "[실습] 점수를 입력 받아서 합격과 불합격 출력\n",
    " - 합격 : 60점 이상"
   ]
  },
  {
   "cell_type": "code",
   "execution_count": 17,
   "metadata": {},
   "outputs": [
    {
     "name": "stdout",
     "output_type": "stream",
     "text": [
      "합격\n"
     ]
    }
   ],
   "source": [
    "score = int(input('점수를 입력하세요 : '))\n",
    "\n",
    "if score >= 60:\n",
    "    print('합격')\n",
    "else:\n",
    "    print('불합격')"
   ]
  },
  {
   "cell_type": "markdown",
   "metadata": {},
   "source": [
    "[실습] 점수를 입력 받아서 학점 출력\n",
    " - 학점 : A, B, C, D, F"
   ]
  },
  {
   "cell_type": "code",
   "execution_count": 19,
   "metadata": {},
   "outputs": [
    {
     "name": "stdout",
     "output_type": "stream",
     "text": [
      "학점 : A\n"
     ]
    }
   ],
   "source": [
    "score = int(input('점수를 입력하세요 : '))\n",
    "\n",
    "if score >= 90:\n",
    "    print('학점 : A')\n",
    "elif score >= 80:\n",
    "    print('학점 : B')\n",
    "elif score >= 70:\n",
    "    print('학점 : C')\n",
    "elif score >= 60:\n",
    "    print('학점 : D')\n",
    "else:\n",
    "    print('학점 : F')"
   ]
  },
  {
   "cell_type": "markdown",
   "metadata": {},
   "source": [
    "# ex_if_03"
   ]
  },
  {
   "cell_type": "markdown",
   "metadata": {},
   "source": [
    "##### 중첩 조건문\n",
    " - 조건문에 조건문이 존재하는 제어문  \n",
    " - 형식  \n",
    "   if 조건식:  \n",
    "   ----실행코드  \n",
    "   ----if 조건식:  \n",
    "       ----실행코드  \n",
    "       ----실행코드  "
   ]
  },
  {
   "cell_type": "markdown",
   "metadata": {},
   "source": [
    "[실습] 숫자가 음이 아닌 정수와 음수 구분하기  \n",
    "------음이 아닌 정수 중에 0과 양수 구분하기"
   ]
  },
  {
   "cell_type": "code",
   "execution_count": 29,
   "metadata": {},
   "outputs": [
    {
     "name": "stdout",
     "output_type": "stream",
     "text": [
      "5은 양수입니다.\n"
     ]
    }
   ],
   "source": [
    "# 중첩 조건문\n",
    "num = int(input(\"숫자를 입력하세요 : \"))\n",
    "\n",
    "if num >= 0:\n",
    "    if num == 0:\n",
    "        print(f'{num}은 0입니다.')\n",
    "    else:\n",
    "        print(f'{num}은 양수입니다.')\n",
    "else:\n",
    "    print(f'{num}은 음수입니다.')"
   ]
  },
  {
   "cell_type": "code",
   "execution_count": 28,
   "metadata": {},
   "outputs": [
    {
     "name": "stdout",
     "output_type": "stream",
     "text": [
      "5은 양수입니다.\n"
     ]
    }
   ],
   "source": [
    "# 다중 조건문\n",
    "num = int(input(\"숫자를 입력하세요 : \"))\n",
    "\n",
    "if num > 0:\n",
    "    print(f'{num}은 양수입니다.')\n",
    "elif num < 0:\n",
    "    print(f'{num}은 음수입니다.')\n",
    "else:\n",
    "    print(f'{num}은 0입니다.')"
   ]
  },
  {
   "cell_type": "markdown",
   "metadata": {},
   "source": [
    "동네이름 데이터에서 입력받은 동네이름 해당 여부"
   ]
  },
  {
   "cell_type": "code",
   "execution_count": 32,
   "metadata": {},
   "outputs": [],
   "source": [
    "city = ['대구', '부산', '울산']\n",
    "data = '마산'\n",
    "\n",
    "if data in city:\n",
    "    print(f'{data}는 광역시입니다.')"
   ]
  },
  {
   "cell_type": "code",
   "execution_count": null,
   "metadata": {},
   "outputs": [],
   "source": []
  }
 ],
 "metadata": {
  "kernelspec": {
   "display_name": "Python 3",
   "language": "python",
   "name": "python3"
  },
  "language_info": {
   "codemirror_mode": {
    "name": "ipython",
    "version": 3
   },
   "file_extension": ".py",
   "mimetype": "text/x-python",
   "name": "python",
   "nbconvert_exporter": "python",
   "pygments_lexer": "ipython3",
   "version": "3.12.2"
  }
 },
 "nbformat": 4,
 "nbformat_minor": 2
}
