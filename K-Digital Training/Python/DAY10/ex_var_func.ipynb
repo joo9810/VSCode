{
 "cells": [
  {
   "cell_type": "markdown",
   "metadata": {},
   "source": [
    "## ex_var_func_01"
   ]
  },
  {
   "cell_type": "markdown",
   "metadata": {},
   "source": [
    "함수와 변수 - 지역/전역 변수"
   ]
  },
  {
   "cell_type": "markdown",
   "metadata": {},
   "source": [
    "전역변수(Global Variable)\n",
    " - 파일(py) 내에 존재하며 모든 곳에서 사용 가능\n",
    " - 프로그램 실행 시 메모리 존재\n",
    " - 프로그램 종료 시 메모리에서 삭제"
   ]
  },
  {
   "cell_type": "code",
   "execution_count": 2,
   "metadata": {},
   "outputs": [],
   "source": [
    "name = '홍길동'"
   ]
  },
  {
   "cell_type": "markdown",
   "metadata": {},
   "source": [
    "지역변수(Local Variable)\n",
    " - 함수(function) 내에 존재하며 함수에서만 사용 가능함!\n",
    " - 함수 실행 시 메모리 존재\n",
    " - 함수 종료 시 메모리에서 삭제"
   ]
  },
  {
   "cell_type": "markdown",
   "metadata": {},
   "source": [
    "함수기능 : 정수를 덧셈한 후 결과를 반환하는 함수  \n",
    "함수이름 : addInt  \n",
    "매개변수 : 0개 ~ N개 (즉, 가변인자)  \n",
    "함수결과 : 정수 result  "
   ]
  },
  {
   "cell_type": "code",
   "execution_count": 15,
   "metadata": {},
   "outputs": [],
   "source": [
    "total = 100\n",
    "\n",
    "def addInt(*nums):\n",
    "    total = 0\n",
    "    for i in nums:\n",
    "        total += i\n",
    "    return total\n",
    "\n",
    "def multiInt(*nums):\n",
    "    total1 = 1\n",
    "    for i in nums:\n",
    "        total1 *= i\n",
    "    return total1 + total\n",
    "\n",
    "def multiInt2(*nums):\n",
    "    # 전역변수의 값을 변경할 경우 그냥 사용 X\n",
    "    global total\n",
    "    for i in nums:\n",
    "        total *= i\n",
    "    return total"
   ]
  },
  {
   "cell_type": "code",
   "execution_count": 16,
   "metadata": {},
   "outputs": [
    {
     "name": "stdout",
     "output_type": "stream",
     "text": [
      "전 : total => 100\n",
      "result1 : 1\n",
      "result2 : 105\n",
      "result3 : 500\n",
      "후 : total => 500\n"
     ]
    }
   ],
   "source": [
    "print(f'전 : total => {total}')\n",
    "\n",
    "result1 = addInt(1)\n",
    "print(f'result1 : {result1}')\n",
    "\n",
    "result2 = multiInt(5)\n",
    "print(f'result2 : {result2}')\n",
    "\n",
    "result3 = multiInt2(5)\n",
    "print(f'result3 : {result3}')\n",
    "\n",
    "print(f'후 : total => {total}')"
   ]
  },
  {
   "cell_type": "markdown",
   "metadata": {},
   "source": [
    "## ex_var_func_02"
   ]
  },
  {
   "cell_type": "markdown",
   "metadata": {},
   "source": [
    "함수와 변수 - 지역/전역 변수"
   ]
  },
  {
   "cell_type": "markdown",
   "metadata": {},
   "source": [
    "전역변수"
   ]
  },
  {
   "cell_type": "code",
   "execution_count": 43,
   "metadata": {},
   "outputs": [],
   "source": [
    "persons = [\"Hong\"]\n",
    "gender = {'H' : '남자'}\n",
    "year = 2024"
   ]
  },
  {
   "cell_type": "markdown",
   "metadata": {},
   "source": [
    "사용자 정의 함수"
   ]
  },
  {
   "cell_type": "code",
   "execution_count": 48,
   "metadata": {},
   "outputs": [],
   "source": [
    "def add_person(name):\n",
    "    global year\n",
    "    year += 1\n",
    "    persons.append(name)\n",
    "    gender[name] = '여'\n",
    "\n",
    "def remove_person(name):\n",
    "    persons.remove(name)\n",
    "    gender.pop(name)"
   ]
  },
  {
   "cell_type": "markdown",
   "metadata": {},
   "source": [
    "실행 즉, 함수 호출"
   ]
  },
  {
   "cell_type": "code",
   "execution_count": 49,
   "metadata": {},
   "outputs": [
    {
     "name": "stdout",
     "output_type": "stream",
     "text": [
      "persons => ['Hong']\n",
      "gender => {'H': '남자', 'Park': '여'}\n"
     ]
    }
   ],
   "source": [
    "print(f'persons => {persons}')\n",
    "print(f'gender => {gender}')"
   ]
  },
  {
   "cell_type": "code",
   "execution_count": 50,
   "metadata": {},
   "outputs": [
    {
     "name": "stdout",
     "output_type": "stream",
     "text": [
      "persons => ['Hong', 'Park']\n",
      "gender => {'H': '남자', 'Park': '여'}\n"
     ]
    }
   ],
   "source": [
    "add_person(\"Park\")\n",
    "\n",
    "print(f'persons => {persons}')\n",
    "print(f'gender => {gender}')"
   ]
  },
  {
   "cell_type": "code",
   "execution_count": 51,
   "metadata": {},
   "outputs": [
    {
     "name": "stdout",
     "output_type": "stream",
     "text": [
      "persons => ['Hong']\n",
      "gender => {'H': '남자'}\n"
     ]
    }
   ],
   "source": [
    "remove_person(\"Park\")\n",
    "\n",
    "print(f'persons => {persons}')\n",
    "print(f'gender => {gender}')"
   ]
  },
  {
   "cell_type": "code",
   "execution_count": null,
   "metadata": {},
   "outputs": [],
   "source": []
  },
  {
   "cell_type": "code",
   "execution_count": null,
   "metadata": {},
   "outputs": [],
   "source": []
  }
 ],
 "metadata": {
  "kernelspec": {
   "display_name": "PY_39",
   "language": "python",
   "name": "python3"
  },
  "language_info": {
   "codemirror_mode": {
    "name": "ipython",
    "version": 3
   },
   "file_extension": ".py",
   "mimetype": "text/x-python",
   "name": "python",
   "nbconvert_exporter": "python",
   "pygments_lexer": "ipython3",
   "version": "3.9.19"
  }
 },
 "nbformat": 4,
 "nbformat_minor": 2
}
