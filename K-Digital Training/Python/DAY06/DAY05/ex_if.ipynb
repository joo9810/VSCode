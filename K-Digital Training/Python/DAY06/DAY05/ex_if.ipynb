{
 "cells": [
  {
   "cell_type": "markdown",
   "metadata": {},
   "source": [
    "## ex_if_01"
   ]
  },
  {
   "cell_type": "markdown",
   "metadata": {},
   "source": [
    "조건부 표현식\n",
    " - 조건문을 1줄로 축약해서\n",
    " - 다중 조건문을 축약할 때 사용\n",
    " - 다른 프로그래밍 언어에서 삼항연산자와 유사\n",
    " - 형식 : 참일 때 실행 코드 if 조건식 else 거짓일 때 실행 코드"
   ]
  },
  {
   "cell_type": "markdown",
   "metadata": {},
   "source": [
    "[실습] 임의의 숫자 데이터를 정하기  \n",
    "------해당 숫자 데이터가 짝수인지 홀수인지 판별 하는 코드"
   ]
  },
  {
   "cell_type": "markdown",
   "metadata": {},
   "source": [
    "비교 연산으로 조건 판별"
   ]
  },
  {
   "cell_type": "code",
   "execution_count": 5,
   "metadata": {},
   "outputs": [
    {
     "name": "stdout",
     "output_type": "stream",
     "text": [
      "홀수\n"
     ]
    }
   ],
   "source": [
    "num = int(input('숫자를 입력하세요.'))\n",
    "\n",
    "if num % 2 == 0:\n",
    "    print('짝수')\n",
    "else:\n",
    "    print('홀수')"
   ]
  },
  {
   "cell_type": "markdown",
   "metadata": {},
   "source": [
    "값으로 조건 판별"
   ]
  },
  {
   "cell_type": "code",
   "execution_count": 6,
   "metadata": {},
   "outputs": [
    {
     "name": "stdout",
     "output_type": "stream",
     "text": [
      "짝수\n"
     ]
    }
   ],
   "source": [
    "num = int(input('숫자를 입력하세요.'))\n",
    "\n",
    "if num % 2:\n",
    "    print('홀수')\n",
    "else:\n",
    "    print('짝수')"
   ]
  },
  {
   "cell_type": "markdown",
   "metadata": {},
   "source": [
    "not 연산자로 조건 판별"
   ]
  },
  {
   "cell_type": "code",
   "execution_count": 8,
   "metadata": {},
   "outputs": [
    {
     "name": "stdout",
     "output_type": "stream",
     "text": [
      "홀수\n"
     ]
    }
   ],
   "source": [
    "num = int(input())\n",
    "\n",
    "if not num % 2:\n",
    "    print('짝수')\n",
    "else:\n",
    "    print('홀수')"
   ]
  },
  {
   "cell_type": "code",
   "execution_count": 4,
   "metadata": {},
   "outputs": [
    {
     "name": "stdout",
     "output_type": "stream",
     "text": [
      "짝수\n"
     ]
    }
   ],
   "source": [
    "num = int(input('숫자를 입력하세요.'))\n",
    "\n",
    "if num > 0:\n",
    "    if num % 2 == 0:\n",
    "        print('짝수')\n",
    "    else:\n",
    "        print('홀수')\n",
    "else:\n",
    "    print('1이상의 숫자를 입력하세요.')"
   ]
  },
  {
   "cell_type": "markdown",
   "metadata": {},
   "source": [
    "1줄로 조건식을 축약 : 조건부 표현식\n",
    " - 형식 : (참일 때 실행 코드) if (조건식) else (거짓일 때 실행 코드)"
   ]
  },
  {
   "cell_type": "code",
   "execution_count": 10,
   "metadata": {},
   "outputs": [
    {
     "name": "stdout",
     "output_type": "stream",
     "text": [
      "짝수\n"
     ]
    }
   ],
   "source": [
    "num = int(input())\n",
    "\n",
    "print('짝수') if num % 2 == 0 else print('홀수')"
   ]
  },
  {
   "cell_type": "code",
   "execution_count": 11,
   "metadata": {},
   "outputs": [
    {
     "name": "stdout",
     "output_type": "stream",
     "text": [
      "홀수\n"
     ]
    }
   ],
   "source": [
    "num = int(input())\n",
    "\n",
    "print('홀수') if num % 2 else print('짝수')"
   ]
  },
  {
   "cell_type": "code",
   "execution_count": 12,
   "metadata": {},
   "outputs": [
    {
     "name": "stdout",
     "output_type": "stream",
     "text": [
      "짝수\n"
     ]
    }
   ],
   "source": [
    "num = int(input())\n",
    "\n",
    "print('짝수') if not num % 2 else print('홀수')"
   ]
  },
  {
   "cell_type": "markdown",
   "metadata": {},
   "source": [
    "## ex_if_02"
   ]
  },
  {
   "cell_type": "markdown",
   "metadata": {},
   "source": [
    "[실습] 문자 1개 코드값을 저장하는 조건식을 작성  \n",
    " - 알파벳(a~z, A~Z) 코드값으로 변환\n",
    " - 그 외는 None으로 코드값 전달"
   ]
  },
  {
   "cell_type": "markdown",
   "metadata": {},
   "source": [
    "그냥 if문"
   ]
  },
  {
   "cell_type": "code",
   "execution_count": 16,
   "metadata": {},
   "outputs": [
    {
     "name": "stdout",
     "output_type": "stream",
     "text": [
      "109\n"
     ]
    }
   ],
   "source": [
    "data = 'm'\n",
    "\n",
    "if ('a' <= data <= 'z') or ('A' <= data <= 'Z'):\n",
    "    print(ord(data))\n",
    "else:\n",
    "    print(None)"
   ]
  },
  {
   "cell_type": "markdown",
   "metadata": {},
   "source": [
    "조건부 표현식"
   ]
  },
  {
   "cell_type": "code",
   "execution_count": 14,
   "metadata": {},
   "outputs": [
    {
     "name": "stdout",
     "output_type": "stream",
     "text": [
      "109\n"
     ]
    }
   ],
   "source": [
    "data = 'm'\n",
    "\n",
    "print(ord(data)) if ('a' <= data <= 'z') or ('A' <= data <= 'Z') else print(None)"
   ]
  },
  {
   "cell_type": "markdown",
   "metadata": {},
   "source": [
    "결과를 저장하는 조건부 표현식"
   ]
  },
  {
   "cell_type": "code",
   "execution_count": 18,
   "metadata": {},
   "outputs": [
    {
     "name": "stdout",
     "output_type": "stream",
     "text": [
      "n의 코드값 : 110\n"
     ]
    }
   ],
   "source": [
    "data = 'n'\n",
    "\n",
    "result = ord(data) if ('a' <= data <= 'z') or ('A' <= data <= 'Z') else None\n",
    "\n",
    "print(f'{data}의 코드값 : {result}')"
   ]
  },
  {
   "cell_type": "markdown",
   "metadata": {},
   "source": [
    "## ex_if_03"
   ]
  },
  {
   "cell_type": "markdown",
   "metadata": {},
   "source": [
    "==> 조건부 표현식 : 조건이 2개 이상인 경우"
   ]
  },
  {
   "cell_type": "markdown",
   "metadata": {},
   "source": [
    "[실습] 숫자가 양수, 영, 음수인지 판별"
   ]
  },
  {
   "cell_type": "code",
   "execution_count": 19,
   "metadata": {},
   "outputs": [
    {
     "name": "stdout",
     "output_type": "stream",
     "text": [
      "양수\n"
     ]
    }
   ],
   "source": [
    "num = 9\n",
    "\n",
    "if num > 0:\n",
    "    print('양수')\n",
    "elif num < 0:\n",
    "    print('음수')\n",
    "else:\n",
    "    print('영')"
   ]
  },
  {
   "cell_type": "code",
   "execution_count": 20,
   "metadata": {},
   "outputs": [
    {
     "name": "stdout",
     "output_type": "stream",
     "text": [
      "양수\n"
     ]
    }
   ],
   "source": [
    "num = 9\n",
    "\n",
    "result = '양수' if num > 0 else ('음수' if num < 0 else '영')\n",
    "\n",
    "print(result)"
   ]
  },
  {
   "cell_type": "code",
   "execution_count": null,
   "metadata": {},
   "outputs": [],
   "source": []
  }
 ],
 "metadata": {
  "kernelspec": {
   "display_name": "Python 3",
   "language": "python",
   "name": "python3"
  },
  "language_info": {
   "codemirror_mode": {
    "name": "ipython",
    "version": 3
   },
   "file_extension": ".py",
   "mimetype": "text/x-python",
   "name": "python",
   "nbconvert_exporter": "python",
   "pygments_lexer": "ipython3",
   "version": "3.12.2"
  }
 },
 "nbformat": 4,
 "nbformat_minor": 2
}
