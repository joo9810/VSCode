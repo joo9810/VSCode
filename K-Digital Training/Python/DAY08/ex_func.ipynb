{
 "cells": [
  {
   "cell_type": "markdown",
   "metadata": {},
   "source": [
    "## ex_func_01"
   ]
  },
  {
   "cell_type": "markdown",
   "metadata": {},
   "source": [
    "사용자 정의 함수"
   ]
  },
  {
   "cell_type": "markdown",
   "metadata": {},
   "source": [
    "함수 기능 : 2개 정수를 덧셈 한 후 결과를 반환/리턴하는 함수  \n",
    "함수 이름 : add  \n",
    "매개 변수 : 2개, num1, num2  \n",
    "함수 결과 : 덧셈 계산값 result  "
   ]
  },
  {
   "cell_type": "code",
   "execution_count": 4,
   "metadata": {},
   "outputs": [],
   "source": [
    "def add(num1, num2):\n",
    "    result = num1 + num2\n",
    "    return result"
   ]
  },
  {
   "cell_type": "markdown",
   "metadata": {},
   "source": [
    "함수 사용하기 즉, 함수 호출  \n",
    "함수명(데이터 ...)"
   ]
  },
  {
   "cell_type": "code",
   "execution_count": 5,
   "metadata": {},
   "outputs": [
    {
     "name": "stdout",
     "output_type": "stream",
     "text": [
      "30\n"
     ]
    }
   ],
   "source": [
    "value = add(10, 20)\n",
    "print(value)"
   ]
  },
  {
   "cell_type": "markdown",
   "metadata": {},
   "source": [
    "함수의 매개변수 개수와 다른 데이터 전달 X ERROR"
   ]
  },
  {
   "cell_type": "code",
   "execution_count": 6,
   "metadata": {},
   "outputs": [
    {
     "ename": "TypeError",
     "evalue": "add() takes 2 positional arguments but 3 were given",
     "output_type": "error",
     "traceback": [
      "\u001b[0;31m---------------------------------------------------------------------------\u001b[0m",
      "\u001b[0;31mTypeError\u001b[0m                                 Traceback (most recent call last)",
      "Cell \u001b[0;32mIn[6], line 1\u001b[0m\n\u001b[0;32m----> 1\u001b[0m value \u001b[38;5;241m=\u001b[39m \u001b[43madd\u001b[49m\u001b[43m(\u001b[49m\u001b[38;5;241;43m10\u001b[39;49m\u001b[43m,\u001b[49m\u001b[43m \u001b[49m\u001b[38;5;241;43m20\u001b[39;49m\u001b[43m,\u001b[49m\u001b[43m \u001b[49m\u001b[38;5;241;43m30\u001b[39;49m\u001b[43m)\u001b[49m\n\u001b[1;32m      2\u001b[0m \u001b[38;5;28mprint\u001b[39m(value)\n",
      "\u001b[0;31mTypeError\u001b[0m: add() takes 2 positional arguments but 3 were given"
     ]
    }
   ],
   "source": [
    "value = add(10, 20, 30)\n",
    "print(value)"
   ]
  },
  {
   "cell_type": "code",
   "execution_count": 7,
   "metadata": {},
   "outputs": [
    {
     "ename": "TypeError",
     "evalue": "add() missing 1 required positional argument: 'num2'",
     "output_type": "error",
     "traceback": [
      "\u001b[0;31m---------------------------------------------------------------------------\u001b[0m",
      "\u001b[0;31mTypeError\u001b[0m                                 Traceback (most recent call last)",
      "Cell \u001b[0;32mIn[7], line 1\u001b[0m\n\u001b[0;32m----> 1\u001b[0m value \u001b[38;5;241m=\u001b[39m \u001b[43madd\u001b[49m\u001b[43m(\u001b[49m\u001b[38;5;241;43m10\u001b[39;49m\u001b[43m)\u001b[49m\n\u001b[1;32m      2\u001b[0m \u001b[38;5;28mprint\u001b[39m(value)\n",
      "\u001b[0;31mTypeError\u001b[0m: add() missing 1 required positional argument: 'num2'"
     ]
    }
   ],
   "source": [
    "value = add(10)\n",
    "print(value)"
   ]
  },
  {
   "cell_type": "markdown",
   "metadata": {},
   "source": [
    "## ex_func_02"
   ]
  },
  {
   "cell_type": "markdown",
   "metadata": {},
   "source": [
    "함수 기능 : 2개 정수를 덧셈 한 후 결과를 반환/리턴하는 함수  \n",
    "함수 이름 : add  \n",
    "매개 변수 : 2개, num1, num2  \n",
    "함수 결과 : 없음  "
   ]
  },
  {
   "cell_type": "code",
   "execution_count": 10,
   "metadata": {},
   "outputs": [],
   "source": [
    "def add(num1, num2):\n",
    "    result = num1 + num2\n",
    "    print(f'{num1}+{num2}={result}')"
   ]
  },
  {
   "cell_type": "markdown",
   "metadata": {},
   "source": [
    "함수 사용하기 즉, 호출"
   ]
  },
  {
   "cell_type": "code",
   "execution_count": 13,
   "metadata": {},
   "outputs": [
    {
     "name": "stdout",
     "output_type": "stream",
     "text": [
      "5+8=13\n"
     ]
    }
   ],
   "source": [
    "add(5, 8)"
   ]
  },
  {
   "cell_type": "markdown",
   "metadata": {},
   "source": [
    "함수 기능 : 인사 메시지를 출력하는 함수  \n",
    "함수 이름 : hello  \n",
    "매개 변수 : 없음  \n",
    "함수 결과 : 없음  "
   ]
  },
  {
   "cell_type": "code",
   "execution_count": 17,
   "metadata": {},
   "outputs": [],
   "source": [
    "def hello():\n",
    "    print('Hello~^^')"
   ]
  },
  {
   "cell_type": "markdown",
   "metadata": {},
   "source": [
    "함수 사용하기 즉, 호출"
   ]
  },
  {
   "cell_type": "code",
   "execution_count": 16,
   "metadata": {},
   "outputs": [
    {
     "name": "stdout",
     "output_type": "stream",
     "text": [
      "Hello~^^\n"
     ]
    }
   ],
   "source": [
    "hello()"
   ]
  },
  {
   "cell_type": "markdown",
   "metadata": {},
   "source": [
    "## ex_func_03"
   ]
  },
  {
   "cell_type": "markdown",
   "metadata": {},
   "source": [
    "[실습]  \n",
    "함수 기능 : 원하는 단의 구구단을 출력해주는 기능 함수  \n",
    "함수 이름 : gugudan  \n",
    "매개 변수 : num  \n",
    "함수 결과 : 없음  "
   ]
  },
  {
   "cell_type": "code",
   "execution_count": 12,
   "metadata": {},
   "outputs": [],
   "source": [
    "def gugudan(dan):\n",
    "    print(f'----{dan}단----')\n",
    "    for i in range(1, 10):\n",
    "        print(f'{dan} * {i} = {dan * i}')"
   ]
  },
  {
   "cell_type": "code",
   "execution_count": 13,
   "metadata": {},
   "outputs": [
    {
     "name": "stdout",
     "output_type": "stream",
     "text": [
      "----5단----\n",
      "5 * 1 = 5\n",
      "5 * 2 = 10\n",
      "5 * 3 = 15\n",
      "5 * 4 = 20\n",
      "5 * 5 = 25\n",
      "5 * 6 = 30\n",
      "5 * 7 = 35\n",
      "5 * 8 = 40\n",
      "5 * 9 = 45\n"
     ]
    }
   ],
   "source": [
    "gugudan(5)"
   ]
  },
  {
   "cell_type": "markdown",
   "metadata": {},
   "source": [
    "[실습]  파일의 확장자를 반환해주는 기능 함수  \n",
    "함수 기능 : 파일의 확장자를 반환해주는 기능 함수  \n",
    "함수 이름 : extension_return  \n",
    "매개 변수 : file  \n",
    "함수 결과 : 없음"
   ]
  },
  {
   "cell_type": "code",
   "execution_count": 14,
   "metadata": {},
   "outputs": [],
   "source": [
    "def extension_return(file):\n",
    "    idx = file.rfind('.')\n",
    "    print(file[idx+1:])"
   ]
  },
  {
   "cell_type": "code",
   "execution_count": 15,
   "metadata": {},
   "outputs": [
    {
     "name": "stdout",
     "output_type": "stream",
     "text": [
      "ipynb\n"
     ]
    }
   ],
   "source": [
    "name = 'good._file.ipynb'\n",
    "\n",
    "extension_return(name)"
   ]
  },
  {
   "cell_type": "markdown",
   "metadata": {},
   "source": [
    "## ex_func_04"
   ]
  },
  {
   "cell_type": "markdown",
   "metadata": {},
   "source": [
    "목적 : 매개변수의 개수를 유동적으로 (0개 ~ N개 까지 가능하도록)  \n",
    "형태 : def 함수명( *변수명 ) <= 0개 ~ N개 데이터  "
   ]
  },
  {
   "cell_type": "markdown",
   "metadata": {},
   "source": [
    "함수 기능 : 정수를 덧셈 한 후 결과를 반환/리턴하는 함수  \n",
    "함수 이름 : add  \n",
    "매개 변수 : 0개 ~ N개  \n",
    "함수 결과 : 덧셈 계산 값 result  "
   ]
  },
  {
   "cell_type": "code",
   "execution_count": 23,
   "metadata": {},
   "outputs": [],
   "source": [
    "def add(*nums):\n",
    "    total = 0\n",
    "    for i in nums:\n",
    "        total += i\n",
    "    return total"
   ]
  },
  {
   "cell_type": "code",
   "execution_count": 24,
   "metadata": {},
   "outputs": [
    {
     "name": "stdout",
     "output_type": "stream",
     "text": [
      "0\n"
     ]
    }
   ],
   "source": [
    "print(add())"
   ]
  },
  {
   "cell_type": "code",
   "execution_count": 25,
   "metadata": {},
   "outputs": [
    {
     "name": "stdout",
     "output_type": "stream",
     "text": [
      "3\n"
     ]
    }
   ],
   "source": [
    "print(add(1, 1, 1))"
   ]
  },
  {
   "cell_type": "code",
   "execution_count": 26,
   "metadata": {},
   "outputs": [
    {
     "name": "stdout",
     "output_type": "stream",
     "text": [
      "11\n"
     ]
    }
   ],
   "source": [
    "print(add(5, 6))"
   ]
  },
  {
   "cell_type": "code",
   "execution_count": 27,
   "metadata": {},
   "outputs": [
    {
     "name": "stdout",
     "output_type": "stream",
     "text": [
      "129\n"
     ]
    }
   ],
   "source": [
    "print(add(8,9,11,22,55,11,6,7))"
   ]
  },
  {
   "cell_type": "markdown",
   "metadata": {},
   "source": [
    "## ex_func_05"
   ]
  },
  {
   "cell_type": "markdown",
   "metadata": {},
   "source": [
    " - 매개변수에 전달되는 데이터가 지정되지 않는 경우\n",
    " - 데이터종류 = 데이터 ==> 키워드 파라미터\n",
    " - 형식 : def 함수명( **params ) => 키 = 값"
   ]
  },
  {
   "cell_type": "markdown",
   "metadata": {},
   "source": [
    "함수 기능 : 회원가입 기능 함수  \n",
    "함수 이름 : register  \n",
    "매개 변수 : 가입하는 사람마다 입력하는 정보가 모두 다름  **params  \n",
    "함수 결과 : 가입 메시지 str  "
   ]
  },
  {
   "cell_type": "code",
   "execution_count": 28,
   "metadata": {},
   "outputs": [
    {
     "name": "stdout",
     "output_type": "stream",
     "text": [
      "<class 'dict'>\n",
      "<class 'dict'>\n",
      "<class 'dict'>\n"
     ]
    }
   ],
   "source": [
    "def register(**params):\n",
    "    print(type(params))\n",
    "\n",
    "register(name = '홍길동', job = '의적')\n",
    "register(name = '마스터', age = 10, gender = 'F')\n",
    "register()"
   ]
  },
  {
   "cell_type": "markdown",
   "metadata": {},
   "source": [
    "함수 기능 : 회원가입 기능 함수  \n",
    "함수 이름 : register2  \n",
    "매개 변수 : 필수 입력 사항: id, pw, email  \n",
    "----------선택 입력 사항: **params  \n",
    "함수 결과 : 가입 메시지 str  "
   ]
  },
  {
   "cell_type": "code",
   "execution_count": 30,
   "metadata": {},
   "outputs": [],
   "source": [
    "def register2(id, pw, email, **params):\n",
    "    print(type(params))"
   ]
  },
  {
   "cell_type": "code",
   "execution_count": 32,
   "metadata": {},
   "outputs": [
    {
     "name": "stdout",
     "output_type": "stream",
     "text": [
      "<class 'dict'>\n"
     ]
    }
   ],
   "source": [
    "register2(\"Hong\", \"H12345\", \"h@naver.com\", gender = 'F')"
   ]
  },
  {
   "cell_type": "code",
   "execution_count": 33,
   "metadata": {},
   "outputs": [
    {
     "name": "stdout",
     "output_type": "stream",
     "text": [
      "<class 'dict'>\n"
     ]
    }
   ],
   "source": [
    "register2(\"Hong\", \"H12345\", \"h@naver.com\")"
   ]
  },
  {
   "cell_type": "code",
   "execution_count": 34,
   "metadata": {},
   "outputs": [
    {
     "ename": "TypeError",
     "evalue": "register2() missing 1 required positional argument: 'email'",
     "output_type": "error",
     "traceback": [
      "\u001b[0;31m---------------------------------------------------------------------------\u001b[0m",
      "\u001b[0;31mTypeError\u001b[0m                                 Traceback (most recent call last)",
      "Cell \u001b[0;32mIn[34], line 1\u001b[0m\n\u001b[0;32m----> 1\u001b[0m \u001b[43mregister2\u001b[49m\u001b[43m(\u001b[49m\u001b[38;5;124;43m\"\u001b[39;49m\u001b[38;5;124;43mHong\u001b[39;49m\u001b[38;5;124;43m\"\u001b[39;49m\u001b[43m,\u001b[49m\u001b[43m \u001b[49m\u001b[38;5;124;43m\"\u001b[39;49m\u001b[38;5;124;43mH12345\u001b[39;49m\u001b[38;5;124;43m\"\u001b[39;49m\u001b[43m)\u001b[49m\n",
      "\u001b[0;31mTypeError\u001b[0m: register2() missing 1 required positional argument: 'email'"
     ]
    }
   ],
   "source": [
    "register2(\"Hong\", \"H12345\") # ERROR"
   ]
  },
  {
   "cell_type": "markdown",
   "metadata": {},
   "source": [
    "## ex_func_06"
   ]
  },
  {
   "cell_type": "markdown",
   "metadata": {},
   "source": [
    " - 디폴트 매개변수 함수\n",
    " - 함수 호출 시 데이터가 전달되지 않는 경우 미리 지정된 값으로 처리  \n",
    " - 형식 def 함수명(매개변수1, 매개변수2, ..., 매개변수 = 0)"
   ]
  },
  {
   "cell_type": "code",
   "execution_count": 38,
   "metadata": {},
   "outputs": [],
   "source": [
    "def add(num1 = 0, num2 = 0):\n",
    "    return num1 + num2"
   ]
  },
  {
   "cell_type": "code",
   "execution_count": 41,
   "metadata": {},
   "outputs": [
    {
     "name": "stdout",
     "output_type": "stream",
     "text": [
      "0\n",
      "5\n",
      "9\n"
     ]
    }
   ],
   "source": [
    "print(add())\n",
    "print(add(5))\n",
    "print(add(4,5))"
   ]
  },
  {
   "cell_type": "markdown",
   "metadata": {},
   "source": [
    "함수 기능 : 회원가입 기능 함수  \n",
    "함수 이름 : register  \n",
    "매개 변수 : id, pw, gender  \n",
    "성별은 기본값 '남' 지정  \n",
    "함수 결과 : 'OOO'님 가입을 환영합니다.  "
   ]
  },
  {
   "cell_type": "code",
   "execution_count": 46,
   "metadata": {},
   "outputs": [
    {
     "name": "stdout",
     "output_type": "stream",
     "text": [
      "kk(남)님 가입을 환영합니다.\n",
      "kk(여)님 가입을 환영합니다.\n"
     ]
    }
   ],
   "source": [
    "def register(id, pw, gender = '남'):\n",
    "    return f'{id}({gender})님 가입을 환영합니다.'\n",
    "\n",
    "print(register('kk', 'k123'))\n",
    "print(register('kk', 'k123', '여'))"
   ]
  },
  {
   "cell_type": "code",
   "execution_count": 49,
   "metadata": {},
   "outputs": [
    {
     "name": "stdout",
     "output_type": "stream",
     "text": [
      "1 2 (3, 4)\n"
     ]
    }
   ],
   "source": [
    "def test(n1, n2, *nums):\n",
    "    print(n1, n2, nums)\n",
    "\n",
    "test(1, 2, 3, 4)"
   ]
  },
  {
   "cell_type": "markdown",
   "metadata": {},
   "source": [
    "## ex_func_07"
   ]
  },
  {
   "cell_type": "markdown",
   "metadata": {},
   "source": [
    "사용자 정의 함수  \n",
    "덧셈, 뺄셈, 곱셈, 나눗셈 함수를 각각 만들기  \n",
    " - 매개변수 : 정수 2개, num1, num2  \n",
    " - 함수결과 : 연산 결과 반환  "
   ]
  },
  {
   "cell_type": "code",
   "execution_count": 54,
   "metadata": {},
   "outputs": [
    {
     "data": {
      "text/plain": [
       "15"
      ]
     },
     "execution_count": 54,
     "metadata": {},
     "output_type": "execute_result"
    }
   ],
   "source": [
    "def add(num1, num2):\n",
    "    return num1 + num2\n",
    "\n",
    "add(5, 10)"
   ]
  },
  {
   "cell_type": "code",
   "execution_count": 55,
   "metadata": {},
   "outputs": [
    {
     "data": {
      "text/plain": [
       "5"
      ]
     },
     "execution_count": 55,
     "metadata": {},
     "output_type": "execute_result"
    }
   ],
   "source": [
    "def minus(num1, num2):\n",
    "    return num1 - num2\n",
    "\n",
    "minus(10, 5)"
   ]
  },
  {
   "cell_type": "code",
   "execution_count": 57,
   "metadata": {},
   "outputs": [
    {
     "data": {
      "text/plain": [
       "27"
      ]
     },
     "execution_count": 57,
     "metadata": {},
     "output_type": "execute_result"
    }
   ],
   "source": [
    "def multiply(num1, num2):\n",
    "    return num1 * num2\n",
    "\n",
    "multiply(3, 9)"
   ]
  },
  {
   "cell_type": "code",
   "execution_count": 70,
   "metadata": {},
   "outputs": [
    {
     "data": {
      "text/plain": [
       "3.0"
      ]
     },
     "execution_count": 70,
     "metadata": {},
     "output_type": "execute_result"
    }
   ],
   "source": [
    "def divide(num1, num2):\n",
    "    return num1 / num2 if num2 != 0 else 'divide by zero'\n",
    "\n",
    "divide(6, 2)"
   ]
  },
  {
   "cell_type": "markdown",
   "metadata": {},
   "source": [
    "함수 기능 : 입력 데이터가 유효한 데이터인지 검사해주는 기능  \n",
    "함수 이름 : check_data  \n",
    "매개 변수 : 문자열 데이터, 데이터 갯수 data, count, sep = ' '  \n",
    "함수 결과 : 유효 여부 True False  "
   ]
  },
  {
   "cell_type": "code",
   "execution_count": 88,
   "metadata": {},
   "outputs": [],
   "source": [
    "def check_data(data, count, sep=' '):\n",
    "    # 데이터 여부\n",
    "    if len(data):\n",
    "    # 데이터 분리 후 갯수 체크\n",
    "        data2 = data.split(sep)\n",
    "        return True if count == len(data2) else False\n",
    "    else:\n",
    "        return False"
   ]
  },
  {
   "cell_type": "code",
   "execution_count": 92,
   "metadata": {},
   "outputs": [
    {
     "name": "stdout",
     "output_type": "stream",
     "text": [
      "True\n",
      "False\n",
      "False\n",
      "False\n"
     ]
    }
   ],
   "source": [
    "print(check_data('+ 10 3', 3))\n",
    "print(check_data('+ 10', 3))\n",
    "print(check_data('+,10,3', 3))\n",
    "print(check_data('+,10,3', 3, '+'))"
   ]
  },
  {
   "cell_type": "markdown",
   "metadata": {},
   "source": [
    "[실습] 사용자로부터 연산자, 숫자1, 숫자2를 입력 받아서 연산 결과를 출력해주세요."
   ]
  },
  {
   "cell_type": "code",
   "execution_count": 94,
   "metadata": {},
   "outputs": [
    {
     "name": "stdout",
     "output_type": "stream",
     "text": [
      "1+3=4\n"
     ]
    }
   ],
   "source": [
    "method, num1, num2 = input('연산자, 숫자1, 숫자2 : ').split()\n",
    "\n",
    "\n",
    "if method not in ['+', '-', '*', '/']:\n",
    "    print(f'{method} 잘못된 연산자 입니다.')\n",
    "else:\n",
    "    if num1.isdecimal() and num2.isdecimal():\n",
    "        num1 = int(num1)\n",
    "        num2 = int(num2)\n",
    "        result = 0\n",
    "        if method == '+':\n",
    "            result = add(num1, num2)\n",
    "        elif method == '-':\n",
    "            result = minus(num1, num2)\n",
    "        elif method == '*':\n",
    "            result = multiply(num1, num2)\n",
    "        else:\n",
    "            result = divide(num1, num2)\n",
    "        print(f'{num1}{method}{num2}={result}')\n",
    "    else:\n",
    "        print('정수만 입력 가능합니다.')"
   ]
  },
  {
   "cell_type": "markdown",
   "metadata": {},
   "source": []
  },
  {
   "cell_type": "code",
   "execution_count": null,
   "metadata": {},
   "outputs": [],
   "source": []
  }
 ],
 "metadata": {
  "kernelspec": {
   "display_name": "Python 3",
   "language": "python",
   "name": "python3"
  },
  "language_info": {
   "codemirror_mode": {
    "name": "ipython",
    "version": 3
   },
   "file_extension": ".py",
   "mimetype": "text/x-python",
   "name": "python",
   "nbconvert_exporter": "python",
   "pygments_lexer": "ipython3",
   "version": "3.12.2"
  }
 },
 "nbformat": 4,
 "nbformat_minor": 2
}
