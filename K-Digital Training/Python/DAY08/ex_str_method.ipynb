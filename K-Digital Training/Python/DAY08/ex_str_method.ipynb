{
 "cells": [
  {
   "cell_type": "markdown",
   "metadata": {},
   "source": [
    "## ex_str_method_01"
   ]
  },
  {
   "cell_type": "markdown",
   "metadata": {},
   "source": [
    "str 데이터 타입 전용 함수 즉, 메서드 살펴보기"
   ]
  },
  {
   "cell_type": "markdown",
   "metadata": {},
   "source": [
    "[원소/요소 인덱스 찾기 메서드 - find(문자1개 또는 문자열)]\n",
    " - 'H'의 인덱스"
   ]
  },
  {
   "cell_type": "code",
   "execution_count": 3,
   "metadata": {},
   "outputs": [
    {
     "name": "stdout",
     "output_type": "stream",
     "text": [
      "H의 인덱스 : 0\n"
     ]
    }
   ],
   "source": [
    "msg = \"Hello 0705\"\n",
    "\n",
    "idx = msg.find('H') # 0번째 인덱스에 H가 존재\n",
    "print(f'H의 인덱스 : {idx}')"
   ]
  },
  {
   "cell_type": "markdown",
   "metadata": {},
   "source": [
    " - 7의 인덱스"
   ]
  },
  {
   "cell_type": "code",
   "execution_count": 4,
   "metadata": {},
   "outputs": [
    {
     "name": "stdout",
     "output_type": "stream",
     "text": [
      "7의 인덱스 : 7\n"
     ]
    }
   ],
   "source": [
    "msg = \"Hello 0705\"\n",
    "\n",
    "idx = msg.find('7') # 7번째 인덱스에 7이 존재\n",
    "print(f'7의 인덱스 : {idx}')"
   ]
  },
  {
   "cell_type": "markdown",
   "metadata": {},
   "source": [
    " - llo의 인덱스"
   ]
  },
  {
   "cell_type": "code",
   "execution_count": 5,
   "metadata": {},
   "outputs": [
    {
     "name": "stdout",
     "output_type": "stream",
     "text": [
      "llo의 인덱스 : 2\n"
     ]
    }
   ],
   "source": [
    "msg = \"Hello 0705\"\n",
    "\n",
    "idx = msg.find('llo') # 2번째 인덱스에 llo가 시작\n",
    "print(f'llo의 인덱스 : {idx}')"
   ]
  },
  {
   "cell_type": "markdown",
   "metadata": {},
   "source": [
    " - llO의 인덱스 => 대소문자 일치, 존재하지 않으면 -1"
   ]
  },
  {
   "cell_type": "code",
   "execution_count": 7,
   "metadata": {},
   "outputs": [
    {
     "name": "stdout",
     "output_type": "stream",
     "text": [
      "llO의 인덱스 : -1\n"
     ]
    }
   ],
   "source": [
    "msg = \"Hello 0705\"\n",
    "\n",
    "idx = msg.find('llO') # 존재하지 않아 -1\n",
    "print(f'llO의 인덱스 : {idx}')"
   ]
  },
  {
   "cell_type": "markdown",
   "metadata": {},
   "source": [
    "[원소/요소 인덱스 찾기 메서드 - index(문자1개 또는 문자열)]"
   ]
  },
  {
   "cell_type": "markdown",
   "metadata": {},
   "source": [
    " - 'H'의 인덱스"
   ]
  },
  {
   "cell_type": "code",
   "execution_count": 13,
   "metadata": {},
   "outputs": [
    {
     "name": "stdout",
     "output_type": "stream",
     "text": [
      "H의 인덱스 : 0\n"
     ]
    }
   ],
   "source": [
    "msg = \"Hello 0705\"\n",
    "\n",
    "idx = msg.index('H')\n",
    "\n",
    "print(f'H의 인덱스 : {idx}')"
   ]
  },
  {
   "cell_type": "markdown",
   "metadata": {},
   "source": [
    " - 'h'의 인덱스 : 존재하지 않으면 Error 발생"
   ]
  },
  {
   "cell_type": "code",
   "execution_count": 14,
   "metadata": {},
   "outputs": [
    {
     "name": "stdout",
     "output_type": "stream",
     "text": [
      "h는 존재하지 않습니다.\n"
     ]
    }
   ],
   "source": [
    "msg = \"Hello 0705\"\n",
    "\n",
    "if 'h' in msg:\n",
    "    idx = msg.index('h')\n",
    "    print(f'h의 인덱스 : {idx}')\n",
    "else:\n",
    "    print('h는 존재하지 않습니다.')"
   ]
  },
  {
   "cell_type": "markdown",
   "metadata": {},
   "source": [
    "문자열에 동일한 문자가 여러개 존재하는 경우"
   ]
  },
  {
   "cell_type": "markdown",
   "metadata": {},
   "source": [
    " - 'o'의 인덱스 찾기 => 첫 번째 'o'인덱스"
   ]
  },
  {
   "cell_type": "code",
   "execution_count": 21,
   "metadata": {},
   "outputs": [
    {
     "name": "stdout",
     "output_type": "stream",
     "text": [
      "1\n"
     ]
    }
   ],
   "source": [
    "msg = \"Good Luck Good\"\n",
    "\n",
    "idx1 = msg.find('o')\n",
    "print(idx1)"
   ]
  },
  {
   "cell_type": "markdown",
   "metadata": {},
   "source": [
    " - 'o'의 인덱스 찾기 => 두 번째 'o'인덱스"
   ]
  },
  {
   "cell_type": "code",
   "execution_count": 22,
   "metadata": {},
   "outputs": [
    {
     "name": "stdout",
     "output_type": "stream",
     "text": [
      "2\n"
     ]
    }
   ],
   "source": [
    "msg = \"Good Luck Good\"\n",
    "\n",
    "idx2 = msg.find('o', idx1 + 1)\n",
    "print(idx2)"
   ]
  },
  {
   "cell_type": "markdown",
   "metadata": {},
   "source": [
    " - 'o'의 인덱스 찾기 => 세 번째 'o'인덱스"
   ]
  },
  {
   "cell_type": "code",
   "execution_count": 23,
   "metadata": {},
   "outputs": [
    {
     "name": "stdout",
     "output_type": "stream",
     "text": [
      "11\n"
     ]
    }
   ],
   "source": [
    "msg = \"Good Luck Good\"\n",
    "\n",
    "idx3 = msg.find('o', idx2 + 1)\n",
    "print(idx3)"
   ]
  },
  {
   "cell_type": "markdown",
   "metadata": {},
   "source": [
    " - 'o'의 인덱스 찾기 => 네 번째 'o'인덱스"
   ]
  },
  {
   "cell_type": "code",
   "execution_count": 24,
   "metadata": {},
   "outputs": [
    {
     "name": "stdout",
     "output_type": "stream",
     "text": [
      "12\n"
     ]
    }
   ],
   "source": [
    "msg = \"Good Luck Good\"\n",
    "\n",
    "idx4 = msg.find('o', idx3 + 1)\n",
    "print(idx4)"
   ]
  },
  {
   "cell_type": "code",
   "execution_count": 29,
   "metadata": {},
   "outputs": [
    {
     "name": "stdout",
     "output_type": "stream",
     "text": [
      "1번째 o의 인덱스 :  1\n",
      "2번째 o의 인덱스 :  2\n",
      "3번째 o의 인덱스 :  11\n",
      "4번째 o의 인덱스 :  12\n"
     ]
    }
   ],
   "source": [
    "idx = -1\n",
    "\n",
    "for i in range(msg.count('o')):\n",
    "    idx = msg.find('o', idx + 1)\n",
    "    print(f'{i+1}번째 o의 인덱스 :  {idx}')"
   ]
  },
  {
   "cell_type": "markdown",
   "metadata": {},
   "source": [
    "문자열의 뒷부분부터 찾기하는 메서드 ==> rfind(), rindex()"
   ]
  },
  {
   "cell_type": "markdown",
   "metadata": {},
   "source": [
    " - 'y'인덱스 찾기"
   ]
  },
  {
   "cell_type": "code",
   "execution_count": 31,
   "metadata": {},
   "outputs": [
    {
     "name": "stdout",
     "output_type": "stream",
     "text": [
      "y의 인덱스 : 4\n"
     ]
    }
   ],
   "source": [
    "msg = \"Happy\"\n",
    "\n",
    "idx = msg.rfind('y')\n",
    "print(f'y의 인덱스 : {idx}')"
   ]
  },
  {
   "cell_type": "markdown",
   "metadata": {},
   "source": [
    " - 첫 번째 'p'인덱스 찾기"
   ]
  },
  {
   "cell_type": "code",
   "execution_count": 45,
   "metadata": {},
   "outputs": [
    {
     "name": "stdout",
     "output_type": "stream",
     "text": [
      "p의 인덱스 : 3\n"
     ]
    }
   ],
   "source": [
    "msg = \"Happy\"\n",
    "#      01234\n",
    "\n",
    "idx1 = msg.rfind('p')\n",
    "print(f'p의 인덱스 : {idx1}')"
   ]
  },
  {
   "cell_type": "markdown",
   "metadata": {},
   "source": [
    " - 두 번쨰 'p'인덱스 찾기"
   ]
  },
  {
   "cell_type": "code",
   "execution_count": 46,
   "metadata": {},
   "outputs": [
    {
     "name": "stdout",
     "output_type": "stream",
     "text": [
      "p의 인덱스 : 2\n"
     ]
    }
   ],
   "source": [
    "msg = \"Happy\"\n",
    "#      01234\n",
    "\n",
    "idx2 = msg.rfind('p', 0, idx1)\n",
    "# 끝이 포함이 안돼서 idx1인 3을 그대로 줘도 2부터 찾는다.\n",
    "print(f'p의 인덱스 : {idx2}')"
   ]
  },
  {
   "cell_type": "markdown",
   "metadata": {},
   "source": [
    " - 파일명에서 확장자 txt, jpeg, xlsx, zip, gz 찾기\n",
    " - hello.txt, 2024년상반기경제분석.doc"
   ]
  },
  {
   "cell_type": "code",
   "execution_count": 59,
   "metadata": {},
   "outputs": [
    {
     "name": "stdout",
     "output_type": "stream",
     "text": [
      "txt\n",
      "doc\n",
      "jpg\n"
     ]
    }
   ],
   "source": [
    "files=['hello.txt', '2024년상반기경제분석.doc', 'kakao_12345566879.jpg']\n",
    "\n",
    "for i in range(len(files)):\n",
    "    idx = files[i].find('.')\n",
    "    for j in range(idx + 1, len(files[i])):\n",
    "        print(files[i][j], end = '')\n",
    "    print()"
   ]
  },
  {
   "cell_type": "code",
   "execution_count": 68,
   "metadata": {},
   "outputs": [
    {
     "name": "stdout",
     "output_type": "stream",
     "text": [
      "txt\n",
      "doc\n",
      "jpg\n"
     ]
    }
   ],
   "source": [
    "for i in files:\n",
    "    idx = i.find('.')\n",
    "    print(i[idx+1:])"
   ]
  },
  {
   "cell_type": "markdown",
   "metadata": {},
   "source": [
    "## ex_str_method_02"
   ]
  },
  {
   "cell_type": "markdown",
   "metadata": {},
   "source": [
    "str 데이터 타입 전용 함수 즉, 메서드 살펴보기"
   ]
  },
  {
   "cell_type": "markdown",
   "metadata": {},
   "source": [
    "[문자열에서 좌우 여백 제거 메서드 -> strip(). lstrip(), rstrip()]\n",
    " - 주의 : 문자열 내부에 공백은 제거 X"
   ]
  },
  {
   "cell_type": "code",
   "execution_count": 69,
   "metadata": {},
   "outputs": [],
   "source": [
    "msg = \"Good Luck\"\n",
    "data = \" Happy New Year 2025!  \""
   ]
  },
  {
   "cell_type": "markdown",
   "metadata": {},
   "source": [
    "좌우 모든 공백 제거"
   ]
  },
  {
   "cell_type": "code",
   "execution_count": 76,
   "metadata": {},
   "outputs": [
    {
     "name": "stdout",
     "output_type": "stream",
     "text": [
      "원본 msg : 9개 --- 제거 m1 : 9개\n"
     ]
    }
   ],
   "source": [
    "m1 = msg.strip()\n",
    "print(f'원본 msg : {len(msg)}개 --- 제거 m1 : {len(m1)}개')"
   ]
  },
  {
   "cell_type": "code",
   "execution_count": 77,
   "metadata": {},
   "outputs": [
    {
     "name": "stdout",
     "output_type": "stream",
     "text": [
      "원본 data : 23개 --- 제거 d1 : 20개\n"
     ]
    }
   ],
   "source": [
    "d1 = data.strip()\n",
    "print(f'원본 data : {len(data)}개 --- 제거 d1 : {len(d1)}개')"
   ]
  },
  {
   "cell_type": "markdown",
   "metadata": {},
   "source": [
    "왼쪽 즉, 문자열 시작 부분의 공백 제거"
   ]
  },
  {
   "cell_type": "code",
   "execution_count": 78,
   "metadata": {},
   "outputs": [
    {
     "name": "stdout",
     "output_type": "stream",
     "text": [
      "원본 data : 23개 --- 제거 d2 : 22개\n"
     ]
    }
   ],
   "source": [
    "d2 = data.lstrip()\n",
    "print(f'원본 data : {len(data)}개 --- 제거 d2 : {len(d2)}개')"
   ]
  },
  {
   "cell_type": "markdown",
   "metadata": {},
   "source": [
    "오른쪽 즉, 문자열 끝 부분의 공백 제거"
   ]
  },
  {
   "cell_type": "code",
   "execution_count": 79,
   "metadata": {},
   "outputs": [
    {
     "name": "stdout",
     "output_type": "stream",
     "text": [
      "원본 data : 23개 --- 제거 d3 : 21개\n"
     ]
    }
   ],
   "source": [
    "d3 = data.rstrip()\n",
    "print(f'원본 data : {len(data)}개 --- 제거 d3 : {len(d3)}개')"
   ]
  },
  {
   "cell_type": "markdown",
   "metadata": {},
   "source": [
    "[실습] 이름을 입력 받아서 저장하세요.\n",
    " - input() 함수 사용"
   ]
  },
  {
   "cell_type": "code",
   "execution_count": 84,
   "metadata": {},
   "outputs": [
    {
     "name": "stdout",
     "output_type": "stream",
     "text": [
      "입력하지 않았습니다.\n"
     ]
    }
   ],
   "source": [
    "name = input(\"이름 : \").strip()\n",
    "\n",
    "if len(name) > 0:\n",
    "    print(f'name : {name}')\n",
    "else:\n",
    "    print(\"입력하지 않았습니다.\")"
   ]
  },
  {
   "cell_type": "markdown",
   "metadata": {},
   "source": [
    "[실습] 입력 받은 데이터에 따라 출력을 다르게 합니다.\n",
    " - input() 함수 사용\n",
    " - [조건] 알파벳이면 ★, 숫자면 ❤︎, 나머지는 무시 <== if문 사용"
   ]
  },
  {
   "cell_type": "code",
   "execution_count": 90,
   "metadata": {},
   "outputs": [
    {
     "name": "stdout",
     "output_type": "stream",
     "text": [
      "❤︎\n"
     ]
    }
   ],
   "source": [
    "data = input(\"알파벳, 숫자 또는 문자 1개 입력 : \").strip()\n",
    "\n",
    "if 'a' <= data <= 'z' or 'A' <= data <= 'Z':\n",
    "    print('★')\n",
    "elif '0' <= data <= '9':\n",
    "    print('❤︎')"
   ]
  },
  {
   "cell_type": "markdown",
   "metadata": {},
   "source": [
    "str 데이터 타입 전용 함수 즉, 메서드 살펴보기"
   ]
  },
  {
   "cell_type": "markdown",
   "metadata": {},
   "source": [
    "[문자열을 구성하는 문자를 검사해주는 메서드]\n",
    " - isXXXX() ---> 결과 논리형 True/False"
   ]
  },
  {
   "cell_type": "markdown",
   "metadata": {},
   "source": [
    "[1] 알파벳으로 구성된 문자열인지 검사 isalpha()"
   ]
  },
  {
   "cell_type": "code",
   "execution_count": 91,
   "metadata": {},
   "outputs": [
    {
     "name": "stdout",
     "output_type": "stream",
     "text": [
      "good => True\n"
     ]
    }
   ],
   "source": [
    "data = \"good\"\n",
    "print(f'{data} => {data.isalpha()}')"
   ]
  },
  {
   "cell_type": "markdown",
   "metadata": {},
   "source": [
    "[2] 알파벳으로 구성된 문자열이 대문자인지 검사 isupper()"
   ]
  },
  {
   "cell_type": "code",
   "execution_count": 95,
   "metadata": {},
   "outputs": [
    {
     "name": "stdout",
     "output_type": "stream",
     "text": [
      "good => False\n",
      "GOOD => True\n",
      "Good => False\n"
     ]
    }
   ],
   "source": [
    "data = \"good\"\n",
    "print(f'{data} => {data.isupper()}')\n",
    "print(f'GOOD => {\"GOOD\".isupper()}')\n",
    "print(f'Good => {\"Good\".isupper()}')"
   ]
  },
  {
   "cell_type": "markdown",
   "metadata": {},
   "source": [
    "[3] 알파벳으로 구성된 문자열이 소문자인지 검사 islower()"
   ]
  },
  {
   "cell_type": "code",
   "execution_count": 97,
   "metadata": {},
   "outputs": [
    {
     "name": "stdout",
     "output_type": "stream",
     "text": [
      "GOOD => False\n",
      "Good => False\n",
      "good => True\n"
     ]
    }
   ],
   "source": [
    "print(f'GOOD => {\"GOOD\".islower()}')\n",
    "print(f'Good => {\"Good\".islower()}')\n",
    "print(f'good => {\"good\".islower()}')"
   ]
  },
  {
   "cell_type": "markdown",
   "metadata": {},
   "source": [
    "[4] 숫자로 구성된 문자열인지 검사 : isdecimal()"
   ]
  },
  {
   "cell_type": "code",
   "execution_count": 101,
   "metadata": {},
   "outputs": [
    {
     "name": "stdout",
     "output_type": "stream",
     "text": [
      "1234 => True\n",
      "Happy1234 => False\n",
      "Happy => False\n"
     ]
    }
   ],
   "source": [
    "print(f'1234 => {\"1234\".isdecimal()}')\n",
    "print(f'Happy1234 => {\"Happy1234\".isdecimal()}')\n",
    "print(f'Happy => {\"Happy\".isdecimal()}')"
   ]
  },
  {
   "cell_type": "markdown",
   "metadata": {},
   "source": [
    "[5] 숫자와 문자가 혼합된 문자열 검사 : isalnum()"
   ]
  },
  {
   "cell_type": "code",
   "execution_count": null,
   "metadata": {},
   "outputs": [],
   "source": [
    "print(f'1234 => {\"1234\".isalnum()}')\n",
    "print(f'Happy1234 => {\"Happy1234\".isalnum()}')\n",
    "print(f'Happy => {\"Happy\".isalnum()}')"
   ]
  },
  {
   "cell_type": "markdown",
   "metadata": {},
   "source": [
    "[6] 공백 문자 여부 검사 : isspace()"
   ]
  },
  {
   "cell_type": "code",
   "execution_count": 102,
   "metadata": {},
   "outputs": [
    {
     "name": "stdout",
     "output_type": "stream",
     "text": [
      "1234 => False\n",
      "     => True\n"
     ]
    }
   ],
   "source": [
    "print(f'1234 => {\"1234\".isspace()}')\n",
    "print(f'     => {\"    \".isspace()}')"
   ]
  },
  {
   "cell_type": "markdown",
   "metadata": {},
   "source": [
    "문자열 구성하는 문자 검사 메서드 => 변수명.isOOO()\n",
    "문자열 내에 숫자 존재여부 체크 메서드들 3종류\n",
    "- 변수명.isnumeric()  : 0~9까지의 숫자, 5¹, 5₁, ①, ➊, ⅒, Ⅳ, ⅳ, 百\n",
    "- 변수명.isdigit()    : 0~9까지의 숫자, 5¹, 5₁, ①, ➊ \n",
    "- 변수명.isdecimal()  : 0~9까지의 숫자  \n",
    "   ==> 실수, 음수, 나머지 : False\n",
    "- isdecimal() < isdigit() < isnumeric()"
   ]
  },
  {
   "cell_type": "markdown",
   "metadata": {},
   "source": [
    "## ex_str_method_04"
   ]
  },
  {
   "cell_type": "markdown",
   "metadata": {},
   "source": [
    "문자열에서 원소/요소 변경해주는 메서드 => replace()"
   ]
  },
  {
   "cell_type": "markdown",
   "metadata": {},
   "source": [
    "인덱스로 요소 변경 ===> ERROR 미지원 기능 : 불변의 시퀀스 타입  \n",
    "msg[1] = 'y' (지원 안함)"
   ]
  },
  {
   "cell_type": "markdown",
   "metadata": {},
   "source": [
    "전용 메서드로 변경"
   ]
  },
  {
   "cell_type": "code",
   "execution_count": 103,
   "metadata": {},
   "outputs": [
    {
     "name": "stdout",
     "output_type": "stream",
     "text": [
      "msg : Pithon --- m1 : Python\n"
     ]
    }
   ],
   "source": [
    "msg = 'Pithon'\n",
    "\n",
    "# 변경 적용 위해서는 반드시 저장!!\n",
    "m1 = msg.replace('i', 'y')\n",
    "print(f'msg : {msg} --- m1 : {m1}')"
   ]
  },
  {
   "cell_type": "markdown",
   "metadata": {},
   "source": [
    "- o ==> O로 변경"
   ]
  },
  {
   "cell_type": "code",
   "execution_count": 109,
   "metadata": {},
   "outputs": [
    {
     "name": "stdout",
     "output_type": "stream",
     "text": [
      "GOOd Happy\n"
     ]
    }
   ],
   "source": [
    "msg = \"Good Happy\"\n",
    "print(msg.replace('o', 'O'))"
   ]
  },
  {
   "cell_type": "markdown",
   "metadata": {},
   "source": [
    "- o ==> O로 1개만 변경"
   ]
  },
  {
   "cell_type": "code",
   "execution_count": 110,
   "metadata": {},
   "outputs": [
    {
     "name": "stdout",
     "output_type": "stream",
     "text": [
      "GOod Happy\n"
     ]
    }
   ],
   "source": [
    "msg = \"Good Happy\"\n",
    "print(msg.replace('o', 'O', 1))"
   ]
  },
  {
   "cell_type": "markdown",
   "metadata": {},
   "source": [
    "## ex_str_method_05"
   ]
  },
  {
   "cell_type": "markdown",
   "metadata": {},
   "source": [
    "[1개 문자열을 여러개 문자열로 분리해주는 메서드 split()]\n",
    " - 분리기준 -> 기본값 : 공백"
   ]
  },
  {
   "cell_type": "code",
   "execution_count": 117,
   "metadata": {},
   "outputs": [
    {
     "name": "stdout",
     "output_type": "stream",
     "text": [
      "result => <class 'list'>, ['Happy', 'New', 'Year']\n"
     ]
    }
   ],
   "source": [
    "msg = \" Happy New Year \"\n",
    "\n",
    "result = msg.split()\n",
    "print(f'result => {type(result)}, {result}')"
   ]
  },
  {
   "cell_type": "code",
   "execution_count": 118,
   "metadata": {},
   "outputs": [
    {
     "name": "stdout",
     "output_type": "stream",
     "text": [
      "result => <class 'list'>, ['010', '2222', '3333']\n"
     ]
    }
   ],
   "source": [
    "phone = '010-2222-3333'\n",
    "\n",
    "presult = phone.split('-')\n",
    "print(f'result => {type(presult)}, {presult}')"
   ]
  },
  {
   "cell_type": "code",
   "execution_count": 119,
   "metadata": {},
   "outputs": [
    {
     "name": "stdout",
     "output_type": "stream",
     "text": [
      "result => <class 'list'>, ['오늘은 날씨가 좋군요', ' 내일도 날씨가 좋을까요?']\n"
     ]
    }
   ],
   "source": [
    "msg = '오늘은 날씨가 좋군요. 내일도 날씨가 좋을까요?'\n",
    "\n",
    "result = msg.split('.')\n",
    "print(f'result => {type(result)}, {result}')"
   ]
  },
  {
   "cell_type": "markdown",
   "metadata": {},
   "source": [
    "[여러개 문자열을 1개 문자열로 합쳐주는 메서드 join()]\n",
    " - 합칠문자.join(여러개 문자열)"
   ]
  },
  {
   "cell_type": "code",
   "execution_count": 125,
   "metadata": {},
   "outputs": [
    {
     "name": "stdout",
     "output_type": "stream",
     "text": [
      "010 * 2222 * 3333\n"
     ]
    }
   ],
   "source": [
    "phone = '010-2222-3333'\n",
    "presult = phone.split('-')\n",
    "\n",
    "con = ' * '\n",
    "\n",
    "phone2 = con.join(presult)\n",
    "print(phone2)"
   ]
  },
  {
   "cell_type": "code",
   "execution_count": 126,
   "metadata": {},
   "outputs": [
    {
     "name": "stdout",
     "output_type": "stream",
     "text": [
      "010_2222_3333\n"
     ]
    }
   ],
   "source": [
    "phone = '010-2222-3333'\n",
    "presult = phone.split('-')\n",
    "\n",
    "con = '_'\n",
    "\n",
    "phone2 = con.join(presult)\n",
    "print(phone2)"
   ]
  },
  {
   "cell_type": "code",
   "execution_count": 127,
   "metadata": {},
   "outputs": [
    {
     "name": "stdout",
     "output_type": "stream",
     "text": [
      "010/2222/3333\n"
     ]
    }
   ],
   "source": [
    "phone = '010-2222-3333'\n",
    "presult = phone.split('-')\n",
    "\n",
    "con = '/'\n",
    "\n",
    "phone2 = con.join(presult)\n",
    "print(phone2)"
   ]
  },
  {
   "cell_type": "code",
   "execution_count": null,
   "metadata": {},
   "outputs": [],
   "source": []
  }
 ],
 "metadata": {
  "kernelspec": {
   "display_name": "Python 3",
   "language": "python",
   "name": "python3"
  },
  "language_info": {
   "codemirror_mode": {
    "name": "ipython",
    "version": 3
   },
   "file_extension": ".py",
   "mimetype": "text/x-python",
   "name": "python",
   "nbconvert_exporter": "python",
   "pygments_lexer": "ipython3",
   "version": "3.12.2"
  }
 },
 "nbformat": 4,
 "nbformat_minor": 2
}
