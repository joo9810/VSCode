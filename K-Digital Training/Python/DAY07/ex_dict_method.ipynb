{
 "cells": [
  {
   "cell_type": "markdown",
   "metadata": {},
   "source": [
    "Dict 전용 함수 즉, 메서드  \n",
    "-> keys(), values(), items()"
   ]
  },
  {
   "cell_type": "markdown",
   "metadata": {},
   "source": [
    "[메서드 - 값 읽어오는 메서드 get(key)]"
   ]
  },
  {
   "cell_type": "code",
   "execution_count": 3,
   "metadata": {},
   "outputs": [
    {
     "name": "stdout",
     "output_type": "stream",
     "text": [
      "홍길동\n"
     ]
    }
   ],
   "source": [
    "person = {'name' : '홍길동', 'age' : 10}\n",
    "\n",
    "print(person['name'])\n",
    "# print(person['gender']) # KeyError"
   ]
  },
  {
   "cell_type": "markdown",
   "metadata": {},
   "source": [
    " - key에 해당하는 value가 없으면 default 반환"
   ]
  },
  {
   "cell_type": "code",
   "execution_count": 6,
   "metadata": {},
   "outputs": [
    {
     "name": "stdout",
     "output_type": "stream",
     "text": [
      "홍길동\n",
      "없음\n",
      "None\n"
     ]
    }
   ],
   "source": [
    "print(person.get('name'))\n",
    "print(person.get('gender', '없음'))\n",
    "print(person.get('gender'))"
   ]
  },
  {
   "cell_type": "code",
   "execution_count": 8,
   "metadata": {},
   "outputs": [
    {
     "name": "stdout",
     "output_type": "stream",
     "text": [
      "{'name': '홍길동', 'age': 10, 'gender': '남'}\n"
     ]
    }
   ],
   "source": [
    "person = {'name' : '홍길동', 'age' : 10}\n",
    "\n",
    "person['gender'] = '남'\n",
    "\n",
    "print(person)"
   ]
  },
  {
   "cell_type": "code",
   "execution_count": 13,
   "metadata": {},
   "outputs": [
    {
     "name": "stdout",
     "output_type": "stream",
     "text": [
      "u 1\n",
      "d 1\n",
      "k 1\n",
      "l 2\n",
      "o 3\n",
      "L 1\n",
      "H 1\n",
      "c 1\n",
      "G 1\n",
      "  2\n",
      "e 1\n",
      "{'u': 1, 'd': 1, 'k': 1, 'l': 2, 'o': 3, 'L': 1, 'H': 1, 'c': 1, 'G': 1, ' ': 2, 'e': 1}\n"
     ]
    }
   ],
   "source": [
    "msg = 'Hello Good Luck'\n",
    "alpha = set(msg)\n",
    "save = {}\n",
    "\n",
    "for i in alpha:\n",
    "    print(i, msg.count(i))\n",
    "    save[i] = msg.count(i)\n",
    "\n",
    "print(save)"
   ]
  },
  {
   "cell_type": "markdown",
   "metadata": {},
   "source": [
    "[메서드 - 수정 및 추가 업데이트 메서드 update(k=v)]  \n",
    "수정 / 업데이트"
   ]
  },
  {
   "cell_type": "code",
   "execution_count": 18,
   "metadata": {},
   "outputs": [
    {
     "name": "stdout",
     "output_type": "stream",
     "text": [
      "{'name': '홍길동', 'age': 10, 'gender': '어린이'}\n",
      "{'name': '홍길동', 'age': 10, 'gender': '어린이', 'job': '학생'}\n",
      "{'name': '홍길동', 'age': 10, 'gender': '어린이', 'job': '학생', 'phone': '010', 'birth': '240101'}\n",
      "{'name': '홍길동', 'age': 10, 'gender': '어린이', 'job': '학생', 'phone': '010', 'birth': '240101', 'weight': 100, 'height': 170}\n"
     ]
    }
   ],
   "source": [
    "person = {'name': '홍길동', 'age': 10, 'gender': '남'}\n",
    "\n",
    "person.update(gender = '어린이')\n",
    "print(person)\n",
    "\n",
    "person.update(gender = '어린이', job = '학생')\n",
    "print(person)\n",
    "\n",
    "person.update({'phone' : '010', 'birth' : '240101'})\n",
    "print(person)\n",
    "\n",
    "person.update(**{'weight' : 100, 'height' : 170})\n",
    "print(person)"
   ]
  },
  {
   "cell_type": "markdown",
   "metadata": {},
   "source": []
  },
  {
   "cell_type": "code",
   "execution_count": null,
   "metadata": {},
   "outputs": [],
   "source": []
  }
 ],
 "metadata": {
  "kernelspec": {
   "display_name": "Python 3",
   "language": "python",
   "name": "python3"
  },
  "language_info": {
   "codemirror_mode": {
    "name": "ipython",
    "version": 3
   },
   "file_extension": ".py",
   "mimetype": "text/x-python",
   "name": "python",
   "nbconvert_exporter": "python",
   "pygments_lexer": "ipython3",
   "version": "3.12.2"
  }
 },
 "nbformat": 4,
 "nbformat_minor": 2
}
