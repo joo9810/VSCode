{
 "cells": [
  {
   "cell_type": "markdown",
   "metadata": {},
   "source": [
    "List/Set/Dict 자료형과 반복문, 조건부 표현식 결합\n",
    " - 메모리 사용량 감소 & 속도 빠름"
   ]
  },
  {
   "cell_type": "markdown",
   "metadata": {},
   "source": [
    "[실습] A 리스트의 데이터를 B 리스트에 담기  \n",
    "단, A 리스트에서 짝수값은 3을 곱하고, 홀수값은 그대로 해서 B 리스트에 담기"
   ]
  },
  {
   "cell_type": "code",
   "execution_count": 3,
   "metadata": {},
   "outputs": [
    {
     "name": "stdout",
     "output_type": "stream",
     "text": [
      "a => [1, 2, 3, 4, 5, 6]\n",
      "b => [1, 6, 3, 12, 5, 18]\n"
     ]
    }
   ],
   "source": [
    "a = [1, 2, 3, 4, 5, 6]\n",
    "\n",
    "b = []\n",
    "\n",
    "for num in a:\n",
    "    if num % 2 == 1:\n",
    "        b.append(num)\n",
    "    else:\n",
    "        b.append(num * 3)\n",
    "\n",
    "print(f'a => {a}\\nb => {b}')"
   ]
  },
  {
   "cell_type": "markdown",
   "metadata": {},
   "source": [
    "[1] 모든 원소를 새로운 리스트에 담기"
   ]
  },
  {
   "cell_type": "code",
   "execution_count": 8,
   "metadata": {},
   "outputs": [
    {
     "name": "stdout",
     "output_type": "stream",
     "text": [
      "a => [1, 2, 3, 4, 5, 6]\n",
      "c => [1, 2, 3, 4, 5, 6]\n"
     ]
    }
   ],
   "source": [
    "c = [num for num in a]\n",
    "\n",
    "print(f'a => {a}\\nc => {c}')"
   ]
  },
  {
   "cell_type": "markdown",
   "metadata": {},
   "source": [
    "[2] 짝수 데이터만 새로운 리스트 c에 담기"
   ]
  },
  {
   "cell_type": "code",
   "execution_count": 13,
   "metadata": {},
   "outputs": [
    {
     "name": "stdout",
     "output_type": "stream",
     "text": [
      "a => [1, 2, 3, 4, 5, 6]\n",
      "c => [6, 12, 18]\n"
     ]
    }
   ],
   "source": [
    "c = [num * 3 for num in a if num % 2 == 0]\n",
    "\n",
    "print(f'a => {a}\\nc => {c}')"
   ]
  },
  {
   "cell_type": "markdown",
   "metadata": {},
   "source": [
    "[3] 짝수 데이터는 3을 곱하고 홀수 데이터는 그대로 새로운 리스트 c에 담기"
   ]
  },
  {
   "cell_type": "code",
   "execution_count": 12,
   "metadata": {},
   "outputs": [
    {
     "name": "stdout",
     "output_type": "stream",
     "text": [
      "a => [1, 2, 3, 4, 5, 6]\n",
      "b => [1, 6, 3, 12, 5, 18]\n",
      "c => [1, 6, 3, 12, 5, 18]\n"
     ]
    }
   ],
   "source": [
    "c = [num * 3 if num % 2 == 0 else num for num in a]\n",
    "\n",
    "print(f'a => {a}\\nb => {b}\\nc => {c}')"
   ]
  },
  {
   "cell_type": "code",
   "execution_count": null,
   "metadata": {},
   "outputs": [],
   "source": []
  }
 ],
 "metadata": {
  "kernelspec": {
   "display_name": "Python 3",
   "language": "python",
   "name": "python3"
  },
  "language_info": {
   "codemirror_mode": {
    "name": "ipython",
    "version": 3
   },
   "file_extension": ".py",
   "mimetype": "text/x-python",
   "name": "python",
   "nbconvert_exporter": "python",
   "pygments_lexer": "ipython3",
   "version": "3.12.2"
  }
 },
 "nbformat": 4,
 "nbformat_minor": 2
}
