{
 "cells": [
  {
   "cell_type": "markdown",
   "metadata": {},
   "source": [
    "모듈 : 변수, 함수, 클래스가 들어있는 파이썬 파일  \n",
    "패키지 : 동일한 목적의 모듈들을 모은 것  \n",
    "패키지 안에는 여러개의 모듈 파일들이 존재  \n",
    "모듈 사용법 : import 모듈파일명    <-- 확장자 제외"
   ]
  },
  {
   "cell_type": "code",
   "execution_count": 1,
   "metadata": {},
   "outputs": [],
   "source": [
    "import random as rd"
   ]
  },
  {
   "cell_type": "markdown",
   "metadata": {},
   "source": [
    "임의의 숫자를 생성 추출하기  \n",
    "임의의 숫자 10개 생성"
   ]
  },
  {
   "cell_type": "markdown",
   "metadata": {},
   "source": [
    " -> random() : 0.0 <= ~ <= 1.0"
   ]
  },
  {
   "cell_type": "code",
   "execution_count": 2,
   "metadata": {},
   "outputs": [
    {
     "name": "stdout",
     "output_type": "stream",
     "text": [
      "9\n",
      "7\n",
      "6\n",
      "7\n",
      "5\n",
      "1\n",
      "7\n",
      "0\n",
      "0\n",
      "8\n"
     ]
    }
   ],
   "source": [
    "for i in range(10):\n",
    "    print(int(rd.random() * 10))"
   ]
  },
  {
   "cell_type": "markdown",
   "metadata": {},
   "source": [
    " -> randint(a, b) : a <= ~ <= b"
   ]
  },
  {
   "cell_type": "code",
   "execution_count": 3,
   "metadata": {},
   "outputs": [
    {
     "name": "stdout",
     "output_type": "stream",
     "text": [
      "1\n",
      "0\n",
      "0\n",
      "0\n",
      "1\n",
      "1\n",
      "0\n",
      "1\n",
      "1\n",
      "1\n"
     ]
    }
   ],
   "source": [
    "for i in range(10):\n",
    "    print(rd.randint(0, 1))"
   ]
  },
  {
   "cell_type": "markdown",
   "metadata": {},
   "source": [
    "[실습] 로또 프로그램을 만들어주세요."
   ]
  },
  {
   "cell_type": "code",
   "execution_count": 4,
   "metadata": {},
   "outputs": [
    {
     "name": "stdout",
     "output_type": "stream",
     "text": [
      "[1, 15, 32, 36, 45, 28]\n"
     ]
    }
   ],
   "source": [
    "data = [0, 0, 0, 0, 0, 0]\n",
    "\n",
    "cnt = 0\n",
    "\n",
    "while cnt < 6:\n",
    "    num = rd.randint(1, 45)\n",
    "    if num in data:\n",
    "        continue\n",
    "    else:\n",
    "        data[cnt] = num\n",
    "        cnt += 1\n",
    "\n",
    "print(data)"
   ]
  },
  {
   "cell_type": "code",
   "execution_count": 9,
   "metadata": {},
   "outputs": [
    {
     "name": "stdout",
     "output_type": "stream",
     "text": [
      "[1, 2, 5, 6, 37, 15]\n"
     ]
    }
   ],
   "source": [
    "lotto = set()\n",
    "\n",
    "while len(lotto) < 6:\n",
    "    num = rd.randint(1, 45)\n",
    "    num_set = set([num])\n",
    "    lotto = lotto.union(num_set)\n",
    "\n",
    "print(list(lotto))"
   ]
  },
  {
   "cell_type": "markdown",
   "metadata": {},
   "source": [
    "set 타입의 add() 메서드 : 원소 추가, 중복 시 추가 X"
   ]
  },
  {
   "cell_type": "code",
   "execution_count": 8,
   "metadata": {},
   "outputs": [
    {
     "name": "stdout",
     "output_type": "stream",
     "text": [
      "[34, 3, 8, 43, 18, 29]\n"
     ]
    }
   ],
   "source": [
    "lotto = set()\n",
    "while len(lotto) < 6:\n",
    "    num = rd.randint(1, 45)\n",
    "    lotto.add(num)\n",
    "print(list(lotto))"
   ]
  },
  {
   "cell_type": "code",
   "execution_count": null,
   "metadata": {},
   "outputs": [],
   "source": []
  }
 ],
 "metadata": {
  "kernelspec": {
   "display_name": "Python 3",
   "language": "python",
   "name": "python3"
  },
  "language_info": {
   "codemirror_mode": {
    "name": "ipython",
    "version": 3
   },
   "file_extension": ".py",
   "mimetype": "text/x-python",
   "name": "python",
   "nbconvert_exporter": "python",
   "pygments_lexer": "ipython3",
   "version": "3.12.2"
  }
 },
 "nbformat": 4,
 "nbformat_minor": 2
}
