{
 "cells": [
  {
   "cell_type": "markdown",
   "metadata": {},
   "source": [
    "# ex_set_01"
   ]
  },
  {
   "cell_type": "markdown",
   "metadata": {},
   "source": [
    "##### Set 자료형 살펴보기\n",
    " - 여러 가지 종류의 여러 개 데이터를 저장\n",
    " - 단! 중복 안됨!!!\n",
    " - 컬렉션 타입의 데이터 저장 시 Tuple 가능\n",
    " - 형태 : {데이터1, 데이터2, ..., 데이터n}"
   ]
  },
  {
   "cell_type": "markdown",
   "metadata": {},
   "source": [
    "[Set 생성]"
   ]
  },
  {
   "cell_type": "code",
   "execution_count": 1,
   "metadata": {},
   "outputs": [
    {
     "name": "stdout",
     "output_type": "stream",
     "text": [
      "data의 타입 : <class 'set'>, 원소/요소 개수 : 0개, 데이터 : set()\n"
     ]
    }
   ],
   "source": [
    "data = [] # 비어있는 List\n",
    "data = () # 비어있는 Tuple\n",
    "data = {} # 비어있는 Dict\n",
    "data = set() # 비어있는 Set\n",
    "\n",
    "print(f'data의 타입 : {type(data)}, 원소/요소 개수 : {len(data)}개, 데이터 : {data}')"
   ]
  },
  {
   "cell_type": "code",
   "execution_count": 3,
   "metadata": {},
   "outputs": [
    {
     "name": "stdout",
     "output_type": "stream",
     "text": [
      "data의 타입 : <class 'set'>, 원소/요소 개수 : 4개, 데이터 : {10, 20, 30, -9}\n"
     ]
    }
   ],
   "source": [
    "# 여러개 데이터 저장한 set\n",
    "data = {10, 30, 20, -9, 10, 30, 10, 30, 10, 10}\n",
    "\n",
    "print(f'data의 타입 : {type(data)}, 원소/요소 개수 : {len(data)}개, 데이터 : {data}')\n",
    "# 중복된 거 빼고 생성"
   ]
  },
  {
   "cell_type": "code",
   "execution_count": 4,
   "metadata": {},
   "outputs": [
    {
     "name": "stdout",
     "output_type": "stream",
     "text": [
      "data의 타입 : <class 'set'>, 원소/요소 개수 : 5개, 데이터 : {True, '10', 'Apple', 9.34, 10}\n"
     ]
    }
   ],
   "source": [
    "data = {9.34, 'Apple', 10, True, '10'}\n",
    "print(f'data의 타입 : {type(data)}, 원소/요소 개수 : {len(data)}개, 데이터 : {data}')\n",
    "# 10과 '10'은 서로 다른 데이터라 모두 출력"
   ]
  },
  {
   "cell_type": "code",
   "execution_count": 5,
   "metadata": {},
   "outputs": [
    {
     "ename": "TypeError",
     "evalue": "unhashable type: 'list'",
     "output_type": "error",
     "traceback": [
      "\u001b[0;31m---------------------------------------------------------------------------\u001b[0m",
      "\u001b[0;31mTypeError\u001b[0m                                 Traceback (most recent call last)",
      "Cell \u001b[0;32mIn[5], line 1\u001b[0m\n\u001b[0;32m----> 1\u001b[0m data \u001b[38;5;241m=\u001b[39m {\u001b[38;5;241m1\u001b[39m, \u001b[38;5;241m2\u001b[39m, \u001b[38;5;241m3\u001b[39m, [\u001b[38;5;241m1\u001b[39m, \u001b[38;5;241m2\u001b[39m, \u001b[38;5;241m3\u001b[39m]}\n\u001b[1;32m      2\u001b[0m \u001b[38;5;28mprint\u001b[39m(\u001b[38;5;124mf\u001b[39m\u001b[38;5;124m'\u001b[39m\u001b[38;5;124mdata의 타입 : \u001b[39m\u001b[38;5;132;01m{\u001b[39;00m\u001b[38;5;28mtype\u001b[39m(data)\u001b[38;5;132;01m}\u001b[39;00m\u001b[38;5;124m, 원소/요소 개수 : \u001b[39m\u001b[38;5;132;01m{\u001b[39;00m\u001b[38;5;28mlen\u001b[39m(data)\u001b[38;5;132;01m}\u001b[39;00m\u001b[38;5;124m개, 데이터 : \u001b[39m\u001b[38;5;132;01m{\u001b[39;00mdata\u001b[38;5;132;01m}\u001b[39;00m\u001b[38;5;124m'\u001b[39m)\n",
      "\u001b[0;31mTypeError\u001b[0m: unhashable type: 'list'"
     ]
    }
   ],
   "source": [
    "data = {1, 2, 3, [1, 2, 3]}\n",
    "print(f'data의 타입 : {type(data)}, 원소/요소 개수 : {len(data)}개, 데이터 : {data}')\n",
    "# List 타입은 변환 가능한 타입이기 때문에 Set에 넣을 수 없다.\n",
    "# List가 아닌 Tuple 타입으로 넣어야 한다."
   ]
  },
  {
   "cell_type": "code",
   "execution_count": 6,
   "metadata": {},
   "outputs": [
    {
     "name": "stdout",
     "output_type": "stream",
     "text": [
      "data의 타입 : <class 'set'>, 원소/요소 개수 : 4개, 데이터 : {1, 2, 3, (1, 2, 3)}\n"
     ]
    }
   ],
   "source": [
    "data = {1, 2, 3, (1, 2, 3)} # Tuple로 넣으면 오류가 나지 않음\n",
    "print(f'data의 타입 : {type(data)}, 원소/요소 개수 : {len(data)}개, 데이터 : {data}')"
   ]
  },
  {
   "cell_type": "code",
   "execution_count": 7,
   "metadata": {},
   "outputs": [
    {
     "name": "stdout",
     "output_type": "stream",
     "text": [
      "data의 타입 : <class 'set'>, 원소/요소 개수 : 3개, 데이터 : {1, 2, 3}\n"
     ]
    }
   ],
   "source": [
    "data = {1, 2, 3, (1)}\n",
    "print(f'data의 타입 : {type(data)}, 원소/요소 개수 : {len(data)}개, 데이터 : {data}')\n",
    "# 1과 (1)은 똑같기 때문에 하나만 출력"
   ]
  },
  {
   "cell_type": "code",
   "execution_count": 8,
   "metadata": {},
   "outputs": [
    {
     "name": "stdout",
     "output_type": "stream",
     "text": [
      "data의 타입 : <class 'set'>, 원소/요소 개수 : 4개, 데이터 : {1, 2, 3, (1,)}\n"
     ]
    }
   ],
   "source": [
    "data = {1, 2, 3, (1,)}\n",
    "print(f'data의 타입 : {type(data)}, 원소/요소 개수 : {len(data)}개, 데이터 : {data}')\n",
    "# 1(int)과 (1,)(tuple)은 다르기 때문에 모두 출력"
   ]
  },
  {
   "cell_type": "code",
   "execution_count": 10,
   "metadata": {},
   "outputs": [
    {
     "name": "stdout",
     "output_type": "stream",
     "text": [
      "data의 타입 : <class 'set'>, 원소/요소 개수 : 3개, 데이터 : {1, 2, 3}\n"
     ]
    }
   ],
   "source": [
    "data = {1, 2, 3, (1,)[0]}\n",
    "print(f'data의 타입 : {type(data)}, 원소/요소 개수 : {len(data)}개, 데이터 : {data}')\n",
    "# 1(int)과 (1,)[0] == 1(int)은 똑같기 때문에 하나만 출력"
   ]
  },
  {
   "cell_type": "code",
   "execution_count": 11,
   "metadata": {},
   "outputs": [
    {
     "ename": "TypeError",
     "evalue": "unhashable type: 'set'",
     "output_type": "error",
     "traceback": [
      "\u001b[0;31m---------------------------------------------------------------------------\u001b[0m",
      "\u001b[0;31mTypeError\u001b[0m                                 Traceback (most recent call last)",
      "Cell \u001b[0;32mIn[11], line 2\u001b[0m\n\u001b[1;32m      1\u001b[0m data \u001b[38;5;241m=\u001b[39m {\u001b[38;5;241m1\u001b[39m, \u001b[38;5;241m2\u001b[39m, \u001b[38;5;241m3\u001b[39m, (\u001b[38;5;241m1\u001b[39m,)[\u001b[38;5;241m0\u001b[39m]}\n\u001b[0;32m----> 2\u001b[0m data2 \u001b[38;5;241m=\u001b[39m {\u001b[38;5;241m1\u001b[39m, \u001b[38;5;241m2\u001b[39m, \u001b[38;5;241m3\u001b[39m, data}\n\u001b[1;32m      3\u001b[0m \u001b[38;5;66;03m# Set에는 Tuple이 와야 하므로 Set 타입인 data가 들어올 수 없다.\u001b[39;00m\n",
      "\u001b[0;31mTypeError\u001b[0m: unhashable type: 'set'"
     ]
    }
   ],
   "source": [
    "data = {1, 2, 3, (1,)[0]}\n",
    "data2 = {1, 2, 3, data}\n",
    "# Set에는 Tuple이 와야 하므로 Set 타입인 data가 들어올 수 없다.\n",
    "# Set 자체는 값을 바꿀 수 있지만\n",
    "# Set에 들어오는 요소 하나 하나는 값을 변경할 수 없는 데이터가 들어와야 한다. "
   ]
  },
  {
   "cell_type": "code",
   "execution_count": 18,
   "metadata": {},
   "outputs": [],
   "source": [
    "# set() 내장함수\n",
    "data = {1, 2, 3}\n",
    "data = set()     # Empty Set\n",
    "data = set({1, 2, 3}) # data = {1, 2, 3}과 동일"
   ]
  },
  {
   "cell_type": "code",
   "execution_count": 17,
   "metadata": {},
   "outputs": [
    {
     "name": "stdout",
     "output_type": "stream",
     "text": [
      "{'o', 'G', 'd'}\n"
     ]
    }
   ],
   "source": [
    "# 다양한 타입 ===> set 변환\n",
    "data = set([1, 2, 1, 2, 3])\n",
    "\n",
    "data = set(\"Good\") # str은 시퀀스 데이터 타입\n",
    "# \"G\", \"o\", \"o\", \"d\" 중에 \"o\"는 한 번만 출력\n",
    "print(data)"
   ]
  },
  {
   "cell_type": "code",
   "execution_count": 14,
   "metadata": {},
   "outputs": [
    {
     "name": "stdout",
     "output_type": "stream",
     "text": [
      "['G', 'o', 'o', 'd']\n"
     ]
    }
   ],
   "source": [
    "data = list(\"Good\")\n",
    "print(data)"
   ]
  },
  {
   "cell_type": "code",
   "execution_count": 15,
   "metadata": {},
   "outputs": [
    {
     "name": "stdout",
     "output_type": "stream",
     "text": [
      "{'name', 'age'}\n"
     ]
    }
   ],
   "source": [
    "data = set({'name' : '홍길동', 'age' : 12})\n",
    "print(data) # Key값만 집합으로 생성 됨"
   ]
  },
  {
   "cell_type": "code",
   "execution_count": 16,
   "metadata": {},
   "outputs": [
    {
     "name": "stdout",
     "output_type": "stream",
     "text": [
      "{'name', 'age'}\n"
     ]
    }
   ],
   "source": [
    "data = set({'name' : '홍길동', 'age' : 12, 'name' : '베트맨'})\n",
    "print(data) # Key 중에 name은 중복이기 때문에 하나만 출력"
   ]
  },
  {
   "cell_type": "code",
   "execution_count": 19,
   "metadata": {},
   "outputs": [
    {
     "name": "stdout",
     "output_type": "stream",
     "text": [
      "{1, 2}\n"
     ]
    }
   ],
   "source": [
    "data = set((1, 2, 1, 2, 1))\n",
    "print(data)# 튜플도 중복이면 생략하고 출력"
   ]
  },
  {
   "cell_type": "markdown",
   "metadata": {},
   "source": [
    "# ex_set_02"
   ]
  },
  {
   "cell_type": "markdown",
   "metadata": {},
   "source": [
    "##### Set 자료형 살펴보기\n",
    " - 연산자"
   ]
  },
  {
   "cell_type": "code",
   "execution_count": 9,
   "metadata": {},
   "outputs": [
    {
     "ename": "TypeError",
     "evalue": "unsupported operand type(s) for +: 'set' and 'set'",
     "output_type": "error",
     "traceback": [
      "\u001b[0;31m---------------------------------------------------------------------------\u001b[0m",
      "\u001b[0;31mTypeError\u001b[0m                                 Traceback (most recent call last)",
      "Cell \u001b[0;32mIn[9], line 5\u001b[0m\n\u001b[1;32m      2\u001b[0m d2 \u001b[38;5;241m=\u001b[39m {\u001b[38;5;241m1\u001b[39m, \u001b[38;5;241m3\u001b[39m, \u001b[38;5;241m5\u001b[39m, \u001b[38;5;241m7\u001b[39m, \u001b[38;5;241m2\u001b[39m, \u001b[38;5;241m4\u001b[39m, \u001b[38;5;241m6\u001b[39m, \u001b[38;5;241m8\u001b[39m}\n\u001b[1;32m      4\u001b[0m \u001b[38;5;66;03m# 덧셈 연산\u001b[39;00m\n\u001b[0;32m----> 5\u001b[0m \u001b[38;5;28mprint\u001b[39m(\u001b[43md1\u001b[49m\u001b[43m \u001b[49m\u001b[38;5;241;43m+\u001b[39;49m\u001b[43m \u001b[49m\u001b[43md2\u001b[49m) \u001b[38;5;66;03m# 지원하지 않음\u001b[39;00m\n",
      "\u001b[0;31mTypeError\u001b[0m: unsupported operand type(s) for +: 'set' and 'set'"
     ]
    }
   ],
   "source": [
    "d1 = {1, 3, 5, 7}\n",
    "d2 = {1, 3, 5, 7, 2, 4, 6, 8}\n",
    "\n",
    "# 덧셈 연산\n",
    "print(d1 + d2) # 지원하지 않음"
   ]
  },
  {
   "cell_type": "code",
   "execution_count": 10,
   "metadata": {},
   "outputs": [
    {
     "name": "stdout",
     "output_type": "stream",
     "text": [
      "{1, 2, 3, 4, 5, 6, 7, 8} {1, 2, 3, 4, 5, 6, 7, 8}\n"
     ]
    }
   ],
   "source": [
    "# 합집합\n",
    "print(d1.union(d2), d1 | d2)"
   ]
  },
  {
   "cell_type": "code",
   "execution_count": 11,
   "metadata": {},
   "outputs": [
    {
     "name": "stdout",
     "output_type": "stream",
     "text": [
      "{1, 3, 5, 7} {1, 3, 5, 7}\n"
     ]
    }
   ],
   "source": [
    "# 교집합\n",
    "print(d1.intersection(d2), d1 & d2)"
   ]
  },
  {
   "cell_type": "code",
   "execution_count": 13,
   "metadata": {},
   "outputs": [
    {
     "name": "stdout",
     "output_type": "stream",
     "text": [
      "{8, 2, 4, 6} {8, 2, 4, 6}\n"
     ]
    }
   ],
   "source": [
    "# 차집합\n",
    "print(d2.difference(d1), d2 - d1)"
   ]
  },
  {
   "cell_type": "code",
   "execution_count": null,
   "metadata": {},
   "outputs": [],
   "source": []
  }
 ],
 "metadata": {
  "kernelspec": {
   "display_name": "Python 3",
   "language": "python",
   "name": "python3"
  },
  "language_info": {
   "codemirror_mode": {
    "name": "ipython",
    "version": 3
   },
   "file_extension": ".py",
   "mimetype": "text/x-python",
   "name": "python",
   "nbconvert_exporter": "python",
   "pygments_lexer": "ipython3",
   "version": "3.12.2"
  }
 },
 "nbformat": 4,
 "nbformat_minor": 2
}
