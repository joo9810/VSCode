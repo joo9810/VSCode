{
 "cells": [
  {
   "cell_type": "markdown",
   "metadata": {},
   "source": [
    "## ex_func_01"
   ]
  },
  {
   "cell_type": "markdown",
   "metadata": {},
   "source": [
    "함수(Function) 이해 및 활용"
   ]
  },
  {
   "cell_type": "markdown",
   "metadata": {},
   "source": [
    "함수 기능 : 3개의 정수를 덧셈한 후 결과를 반환하는 함수  \n",
    "함수 이름 : add3  \n",
    "매개 변수 : num1, num2, num3  \n",
    "함수 결과 : 정수 result  "
   ]
  },
  {
   "cell_type": "code",
   "execution_count": 4,
   "metadata": {},
   "outputs": [],
   "source": [
    "def add3(num1, num2, num3):\n",
    "    result = num1 + num2 + num3\n",
    "    return result"
   ]
  },
  {
   "cell_type": "code",
   "execution_count": 5,
   "metadata": {},
   "outputs": [
    {
     "name": "stdout",
     "output_type": "stream",
     "text": [
      "6\n"
     ]
    }
   ],
   "source": [
    "value = add3(1, 2, 3)\n",
    "\n",
    "print(value)"
   ]
  },
  {
   "cell_type": "markdown",
   "metadata": {},
   "source": [
    "함수 기능 : 3개의 정수를 곱셈한 후 결과를 반환하는 함수  \n",
    "함수 이름 : multi3  \n",
    "매개 변수 : num1, num2, num3  \n",
    "함수 결과 : 정수 result  "
   ]
  },
  {
   "cell_type": "code",
   "execution_count": 6,
   "metadata": {},
   "outputs": [],
   "source": [
    "def multi3(num1, num2, num3):\n",
    "    result = num1 * num2 * num3\n",
    "    return result"
   ]
  },
  {
   "cell_type": "code",
   "execution_count": 7,
   "metadata": {},
   "outputs": [
    {
     "name": "stdout",
     "output_type": "stream",
     "text": [
      "150\n"
     ]
    }
   ],
   "source": [
    "print(multi3(3 ,5, 10))"
   ]
  },
  {
   "cell_type": "markdown",
   "metadata": {},
   "source": [
    "함수 기능 : 2개의 정수를 나눗셈 한 후 결과를 출력하는 함수  \n",
    "함수 이름 : div  \n",
    "매개 변수 : num1, num2  \n",
    "함수 결과 : None  "
   ]
  },
  {
   "cell_type": "code",
   "execution_count": 8,
   "metadata": {},
   "outputs": [],
   "source": [
    "def div(num1, num2):\n",
    "    if not num2:\n",
    "        result = '0으로 나눌 수 없음'\n",
    "    else:\n",
    "        result = num1 / num2\n",
    "    print(f'{num1}/{num2} = {result}')"
   ]
  },
  {
   "cell_type": "code",
   "execution_count": 9,
   "metadata": {},
   "outputs": [
    {
     "name": "stdout",
     "output_type": "stream",
     "text": [
      "10/3 = 3.3333333333333335\n"
     ]
    }
   ],
   "source": [
    "div(10, 3)"
   ]
  },
  {
   "cell_type": "markdown",
   "metadata": {},
   "source": [
    "나눗셈하기"
   ]
  },
  {
   "cell_type": "code",
   "execution_count": 10,
   "metadata": {},
   "outputs": [
    {
     "name": "stdout",
     "output_type": "stream",
     "text": [
      "3/4 = 0.75\n",
      "None\n"
     ]
    }
   ],
   "source": [
    "value1 = div(3, 4)\n",
    "\n",
    "print(value1)"
   ]
  },
  {
   "cell_type": "markdown",
   "metadata": {},
   "source": [
    "함수(Function) 이해 및 활용\n",
    "함수기반 계산기 프로그램\n",
    " - 4칙 연산 기능별 함수 생성 => 덧셈, 뺄셈, 곱셈, 나눗셈\n",
    " - 2개 정수만 계산"
   ]
  },
  {
   "cell_type": "code",
   "execution_count": 11,
   "metadata": {},
   "outputs": [],
   "source": [
    "def add(num1, num2):\n",
    "    return num1 + num2\n",
    "\n",
    "def minus(num1, num2):\n",
    "    return num1 - num2\n",
    "\n",
    "def multi(num1, num2):\n",
    "    return num1 * num2\n",
    "\n",
    "def div(num1, num2):\n",
    "    return num1 / num2"
   ]
  },
  {
   "cell_type": "code",
   "execution_count": 12,
   "metadata": {},
   "outputs": [
    {
     "name": "stdout",
     "output_type": "stream",
     "text": [
      "3\n",
      "-1\n",
      "2\n",
      "0.5\n"
     ]
    }
   ],
   "source": [
    "print(add(1, 2))\n",
    "print(minus(1, 2))\n",
    "print(multi(1, 2))\n",
    "print(div(1, 2))"
   ]
  },
  {
   "cell_type": "markdown",
   "metadata": {},
   "source": [
    "계산기 프로그램\n",
    " - 사용자 종료를 원할때 종료 => 'x', 'X' 입력 시\n",
    " - 연산 방식과 숫자 데이터 입력 받기"
   ]
  },
  {
   "cell_type": "code",
   "execution_count": 13,
   "metadata": {},
   "outputs": [
    {
     "name": "stdout",
     "output_type": "stream",
     "text": [
      "10+3=13\n",
      "계산기를 종료합니다.\n"
     ]
    }
   ],
   "source": [
    "while True:\n",
    "    # (1) 입력 받기\n",
    "    input_data = input(\"연산(+, -, *, /)방식과 정수 2개 입력(예: + 10 2) : \")\n",
    "    # (2) 종료 조건 검사\n",
    "    if input_data == 'x' or input_data == 'X':\n",
    "        print('계산기를 종료합니다.')\n",
    "        break\n",
    "\n",
    "    # (3) 입력의 연산 방식과 데이터 추출\n",
    "    op, num1, num2 = input_data.split()\n",
    "    # str 정수 ==> int 변환\n",
    "    num1, num2 = map(int, [num1, num2])\n",
    "    if op == '+':\n",
    "        print(f'{num1}+{num2}={add(num1, num2)}')\n",
    "    elif op == '-':\n",
    "        print(f'{num1}-{num2}={minus(num1, num2)}')\n",
    "    elif op == '*':\n",
    "        print(f'{num1}*{num2}={multi(num1, num2)}')\n",
    "    elif op == '/':\n",
    "        print(f'{num1}/{num2}={div(num1, num2)}')\n",
    "    else:\n",
    "        print(f'{op}는 지원되지 않는 연산입니다.')\n"
   ]
  },
  {
   "cell_type": "markdown",
   "metadata": {},
   "source": [
    "계산기 프로그램\n",
    " - 사용자에게 원하는 계산을 선택하는 메뉴 출력\n",
    " - 종료 메뉴 선택 시 프로그램 종료  \n",
    " => 반복 ---> 무한반복 : while"
   ]
  },
  {
   "cell_type": "markdown",
   "metadata": {},
   "source": [
    "메뉴 출력 함수"
   ]
  },
  {
   "cell_type": "markdown",
   "metadata": {},
   "source": [
    "함수 기능 : 계산기 메뉴를 출력하는 함수  \n",
    "함수 이름 : print_menu  \n",
    "매개 변수 : 없음  \n",
    "함수 결과 : 없음  "
   ]
  },
  {
   "cell_type": "code",
   "execution_count": 14,
   "metadata": {},
   "outputs": [
    {
     "name": "stdout",
     "output_type": "stream",
     "text": [
      "********************\n",
      "*     계 산 기     *\n",
      "********************\n",
      "*    1. 덧  셈     *\n",
      "*    2. 뺄  셈     *\n",
      "*    3. 곱  셈     *\n",
      "*    4. 나눗셈     *\n",
      "*    5. 종  료     *\n",
      "********************\n"
     ]
    }
   ],
   "source": [
    "def print_menu():\n",
    "    print(f'{\"*\":*^20}')\n",
    "    print(f'*{\"계 산 기\":^15}*')\n",
    "    print(f'{\"*\":*^20}')\n",
    "    print(f'*{\"1. 덧  셈\":^16}*')\n",
    "    print(f'*{\"2. 뺄  셈\":^16}*')\n",
    "    print(f'*{\"3. 곱  셈\":^16}*')\n",
    "    print(f'*{\"4. 나눗셈\":^15}*')\n",
    "    print(f'*{\"5. 종  료\":^16}*')\n",
    "    print(f'{\"*\":*^20}')\n",
    "\n",
    "print_menu()"
   ]
  },
  {
   "cell_type": "markdown",
   "metadata": {},
   "source": [
    "함수 기능 : 입력 받은 데이터가 유효한 데이터인지 검사하는 함수  \n",
    "함수 이름 : check_data  \n",
    "매개 변수 : str 데이터(예: '10 3'), 데이터 수    \n",
    "함수 결과 : True 또는 Flase  "
   ]
  },
  {
   "cell_type": "code",
   "execution_count": 15,
   "metadata": {},
   "outputs": [],
   "source": [
    "def check_data(str_data, count):\n",
    "    str_data = str_data.split()\n",
    "    # 입력 데이터가 count개일때\n",
    "    if len(str_data) == count:\n",
    "        for i in range(count):\n",
    "            if str_data[i].isdecimal() == True and i == count-1:\n",
    "                return True\n",
    "            elif str_data[i].isdecimal() == True:\n",
    "                continue\n",
    "            else:\n",
    "                print('정수 데이터 2개를 입력하세요')\n",
    "                return False\n",
    "    # 입력 데이터가 count개가 아닐때\n",
    "    else:\n",
    "        print(f'데이터를 {count}개 입력해주세요.')\n",
    "        return False"
   ]
  },
  {
   "cell_type": "markdown",
   "metadata": {},
   "source": [
    "함수 기능 : 연산 수행 후 결과를 반환하는 함수  \n",
    "함수 이름 : calc  \n",
    "매개 변수 : 함수명  \n",
    "함수 결과 : 없음  "
   ]
  },
  {
   "cell_type": "code",
   "execution_count": 18,
   "metadata": {},
   "outputs": [],
   "source": [
    "def calc(func):\n",
    "    data = input()\n",
    "    if check_data(data, 2) == True:\n",
    "        num1, num2 = list(map(int, data.split))\n",
    "        if func == add:\n",
    "            print(f'계산 결과: {num1} + {num2} = {func(num1, num2)}')\n",
    "        elif func == minus:\n",
    "            print(f'계산 결과: {num1} - {num2} = {func(num1, num2)}')\n",
    "        elif func == multi:\n",
    "            print(f'계산 결과: {num1} * {num2} = {func(num1, num2)}')\n",
    "        elif func == div:\n",
    "            print(f'계산 결과: {num1} / {num2} = {func(num1, num2)}')\n",
    "        else:\n",
    "            print('올바른 연산 함수를 입력하세요.')"
   ]
  },
  {
   "cell_type": "code",
   "execution_count": 19,
   "metadata": {},
   "outputs": [
    {
     "name": "stdout",
     "output_type": "stream",
     "text": [
      "********************\n",
      "*     계 산 기     *\n",
      "********************\n",
      "*    1. 덧  셈     *\n",
      "*    2. 뺄  셈     *\n",
      "*    3. 곱  셈     *\n",
      "*    4. 나눗셈     *\n",
      "*    5. 종  료     *\n",
      "********************\n",
      "********************\n",
      "*    3. 곱  셈     *\n",
      "********************\n",
      "정수 데이터 2개를 입력하세요\n",
      "********************\n",
      "*     계 산 기     *\n",
      "********************\n",
      "*    1. 덧  셈     *\n",
      "*    2. 뺄  셈     *\n",
      "*    3. 곱  셈     *\n",
      "*    4. 나눗셈     *\n",
      "*    5. 종  료     *\n",
      "********************\n",
      "프로그램을 종료합니다.\n"
     ]
    }
   ],
   "source": [
    "while True:\n",
    "    # 메뉴 출력\n",
    "    print_menu()\n",
    "\n",
    "    # 메뉴 선택 요청\n",
    "    input_op = input(\"메뉴를 선택하세요 : \")\n",
    "    if input_op.isdecimal() == True:\n",
    "        input_op = int(input_op)\n",
    "    else:\n",
    "        print('0~9 사이의 정수를 입력하세요.')\n",
    "        continue\n",
    "\n",
    "    # 종료 조건 처리\n",
    "    # 덧셈\n",
    "    if input_op == 1:\n",
    "        print(f'{\"*\":*^20}')\n",
    "        print(f'*{\"1. 덧  셈\":^16}*')\n",
    "        print(f'{\"*\":*^20}')\n",
    "        calc(add)\n",
    "    # 뺄셈\n",
    "    elif input_op == 2:\n",
    "        print(f'{\"*\":*^20}')\n",
    "        print(f'*{\"2. 뺄  셈\":^16}*')\n",
    "        print(f'{\"*\":*^20}')\n",
    "        calc(minus)\n",
    "    # 곱셈\n",
    "    elif input_op == 3:\n",
    "        print(f'{\"*\":*^20}')\n",
    "        print(f'*{\"3. 곱  셈\":^16}*')\n",
    "        print(f'{\"*\":*^20}')\n",
    "        calc(multi)\n",
    "    # 나눗셈\n",
    "    elif input_op == 4:\n",
    "        print(f'{\"*\":*^20}')\n",
    "        print(f'*{\"4. 나눗셈\":^15}*')\n",
    "        print(f'{\"*\":*^20}')\n",
    "        calc(div)\n",
    "    # 종료\n",
    "    elif input_op == 5:\n",
    "        print('프로그램을 종료합니다.')\n",
    "        break\n",
    "    else:\n",
    "        print('번호를 잘못 선택했습니다.')"
   ]
  },
  {
   "cell_type": "markdown",
   "metadata": {},
   "source": [
    "## ex_func_05"
   ]
  },
  {
   "cell_type": "markdown",
   "metadata": {},
   "source": [
    "함수명 여러개를 리스트에 담아서 원소로 처리"
   ]
  },
  {
   "cell_type": "code",
   "execution_count": null,
   "metadata": {},
   "outputs": [
    {
     "name": "stdout",
     "output_type": "stream",
     "text": [
      "Happy\n",
      "33 11 66\n"
     ]
    }
   ],
   "source": [
    "show = print\n",
    "show(\"Happy\")\n",
    "\n",
    "datas = [11, 22, 33]\n",
    "func = [max, min, sum]\n",
    "\n",
    "print(func[0](datas), func[1](datas), func[2](datas))"
   ]
  },
  {
   "cell_type": "markdown",
   "metadata": {},
   "source": [
    "## ex_func_06"
   ]
  },
  {
   "cell_type": "markdown",
   "metadata": {},
   "source": [
    "람다 표현식 또는 람다 함수\n",
    " - 1줄 함수, 익명 함수\n",
    " - 형식 : lambda 매개변수 : 실행코드"
   ]
  },
  {
   "cell_type": "code",
   "execution_count": 21,
   "metadata": {},
   "outputs": [],
   "source": [
    "names = {1 : 'Kim', 2 : 'Adam', 3 : 'Zoo'}"
   ]
  },
  {
   "cell_type": "markdown",
   "metadata": {},
   "source": [
    "정렬하기 => 내장함수 sorted() --> list 반환"
   ]
  },
  {
   "cell_type": "markdown",
   "metadata": {},
   "source": [
    "key로 정렬"
   ]
  },
  {
   "cell_type": "code",
   "execution_count": 36,
   "metadata": {},
   "outputs": [
    {
     "name": "stdout",
     "output_type": "stream",
     "text": [
      "오름차순 정렬 [key] :  [1, 2, 3]\n"
     ]
    }
   ],
   "source": [
    "result = sorted(names)\n",
    "print('오름차순 정렬 [key] : ', result)"
   ]
  },
  {
   "cell_type": "markdown",
   "metadata": {},
   "source": [
    "value로 정렬"
   ]
  },
  {
   "cell_type": "code",
   "execution_count": 37,
   "metadata": {},
   "outputs": [
    {
     "name": "stdout",
     "output_type": "stream",
     "text": [
      "오름차순 정렬 [value] :  ['Adam', 'Kim', 'Zoo']\n"
     ]
    }
   ],
   "source": [
    "result = sorted(names.values())\n",
    "print('오름차순 정렬 [value] : ', result)"
   ]
  },
  {
   "cell_type": "code",
   "execution_count": 38,
   "metadata": {},
   "outputs": [
    {
     "name": "stdout",
     "output_type": "stream",
     "text": [
      "오름차순 정렬 [(key), (value)] :  [(2, 'Adam'), (1, 'Kim'), (3, 'Zoo')]\n"
     ]
    }
   ],
   "source": [
    "result = sorted(names.items(), key = lambda x : x[1])\n",
    "print('오름차순 정렬 [(key), (value)] : ', result)"
   ]
  },
  {
   "cell_type": "code",
   "execution_count": 39,
   "metadata": {},
   "outputs": [
    {
     "name": "stdout",
     "output_type": "stream",
     "text": [
      "['a', 'Andrew', 'from', 'is', 'string', 'test', 'This']\n"
     ]
    }
   ],
   "source": [
    "result = sorted(\"This is a test string from Andrew\".split(), key=str.lower)\n",
    "\n",
    "print(result)"
   ]
  },
  {
   "cell_type": "code",
   "execution_count": 40,
   "metadata": {},
   "outputs": [
    {
     "name": "stdout",
     "output_type": "stream",
     "text": [
      "['Andrew', 'This', 'a', 'from', 'is', 'string', 'test']\n"
     ]
    }
   ],
   "source": [
    "result = sorted(\"This is a test string from Andrew\".split())\n",
    "\n",
    "print(result)"
   ]
  },
  {
   "cell_type": "markdown",
   "metadata": {},
   "source": [
    "map()와 lambda"
   ]
  },
  {
   "cell_type": "code",
   "execution_count": 46,
   "metadata": {},
   "outputs": [
    {
     "name": "stdout",
     "output_type": "stream",
     "text": [
      "[11, 22, 33, 44]\n"
     ]
    }
   ],
   "source": [
    "data = [11, 22, 33, 44]\n",
    "\n",
    "print(data)"
   ]
  },
  {
   "cell_type": "markdown",
   "metadata": {},
   "source": [
    "각 원소의 값에 곱하기 2를 해서 다시 리스트로 저장"
   ]
  },
  {
   "cell_type": "code",
   "execution_count": 47,
   "metadata": {},
   "outputs": [
    {
     "name": "stdout",
     "output_type": "stream",
     "text": [
      "[22, 44, 66, 88]\n"
     ]
    }
   ],
   "source": [
    "data2 = list(map(lambda x : x * 2 , data))\n",
    "\n",
    "print(data2)"
   ]
  },
  {
   "cell_type": "code",
   "execution_count": null,
   "metadata": {},
   "outputs": [],
   "source": []
  }
 ],
 "metadata": {
  "kernelspec": {
   "display_name": "PY_39",
   "language": "python",
   "name": "python3"
  },
  "language_info": {
   "codemirror_mode": {
    "name": "ipython",
    "version": 3
   },
   "file_extension": ".py",
   "mimetype": "text/x-python",
   "name": "python",
   "nbconvert_exporter": "python",
   "pygments_lexer": "ipython3",
   "version": "3.9.19"
  }
 },
 "nbformat": 4,
 "nbformat_minor": 2
}
