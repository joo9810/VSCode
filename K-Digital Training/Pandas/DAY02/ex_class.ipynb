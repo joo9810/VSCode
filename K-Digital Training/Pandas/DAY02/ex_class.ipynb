{
 "cells": [
  {
   "cell_type": "markdown",
   "metadata": {},
   "source": [
    "클래스(Class)\n",
    "- 객체지향언어(OOP)에서 데이터를 정의하는 자료형\n",
    "- 데이터를 정의할 수 있는 데이터가 가진 속성과 기능 명시\n",
    "- 구성요소 : 속성/attribute/field + 기능/method"
   ]
  },
  {
   "cell_type": "markdown",
   "metadata": {},
   "source": [
    "클래스 정의 : 햄버거를 나타내는 클래스  \n",
    "클래스 이름 : 버거  \n",
    "클래스 속성 : 번, 패티, 야채, 치즈  \n",
    "클래스 기능 : 햄버거 설명 기능  "
   ]
  },
  {
   "cell_type": "code",
   "execution_count": 6,
   "metadata": {},
   "outputs": [],
   "source": [
    "class Bugger:\n",
    "    # 힙 영역에 객체 생성 시 속성값 저장\n",
    "    def __init__(self, bread, patty, veg, kind):\n",
    "        self.bread = bread\n",
    "        self.patty = patty\n",
    "        self.veg = veg\n",
    "        self.kind = kind\n",
    "\n",
    "    # 클래스 기능 즉, 메서드\n",
    "    def printInfo(self):\n",
    "        print(f'빵 종류     : {self.bread}')\n",
    "        print(f'패티 종류   : {self.patty}')\n",
    "        print(f'야채 종류   : {self.veg}')\n",
    "        print(f'브랜드 종류 : {self.kind}')"
   ]
  },
  {
   "cell_type": "code",
   "execution_count": 13,
   "metadata": {},
   "outputs": [],
   "source": [
    "# 불고기 버거\n",
    "bugger1 = Bugger('브리오슈', '불고기 패티', '양상추', '롯데리아')\n",
    "\n",
    "# 치즈 버거\n",
    "bugger2 = Bugger('참깨 빵', '쇠고기 패티', '양상추', '맥도날드')"
   ]
  },
  {
   "cell_type": "code",
   "execution_count": 14,
   "metadata": {},
   "outputs": [
    {
     "name": "stdout",
     "output_type": "stream",
     "text": [
      "빵 종류     : 브리오슈\n",
      "패티 종류   : 불고기 패티\n",
      "야채 종류   : 양상추\n",
      "브랜드 종류 : 롯데리아\n"
     ]
    }
   ],
   "source": [
    "bugger1.printInfo()"
   ]
  },
  {
   "cell_type": "code",
   "execution_count": 15,
   "metadata": {},
   "outputs": [
    {
     "name": "stdout",
     "output_type": "stream",
     "text": [
      "빵 종류     : 참깨 빵\n",
      "패티 종류   : 쇠고기 패티\n",
      "야채 종류   : 양상추\n",
      "브랜드 종류 : 맥도날드\n"
     ]
    }
   ],
   "source": [
    "bugger2.printInfo()"
   ]
  },
  {
   "cell_type": "code",
   "execution_count": null,
   "metadata": {},
   "outputs": [],
   "source": []
  }
 ],
 "metadata": {
  "kernelspec": {
   "display_name": "PY_39",
   "language": "python",
   "name": "python3"
  },
  "language_info": {
   "codemirror_mode": {
    "name": "ipython",
    "version": 3
   },
   "file_extension": ".py",
   "mimetype": "text/x-python",
   "name": "python",
   "nbconvert_exporter": "python",
   "pygments_lexer": "ipython3",
   "version": "3.9.19"
  }
 },
 "nbformat": 4,
 "nbformat_minor": 2
}
