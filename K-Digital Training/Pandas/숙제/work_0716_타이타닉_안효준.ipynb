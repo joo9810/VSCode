{
 "cells": [
  {
   "cell_type": "markdown",
   "metadata": {},
   "source": [
    "> 타이타닉호 침몰 사고는 많은 사망자 수를 기록한 사고이다. 하지만, 탑승객들 중 생존한 사람들도 있으며, 이들이 어떻게 생존하였는지, 생존한 사람들의 특징이 있는지 파악해보기 위해 각 컬럼별 생존률을 중점으로 데이터를 살펴 볼 예정이다."
   ]
  },
  {
   "cell_type": "code",
   "execution_count": 2,
   "metadata": {},
   "outputs": [],
   "source": [
    "# 모듈 로딩\n",
    "import pandas as pd\n",
    "import numpy as np\n",
    "from scipy.stats import chi2_contingency"
   ]
  },
  {
   "cell_type": "markdown",
   "metadata": {},
   "source": [
    "### 초기 데이터셋 정보\n",
    "> survived(생존 여부) : 0 = 사망, 1 = 생존  \n",
    "pclass(수치형 객실 등급) : 1 = 1등석, 2 = 2등석, 3 = 3등석  \n",
    "sex(성별) : male = 남성, female = 여성  \n",
    "age(나이)  \n",
    "sibsp(동승한 형제 및 배우자의 수)  \n",
    "parch(동승한 부모 및 자식의 수)  \n",
    "fare(승객 요금)   \n",
    "embarked(탑승지) : C = 셰르부르, Q = 퀸즈타운, S = 사우샘프턴  \n",
    "class(문자형 객실 등급) : First = 1등석, Second = 2등석, Third = 3등석  \n",
    "who(남자, 여자, 아이) : man, woman, child  \n",
    "adult_male : True(성인 남자), False(그 외)  \n",
    "deck(선실 번호 첫 글자) : A, B, C, D, E, F, G  \n",
    "embark_town(탑승지 이름) : Cherbourg, Queenstown, Southampton  \n",
    "alive(생존 여부) : no(사망), yes(생존)  \n",
    "alone(혼자 탑승 여부) : True(혼자 탑승), False(동승 탑승)  "
   ]
  },
  {
   "cell_type": "code",
   "execution_count": 3,
   "metadata": {},
   "outputs": [
    {
     "data": {
      "text/html": [
       "<div>\n",
       "<style scoped>\n",
       "    .dataframe tbody tr th:only-of-type {\n",
       "        vertical-align: middle;\n",
       "    }\n",
       "\n",
       "    .dataframe tbody tr th {\n",
       "        vertical-align: top;\n",
       "    }\n",
       "\n",
       "    .dataframe thead th {\n",
       "        text-align: right;\n",
       "    }\n",
       "</style>\n",
       "<table border=\"1\" class=\"dataframe\">\n",
       "  <thead>\n",
       "    <tr style=\"text-align: right;\">\n",
       "      <th></th>\n",
       "      <th>survived</th>\n",
       "      <th>pclass</th>\n",
       "      <th>sex</th>\n",
       "      <th>age</th>\n",
       "      <th>sibsp</th>\n",
       "      <th>parch</th>\n",
       "      <th>fare</th>\n",
       "      <th>embarked</th>\n",
       "      <th>class</th>\n",
       "      <th>who</th>\n",
       "      <th>adult_male</th>\n",
       "      <th>deck</th>\n",
       "      <th>embark_town</th>\n",
       "      <th>alive</th>\n",
       "      <th>alone</th>\n",
       "    </tr>\n",
       "  </thead>\n",
       "  <tbody>\n",
       "    <tr>\n",
       "      <th>0</th>\n",
       "      <td>0</td>\n",
       "      <td>3</td>\n",
       "      <td>male</td>\n",
       "      <td>22.0</td>\n",
       "      <td>1</td>\n",
       "      <td>0</td>\n",
       "      <td>7.2500</td>\n",
       "      <td>S</td>\n",
       "      <td>Third</td>\n",
       "      <td>man</td>\n",
       "      <td>True</td>\n",
       "      <td>NaN</td>\n",
       "      <td>Southampton</td>\n",
       "      <td>no</td>\n",
       "      <td>False</td>\n",
       "    </tr>\n",
       "    <tr>\n",
       "      <th>1</th>\n",
       "      <td>1</td>\n",
       "      <td>1</td>\n",
       "      <td>female</td>\n",
       "      <td>38.0</td>\n",
       "      <td>1</td>\n",
       "      <td>0</td>\n",
       "      <td>71.2833</td>\n",
       "      <td>C</td>\n",
       "      <td>First</td>\n",
       "      <td>woman</td>\n",
       "      <td>False</td>\n",
       "      <td>C</td>\n",
       "      <td>Cherbourg</td>\n",
       "      <td>yes</td>\n",
       "      <td>False</td>\n",
       "    </tr>\n",
       "    <tr>\n",
       "      <th>2</th>\n",
       "      <td>1</td>\n",
       "      <td>3</td>\n",
       "      <td>female</td>\n",
       "      <td>26.0</td>\n",
       "      <td>0</td>\n",
       "      <td>0</td>\n",
       "      <td>7.9250</td>\n",
       "      <td>S</td>\n",
       "      <td>Third</td>\n",
       "      <td>woman</td>\n",
       "      <td>False</td>\n",
       "      <td>NaN</td>\n",
       "      <td>Southampton</td>\n",
       "      <td>yes</td>\n",
       "      <td>True</td>\n",
       "    </tr>\n",
       "    <tr>\n",
       "      <th>3</th>\n",
       "      <td>1</td>\n",
       "      <td>1</td>\n",
       "      <td>female</td>\n",
       "      <td>35.0</td>\n",
       "      <td>1</td>\n",
       "      <td>0</td>\n",
       "      <td>53.1000</td>\n",
       "      <td>S</td>\n",
       "      <td>First</td>\n",
       "      <td>woman</td>\n",
       "      <td>False</td>\n",
       "      <td>C</td>\n",
       "      <td>Southampton</td>\n",
       "      <td>yes</td>\n",
       "      <td>False</td>\n",
       "    </tr>\n",
       "    <tr>\n",
       "      <th>4</th>\n",
       "      <td>0</td>\n",
       "      <td>3</td>\n",
       "      <td>male</td>\n",
       "      <td>35.0</td>\n",
       "      <td>0</td>\n",
       "      <td>0</td>\n",
       "      <td>8.0500</td>\n",
       "      <td>S</td>\n",
       "      <td>Third</td>\n",
       "      <td>man</td>\n",
       "      <td>True</td>\n",
       "      <td>NaN</td>\n",
       "      <td>Southampton</td>\n",
       "      <td>no</td>\n",
       "      <td>True</td>\n",
       "    </tr>\n",
       "    <tr>\n",
       "      <th>...</th>\n",
       "      <td>...</td>\n",
       "      <td>...</td>\n",
       "      <td>...</td>\n",
       "      <td>...</td>\n",
       "      <td>...</td>\n",
       "      <td>...</td>\n",
       "      <td>...</td>\n",
       "      <td>...</td>\n",
       "      <td>...</td>\n",
       "      <td>...</td>\n",
       "      <td>...</td>\n",
       "      <td>...</td>\n",
       "      <td>...</td>\n",
       "      <td>...</td>\n",
       "      <td>...</td>\n",
       "    </tr>\n",
       "    <tr>\n",
       "      <th>886</th>\n",
       "      <td>0</td>\n",
       "      <td>2</td>\n",
       "      <td>male</td>\n",
       "      <td>27.0</td>\n",
       "      <td>0</td>\n",
       "      <td>0</td>\n",
       "      <td>13.0000</td>\n",
       "      <td>S</td>\n",
       "      <td>Second</td>\n",
       "      <td>man</td>\n",
       "      <td>True</td>\n",
       "      <td>NaN</td>\n",
       "      <td>Southampton</td>\n",
       "      <td>no</td>\n",
       "      <td>True</td>\n",
       "    </tr>\n",
       "    <tr>\n",
       "      <th>887</th>\n",
       "      <td>1</td>\n",
       "      <td>1</td>\n",
       "      <td>female</td>\n",
       "      <td>19.0</td>\n",
       "      <td>0</td>\n",
       "      <td>0</td>\n",
       "      <td>30.0000</td>\n",
       "      <td>S</td>\n",
       "      <td>First</td>\n",
       "      <td>woman</td>\n",
       "      <td>False</td>\n",
       "      <td>B</td>\n",
       "      <td>Southampton</td>\n",
       "      <td>yes</td>\n",
       "      <td>True</td>\n",
       "    </tr>\n",
       "    <tr>\n",
       "      <th>888</th>\n",
       "      <td>0</td>\n",
       "      <td>3</td>\n",
       "      <td>female</td>\n",
       "      <td>NaN</td>\n",
       "      <td>1</td>\n",
       "      <td>2</td>\n",
       "      <td>23.4500</td>\n",
       "      <td>S</td>\n",
       "      <td>Third</td>\n",
       "      <td>woman</td>\n",
       "      <td>False</td>\n",
       "      <td>NaN</td>\n",
       "      <td>Southampton</td>\n",
       "      <td>no</td>\n",
       "      <td>False</td>\n",
       "    </tr>\n",
       "    <tr>\n",
       "      <th>889</th>\n",
       "      <td>1</td>\n",
       "      <td>1</td>\n",
       "      <td>male</td>\n",
       "      <td>26.0</td>\n",
       "      <td>0</td>\n",
       "      <td>0</td>\n",
       "      <td>30.0000</td>\n",
       "      <td>C</td>\n",
       "      <td>First</td>\n",
       "      <td>man</td>\n",
       "      <td>True</td>\n",
       "      <td>C</td>\n",
       "      <td>Cherbourg</td>\n",
       "      <td>yes</td>\n",
       "      <td>True</td>\n",
       "    </tr>\n",
       "    <tr>\n",
       "      <th>890</th>\n",
       "      <td>0</td>\n",
       "      <td>3</td>\n",
       "      <td>male</td>\n",
       "      <td>32.0</td>\n",
       "      <td>0</td>\n",
       "      <td>0</td>\n",
       "      <td>7.7500</td>\n",
       "      <td>Q</td>\n",
       "      <td>Third</td>\n",
       "      <td>man</td>\n",
       "      <td>True</td>\n",
       "      <td>NaN</td>\n",
       "      <td>Queenstown</td>\n",
       "      <td>no</td>\n",
       "      <td>True</td>\n",
       "    </tr>\n",
       "  </tbody>\n",
       "</table>\n",
       "<p>891 rows × 15 columns</p>\n",
       "</div>"
      ],
      "text/plain": [
       "     survived  pclass     sex   age  sibsp  parch     fare embarked   class  \\\n",
       "0           0       3    male  22.0      1      0   7.2500        S   Third   \n",
       "1           1       1  female  38.0      1      0  71.2833        C   First   \n",
       "2           1       3  female  26.0      0      0   7.9250        S   Third   \n",
       "3           1       1  female  35.0      1      0  53.1000        S   First   \n",
       "4           0       3    male  35.0      0      0   8.0500        S   Third   \n",
       "..        ...     ...     ...   ...    ...    ...      ...      ...     ...   \n",
       "886         0       2    male  27.0      0      0  13.0000        S  Second   \n",
       "887         1       1  female  19.0      0      0  30.0000        S   First   \n",
       "888         0       3  female   NaN      1      2  23.4500        S   Third   \n",
       "889         1       1    male  26.0      0      0  30.0000        C   First   \n",
       "890         0       3    male  32.0      0      0   7.7500        Q   Third   \n",
       "\n",
       "       who  adult_male deck  embark_town alive  alone  \n",
       "0      man        True  NaN  Southampton    no  False  \n",
       "1    woman       False    C    Cherbourg   yes  False  \n",
       "2    woman       False  NaN  Southampton   yes   True  \n",
       "3    woman       False    C  Southampton   yes  False  \n",
       "4      man        True  NaN  Southampton    no   True  \n",
       "..     ...         ...  ...          ...   ...    ...  \n",
       "886    man        True  NaN  Southampton    no   True  \n",
       "887  woman       False    B  Southampton   yes   True  \n",
       "888  woman       False  NaN  Southampton    no  False  \n",
       "889    man        True    C    Cherbourg   yes   True  \n",
       "890    man        True  NaN   Queenstown    no   True  \n",
       "\n",
       "[891 rows x 15 columns]"
      ]
     },
     "execution_count": 3,
     "metadata": {},
     "output_type": "execute_result"
    }
   ],
   "source": [
    "# 데이터 로딩\n",
    "df = pd.read_csv('titanic.csv')\n",
    "df"
   ]
  },
  {
   "cell_type": "markdown",
   "metadata": {},
   "source": [
    "### 유사한 데이터 확인"
   ]
  },
  {
   "cell_type": "markdown",
   "metadata": {},
   "source": [
    "> (survived, alive), (pclass, class), (embarked, embark_town)이 각각 의미하는 바가 같은 것으로 추측되며 같은 데이터라면 하나만 사용하도록 결정  \n",
    "\n",
    "> value_counts()를 확인했을때 범주가 같다면 두 데이터는 완벽하게 동일한 데이터라는 것을 의미한다."
   ]
  },
  {
   "cell_type": "code",
   "execution_count": 4,
   "metadata": {},
   "outputs": [
    {
     "data": {
      "text/plain": [
       "survived  alive\n",
       "0         no       549\n",
       "1         yes      342\n",
       "Name: count, dtype: int64"
      ]
     },
     "execution_count": 4,
     "metadata": {},
     "output_type": "execute_result"
    }
   ],
   "source": [
    "# survived와 alive가 같은 데이터인지 확인하기\n",
    "survive_data = df.loc[:, ['survived', 'alive']]\n",
    "survive_data.value_counts()"
   ]
  },
  {
   "cell_type": "markdown",
   "metadata": {},
   "source": [
    "> 확인 결과 survived와 alive 데이터는 같다.  "
   ]
  },
  {
   "cell_type": "code",
   "execution_count": 5,
   "metadata": {},
   "outputs": [
    {
     "data": {
      "text/plain": [
       "pclass  class \n",
       "3       Third     491\n",
       "1       First     216\n",
       "2       Second    184\n",
       "Name: count, dtype: int64"
      ]
     },
     "execution_count": 5,
     "metadata": {},
     "output_type": "execute_result"
    }
   ],
   "source": [
    "# pclass와 class가 같은 데이터인지 확인하기\n",
    "class_data = df.loc[:, ['pclass', 'class']]\n",
    "class_data.value_counts()"
   ]
  },
  {
   "cell_type": "markdown",
   "metadata": {},
   "source": [
    "> 확인 결과 pclass와 class 데이터는 같다.  "
   ]
  },
  {
   "cell_type": "code",
   "execution_count": 6,
   "metadata": {},
   "outputs": [
    {
     "data": {
      "text/plain": [
       "embarked  embark_town\n",
       "S         Southampton    644\n",
       "C         Cherbourg      168\n",
       "Q         Queenstown      77\n",
       "Name: count, dtype: int64"
      ]
     },
     "execution_count": 6,
     "metadata": {},
     "output_type": "execute_result"
    }
   ],
   "source": [
    "# embarked와 embark_town이 같은 데이터인지 확인하기\n",
    "embark_data = df.loc[:, ['embarked', 'embark_town']]\n",
    "embark_data.value_counts()"
   ]
  },
  {
   "cell_type": "markdown",
   "metadata": {},
   "source": [
    "> 확인 결과 embarked와 embark_town 데이터는 같다.  "
   ]
  },
  {
   "cell_type": "code",
   "execution_count": 7,
   "metadata": {},
   "outputs": [
    {
     "name": "stdout",
     "output_type": "stream",
     "text": [
      "<class 'pandas.core.frame.DataFrame'>\n",
      "RangeIndex: 891 entries, 0 to 890\n",
      "Data columns (total 12 columns):\n",
      " #   Column       Non-Null Count  Dtype  \n",
      "---  ------       --------------  -----  \n",
      " 0   sex          891 non-null    object \n",
      " 1   age          714 non-null    float64\n",
      " 2   sibsp        891 non-null    int64  \n",
      " 3   parch        891 non-null    int64  \n",
      " 4   fare         891 non-null    float64\n",
      " 5   class        891 non-null    object \n",
      " 6   who          891 non-null    object \n",
      " 7   adult_male   891 non-null    bool   \n",
      " 8   deck         203 non-null    object \n",
      " 9   embark_town  889 non-null    object \n",
      " 10  alive        891 non-null    object \n",
      " 11  alone        891 non-null    bool   \n",
      "dtypes: bool(2), float64(2), int64(2), object(6)\n",
      "memory usage: 71.5+ KB\n"
     ]
    }
   ],
   "source": [
    "# 중복된 의미의 컬럼 중 하나 제거\n",
    "df2 = df.drop(['survived', 'pclass', 'embarked'], axis = 1)\n",
    "df2.info()"
   ]
  },
  {
   "cell_type": "code",
   "execution_count": 8,
   "metadata": {},
   "outputs": [
    {
     "data": {
      "text/plain": [
       "107"
      ]
     },
     "execution_count": 8,
     "metadata": {},
     "output_type": "execute_result"
    }
   ],
   "source": [
    "# 중복 데이터 확인\n",
    "df2.duplicated().sum()"
   ]
  },
  {
   "cell_type": "code",
   "execution_count": 9,
   "metadata": {},
   "outputs": [],
   "source": [
    "df3 = df2.drop_duplicates(keep = False)"
   ]
  },
  {
   "cell_type": "code",
   "execution_count": 10,
   "metadata": {},
   "outputs": [
    {
     "data": {
      "text/plain": [
       "sex              0\n",
       "age             84\n",
       "sibsp            0\n",
       "parch            0\n",
       "fare             0\n",
       "class            0\n",
       "who              0\n",
       "adult_male       0\n",
       "deck           530\n",
       "embark_town      2\n",
       "alive            0\n",
       "alone            0\n",
       "dtype: int64"
      ]
     },
     "execution_count": 10,
     "metadata": {},
     "output_type": "execute_result"
    }
   ],
   "source": [
    "# 결측치 개수 확인\n",
    "df3.isna().sum()\n",
    "# age: 84개, embarked: 2개, deck: 530개"
   ]
  },
  {
   "cell_type": "code",
   "execution_count": 11,
   "metadata": {},
   "outputs": [
    {
     "data": {
      "text/plain": [
       "deck\n",
       "C    59\n",
       "B    45\n",
       "D    33\n",
       "E    32\n",
       "A    15\n",
       "F    13\n",
       "G     4\n",
       "Name: count, dtype: int64"
      ]
     },
     "execution_count": 11,
     "metadata": {},
     "output_type": "execute_result"
    }
   ],
   "source": [
    "# deck 변수의 범주 확인\n",
    "df3['deck'].value_counts()"
   ]
  },
  {
   "cell_type": "markdown",
   "metadata": {},
   "source": [
    "> deck 변수의 경우 결측치가 너무 많아 결측치를 다른 값으로 대체 하기에는 대체한 값들의 대표성이 너무 부족해지며 결측치인 행들을 모두 제거하자니 데이터의 손실이 크기 때문에 deck 컬럼을 제거하기로 결정"
   ]
  },
  {
   "cell_type": "code",
   "execution_count": 12,
   "metadata": {},
   "outputs": [],
   "source": [
    "# deck 컬럼 제거\n",
    "df4 = df3.drop(['deck'], axis = 1)"
   ]
  },
  {
   "cell_type": "code",
   "execution_count": 13,
   "metadata": {},
   "outputs": [
    {
     "data": {
      "text/plain": [
       "sex             0\n",
       "age            84\n",
       "sibsp           0\n",
       "parch           0\n",
       "fare            0\n",
       "class           0\n",
       "who             0\n",
       "adult_male      0\n",
       "embark_town     2\n",
       "alive           0\n",
       "alone           0\n",
       "dtype: int64"
      ]
     },
     "execution_count": 13,
     "metadata": {},
     "output_type": "execute_result"
    }
   ],
   "source": [
    "# 결측치 확인\n",
    "df4.isna().sum()"
   ]
  },
  {
   "cell_type": "code",
   "execution_count": 14,
   "metadata": {},
   "outputs": [
    {
     "data": {
      "text/plain": [
       "age\n",
       "24.00    28\n",
       "18.00    24\n",
       "36.00    22\n",
       "19.00    22\n",
       "22.00    21\n",
       "         ..\n",
       "36.50     1\n",
       "0.92      1\n",
       "23.50     1\n",
       "55.50     1\n",
       "74.00     1\n",
       "Name: count, Length: 87, dtype: int64"
      ]
     },
     "execution_count": 14,
     "metadata": {},
     "output_type": "execute_result"
    }
   ],
   "source": [
    "# age 변수의 범주 확인\n",
    "df4['age'].value_counts()"
   ]
  },
  {
   "cell_type": "code",
   "execution_count": 15,
   "metadata": {},
   "outputs": [
    {
     "data": {
      "text/plain": [
       "30.002581143740336"
      ]
     },
     "execution_count": 15,
     "metadata": {},
     "output_type": "execute_result"
    }
   ],
   "source": [
    "# age 변수의 평균 확인\n",
    "df4['age'].mean()"
   ]
  },
  {
   "cell_type": "markdown",
   "metadata": {},
   "source": [
    "> age 변수의 경우 결측치가 177개로 적은 개수는 아니지만 그렇다고 컬럼을 없애거나 177개의 행을 모두 없애자니 나머지 데이터의 손실이 클 것으로 예상되기 때문에 값을 채우기로 결정했다.\n",
    "하지만, age의 평균값으로 채우자니 177개의 데이터가 모두 30살로 들어가므로 데이터의 편향이 생길 가능성이 생긴다. 따라서, who 변수를 이용하여 남자는 남자의 평균, 여자는 여자의 평균, 아이는 아이의 평균으로 값을 대체하여 데이터의 왜곡을 최소화 하기로 결정했다."
   ]
  },
  {
   "cell_type": "code",
   "execution_count": 16,
   "metadata": {},
   "outputs": [
    {
     "data": {
      "text/plain": [
       "who    adult_male\n",
       "man    True          410\n",
       "woman  False         240\n",
       "child  False          81\n",
       "Name: count, dtype: int64"
      ]
     },
     "execution_count": 16,
     "metadata": {},
     "output_type": "execute_result"
    }
   ],
   "source": [
    "df4.loc[:, ['who', 'adult_male']].value_counts() # 성인 남자: 410명, 성인 여자: 240명, 아이: 81명"
   ]
  },
  {
   "cell_type": "code",
   "execution_count": 17,
   "metadata": {},
   "outputs": [
    {
     "data": {
      "text/plain": [
       "(34.186797752808985, 31.97142857142857, 6.5082716049382725)"
      ]
     },
     "execution_count": 17,
     "metadata": {},
     "output_type": "execute_result"
    }
   ],
   "source": [
    "man_mean = df4[df4['who'] == 'man']['age'].mean() # 성인 남자의 나이 평균\n",
    "woman_mean = df4[df4['who'] == 'woman']['age'].mean() # 성인 여자의 나이 평균\n",
    "child_mean = df4[df4['who'] == 'child']['age'].mean() # 아이의 나이 평균\n",
    "man_mean, woman_mean, child_mean"
   ]
  },
  {
   "cell_type": "code",
   "execution_count": 18,
   "metadata": {},
   "outputs": [],
   "source": [
    "age_who_df = df4.loc[:, ['age', 'who']]\n",
    "age_list = []\n",
    "for i in range(len(age_who_df)):\n",
    "    if (pd.isna(age_who_df.iloc[i, 0]) == True): # 만약 age가 결측값이라면\n",
    "        if age_who_df.iloc[i, 1] == 'man': # 만약 결측값이 man이라면\n",
    "            age_list.append(man_mean) # 남자 평균 넣기\n",
    "        elif age_who_df.iloc[i, 1] == 'woman': # 만약 결측값이 woman이라면\n",
    "            age_list.append(woman_mean) # 여자 평균 넣기\n",
    "        else:   # 만약 결측값이 child라면\n",
    "            age_list.append(child_mean) # 아이 평균 넣기\n",
    "    else: # 만약 age가 결측값이 아니라면\n",
    "        age_list.append(age_who_df.iloc[i, 0]) # 원래 값 넣기"
   ]
  },
  {
   "cell_type": "code",
   "execution_count": 19,
   "metadata": {},
   "outputs": [
    {
     "data": {
      "text/html": [
       "<div>\n",
       "<style scoped>\n",
       "    .dataframe tbody tr th:only-of-type {\n",
       "        vertical-align: middle;\n",
       "    }\n",
       "\n",
       "    .dataframe tbody tr th {\n",
       "        vertical-align: top;\n",
       "    }\n",
       "\n",
       "    .dataframe thead th {\n",
       "        text-align: right;\n",
       "    }\n",
       "</style>\n",
       "<table border=\"1\" class=\"dataframe\">\n",
       "  <thead>\n",
       "    <tr style=\"text-align: right;\">\n",
       "      <th></th>\n",
       "      <th>sex</th>\n",
       "      <th>sibsp</th>\n",
       "      <th>parch</th>\n",
       "      <th>fare</th>\n",
       "      <th>class</th>\n",
       "      <th>who</th>\n",
       "      <th>adult_male</th>\n",
       "      <th>embark_town</th>\n",
       "      <th>alive</th>\n",
       "      <th>alone</th>\n",
       "      <th>new_age</th>\n",
       "    </tr>\n",
       "  </thead>\n",
       "  <tbody>\n",
       "    <tr>\n",
       "      <th>0</th>\n",
       "      <td>male</td>\n",
       "      <td>1</td>\n",
       "      <td>0</td>\n",
       "      <td>7.2500</td>\n",
       "      <td>Third</td>\n",
       "      <td>man</td>\n",
       "      <td>True</td>\n",
       "      <td>Southampton</td>\n",
       "      <td>no</td>\n",
       "      <td>False</td>\n",
       "      <td>22.000000</td>\n",
       "    </tr>\n",
       "    <tr>\n",
       "      <th>1</th>\n",
       "      <td>female</td>\n",
       "      <td>1</td>\n",
       "      <td>0</td>\n",
       "      <td>71.2833</td>\n",
       "      <td>First</td>\n",
       "      <td>woman</td>\n",
       "      <td>False</td>\n",
       "      <td>Cherbourg</td>\n",
       "      <td>yes</td>\n",
       "      <td>False</td>\n",
       "      <td>38.000000</td>\n",
       "    </tr>\n",
       "    <tr>\n",
       "      <th>2</th>\n",
       "      <td>female</td>\n",
       "      <td>0</td>\n",
       "      <td>0</td>\n",
       "      <td>7.9250</td>\n",
       "      <td>Third</td>\n",
       "      <td>woman</td>\n",
       "      <td>False</td>\n",
       "      <td>Southampton</td>\n",
       "      <td>yes</td>\n",
       "      <td>True</td>\n",
       "      <td>26.000000</td>\n",
       "    </tr>\n",
       "    <tr>\n",
       "      <th>3</th>\n",
       "      <td>female</td>\n",
       "      <td>1</td>\n",
       "      <td>0</td>\n",
       "      <td>53.1000</td>\n",
       "      <td>First</td>\n",
       "      <td>woman</td>\n",
       "      <td>False</td>\n",
       "      <td>Southampton</td>\n",
       "      <td>yes</td>\n",
       "      <td>False</td>\n",
       "      <td>35.000000</td>\n",
       "    </tr>\n",
       "    <tr>\n",
       "      <th>5</th>\n",
       "      <td>male</td>\n",
       "      <td>0</td>\n",
       "      <td>0</td>\n",
       "      <td>8.4583</td>\n",
       "      <td>Third</td>\n",
       "      <td>man</td>\n",
       "      <td>True</td>\n",
       "      <td>Queenstown</td>\n",
       "      <td>no</td>\n",
       "      <td>True</td>\n",
       "      <td>34.186798</td>\n",
       "    </tr>\n",
       "    <tr>\n",
       "      <th>...</th>\n",
       "      <td>...</td>\n",
       "      <td>...</td>\n",
       "      <td>...</td>\n",
       "      <td>...</td>\n",
       "      <td>...</td>\n",
       "      <td>...</td>\n",
       "      <td>...</td>\n",
       "      <td>...</td>\n",
       "      <td>...</td>\n",
       "      <td>...</td>\n",
       "      <td>...</td>\n",
       "    </tr>\n",
       "    <tr>\n",
       "      <th>885</th>\n",
       "      <td>female</td>\n",
       "      <td>0</td>\n",
       "      <td>5</td>\n",
       "      <td>29.1250</td>\n",
       "      <td>Third</td>\n",
       "      <td>woman</td>\n",
       "      <td>False</td>\n",
       "      <td>Queenstown</td>\n",
       "      <td>no</td>\n",
       "      <td>False</td>\n",
       "      <td>39.000000</td>\n",
       "    </tr>\n",
       "    <tr>\n",
       "      <th>887</th>\n",
       "      <td>female</td>\n",
       "      <td>0</td>\n",
       "      <td>0</td>\n",
       "      <td>30.0000</td>\n",
       "      <td>First</td>\n",
       "      <td>woman</td>\n",
       "      <td>False</td>\n",
       "      <td>Southampton</td>\n",
       "      <td>yes</td>\n",
       "      <td>True</td>\n",
       "      <td>19.000000</td>\n",
       "    </tr>\n",
       "    <tr>\n",
       "      <th>888</th>\n",
       "      <td>female</td>\n",
       "      <td>1</td>\n",
       "      <td>2</td>\n",
       "      <td>23.4500</td>\n",
       "      <td>Third</td>\n",
       "      <td>woman</td>\n",
       "      <td>False</td>\n",
       "      <td>Southampton</td>\n",
       "      <td>no</td>\n",
       "      <td>False</td>\n",
       "      <td>31.971429</td>\n",
       "    </tr>\n",
       "    <tr>\n",
       "      <th>889</th>\n",
       "      <td>male</td>\n",
       "      <td>0</td>\n",
       "      <td>0</td>\n",
       "      <td>30.0000</td>\n",
       "      <td>First</td>\n",
       "      <td>man</td>\n",
       "      <td>True</td>\n",
       "      <td>Cherbourg</td>\n",
       "      <td>yes</td>\n",
       "      <td>True</td>\n",
       "      <td>26.000000</td>\n",
       "    </tr>\n",
       "    <tr>\n",
       "      <th>890</th>\n",
       "      <td>male</td>\n",
       "      <td>0</td>\n",
       "      <td>0</td>\n",
       "      <td>7.7500</td>\n",
       "      <td>Third</td>\n",
       "      <td>man</td>\n",
       "      <td>True</td>\n",
       "      <td>Queenstown</td>\n",
       "      <td>no</td>\n",
       "      <td>True</td>\n",
       "      <td>32.000000</td>\n",
       "    </tr>\n",
       "  </tbody>\n",
       "</table>\n",
       "<p>731 rows × 11 columns</p>\n",
       "</div>"
      ],
      "text/plain": [
       "        sex  sibsp  parch     fare  class    who  adult_male  embark_town  \\\n",
       "0      male      1      0   7.2500  Third    man        True  Southampton   \n",
       "1    female      1      0  71.2833  First  woman       False    Cherbourg   \n",
       "2    female      0      0   7.9250  Third  woman       False  Southampton   \n",
       "3    female      1      0  53.1000  First  woman       False  Southampton   \n",
       "5      male      0      0   8.4583  Third    man        True   Queenstown   \n",
       "..      ...    ...    ...      ...    ...    ...         ...          ...   \n",
       "885  female      0      5  29.1250  Third  woman       False   Queenstown   \n",
       "887  female      0      0  30.0000  First  woman       False  Southampton   \n",
       "888  female      1      2  23.4500  Third  woman       False  Southampton   \n",
       "889    male      0      0  30.0000  First    man        True    Cherbourg   \n",
       "890    male      0      0   7.7500  Third    man        True   Queenstown   \n",
       "\n",
       "    alive  alone    new_age  \n",
       "0      no  False  22.000000  \n",
       "1     yes  False  38.000000  \n",
       "2     yes   True  26.000000  \n",
       "3     yes  False  35.000000  \n",
       "5      no   True  34.186798  \n",
       "..    ...    ...        ...  \n",
       "885    no  False  39.000000  \n",
       "887   yes   True  19.000000  \n",
       "888    no  False  31.971429  \n",
       "889   yes   True  26.000000  \n",
       "890    no   True  32.000000  \n",
       "\n",
       "[731 rows x 11 columns]"
      ]
     },
     "execution_count": 19,
     "metadata": {},
     "output_type": "execute_result"
    }
   ],
   "source": [
    "df4['new_age'] = age_list # 평균값을 대체한 새로운 나이 컬럼\n",
    "df5 = df4.drop(['age'], axis = 1)\n",
    "df5"
   ]
  },
  {
   "cell_type": "code",
   "execution_count": 20,
   "metadata": {},
   "outputs": [
    {
     "data": {
      "text/plain": [
       "80.0"
      ]
     },
     "execution_count": 20,
     "metadata": {},
     "output_type": "execute_result"
    }
   ],
   "source": [
    "# 나이 최대값 확인\n",
    "df5.loc[:, 'new_age'].max()"
   ]
  },
  {
   "cell_type": "code",
   "execution_count": 21,
   "metadata": {},
   "outputs": [
    {
     "data": {
      "text/html": [
       "<div>\n",
       "<style scoped>\n",
       "    .dataframe tbody tr th:only-of-type {\n",
       "        vertical-align: middle;\n",
       "    }\n",
       "\n",
       "    .dataframe tbody tr th {\n",
       "        vertical-align: top;\n",
       "    }\n",
       "\n",
       "    .dataframe thead th {\n",
       "        text-align: right;\n",
       "    }\n",
       "</style>\n",
       "<table border=\"1\" class=\"dataframe\">\n",
       "  <thead>\n",
       "    <tr style=\"text-align: right;\">\n",
       "      <th></th>\n",
       "      <th>sex</th>\n",
       "      <th>sibsp</th>\n",
       "      <th>parch</th>\n",
       "      <th>fare</th>\n",
       "      <th>class</th>\n",
       "      <th>who</th>\n",
       "      <th>adult_male</th>\n",
       "      <th>embark_town</th>\n",
       "      <th>alive</th>\n",
       "      <th>alone</th>\n",
       "      <th>new_age</th>\n",
       "      <th>age_group</th>\n",
       "    </tr>\n",
       "  </thead>\n",
       "  <tbody>\n",
       "    <tr>\n",
       "      <th>0</th>\n",
       "      <td>male</td>\n",
       "      <td>1</td>\n",
       "      <td>0</td>\n",
       "      <td>7.2500</td>\n",
       "      <td>Third</td>\n",
       "      <td>man</td>\n",
       "      <td>True</td>\n",
       "      <td>Southampton</td>\n",
       "      <td>no</td>\n",
       "      <td>False</td>\n",
       "      <td>22.000000</td>\n",
       "      <td>20대</td>\n",
       "    </tr>\n",
       "    <tr>\n",
       "      <th>1</th>\n",
       "      <td>female</td>\n",
       "      <td>1</td>\n",
       "      <td>0</td>\n",
       "      <td>71.2833</td>\n",
       "      <td>First</td>\n",
       "      <td>woman</td>\n",
       "      <td>False</td>\n",
       "      <td>Cherbourg</td>\n",
       "      <td>yes</td>\n",
       "      <td>False</td>\n",
       "      <td>38.000000</td>\n",
       "      <td>30대</td>\n",
       "    </tr>\n",
       "    <tr>\n",
       "      <th>2</th>\n",
       "      <td>female</td>\n",
       "      <td>0</td>\n",
       "      <td>0</td>\n",
       "      <td>7.9250</td>\n",
       "      <td>Third</td>\n",
       "      <td>woman</td>\n",
       "      <td>False</td>\n",
       "      <td>Southampton</td>\n",
       "      <td>yes</td>\n",
       "      <td>True</td>\n",
       "      <td>26.000000</td>\n",
       "      <td>20대</td>\n",
       "    </tr>\n",
       "    <tr>\n",
       "      <th>3</th>\n",
       "      <td>female</td>\n",
       "      <td>1</td>\n",
       "      <td>0</td>\n",
       "      <td>53.1000</td>\n",
       "      <td>First</td>\n",
       "      <td>woman</td>\n",
       "      <td>False</td>\n",
       "      <td>Southampton</td>\n",
       "      <td>yes</td>\n",
       "      <td>False</td>\n",
       "      <td>35.000000</td>\n",
       "      <td>30대</td>\n",
       "    </tr>\n",
       "    <tr>\n",
       "      <th>5</th>\n",
       "      <td>male</td>\n",
       "      <td>0</td>\n",
       "      <td>0</td>\n",
       "      <td>8.4583</td>\n",
       "      <td>Third</td>\n",
       "      <td>man</td>\n",
       "      <td>True</td>\n",
       "      <td>Queenstown</td>\n",
       "      <td>no</td>\n",
       "      <td>True</td>\n",
       "      <td>34.186798</td>\n",
       "      <td>30대</td>\n",
       "    </tr>\n",
       "    <tr>\n",
       "      <th>...</th>\n",
       "      <td>...</td>\n",
       "      <td>...</td>\n",
       "      <td>...</td>\n",
       "      <td>...</td>\n",
       "      <td>...</td>\n",
       "      <td>...</td>\n",
       "      <td>...</td>\n",
       "      <td>...</td>\n",
       "      <td>...</td>\n",
       "      <td>...</td>\n",
       "      <td>...</td>\n",
       "      <td>...</td>\n",
       "    </tr>\n",
       "    <tr>\n",
       "      <th>885</th>\n",
       "      <td>female</td>\n",
       "      <td>0</td>\n",
       "      <td>5</td>\n",
       "      <td>29.1250</td>\n",
       "      <td>Third</td>\n",
       "      <td>woman</td>\n",
       "      <td>False</td>\n",
       "      <td>Queenstown</td>\n",
       "      <td>no</td>\n",
       "      <td>False</td>\n",
       "      <td>39.000000</td>\n",
       "      <td>30대</td>\n",
       "    </tr>\n",
       "    <tr>\n",
       "      <th>887</th>\n",
       "      <td>female</td>\n",
       "      <td>0</td>\n",
       "      <td>0</td>\n",
       "      <td>30.0000</td>\n",
       "      <td>First</td>\n",
       "      <td>woman</td>\n",
       "      <td>False</td>\n",
       "      <td>Southampton</td>\n",
       "      <td>yes</td>\n",
       "      <td>True</td>\n",
       "      <td>19.000000</td>\n",
       "      <td>10대</td>\n",
       "    </tr>\n",
       "    <tr>\n",
       "      <th>888</th>\n",
       "      <td>female</td>\n",
       "      <td>1</td>\n",
       "      <td>2</td>\n",
       "      <td>23.4500</td>\n",
       "      <td>Third</td>\n",
       "      <td>woman</td>\n",
       "      <td>False</td>\n",
       "      <td>Southampton</td>\n",
       "      <td>no</td>\n",
       "      <td>False</td>\n",
       "      <td>31.971429</td>\n",
       "      <td>30대</td>\n",
       "    </tr>\n",
       "    <tr>\n",
       "      <th>889</th>\n",
       "      <td>male</td>\n",
       "      <td>0</td>\n",
       "      <td>0</td>\n",
       "      <td>30.0000</td>\n",
       "      <td>First</td>\n",
       "      <td>man</td>\n",
       "      <td>True</td>\n",
       "      <td>Cherbourg</td>\n",
       "      <td>yes</td>\n",
       "      <td>True</td>\n",
       "      <td>26.000000</td>\n",
       "      <td>20대</td>\n",
       "    </tr>\n",
       "    <tr>\n",
       "      <th>890</th>\n",
       "      <td>male</td>\n",
       "      <td>0</td>\n",
       "      <td>0</td>\n",
       "      <td>7.7500</td>\n",
       "      <td>Third</td>\n",
       "      <td>man</td>\n",
       "      <td>True</td>\n",
       "      <td>Queenstown</td>\n",
       "      <td>no</td>\n",
       "      <td>True</td>\n",
       "      <td>32.000000</td>\n",
       "      <td>30대</td>\n",
       "    </tr>\n",
       "  </tbody>\n",
       "</table>\n",
       "<p>731 rows × 12 columns</p>\n",
       "</div>"
      ],
      "text/plain": [
       "        sex  sibsp  parch     fare  class    who  adult_male  embark_town  \\\n",
       "0      male      1      0   7.2500  Third    man        True  Southampton   \n",
       "1    female      1      0  71.2833  First  woman       False    Cherbourg   \n",
       "2    female      0      0   7.9250  Third  woman       False  Southampton   \n",
       "3    female      1      0  53.1000  First  woman       False  Southampton   \n",
       "5      male      0      0   8.4583  Third    man        True   Queenstown   \n",
       "..      ...    ...    ...      ...    ...    ...         ...          ...   \n",
       "885  female      0      5  29.1250  Third  woman       False   Queenstown   \n",
       "887  female      0      0  30.0000  First  woman       False  Southampton   \n",
       "888  female      1      2  23.4500  Third  woman       False  Southampton   \n",
       "889    male      0      0  30.0000  First    man        True    Cherbourg   \n",
       "890    male      0      0   7.7500  Third    man        True   Queenstown   \n",
       "\n",
       "    alive  alone    new_age age_group  \n",
       "0      no  False  22.000000       20대  \n",
       "1     yes  False  38.000000       30대  \n",
       "2     yes   True  26.000000       20대  \n",
       "3     yes  False  35.000000       30대  \n",
       "5      no   True  34.186798       30대  \n",
       "..    ...    ...        ...       ...  \n",
       "885    no  False  39.000000       30대  \n",
       "887   yes   True  19.000000       10대  \n",
       "888    no  False  31.971429       30대  \n",
       "889   yes   True  26.000000       20대  \n",
       "890    no   True  32.000000       30대  \n",
       "\n",
       "[731 rows x 12 columns]"
      ]
     },
     "execution_count": 21,
     "metadata": {},
     "output_type": "execute_result"
    }
   ],
   "source": [
    "# 나이 컬럼 범주화\n",
    "df5.loc[:, 'new_age']\n",
    "\n",
    "bins = [0, 10, 20, 30, 40, 50, 60, 70, 80, 90]\n",
    "labels = ['1~9세', '10대', '20대', '30대', '40대', '50대', '60대', '70대', '80대']\n",
    "df5['age_group'] = pd.cut(df5['new_age'], bins=bins, labels=labels, right=False)\n",
    "\n",
    "df5"
   ]
  },
  {
   "cell_type": "code",
   "execution_count": 22,
   "metadata": {},
   "outputs": [
    {
     "data": {
      "text/plain": [
       "age_group\n",
       "30대     232\n",
       "20대     186\n",
       "10대      94\n",
       "40대      87\n",
       "1~9세     60\n",
       "50대      46\n",
       "60대      19\n",
       "70대       6\n",
       "80대       1\n",
       "Name: count, dtype: int64"
      ]
     },
     "execution_count": 22,
     "metadata": {},
     "output_type": "execute_result"
    }
   ],
   "source": [
    "# 나이 범주 빈도수 확인\n",
    "df5['age_group'].value_counts()"
   ]
  },
  {
   "cell_type": "markdown",
   "metadata": {},
   "source": [
    "> 빈도수 확인 결과 60대 이상은 빈도가 적으므로 통합"
   ]
  },
  {
   "cell_type": "code",
   "execution_count": 23,
   "metadata": {},
   "outputs": [
    {
     "data": {
      "text/html": [
       "<div>\n",
       "<style scoped>\n",
       "    .dataframe tbody tr th:only-of-type {\n",
       "        vertical-align: middle;\n",
       "    }\n",
       "\n",
       "    .dataframe tbody tr th {\n",
       "        vertical-align: top;\n",
       "    }\n",
       "\n",
       "    .dataframe thead th {\n",
       "        text-align: right;\n",
       "    }\n",
       "</style>\n",
       "<table border=\"1\" class=\"dataframe\">\n",
       "  <thead>\n",
       "    <tr style=\"text-align: right;\">\n",
       "      <th></th>\n",
       "      <th>sex</th>\n",
       "      <th>sibsp</th>\n",
       "      <th>parch</th>\n",
       "      <th>fare</th>\n",
       "      <th>class</th>\n",
       "      <th>who</th>\n",
       "      <th>adult_male</th>\n",
       "      <th>embark_town</th>\n",
       "      <th>alive</th>\n",
       "      <th>alone</th>\n",
       "      <th>new_age</th>\n",
       "      <th>age_group</th>\n",
       "    </tr>\n",
       "  </thead>\n",
       "  <tbody>\n",
       "    <tr>\n",
       "      <th>0</th>\n",
       "      <td>male</td>\n",
       "      <td>1</td>\n",
       "      <td>0</td>\n",
       "      <td>7.2500</td>\n",
       "      <td>Third</td>\n",
       "      <td>man</td>\n",
       "      <td>True</td>\n",
       "      <td>Southampton</td>\n",
       "      <td>no</td>\n",
       "      <td>False</td>\n",
       "      <td>22.000000</td>\n",
       "      <td>20대</td>\n",
       "    </tr>\n",
       "    <tr>\n",
       "      <th>1</th>\n",
       "      <td>female</td>\n",
       "      <td>1</td>\n",
       "      <td>0</td>\n",
       "      <td>71.2833</td>\n",
       "      <td>First</td>\n",
       "      <td>woman</td>\n",
       "      <td>False</td>\n",
       "      <td>Cherbourg</td>\n",
       "      <td>yes</td>\n",
       "      <td>False</td>\n",
       "      <td>38.000000</td>\n",
       "      <td>30대</td>\n",
       "    </tr>\n",
       "    <tr>\n",
       "      <th>2</th>\n",
       "      <td>female</td>\n",
       "      <td>0</td>\n",
       "      <td>0</td>\n",
       "      <td>7.9250</td>\n",
       "      <td>Third</td>\n",
       "      <td>woman</td>\n",
       "      <td>False</td>\n",
       "      <td>Southampton</td>\n",
       "      <td>yes</td>\n",
       "      <td>True</td>\n",
       "      <td>26.000000</td>\n",
       "      <td>20대</td>\n",
       "    </tr>\n",
       "    <tr>\n",
       "      <th>3</th>\n",
       "      <td>female</td>\n",
       "      <td>1</td>\n",
       "      <td>0</td>\n",
       "      <td>53.1000</td>\n",
       "      <td>First</td>\n",
       "      <td>woman</td>\n",
       "      <td>False</td>\n",
       "      <td>Southampton</td>\n",
       "      <td>yes</td>\n",
       "      <td>False</td>\n",
       "      <td>35.000000</td>\n",
       "      <td>30대</td>\n",
       "    </tr>\n",
       "    <tr>\n",
       "      <th>5</th>\n",
       "      <td>male</td>\n",
       "      <td>0</td>\n",
       "      <td>0</td>\n",
       "      <td>8.4583</td>\n",
       "      <td>Third</td>\n",
       "      <td>man</td>\n",
       "      <td>True</td>\n",
       "      <td>Queenstown</td>\n",
       "      <td>no</td>\n",
       "      <td>True</td>\n",
       "      <td>34.186798</td>\n",
       "      <td>30대</td>\n",
       "    </tr>\n",
       "    <tr>\n",
       "      <th>...</th>\n",
       "      <td>...</td>\n",
       "      <td>...</td>\n",
       "      <td>...</td>\n",
       "      <td>...</td>\n",
       "      <td>...</td>\n",
       "      <td>...</td>\n",
       "      <td>...</td>\n",
       "      <td>...</td>\n",
       "      <td>...</td>\n",
       "      <td>...</td>\n",
       "      <td>...</td>\n",
       "      <td>...</td>\n",
       "    </tr>\n",
       "    <tr>\n",
       "      <th>885</th>\n",
       "      <td>female</td>\n",
       "      <td>0</td>\n",
       "      <td>5</td>\n",
       "      <td>29.1250</td>\n",
       "      <td>Third</td>\n",
       "      <td>woman</td>\n",
       "      <td>False</td>\n",
       "      <td>Queenstown</td>\n",
       "      <td>no</td>\n",
       "      <td>False</td>\n",
       "      <td>39.000000</td>\n",
       "      <td>30대</td>\n",
       "    </tr>\n",
       "    <tr>\n",
       "      <th>887</th>\n",
       "      <td>female</td>\n",
       "      <td>0</td>\n",
       "      <td>0</td>\n",
       "      <td>30.0000</td>\n",
       "      <td>First</td>\n",
       "      <td>woman</td>\n",
       "      <td>False</td>\n",
       "      <td>Southampton</td>\n",
       "      <td>yes</td>\n",
       "      <td>True</td>\n",
       "      <td>19.000000</td>\n",
       "      <td>10대</td>\n",
       "    </tr>\n",
       "    <tr>\n",
       "      <th>888</th>\n",
       "      <td>female</td>\n",
       "      <td>1</td>\n",
       "      <td>2</td>\n",
       "      <td>23.4500</td>\n",
       "      <td>Third</td>\n",
       "      <td>woman</td>\n",
       "      <td>False</td>\n",
       "      <td>Southampton</td>\n",
       "      <td>no</td>\n",
       "      <td>False</td>\n",
       "      <td>31.971429</td>\n",
       "      <td>30대</td>\n",
       "    </tr>\n",
       "    <tr>\n",
       "      <th>889</th>\n",
       "      <td>male</td>\n",
       "      <td>0</td>\n",
       "      <td>0</td>\n",
       "      <td>30.0000</td>\n",
       "      <td>First</td>\n",
       "      <td>man</td>\n",
       "      <td>True</td>\n",
       "      <td>Cherbourg</td>\n",
       "      <td>yes</td>\n",
       "      <td>True</td>\n",
       "      <td>26.000000</td>\n",
       "      <td>20대</td>\n",
       "    </tr>\n",
       "    <tr>\n",
       "      <th>890</th>\n",
       "      <td>male</td>\n",
       "      <td>0</td>\n",
       "      <td>0</td>\n",
       "      <td>7.7500</td>\n",
       "      <td>Third</td>\n",
       "      <td>man</td>\n",
       "      <td>True</td>\n",
       "      <td>Queenstown</td>\n",
       "      <td>no</td>\n",
       "      <td>True</td>\n",
       "      <td>32.000000</td>\n",
       "      <td>30대</td>\n",
       "    </tr>\n",
       "  </tbody>\n",
       "</table>\n",
       "<p>731 rows × 12 columns</p>\n",
       "</div>"
      ],
      "text/plain": [
       "        sex  sibsp  parch     fare  class    who  adult_male  embark_town  \\\n",
       "0      male      1      0   7.2500  Third    man        True  Southampton   \n",
       "1    female      1      0  71.2833  First  woman       False    Cherbourg   \n",
       "2    female      0      0   7.9250  Third  woman       False  Southampton   \n",
       "3    female      1      0  53.1000  First  woman       False  Southampton   \n",
       "5      male      0      0   8.4583  Third    man        True   Queenstown   \n",
       "..      ...    ...    ...      ...    ...    ...         ...          ...   \n",
       "885  female      0      5  29.1250  Third  woman       False   Queenstown   \n",
       "887  female      0      0  30.0000  First  woman       False  Southampton   \n",
       "888  female      1      2  23.4500  Third  woman       False  Southampton   \n",
       "889    male      0      0  30.0000  First    man        True    Cherbourg   \n",
       "890    male      0      0   7.7500  Third    man        True   Queenstown   \n",
       "\n",
       "    alive  alone    new_age age_group  \n",
       "0      no  False  22.000000       20대  \n",
       "1     yes  False  38.000000       30대  \n",
       "2     yes   True  26.000000       20대  \n",
       "3     yes  False  35.000000       30대  \n",
       "5      no   True  34.186798       30대  \n",
       "..    ...    ...        ...       ...  \n",
       "885    no  False  39.000000       30대  \n",
       "887   yes   True  19.000000       10대  \n",
       "888    no  False  31.971429       30대  \n",
       "889   yes   True  26.000000       20대  \n",
       "890    no   True  32.000000       30대  \n",
       "\n",
       "[731 rows x 12 columns]"
      ]
     },
     "execution_count": 23,
     "metadata": {},
     "output_type": "execute_result"
    }
   ],
   "source": [
    "# 나이 컬럼 범주화\n",
    "df5.loc[:, 'new_age']\n",
    "\n",
    "bins = [0, 10, 20, 30, 40, 50, 60, 90]\n",
    "labels = ['1~9세', '10대', '20대', '30대', '40대', '50대', '60대 이상']\n",
    "df5['age_group'] = pd.cut(df5['new_age'], bins=bins, labels=labels, right=False)\n",
    "\n",
    "df5"
   ]
  },
  {
   "cell_type": "code",
   "execution_count": 24,
   "metadata": {},
   "outputs": [
    {
     "data": {
      "text/plain": [
       "age_group\n",
       "30대       232\n",
       "20대       186\n",
       "10대        94\n",
       "40대        87\n",
       "1~9세       60\n",
       "50대        46\n",
       "60대 이상     26\n",
       "Name: count, dtype: int64"
      ]
     },
     "execution_count": 24,
     "metadata": {},
     "output_type": "execute_result"
    }
   ],
   "source": [
    "df5['age_group'].value_counts()"
   ]
  },
  {
   "cell_type": "code",
   "execution_count": 25,
   "metadata": {},
   "outputs": [
    {
     "data": {
      "text/plain": [
       "sex            0\n",
       "sibsp          0\n",
       "parch          0\n",
       "fare           0\n",
       "class          0\n",
       "who            0\n",
       "adult_male     0\n",
       "embark_town    2\n",
       "alive          0\n",
       "alone          0\n",
       "new_age        0\n",
       "age_group      0\n",
       "dtype: int64"
      ]
     },
     "execution_count": 25,
     "metadata": {},
     "output_type": "execute_result"
    }
   ],
   "source": [
    "df5.isna().sum()"
   ]
  },
  {
   "cell_type": "code",
   "execution_count": 26,
   "metadata": {},
   "outputs": [
    {
     "data": {
      "text/plain": [
       "embark_town\n",
       "Southampton    527\n",
       "Cherbourg      148\n",
       "Queenstown      54\n",
       "Name: count, dtype: int64"
      ]
     },
     "execution_count": 26,
     "metadata": {},
     "output_type": "execute_result"
    }
   ],
   "source": [
    "# embarked 변수의 범주 확인\n",
    "df5['embark_town'].value_counts()"
   ]
  },
  {
   "cell_type": "markdown",
   "metadata": {},
   "source": [
    "> embarked 변수의 경우 결측치가 2개이므로 최빈값인 Southampton로 대체해도 데이터의 큰 왜곡은 없을 것으로 생각된다."
   ]
  },
  {
   "cell_type": "code",
   "execution_count": 27,
   "metadata": {},
   "outputs": [
    {
     "data": {
      "text/plain": [
       "embark_town\n",
       "Southampton    529\n",
       "Cherbourg      148\n",
       "Queenstown      54\n",
       "Name: count, dtype: int64"
      ]
     },
     "execution_count": 27,
     "metadata": {},
     "output_type": "execute_result"
    }
   ],
   "source": [
    "df6 = df5.fillna({'embark_town' : df5['embark_town'].mode()[0]})\n",
    "df6['embark_town'].value_counts()"
   ]
  },
  {
   "cell_type": "code",
   "execution_count": 28,
   "metadata": {},
   "outputs": [
    {
     "data": {
      "text/plain": [
       "sex            0\n",
       "sibsp          0\n",
       "parch          0\n",
       "fare           0\n",
       "class          0\n",
       "who            0\n",
       "adult_male     0\n",
       "embark_town    0\n",
       "alive          0\n",
       "alone          0\n",
       "new_age        0\n",
       "age_group      0\n",
       "dtype: int64"
      ]
     },
     "execution_count": 28,
     "metadata": {},
     "output_type": "execute_result"
    }
   ],
   "source": [
    "# 모든 결측치 처리 완료\n",
    "df6.isna().sum()"
   ]
  },
  {
   "cell_type": "markdown",
   "metadata": {},
   "source": [
    "### 최종 데이터셋 정보\n",
    "> sex(성별) : male = 남성, female = 여성   \n",
    "sibsp(동승한 형제 및 배우자의 수)  \n",
    "parch(동승한 부모 및 자식의 수)  \n",
    "fare(승객 요금) \n",
    "class(수치형 객실 등급) : First = 1등석, Second = 2등석, Third = 3등석  \n",
    "who(남자, 여자, 아이) : man, woman, child  \n",
    "adult_male : True(성인 남자), False(그 외)  \n",
    "embark_town(탑승지) : Cherbourg = 셰르부르, Queenstown = 퀸즈타운, Southampton = 사우샘프턴  \n",
    "alive(생존 여부) : no = 사망, yes = 생존   \n",
    "alone(혼자 탑승 여부) : True(혼자 탑승), False(동승 탑승)  \n",
    "new_age(나이)  "
   ]
  },
  {
   "cell_type": "code",
   "execution_count": 29,
   "metadata": {},
   "outputs": [
    {
     "data": {
      "text/html": [
       "<div>\n",
       "<style scoped>\n",
       "    .dataframe tbody tr th:only-of-type {\n",
       "        vertical-align: middle;\n",
       "    }\n",
       "\n",
       "    .dataframe tbody tr th {\n",
       "        vertical-align: top;\n",
       "    }\n",
       "\n",
       "    .dataframe thead th {\n",
       "        text-align: right;\n",
       "    }\n",
       "</style>\n",
       "<table border=\"1\" class=\"dataframe\">\n",
       "  <thead>\n",
       "    <tr style=\"text-align: right;\">\n",
       "      <th></th>\n",
       "      <th>sex</th>\n",
       "      <th>sibsp</th>\n",
       "      <th>parch</th>\n",
       "      <th>fare</th>\n",
       "      <th>class</th>\n",
       "      <th>who</th>\n",
       "      <th>adult_male</th>\n",
       "      <th>embark_town</th>\n",
       "      <th>alive</th>\n",
       "      <th>alone</th>\n",
       "      <th>new_age</th>\n",
       "      <th>age_group</th>\n",
       "    </tr>\n",
       "  </thead>\n",
       "  <tbody>\n",
       "    <tr>\n",
       "      <th>0</th>\n",
       "      <td>male</td>\n",
       "      <td>1</td>\n",
       "      <td>0</td>\n",
       "      <td>7.2500</td>\n",
       "      <td>Third</td>\n",
       "      <td>man</td>\n",
       "      <td>True</td>\n",
       "      <td>Southampton</td>\n",
       "      <td>no</td>\n",
       "      <td>False</td>\n",
       "      <td>22.000000</td>\n",
       "      <td>20대</td>\n",
       "    </tr>\n",
       "    <tr>\n",
       "      <th>1</th>\n",
       "      <td>female</td>\n",
       "      <td>1</td>\n",
       "      <td>0</td>\n",
       "      <td>71.2833</td>\n",
       "      <td>First</td>\n",
       "      <td>woman</td>\n",
       "      <td>False</td>\n",
       "      <td>Cherbourg</td>\n",
       "      <td>yes</td>\n",
       "      <td>False</td>\n",
       "      <td>38.000000</td>\n",
       "      <td>30대</td>\n",
       "    </tr>\n",
       "    <tr>\n",
       "      <th>2</th>\n",
       "      <td>female</td>\n",
       "      <td>0</td>\n",
       "      <td>0</td>\n",
       "      <td>7.9250</td>\n",
       "      <td>Third</td>\n",
       "      <td>woman</td>\n",
       "      <td>False</td>\n",
       "      <td>Southampton</td>\n",
       "      <td>yes</td>\n",
       "      <td>True</td>\n",
       "      <td>26.000000</td>\n",
       "      <td>20대</td>\n",
       "    </tr>\n",
       "    <tr>\n",
       "      <th>3</th>\n",
       "      <td>female</td>\n",
       "      <td>1</td>\n",
       "      <td>0</td>\n",
       "      <td>53.1000</td>\n",
       "      <td>First</td>\n",
       "      <td>woman</td>\n",
       "      <td>False</td>\n",
       "      <td>Southampton</td>\n",
       "      <td>yes</td>\n",
       "      <td>False</td>\n",
       "      <td>35.000000</td>\n",
       "      <td>30대</td>\n",
       "    </tr>\n",
       "    <tr>\n",
       "      <th>5</th>\n",
       "      <td>male</td>\n",
       "      <td>0</td>\n",
       "      <td>0</td>\n",
       "      <td>8.4583</td>\n",
       "      <td>Third</td>\n",
       "      <td>man</td>\n",
       "      <td>True</td>\n",
       "      <td>Queenstown</td>\n",
       "      <td>no</td>\n",
       "      <td>True</td>\n",
       "      <td>34.186798</td>\n",
       "      <td>30대</td>\n",
       "    </tr>\n",
       "    <tr>\n",
       "      <th>...</th>\n",
       "      <td>...</td>\n",
       "      <td>...</td>\n",
       "      <td>...</td>\n",
       "      <td>...</td>\n",
       "      <td>...</td>\n",
       "      <td>...</td>\n",
       "      <td>...</td>\n",
       "      <td>...</td>\n",
       "      <td>...</td>\n",
       "      <td>...</td>\n",
       "      <td>...</td>\n",
       "      <td>...</td>\n",
       "    </tr>\n",
       "    <tr>\n",
       "      <th>885</th>\n",
       "      <td>female</td>\n",
       "      <td>0</td>\n",
       "      <td>5</td>\n",
       "      <td>29.1250</td>\n",
       "      <td>Third</td>\n",
       "      <td>woman</td>\n",
       "      <td>False</td>\n",
       "      <td>Queenstown</td>\n",
       "      <td>no</td>\n",
       "      <td>False</td>\n",
       "      <td>39.000000</td>\n",
       "      <td>30대</td>\n",
       "    </tr>\n",
       "    <tr>\n",
       "      <th>887</th>\n",
       "      <td>female</td>\n",
       "      <td>0</td>\n",
       "      <td>0</td>\n",
       "      <td>30.0000</td>\n",
       "      <td>First</td>\n",
       "      <td>woman</td>\n",
       "      <td>False</td>\n",
       "      <td>Southampton</td>\n",
       "      <td>yes</td>\n",
       "      <td>True</td>\n",
       "      <td>19.000000</td>\n",
       "      <td>10대</td>\n",
       "    </tr>\n",
       "    <tr>\n",
       "      <th>888</th>\n",
       "      <td>female</td>\n",
       "      <td>1</td>\n",
       "      <td>2</td>\n",
       "      <td>23.4500</td>\n",
       "      <td>Third</td>\n",
       "      <td>woman</td>\n",
       "      <td>False</td>\n",
       "      <td>Southampton</td>\n",
       "      <td>no</td>\n",
       "      <td>False</td>\n",
       "      <td>31.971429</td>\n",
       "      <td>30대</td>\n",
       "    </tr>\n",
       "    <tr>\n",
       "      <th>889</th>\n",
       "      <td>male</td>\n",
       "      <td>0</td>\n",
       "      <td>0</td>\n",
       "      <td>30.0000</td>\n",
       "      <td>First</td>\n",
       "      <td>man</td>\n",
       "      <td>True</td>\n",
       "      <td>Cherbourg</td>\n",
       "      <td>yes</td>\n",
       "      <td>True</td>\n",
       "      <td>26.000000</td>\n",
       "      <td>20대</td>\n",
       "    </tr>\n",
       "    <tr>\n",
       "      <th>890</th>\n",
       "      <td>male</td>\n",
       "      <td>0</td>\n",
       "      <td>0</td>\n",
       "      <td>7.7500</td>\n",
       "      <td>Third</td>\n",
       "      <td>man</td>\n",
       "      <td>True</td>\n",
       "      <td>Queenstown</td>\n",
       "      <td>no</td>\n",
       "      <td>True</td>\n",
       "      <td>32.000000</td>\n",
       "      <td>30대</td>\n",
       "    </tr>\n",
       "  </tbody>\n",
       "</table>\n",
       "<p>731 rows × 12 columns</p>\n",
       "</div>"
      ],
      "text/plain": [
       "        sex  sibsp  parch     fare  class    who  adult_male  embark_town  \\\n",
       "0      male      1      0   7.2500  Third    man        True  Southampton   \n",
       "1    female      1      0  71.2833  First  woman       False    Cherbourg   \n",
       "2    female      0      0   7.9250  Third  woman       False  Southampton   \n",
       "3    female      1      0  53.1000  First  woman       False  Southampton   \n",
       "5      male      0      0   8.4583  Third    man        True   Queenstown   \n",
       "..      ...    ...    ...      ...    ...    ...         ...          ...   \n",
       "885  female      0      5  29.1250  Third  woman       False   Queenstown   \n",
       "887  female      0      0  30.0000  First  woman       False  Southampton   \n",
       "888  female      1      2  23.4500  Third  woman       False  Southampton   \n",
       "889    male      0      0  30.0000  First    man        True    Cherbourg   \n",
       "890    male      0      0   7.7500  Third    man        True   Queenstown   \n",
       "\n",
       "    alive  alone    new_age age_group  \n",
       "0      no  False  22.000000       20대  \n",
       "1     yes  False  38.000000       30대  \n",
       "2     yes   True  26.000000       20대  \n",
       "3     yes  False  35.000000       30대  \n",
       "5      no   True  34.186798       30대  \n",
       "..    ...    ...        ...       ...  \n",
       "885    no  False  39.000000       30대  \n",
       "887   yes   True  19.000000       10대  \n",
       "888    no  False  31.971429       30대  \n",
       "889   yes   True  26.000000       20대  \n",
       "890    no   True  32.000000       30대  \n",
       "\n",
       "[731 rows x 12 columns]"
      ]
     },
     "execution_count": 29,
     "metadata": {},
     "output_type": "execute_result"
    }
   ],
   "source": [
    "# 최종 데이터 이름을 titanic으로 변경\n",
    "titanic = df6.copy()\n",
    "titanic"
   ]
  },
  {
   "cell_type": "markdown",
   "metadata": {},
   "source": [
    "### 데이터 분포 확인"
   ]
  },
  {
   "cell_type": "code",
   "execution_count": 30,
   "metadata": {},
   "outputs": [
    {
     "data": {
      "text/html": [
       "<div>\n",
       "<style scoped>\n",
       "    .dataframe tbody tr th:only-of-type {\n",
       "        vertical-align: middle;\n",
       "    }\n",
       "\n",
       "    .dataframe tbody tr th {\n",
       "        vertical-align: top;\n",
       "    }\n",
       "\n",
       "    .dataframe thead th {\n",
       "        text-align: right;\n",
       "    }\n",
       "</style>\n",
       "<table border=\"1\" class=\"dataframe\">\n",
       "  <thead>\n",
       "    <tr style=\"text-align: right;\">\n",
       "      <th></th>\n",
       "      <th>sex</th>\n",
       "      <th>sibsp</th>\n",
       "      <th>parch</th>\n",
       "      <th>fare</th>\n",
       "      <th>class</th>\n",
       "      <th>who</th>\n",
       "      <th>adult_male</th>\n",
       "      <th>embark_town</th>\n",
       "      <th>alive</th>\n",
       "      <th>alone</th>\n",
       "      <th>new_age</th>\n",
       "      <th>age_group</th>\n",
       "    </tr>\n",
       "  </thead>\n",
       "  <tbody>\n",
       "    <tr>\n",
       "      <th>count</th>\n",
       "      <td>731</td>\n",
       "      <td>731.000000</td>\n",
       "      <td>731.000000</td>\n",
       "      <td>731.000000</td>\n",
       "      <td>731</td>\n",
       "      <td>731</td>\n",
       "      <td>731</td>\n",
       "      <td>731</td>\n",
       "      <td>731</td>\n",
       "      <td>731</td>\n",
       "      <td>731.000000</td>\n",
       "      <td>731</td>\n",
       "    </tr>\n",
       "    <tr>\n",
       "      <th>unique</th>\n",
       "      <td>2</td>\n",
       "      <td>NaN</td>\n",
       "      <td>NaN</td>\n",
       "      <td>NaN</td>\n",
       "      <td>3</td>\n",
       "      <td>3</td>\n",
       "      <td>2</td>\n",
       "      <td>3</td>\n",
       "      <td>2</td>\n",
       "      <td>2</td>\n",
       "      <td>NaN</td>\n",
       "      <td>7</td>\n",
       "    </tr>\n",
       "    <tr>\n",
       "      <th>top</th>\n",
       "      <td>male</td>\n",
       "      <td>NaN</td>\n",
       "      <td>NaN</td>\n",
       "      <td>NaN</td>\n",
       "      <td>Third</td>\n",
       "      <td>man</td>\n",
       "      <td>True</td>\n",
       "      <td>Southampton</td>\n",
       "      <td>no</td>\n",
       "      <td>True</td>\n",
       "      <td>NaN</td>\n",
       "      <td>30대</td>\n",
       "    </tr>\n",
       "    <tr>\n",
       "      <th>freq</th>\n",
       "      <td>450</td>\n",
       "      <td>NaN</td>\n",
       "      <td>NaN</td>\n",
       "      <td>NaN</td>\n",
       "      <td>366</td>\n",
       "      <td>410</td>\n",
       "      <td>410</td>\n",
       "      <td>529</td>\n",
       "      <td>420</td>\n",
       "      <td>404</td>\n",
       "      <td>NaN</td>\n",
       "      <td>232</td>\n",
       "    </tr>\n",
       "    <tr>\n",
       "      <th>mean</th>\n",
       "      <td>NaN</td>\n",
       "      <td>0.522572</td>\n",
       "      <td>0.436389</td>\n",
       "      <td>36.046962</td>\n",
       "      <td>NaN</td>\n",
       "      <td>NaN</td>\n",
       "      <td>NaN</td>\n",
       "      <td>NaN</td>\n",
       "      <td>NaN</td>\n",
       "      <td>NaN</td>\n",
       "      <td>30.392476</td>\n",
       "      <td>NaN</td>\n",
       "    </tr>\n",
       "    <tr>\n",
       "      <th>std</th>\n",
       "      <td>NaN</td>\n",
       "      <td>0.927788</td>\n",
       "      <td>0.855115</td>\n",
       "      <td>53.591954</td>\n",
       "      <td>NaN</td>\n",
       "      <td>NaN</td>\n",
       "      <td>NaN</td>\n",
       "      <td>NaN</td>\n",
       "      <td>NaN</td>\n",
       "      <td>NaN</td>\n",
       "      <td>14.130445</td>\n",
       "      <td>NaN</td>\n",
       "    </tr>\n",
       "    <tr>\n",
       "      <th>min</th>\n",
       "      <td>NaN</td>\n",
       "      <td>0.000000</td>\n",
       "      <td>0.000000</td>\n",
       "      <td>0.000000</td>\n",
       "      <td>NaN</td>\n",
       "      <td>NaN</td>\n",
       "      <td>NaN</td>\n",
       "      <td>NaN</td>\n",
       "      <td>NaN</td>\n",
       "      <td>NaN</td>\n",
       "      <td>0.420000</td>\n",
       "      <td>NaN</td>\n",
       "    </tr>\n",
       "    <tr>\n",
       "      <th>25%</th>\n",
       "      <td>NaN</td>\n",
       "      <td>0.000000</td>\n",
       "      <td>0.000000</td>\n",
       "      <td>8.050000</td>\n",
       "      <td>NaN</td>\n",
       "      <td>NaN</td>\n",
       "      <td>NaN</td>\n",
       "      <td>NaN</td>\n",
       "      <td>NaN</td>\n",
       "      <td>NaN</td>\n",
       "      <td>21.000000</td>\n",
       "      <td>NaN</td>\n",
       "    </tr>\n",
       "    <tr>\n",
       "      <th>50%</th>\n",
       "      <td>NaN</td>\n",
       "      <td>0.000000</td>\n",
       "      <td>0.000000</td>\n",
       "      <td>18.000000</td>\n",
       "      <td>NaN</td>\n",
       "      <td>NaN</td>\n",
       "      <td>NaN</td>\n",
       "      <td>NaN</td>\n",
       "      <td>NaN</td>\n",
       "      <td>NaN</td>\n",
       "      <td>31.000000</td>\n",
       "      <td>NaN</td>\n",
       "    </tr>\n",
       "    <tr>\n",
       "      <th>75%</th>\n",
       "      <td>NaN</td>\n",
       "      <td>1.000000</td>\n",
       "      <td>1.000000</td>\n",
       "      <td>35.500000</td>\n",
       "      <td>NaN</td>\n",
       "      <td>NaN</td>\n",
       "      <td>NaN</td>\n",
       "      <td>NaN</td>\n",
       "      <td>NaN</td>\n",
       "      <td>NaN</td>\n",
       "      <td>37.000000</td>\n",
       "      <td>NaN</td>\n",
       "    </tr>\n",
       "    <tr>\n",
       "      <th>max</th>\n",
       "      <td>NaN</td>\n",
       "      <td>5.000000</td>\n",
       "      <td>6.000000</td>\n",
       "      <td>512.329200</td>\n",
       "      <td>NaN</td>\n",
       "      <td>NaN</td>\n",
       "      <td>NaN</td>\n",
       "      <td>NaN</td>\n",
       "      <td>NaN</td>\n",
       "      <td>NaN</td>\n",
       "      <td>80.000000</td>\n",
       "      <td>NaN</td>\n",
       "    </tr>\n",
       "  </tbody>\n",
       "</table>\n",
       "</div>"
      ],
      "text/plain": [
       "         sex       sibsp       parch        fare  class  who adult_male  \\\n",
       "count    731  731.000000  731.000000  731.000000    731  731        731   \n",
       "unique     2         NaN         NaN         NaN      3    3          2   \n",
       "top     male         NaN         NaN         NaN  Third  man       True   \n",
       "freq     450         NaN         NaN         NaN    366  410        410   \n",
       "mean     NaN    0.522572    0.436389   36.046962    NaN  NaN        NaN   \n",
       "std      NaN    0.927788    0.855115   53.591954    NaN  NaN        NaN   \n",
       "min      NaN    0.000000    0.000000    0.000000    NaN  NaN        NaN   \n",
       "25%      NaN    0.000000    0.000000    8.050000    NaN  NaN        NaN   \n",
       "50%      NaN    0.000000    0.000000   18.000000    NaN  NaN        NaN   \n",
       "75%      NaN    1.000000    1.000000   35.500000    NaN  NaN        NaN   \n",
       "max      NaN    5.000000    6.000000  512.329200    NaN  NaN        NaN   \n",
       "\n",
       "        embark_town alive alone     new_age age_group  \n",
       "count           731   731   731  731.000000       731  \n",
       "unique            3     2     2         NaN         7  \n",
       "top     Southampton    no  True         NaN       30대  \n",
       "freq            529   420   404         NaN       232  \n",
       "mean            NaN   NaN   NaN   30.392476       NaN  \n",
       "std             NaN   NaN   NaN   14.130445       NaN  \n",
       "min             NaN   NaN   NaN    0.420000       NaN  \n",
       "25%             NaN   NaN   NaN   21.000000       NaN  \n",
       "50%             NaN   NaN   NaN   31.000000       NaN  \n",
       "75%             NaN   NaN   NaN   37.000000       NaN  \n",
       "max             NaN   NaN   NaN   80.000000       NaN  "
      ]
     },
     "execution_count": 30,
     "metadata": {},
     "output_type": "execute_result"
    }
   ],
   "source": [
    "titanic.describe(include='all')"
   ]
  },
  {
   "cell_type": "markdown",
   "metadata": {},
   "source": [
    "> 1. 남성이 450명으로 여성보다 많다.\n",
    "> 2. 요금은 평균 36$를 지불했다.  \n",
    "> 3. 3등급 객실이 410명으로 가장 많다.  \n",
    "> 4. 성인 남성이 410명으로 성인 여성이나 아이보다 많다.  \n",
    "> 5. 탑승지 사우샘프턴이 529명으로 가장 많다.  \n",
    "> 6. 사망자가 420명으로 생존자보다 많다.  \n",
    "> 7. 혼자 탑승한 승객이 404명으로 동승한 탑승객보다 많다.  \n",
    "> 8. 평균 연령은 약 30세이다.  "
   ]
  },
  {
   "cell_type": "markdown",
   "metadata": {},
   "source": [
    "### 데이터의 기초 정보들 확인"
   ]
  },
  {
   "cell_type": "markdown",
   "metadata": {},
   "source": [
    "#### (1) 전체 생존률 확인"
   ]
  },
  {
   "cell_type": "markdown",
   "metadata": {},
   "source": [
    "alive(생존 여부) : no = 사망, yes = 생존"
   ]
  },
  {
   "cell_type": "code",
   "execution_count": 31,
   "metadata": {},
   "outputs": [
    {
     "name": "stdout",
     "output_type": "stream",
     "text": [
      "생존자 수: 311명\n",
      "사망자 수: 420명\n",
      "전체 생존률: 42.54%\n"
     ]
    }
   ],
   "source": [
    "# 생존자와 사망자 수 확인\n",
    "survive = titanic.loc[:, ['alive']].value_counts() # 사망: 549, 생존: 342\n",
    "print(f'생존자 수: {survive.iloc[1]}명\\n사망자 수: {survive.iloc[0]}명')\n",
    "\n",
    "# 전체 생존률 확인\n",
    "survive_rate = survive.iloc[1] / survive.sum()\n",
    "# titanic['survived'].mean() 이거 해도 됨\n",
    "print(f'전체 생존률: {np.round(survive_rate*100, 2)}%')"
   ]
  },
  {
   "cell_type": "markdown",
   "metadata": {},
   "source": [
    "> 전체 생존률이 약 42.5%로 타이타닉호 침몰 사고가 심각한 사고였음을 짐작할 수 있다."
   ]
  },
  {
   "cell_type": "markdown",
   "metadata": {},
   "source": [
    "### (2) 성별(sex)에 따른 생존률 확인"
   ]
  },
  {
   "cell_type": "markdown",
   "metadata": {},
   "source": [
    "sex(성별) : male = 남성, female = 여성"
   ]
  },
  {
   "cell_type": "code",
   "execution_count": 32,
   "metadata": {},
   "outputs": [
    {
     "name": "stdout",
     "output_type": "stream",
     "text": [
      "sex     alive\n",
      "male    no       347\n",
      "female  yes      208\n",
      "male    yes      103\n",
      "female  no        73\n",
      "Name: count, dtype: int64\n"
     ]
    }
   ],
   "source": [
    "# 성별에 따른 alive 도수 확인\n",
    "survive_sa = titanic.loc[:, ['sex', 'alive']].value_counts()\n",
    "print(survive_sa)"
   ]
  },
  {
   "cell_type": "code",
   "execution_count": 33,
   "metadata": {},
   "outputs": [
    {
     "name": "stdout",
     "output_type": "stream",
     "text": [
      "여성 생존률: 74.02%\n",
      "남성 생존률: 22.89%\n"
     ]
    }
   ],
   "source": [
    "# 여성 생존률\n",
    "survive_female_rate = survive_sa.loc['female', 'yes'] / survive_sa.loc['female'].sum()\n",
    "# 남성 생존률\n",
    "survive_male_rate = survive_sa.loc['male', 'yes'] / survive_sa.loc['male'].sum()\n",
    "\n",
    "print(f'여성 생존률: {np.round(survive_female_rate*100, 2)}%')\n",
    "print(f'남성 생존률: {np.round(survive_male_rate*100, 2)}%')"
   ]
  },
  {
   "cell_type": "markdown",
   "metadata": {},
   "source": [
    "> 여성 생존률이 압도적으로 높다."
   ]
  },
  {
   "cell_type": "markdown",
   "metadata": {},
   "source": [
    "### (3) who 변수에 따른 생존률 확인"
   ]
  },
  {
   "cell_type": "markdown",
   "metadata": {},
   "source": [
    "who(남자, 여자, 아이) : man, woman, child"
   ]
  },
  {
   "cell_type": "code",
   "execution_count": 34,
   "metadata": {},
   "outputs": [
    {
     "data": {
      "text/plain": [
       "who    alive\n",
       "man    no       328\n",
       "woman  yes      182\n",
       "man    yes       82\n",
       "woman  no        58\n",
       "child  yes       47\n",
       "       no        34\n",
       "Name: count, dtype: int64"
      ]
     },
     "execution_count": 34,
     "metadata": {},
     "output_type": "execute_result"
    }
   ],
   "source": [
    "# who에 따른 alive 도수 확인\n",
    "survive_wa = titanic.loc[:, ['who', 'alive']].value_counts()\n",
    "survive_wa"
   ]
  },
  {
   "cell_type": "code",
   "execution_count": 35,
   "metadata": {},
   "outputs": [
    {
     "name": "stdout",
     "output_type": "stream",
     "text": [
      "성인 여성 생존률: 75.83%\n",
      "성인 남성 생존률: 20.0%\n",
      "아이 생존률: 58.02%\n"
     ]
    }
   ],
   "source": [
    "# 성인 여성 생존률\n",
    "survive_woman_rate = survive_wa.loc['woman', 'yes'] / survive_wa.loc['woman'].sum()\n",
    "# 성인 남성 생존률\n",
    "survive_man_rate = survive_wa.loc['man', 'yes'] / survive_wa.loc['man'].sum()\n",
    "# 아이 생존률\n",
    "survive_child_rate = survive_wa.loc['child', 'yes'] / survive_wa.loc['child'].sum()\n",
    "\n",
    "print(f'성인 여성 생존률: {np.round(survive_woman_rate*100, 2)}%')\n",
    "print(f'성인 남성 생존률: {np.round(survive_man_rate*100, 2)}%')\n",
    "print(f'아이 생존률: {np.round(survive_child_rate*100, 2)}%')"
   ]
  },
  {
   "cell_type": "markdown",
   "metadata": {},
   "source": [
    "> 성인 남성에 비해 성인 여성과 아이의 생존률이 압도적으로 더 높다.  \n",
    "이를 통해 타이타닉 침몰 사고 당시 여성과 아이를 우선적으로 구조했을 가능성이 높다."
   ]
  },
  {
   "attachments": {
    "image.png": {
     "image/png": "[encoded data removed]"
    }
   },
   "cell_type": "markdown",
   "metadata": {},
   "source": [
    "https://courses.bowdoin.edu/history-2203-fall-2020-kmoyniha/reflection/  \n",
    "![image.png](attachment:image.png)"
   ]
  },
  {
   "attachments": {
    "image.png": {
     "image/png": "[encoded data removed]"
    }
   },
   "cell_type": "markdown",
   "metadata": {},
   "source": [
    "https://namu.wiki/w/%ED%83%80%EC%9D%B4%ED%83%80%EB%8B%89%ED%98%B8%20%EC%B9%A8%EB%AA%B0%20%EC%82%AC%EA%B3%A0  \n",
    "![image.png](attachment:image.png)"
   ]
  },
  {
   "cell_type": "markdown",
   "metadata": {},
   "source": [
    "> 실제로 항해사가 선장에게 여성과 어린이를 먼저 태울 것을 건의한 사실을 확인할 수 있다."
   ]
  },
  {
   "cell_type": "markdown",
   "metadata": {},
   "source": [
    "### (4) 객실 등급(class)에 따른 생존률 확인"
   ]
  },
  {
   "cell_type": "markdown",
   "metadata": {},
   "source": [
    "class(수치형 객실 등급) : First = 1등석, Second = 2등석, Third = 3등석"
   ]
  },
  {
   "cell_type": "code",
   "execution_count": 36,
   "metadata": {},
   "outputs": [
    {
     "data": {
      "text/plain": [
       "class   alive\n",
       "Third   no       270\n",
       "First   yes      134\n",
       "Third   yes       96\n",
       "Second  yes       81\n",
       "First   no        78\n",
       "Second  no        72\n",
       "Name: count, dtype: int64"
      ]
     },
     "execution_count": 36,
     "metadata": {},
     "output_type": "execute_result"
    }
   ],
   "source": [
    "# class에 따른 alive 도수 확인\n",
    "survive_ca = titanic.loc[:, ['class', 'alive']].value_counts()\n",
    "survive_ca"
   ]
  },
  {
   "cell_type": "code",
   "execution_count": 37,
   "metadata": {},
   "outputs": [
    {
     "name": "stdout",
     "output_type": "stream",
     "text": [
      "1등급 객실 생존률: 63.21%\n",
      "2등급 객실 생존률: 52.94%\n",
      "3등급 객실 생존률: 26.23%\n"
     ]
    }
   ],
   "source": [
    "# 1등급 객실 생존률\n",
    "survive_class1_rate = survive_ca.loc['First', 'yes'] / survive_ca.loc['First'].sum()\n",
    "# 2등급 객실 생존률\n",
    "survive_class2_rate = survive_ca.loc['Second', 'yes'] / survive_ca.loc['Second'].sum()\n",
    "# 3등급 객실 생존률\n",
    "survive_class3_rate = survive_ca.loc['Third', 'yes'] / survive_ca.loc['Third'].sum()\n",
    "\n",
    "print(f'1등급 객실 생존률: {np.round(survive_class1_rate*100, 2)}%')\n",
    "print(f'2등급 객실 생존률: {np.round(survive_class2_rate*100, 2)}%')\n",
    "print(f'3등급 객실 생존률: {np.round(survive_class3_rate*100, 2)}%')"
   ]
  },
  {
   "cell_type": "markdown",
   "metadata": {},
   "source": [
    "> 객실 등급이 낮아질 수록 생존률이 낮아지는 것을 확인할 수 있다.  \n",
    "이를 통해 객실 등급이 낮을 수록 대피 시설이 취약했거나 구조 순위가 낮았을 가능성이 있다."
   ]
  },
  {
   "attachments": {
    "image.png": {
     "image/png": "[encoded data removed]"
    }
   },
   "cell_type": "markdown",
   "metadata": {},
   "source": [
    "https://courses.bowdoin.edu/history-2203-fall-2020-kmoyniha/reflection/  \n",
    "![image.png](attachment:image.png)"
   ]
  },
  {
   "attachments": {
    "image.png": {
     "image/png": "[encoded data removed]"
    }
   },
   "cell_type": "markdown",
   "metadata": {},
   "source": [
    "![image.png](attachment:image.png)"
   ]
  },
  {
   "cell_type": "markdown",
   "metadata": {},
   "source": [
    "> 실제로 3등급 객실이 선박의 데크와 거리가 제일 먼 것을 확인할 수 있다."
   ]
  },
  {
   "cell_type": "markdown",
   "metadata": {},
   "source": [
    "### (5) 나이(new_age)에 따른 생존률 확인"
   ]
  },
  {
   "cell_type": "code",
   "execution_count": 38,
   "metadata": {},
   "outputs": [
    {
     "data": {
      "text/plain": [
       "age_group  alive\n",
       "30대        no       128\n",
       "20대        no       115\n",
       "30대        yes      104\n",
       "20대        yes       71\n",
       "10대        no        53\n",
       "40대        no        53\n",
       "10대        yes       41\n",
       "1~9세       yes       36\n",
       "40대        yes       34\n",
       "50대        no        28\n",
       "1~9세       no        24\n",
       "60대 이상     no        19\n",
       "50대        yes       18\n",
       "60대 이상     yes        7\n",
       "Name: count, dtype: int64"
      ]
     },
     "execution_count": 38,
     "metadata": {},
     "output_type": "execute_result"
    }
   ],
   "source": [
    "# new_age에 따른 alive 도수 확인\n",
    "survive_na = titanic.loc[:, ['age_group', 'alive']].value_counts()\n",
    "survive_na"
   ]
  },
  {
   "cell_type": "code",
   "execution_count": 39,
   "metadata": {},
   "outputs": [
    {
     "name": "stdout",
     "output_type": "stream",
     "text": [
      "1~9세 생존률: 60.0%\n",
      "10대 생존률: 43.62%\n",
      "20대 생존률: 38.17%\n",
      "30대 생존률: 44.83%\n",
      "40대 생존률: 39.08%\n",
      "50대 생존률: 39.13%\n",
      "60세 이상 생존률: 26.92%\n"
     ]
    }
   ],
   "source": [
    "# 1~9세 생존률\n",
    "survive_0_rate = survive_na.loc['1~9세', 'yes'] / survive_na.loc['1~9세'].sum()\n",
    "# 10대 생존률\n",
    "survive_10_rate = survive_na.loc['10대', 'yes'] / survive_na.loc['10대'].sum()\n",
    "# 20대 생존률\n",
    "survive_20_rate = survive_na.loc['20대', 'yes'] / survive_na.loc['20대'].sum()\n",
    "# 30대 생존률\n",
    "survive_30_rate = survive_na.loc['30대', 'yes'] / survive_na.loc['30대'].sum()\n",
    "# 40대 생존률\n",
    "survive_40_rate = survive_na.loc['40대', 'yes'] / survive_na.loc['40대'].sum()\n",
    "# 50대 생존률\n",
    "survive_50_rate = survive_na.loc['50대', 'yes'] / survive_na.loc['50대'].sum()\n",
    "# 60세 이상 생존률\n",
    "survive_60_rate = survive_na.loc['60대 이상', 'yes'] / survive_na.loc['60대 이상'].sum()\n",
    "\n",
    "print(f'1~9세 생존률: {np.round(survive_0_rate*100, 2)}%')\n",
    "print(f'10대 생존률: {np.round(survive_10_rate*100, 2)}%')\n",
    "print(f'20대 생존률: {np.round(survive_20_rate*100, 2)}%')\n",
    "print(f'30대 생존률: {np.round(survive_30_rate*100, 2)}%')\n",
    "print(f'40대 생존률: {np.round(survive_40_rate*100, 2)}%')\n",
    "print(f'50대 생존률: {np.round(survive_50_rate*100, 2)}%')\n",
    "print(f'60세 이상 생존률: {np.round(survive_60_rate*100, 2)}%')"
   ]
  },
  {
   "cell_type": "markdown",
   "metadata": {},
   "source": [
    "> 1~9세의 생존률이 약 61% 가장 높긴 하지만 다른 연령대의 차이가 크지 않아 통계적 가설검정이 필요해 보인다.  \n",
    "연령대별 생존률이 통계적으로 유의한지 확인하기 위해서는 교차분석(카이제곱검정)을 진행하면 확인 가능하다."
   ]
  },
  {
   "attachments": {
    "image.png": {
     "image/png": "[encoded data removed]"
    }
   },
   "cell_type": "markdown",
   "metadata": {},
   "source": [
    "카이제곱 검정 통계량: ![image.png](attachment:image.png)"
   ]
  },
  {
   "cell_type": "markdown",
   "metadata": {},
   "source": [
    "귀무가설(H0): 연령대별 승객의 생존률에는 차이가 없다.  \n",
    "대립가설(H1): 연령대별 승객의 생존률에는 차이가 있다.  \n",
    "(유의수준 0.05라고 가정)"
   ]
  },
  {
   "cell_type": "code",
   "execution_count": 40,
   "metadata": {},
   "outputs": [
    {
     "data": {
      "text/html": [
       "<div>\n",
       "<style scoped>\n",
       "    .dataframe tbody tr th:only-of-type {\n",
       "        vertical-align: middle;\n",
       "    }\n",
       "\n",
       "    .dataframe tbody tr th {\n",
       "        vertical-align: top;\n",
       "    }\n",
       "\n",
       "    .dataframe thead th {\n",
       "        text-align: right;\n",
       "    }\n",
       "</style>\n",
       "<table border=\"1\" class=\"dataframe\">\n",
       "  <thead>\n",
       "    <tr style=\"text-align: right;\">\n",
       "      <th>alive</th>\n",
       "      <th>no</th>\n",
       "      <th>yes</th>\n",
       "    </tr>\n",
       "    <tr>\n",
       "      <th>age_group</th>\n",
       "      <th></th>\n",
       "      <th></th>\n",
       "    </tr>\n",
       "  </thead>\n",
       "  <tbody>\n",
       "    <tr>\n",
       "      <th>1~9세</th>\n",
       "      <td>24</td>\n",
       "      <td>36</td>\n",
       "    </tr>\n",
       "    <tr>\n",
       "      <th>10대</th>\n",
       "      <td>53</td>\n",
       "      <td>41</td>\n",
       "    </tr>\n",
       "    <tr>\n",
       "      <th>20대</th>\n",
       "      <td>115</td>\n",
       "      <td>71</td>\n",
       "    </tr>\n",
       "    <tr>\n",
       "      <th>30대</th>\n",
       "      <td>128</td>\n",
       "      <td>104</td>\n",
       "    </tr>\n",
       "    <tr>\n",
       "      <th>40대</th>\n",
       "      <td>53</td>\n",
       "      <td>34</td>\n",
       "    </tr>\n",
       "    <tr>\n",
       "      <th>50대</th>\n",
       "      <td>28</td>\n",
       "      <td>18</td>\n",
       "    </tr>\n",
       "    <tr>\n",
       "      <th>60대 이상</th>\n",
       "      <td>19</td>\n",
       "      <td>7</td>\n",
       "    </tr>\n",
       "  </tbody>\n",
       "</table>\n",
       "</div>"
      ],
      "text/plain": [
       "alive       no  yes\n",
       "age_group          \n",
       "1~9세        24   36\n",
       "10대         53   41\n",
       "20대        115   71\n",
       "30대        128  104\n",
       "40대         53   34\n",
       "50대         28   18\n",
       "60대 이상      19    7"
      ]
     },
     "execution_count": 40,
     "metadata": {},
     "output_type": "execute_result"
    }
   ],
   "source": [
    "# 교차표 생성\n",
    "contingency_table1 = pd.crosstab(titanic['age_group'], titanic['alive'])\n",
    "contingency_table1"
   ]
  },
  {
   "cell_type": "code",
   "execution_count": 41,
   "metadata": {},
   "outputs": [
    {
     "name": "stdout",
     "output_type": "stream",
     "text": [
      "카이제곱 통계량: 12.71469653862122\n",
      "유의확률: 0.04779706640616486\n",
      "자유도: 6\n",
      "기대 도수:\n",
      "[[ 34.47332421  25.52667579]\n",
      " [ 54.00820793  39.99179207]\n",
      " [106.86730506  79.13269494]\n",
      " [133.29685363  98.70314637]\n",
      " [ 49.98632011  37.01367989]\n",
      " [ 26.42954856  19.57045144]\n",
      " [ 14.93844049  11.06155951]]\n"
     ]
    }
   ],
   "source": [
    "# 카이제곱 검정 수행 (chi2: 검정 통계량, p: 유의확률, dof: 자유도, expected: 기대 도수)\n",
    "chi2, p, dof, expected = chi2_contingency(contingency_table1)\n",
    "\n",
    "print(f'카이제곱 통계량: {chi2}')\n",
    "print(f'유의확률: {p}')\n",
    "print(f'자유도: {dof}')\n",
    "print(f'기대 도수:\\n{expected}')"
   ]
  },
  {
   "cell_type": "markdown",
   "metadata": {},
   "source": [
    "> 유의확률이 0.047로 유의수준 0.05보다 작으므로 귀무가설 기각  \n",
    "즉, 연령대별 승객의 생존률에는 차이가 있다고 볼 수 있다."
   ]
  },
  {
   "attachments": {
    "image.png": {
     "image/png": "[encoded data removed]"
    }
   },
   "cell_type": "markdown",
   "metadata": {},
   "source": [
    "https://courses.bowdoin.edu/history-2203-fall-2020-kmoyniha/reflection/  \n",
    "![image.png](attachment:image.png)"
   ]
  },
  {
   "cell_type": "markdown",
   "metadata": {},
   "source": [
    "> 따라서 신체능력이 떨어지고 나이가 많은 노인들은 생존률이 낮았으며 더욱이 여성과 어린아이를 우선적으로 구조했기 때문에 1~9세의 생존률이 가장 높게 나온 것으로 추측할 수 있다."
   ]
  },
  {
   "cell_type": "markdown",
   "metadata": {},
   "source": [
    "### (6) 혼자 탑승 여부(alone)에 따른 생존률 확인"
   ]
  },
  {
   "cell_type": "markdown",
   "metadata": {},
   "source": [
    "alone(혼자 탑승 여부) : True(혼자 탑승), False(동승 탑승)"
   ]
  },
  {
   "cell_type": "code",
   "execution_count": 42,
   "metadata": {},
   "outputs": [
    {
     "data": {
      "text/plain": [
       "alone  alive\n",
       "True   no       261\n",
       "False  yes      168\n",
       "       no       159\n",
       "True   yes      143\n",
       "Name: count, dtype: int64"
      ]
     },
     "execution_count": 42,
     "metadata": {},
     "output_type": "execute_result"
    }
   ],
   "source": [
    "# alone에 따른 alive 도수 확인\n",
    "survive_aa = titanic.loc[:, ['alone', 'alive']].value_counts()\n",
    "survive_aa"
   ]
  },
  {
   "cell_type": "code",
   "execution_count": 43,
   "metadata": {},
   "outputs": [
    {
     "name": "stdout",
     "output_type": "stream",
     "text": [
      "혼자 탑승한 승객의 생존률: 35.4%\n",
      "동승한 승객의 생존률: 51.38%\n"
     ]
    }
   ],
   "source": [
    "# 혼자 탑승한 승객의 생존률\n",
    "survive_alone_rate = survive_aa.loc[True, 'yes'] / survive_aa.loc[True].sum()\n",
    "# 동승한 승객의 생존률\n",
    "survive_with_rate = survive_aa.loc[False, 'yes'] / survive_aa.loc[False].sum()\n",
    "\n",
    "print(f'혼자 탑승한 승객의 생존률: {np.round(survive_alone_rate*100, 2)}%')\n",
    "print(f'동승한 승객의 생존률: {np.round(survive_with_rate*100, 2)}%')"
   ]
  },
  {
   "cell_type": "markdown",
   "metadata": {},
   "source": [
    "> 동승한 승객의 생존률이 약 51%로 더 높긴 하지만 큰 차이가 아니므로 통계적 가설검정이 필요해 보인다.  \n",
    "동승한 승객의 생존률이 통계적으로 유의한지 확인하기 위해서는 교차분석(카이제곱검정)을 진행하면 확인 가능하다."
   ]
  },
  {
   "cell_type": "markdown",
   "metadata": {},
   "source": [
    "귀무가설(H0): 혼자 탑승한 승객과 동승한 승객의 생존률에는 차이가 없다.  \n",
    "대립가설(H1): 혼자 탑승한 승객과 동승한 승객의 생존률에는 차이가 있다.  \n",
    "(유의수준 0.05라고 가정)"
   ]
  },
  {
   "cell_type": "code",
   "execution_count": 44,
   "metadata": {},
   "outputs": [
    {
     "data": {
      "text/html": [
       "<div>\n",
       "<style scoped>\n",
       "    .dataframe tbody tr th:only-of-type {\n",
       "        vertical-align: middle;\n",
       "    }\n",
       "\n",
       "    .dataframe tbody tr th {\n",
       "        vertical-align: top;\n",
       "    }\n",
       "\n",
       "    .dataframe thead th {\n",
       "        text-align: right;\n",
       "    }\n",
       "</style>\n",
       "<table border=\"1\" class=\"dataframe\">\n",
       "  <thead>\n",
       "    <tr style=\"text-align: right;\">\n",
       "      <th>alive</th>\n",
       "      <th>no</th>\n",
       "      <th>yes</th>\n",
       "    </tr>\n",
       "    <tr>\n",
       "      <th>alone</th>\n",
       "      <th></th>\n",
       "      <th></th>\n",
       "    </tr>\n",
       "  </thead>\n",
       "  <tbody>\n",
       "    <tr>\n",
       "      <th>False</th>\n",
       "      <td>159</td>\n",
       "      <td>168</td>\n",
       "    </tr>\n",
       "    <tr>\n",
       "      <th>True</th>\n",
       "      <td>261</td>\n",
       "      <td>143</td>\n",
       "    </tr>\n",
       "  </tbody>\n",
       "</table>\n",
       "</div>"
      ],
      "text/plain": [
       "alive   no  yes\n",
       "alone          \n",
       "False  159  168\n",
       "True   261  143"
      ]
     },
     "execution_count": 44,
     "metadata": {},
     "output_type": "execute_result"
    }
   ],
   "source": [
    "# 교차표 생성\n",
    "contingency_table2 = pd.crosstab(titanic['alone'], titanic['alive'])\n",
    "contingency_table2"
   ]
  },
  {
   "cell_type": "code",
   "execution_count": 45,
   "metadata": {},
   "outputs": [
    {
     "name": "stdout",
     "output_type": "stream",
     "text": [
      "카이제곱 통계량: 18.231667539429566\n",
      "유의확률: 1.9559949132472893e-05\n",
      "자유도: 1\n",
      "기대 도수:\n",
      "[[187.87961696 139.12038304]\n",
      " [232.12038304 171.87961696]]\n"
     ]
    }
   ],
   "source": [
    "# 카이제곱 검정 수행 (chi2: 검정 통계량, p: 유의확률, dof: 자유도, expected: 기대 도수)\n",
    "chi2, p, dof, expected = chi2_contingency(contingency_table2)\n",
    "\n",
    "print(f'카이제곱 통계량: {chi2}')\n",
    "print(f'유의확률: {p}')\n",
    "print(f'자유도: {dof}')\n",
    "print(f'기대 도수:\\n{expected}')"
   ]
  },
  {
   "cell_type": "markdown",
   "metadata": {},
   "source": [
    "> 유의확률이 1.955994913247289e-05로 유의수준 0.05보다 작으므로 귀무가설 기각  \n",
    "즉, 혼자 탑승한 승객과 동승한 승객의 생존률에는 차이가 있다고 볼 수 있다."
   ]
  },
  {
   "cell_type": "markdown",
   "metadata": {},
   "source": [
    "### (7) 탑승지(embark_town)에 따른 생존률 확인"
   ]
  },
  {
   "cell_type": "markdown",
   "metadata": {},
   "source": [
    "embark_town(탑승지) : Cherbourg = 셰르부르, Queenstown = 퀸즈타운, Southampton = 사우샘프턴"
   ]
  },
  {
   "cell_type": "code",
   "execution_count": 46,
   "metadata": {},
   "outputs": [
    {
     "data": {
      "text/plain": [
       "embark_town  alive\n",
       "Southampton  no       322\n",
       "             yes      207\n",
       "Cherbourg    yes       87\n",
       "             no        61\n",
       "Queenstown   no        37\n",
       "             yes       17\n",
       "Name: count, dtype: int64"
      ]
     },
     "execution_count": 46,
     "metadata": {},
     "output_type": "execute_result"
    }
   ],
   "source": [
    "# embark_town에 따른 alive 도수 확인\n",
    "survive_ea = titanic.loc[:, ['embark_town', 'alive']].value_counts()\n",
    "survive_ea"
   ]
  },
  {
   "cell_type": "code",
   "execution_count": 47,
   "metadata": {},
   "outputs": [
    {
     "name": "stdout",
     "output_type": "stream",
     "text": [
      "사우샘프턴에서 탑승한 승객의 생존률: 39.13%\n",
      "셰르부르에서 탑승한 승객의 생존률: 58.78%\n",
      "퀸즈타운에서 탑승한 승객의 생존률: 31.48%\n"
     ]
    }
   ],
   "source": [
    "# 사우샘프턴에서 탑승한 승객의 생존률\n",
    "survive_S_rate = survive_ea.loc['Southampton', 'yes'] / survive_ea.loc['Southampton'].sum()\n",
    "# 셰르부르에서 탑승한 승객의 생존률\n",
    "survive_C_rate = survive_ea.loc['Cherbourg', 'yes'] / survive_ea.loc['Cherbourg'].sum()\n",
    "# 퀸즈타운에서 탑승한 승객의 생존률\n",
    "survive_Q_rate = survive_ea.loc['Queenstown', 'yes'] / survive_ea.loc['Queenstown'].sum()\n",
    "\n",
    "print(f'사우샘프턴에서 탑승한 승객의 생존률: {np.round(survive_S_rate*100, 2)}%')\n",
    "print(f'셰르부르에서 탑승한 승객의 생존률: {np.round(survive_C_rate*100, 2)}%')\n",
    "print(f'퀸즈타운에서 탑승한 승객의 생존률: {np.round(survive_Q_rate*100, 2)}%')"
   ]
  },
  {
   "cell_type": "markdown",
   "metadata": {},
   "source": [
    "> 셰르부르에서 탑승한 승객의 생존률이 약 58%로 가장 높긴 하지만 큰 차이가 아니므로 통계적 가설검정이 필요해 보인다.  \n",
    "각 탑승객들의 생존률이 통계적으로 유의한지 확인하기 위해서는 교차분석(카이제곱검정)을 진행하면 확인 가능하다."
   ]
  },
  {
   "cell_type": "markdown",
   "metadata": {},
   "source": [
    "귀무가설(H0): 사우샘프턴, 셰르부르, 퀸즈타운에서 탑승한 승객들 간의 생존률에는 차이가 없다.  \n",
    "대립가설(H1): 사우샘프턴, 셰르부르, 퀸즈타운에서 탑승한 승객들 간의 생존률에는 차이가 있다.  \n",
    "(유의수준 0.05라고 가정)  "
   ]
  },
  {
   "cell_type": "code",
   "execution_count": 48,
   "metadata": {},
   "outputs": [
    {
     "data": {
      "text/html": [
       "<div>\n",
       "<style scoped>\n",
       "    .dataframe tbody tr th:only-of-type {\n",
       "        vertical-align: middle;\n",
       "    }\n",
       "\n",
       "    .dataframe tbody tr th {\n",
       "        vertical-align: top;\n",
       "    }\n",
       "\n",
       "    .dataframe thead th {\n",
       "        text-align: right;\n",
       "    }\n",
       "</style>\n",
       "<table border=\"1\" class=\"dataframe\">\n",
       "  <thead>\n",
       "    <tr style=\"text-align: right;\">\n",
       "      <th>alive</th>\n",
       "      <th>no</th>\n",
       "      <th>yes</th>\n",
       "    </tr>\n",
       "    <tr>\n",
       "      <th>embark_town</th>\n",
       "      <th></th>\n",
       "      <th></th>\n",
       "    </tr>\n",
       "  </thead>\n",
       "  <tbody>\n",
       "    <tr>\n",
       "      <th>Cherbourg</th>\n",
       "      <td>61</td>\n",
       "      <td>87</td>\n",
       "    </tr>\n",
       "    <tr>\n",
       "      <th>Queenstown</th>\n",
       "      <td>37</td>\n",
       "      <td>17</td>\n",
       "    </tr>\n",
       "    <tr>\n",
       "      <th>Southampton</th>\n",
       "      <td>322</td>\n",
       "      <td>207</td>\n",
       "    </tr>\n",
       "  </tbody>\n",
       "</table>\n",
       "</div>"
      ],
      "text/plain": [
       "alive         no  yes\n",
       "embark_town          \n",
       "Cherbourg     61   87\n",
       "Queenstown    37   17\n",
       "Southampton  322  207"
      ]
     },
     "execution_count": 48,
     "metadata": {},
     "output_type": "execute_result"
    }
   ],
   "source": [
    "# 교차표 생성\n",
    "contingency_table3 = pd.crosstab(titanic['embark_town'], titanic['alive'])\n",
    "contingency_table3"
   ]
  },
  {
   "cell_type": "code",
   "execution_count": 49,
   "metadata": {},
   "outputs": [
    {
     "name": "stdout",
     "output_type": "stream",
     "text": [
      "카이제곱 통계량: 21.193105195610553\n",
      "유의확률: 2.5002053466599816e-05\n",
      "자유도: 2\n",
      "기대 도수:\n",
      "[[ 85.03419973  62.96580027]\n",
      " [ 31.02599179  22.97400821]\n",
      " [303.93980848 225.06019152]]\n"
     ]
    }
   ],
   "source": [
    "# 카이제곱 검정 수행 (chi2: 검정 통계량, p: 유의확률, dof: 자유도, expected: 기대 도수)\n",
    "chi2, p, dof, expected = chi2_contingency(contingency_table3)\n",
    "\n",
    "print(f'카이제곱 통계량: {chi2}')\n",
    "print(f'유의확률: {p}')\n",
    "print(f'자유도: {dof}')\n",
    "print(f'기대 도수:\\n{expected}')"
   ]
  },
  {
   "cell_type": "markdown",
   "metadata": {},
   "source": [
    "> 유의확률이 2.500205346659981e-05로 유의수준 0.05보다 작으므로 귀무가설 기각  \n",
    "즉, 사우샘프턴, 셰르부르, 퀸즈타운에서 탑승한 승객들 간의 생존률에는 차이가 있다고 볼 수 있다."
   ]
  },
  {
   "cell_type": "markdown",
   "metadata": {},
   "source": [
    "##### 비록 모든 컬럼에서의 생존률의 차이에 대한 근거와 해석을 파악하지는 못했지만 여러 집단 간 생존률의 차이가 존재함을 확인하였으며 특히 성인 남성의 경우에는 구조 우선순위에서 밀려나 생존률이 낮은 것을 확인하였다."
   ]
  }
 ],
 "metadata": {
  "kernelspec": {
   "display_name": "Python 3",
   "language": "python",
   "name": "python3"
  },
  "language_info": {
   "codemirror_mode": {
    "name": "ipython",
    "version": 3
   },
   "file_extension": ".py",
   "mimetype": "text/x-python",
   "name": "python",
   "nbconvert_exporter": "python",
   "pygments_lexer": "ipython3",
   "version": "3.11.9"
  }
 },
 "nbformat": 4,
 "nbformat_minor": 2
}
