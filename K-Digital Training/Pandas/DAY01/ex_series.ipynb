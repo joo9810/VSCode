{
 "cells": [
  {
   "cell_type": "markdown",
   "metadata": {},
   "source": [
    "# 01"
   ]
  },
  {
   "cell_type": "markdown",
   "metadata": {},
   "source": [
    "### Series 데이터 자료형\n",
    "- 판다스에서 1줄의 데이터를 저장하는 자료형/데이터 타입\n",
    "- 형식 : pandas.Series()\n",
    "- 구성 : Index + Data"
   ]
  },
  {
   "cell_type": "code",
   "execution_count": 14,
   "metadata": {},
   "outputs": [],
   "source": [
    "# 모듈 로딩\n",
    "import pandas as pd"
   ]
  },
  {
   "cell_type": "code",
   "execution_count": 2,
   "metadata": {},
   "outputs": [],
   "source": [
    "# 시리즈 데이터 생성\n",
    "sr1 = pd.Series([10, 20., '30'])"
   ]
  },
  {
   "cell_type": "code",
   "execution_count": 18,
   "metadata": {},
   "outputs": [
    {
     "name": "stdout",
     "output_type": "stream",
     "text": [
      "0      10\n",
      "1    20.0\n",
      "2      30\n",
      "dtype: object\n"
     ]
    }
   ],
   "source": [
    "print(sr1)"
   ]
  },
  {
   "cell_type": "code",
   "execution_count": 21,
   "metadata": {},
   "outputs": [
    {
     "data": {
      "text/plain": [
       "RangeIndex(start=0, stop=3, step=1)"
      ]
     },
     "execution_count": 21,
     "metadata": {},
     "output_type": "execute_result"
    }
   ],
   "source": [
    "# 인덱스 정보 읽기 ==> 변수명.속성명\n",
    "sr1.index"
   ]
  },
  {
   "cell_type": "code",
   "execution_count": 24,
   "metadata": {},
   "outputs": [
    {
     "data": {
      "text/plain": [
       "(array([10, 20.0, '30'], dtype=object), numpy.ndarray)"
      ]
     },
     "execution_count": 24,
     "metadata": {},
     "output_type": "execute_result"
    }
   ],
   "source": [
    "# 값/데이터 정보 읽기 ==> 변수명.속성명\n",
    "sr1.values, type(sr1.values)"
   ]
  },
  {
   "cell_type": "code",
   "execution_count": 23,
   "metadata": {},
   "outputs": [
    {
     "data": {
      "text/plain": [
       "dtype('O')"
      ]
     },
     "execution_count": 23,
     "metadata": {},
     "output_type": "execute_result"
    }
   ],
   "source": [
    "# 데이터 타입 정보 읽기 ==> 변수명.속성명\n",
    "sr1.dtype"
   ]
  },
  {
   "cell_type": "code",
   "execution_count": 25,
   "metadata": {},
   "outputs": [
    {
     "data": {
      "text/plain": [
       "1"
      ]
     },
     "execution_count": 25,
     "metadata": {},
     "output_type": "execute_result"
    }
   ],
   "source": [
    "# 데이터의 차원 정보 읽기 ==> 변수명.속성명\n",
    "sr1.ndim"
   ]
  },
  {
   "cell_type": "markdown",
   "metadata": {},
   "source": [
    "## 02"
   ]
  },
  {
   "cell_type": "markdown",
   "metadata": {},
   "source": [
    "### Series 데이터 자료형\n",
    "- 판다스에서 1줄의 데이터를 저장하는 자료형/데이터 타입\n",
    "- 형식 : pandas.Series()\n",
    "- 구성 : Index + Data"
   ]
  },
  {
   "cell_type": "code",
   "execution_count": 2,
   "metadata": {},
   "outputs": [],
   "source": [
    "# 모듈 로딩\n",
    "import pandas as pd"
   ]
  },
  {
   "cell_type": "code",
   "execution_count": 3,
   "metadata": {},
   "outputs": [],
   "source": [
    "# 데이터 준비\n",
    "data1 = ['A', 'B', 'C']\n",
    "data2 = {'name' : 'Hong', 'age' : 10}"
   ]
  },
  {
   "cell_type": "code",
   "execution_count": 4,
   "metadata": {},
   "outputs": [],
   "source": [
    "# 시리즈 객체 생성\n",
    "sr1 = pd.Series(data1)\n",
    "sr2 = pd.Series(data2)"
   ]
  },
  {
   "cell_type": "code",
   "execution_count": 5,
   "metadata": {},
   "outputs": [
    {
     "data": {
      "text/plain": [
       "0    A\n",
       "1    B\n",
       "2    C\n",
       "dtype: object"
      ]
     },
     "execution_count": 5,
     "metadata": {},
     "output_type": "execute_result"
    }
   ],
   "source": [
    "# 생성된 데이터 확인\n",
    "sr1"
   ]
  },
  {
   "cell_type": "code",
   "execution_count": 6,
   "metadata": {},
   "outputs": [
    {
     "data": {
      "text/plain": [
       "name    Hong\n",
       "age       10\n",
       "dtype: object"
      ]
     },
     "execution_count": 6,
     "metadata": {},
     "output_type": "execute_result"
    }
   ],
   "source": [
    "sr2"
   ]
  },
  {
   "cell_type": "code",
   "execution_count": 7,
   "metadata": {},
   "outputs": [
    {
     "name": "stdout",
     "output_type": "stream",
     "text": [
      "Index  : RangeIndex(start=0, stop=3, step=1)\n",
      "Values : ['A' 'B' 'C']\n",
      "dtype  : object\n",
      "ndim   : 1\n"
     ]
    }
   ],
   "source": [
    "# [리스트 데이터] 생성된 시리즈 객체 속성 확인\n",
    "print(f'Index  : {sr1.index}')\n",
    "print(f'Values : {sr1.values}')\n",
    "print(f'dtype  : {sr1.dtype}')\n",
    "print(f'ndim   : {sr1.ndim}')"
   ]
  },
  {
   "cell_type": "code",
   "execution_count": 8,
   "metadata": {},
   "outputs": [
    {
     "name": "stdout",
     "output_type": "stream",
     "text": [
      "Index  : Index(['name', 'age'], dtype='object')\n",
      "Values : ['Hong' 10]\n",
      "dtype  : object\n",
      "ndim   : 1\n"
     ]
    }
   ],
   "source": [
    "# [딕셔너리 데이터] 생성된 시리즈 객체 속성 확인\n",
    "print(f'Index  : {sr2.index}')\n",
    "print(f'Values : {sr2.values}')\n",
    "print(f'dtype  : {sr2.dtype}')\n",
    "print(f'ndim   : {sr2.ndim}')"
   ]
  },
  {
   "cell_type": "code",
   "execution_count": 9,
   "metadata": {},
   "outputs": [
    {
     "name": "stdout",
     "output_type": "stream",
     "text": [
      "A B C\n"
     ]
    }
   ],
   "source": [
    "# 시리즈 객체의 원소/요소 읽기 ==> 변수명[인덱스]\n",
    "# sr1 객체의 원소 읽기\n",
    "print(sr1[0], sr1[1], sr1[2])\n",
    "# sr1[-1] : 음수 인덱스 ERROR"
   ]
  },
  {
   "cell_type": "code",
   "execution_count": 13,
   "metadata": {},
   "outputs": [
    {
     "name": "stdout",
     "output_type": "stream",
     "text": [
      "Hong 10\n"
     ]
    }
   ],
   "source": [
    "# sr2 객체의 원소 읽기\n",
    "print(sr2['name'], sr2['age'])"
   ]
  },
  {
   "cell_type": "code",
   "execution_count": 23,
   "metadata": {},
   "outputs": [
    {
     "name": "stdout",
     "output_type": "stream",
     "text": [
      "A B\n",
      "<class 'str'> <class 'str'>\n",
      "0    A\n",
      "2    C\n",
      "dtype: object\n",
      "<class 'pandas.core.series.Series'>\n"
     ]
    }
   ],
   "source": [
    "# sr1 객체에서 2개의 원소 읽기\n",
    "# - 0번 원소와 2번 원소 읽기\n",
    "print(sr1[0], sr1[1])   # 1개씩 따로 따로\n",
    "print(type(sr1[0]), type(sr1[2]))\n",
    "print(sr1[[0,2]])       # 2개 한꺼번에\n",
    "print(type(sr1[[0,2]]))"
   ]
  },
  {
   "cell_type": "code",
   "execution_count": 31,
   "metadata": {},
   "outputs": [
    {
     "data": {
      "text/plain": [
       "0    A\n",
       "dtype: object"
      ]
     },
     "execution_count": 31,
     "metadata": {},
     "output_type": "execute_result"
    }
   ],
   "source": [
    "# 시리즈 객체의 원소/요소 읽기 ==> 변수명[시작:끝+1]\n",
    "sr1[0:2:2]"
   ]
  },
  {
   "cell_type": "code",
   "execution_count": 32,
   "metadata": {},
   "outputs": [
    {
     "data": {
      "text/plain": [
       "0    A\n",
       "1    B\n",
       "dtype: object"
      ]
     },
     "execution_count": 32,
     "metadata": {},
     "output_type": "execute_result"
    }
   ],
   "source": [
    "sr1[:2] # 처음부터 1번 원소까지"
   ]
  },
  {
   "cell_type": "code",
   "execution_count": 33,
   "metadata": {},
   "outputs": [
    {
     "data": {
      "text/plain": [
       "0    A\n",
       "1    B\n",
       "2    C\n",
       "dtype: object"
      ]
     },
     "execution_count": 33,
     "metadata": {},
     "output_type": "execute_result"
    }
   ],
   "source": [
    "sr1[:] # 처음부터 끝까지"
   ]
  },
  {
   "cell_type": "markdown",
   "metadata": {},
   "source": [
    "# 03"
   ]
  },
  {
   "cell_type": "markdown",
   "metadata": {},
   "source": [
    "### Series 데이터 자료형\n",
    "- 판다스에서 1줄의 데이터를 저장하는 자료형/데이터 타입\n",
    "- 형식 : pandas.Series()\n",
    "- 구성 : Index + Data"
   ]
  },
  {
   "cell_type": "code",
   "execution_count": 34,
   "metadata": {},
   "outputs": [],
   "source": [
    "# 모듈 로딩\n",
    "import pandas as pd"
   ]
  },
  {
   "cell_type": "code",
   "execution_count": 35,
   "metadata": {},
   "outputs": [],
   "source": [
    "# 데이터 준비\n",
    "jumsu = {'국어' : 98, '영어' : 100, '체육' : 100, '과학' : 89}"
   ]
  },
  {
   "cell_type": "code",
   "execution_count": 38,
   "metadata": {},
   "outputs": [
    {
     "name": "stdout",
     "output_type": "stream",
     "text": [
      "국어     98\n",
      "영어    100\n",
      "체육    100\n",
      "과학     89\n",
      "dtype: int64\n"
     ]
    }
   ],
   "source": [
    "sr1 = pd.Series(jumsu)\n",
    "\n",
    "print(sr1)"
   ]
  },
  {
   "cell_type": "code",
   "execution_count": 43,
   "metadata": {},
   "outputs": [
    {
     "name": "stdout",
     "output_type": "stream",
     "text": [
      "Index  : Index(['국어', '영어', '체육', '과학'], dtype='object')\n",
      "Values : [ 98 100 100  89]\n",
      "dtype  : int64\n",
      "ndim   : 1\n"
     ]
    }
   ],
   "source": [
    "# 시리즈 객체 속성 출력 => index, values, dtype, ndim\n",
    "print('Index  :', sr1.index)\n",
    "print('Values :', sr1.values)\n",
    "print('dtype  :', sr1.dtype)\n",
    "print('ndim   :', sr1.ndim)"
   ]
  },
  {
   "cell_type": "code",
   "execution_count": 44,
   "metadata": {},
   "outputs": [
    {
     "data": {
      "text/plain": [
       "98"
      ]
     },
     "execution_count": 44,
     "metadata": {},
     "output_type": "execute_result"
    }
   ],
   "source": [
    "# 원소 읽기\n",
    "# 1개 원소 읽기\n",
    "sr1['국어']"
   ]
  },
  {
   "cell_type": "code",
   "execution_count": 47,
   "metadata": {},
   "outputs": [
    {
     "data": {
      "text/plain": [
       "국어    98\n",
       "과학    89\n",
       "dtype: int64"
      ]
     },
     "execution_count": 47,
     "metadata": {},
     "output_type": "execute_result"
    }
   ],
   "source": [
    "# 2개 원소 읽기 ==> 국어 과학 점수\n",
    "sr1[['국어', '과학']]"
   ]
  },
  {
   "cell_type": "code",
   "execution_count": 49,
   "metadata": {},
   "outputs": [
    {
     "data": {
      "text/plain": [
       "국어     98\n",
       "영어    100\n",
       "체육    100\n",
       "dtype: int64"
      ]
     },
     "execution_count": 49,
     "metadata": {},
     "output_type": "execute_result"
    }
   ],
   "source": [
    "# 국어, 영어, 체육 점수 읽기 ==> 슬라이싱\n",
    "# 정수 인덱스 경우 => [시작:끝+1]\n",
    "# 글자 인덱스 경우 => [시작:끝]\n",
    "sr1['국어':'체육']"
   ]
  },
  {
   "cell_type": "code",
   "execution_count": 50,
   "metadata": {},
   "outputs": [
    {
     "data": {
      "text/plain": [
       "국어     98\n",
       "체육    100\n",
       "dtype: int64"
      ]
     },
     "execution_count": 50,
     "metadata": {},
     "output_type": "execute_result"
    }
   ],
   "source": [
    "# 국어, 체육 점수 읽기 ==> 슬라이싱 [시작:끝:간격]\n",
    "sr1['국어':'체육':2]"
   ]
  },
  {
   "cell_type": "markdown",
   "metadata": {},
   "source": [
    "- [인덱스 & 인덱스레이블/인덱스네임]  \n",
    ": 원소/요소를 식별하기 위한 속성  "
   ]
  },
  {
   "cell_type": "code",
   "execution_count": 51,
   "metadata": {},
   "outputs": [
    {
     "data": {
      "text/plain": [
       "Index(['국어', '영어', '체육', '과학'], dtype='object')"
      ]
     },
     "execution_count": 51,
     "metadata": {},
     "output_type": "execute_result"
    }
   ],
   "source": [
    "## 인덱스 속성 ==> 변수명.index\n",
    "sr1.index"
   ]
  },
  {
   "cell_type": "code",
   "execution_count": 57,
   "metadata": {},
   "outputs": [
    {
     "name": "stdout",
     "output_type": "stream",
     "text": [
      "98 98\n",
      "100 100\n"
     ]
    }
   ],
   "source": [
    "print(sr1['국어'], sr1.iloc[0])\n",
    "print(sr1['체육'], sr1.iloc[2])"
   ]
  },
  {
   "cell_type": "markdown",
   "metadata": {},
   "source": [
    "시리즈가 뭡니까 : 데이터프레임에서 한 행과 한 열을 시리즈라고 한다\n",
    "행이 뭡니까 : 가로 한 줄을 행이라고 한다.\n",
    "열이 뭡니까 : 세로 한 줄을 열이라고 한다.\n",
    "원소 읽어오는거 2개 차이점 : 정수로 받으면 [시작:끝+1], 문자로 받으면 [시작:끝]\n",
    "여러개 원소 읽을 때는 리스트 안에 리스트 sr1[['국어', '과학']]\n",
    "인덱스가 문자일때 정수로 받으면 워닝이 뜨므로 iloc로 받는다."
   ]
  },
  {
   "cell_type": "code",
   "execution_count": null,
   "metadata": {},
   "outputs": [],
   "source": []
  }
 ],
 "metadata": {
  "kernelspec": {
   "display_name": "PY_39",
   "language": "python",
   "name": "python3"
  },
  "language_info": {
   "codemirror_mode": {
    "name": "ipython",
    "version": 3
   },
   "file_extension": ".py",
   "mimetype": "text/x-python",
   "name": "python",
   "nbconvert_exporter": "python",
   "pygments_lexer": "ipython3",
   "version": "3.9.19"
  }
 },
 "nbformat": 4,
 "nbformat_minor": 2
}
