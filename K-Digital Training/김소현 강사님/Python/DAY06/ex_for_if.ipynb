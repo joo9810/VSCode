{
 "cells": [
  {
   "cell_type": "markdown",
   "metadata": {},
   "source": [
    "## ex_for_if_01"
   ]
  },
  {
   "cell_type": "markdown",
   "metadata": {},
   "source": [
    "제어문 - 반복문과 조건문 혼합"
   ]
  },
  {
   "cell_type": "markdown",
   "metadata": {},
   "source": [
    "[실습] 숫자 1 ~ 50까지의 데이터가 있습니다.  \n",
    "해당 데이터에서 3의 배수는 제곱을 하고, 나머지 숫자는 그대로 해서 모두 더해서 합계를 출력하세요."
   ]
  },
  {
   "cell_type": "code",
   "execution_count": 1,
   "metadata": {},
   "outputs": [
    {
     "name": "stdout",
     "output_type": "stream",
     "text": [
      "14331\n"
     ]
    }
   ],
   "source": [
    "summary = 0\n",
    "\n",
    "for i in range(1, 51):\n",
    "    if i % 3 == 0:\n",
    "        summary = summary + i ** 2\n",
    "    else:\n",
    "        summary = summary + i\n",
    "\n",
    "print(summary)"
   ]
  },
  {
   "cell_type": "markdown",
   "metadata": {},
   "source": [
    "[실습] 메시지에서 알파벳과 숫자를 구분해서 처리합니다.  \n",
    "알파벳은 ★, 숫자는 ♡로 변경해서 출력해주세요."
   ]
  },
  {
   "cell_type": "code",
   "execution_count": 17,
   "metadata": {},
   "outputs": [
    {
     "name": "stdout",
     "output_type": "stream",
     "text": [
      "★★★★ ♡♡♡♡\n",
      "\n",
      "★★★★ ♡♡♡♡\n"
     ]
    }
   ],
   "source": [
    "msg = \"Good 2024\"\n",
    "\n",
    "msg2 = ''\n",
    "\n",
    "for idx, data in enumerate(msg):\n",
    "    if 'a' <= data <= 'z' or 'A' <= data <= 'Z':\n",
    "        msg2 = msg2 + '★'\n",
    "        print('★', end='')\n",
    "    elif '0' <= data <= '9':\n",
    "        msg2 = msg2 + '♡'\n",
    "        print('♡', end='')\n",
    "    else:\n",
    "        msg2 = msg2 + data\n",
    "        print(data, end='')\n",
    "\n",
    "print('\\n')\n",
    "print(msg2)"
   ]
  },
  {
   "cell_type": "markdown",
   "metadata": {},
   "source": [
    "## ex_for_if_02"
   ]
  },
  {
   "cell_type": "markdown",
   "metadata": {},
   "source": [
    "[실습] 메시지를 입력 받습니다.  \n",
    "알파벳 대문자인 경우 소문자로, 소문자인 경우 대문자로  \n",
    "나머지는 그대로 되도록 출력하기  "
   ]
  },
  {
   "cell_type": "code",
   "execution_count": 31,
   "metadata": {},
   "outputs": [
    {
     "name": "stdout",
     "output_type": "stream",
     "text": [
      "hELLO pYTHON!"
     ]
    }
   ],
   "source": [
    "msg = input(\"메시지를 남겨주세요 : \")\n",
    "\n",
    "for i in msg:\n",
    "    if 'a' <= i <= 'z':\n",
    "        print(chr(ord(i) - 32), end='')\n",
    "    elif 'A' <= i <= 'Z':\n",
    "        print(chr(ord(i) + 32), end='')\n",
    "    else:\n",
    "        print(i, end='')"
   ]
  },
  {
   "cell_type": "code",
   "execution_count": null,
   "metadata": {},
   "outputs": [],
   "source": []
  }
 ],
 "metadata": {
  "kernelspec": {
   "display_name": "Python 3",
   "language": "python",
   "name": "python3"
  },
  "language_info": {
   "codemirror_mode": {
    "name": "ipython",
    "version": 3
   },
   "file_extension": ".py",
   "mimetype": "text/x-python",
   "name": "python",
   "nbconvert_exporter": "python",
   "pygments_lexer": "ipython3",
   "version": "3.12.2"
  }
 },
 "nbformat": 4,
 "nbformat_minor": 2
}
