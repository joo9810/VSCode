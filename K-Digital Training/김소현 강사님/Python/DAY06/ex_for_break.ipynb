{
 "cells": [
  {
   "cell_type": "markdown",
   "metadata": {},
   "source": [
    "## ex_for_break_01"
   ]
  },
  {
   "cell_type": "markdown",
   "metadata": {},
   "source": [
    "제어문 - 반복문 중단 break\n",
    " - 반복을 중단 시키는 조건문과 함께 사용 됨"
   ]
  },
  {
   "cell_type": "markdown",
   "metadata": {},
   "source": [
    "[실습] 숫자 데이터의 합계가 30이상이 되면 더 이상 합계를 하지 마세요.  \n",
    "숫자 데이터는 1~50으로 구성 됨  "
   ]
  },
  {
   "cell_type": "code",
   "execution_count": 6,
   "metadata": {},
   "outputs": [
    {
     "name": "stdout",
     "output_type": "stream",
     "text": [
      "total => 36 : 1 ~ 8까지의 합계\n"
     ]
    }
   ],
   "source": [
    "nums = list(range(1, 51))\n",
    "total = 0\n",
    "\n",
    "for i in nums:\n",
    "    if total >= 30:\n",
    "        break         # 즉시 반복 종료!!\n",
    "    total = total + i\n",
    "\n",
    "print(f'total => {total} : {1} ~ {i-1}까지의 합계')"
   ]
  },
  {
   "cell_type": "markdown",
   "metadata": {},
   "source": [
    "[실습] 4개 과목점수가 있습니다.  \n",
    "과목점수가 1과목이라도 40 이하면 불합격입니다.  \n",
    "4개 과목 평균이 60점 이상이면 합격입니다.  \n"
   ]
  },
  {
   "cell_type": "code",
   "execution_count": 14,
   "metadata": {},
   "outputs": [
    {
     "name": "stdout",
     "output_type": "stream",
     "text": [
      "과락입니다.\n",
      "당신은 40미만인 과목으로 불합격입니다.\n"
     ]
    }
   ],
   "source": [
    "score = [89, 39, 80, 77]\n",
    "\n",
    "isPass = True # Flag 변수\n",
    "\n",
    "for i in score:\n",
    "    if i < 40:\n",
    "        print('과락입니다.')\n",
    "        isPass = False\n",
    "        break\n",
    "\n",
    "if isPass == True:\n",
    "    print('모든 과목이 40점 이상입니다.')\n",
    "\n",
    "if isPass == True:\n",
    "    avg = sum(score) / len(score)\n",
    "    if avg >= 60:\n",
    "        print(f'당신은 {avg}점으로 합격입니다.')\n",
    "    else:\n",
    "        print(f'당신은 {avg}점으로 불합격입니다.')\n",
    "else:\n",
    "    print(f'당신은 40미만인 과목으로 불합격입니다.')"
   ]
  },
  {
   "cell_type": "markdown",
   "metadata": {},
   "source": [
    "## ex_for_break_02"
   ]
  },
  {
   "cell_type": "markdown",
   "metadata": {},
   "source": [
    "제어문 - 반복문과 break\n",
    " - 중첩 반복문일 경우의 break는 가장 가까이 있는 반복문만 종료"
   ]
  },
  {
   "cell_type": "markdown",
   "metadata": {},
   "source": [
    "[실습] 단의 숫자만큼만 구구단을 출력하세요.    \n",
    "2 * 1 = 2    2 * 2 = 4    \n",
    "3 * 1 = 3    3 * 2 = 6    3 * 3 = 9    \n",
    "4 * 1 = 4    4 * 2 = 8    4 * 3 = 12    4 * 4 = 16    "
   ]
  },
  {
   "cell_type": "code",
   "execution_count": 80,
   "metadata": {},
   "outputs": [
    {
     "name": "stdout",
     "output_type": "stream",
     "text": [
      "\n",
      "[2단]   2 * 1 =  2   2 * 2 =  4   \n",
      "[3단]   3 * 1 =  3   3 * 2 =  6   3 * 3 =  9   \n",
      "[4단]   4 * 1 =  4   4 * 2 =  8   4 * 3 = 12   4 * 4 = 16   \n",
      "[5단]   5 * 1 =  5   5 * 2 = 10   5 * 3 = 15   5 * 4 = 20   5 * 5 = 25   "
     ]
    }
   ],
   "source": [
    "dan = int(input(\"출력 원하는 단 입력 : \"))\n",
    "\n",
    "for i in range(2, 10):\n",
    "    print(f'\\n[{i}단]', end='   ')\n",
    "    for j in range(1, 10):\n",
    "        print(f'{i} * {j} = {i * j:2}', end = '   ')\n",
    "        if i == j:\n",
    "            break\n",
    "    if i == dan:\n",
    "        break"
   ]
  },
  {
   "cell_type": "code",
   "execution_count": 81,
   "metadata": {},
   "outputs": [
    {
     "name": "stdout",
     "output_type": "stream",
     "text": [
      "\n",
      "[2단]   2 * 1 =  2   2 * 2 =  4   \n",
      "[3단]   3 * 1 =  3   3 * 2 =  6   3 * 3 =  9   \n",
      "[4단]   4 * 1 =  4   4 * 2 =  8   4 * 3 = 12   4 * 4 = 16   \n",
      "[5단]   5 * 1 =  5   5 * 2 = 10   5 * 3 = 15   5 * 4 = 20   5 * 5 = 25   "
     ]
    }
   ],
   "source": [
    "dan = int(input(\"출력 원하는 단 입력 : \"))\n",
    "\n",
    "for i in range(2, dan+1):\n",
    "    print(f'\\n[{i}단]', end='   ')\n",
    "    for j in range(1, i+1):\n",
    "        print(f'{i} * {j} = {i * j:2}', end = '   ')"
   ]
  },
  {
   "cell_type": "markdown",
   "metadata": {},
   "source": [
    "[중첩 반복문] 내부 반복문 종료 시 외부 반복문 종료\n",
    " - 내부 반복문 종료 여부를 변수 저장\n",
    " - 외부 반복문에서는 내부 반복문이 종료되면 함께 종료"
   ]
  },
  {
   "cell_type": "code",
   "execution_count": 82,
   "metadata": {},
   "outputs": [
    {
     "name": "stdout",
     "output_type": "stream",
     "text": [
      "\n",
      "[2단]   2 * 1 =  2   2 * 2 =  4   "
     ]
    }
   ],
   "source": [
    "dan = int(input(\"출력 원하는 단 입력 : \"))\n",
    "\n",
    "isBreak = False\n",
    "\n",
    "for i in range(2, 10):\n",
    "    print(f'\\n[{i}단]', end='   ')\n",
    "    for j in range(1, 10):\n",
    "        print(f'{i} * {j} = {i * j:2}', end = '   ')\n",
    "        if i == j:\n",
    "            isBreak = True\n",
    "            break\n",
    "    if isBreak == True:\n",
    "        break"
   ]
  },
  {
   "cell_type": "markdown",
   "metadata": {},
   "source": [
    "[실습] 10번 숫자 데이터를 입력 받습니다.  \n",
    "숫자 데이터를 모두 더해서 합계가 30 이상이 되면 10번 입력 안 받았더라도 종료해주세요."
   ]
  },
  {
   "cell_type": "code",
   "execution_count": 86,
   "metadata": {},
   "outputs": [
    {
     "name": "stdout",
     "output_type": "stream",
     "text": [
      "총 2번 입력 받았으며, 입력 받은 숫자의 합계는 30입니다.\n"
     ]
    }
   ],
   "source": [
    "nums = 0\n",
    "\n",
    "for i in range(10):\n",
    "    nums = nums + int(input())\n",
    "    if nums >= 30:\n",
    "        break\n",
    "\n",
    "print(f'총 {i+1}번 입력 받았으며, 입력 받은 숫자의 합계는 {nums}입니다.')"
   ]
  },
  {
   "cell_type": "code",
   "execution_count": null,
   "metadata": {},
   "outputs": [],
   "source": []
  }
 ],
 "metadata": {
  "kernelspec": {
   "display_name": "Python 3",
   "language": "python",
   "name": "python3"
  },
  "language_info": {
   "codemirror_mode": {
    "name": "ipython",
    "version": 3
   },
   "file_extension": ".py",
   "mimetype": "text/x-python",
   "name": "python",
   "nbconvert_exporter": "python",
   "pygments_lexer": "ipython3",
   "version": "3.12.2"
  }
 },
 "nbformat": 4,
 "nbformat_minor": 2
}
