{
 "cells": [
  {
   "cell_type": "markdown",
   "metadata": {},
   "source": [
    "#### 23.7 심사문제: 지뢰찾기 (머리 깨질 것 같아)"
   ]
  },
  {
   "cell_type": "code",
   "execution_count": 1,
   "metadata": {},
   "outputs": [
    {
     "name": "stdout",
     "output_type": "stream",
     "text": [
      "2**\n",
      "*43\n",
      "2*1\n"
     ]
    }
   ],
   "source": [
    "# 행과 열의 수 입력\n",
    "row, col = map(int, input().split())\n",
    "\n",
    "# 빈 리스트 생성\n",
    "dot_list = []\n",
    "\n",
    "# col 개수씩 입력을 총 row 개수만큼 받아 지뢰 리스트 생성\n",
    "for _ in range(row):\n",
    "    data = input()\n",
    "    dot = []\n",
    "    for i in range(col):\n",
    "        dot.append(data[i])   \n",
    "    dot_list.append(dot)\n",
    "\n",
    "# row와 col을 돌면서 '.'인 부분일 때만 if를 걸어 cnt 세기\n",
    "for i in range(row): # 1\n",
    "    for j in range(col): # 1\n",
    "        if dot_list[i][j] == '.':\n",
    "            cnt = 0\n",
    "\n",
    "            # 범위가 주변 8칸인데 리스트 범위에 들때만 cnt 세기\n",
    "            for k in range(i-1, i+2): # 0 ~ 2\n",
    "                for l in range(j-1, j+2): # 0 ~ 2\n",
    "                    if (0 <= k < row) and (0 <= l < col):\n",
    "                        if dot_list[k][l] == '*':\n",
    "                            cnt += 1\n",
    "            dot_list[i][j] = cnt\n",
    "\n",
    "for a in dot_list:\n",
    "    for b in a:\n",
    "        print(b, end = '')\n",
    "    print()"
   ]
  },
  {
   "cell_type": "code",
   "execution_count": 2,
   "metadata": {},
   "outputs": [
    {
     "name": "stdout",
     "output_type": "stream",
     "text": [
      "01*21\n",
      "123*1\n",
      "2*532\n",
      "3***1\n",
      "*4*31\n"
     ]
    }
   ],
   "source": [
    "# 행과 열의 수 입력\n",
    "row, col = map(int, input().split())\n",
    "\n",
    "# 빈 리스트 생성\n",
    "dot_list = []\n",
    "\n",
    "# 3개씩 입력을 총 row 개수만\n",
    "for _ in range(row):\n",
    "    data = input()\n",
    "    dot = []\n",
    "    for i in range(col):\n",
    "        dot.append(data[i])   \n",
    "    dot_list.append(dot)\n",
    "\n",
    "for i in range(row): # 1\n",
    "    for j in range(col): # 1\n",
    "        if dot_list[i][j] == '.':\n",
    "            cnt = 0\n",
    "\n",
    "            for k in range(i-1, i+2): # 0 ~ 2\n",
    "                for l in range(j-1, j+2): # 0 ~ 2\n",
    "                    if (0 <= k < row) and (0 <= l < col):\n",
    "                        if dot_list[k][l] == '*':\n",
    "                            cnt += 1\n",
    "            dot_list[i][j] = cnt\n",
    "\n",
    "for a in dot_list:\n",
    "    for b in a:\n",
    "        print(b, end = '')\n",
    "    print()"
   ]
  },
  {
   "cell_type": "code",
   "execution_count": null,
   "metadata": {},
   "outputs": [],
   "source": []
  }
 ],
 "metadata": {
  "kernelspec": {
   "display_name": "Python 3",
   "language": "python",
   "name": "python3"
  },
  "language_info": {
   "codemirror_mode": {
    "name": "ipython",
    "version": 3
   },
   "file_extension": ".py",
   "mimetype": "text/x-python",
   "name": "python",
   "nbconvert_exporter": "python",
   "pygments_lexer": "ipython3",
   "version": "3.11.9"
  }
 },
 "nbformat": 4,
 "nbformat_minor": 2
}
