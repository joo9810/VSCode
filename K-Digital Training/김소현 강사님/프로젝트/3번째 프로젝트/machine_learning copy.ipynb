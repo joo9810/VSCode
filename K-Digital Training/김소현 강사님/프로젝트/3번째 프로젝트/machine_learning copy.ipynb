{
 "cells": [
  {
   "cell_type": "code",
   "execution_count": 29,
   "metadata": {},
   "outputs": [],
   "source": [
    "import pandas as pd\n",
    "import matplotlib.pyplot as plt\n",
    "import seaborn as sns\n",
    "import numpy as np\n",
    "from sklearn.tree import DecisionTreeClassifier\n",
    "from sklearn.preprocessing import MinMaxScaler, StandardScaler\n",
    "from sklearn.model_selection import train_test_split, GridSearchCV\n",
    "from sklearn.metrics import confusion_matrix, classification_report, roc_curve, roc_auc_score"
   ]
  },
  {
   "cell_type": "code",
   "execution_count": 30,
   "metadata": {},
   "outputs": [
    {
     "data": {
      "text/plain": [
       "77.46612162745726"
      ]
     },
     "execution_count": 30,
     "metadata": {},
     "output_type": "execute_result"
    }
   ],
   "source": [
    "np.sqrt(6001) "
   ]
  },
  {
   "cell_type": "markdown",
   "metadata": {},
   "source": [
    "### [1] 데이터 불러오기 및 확인"
   ]
  },
  {
   "cell_type": "code",
   "execution_count": 31,
   "metadata": {},
   "outputs": [
    {
     "data": {
      "text/html": [
       "<div>\n",
       "<style scoped>\n",
       "    .dataframe tbody tr th:only-of-type {\n",
       "        vertical-align: middle;\n",
       "    }\n",
       "\n",
       "    .dataframe tbody tr th {\n",
       "        vertical-align: top;\n",
       "    }\n",
       "\n",
       "    .dataframe thead th {\n",
       "        text-align: right;\n",
       "    }\n",
       "</style>\n",
       "<table border=\"1\" class=\"dataframe\">\n",
       "  <thead>\n",
       "    <tr style=\"text-align: right;\">\n",
       "      <th></th>\n",
       "      <th>long_hair</th>\n",
       "      <th>forehead_width_cm</th>\n",
       "      <th>forehead_height_cm</th>\n",
       "      <th>nose_wide</th>\n",
       "      <th>nose_long</th>\n",
       "      <th>lips_thin</th>\n",
       "      <th>distance_nose_to_lip_long</th>\n",
       "      <th>gender</th>\n",
       "    </tr>\n",
       "  </thead>\n",
       "  <tbody>\n",
       "    <tr>\n",
       "      <th>0</th>\n",
       "      <td>1</td>\n",
       "      <td>11.8</td>\n",
       "      <td>6.1</td>\n",
       "      <td>1</td>\n",
       "      <td>0</td>\n",
       "      <td>1</td>\n",
       "      <td>1</td>\n",
       "      <td>Male</td>\n",
       "    </tr>\n",
       "    <tr>\n",
       "      <th>1</th>\n",
       "      <td>0</td>\n",
       "      <td>14.0</td>\n",
       "      <td>5.4</td>\n",
       "      <td>0</td>\n",
       "      <td>0</td>\n",
       "      <td>1</td>\n",
       "      <td>0</td>\n",
       "      <td>Female</td>\n",
       "    </tr>\n",
       "    <tr>\n",
       "      <th>2</th>\n",
       "      <td>0</td>\n",
       "      <td>11.8</td>\n",
       "      <td>6.3</td>\n",
       "      <td>1</td>\n",
       "      <td>1</td>\n",
       "      <td>1</td>\n",
       "      <td>1</td>\n",
       "      <td>Male</td>\n",
       "    </tr>\n",
       "    <tr>\n",
       "      <th>3</th>\n",
       "      <td>0</td>\n",
       "      <td>14.4</td>\n",
       "      <td>6.1</td>\n",
       "      <td>0</td>\n",
       "      <td>1</td>\n",
       "      <td>1</td>\n",
       "      <td>1</td>\n",
       "      <td>Male</td>\n",
       "    </tr>\n",
       "    <tr>\n",
       "      <th>4</th>\n",
       "      <td>1</td>\n",
       "      <td>13.5</td>\n",
       "      <td>5.9</td>\n",
       "      <td>0</td>\n",
       "      <td>0</td>\n",
       "      <td>0</td>\n",
       "      <td>0</td>\n",
       "      <td>Female</td>\n",
       "    </tr>\n",
       "    <tr>\n",
       "      <th>...</th>\n",
       "      <td>...</td>\n",
       "      <td>...</td>\n",
       "      <td>...</td>\n",
       "      <td>...</td>\n",
       "      <td>...</td>\n",
       "      <td>...</td>\n",
       "      <td>...</td>\n",
       "      <td>...</td>\n",
       "    </tr>\n",
       "    <tr>\n",
       "      <th>4996</th>\n",
       "      <td>1</td>\n",
       "      <td>13.6</td>\n",
       "      <td>5.1</td>\n",
       "      <td>0</td>\n",
       "      <td>0</td>\n",
       "      <td>0</td>\n",
       "      <td>0</td>\n",
       "      <td>Female</td>\n",
       "    </tr>\n",
       "    <tr>\n",
       "      <th>4997</th>\n",
       "      <td>1</td>\n",
       "      <td>11.9</td>\n",
       "      <td>5.4</td>\n",
       "      <td>0</td>\n",
       "      <td>0</td>\n",
       "      <td>0</td>\n",
       "      <td>0</td>\n",
       "      <td>Female</td>\n",
       "    </tr>\n",
       "    <tr>\n",
       "      <th>4998</th>\n",
       "      <td>1</td>\n",
       "      <td>12.9</td>\n",
       "      <td>5.7</td>\n",
       "      <td>0</td>\n",
       "      <td>0</td>\n",
       "      <td>0</td>\n",
       "      <td>0</td>\n",
       "      <td>Female</td>\n",
       "    </tr>\n",
       "    <tr>\n",
       "      <th>4999</th>\n",
       "      <td>1</td>\n",
       "      <td>13.2</td>\n",
       "      <td>6.2</td>\n",
       "      <td>0</td>\n",
       "      <td>0</td>\n",
       "      <td>0</td>\n",
       "      <td>0</td>\n",
       "      <td>Female</td>\n",
       "    </tr>\n",
       "    <tr>\n",
       "      <th>5000</th>\n",
       "      <td>1</td>\n",
       "      <td>15.4</td>\n",
       "      <td>5.4</td>\n",
       "      <td>1</td>\n",
       "      <td>1</td>\n",
       "      <td>1</td>\n",
       "      <td>1</td>\n",
       "      <td>Male</td>\n",
       "    </tr>\n",
       "  </tbody>\n",
       "</table>\n",
       "<p>5001 rows × 8 columns</p>\n",
       "</div>"
      ],
      "text/plain": [
       "      long_hair  forehead_width_cm  forehead_height_cm  nose_wide  nose_long  \\\n",
       "0             1               11.8                 6.1          1          0   \n",
       "1             0               14.0                 5.4          0          0   \n",
       "2             0               11.8                 6.3          1          1   \n",
       "3             0               14.4                 6.1          0          1   \n",
       "4             1               13.5                 5.9          0          0   \n",
       "...         ...                ...                 ...        ...        ...   \n",
       "4996          1               13.6                 5.1          0          0   \n",
       "4997          1               11.9                 5.4          0          0   \n",
       "4998          1               12.9                 5.7          0          0   \n",
       "4999          1               13.2                 6.2          0          0   \n",
       "5000          1               15.4                 5.4          1          1   \n",
       "\n",
       "      lips_thin  distance_nose_to_lip_long  gender  \n",
       "0             1                          1    Male  \n",
       "1             1                          0  Female  \n",
       "2             1                          1    Male  \n",
       "3             1                          1    Male  \n",
       "4             0                          0  Female  \n",
       "...         ...                        ...     ...  \n",
       "4996          0                          0  Female  \n",
       "4997          0                          0  Female  \n",
       "4998          0                          0  Female  \n",
       "4999          0                          0  Female  \n",
       "5000          1                          1    Male  \n",
       "\n",
       "[5001 rows x 8 columns]"
      ]
     },
     "execution_count": 31,
     "metadata": {},
     "output_type": "execute_result"
    }
   ],
   "source": [
    "gender = pd.read_csv('gender_classification_v7.csv')\n",
    "gender"
   ]
  },
  {
   "cell_type": "markdown",
   "metadata": {},
   "source": [
    "- long hair : 머리가 긴지 여부\n",
    "- forehead_width_cm : 이마 너비\n",
    "- forehead_height_cm : 이마 높이\n",
    "- nose_wide : 코가 넓은지 여부\n",
    "- nose_long : 코가 긴지 여부\n",
    "- lips_thin : 입술이 얇은지 여부\n",
    "- distance_nose_to_lip_long : 코와 입술 사이의 거리가 긴지 여부\n",
    "- gender : 성별"
   ]
  },
  {
   "cell_type": "code",
   "execution_count": 32,
   "metadata": {},
   "outputs": [
    {
     "name": "stdout",
     "output_type": "stream",
     "text": [
      "<class 'pandas.core.frame.DataFrame'>\n",
      "RangeIndex: 5001 entries, 0 to 5000\n",
      "Data columns (total 8 columns):\n",
      " #   Column                     Non-Null Count  Dtype  \n",
      "---  ------                     --------------  -----  \n",
      " 0   long_hair                  5001 non-null   int64  \n",
      " 1   forehead_width_cm          5001 non-null   float64\n",
      " 2   forehead_height_cm         5001 non-null   float64\n",
      " 3   nose_wide                  5001 non-null   int64  \n",
      " 4   nose_long                  5001 non-null   int64  \n",
      " 5   lips_thin                  5001 non-null   int64  \n",
      " 6   distance_nose_to_lip_long  5001 non-null   int64  \n",
      " 7   gender                     5001 non-null   object \n",
      "dtypes: float64(2), int64(5), object(1)\n",
      "memory usage: 312.7+ KB\n"
     ]
    }
   ],
   "source": [
    "gender.info()"
   ]
  },
  {
   "cell_type": "code",
   "execution_count": 33,
   "metadata": {},
   "outputs": [
    {
     "data": {
      "text/html": [
       "<div>\n",
       "<style scoped>\n",
       "    .dataframe tbody tr th:only-of-type {\n",
       "        vertical-align: middle;\n",
       "    }\n",
       "\n",
       "    .dataframe tbody tr th {\n",
       "        vertical-align: top;\n",
       "    }\n",
       "\n",
       "    .dataframe thead th {\n",
       "        text-align: right;\n",
       "    }\n",
       "</style>\n",
       "<table border=\"1\" class=\"dataframe\">\n",
       "  <thead>\n",
       "    <tr style=\"text-align: right;\">\n",
       "      <th></th>\n",
       "      <th>long_hair</th>\n",
       "      <th>forehead_width_cm</th>\n",
       "      <th>forehead_height_cm</th>\n",
       "      <th>nose_wide</th>\n",
       "      <th>nose_long</th>\n",
       "      <th>lips_thin</th>\n",
       "      <th>distance_nose_to_lip_long</th>\n",
       "    </tr>\n",
       "  </thead>\n",
       "  <tbody>\n",
       "    <tr>\n",
       "      <th>count</th>\n",
       "      <td>5001.000000</td>\n",
       "      <td>5001.000000</td>\n",
       "      <td>5001.000000</td>\n",
       "      <td>5001.000000</td>\n",
       "      <td>5001.000000</td>\n",
       "      <td>5001.000000</td>\n",
       "      <td>5001.000000</td>\n",
       "    </tr>\n",
       "    <tr>\n",
       "      <th>mean</th>\n",
       "      <td>0.869626</td>\n",
       "      <td>13.181484</td>\n",
       "      <td>5.946311</td>\n",
       "      <td>0.493901</td>\n",
       "      <td>0.507898</td>\n",
       "      <td>0.493101</td>\n",
       "      <td>0.498900</td>\n",
       "    </tr>\n",
       "    <tr>\n",
       "      <th>std</th>\n",
       "      <td>0.336748</td>\n",
       "      <td>1.107128</td>\n",
       "      <td>0.541268</td>\n",
       "      <td>0.500013</td>\n",
       "      <td>0.499988</td>\n",
       "      <td>0.500002</td>\n",
       "      <td>0.500049</td>\n",
       "    </tr>\n",
       "    <tr>\n",
       "      <th>min</th>\n",
       "      <td>0.000000</td>\n",
       "      <td>11.400000</td>\n",
       "      <td>5.100000</td>\n",
       "      <td>0.000000</td>\n",
       "      <td>0.000000</td>\n",
       "      <td>0.000000</td>\n",
       "      <td>0.000000</td>\n",
       "    </tr>\n",
       "    <tr>\n",
       "      <th>25%</th>\n",
       "      <td>1.000000</td>\n",
       "      <td>12.200000</td>\n",
       "      <td>5.500000</td>\n",
       "      <td>0.000000</td>\n",
       "      <td>0.000000</td>\n",
       "      <td>0.000000</td>\n",
       "      <td>0.000000</td>\n",
       "    </tr>\n",
       "    <tr>\n",
       "      <th>50%</th>\n",
       "      <td>1.000000</td>\n",
       "      <td>13.100000</td>\n",
       "      <td>5.900000</td>\n",
       "      <td>0.000000</td>\n",
       "      <td>1.000000</td>\n",
       "      <td>0.000000</td>\n",
       "      <td>0.000000</td>\n",
       "    </tr>\n",
       "    <tr>\n",
       "      <th>75%</th>\n",
       "      <td>1.000000</td>\n",
       "      <td>14.000000</td>\n",
       "      <td>6.400000</td>\n",
       "      <td>1.000000</td>\n",
       "      <td>1.000000</td>\n",
       "      <td>1.000000</td>\n",
       "      <td>1.000000</td>\n",
       "    </tr>\n",
       "    <tr>\n",
       "      <th>max</th>\n",
       "      <td>1.000000</td>\n",
       "      <td>15.500000</td>\n",
       "      <td>7.100000</td>\n",
       "      <td>1.000000</td>\n",
       "      <td>1.000000</td>\n",
       "      <td>1.000000</td>\n",
       "      <td>1.000000</td>\n",
       "    </tr>\n",
       "  </tbody>\n",
       "</table>\n",
       "</div>"
      ],
      "text/plain": [
       "         long_hair  forehead_width_cm  forehead_height_cm    nose_wide  \\\n",
       "count  5001.000000        5001.000000         5001.000000  5001.000000   \n",
       "mean      0.869626          13.181484            5.946311     0.493901   \n",
       "std       0.336748           1.107128            0.541268     0.500013   \n",
       "min       0.000000          11.400000            5.100000     0.000000   \n",
       "25%       1.000000          12.200000            5.500000     0.000000   \n",
       "50%       1.000000          13.100000            5.900000     0.000000   \n",
       "75%       1.000000          14.000000            6.400000     1.000000   \n",
       "max       1.000000          15.500000            7.100000     1.000000   \n",
       "\n",
       "         nose_long    lips_thin  distance_nose_to_lip_long  \n",
       "count  5001.000000  5001.000000                5001.000000  \n",
       "mean      0.507898     0.493101                   0.498900  \n",
       "std       0.499988     0.500002                   0.500049  \n",
       "min       0.000000     0.000000                   0.000000  \n",
       "25%       0.000000     0.000000                   0.000000  \n",
       "50%       1.000000     0.000000                   0.000000  \n",
       "75%       1.000000     1.000000                   1.000000  \n",
       "max       1.000000     1.000000                   1.000000  "
      ]
     },
     "execution_count": 33,
     "metadata": {},
     "output_type": "execute_result"
    }
   ],
   "source": [
    "gender.describe()"
   ]
  },
  {
   "cell_type": "code",
   "execution_count": 34,
   "metadata": {},
   "outputs": [
    {
     "data": {
      "text/plain": [
       "gender\n",
       "Female    2501\n",
       "Male      2500\n",
       "Name: count, dtype: int64"
      ]
     },
     "execution_count": 34,
     "metadata": {},
     "output_type": "execute_result"
    }
   ],
   "source": [
    "gender['gender'].value_counts() # 균형 데이터"
   ]
  },
  {
   "cell_type": "markdown",
   "metadata": {},
   "source": [
    "### [2] 결측치 확인"
   ]
  },
  {
   "cell_type": "code",
   "execution_count": 35,
   "metadata": {},
   "outputs": [
    {
     "data": {
      "text/plain": [
       "0"
      ]
     },
     "execution_count": 35,
     "metadata": {},
     "output_type": "execute_result"
    }
   ],
   "source": [
    "gender.isna().sum().sum() # 결측치 없음"
   ]
  },
  {
   "cell_type": "markdown",
   "metadata": {},
   "source": [
    "### [3] 이상치 확인"
   ]
  },
  {
   "cell_type": "code",
   "execution_count": 36,
   "metadata": {},
   "outputs": [
    {
     "data": {
      "image/png": "[encoded data removed]",
      "text/plain": [
       "<Figure size 1400x400 with 1 Axes>"
      ]
     },
     "metadata": {},
     "output_type": "display_data"
    }
   ],
   "source": [
    "plt.figure(figsize = (14, 4))\n",
    "plt.boxplot(gender[['forehead_width_cm', 'forehead_height_cm']])\n",
    "plt.title('forehead boxplot')\n",
    "plt.xticks(np.arange(1, 3), ['forehead_width_cm', 'forehead_height_cm'])\n",
    "plt.show()\n",
    "# 이상치 없음"
   ]
  },
  {
   "cell_type": "markdown",
   "metadata": {},
   "source": [
    "### [4] 피쳐 시각화"
   ]
  },
  {
   "cell_type": "code",
   "execution_count": 37,
   "metadata": {},
   "outputs": [
    {
     "data": {
      "text/plain": [
       "array([1, 0])"
      ]
     },
     "execution_count": 37,
     "metadata": {},
     "output_type": "execute_result"
    }
   ],
   "source": [
    "gender[gender.columns[0]].unique()"
   ]
  },
  {
   "cell_type": "code",
   "execution_count": 38,
   "metadata": {},
   "outputs": [
    {
     "data": {
      "text/plain": [
       "long_hair\n",
       "1    4349\n",
       "0     652\n",
       "Name: count, dtype: int64"
      ]
     },
     "execution_count": 38,
     "metadata": {},
     "output_type": "execute_result"
    }
   ],
   "source": [
    "gender[gender.columns[0]].value_counts()"
   ]
  },
  {
   "cell_type": "code",
   "execution_count": 39,
   "metadata": {},
   "outputs": [
    {
     "data": {
      "text/html": [
       "<div>\n",
       "<style scoped>\n",
       "    .dataframe tbody tr th:only-of-type {\n",
       "        vertical-align: middle;\n",
       "    }\n",
       "\n",
       "    .dataframe tbody tr th {\n",
       "        vertical-align: top;\n",
       "    }\n",
       "\n",
       "    .dataframe thead th {\n",
       "        text-align: right;\n",
       "    }\n",
       "</style>\n",
       "<table border=\"1\" class=\"dataframe\">\n",
       "  <thead>\n",
       "    <tr style=\"text-align: right;\">\n",
       "      <th></th>\n",
       "      <th>long_hair</th>\n",
       "      <th>forehead_width_cm</th>\n",
       "      <th>forehead_height_cm</th>\n",
       "      <th>nose_wide</th>\n",
       "      <th>nose_long</th>\n",
       "      <th>lips_thin</th>\n",
       "      <th>distance_nose_to_lip_long</th>\n",
       "      <th>gender</th>\n",
       "    </tr>\n",
       "  </thead>\n",
       "  <tbody>\n",
       "    <tr>\n",
       "      <th>0</th>\n",
       "      <td>1</td>\n",
       "      <td>11.8</td>\n",
       "      <td>6.1</td>\n",
       "      <td>1</td>\n",
       "      <td>0</td>\n",
       "      <td>1</td>\n",
       "      <td>1</td>\n",
       "      <td>Male</td>\n",
       "    </tr>\n",
       "    <tr>\n",
       "      <th>1</th>\n",
       "      <td>0</td>\n",
       "      <td>14.0</td>\n",
       "      <td>5.4</td>\n",
       "      <td>0</td>\n",
       "      <td>0</td>\n",
       "      <td>1</td>\n",
       "      <td>0</td>\n",
       "      <td>Female</td>\n",
       "    </tr>\n",
       "    <tr>\n",
       "      <th>2</th>\n",
       "      <td>0</td>\n",
       "      <td>11.8</td>\n",
       "      <td>6.3</td>\n",
       "      <td>1</td>\n",
       "      <td>1</td>\n",
       "      <td>1</td>\n",
       "      <td>1</td>\n",
       "      <td>Male</td>\n",
       "    </tr>\n",
       "    <tr>\n",
       "      <th>3</th>\n",
       "      <td>0</td>\n",
       "      <td>14.4</td>\n",
       "      <td>6.1</td>\n",
       "      <td>0</td>\n",
       "      <td>1</td>\n",
       "      <td>1</td>\n",
       "      <td>1</td>\n",
       "      <td>Male</td>\n",
       "    </tr>\n",
       "    <tr>\n",
       "      <th>4</th>\n",
       "      <td>1</td>\n",
       "      <td>13.5</td>\n",
       "      <td>5.9</td>\n",
       "      <td>0</td>\n",
       "      <td>0</td>\n",
       "      <td>0</td>\n",
       "      <td>0</td>\n",
       "      <td>Female</td>\n",
       "    </tr>\n",
       "    <tr>\n",
       "      <th>...</th>\n",
       "      <td>...</td>\n",
       "      <td>...</td>\n",
       "      <td>...</td>\n",
       "      <td>...</td>\n",
       "      <td>...</td>\n",
       "      <td>...</td>\n",
       "      <td>...</td>\n",
       "      <td>...</td>\n",
       "    </tr>\n",
       "    <tr>\n",
       "      <th>4996</th>\n",
       "      <td>1</td>\n",
       "      <td>13.6</td>\n",
       "      <td>5.1</td>\n",
       "      <td>0</td>\n",
       "      <td>0</td>\n",
       "      <td>0</td>\n",
       "      <td>0</td>\n",
       "      <td>Female</td>\n",
       "    </tr>\n",
       "    <tr>\n",
       "      <th>4997</th>\n",
       "      <td>1</td>\n",
       "      <td>11.9</td>\n",
       "      <td>5.4</td>\n",
       "      <td>0</td>\n",
       "      <td>0</td>\n",
       "      <td>0</td>\n",
       "      <td>0</td>\n",
       "      <td>Female</td>\n",
       "    </tr>\n",
       "    <tr>\n",
       "      <th>4998</th>\n",
       "      <td>1</td>\n",
       "      <td>12.9</td>\n",
       "      <td>5.7</td>\n",
       "      <td>0</td>\n",
       "      <td>0</td>\n",
       "      <td>0</td>\n",
       "      <td>0</td>\n",
       "      <td>Female</td>\n",
       "    </tr>\n",
       "    <tr>\n",
       "      <th>4999</th>\n",
       "      <td>1</td>\n",
       "      <td>13.2</td>\n",
       "      <td>6.2</td>\n",
       "      <td>0</td>\n",
       "      <td>0</td>\n",
       "      <td>0</td>\n",
       "      <td>0</td>\n",
       "      <td>Female</td>\n",
       "    </tr>\n",
       "    <tr>\n",
       "      <th>5000</th>\n",
       "      <td>1</td>\n",
       "      <td>15.4</td>\n",
       "      <td>5.4</td>\n",
       "      <td>1</td>\n",
       "      <td>1</td>\n",
       "      <td>1</td>\n",
       "      <td>1</td>\n",
       "      <td>Male</td>\n",
       "    </tr>\n",
       "  </tbody>\n",
       "</table>\n",
       "<p>5001 rows × 8 columns</p>\n",
       "</div>"
      ],
      "text/plain": [
       "      long_hair  forehead_width_cm  forehead_height_cm  nose_wide  nose_long  \\\n",
       "0             1               11.8                 6.1          1          0   \n",
       "1             0               14.0                 5.4          0          0   \n",
       "2             0               11.8                 6.3          1          1   \n",
       "3             0               14.4                 6.1          0          1   \n",
       "4             1               13.5                 5.9          0          0   \n",
       "...         ...                ...                 ...        ...        ...   \n",
       "4996          1               13.6                 5.1          0          0   \n",
       "4997          1               11.9                 5.4          0          0   \n",
       "4998          1               12.9                 5.7          0          0   \n",
       "4999          1               13.2                 6.2          0          0   \n",
       "5000          1               15.4                 5.4          1          1   \n",
       "\n",
       "      lips_thin  distance_nose_to_lip_long  gender  \n",
       "0             1                          1    Male  \n",
       "1             1                          0  Female  \n",
       "2             1                          1    Male  \n",
       "3             1                          1    Male  \n",
       "4             0                          0  Female  \n",
       "...         ...                        ...     ...  \n",
       "4996          0                          0  Female  \n",
       "4997          0                          0  Female  \n",
       "4998          0                          0  Female  \n",
       "4999          0                          0  Female  \n",
       "5000          1                          1    Male  \n",
       "\n",
       "[5001 rows x 8 columns]"
      ]
     },
     "execution_count": 39,
     "metadata": {},
     "output_type": "execute_result"
    }
   ],
   "source": [
    "display_gender_df = gender.copy()\n",
    "display_gender_df"
   ]
  },
  {
   "cell_type": "code",
   "execution_count": 40,
   "metadata": {},
   "outputs": [
    {
     "data": {
      "image/png": "[encoded data removed]",
      "text/plain": [
       "<Figure size 1600x800 with 8 Axes>"
      ]
     },
     "metadata": {},
     "output_type": "display_data"
    }
   ],
   "source": [
    "fig, axs = plt.subplots(2, 4, figsize = (16, 8))\n",
    "\n",
    "name_dict = {'long_hair' : ['short', 'long'], 'nose_wide' : ['narrow', 'wide'],\n",
    "             'nose_long' : ['short', 'long'], 'lips_thin' : ['thick', 'thin'],\n",
    "             'distance_nose_to_lip_long' : ['short', 'long'], 'gender' : ['Male', 'Female']}\n",
    "\n",
    "for i in range(2):\n",
    "    for j in range(4):\n",
    "        if i == 0 and (j == 1 or j == 2): # 2, 3번째 히스토그램\n",
    "            axs[i,j].hist(gender[gender.columns[4*i + j]], edgecolor = 'black')\n",
    "            axs[i,j].set_title(gender.columns[4*i + j])\n",
    "        else:\n",
    "            sns.countplot(data=gender, x=gender.columns[4*i + j], hue='gender', ax = axs[i, j], edgecolor = 'black')\n",
    "\n",
    "            axs[i,j].set_xticks(np.arange(2))\n",
    "            axs[i,j].set_xticklabels(name_dict[gender.columns[4*i + j]])\n",
    "            axs[i,j].set_title(gender.columns[4*i + j])\n",
    "\n",
    "plt.tight_layout()"
   ]
  },
  {
   "cell_type": "code",
   "execution_count": 41,
   "metadata": {},
   "outputs": [
    {
     "data": {
      "image/png": "[encoded data removed]",
      "text/plain": [
       "<Figure size 1600x800 with 8 Axes>"
      ]
     },
     "metadata": {},
     "output_type": "display_data"
    }
   ],
   "source": [
    "fig, axs = plt.subplots(2, 4, figsize = (16, 8))\n",
    "\n",
    "name_dict = {'long_hair' : ['short', 'long'], 'nose_wide' : ['narrow', 'wide'],\n",
    "             'nose_long' : ['short', 'long'], 'lips_thin' : ['thick', 'thin'],\n",
    "             'distance_nose_to_lip_long' : ['short', 'long'], 'gender' : ['Male', 'Female']}\n",
    "\n",
    "for i in range(2):\n",
    "    for j in range(4):\n",
    "        if i == 0 and (j == 1 or j == 2): # 2, 3번째 히스토그램\n",
    "            axs[i,j].hist(gender[gender.columns[4*i + j]], edgecolor = 'black')\n",
    "            axs[i,j].set_title(gender.columns[4*i + j])\n",
    "        else:\n",
    "            sns.countplot(data=gender, x=gender.columns[4*i + j], hue='gender', ax = axs[i, j], edgecolor = 'black')\n",
    "\n",
    "            axs[i,j].set_xticks(np.arange(2))\n",
    "            axs[i,j].set_xticklabels(name_dict[gender.columns[4*i + j]])\n",
    "            axs[i,j].set_title(gender.columns[4*i + j])\n",
    "\n",
    "plt.tight_layout()"
   ]
  },
  {
   "cell_type": "markdown",
   "metadata": {},
   "source": [
    "### [5] 부트스트랩 샘플링 진행"
   ]
  },
  {
   "cell_type": "markdown",
   "metadata": {},
   "source": [
    "- 샘플 수가 부족해서 1000개 추가 샘플링"
   ]
  },
  {
   "cell_type": "code",
   "execution_count": 42,
   "metadata": {},
   "outputs": [
    {
     "data": {
      "text/html": [
       "<div>\n",
       "<style scoped>\n",
       "    .dataframe tbody tr th:only-of-type {\n",
       "        vertical-align: middle;\n",
       "    }\n",
       "\n",
       "    .dataframe tbody tr th {\n",
       "        vertical-align: top;\n",
       "    }\n",
       "\n",
       "    .dataframe thead th {\n",
       "        text-align: right;\n",
       "    }\n",
       "</style>\n",
       "<table border=\"1\" class=\"dataframe\">\n",
       "  <thead>\n",
       "    <tr style=\"text-align: right;\">\n",
       "      <th></th>\n",
       "      <th>long_hair</th>\n",
       "      <th>forehead_width_cm</th>\n",
       "      <th>forehead_height_cm</th>\n",
       "      <th>nose_wide</th>\n",
       "      <th>nose_long</th>\n",
       "      <th>lips_thin</th>\n",
       "      <th>distance_nose_to_lip_long</th>\n",
       "      <th>gender</th>\n",
       "    </tr>\n",
       "  </thead>\n",
       "  <tbody>\n",
       "    <tr>\n",
       "      <th>0</th>\n",
       "      <td>1</td>\n",
       "      <td>11.8</td>\n",
       "      <td>6.1</td>\n",
       "      <td>1</td>\n",
       "      <td>0</td>\n",
       "      <td>1</td>\n",
       "      <td>1</td>\n",
       "      <td>Male</td>\n",
       "    </tr>\n",
       "    <tr>\n",
       "      <th>1</th>\n",
       "      <td>0</td>\n",
       "      <td>14.0</td>\n",
       "      <td>5.4</td>\n",
       "      <td>0</td>\n",
       "      <td>0</td>\n",
       "      <td>1</td>\n",
       "      <td>0</td>\n",
       "      <td>Female</td>\n",
       "    </tr>\n",
       "    <tr>\n",
       "      <th>2</th>\n",
       "      <td>0</td>\n",
       "      <td>11.8</td>\n",
       "      <td>6.3</td>\n",
       "      <td>1</td>\n",
       "      <td>1</td>\n",
       "      <td>1</td>\n",
       "      <td>1</td>\n",
       "      <td>Male</td>\n",
       "    </tr>\n",
       "    <tr>\n",
       "      <th>3</th>\n",
       "      <td>0</td>\n",
       "      <td>14.4</td>\n",
       "      <td>6.1</td>\n",
       "      <td>0</td>\n",
       "      <td>1</td>\n",
       "      <td>1</td>\n",
       "      <td>1</td>\n",
       "      <td>Male</td>\n",
       "    </tr>\n",
       "    <tr>\n",
       "      <th>4</th>\n",
       "      <td>1</td>\n",
       "      <td>13.5</td>\n",
       "      <td>5.9</td>\n",
       "      <td>0</td>\n",
       "      <td>0</td>\n",
       "      <td>0</td>\n",
       "      <td>0</td>\n",
       "      <td>Female</td>\n",
       "    </tr>\n",
       "    <tr>\n",
       "      <th>...</th>\n",
       "      <td>...</td>\n",
       "      <td>...</td>\n",
       "      <td>...</td>\n",
       "      <td>...</td>\n",
       "      <td>...</td>\n",
       "      <td>...</td>\n",
       "      <td>...</td>\n",
       "      <td>...</td>\n",
       "    </tr>\n",
       "    <tr>\n",
       "      <th>5996</th>\n",
       "      <td>1</td>\n",
       "      <td>13.1</td>\n",
       "      <td>5.6</td>\n",
       "      <td>1</td>\n",
       "      <td>1</td>\n",
       "      <td>0</td>\n",
       "      <td>0</td>\n",
       "      <td>Male</td>\n",
       "    </tr>\n",
       "    <tr>\n",
       "      <th>5997</th>\n",
       "      <td>1</td>\n",
       "      <td>13.5</td>\n",
       "      <td>5.9</td>\n",
       "      <td>0</td>\n",
       "      <td>1</td>\n",
       "      <td>0</td>\n",
       "      <td>0</td>\n",
       "      <td>Female</td>\n",
       "    </tr>\n",
       "    <tr>\n",
       "      <th>5998</th>\n",
       "      <td>1</td>\n",
       "      <td>13.1</td>\n",
       "      <td>5.6</td>\n",
       "      <td>0</td>\n",
       "      <td>0</td>\n",
       "      <td>1</td>\n",
       "      <td>0</td>\n",
       "      <td>Female</td>\n",
       "    </tr>\n",
       "    <tr>\n",
       "      <th>5999</th>\n",
       "      <td>1</td>\n",
       "      <td>12.3</td>\n",
       "      <td>5.8</td>\n",
       "      <td>1</td>\n",
       "      <td>0</td>\n",
       "      <td>0</td>\n",
       "      <td>1</td>\n",
       "      <td>Male</td>\n",
       "    </tr>\n",
       "    <tr>\n",
       "      <th>6000</th>\n",
       "      <td>1</td>\n",
       "      <td>13.1</td>\n",
       "      <td>6.6</td>\n",
       "      <td>1</td>\n",
       "      <td>1</td>\n",
       "      <td>1</td>\n",
       "      <td>1</td>\n",
       "      <td>Male</td>\n",
       "    </tr>\n",
       "  </tbody>\n",
       "</table>\n",
       "<p>6001 rows × 8 columns</p>\n",
       "</div>"
      ],
      "text/plain": [
       "      long_hair  forehead_width_cm  forehead_height_cm  nose_wide  nose_long  \\\n",
       "0             1               11.8                 6.1          1          0   \n",
       "1             0               14.0                 5.4          0          0   \n",
       "2             0               11.8                 6.3          1          1   \n",
       "3             0               14.4                 6.1          0          1   \n",
       "4             1               13.5                 5.9          0          0   \n",
       "...         ...                ...                 ...        ...        ...   \n",
       "5996          1               13.1                 5.6          1          1   \n",
       "5997          1               13.5                 5.9          0          1   \n",
       "5998          1               13.1                 5.6          0          0   \n",
       "5999          1               12.3                 5.8          1          0   \n",
       "6000          1               13.1                 6.6          1          1   \n",
       "\n",
       "      lips_thin  distance_nose_to_lip_long  gender  \n",
       "0             1                          1    Male  \n",
       "1             1                          0  Female  \n",
       "2             1                          1    Male  \n",
       "3             1                          1    Male  \n",
       "4             0                          0  Female  \n",
       "...         ...                        ...     ...  \n",
       "5996          0                          0    Male  \n",
       "5997          0                          0  Female  \n",
       "5998          1                          0  Female  \n",
       "5999          0                          1    Male  \n",
       "6000          1                          1    Male  \n",
       "\n",
       "[6001 rows x 8 columns]"
      ]
     },
     "execution_count": 42,
     "metadata": {},
     "output_type": "execute_result"
    }
   ],
   "source": [
    "bootstrap_samples = gender.sample(n=1000, replace=True, random_state=10)\n",
    "boot_gender = pd.concat([gender, bootstrap_samples]).reset_index(drop=True)\n",
    "boot_gender"
   ]
  },
  {
   "cell_type": "code",
   "execution_count": 43,
   "metadata": {},
   "outputs": [
    {
     "data": {
      "image/png": "[encoded data removed]",
      "text/plain": [
       "<Figure size 1600x800 with 8 Axes>"
      ]
     },
     "metadata": {},
     "output_type": "display_data"
    }
   ],
   "source": [
    "fig, axs = plt.subplots(2, 4, figsize = (16, 8))\n",
    "\n",
    "name_dict = {'long_hair' : ['short', 'long'], 'nose_wide' : ['narrow', 'wide'],\n",
    "             'nose_long' : ['short', 'long'], 'lips_thin' : ['thick', 'thin'],\n",
    "             'distance_nose_to_lip_long' : ['short', 'long'], 'gender' : ['Male', 'Female']}\n",
    "\n",
    "for i in range(2):\n",
    "    for j in range(4):\n",
    "        if i == 0 and (j == 1 or j == 2): # 2, 3번째 히스토그램\n",
    "            axs[i,j].hist(boot_gender[boot_gender.columns[4*i + j]], edgecolor = 'black')\n",
    "            axs[i,j].set_title(boot_gender.columns[4*i + j])\n",
    "        else:\n",
    "            sns.countplot(data=boot_gender, x=boot_gender.columns[4*i + j], hue='gender', ax = axs[i, j], edgecolor = 'black')\n",
    "\n",
    "            axs[i,j].set_xticks(np.arange(2))\n",
    "            axs[i,j].set_xticklabels(name_dict[boot_gender.columns[4*i + j]])\n",
    "            axs[i,j].set_title(boot_gender.columns[4*i + j])\n",
    "\n",
    "plt.tight_layout()"
   ]
  },
  {
   "cell_type": "code",
   "execution_count": 44,
   "metadata": {},
   "outputs": [
    {
     "data": {
      "text/html": [
       "<div>\n",
       "<style scoped>\n",
       "    .dataframe tbody tr th:only-of-type {\n",
       "        vertical-align: middle;\n",
       "    }\n",
       "\n",
       "    .dataframe tbody tr th {\n",
       "        vertical-align: top;\n",
       "    }\n",
       "\n",
       "    .dataframe thead th {\n",
       "        text-align: right;\n",
       "    }\n",
       "</style>\n",
       "<table border=\"1\" class=\"dataframe\">\n",
       "  <thead>\n",
       "    <tr style=\"text-align: right;\">\n",
       "      <th></th>\n",
       "      <th>long_hair</th>\n",
       "      <th>forehead_width_cm</th>\n",
       "      <th>forehead_height_cm</th>\n",
       "      <th>nose_wide</th>\n",
       "      <th>nose_long</th>\n",
       "      <th>lips_thin</th>\n",
       "      <th>distance_nose_to_lip_long</th>\n",
       "      <th>gender</th>\n",
       "    </tr>\n",
       "  </thead>\n",
       "  <tbody>\n",
       "    <tr>\n",
       "      <th>0</th>\n",
       "      <td>1</td>\n",
       "      <td>11.8</td>\n",
       "      <td>6.1</td>\n",
       "      <td>1</td>\n",
       "      <td>0</td>\n",
       "      <td>1</td>\n",
       "      <td>1</td>\n",
       "      <td>0</td>\n",
       "    </tr>\n",
       "    <tr>\n",
       "      <th>1</th>\n",
       "      <td>0</td>\n",
       "      <td>14.0</td>\n",
       "      <td>5.4</td>\n",
       "      <td>0</td>\n",
       "      <td>0</td>\n",
       "      <td>1</td>\n",
       "      <td>0</td>\n",
       "      <td>1</td>\n",
       "    </tr>\n",
       "    <tr>\n",
       "      <th>2</th>\n",
       "      <td>0</td>\n",
       "      <td>11.8</td>\n",
       "      <td>6.3</td>\n",
       "      <td>1</td>\n",
       "      <td>1</td>\n",
       "      <td>1</td>\n",
       "      <td>1</td>\n",
       "      <td>0</td>\n",
       "    </tr>\n",
       "    <tr>\n",
       "      <th>3</th>\n",
       "      <td>0</td>\n",
       "      <td>14.4</td>\n",
       "      <td>6.1</td>\n",
       "      <td>0</td>\n",
       "      <td>1</td>\n",
       "      <td>1</td>\n",
       "      <td>1</td>\n",
       "      <td>0</td>\n",
       "    </tr>\n",
       "    <tr>\n",
       "      <th>4</th>\n",
       "      <td>1</td>\n",
       "      <td>13.5</td>\n",
       "      <td>5.9</td>\n",
       "      <td>0</td>\n",
       "      <td>0</td>\n",
       "      <td>0</td>\n",
       "      <td>0</td>\n",
       "      <td>1</td>\n",
       "    </tr>\n",
       "    <tr>\n",
       "      <th>...</th>\n",
       "      <td>...</td>\n",
       "      <td>...</td>\n",
       "      <td>...</td>\n",
       "      <td>...</td>\n",
       "      <td>...</td>\n",
       "      <td>...</td>\n",
       "      <td>...</td>\n",
       "      <td>...</td>\n",
       "    </tr>\n",
       "    <tr>\n",
       "      <th>5996</th>\n",
       "      <td>1</td>\n",
       "      <td>13.1</td>\n",
       "      <td>5.6</td>\n",
       "      <td>1</td>\n",
       "      <td>1</td>\n",
       "      <td>0</td>\n",
       "      <td>0</td>\n",
       "      <td>0</td>\n",
       "    </tr>\n",
       "    <tr>\n",
       "      <th>5997</th>\n",
       "      <td>1</td>\n",
       "      <td>13.5</td>\n",
       "      <td>5.9</td>\n",
       "      <td>0</td>\n",
       "      <td>1</td>\n",
       "      <td>0</td>\n",
       "      <td>0</td>\n",
       "      <td>1</td>\n",
       "    </tr>\n",
       "    <tr>\n",
       "      <th>5998</th>\n",
       "      <td>1</td>\n",
       "      <td>13.1</td>\n",
       "      <td>5.6</td>\n",
       "      <td>0</td>\n",
       "      <td>0</td>\n",
       "      <td>1</td>\n",
       "      <td>0</td>\n",
       "      <td>1</td>\n",
       "    </tr>\n",
       "    <tr>\n",
       "      <th>5999</th>\n",
       "      <td>1</td>\n",
       "      <td>12.3</td>\n",
       "      <td>5.8</td>\n",
       "      <td>1</td>\n",
       "      <td>0</td>\n",
       "      <td>0</td>\n",
       "      <td>1</td>\n",
       "      <td>0</td>\n",
       "    </tr>\n",
       "    <tr>\n",
       "      <th>6000</th>\n",
       "      <td>1</td>\n",
       "      <td>13.1</td>\n",
       "      <td>6.6</td>\n",
       "      <td>1</td>\n",
       "      <td>1</td>\n",
       "      <td>1</td>\n",
       "      <td>1</td>\n",
       "      <td>0</td>\n",
       "    </tr>\n",
       "  </tbody>\n",
       "</table>\n",
       "<p>6001 rows × 8 columns</p>\n",
       "</div>"
      ],
      "text/plain": [
       "      long_hair  forehead_width_cm  forehead_height_cm  nose_wide  nose_long  \\\n",
       "0             1               11.8                 6.1          1          0   \n",
       "1             0               14.0                 5.4          0          0   \n",
       "2             0               11.8                 6.3          1          1   \n",
       "3             0               14.4                 6.1          0          1   \n",
       "4             1               13.5                 5.9          0          0   \n",
       "...         ...                ...                 ...        ...        ...   \n",
       "5996          1               13.1                 5.6          1          1   \n",
       "5997          1               13.5                 5.9          0          1   \n",
       "5998          1               13.1                 5.6          0          0   \n",
       "5999          1               12.3                 5.8          1          0   \n",
       "6000          1               13.1                 6.6          1          1   \n",
       "\n",
       "      lips_thin  distance_nose_to_lip_long  gender  \n",
       "0             1                          1       0  \n",
       "1             1                          0       1  \n",
       "2             1                          1       0  \n",
       "3             1                          1       0  \n",
       "4             0                          0       1  \n",
       "...         ...                        ...     ...  \n",
       "5996          0                          0       0  \n",
       "5997          0                          0       1  \n",
       "5998          1                          0       1  \n",
       "5999          0                          1       0  \n",
       "6000          1                          1       0  \n",
       "\n",
       "[6001 rows x 8 columns]"
      ]
     },
     "execution_count": 44,
     "metadata": {},
     "output_type": "execute_result"
    }
   ],
   "source": [
    "# gender 컬럼 0(남자), 1(여자)로 변경\n",
    "gender_list = []\n",
    "for i in boot_gender['gender']:\n",
    "    if i == 'Male': gender_list.append(0)\n",
    "    else: gender_list.append(1)\n",
    "\n",
    "boot_gender['gender'] = gender_list\n",
    "boot_gender"
   ]
  },
  {
   "cell_type": "markdown",
   "metadata": {},
   "source": [
    "### [6] 훈련/테스트 세트 분리"
   ]
  },
  {
   "cell_type": "code",
   "execution_count": 45,
   "metadata": {},
   "outputs": [],
   "source": [
    "featureDF = boot_gender.iloc[:, :-1]\n",
    "targetSR = boot_gender['gender']"
   ]
  },
  {
   "cell_type": "code",
   "execution_count": 46,
   "metadata": {},
   "outputs": [],
   "source": [
    "X_train, X_test, y_train, y_test = train_test_split(featureDF, targetSR, stratify = targetSR,\n",
    "                                                    train_size = 0.8, random_state = 10)"
   ]
  },
  {
   "cell_type": "code",
   "execution_count": 47,
   "metadata": {},
   "outputs": [
    {
     "name": "stdout",
     "output_type": "stream",
     "text": [
      "X_train : (4800, 7), y_train : (4800,)\n",
      "X_test : (1201, 7), y_test : (1201,)\n"
     ]
    }
   ],
   "source": [
    "print(f\"X_train : {X_train.shape}, y_train : {y_train.shape}\")\n",
    "print(f\"X_test : {X_test.shape}, y_test : {y_test.shape}\")"
   ]
  },
  {
   "cell_type": "markdown",
   "metadata": {},
   "source": [
    "### [7] 스케일링"
   ]
  },
  {
   "cell_type": "code",
   "execution_count": 48,
   "metadata": {},
   "outputs": [
    {
     "data": {
      "text/html": [
       "<style>#sk-container-id-4 {color: black;}#sk-container-id-4 pre{padding: 0;}#sk-container-id-4 div.sk-toggleable {background-color: white;}#sk-container-id-4 label.sk-toggleable__label {cursor: pointer;display: block;width: 100%;margin-bottom: 0;padding: 0.3em;box-sizing: border-box;text-align: center;}#sk-container-id-4 label.sk-toggleable__label-arrow:before {content: \"▸\";float: left;margin-right: 0.25em;color: #696969;}#sk-container-id-4 label.sk-toggleable__label-arrow:hover:before {color: black;}#sk-container-id-4 div.sk-estimator:hover label.sk-toggleable__label-arrow:before {color: black;}#sk-container-id-4 div.sk-toggleable__content {max-height: 0;max-width: 0;overflow: hidden;text-align: left;background-color: #f0f8ff;}#sk-container-id-4 div.sk-toggleable__content pre {margin: 0.2em;color: black;border-radius: 0.25em;background-color: #f0f8ff;}#sk-container-id-4 input.sk-toggleable__control:checked~div.sk-toggleable__content {max-height: 200px;max-width: 100%;overflow: auto;}#sk-container-id-4 input.sk-toggleable__control:checked~label.sk-toggleable__label-arrow:before {content: \"▾\";}#sk-container-id-4 div.sk-estimator input.sk-toggleable__control:checked~label.sk-toggleable__label {background-color: #d4ebff;}#sk-container-id-4 div.sk-label input.sk-toggleable__control:checked~label.sk-toggleable__label {background-color: #d4ebff;}#sk-container-id-4 input.sk-hidden--visually {border: 0;clip: rect(1px 1px 1px 1px);clip: rect(1px, 1px, 1px, 1px);height: 1px;margin: -1px;overflow: hidden;padding: 0;position: absolute;width: 1px;}#sk-container-id-4 div.sk-estimator {font-family: monospace;background-color: #f0f8ff;border: 1px dotted black;border-radius: 0.25em;box-sizing: border-box;margin-bottom: 0.5em;}#sk-container-id-4 div.sk-estimator:hover {background-color: #d4ebff;}#sk-container-id-4 div.sk-parallel-item::after {content: \"\";width: 100%;border-bottom: 1px solid gray;flex-grow: 1;}#sk-container-id-4 div.sk-label:hover label.sk-toggleable__label {background-color: #d4ebff;}#sk-container-id-4 div.sk-serial::before {content: \"\";position: absolute;border-left: 1px solid gray;box-sizing: border-box;top: 0;bottom: 0;left: 50%;z-index: 0;}#sk-container-id-4 div.sk-serial {display: flex;flex-direction: column;align-items: center;background-color: white;padding-right: 0.2em;padding-left: 0.2em;position: relative;}#sk-container-id-4 div.sk-item {position: relative;z-index: 1;}#sk-container-id-4 div.sk-parallel {display: flex;align-items: stretch;justify-content: center;background-color: white;position: relative;}#sk-container-id-4 div.sk-item::before, #sk-container-id-4 div.sk-parallel-item::before {content: \"\";position: absolute;border-left: 1px solid gray;box-sizing: border-box;top: 0;bottom: 0;left: 50%;z-index: -1;}#sk-container-id-4 div.sk-parallel-item {display: flex;flex-direction: column;z-index: 1;position: relative;background-color: white;}#sk-container-id-4 div.sk-parallel-item:first-child::after {align-self: flex-end;width: 50%;}#sk-container-id-4 div.sk-parallel-item:last-child::after {align-self: flex-start;width: 50%;}#sk-container-id-4 div.sk-parallel-item:only-child::after {width: 0;}#sk-container-id-4 div.sk-dashed-wrapped {border: 1px dashed gray;margin: 0 0.4em 0.5em 0.4em;box-sizing: border-box;padding-bottom: 0.4em;background-color: white;}#sk-container-id-4 div.sk-label label {font-family: monospace;font-weight: bold;display: inline-block;line-height: 1.2em;}#sk-container-id-4 div.sk-label-container {text-align: center;}#sk-container-id-4 div.sk-container {/* jupyter's `normalize.less` sets `[hidden] { display: none; }` but bootstrap.min.css set `[hidden] { display: none !important; }` so we also need the `!important` here to be able to override the default hidden behavior on the sphinx rendered scikit-learn.org. See: https://github.com/scikit-learn/scikit-learn/issues/21755 */display: inline-block !important;position: relative;}#sk-container-id-4 div.sk-text-repr-fallback {display: none;}</style><div id=\"sk-container-id-4\" class=\"sk-top-container\"><div class=\"sk-text-repr-fallback\"><pre>StandardScaler()</pre><b>In a Jupyter environment, please rerun this cell to show the HTML representation or trust the notebook. <br />On GitHub, the HTML representation is unable to render, please try loading this page with nbviewer.org.</b></div><div class=\"sk-container\" hidden><div class=\"sk-item\"><div class=\"sk-estimator sk-toggleable\"><input class=\"sk-toggleable__control sk-hidden--visually\" id=\"sk-estimator-id-6\" type=\"checkbox\" checked><label for=\"sk-estimator-id-6\" class=\"sk-toggleable__label sk-toggleable__label-arrow\">StandardScaler</label><div class=\"sk-toggleable__content\"><pre>StandardScaler()</pre></div></div></div></div></div>"
      ],
      "text/plain": [
       "StandardScaler()"
      ]
     },
     "execution_count": 48,
     "metadata": {},
     "output_type": "execute_result"
    }
   ],
   "source": [
    "mm = MinMaxScaler()\n",
    "ss = StandardScaler()\n",
    "\n",
    "mm.fit(X_train[['forehead_width_cm', 'forehead_height_cm']])\n",
    "ss.fit(X_train[['forehead_width_cm', 'forehead_height_cm']])"
   ]
  },
  {
   "cell_type": "code",
   "execution_count": 49,
   "metadata": {},
   "outputs": [],
   "source": [
    "X_train_mm_scaled = mm.transform(X_train[['forehead_width_cm', 'forehead_height_cm']])\n",
    "X_test_mm_scaled = mm.transform(X_test[['forehead_width_cm', 'forehead_height_cm']])\n",
    "\n",
    "X_train_ss_scaled = ss.transform(X_train[['forehead_width_cm', 'forehead_height_cm']])\n",
    "X_test_ss_scaled = ss.transform(X_test[['forehead_width_cm', 'forehead_height_cm']])"
   ]
  },
  {
   "cell_type": "code",
   "execution_count": 50,
   "metadata": {},
   "outputs": [],
   "source": [
    "X_train_mm = X_train.copy()\n",
    "X_test_mm = X_test.copy()\n",
    "\n",
    "X_train_ss = X_train.copy()\n",
    "X_test_ss = X_test.copy()"
   ]
  },
  {
   "cell_type": "code",
   "execution_count": 51,
   "metadata": {},
   "outputs": [],
   "source": [
    "X_train_mm[['forehead_width_cm', 'forehead_height_cm']] = X_train_mm_scaled\n",
    "X_test_mm[['forehead_width_cm', 'forehead_height_cm']] = X_test_mm_scaled\n",
    "\n",
    "X_train_ss[['forehead_width_cm', 'forehead_height_cm']] = X_train_ss_scaled\n",
    "X_test_ss[['forehead_width_cm', 'forehead_height_cm']] = X_test_ss_scaled"
   ]
  },
  {
   "cell_type": "code",
   "execution_count": 52,
   "metadata": {},
   "outputs": [
    {
     "data": {
      "text/html": [
       "<div>\n",
       "<style scoped>\n",
       "    .dataframe tbody tr th:only-of-type {\n",
       "        vertical-align: middle;\n",
       "    }\n",
       "\n",
       "    .dataframe tbody tr th {\n",
       "        vertical-align: top;\n",
       "    }\n",
       "\n",
       "    .dataframe thead th {\n",
       "        text-align: right;\n",
       "    }\n",
       "</style>\n",
       "<table border=\"1\" class=\"dataframe\">\n",
       "  <thead>\n",
       "    <tr style=\"text-align: right;\">\n",
       "      <th></th>\n",
       "      <th>long_hair</th>\n",
       "      <th>forehead_width_cm</th>\n",
       "      <th>forehead_height_cm</th>\n",
       "      <th>nose_wide</th>\n",
       "      <th>nose_long</th>\n",
       "      <th>lips_thin</th>\n",
       "      <th>distance_nose_to_lip_long</th>\n",
       "    </tr>\n",
       "  </thead>\n",
       "  <tbody>\n",
       "    <tr>\n",
       "      <th>2265</th>\n",
       "      <td>1</td>\n",
       "      <td>0.487805</td>\n",
       "      <td>0.20</td>\n",
       "      <td>0</td>\n",
       "      <td>1</td>\n",
       "      <td>1</td>\n",
       "      <td>1</td>\n",
       "    </tr>\n",
       "    <tr>\n",
       "      <th>1721</th>\n",
       "      <td>1</td>\n",
       "      <td>0.707317</td>\n",
       "      <td>0.40</td>\n",
       "      <td>0</td>\n",
       "      <td>0</td>\n",
       "      <td>0</td>\n",
       "      <td>0</td>\n",
       "    </tr>\n",
       "    <tr>\n",
       "      <th>3159</th>\n",
       "      <td>1</td>\n",
       "      <td>0.243902</td>\n",
       "      <td>0.75</td>\n",
       "      <td>1</td>\n",
       "      <td>1</td>\n",
       "      <td>1</td>\n",
       "      <td>1</td>\n",
       "    </tr>\n",
       "    <tr>\n",
       "      <th>3642</th>\n",
       "      <td>1</td>\n",
       "      <td>0.951220</td>\n",
       "      <td>0.70</td>\n",
       "      <td>0</td>\n",
       "      <td>1</td>\n",
       "      <td>1</td>\n",
       "      <td>0</td>\n",
       "    </tr>\n",
       "    <tr>\n",
       "      <th>3420</th>\n",
       "      <td>1</td>\n",
       "      <td>0.512195</td>\n",
       "      <td>0.65</td>\n",
       "      <td>0</td>\n",
       "      <td>0</td>\n",
       "      <td>0</td>\n",
       "      <td>0</td>\n",
       "    </tr>\n",
       "    <tr>\n",
       "      <th>...</th>\n",
       "      <td>...</td>\n",
       "      <td>...</td>\n",
       "      <td>...</td>\n",
       "      <td>...</td>\n",
       "      <td>...</td>\n",
       "      <td>...</td>\n",
       "      <td>...</td>\n",
       "    </tr>\n",
       "    <tr>\n",
       "      <th>3594</th>\n",
       "      <td>1</td>\n",
       "      <td>0.121951</td>\n",
       "      <td>0.40</td>\n",
       "      <td>0</td>\n",
       "      <td>0</td>\n",
       "      <td>0</td>\n",
       "      <td>0</td>\n",
       "    </tr>\n",
       "    <tr>\n",
       "      <th>3189</th>\n",
       "      <td>1</td>\n",
       "      <td>0.121951</td>\n",
       "      <td>0.70</td>\n",
       "      <td>0</td>\n",
       "      <td>1</td>\n",
       "      <td>0</td>\n",
       "      <td>0</td>\n",
       "    </tr>\n",
       "    <tr>\n",
       "      <th>4734</th>\n",
       "      <td>1</td>\n",
       "      <td>1.000000</td>\n",
       "      <td>0.95</td>\n",
       "      <td>1</td>\n",
       "      <td>1</td>\n",
       "      <td>1</td>\n",
       "      <td>1</td>\n",
       "    </tr>\n",
       "    <tr>\n",
       "      <th>4726</th>\n",
       "      <td>1</td>\n",
       "      <td>0.487805</td>\n",
       "      <td>0.30</td>\n",
       "      <td>0</td>\n",
       "      <td>1</td>\n",
       "      <td>0</td>\n",
       "      <td>0</td>\n",
       "    </tr>\n",
       "    <tr>\n",
       "      <th>1370</th>\n",
       "      <td>1</td>\n",
       "      <td>0.682927</td>\n",
       "      <td>0.25</td>\n",
       "      <td>0</td>\n",
       "      <td>0</td>\n",
       "      <td>0</td>\n",
       "      <td>0</td>\n",
       "    </tr>\n",
       "  </tbody>\n",
       "</table>\n",
       "<p>4800 rows × 7 columns</p>\n",
       "</div>"
      ],
      "text/plain": [
       "      long_hair  forehead_width_cm  forehead_height_cm  nose_wide  nose_long  \\\n",
       "2265          1           0.487805                0.20          0          1   \n",
       "1721          1           0.707317                0.40          0          0   \n",
       "3159          1           0.243902                0.75          1          1   \n",
       "3642          1           0.951220                0.70          0          1   \n",
       "3420          1           0.512195                0.65          0          0   \n",
       "...         ...                ...                 ...        ...        ...   \n",
       "3594          1           0.121951                0.40          0          0   \n",
       "3189          1           0.121951                0.70          0          1   \n",
       "4734          1           1.000000                0.95          1          1   \n",
       "4726          1           0.487805                0.30          0          1   \n",
       "1370          1           0.682927                0.25          0          0   \n",
       "\n",
       "      lips_thin  distance_nose_to_lip_long  \n",
       "2265          1                          1  \n",
       "1721          0                          0  \n",
       "3159          1                          1  \n",
       "3642          1                          0  \n",
       "3420          0                          0  \n",
       "...         ...                        ...  \n",
       "3594          0                          0  \n",
       "3189          0                          0  \n",
       "4734          1                          1  \n",
       "4726          0                          0  \n",
       "1370          0                          0  \n",
       "\n",
       "[4800 rows x 7 columns]"
      ]
     },
     "execution_count": 52,
     "metadata": {},
     "output_type": "execute_result"
    }
   ],
   "source": [
    "X_train_mm"
   ]
  },
  {
   "cell_type": "code",
   "execution_count": 53,
   "metadata": {},
   "outputs": [
    {
     "data": {
      "text/html": [
       "<div>\n",
       "<style scoped>\n",
       "    .dataframe tbody tr th:only-of-type {\n",
       "        vertical-align: middle;\n",
       "    }\n",
       "\n",
       "    .dataframe tbody tr th {\n",
       "        vertical-align: top;\n",
       "    }\n",
       "\n",
       "    .dataframe thead th {\n",
       "        text-align: right;\n",
       "    }\n",
       "</style>\n",
       "<table border=\"1\" class=\"dataframe\">\n",
       "  <thead>\n",
       "    <tr style=\"text-align: right;\">\n",
       "      <th></th>\n",
       "      <th>long_hair</th>\n",
       "      <th>forehead_width_cm</th>\n",
       "      <th>forehead_height_cm</th>\n",
       "      <th>nose_wide</th>\n",
       "      <th>nose_long</th>\n",
       "      <th>lips_thin</th>\n",
       "      <th>distance_nose_to_lip_long</th>\n",
       "    </tr>\n",
       "  </thead>\n",
       "  <tbody>\n",
       "    <tr>\n",
       "      <th>2265</th>\n",
       "      <td>1</td>\n",
       "      <td>0.187940</td>\n",
       "      <td>-0.816103</td>\n",
       "      <td>0</td>\n",
       "      <td>1</td>\n",
       "      <td>1</td>\n",
       "      <td>1</td>\n",
       "    </tr>\n",
       "    <tr>\n",
       "      <th>1721</th>\n",
       "      <td>1</td>\n",
       "      <td>1.001060</td>\n",
       "      <td>-0.076712</td>\n",
       "      <td>0</td>\n",
       "      <td>0</td>\n",
       "      <td>0</td>\n",
       "      <td>0</td>\n",
       "    </tr>\n",
       "    <tr>\n",
       "      <th>3159</th>\n",
       "      <td>1</td>\n",
       "      <td>-0.715527</td>\n",
       "      <td>1.217223</td>\n",
       "      <td>1</td>\n",
       "      <td>1</td>\n",
       "      <td>1</td>\n",
       "      <td>1</td>\n",
       "    </tr>\n",
       "    <tr>\n",
       "      <th>3642</th>\n",
       "      <td>1</td>\n",
       "      <td>1.904526</td>\n",
       "      <td>1.032375</td>\n",
       "      <td>0</td>\n",
       "      <td>1</td>\n",
       "      <td>1</td>\n",
       "      <td>0</td>\n",
       "    </tr>\n",
       "    <tr>\n",
       "      <th>3420</th>\n",
       "      <td>1</td>\n",
       "      <td>0.278286</td>\n",
       "      <td>0.847527</td>\n",
       "      <td>0</td>\n",
       "      <td>0</td>\n",
       "      <td>0</td>\n",
       "      <td>0</td>\n",
       "    </tr>\n",
       "    <tr>\n",
       "      <th>...</th>\n",
       "      <td>...</td>\n",
       "      <td>...</td>\n",
       "      <td>...</td>\n",
       "      <td>...</td>\n",
       "      <td>...</td>\n",
       "      <td>...</td>\n",
       "      <td>...</td>\n",
       "    </tr>\n",
       "    <tr>\n",
       "      <th>3594</th>\n",
       "      <td>1</td>\n",
       "      <td>-1.167260</td>\n",
       "      <td>-0.076712</td>\n",
       "      <td>0</td>\n",
       "      <td>0</td>\n",
       "      <td>0</td>\n",
       "      <td>0</td>\n",
       "    </tr>\n",
       "    <tr>\n",
       "      <th>3189</th>\n",
       "      <td>1</td>\n",
       "      <td>-1.167260</td>\n",
       "      <td>1.032375</td>\n",
       "      <td>0</td>\n",
       "      <td>1</td>\n",
       "      <td>0</td>\n",
       "      <td>0</td>\n",
       "    </tr>\n",
       "    <tr>\n",
       "      <th>4734</th>\n",
       "      <td>1</td>\n",
       "      <td>2.085219</td>\n",
       "      <td>1.956615</td>\n",
       "      <td>1</td>\n",
       "      <td>1</td>\n",
       "      <td>1</td>\n",
       "      <td>1</td>\n",
       "    </tr>\n",
       "    <tr>\n",
       "      <th>4726</th>\n",
       "      <td>1</td>\n",
       "      <td>0.187940</td>\n",
       "      <td>-0.446408</td>\n",
       "      <td>0</td>\n",
       "      <td>1</td>\n",
       "      <td>0</td>\n",
       "      <td>0</td>\n",
       "    </tr>\n",
       "    <tr>\n",
       "      <th>1370</th>\n",
       "      <td>1</td>\n",
       "      <td>0.910713</td>\n",
       "      <td>-0.631255</td>\n",
       "      <td>0</td>\n",
       "      <td>0</td>\n",
       "      <td>0</td>\n",
       "      <td>0</td>\n",
       "    </tr>\n",
       "  </tbody>\n",
       "</table>\n",
       "<p>4800 rows × 7 columns</p>\n",
       "</div>"
      ],
      "text/plain": [
       "      long_hair  forehead_width_cm  forehead_height_cm  nose_wide  nose_long  \\\n",
       "2265          1           0.187940           -0.816103          0          1   \n",
       "1721          1           1.001060           -0.076712          0          0   \n",
       "3159          1          -0.715527            1.217223          1          1   \n",
       "3642          1           1.904526            1.032375          0          1   \n",
       "3420          1           0.278286            0.847527          0          0   \n",
       "...         ...                ...                 ...        ...        ...   \n",
       "3594          1          -1.167260           -0.076712          0          0   \n",
       "3189          1          -1.167260            1.032375          0          1   \n",
       "4734          1           2.085219            1.956615          1          1   \n",
       "4726          1           0.187940           -0.446408          0          1   \n",
       "1370          1           0.910713           -0.631255          0          0   \n",
       "\n",
       "      lips_thin  distance_nose_to_lip_long  \n",
       "2265          1                          1  \n",
       "1721          0                          0  \n",
       "3159          1                          1  \n",
       "3642          1                          0  \n",
       "3420          0                          0  \n",
       "...         ...                        ...  \n",
       "3594          0                          0  \n",
       "3189          0                          0  \n",
       "4734          1                          1  \n",
       "4726          0                          0  \n",
       "1370          0                          0  \n",
       "\n",
       "[4800 rows x 7 columns]"
      ]
     },
     "execution_count": 53,
     "metadata": {},
     "output_type": "execute_result"
    }
   ],
   "source": [
    "X_train_ss"
   ]
  },
  {
   "cell_type": "code",
   "execution_count": null,
   "metadata": {},
   "outputs": [
    {
     "data": {
      "image/png": "[encoded data removed]",
      "text/plain": [
       "<Figure size 1600x800 with 8 Axes>"
      ]
     },
     "metadata": {},
     "output_type": "display_data"
    }
   ],
   "source": [
    "fig, axs = plt.subplots(2, 4, figsize = (16, 8))\n",
    "\n",
    "name_dict = {'long_hair' : ['short', 'long'], 'nose_wide' : ['narrow', 'wide'],\n",
    "             'nose_long' : ['short', 'long'], 'lips_thin' : ['thick', 'thin'],\n",
    "             'distance_nose_to_lip_long' : ['short', 'long'], 'gender' : ['Male', 'Female']}\n",
    "\n",
    "for i in range(2):\n",
    "    for j in range(4):\n",
    "        if i == 0 and (j == 1 or j == 2): # 2, 3번째 히스토그램\n",
    "            axs[i,j].hist(gender[gender.columns[4*i + j]], edgecolor = 'black')\n",
    "            axs[i,j].set_title(gender.columns[4*i + j])\n",
    "        else:\n",
    "            sns.countplot(data=gender, x=gender.columns[4*i + j], hue='gender', ax = axs[i, j], edgecolor = 'black')\n",
    "\n",
    "            axs[i,j].set_xticks(np.arange(2))\n",
    "            axs[i,j].set_xticklabels(name_dict[gender.columns[4*i + j]])\n",
    "            axs[i,j].set_title(gender.columns[4*i + j])\n",
    "\n",
    "plt.tight_layout()"
   ]
  },
  {
   "cell_type": "markdown",
   "metadata": {},
   "source": [
    "### [8] 결정트리 (Decision Tree)"
   ]
  },
  {
   "cell_type": "markdown",
   "metadata": {},
   "source": [
    "### [9] 하이퍼 파라미터 튜닝"
   ]
  },
  {
   "cell_type": "markdown",
   "metadata": {},
   "source": [
    "#### [9-1] MinMax 스케일링으로 학습"
   ]
  },
  {
   "cell_type": "markdown",
   "metadata": {},
   "source": [
    ">max_depth: 트리의 최대 깊이 지정  \n",
    "min_samples_split: 노드를 분할하기 위한 최소 샘플 수 지정  \n",
    "min_samples_leaf: 리프 노드가 가져야 하는 최소 샘플 수 지정  \n",
    "max_features: 각 노드에서 분할에 사용할 특성의 최대 수 지정  \n",
    "criterion: 노드에서의 분할 기준 선택 (기본값은 'gini'이며, 'entropy'도 사용 가능)  "
   ]
  },
  {
   "cell_type": "code",
   "execution_count": 54,
   "metadata": {},
   "outputs": [],
   "source": [
    "# 탐색할 하이퍼 파라미터 그리드 설정\n",
    "param_dt = {\n",
    "    'max_depth': [1, 3, 5, 7],\n",
    "    'min_samples_split': [2, 4, 6, 8, 10],\n",
    "    'min_samples_leaf': [1, 2, 4, 6, 8],\n",
    "    'max_features': ['sqrt', 'log2'],\n",
    "    'criterion': ['gini', 'entropy']\n",
    "}"
   ]
  },
  {
   "cell_type": "code",
   "execution_count": 55,
   "metadata": {},
   "outputs": [
    {
     "data": {
      "text/html": [
       "<style>#sk-container-id-5 {color: black;}#sk-container-id-5 pre{padding: 0;}#sk-container-id-5 div.sk-toggleable {background-color: white;}#sk-container-id-5 label.sk-toggleable__label {cursor: pointer;display: block;width: 100%;margin-bottom: 0;padding: 0.3em;box-sizing: border-box;text-align: center;}#sk-container-id-5 label.sk-toggleable__label-arrow:before {content: \"▸\";float: left;margin-right: 0.25em;color: #696969;}#sk-container-id-5 label.sk-toggleable__label-arrow:hover:before {color: black;}#sk-container-id-5 div.sk-estimator:hover label.sk-toggleable__label-arrow:before {color: black;}#sk-container-id-5 div.sk-toggleable__content {max-height: 0;max-width: 0;overflow: hidden;text-align: left;background-color: #f0f8ff;}#sk-container-id-5 div.sk-toggleable__content pre {margin: 0.2em;color: black;border-radius: 0.25em;background-color: #f0f8ff;}#sk-container-id-5 input.sk-toggleable__control:checked~div.sk-toggleable__content {max-height: 200px;max-width: 100%;overflow: auto;}#sk-container-id-5 input.sk-toggleable__control:checked~label.sk-toggleable__label-arrow:before {content: \"▾\";}#sk-container-id-5 div.sk-estimator input.sk-toggleable__control:checked~label.sk-toggleable__label {background-color: #d4ebff;}#sk-container-id-5 div.sk-label input.sk-toggleable__control:checked~label.sk-toggleable__label {background-color: #d4ebff;}#sk-container-id-5 input.sk-hidden--visually {border: 0;clip: rect(1px 1px 1px 1px);clip: rect(1px, 1px, 1px, 1px);height: 1px;margin: -1px;overflow: hidden;padding: 0;position: absolute;width: 1px;}#sk-container-id-5 div.sk-estimator {font-family: monospace;background-color: #f0f8ff;border: 1px dotted black;border-radius: 0.25em;box-sizing: border-box;margin-bottom: 0.5em;}#sk-container-id-5 div.sk-estimator:hover {background-color: #d4ebff;}#sk-container-id-5 div.sk-parallel-item::after {content: \"\";width: 100%;border-bottom: 1px solid gray;flex-grow: 1;}#sk-container-id-5 div.sk-label:hover label.sk-toggleable__label {background-color: #d4ebff;}#sk-container-id-5 div.sk-serial::before {content: \"\";position: absolute;border-left: 1px solid gray;box-sizing: border-box;top: 0;bottom: 0;left: 50%;z-index: 0;}#sk-container-id-5 div.sk-serial {display: flex;flex-direction: column;align-items: center;background-color: white;padding-right: 0.2em;padding-left: 0.2em;position: relative;}#sk-container-id-5 div.sk-item {position: relative;z-index: 1;}#sk-container-id-5 div.sk-parallel {display: flex;align-items: stretch;justify-content: center;background-color: white;position: relative;}#sk-container-id-5 div.sk-item::before, #sk-container-id-5 div.sk-parallel-item::before {content: \"\";position: absolute;border-left: 1px solid gray;box-sizing: border-box;top: 0;bottom: 0;left: 50%;z-index: -1;}#sk-container-id-5 div.sk-parallel-item {display: flex;flex-direction: column;z-index: 1;position: relative;background-color: white;}#sk-container-id-5 div.sk-parallel-item:first-child::after {align-self: flex-end;width: 50%;}#sk-container-id-5 div.sk-parallel-item:last-child::after {align-self: flex-start;width: 50%;}#sk-container-id-5 div.sk-parallel-item:only-child::after {width: 0;}#sk-container-id-5 div.sk-dashed-wrapped {border: 1px dashed gray;margin: 0 0.4em 0.5em 0.4em;box-sizing: border-box;padding-bottom: 0.4em;background-color: white;}#sk-container-id-5 div.sk-label label {font-family: monospace;font-weight: bold;display: inline-block;line-height: 1.2em;}#sk-container-id-5 div.sk-label-container {text-align: center;}#sk-container-id-5 div.sk-container {/* jupyter's `normalize.less` sets `[hidden] { display: none; }` but bootstrap.min.css set `[hidden] { display: none !important; }` so we also need the `!important` here to be able to override the default hidden behavior on the sphinx rendered scikit-learn.org. See: https://github.com/scikit-learn/scikit-learn/issues/21755 */display: inline-block !important;position: relative;}#sk-container-id-5 div.sk-text-repr-fallback {display: none;}</style><div id=\"sk-container-id-5\" class=\"sk-top-container\"><div class=\"sk-text-repr-fallback\"><pre>GridSearchCV(cv=5, estimator=DecisionTreeClassifier(random_state=10),\n",
       "             param_grid={&#x27;criterion&#x27;: [&#x27;gini&#x27;, &#x27;entropy&#x27;],\n",
       "                         &#x27;max_depth&#x27;: [1, 3, 5, 7],\n",
       "                         &#x27;max_features&#x27;: [&#x27;sqrt&#x27;, &#x27;log2&#x27;],\n",
       "                         &#x27;min_samples_leaf&#x27;: [1, 2, 4, 6, 8],\n",
       "                         &#x27;min_samples_split&#x27;: [2, 4, 6, 8, 10]},\n",
       "             scoring=&#x27;accuracy&#x27;)</pre><b>In a Jupyter environment, please rerun this cell to show the HTML representation or trust the notebook. <br />On GitHub, the HTML representation is unable to render, please try loading this page with nbviewer.org.</b></div><div class=\"sk-container\" hidden><div class=\"sk-item sk-dashed-wrapped\"><div class=\"sk-label-container\"><div class=\"sk-label sk-toggleable\"><input class=\"sk-toggleable__control sk-hidden--visually\" id=\"sk-estimator-id-7\" type=\"checkbox\" ><label for=\"sk-estimator-id-7\" class=\"sk-toggleable__label sk-toggleable__label-arrow\">GridSearchCV</label><div class=\"sk-toggleable__content\"><pre>GridSearchCV(cv=5, estimator=DecisionTreeClassifier(random_state=10),\n",
       "             param_grid={&#x27;criterion&#x27;: [&#x27;gini&#x27;, &#x27;entropy&#x27;],\n",
       "                         &#x27;max_depth&#x27;: [1, 3, 5, 7],\n",
       "                         &#x27;max_features&#x27;: [&#x27;sqrt&#x27;, &#x27;log2&#x27;],\n",
       "                         &#x27;min_samples_leaf&#x27;: [1, 2, 4, 6, 8],\n",
       "                         &#x27;min_samples_split&#x27;: [2, 4, 6, 8, 10]},\n",
       "             scoring=&#x27;accuracy&#x27;)</pre></div></div></div><div class=\"sk-parallel\"><div class=\"sk-parallel-item\"><div class=\"sk-item\"><div class=\"sk-label-container\"><div class=\"sk-label sk-toggleable\"><input class=\"sk-toggleable__control sk-hidden--visually\" id=\"sk-estimator-id-8\" type=\"checkbox\" ><label for=\"sk-estimator-id-8\" class=\"sk-toggleable__label sk-toggleable__label-arrow\">estimator: DecisionTreeClassifier</label><div class=\"sk-toggleable__content\"><pre>DecisionTreeClassifier(random_state=10)</pre></div></div></div><div class=\"sk-serial\"><div class=\"sk-item\"><div class=\"sk-estimator sk-toggleable\"><input class=\"sk-toggleable__control sk-hidden--visually\" id=\"sk-estimator-id-9\" type=\"checkbox\" ><label for=\"sk-estimator-id-9\" class=\"sk-toggleable__label sk-toggleable__label-arrow\">DecisionTreeClassifier</label><div class=\"sk-toggleable__content\"><pre>DecisionTreeClassifier(random_state=10)</pre></div></div></div></div></div></div></div></div></div></div>"
      ],
      "text/plain": [
       "GridSearchCV(cv=5, estimator=DecisionTreeClassifier(random_state=10),\n",
       "             param_grid={'criterion': ['gini', 'entropy'],\n",
       "                         'max_depth': [1, 3, 5, 7],\n",
       "                         'max_features': ['sqrt', 'log2'],\n",
       "                         'min_samples_leaf': [1, 2, 4, 6, 8],\n",
       "                         'min_samples_split': [2, 4, 6, 8, 10]},\n",
       "             scoring='accuracy')"
      ]
     },
     "execution_count": 55,
     "metadata": {},
     "output_type": "execute_result"
    }
   ],
   "source": [
    "dt = DecisionTreeClassifier(random_state=10)\n",
    "\n",
    "# GridSearchCV 객체 생성\n",
    "dt_grid_search = GridSearchCV(estimator=dt, param_grid = param_dt,\n",
    "                              cv = 5, scoring = 'accuracy')\n",
    "\n",
    "# 그리드 탐색 수행\n",
    "dt_grid_search.fit(X_train_mm, y_train)"
   ]
  },
  {
   "cell_type": "code",
   "execution_count": 56,
   "metadata": {},
   "outputs": [
    {
     "data": {
      "text/html": [
       "<style>#sk-container-id-6 {color: black;}#sk-container-id-6 pre{padding: 0;}#sk-container-id-6 div.sk-toggleable {background-color: white;}#sk-container-id-6 label.sk-toggleable__label {cursor: pointer;display: block;width: 100%;margin-bottom: 0;padding: 0.3em;box-sizing: border-box;text-align: center;}#sk-container-id-6 label.sk-toggleable__label-arrow:before {content: \"▸\";float: left;margin-right: 0.25em;color: #696969;}#sk-container-id-6 label.sk-toggleable__label-arrow:hover:before {color: black;}#sk-container-id-6 div.sk-estimator:hover label.sk-toggleable__label-arrow:before {color: black;}#sk-container-id-6 div.sk-toggleable__content {max-height: 0;max-width: 0;overflow: hidden;text-align: left;background-color: #f0f8ff;}#sk-container-id-6 div.sk-toggleable__content pre {margin: 0.2em;color: black;border-radius: 0.25em;background-color: #f0f8ff;}#sk-container-id-6 input.sk-toggleable__control:checked~div.sk-toggleable__content {max-height: 200px;max-width: 100%;overflow: auto;}#sk-container-id-6 input.sk-toggleable__control:checked~label.sk-toggleable__label-arrow:before {content: \"▾\";}#sk-container-id-6 div.sk-estimator input.sk-toggleable__control:checked~label.sk-toggleable__label {background-color: #d4ebff;}#sk-container-id-6 div.sk-label input.sk-toggleable__control:checked~label.sk-toggleable__label {background-color: #d4ebff;}#sk-container-id-6 input.sk-hidden--visually {border: 0;clip: rect(1px 1px 1px 1px);clip: rect(1px, 1px, 1px, 1px);height: 1px;margin: -1px;overflow: hidden;padding: 0;position: absolute;width: 1px;}#sk-container-id-6 div.sk-estimator {font-family: monospace;background-color: #f0f8ff;border: 1px dotted black;border-radius: 0.25em;box-sizing: border-box;margin-bottom: 0.5em;}#sk-container-id-6 div.sk-estimator:hover {background-color: #d4ebff;}#sk-container-id-6 div.sk-parallel-item::after {content: \"\";width: 100%;border-bottom: 1px solid gray;flex-grow: 1;}#sk-container-id-6 div.sk-label:hover label.sk-toggleable__label {background-color: #d4ebff;}#sk-container-id-6 div.sk-serial::before {content: \"\";position: absolute;border-left: 1px solid gray;box-sizing: border-box;top: 0;bottom: 0;left: 50%;z-index: 0;}#sk-container-id-6 div.sk-serial {display: flex;flex-direction: column;align-items: center;background-color: white;padding-right: 0.2em;padding-left: 0.2em;position: relative;}#sk-container-id-6 div.sk-item {position: relative;z-index: 1;}#sk-container-id-6 div.sk-parallel {display: flex;align-items: stretch;justify-content: center;background-color: white;position: relative;}#sk-container-id-6 div.sk-item::before, #sk-container-id-6 div.sk-parallel-item::before {content: \"\";position: absolute;border-left: 1px solid gray;box-sizing: border-box;top: 0;bottom: 0;left: 50%;z-index: -1;}#sk-container-id-6 div.sk-parallel-item {display: flex;flex-direction: column;z-index: 1;position: relative;background-color: white;}#sk-container-id-6 div.sk-parallel-item:first-child::after {align-self: flex-end;width: 50%;}#sk-container-id-6 div.sk-parallel-item:last-child::after {align-self: flex-start;width: 50%;}#sk-container-id-6 div.sk-parallel-item:only-child::after {width: 0;}#sk-container-id-6 div.sk-dashed-wrapped {border: 1px dashed gray;margin: 0 0.4em 0.5em 0.4em;box-sizing: border-box;padding-bottom: 0.4em;background-color: white;}#sk-container-id-6 div.sk-label label {font-family: monospace;font-weight: bold;display: inline-block;line-height: 1.2em;}#sk-container-id-6 div.sk-label-container {text-align: center;}#sk-container-id-6 div.sk-container {/* jupyter's `normalize.less` sets `[hidden] { display: none; }` but bootstrap.min.css set `[hidden] { display: none !important; }` so we also need the `!important` here to be able to override the default hidden behavior on the sphinx rendered scikit-learn.org. See: https://github.com/scikit-learn/scikit-learn/issues/21755 */display: inline-block !important;position: relative;}#sk-container-id-6 div.sk-text-repr-fallback {display: none;}</style><div id=\"sk-container-id-6\" class=\"sk-top-container\"><div class=\"sk-text-repr-fallback\"><pre>DecisionTreeClassifier(criterion=&#x27;entropy&#x27;, max_depth=7, max_features=&#x27;sqrt&#x27;,\n",
       "                       random_state=10)</pre><b>In a Jupyter environment, please rerun this cell to show the HTML representation or trust the notebook. <br />On GitHub, the HTML representation is unable to render, please try loading this page with nbviewer.org.</b></div><div class=\"sk-container\" hidden><div class=\"sk-item\"><div class=\"sk-estimator sk-toggleable\"><input class=\"sk-toggleable__control sk-hidden--visually\" id=\"sk-estimator-id-10\" type=\"checkbox\" checked><label for=\"sk-estimator-id-10\" class=\"sk-toggleable__label sk-toggleable__label-arrow\">DecisionTreeClassifier</label><div class=\"sk-toggleable__content\"><pre>DecisionTreeClassifier(criterion=&#x27;entropy&#x27;, max_depth=7, max_features=&#x27;sqrt&#x27;,\n",
       "                       random_state=10)</pre></div></div></div></div></div>"
      ],
      "text/plain": [
       "DecisionTreeClassifier(criterion='entropy', max_depth=7, max_features='sqrt',\n",
       "                       random_state=10)"
      ]
     },
     "execution_count": 56,
     "metadata": {},
     "output_type": "execute_result"
    }
   ],
   "source": [
    "dt_grid_search.best_estimator_"
   ]
  },
  {
   "cell_type": "code",
   "execution_count": 57,
   "metadata": {},
   "outputs": [
    {
     "name": "stdout",
     "output_type": "stream",
     "text": [
      "훈련 세트 Accuracy : 0.9675\n",
      "테스트 세트 Accuracy : 0.9625\n"
     ]
    }
   ],
   "source": [
    "print(f\"훈련 세트 Accuracy : {dt_grid_search.best_estimator_.score(X_train_mm, y_train):.4f}\")\n",
    "print(f\"테스트 세트 Accuracy : {dt_grid_search.best_estimator_.score(X_test_mm, y_test):.4f}\")"
   ]
  },
  {
   "cell_type": "markdown",
   "metadata": {},
   "source": [
    "> GridSearch를 했더니 더 점수가 낮아졌다."
   ]
  },
  {
   "cell_type": "code",
   "execution_count": 58,
   "metadata": {},
   "outputs": [
    {
     "name": "stdout",
     "output_type": "stream",
     "text": [
      "-----------------훈련 세트 평가 지표-----------------\n",
      "              precision    recall  f1-score   support\n",
      "\n",
      "           0       0.98      0.95      0.97      2401\n",
      "           1       0.96      0.98      0.97      2399\n",
      "\n",
      "    accuracy                           0.97      4800\n",
      "   macro avg       0.97      0.97      0.97      4800\n",
      "weighted avg       0.97      0.97      0.97      4800\n",
      "\n",
      "\n",
      "----------------테스트 세트 평가 지표----------------\n",
      "              precision    recall  f1-score   support\n",
      "\n",
      "           0       0.97      0.96      0.96       601\n",
      "           1       0.96      0.97      0.96       600\n",
      "\n",
      "    accuracy                           0.96      1201\n",
      "   macro avg       0.96      0.96      0.96      1201\n",
      "weighted avg       0.96      0.96      0.96      1201\n",
      "\n"
     ]
    }
   ],
   "source": [
    "y_train_mm_pred = dt_grid_search.best_estimator_.predict(X_train_mm)\n",
    "y_test_mm_pred = dt_grid_search.best_estimator_.predict(X_test_mm)\n",
    "\n",
    "print(f\"{'-'*17}훈련 세트 평가 지표{'-'*17}\\n{classification_report(y_train, y_train_mm_pred)}\")\n",
    "print()\n",
    "print(f\"{'-'*16}테스트 세트 평가 지표{'-'*16}\\n{classification_report(y_test, y_test_mm_pred)}\")"
   ]
  },
  {
   "cell_type": "markdown",
   "metadata": {},
   "source": [
    "#### [9-2] Standard 스케일링으로 학습"
   ]
  },
  {
   "cell_type": "markdown",
   "metadata": {},
   "source": [
    ">max_depth: 트리의 최대 깊이 지정  \n",
    "min_samples_split: 노드를 분할하기 위한 최소 샘플 수 지정  \n",
    "min_samples_leaf: 리프 노드가 가져야 하는 최소 샘플 수 지정  \n",
    "max_features: 각 노드에서 분할에 사용할 특성의 최대 수 지정  \n",
    "criterion: 노드에서의 분할 기준 선택 (기본값은 'gini'이며, 'entropy'도 사용 가능)  "
   ]
  },
  {
   "cell_type": "code",
   "execution_count": 59,
   "metadata": {},
   "outputs": [],
   "source": [
    "# 탐색할 하이퍼 파라미터 그리드 설정\n",
    "param_dt = {\n",
    "    'max_depth': [1, 3, 5, 7],\n",
    "    'min_samples_split': [2, 4, 6, 8, 10],\n",
    "    'min_samples_leaf': [1, 2, 4, 6, 8],\n",
    "    'max_features': ['sqrt', 'log2'],\n",
    "    'criterion': ['gini', 'entropy']\n",
    "}"
   ]
  },
  {
   "cell_type": "code",
   "execution_count": 60,
   "metadata": {},
   "outputs": [
    {
     "data": {
      "text/html": [
       "<style>#sk-container-id-7 {color: black;}#sk-container-id-7 pre{padding: 0;}#sk-container-id-7 div.sk-toggleable {background-color: white;}#sk-container-id-7 label.sk-toggleable__label {cursor: pointer;display: block;width: 100%;margin-bottom: 0;padding: 0.3em;box-sizing: border-box;text-align: center;}#sk-container-id-7 label.sk-toggleable__label-arrow:before {content: \"▸\";float: left;margin-right: 0.25em;color: #696969;}#sk-container-id-7 label.sk-toggleable__label-arrow:hover:before {color: black;}#sk-container-id-7 div.sk-estimator:hover label.sk-toggleable__label-arrow:before {color: black;}#sk-container-id-7 div.sk-toggleable__content {max-height: 0;max-width: 0;overflow: hidden;text-align: left;background-color: #f0f8ff;}#sk-container-id-7 div.sk-toggleable__content pre {margin: 0.2em;color: black;border-radius: 0.25em;background-color: #f0f8ff;}#sk-container-id-7 input.sk-toggleable__control:checked~div.sk-toggleable__content {max-height: 200px;max-width: 100%;overflow: auto;}#sk-container-id-7 input.sk-toggleable__control:checked~label.sk-toggleable__label-arrow:before {content: \"▾\";}#sk-container-id-7 div.sk-estimator input.sk-toggleable__control:checked~label.sk-toggleable__label {background-color: #d4ebff;}#sk-container-id-7 div.sk-label input.sk-toggleable__control:checked~label.sk-toggleable__label {background-color: #d4ebff;}#sk-container-id-7 input.sk-hidden--visually {border: 0;clip: rect(1px 1px 1px 1px);clip: rect(1px, 1px, 1px, 1px);height: 1px;margin: -1px;overflow: hidden;padding: 0;position: absolute;width: 1px;}#sk-container-id-7 div.sk-estimator {font-family: monospace;background-color: #f0f8ff;border: 1px dotted black;border-radius: 0.25em;box-sizing: border-box;margin-bottom: 0.5em;}#sk-container-id-7 div.sk-estimator:hover {background-color: #d4ebff;}#sk-container-id-7 div.sk-parallel-item::after {content: \"\";width: 100%;border-bottom: 1px solid gray;flex-grow: 1;}#sk-container-id-7 div.sk-label:hover label.sk-toggleable__label {background-color: #d4ebff;}#sk-container-id-7 div.sk-serial::before {content: \"\";position: absolute;border-left: 1px solid gray;box-sizing: border-box;top: 0;bottom: 0;left: 50%;z-index: 0;}#sk-container-id-7 div.sk-serial {display: flex;flex-direction: column;align-items: center;background-color: white;padding-right: 0.2em;padding-left: 0.2em;position: relative;}#sk-container-id-7 div.sk-item {position: relative;z-index: 1;}#sk-container-id-7 div.sk-parallel {display: flex;align-items: stretch;justify-content: center;background-color: white;position: relative;}#sk-container-id-7 div.sk-item::before, #sk-container-id-7 div.sk-parallel-item::before {content: \"\";position: absolute;border-left: 1px solid gray;box-sizing: border-box;top: 0;bottom: 0;left: 50%;z-index: -1;}#sk-container-id-7 div.sk-parallel-item {display: flex;flex-direction: column;z-index: 1;position: relative;background-color: white;}#sk-container-id-7 div.sk-parallel-item:first-child::after {align-self: flex-end;width: 50%;}#sk-container-id-7 div.sk-parallel-item:last-child::after {align-self: flex-start;width: 50%;}#sk-container-id-7 div.sk-parallel-item:only-child::after {width: 0;}#sk-container-id-7 div.sk-dashed-wrapped {border: 1px dashed gray;margin: 0 0.4em 0.5em 0.4em;box-sizing: border-box;padding-bottom: 0.4em;background-color: white;}#sk-container-id-7 div.sk-label label {font-family: monospace;font-weight: bold;display: inline-block;line-height: 1.2em;}#sk-container-id-7 div.sk-label-container {text-align: center;}#sk-container-id-7 div.sk-container {/* jupyter's `normalize.less` sets `[hidden] { display: none; }` but bootstrap.min.css set `[hidden] { display: none !important; }` so we also need the `!important` here to be able to override the default hidden behavior on the sphinx rendered scikit-learn.org. See: https://github.com/scikit-learn/scikit-learn/issues/21755 */display: inline-block !important;position: relative;}#sk-container-id-7 div.sk-text-repr-fallback {display: none;}</style><div id=\"sk-container-id-7\" class=\"sk-top-container\"><div class=\"sk-text-repr-fallback\"><pre>GridSearchCV(cv=5, estimator=DecisionTreeClassifier(random_state=10),\n",
       "             param_grid={&#x27;criterion&#x27;: [&#x27;gini&#x27;, &#x27;entropy&#x27;],\n",
       "                         &#x27;max_depth&#x27;: [1, 3, 5, 7],\n",
       "                         &#x27;max_features&#x27;: [&#x27;sqrt&#x27;, &#x27;log2&#x27;],\n",
       "                         &#x27;min_samples_leaf&#x27;: [1, 2, 4, 6, 8],\n",
       "                         &#x27;min_samples_split&#x27;: [2, 4, 6, 8, 10]},\n",
       "             scoring=&#x27;accuracy&#x27;)</pre><b>In a Jupyter environment, please rerun this cell to show the HTML representation or trust the notebook. <br />On GitHub, the HTML representation is unable to render, please try loading this page with nbviewer.org.</b></div><div class=\"sk-container\" hidden><div class=\"sk-item sk-dashed-wrapped\"><div class=\"sk-label-container\"><div class=\"sk-label sk-toggleable\"><input class=\"sk-toggleable__control sk-hidden--visually\" id=\"sk-estimator-id-11\" type=\"checkbox\" ><label for=\"sk-estimator-id-11\" class=\"sk-toggleable__label sk-toggleable__label-arrow\">GridSearchCV</label><div class=\"sk-toggleable__content\"><pre>GridSearchCV(cv=5, estimator=DecisionTreeClassifier(random_state=10),\n",
       "             param_grid={&#x27;criterion&#x27;: [&#x27;gini&#x27;, &#x27;entropy&#x27;],\n",
       "                         &#x27;max_depth&#x27;: [1, 3, 5, 7],\n",
       "                         &#x27;max_features&#x27;: [&#x27;sqrt&#x27;, &#x27;log2&#x27;],\n",
       "                         &#x27;min_samples_leaf&#x27;: [1, 2, 4, 6, 8],\n",
       "                         &#x27;min_samples_split&#x27;: [2, 4, 6, 8, 10]},\n",
       "             scoring=&#x27;accuracy&#x27;)</pre></div></div></div><div class=\"sk-parallel\"><div class=\"sk-parallel-item\"><div class=\"sk-item\"><div class=\"sk-label-container\"><div class=\"sk-label sk-toggleable\"><input class=\"sk-toggleable__control sk-hidden--visually\" id=\"sk-estimator-id-12\" type=\"checkbox\" ><label for=\"sk-estimator-id-12\" class=\"sk-toggleable__label sk-toggleable__label-arrow\">estimator: DecisionTreeClassifier</label><div class=\"sk-toggleable__content\"><pre>DecisionTreeClassifier(random_state=10)</pre></div></div></div><div class=\"sk-serial\"><div class=\"sk-item\"><div class=\"sk-estimator sk-toggleable\"><input class=\"sk-toggleable__control sk-hidden--visually\" id=\"sk-estimator-id-13\" type=\"checkbox\" ><label for=\"sk-estimator-id-13\" class=\"sk-toggleable__label sk-toggleable__label-arrow\">DecisionTreeClassifier</label><div class=\"sk-toggleable__content\"><pre>DecisionTreeClassifier(random_state=10)</pre></div></div></div></div></div></div></div></div></div></div>"
      ],
      "text/plain": [
       "GridSearchCV(cv=5, estimator=DecisionTreeClassifier(random_state=10),\n",
       "             param_grid={'criterion': ['gini', 'entropy'],\n",
       "                         'max_depth': [1, 3, 5, 7],\n",
       "                         'max_features': ['sqrt', 'log2'],\n",
       "                         'min_samples_leaf': [1, 2, 4, 6, 8],\n",
       "                         'min_samples_split': [2, 4, 6, 8, 10]},\n",
       "             scoring='accuracy')"
      ]
     },
     "execution_count": 60,
     "metadata": {},
     "output_type": "execute_result"
    }
   ],
   "source": [
    "dt = DecisionTreeClassifier(random_state=10)\n",
    "\n",
    "# GridSearchCV 객체 생성\n",
    "dt_grid_search = GridSearchCV(estimator=dt, param_grid = param_dt,\n",
    "                              cv = 5, scoring = 'accuracy')\n",
    "\n",
    "# 그리드 탐색 수행\n",
    "dt_grid_search.fit(X_train_ss, y_train)"
   ]
  },
  {
   "cell_type": "code",
   "execution_count": 61,
   "metadata": {},
   "outputs": [
    {
     "data": {
      "text/html": [
       "<style>#sk-container-id-8 {color: black;}#sk-container-id-8 pre{padding: 0;}#sk-container-id-8 div.sk-toggleable {background-color: white;}#sk-container-id-8 label.sk-toggleable__label {cursor: pointer;display: block;width: 100%;margin-bottom: 0;padding: 0.3em;box-sizing: border-box;text-align: center;}#sk-container-id-8 label.sk-toggleable__label-arrow:before {content: \"▸\";float: left;margin-right: 0.25em;color: #696969;}#sk-container-id-8 label.sk-toggleable__label-arrow:hover:before {color: black;}#sk-container-id-8 div.sk-estimator:hover label.sk-toggleable__label-arrow:before {color: black;}#sk-container-id-8 div.sk-toggleable__content {max-height: 0;max-width: 0;overflow: hidden;text-align: left;background-color: #f0f8ff;}#sk-container-id-8 div.sk-toggleable__content pre {margin: 0.2em;color: black;border-radius: 0.25em;background-color: #f0f8ff;}#sk-container-id-8 input.sk-toggleable__control:checked~div.sk-toggleable__content {max-height: 200px;max-width: 100%;overflow: auto;}#sk-container-id-8 input.sk-toggleable__control:checked~label.sk-toggleable__label-arrow:before {content: \"▾\";}#sk-container-id-8 div.sk-estimator input.sk-toggleable__control:checked~label.sk-toggleable__label {background-color: #d4ebff;}#sk-container-id-8 div.sk-label input.sk-toggleable__control:checked~label.sk-toggleable__label {background-color: #d4ebff;}#sk-container-id-8 input.sk-hidden--visually {border: 0;clip: rect(1px 1px 1px 1px);clip: rect(1px, 1px, 1px, 1px);height: 1px;margin: -1px;overflow: hidden;padding: 0;position: absolute;width: 1px;}#sk-container-id-8 div.sk-estimator {font-family: monospace;background-color: #f0f8ff;border: 1px dotted black;border-radius: 0.25em;box-sizing: border-box;margin-bottom: 0.5em;}#sk-container-id-8 div.sk-estimator:hover {background-color: #d4ebff;}#sk-container-id-8 div.sk-parallel-item::after {content: \"\";width: 100%;border-bottom: 1px solid gray;flex-grow: 1;}#sk-container-id-8 div.sk-label:hover label.sk-toggleable__label {background-color: #d4ebff;}#sk-container-id-8 div.sk-serial::before {content: \"\";position: absolute;border-left: 1px solid gray;box-sizing: border-box;top: 0;bottom: 0;left: 50%;z-index: 0;}#sk-container-id-8 div.sk-serial {display: flex;flex-direction: column;align-items: center;background-color: white;padding-right: 0.2em;padding-left: 0.2em;position: relative;}#sk-container-id-8 div.sk-item {position: relative;z-index: 1;}#sk-container-id-8 div.sk-parallel {display: flex;align-items: stretch;justify-content: center;background-color: white;position: relative;}#sk-container-id-8 div.sk-item::before, #sk-container-id-8 div.sk-parallel-item::before {content: \"\";position: absolute;border-left: 1px solid gray;box-sizing: border-box;top: 0;bottom: 0;left: 50%;z-index: -1;}#sk-container-id-8 div.sk-parallel-item {display: flex;flex-direction: column;z-index: 1;position: relative;background-color: white;}#sk-container-id-8 div.sk-parallel-item:first-child::after {align-self: flex-end;width: 50%;}#sk-container-id-8 div.sk-parallel-item:last-child::after {align-self: flex-start;width: 50%;}#sk-container-id-8 div.sk-parallel-item:only-child::after {width: 0;}#sk-container-id-8 div.sk-dashed-wrapped {border: 1px dashed gray;margin: 0 0.4em 0.5em 0.4em;box-sizing: border-box;padding-bottom: 0.4em;background-color: white;}#sk-container-id-8 div.sk-label label {font-family: monospace;font-weight: bold;display: inline-block;line-height: 1.2em;}#sk-container-id-8 div.sk-label-container {text-align: center;}#sk-container-id-8 div.sk-container {/* jupyter's `normalize.less` sets `[hidden] { display: none; }` but bootstrap.min.css set `[hidden] { display: none !important; }` so we also need the `!important` here to be able to override the default hidden behavior on the sphinx rendered scikit-learn.org. See: https://github.com/scikit-learn/scikit-learn/issues/21755 */display: inline-block !important;position: relative;}#sk-container-id-8 div.sk-text-repr-fallback {display: none;}</style><div id=\"sk-container-id-8\" class=\"sk-top-container\"><div class=\"sk-text-repr-fallback\"><pre>DecisionTreeClassifier(criterion=&#x27;entropy&#x27;, max_depth=7, max_features=&#x27;sqrt&#x27;,\n",
       "                       random_state=10)</pre><b>In a Jupyter environment, please rerun this cell to show the HTML representation or trust the notebook. <br />On GitHub, the HTML representation is unable to render, please try loading this page with nbviewer.org.</b></div><div class=\"sk-container\" hidden><div class=\"sk-item\"><div class=\"sk-estimator sk-toggleable\"><input class=\"sk-toggleable__control sk-hidden--visually\" id=\"sk-estimator-id-14\" type=\"checkbox\" checked><label for=\"sk-estimator-id-14\" class=\"sk-toggleable__label sk-toggleable__label-arrow\">DecisionTreeClassifier</label><div class=\"sk-toggleable__content\"><pre>DecisionTreeClassifier(criterion=&#x27;entropy&#x27;, max_depth=7, max_features=&#x27;sqrt&#x27;,\n",
       "                       random_state=10)</pre></div></div></div></div></div>"
      ],
      "text/plain": [
       "DecisionTreeClassifier(criterion='entropy', max_depth=7, max_features='sqrt',\n",
       "                       random_state=10)"
      ]
     },
     "execution_count": 61,
     "metadata": {},
     "output_type": "execute_result"
    }
   ],
   "source": [
    "dt_grid_search.best_estimator_"
   ]
  },
  {
   "cell_type": "code",
   "execution_count": 63,
   "metadata": {},
   "outputs": [
    {
     "name": "stdout",
     "output_type": "stream",
     "text": [
      "훈련 세트 Accuracy : 0.9675\n",
      "테스트 세트 Accuracy : 0.9625\n"
     ]
    }
   ],
   "source": [
    "print(f\"훈련 세트 Accuracy : {dt_grid_search.best_estimator_.score(X_train_ss, y_train):.4f}\")\n",
    "print(f\"테스트 세트 Accuracy : {dt_grid_search.best_estimator_.score(X_test_ss, y_test):.4f}\")"
   ]
  },
  {
   "cell_type": "markdown",
   "metadata": {},
   "source": [
    "> GridSearch를 했더니 더 점수가 낮아졌다."
   ]
  },
  {
   "cell_type": "code",
   "execution_count": 64,
   "metadata": {},
   "outputs": [
    {
     "name": "stdout",
     "output_type": "stream",
     "text": [
      "-----------------훈련 세트 평가 지표-----------------\n",
      "              precision    recall  f1-score   support\n",
      "\n",
      "           0       0.98      0.95      0.97      2401\n",
      "           1       0.96      0.98      0.97      2399\n",
      "\n",
      "    accuracy                           0.97      4800\n",
      "   macro avg       0.97      0.97      0.97      4800\n",
      "weighted avg       0.97      0.97      0.97      4800\n",
      "\n",
      "\n",
      "----------------테스트 세트 평가 지표----------------\n",
      "              precision    recall  f1-score   support\n",
      "\n",
      "           0       0.97      0.96      0.96       601\n",
      "           1       0.96      0.97      0.96       600\n",
      "\n",
      "    accuracy                           0.96      1201\n",
      "   macro avg       0.96      0.96      0.96      1201\n",
      "weighted avg       0.96      0.96      0.96      1201\n",
      "\n"
     ]
    }
   ],
   "source": [
    "y_train_ss_pred = dt_grid_search.best_estimator_.predict(X_train_ss)\n",
    "y_test_ss_pred = dt_grid_search.best_estimator_.predict(X_test_ss)\n",
    "\n",
    "print(f\"{'-'*17}훈련 세트 평가 지표{'-'*17}\\n{classification_report(y_train, y_train_ss_pred)}\")\n",
    "print()\n",
    "print(f\"{'-'*16}테스트 세트 평가 지표{'-'*16}\\n{classification_report(y_test, y_test_ss_pred)}\")"
   ]
  },
  {
   "cell_type": "markdown",
   "metadata": {},
   "source": [
    "#### [9-3] 스케일링 안한걸로 학습"
   ]
  },
  {
   "cell_type": "markdown",
   "metadata": {},
   "source": [
    ">max_depth: 트리의 최대 깊이 지정  \n",
    "min_samples_split: 노드를 분할하기 위한 최소 샘플 수 지정  \n",
    "min_samples_leaf: 리프 노드가 가져야 하는 최소 샘플 수 지정  \n",
    "max_features: 각 노드에서 분할에 사용할 특성의 최대 수 지정  \n",
    "criterion: 노드에서의 분할 기준 선택 (기본값은 'gini'이며, 'entropy'도 사용 가능)  "
   ]
  },
  {
   "cell_type": "code",
   "execution_count": 66,
   "metadata": {},
   "outputs": [],
   "source": [
    "# 탐색할 하이퍼 파라미터 그리드 설정\n",
    "param_dt = {\n",
    "    'max_depth': [1, 3, 5, 7],\n",
    "    'min_samples_split': [2, 4, 6, 8, 10],\n",
    "    'min_samples_leaf': [1, 2, 4, 6, 8],\n",
    "    'max_features': ['sqrt', 'log2'],\n",
    "    'criterion': ['gini', 'entropy']\n",
    "}"
   ]
  },
  {
   "cell_type": "code",
   "execution_count": 67,
   "metadata": {},
   "outputs": [
    {
     "data": {
      "text/html": [
       "<style>#sk-container-id-9 {color: black;}#sk-container-id-9 pre{padding: 0;}#sk-container-id-9 div.sk-toggleable {background-color: white;}#sk-container-id-9 label.sk-toggleable__label {cursor: pointer;display: block;width: 100%;margin-bottom: 0;padding: 0.3em;box-sizing: border-box;text-align: center;}#sk-container-id-9 label.sk-toggleable__label-arrow:before {content: \"▸\";float: left;margin-right: 0.25em;color: #696969;}#sk-container-id-9 label.sk-toggleable__label-arrow:hover:before {color: black;}#sk-container-id-9 div.sk-estimator:hover label.sk-toggleable__label-arrow:before {color: black;}#sk-container-id-9 div.sk-toggleable__content {max-height: 0;max-width: 0;overflow: hidden;text-align: left;background-color: #f0f8ff;}#sk-container-id-9 div.sk-toggleable__content pre {margin: 0.2em;color: black;border-radius: 0.25em;background-color: #f0f8ff;}#sk-container-id-9 input.sk-toggleable__control:checked~div.sk-toggleable__content {max-height: 200px;max-width: 100%;overflow: auto;}#sk-container-id-9 input.sk-toggleable__control:checked~label.sk-toggleable__label-arrow:before {content: \"▾\";}#sk-container-id-9 div.sk-estimator input.sk-toggleable__control:checked~label.sk-toggleable__label {background-color: #d4ebff;}#sk-container-id-9 div.sk-label input.sk-toggleable__control:checked~label.sk-toggleable__label {background-color: #d4ebff;}#sk-container-id-9 input.sk-hidden--visually {border: 0;clip: rect(1px 1px 1px 1px);clip: rect(1px, 1px, 1px, 1px);height: 1px;margin: -1px;overflow: hidden;padding: 0;position: absolute;width: 1px;}#sk-container-id-9 div.sk-estimator {font-family: monospace;background-color: #f0f8ff;border: 1px dotted black;border-radius: 0.25em;box-sizing: border-box;margin-bottom: 0.5em;}#sk-container-id-9 div.sk-estimator:hover {background-color: #d4ebff;}#sk-container-id-9 div.sk-parallel-item::after {content: \"\";width: 100%;border-bottom: 1px solid gray;flex-grow: 1;}#sk-container-id-9 div.sk-label:hover label.sk-toggleable__label {background-color: #d4ebff;}#sk-container-id-9 div.sk-serial::before {content: \"\";position: absolute;border-left: 1px solid gray;box-sizing: border-box;top: 0;bottom: 0;left: 50%;z-index: 0;}#sk-container-id-9 div.sk-serial {display: flex;flex-direction: column;align-items: center;background-color: white;padding-right: 0.2em;padding-left: 0.2em;position: relative;}#sk-container-id-9 div.sk-item {position: relative;z-index: 1;}#sk-container-id-9 div.sk-parallel {display: flex;align-items: stretch;justify-content: center;background-color: white;position: relative;}#sk-container-id-9 div.sk-item::before, #sk-container-id-9 div.sk-parallel-item::before {content: \"\";position: absolute;border-left: 1px solid gray;box-sizing: border-box;top: 0;bottom: 0;left: 50%;z-index: -1;}#sk-container-id-9 div.sk-parallel-item {display: flex;flex-direction: column;z-index: 1;position: relative;background-color: white;}#sk-container-id-9 div.sk-parallel-item:first-child::after {align-self: flex-end;width: 50%;}#sk-container-id-9 div.sk-parallel-item:last-child::after {align-self: flex-start;width: 50%;}#sk-container-id-9 div.sk-parallel-item:only-child::after {width: 0;}#sk-container-id-9 div.sk-dashed-wrapped {border: 1px dashed gray;margin: 0 0.4em 0.5em 0.4em;box-sizing: border-box;padding-bottom: 0.4em;background-color: white;}#sk-container-id-9 div.sk-label label {font-family: monospace;font-weight: bold;display: inline-block;line-height: 1.2em;}#sk-container-id-9 div.sk-label-container {text-align: center;}#sk-container-id-9 div.sk-container {/* jupyter's `normalize.less` sets `[hidden] { display: none; }` but bootstrap.min.css set `[hidden] { display: none !important; }` so we also need the `!important` here to be able to override the default hidden behavior on the sphinx rendered scikit-learn.org. See: https://github.com/scikit-learn/scikit-learn/issues/21755 */display: inline-block !important;position: relative;}#sk-container-id-9 div.sk-text-repr-fallback {display: none;}</style><div id=\"sk-container-id-9\" class=\"sk-top-container\"><div class=\"sk-text-repr-fallback\"><pre>GridSearchCV(cv=5, estimator=DecisionTreeClassifier(random_state=10),\n",
       "             param_grid={&#x27;criterion&#x27;: [&#x27;gini&#x27;, &#x27;entropy&#x27;],\n",
       "                         &#x27;max_depth&#x27;: [1, 3, 5, 7],\n",
       "                         &#x27;max_features&#x27;: [&#x27;sqrt&#x27;, &#x27;log2&#x27;],\n",
       "                         &#x27;min_samples_leaf&#x27;: [1, 2, 4, 6, 8],\n",
       "                         &#x27;min_samples_split&#x27;: [2, 4, 6, 8, 10]},\n",
       "             scoring=&#x27;accuracy&#x27;)</pre><b>In a Jupyter environment, please rerun this cell to show the HTML representation or trust the notebook. <br />On GitHub, the HTML representation is unable to render, please try loading this page with nbviewer.org.</b></div><div class=\"sk-container\" hidden><div class=\"sk-item sk-dashed-wrapped\"><div class=\"sk-label-container\"><div class=\"sk-label sk-toggleable\"><input class=\"sk-toggleable__control sk-hidden--visually\" id=\"sk-estimator-id-15\" type=\"checkbox\" ><label for=\"sk-estimator-id-15\" class=\"sk-toggleable__label sk-toggleable__label-arrow\">GridSearchCV</label><div class=\"sk-toggleable__content\"><pre>GridSearchCV(cv=5, estimator=DecisionTreeClassifier(random_state=10),\n",
       "             param_grid={&#x27;criterion&#x27;: [&#x27;gini&#x27;, &#x27;entropy&#x27;],\n",
       "                         &#x27;max_depth&#x27;: [1, 3, 5, 7],\n",
       "                         &#x27;max_features&#x27;: [&#x27;sqrt&#x27;, &#x27;log2&#x27;],\n",
       "                         &#x27;min_samples_leaf&#x27;: [1, 2, 4, 6, 8],\n",
       "                         &#x27;min_samples_split&#x27;: [2, 4, 6, 8, 10]},\n",
       "             scoring=&#x27;accuracy&#x27;)</pre></div></div></div><div class=\"sk-parallel\"><div class=\"sk-parallel-item\"><div class=\"sk-item\"><div class=\"sk-label-container\"><div class=\"sk-label sk-toggleable\"><input class=\"sk-toggleable__control sk-hidden--visually\" id=\"sk-estimator-id-16\" type=\"checkbox\" ><label for=\"sk-estimator-id-16\" class=\"sk-toggleable__label sk-toggleable__label-arrow\">estimator: DecisionTreeClassifier</label><div class=\"sk-toggleable__content\"><pre>DecisionTreeClassifier(random_state=10)</pre></div></div></div><div class=\"sk-serial\"><div class=\"sk-item\"><div class=\"sk-estimator sk-toggleable\"><input class=\"sk-toggleable__control sk-hidden--visually\" id=\"sk-estimator-id-17\" type=\"checkbox\" ><label for=\"sk-estimator-id-17\" class=\"sk-toggleable__label sk-toggleable__label-arrow\">DecisionTreeClassifier</label><div class=\"sk-toggleable__content\"><pre>DecisionTreeClassifier(random_state=10)</pre></div></div></div></div></div></div></div></div></div></div>"
      ],
      "text/plain": [
       "GridSearchCV(cv=5, estimator=DecisionTreeClassifier(random_state=10),\n",
       "             param_grid={'criterion': ['gini', 'entropy'],\n",
       "                         'max_depth': [1, 3, 5, 7],\n",
       "                         'max_features': ['sqrt', 'log2'],\n",
       "                         'min_samples_leaf': [1, 2, 4, 6, 8],\n",
       "                         'min_samples_split': [2, 4, 6, 8, 10]},\n",
       "             scoring='accuracy')"
      ]
     },
     "execution_count": 67,
     "metadata": {},
     "output_type": "execute_result"
    }
   ],
   "source": [
    "dt = DecisionTreeClassifier(random_state=10)\n",
    "\n",
    "# GridSearchCV 객체 생성\n",
    "dt_grid_search = GridSearchCV(estimator=dt, param_grid = param_dt,\n",
    "                              cv = 5, scoring = 'accuracy')\n",
    "\n",
    "# 그리드 탐색 수행\n",
    "dt_grid_search.fit(X_train, y_train)"
   ]
  },
  {
   "cell_type": "code",
   "execution_count": 68,
   "metadata": {},
   "outputs": [
    {
     "data": {
      "text/html": [
       "<style>#sk-container-id-10 {color: black;}#sk-container-id-10 pre{padding: 0;}#sk-container-id-10 div.sk-toggleable {background-color: white;}#sk-container-id-10 label.sk-toggleable__label {cursor: pointer;display: block;width: 100%;margin-bottom: 0;padding: 0.3em;box-sizing: border-box;text-align: center;}#sk-container-id-10 label.sk-toggleable__label-arrow:before {content: \"▸\";float: left;margin-right: 0.25em;color: #696969;}#sk-container-id-10 label.sk-toggleable__label-arrow:hover:before {color: black;}#sk-container-id-10 div.sk-estimator:hover label.sk-toggleable__label-arrow:before {color: black;}#sk-container-id-10 div.sk-toggleable__content {max-height: 0;max-width: 0;overflow: hidden;text-align: left;background-color: #f0f8ff;}#sk-container-id-10 div.sk-toggleable__content pre {margin: 0.2em;color: black;border-radius: 0.25em;background-color: #f0f8ff;}#sk-container-id-10 input.sk-toggleable__control:checked~div.sk-toggleable__content {max-height: 200px;max-width: 100%;overflow: auto;}#sk-container-id-10 input.sk-toggleable__control:checked~label.sk-toggleable__label-arrow:before {content: \"▾\";}#sk-container-id-10 div.sk-estimator input.sk-toggleable__control:checked~label.sk-toggleable__label {background-color: #d4ebff;}#sk-container-id-10 div.sk-label input.sk-toggleable__control:checked~label.sk-toggleable__label {background-color: #d4ebff;}#sk-container-id-10 input.sk-hidden--visually {border: 0;clip: rect(1px 1px 1px 1px);clip: rect(1px, 1px, 1px, 1px);height: 1px;margin: -1px;overflow: hidden;padding: 0;position: absolute;width: 1px;}#sk-container-id-10 div.sk-estimator {font-family: monospace;background-color: #f0f8ff;border: 1px dotted black;border-radius: 0.25em;box-sizing: border-box;margin-bottom: 0.5em;}#sk-container-id-10 div.sk-estimator:hover {background-color: #d4ebff;}#sk-container-id-10 div.sk-parallel-item::after {content: \"\";width: 100%;border-bottom: 1px solid gray;flex-grow: 1;}#sk-container-id-10 div.sk-label:hover label.sk-toggleable__label {background-color: #d4ebff;}#sk-container-id-10 div.sk-serial::before {content: \"\";position: absolute;border-left: 1px solid gray;box-sizing: border-box;top: 0;bottom: 0;left: 50%;z-index: 0;}#sk-container-id-10 div.sk-serial {display: flex;flex-direction: column;align-items: center;background-color: white;padding-right: 0.2em;padding-left: 0.2em;position: relative;}#sk-container-id-10 div.sk-item {position: relative;z-index: 1;}#sk-container-id-10 div.sk-parallel {display: flex;align-items: stretch;justify-content: center;background-color: white;position: relative;}#sk-container-id-10 div.sk-item::before, #sk-container-id-10 div.sk-parallel-item::before {content: \"\";position: absolute;border-left: 1px solid gray;box-sizing: border-box;top: 0;bottom: 0;left: 50%;z-index: -1;}#sk-container-id-10 div.sk-parallel-item {display: flex;flex-direction: column;z-index: 1;position: relative;background-color: white;}#sk-container-id-10 div.sk-parallel-item:first-child::after {align-self: flex-end;width: 50%;}#sk-container-id-10 div.sk-parallel-item:last-child::after {align-self: flex-start;width: 50%;}#sk-container-id-10 div.sk-parallel-item:only-child::after {width: 0;}#sk-container-id-10 div.sk-dashed-wrapped {border: 1px dashed gray;margin: 0 0.4em 0.5em 0.4em;box-sizing: border-box;padding-bottom: 0.4em;background-color: white;}#sk-container-id-10 div.sk-label label {font-family: monospace;font-weight: bold;display: inline-block;line-height: 1.2em;}#sk-container-id-10 div.sk-label-container {text-align: center;}#sk-container-id-10 div.sk-container {/* jupyter's `normalize.less` sets `[hidden] { display: none; }` but bootstrap.min.css set `[hidden] { display: none !important; }` so we also need the `!important` here to be able to override the default hidden behavior on the sphinx rendered scikit-learn.org. See: https://github.com/scikit-learn/scikit-learn/issues/21755 */display: inline-block !important;position: relative;}#sk-container-id-10 div.sk-text-repr-fallback {display: none;}</style><div id=\"sk-container-id-10\" class=\"sk-top-container\"><div class=\"sk-text-repr-fallback\"><pre>DecisionTreeClassifier(criterion=&#x27;entropy&#x27;, max_depth=7, max_features=&#x27;sqrt&#x27;,\n",
       "                       random_state=10)</pre><b>In a Jupyter environment, please rerun this cell to show the HTML representation or trust the notebook. <br />On GitHub, the HTML representation is unable to render, please try loading this page with nbviewer.org.</b></div><div class=\"sk-container\" hidden><div class=\"sk-item\"><div class=\"sk-estimator sk-toggleable\"><input class=\"sk-toggleable__control sk-hidden--visually\" id=\"sk-estimator-id-18\" type=\"checkbox\" checked><label for=\"sk-estimator-id-18\" class=\"sk-toggleable__label sk-toggleable__label-arrow\">DecisionTreeClassifier</label><div class=\"sk-toggleable__content\"><pre>DecisionTreeClassifier(criterion=&#x27;entropy&#x27;, max_depth=7, max_features=&#x27;sqrt&#x27;,\n",
       "                       random_state=10)</pre></div></div></div></div></div>"
      ],
      "text/plain": [
       "DecisionTreeClassifier(criterion='entropy', max_depth=7, max_features='sqrt',\n",
       "                       random_state=10)"
      ]
     },
     "execution_count": 68,
     "metadata": {},
     "output_type": "execute_result"
    }
   ],
   "source": [
    "dt_grid_search.best_estimator_"
   ]
  },
  {
   "cell_type": "code",
   "execution_count": 69,
   "metadata": {},
   "outputs": [
    {
     "name": "stdout",
     "output_type": "stream",
     "text": [
      "훈련 세트 Accuracy : 0.9675\n",
      "테스트 세트 Accuracy : 0.9625\n"
     ]
    }
   ],
   "source": [
    "print(f\"훈련 세트 Accuracy : {dt_grid_search.best_estimator_.score(X_train, y_train):.4f}\")\n",
    "print(f\"테스트 세트 Accuracy : {dt_grid_search.best_estimator_.score(X_test, y_test):.4f}\")"
   ]
  },
  {
   "cell_type": "markdown",
   "metadata": {},
   "source": [
    "> GridSearch를 했더니 더 점수가 낮아졌다."
   ]
  },
  {
   "cell_type": "code",
   "execution_count": 70,
   "metadata": {},
   "outputs": [
    {
     "name": "stdout",
     "output_type": "stream",
     "text": [
      "-----------------훈련 세트 평가 지표-----------------\n",
      "              precision    recall  f1-score   support\n",
      "\n",
      "           0       0.98      0.95      0.97      2401\n",
      "           1       0.96      0.98      0.97      2399\n",
      "\n",
      "    accuracy                           0.97      4800\n",
      "   macro avg       0.97      0.97      0.97      4800\n",
      "weighted avg       0.97      0.97      0.97      4800\n",
      "\n",
      "\n",
      "----------------테스트 세트 평가 지표----------------\n",
      "              precision    recall  f1-score   support\n",
      "\n",
      "           0       0.97      0.96      0.96       601\n",
      "           1       0.96      0.97      0.96       600\n",
      "\n",
      "    accuracy                           0.96      1201\n",
      "   macro avg       0.96      0.96      0.96      1201\n",
      "weighted avg       0.96      0.96      0.96      1201\n",
      "\n"
     ]
    }
   ],
   "source": [
    "y_train_pred = dt_grid_search.best_estimator_.predict(X_train)\n",
    "y_test_pred = dt_grid_search.best_estimator_.predict(X_test)\n",
    "\n",
    "print(f\"{'-'*17}훈련 세트 평가 지표{'-'*17}\\n{classification_report(y_train, y_train_pred)}\")\n",
    "print()\n",
    "print(f\"{'-'*16}테스트 세트 평가 지표{'-'*16}\\n{classification_report(y_test, y_test_pred)}\")"
   ]
  },
  {
   "cell_type": "code",
   "execution_count": 30,
   "metadata": {},
   "outputs": [
    {
     "data": {
      "image/png": "[encoded data removed]",
      "text/plain": [
       "<Figure size 1000x600 with 1 Axes>"
      ]
     },
     "metadata": {},
     "output_type": "display_data"
    }
   ],
   "source": [
    "# 모델의 확률 예측값을 가져오기, predict_proba()로 예측 확률값 얻기\n",
    "y_train_mm_pred_proba = dt_grid_search.best_estimator_.predict_proba(X_train_mm)[:, 1]\n",
    "y_test_mm_pred_proba = dt_grid_search.best_estimator_.predict_proba(X_test_mm)[:, 1]\n",
    "\n",
    "train_fpr, train_tpr, train_thresholds = roc_curve(y_train, y_train_mm_pred_proba)\n",
    "test_fpr, test_tpr, test_thresholds = roc_curve(y_test, y_test_mm_pred_proba)\n",
    "\n",
    "train_auc = roc_auc_score(y_train, y_train_mm_pred_proba)\n",
    "test_auc = roc_auc_score(y_test, y_test_mm_pred_proba)\n",
    "\n",
    "plt.figure(figsize=(10, 6))\n",
    "plt.plot(train_fpr, train_tpr, label=f'Train ROC Curve (AUC = {train_auc:.4f})')\n",
    "plt.plot(test_fpr, test_tpr, label=f'Test ROC Curve (AUC = {test_auc:.4f})')\n",
    "\n",
    "plt.plot([0, 1], [0, 1], color='gray', linestyle='--')\n",
    "\n",
    "plt.xlabel('1 - Specificity (False Positive Rate)')\n",
    "plt.ylabel('Sensitivity (True Positive Rate)')\n",
    "plt.title('ROC Curve')\n",
    "plt.legend(loc='lower right')\n",
    "plt.show()"
   ]
  },
  {
   "cell_type": "markdown",
   "metadata": {},
   "source": [
    "#### [9-1] MinMax 스케일링으로 학습"
   ]
  },
  {
   "cell_type": "markdown",
   "metadata": {},
   "source": [
    "#### [9-1] MinMax 스케일링으로 학습"
   ]
  },
  {
   "cell_type": "markdown",
   "metadata": {},
   "source": [
    ">max_depth: 트리의 최대 깊이 지정  \n",
    "min_samples_split: 노드를 분할하기 위한 최소 샘플 수 지정  \n",
    "min_samples_leaf: 리프 노드가 가져야 하는 최소 샘플 수 지정  \n",
    "max_features: 각 노드에서 분할에 사용할 특성의 최대 수 지정  \n",
    "criterion: 노드에서의 분할 기준 선택 (기본값은 'gini'이며, 'entropy'도 사용 가능)  "
   ]
  },
  {
   "cell_type": "code",
   "execution_count": null,
   "metadata": {},
   "outputs": [],
   "source": [
    "# 탐색할 하이퍼 파라미터 그리드 설정\n",
    "param_dt = {\n",
    "    'max_depth': [1, 3, 5, 7],\n",
    "    'min_samples_split': [2, 4, 6, 8, 10],\n",
    "    'min_samples_leaf': [1, 2, 4, 6, 8],\n",
    "    'max_features': ['sqrt', 'log2'],\n",
    "    'criterion': ['gini', 'entropy']\n",
    "}"
   ]
  },
  {
   "cell_type": "code",
   "execution_count": null,
   "metadata": {},
   "outputs": [
    {
     "data": {
      "text/html": [
       "<style>#sk-container-id-5 {color: black;}#sk-container-id-5 pre{padding: 0;}#sk-container-id-5 div.sk-toggleable {background-color: white;}#sk-container-id-5 label.sk-toggleable__label {cursor: pointer;display: block;width: 100%;margin-bottom: 0;padding: 0.3em;box-sizing: border-box;text-align: center;}#sk-container-id-5 label.sk-toggleable__label-arrow:before {content: \"▸\";float: left;margin-right: 0.25em;color: #696969;}#sk-container-id-5 label.sk-toggleable__label-arrow:hover:before {color: black;}#sk-container-id-5 div.sk-estimator:hover label.sk-toggleable__label-arrow:before {color: black;}#sk-container-id-5 div.sk-toggleable__content {max-height: 0;max-width: 0;overflow: hidden;text-align: left;background-color: #f0f8ff;}#sk-container-id-5 div.sk-toggleable__content pre {margin: 0.2em;color: black;border-radius: 0.25em;background-color: #f0f8ff;}#sk-container-id-5 input.sk-toggleable__control:checked~div.sk-toggleable__content {max-height: 200px;max-width: 100%;overflow: auto;}#sk-container-id-5 input.sk-toggleable__control:checked~label.sk-toggleable__label-arrow:before {content: \"▾\";}#sk-container-id-5 div.sk-estimator input.sk-toggleable__control:checked~label.sk-toggleable__label {background-color: #d4ebff;}#sk-container-id-5 div.sk-label input.sk-toggleable__control:checked~label.sk-toggleable__label {background-color: #d4ebff;}#sk-container-id-5 input.sk-hidden--visually {border: 0;clip: rect(1px 1px 1px 1px);clip: rect(1px, 1px, 1px, 1px);height: 1px;margin: -1px;overflow: hidden;padding: 0;position: absolute;width: 1px;}#sk-container-id-5 div.sk-estimator {font-family: monospace;background-color: #f0f8ff;border: 1px dotted black;border-radius: 0.25em;box-sizing: border-box;margin-bottom: 0.5em;}#sk-container-id-5 div.sk-estimator:hover {background-color: #d4ebff;}#sk-container-id-5 div.sk-parallel-item::after {content: \"\";width: 100%;border-bottom: 1px solid gray;flex-grow: 1;}#sk-container-id-5 div.sk-label:hover label.sk-toggleable__label {background-color: #d4ebff;}#sk-container-id-5 div.sk-serial::before {content: \"\";position: absolute;border-left: 1px solid gray;box-sizing: border-box;top: 0;bottom: 0;left: 50%;z-index: 0;}#sk-container-id-5 div.sk-serial {display: flex;flex-direction: column;align-items: center;background-color: white;padding-right: 0.2em;padding-left: 0.2em;position: relative;}#sk-container-id-5 div.sk-item {position: relative;z-index: 1;}#sk-container-id-5 div.sk-parallel {display: flex;align-items: stretch;justify-content: center;background-color: white;position: relative;}#sk-container-id-5 div.sk-item::before, #sk-container-id-5 div.sk-parallel-item::before {content: \"\";position: absolute;border-left: 1px solid gray;box-sizing: border-box;top: 0;bottom: 0;left: 50%;z-index: -1;}#sk-container-id-5 div.sk-parallel-item {display: flex;flex-direction: column;z-index: 1;position: relative;background-color: white;}#sk-container-id-5 div.sk-parallel-item:first-child::after {align-self: flex-end;width: 50%;}#sk-container-id-5 div.sk-parallel-item:last-child::after {align-self: flex-start;width: 50%;}#sk-container-id-5 div.sk-parallel-item:only-child::after {width: 0;}#sk-container-id-5 div.sk-dashed-wrapped {border: 1px dashed gray;margin: 0 0.4em 0.5em 0.4em;box-sizing: border-box;padding-bottom: 0.4em;background-color: white;}#sk-container-id-5 div.sk-label label {font-family: monospace;font-weight: bold;display: inline-block;line-height: 1.2em;}#sk-container-id-5 div.sk-label-container {text-align: center;}#sk-container-id-5 div.sk-container {/* jupyter's `normalize.less` sets `[hidden] { display: none; }` but bootstrap.min.css set `[hidden] { display: none !important; }` so we also need the `!important` here to be able to override the default hidden behavior on the sphinx rendered scikit-learn.org. See: https://github.com/scikit-learn/scikit-learn/issues/21755 */display: inline-block !important;position: relative;}#sk-container-id-5 div.sk-text-repr-fallback {display: none;}</style><div id=\"sk-container-id-5\" class=\"sk-top-container\"><div class=\"sk-text-repr-fallback\"><pre>GridSearchCV(cv=5, estimator=DecisionTreeClassifier(random_state=10),\n",
       "             param_grid={&#x27;criterion&#x27;: [&#x27;gini&#x27;, &#x27;entropy&#x27;],\n",
       "                         &#x27;max_depth&#x27;: [1, 3, 5, 7],\n",
       "                         &#x27;max_features&#x27;: [&#x27;sqrt&#x27;, &#x27;log2&#x27;],\n",
       "                         &#x27;min_samples_leaf&#x27;: [1, 2, 4, 6, 8],\n",
       "                         &#x27;min_samples_split&#x27;: [2, 4, 6, 8, 10]},\n",
       "             scoring=&#x27;accuracy&#x27;)</pre><b>In a Jupyter environment, please rerun this cell to show the HTML representation or trust the notebook. <br />On GitHub, the HTML representation is unable to render, please try loading this page with nbviewer.org.</b></div><div class=\"sk-container\" hidden><div class=\"sk-item sk-dashed-wrapped\"><div class=\"sk-label-container\"><div class=\"sk-label sk-toggleable\"><input class=\"sk-toggleable__control sk-hidden--visually\" id=\"sk-estimator-id-7\" type=\"checkbox\" ><label for=\"sk-estimator-id-7\" class=\"sk-toggleable__label sk-toggleable__label-arrow\">GridSearchCV</label><div class=\"sk-toggleable__content\"><pre>GridSearchCV(cv=5, estimator=DecisionTreeClassifier(random_state=10),\n",
       "             param_grid={&#x27;criterion&#x27;: [&#x27;gini&#x27;, &#x27;entropy&#x27;],\n",
       "                         &#x27;max_depth&#x27;: [1, 3, 5, 7],\n",
       "                         &#x27;max_features&#x27;: [&#x27;sqrt&#x27;, &#x27;log2&#x27;],\n",
       "                         &#x27;min_samples_leaf&#x27;: [1, 2, 4, 6, 8],\n",
       "                         &#x27;min_samples_split&#x27;: [2, 4, 6, 8, 10]},\n",
       "             scoring=&#x27;accuracy&#x27;)</pre></div></div></div><div class=\"sk-parallel\"><div class=\"sk-parallel-item\"><div class=\"sk-item\"><div class=\"sk-label-container\"><div class=\"sk-label sk-toggleable\"><input class=\"sk-toggleable__control sk-hidden--visually\" id=\"sk-estimator-id-8\" type=\"checkbox\" ><label for=\"sk-estimator-id-8\" class=\"sk-toggleable__label sk-toggleable__label-arrow\">estimator: DecisionTreeClassifier</label><div class=\"sk-toggleable__content\"><pre>DecisionTreeClassifier(random_state=10)</pre></div></div></div><div class=\"sk-serial\"><div class=\"sk-item\"><div class=\"sk-estimator sk-toggleable\"><input class=\"sk-toggleable__control sk-hidden--visually\" id=\"sk-estimator-id-9\" type=\"checkbox\" ><label for=\"sk-estimator-id-9\" class=\"sk-toggleable__label sk-toggleable__label-arrow\">DecisionTreeClassifier</label><div class=\"sk-toggleable__content\"><pre>DecisionTreeClassifier(random_state=10)</pre></div></div></div></div></div></div></div></div></div></div>"
      ],
      "text/plain": [
       "GridSearchCV(cv=5, estimator=DecisionTreeClassifier(random_state=10),\n",
       "             param_grid={'criterion': ['gini', 'entropy'],\n",
       "                         'max_depth': [1, 3, 5, 7],\n",
       "                         'max_features': ['sqrt', 'log2'],\n",
       "                         'min_samples_leaf': [1, 2, 4, 6, 8],\n",
       "                         'min_samples_split': [2, 4, 6, 8, 10]},\n",
       "             scoring='accuracy')"
      ]
     },
     "metadata": {},
     "output_type": "display_data"
    }
   ],
   "source": [
    "dt = DecisionTreeClassifier(random_state=10)\n",
    "\n",
    "# GridSearchCV 객체 생성\n",
    "dt_grid_search = GridSearchCV(estimator=dt, param_grid = param_dt,\n",
    "                              cv = 5, scoring = 'accuracy')\n",
    "\n",
    "# 그리드 탐색 수행\n",
    "dt_grid_search.fit(X_train_mm, y_train)"
   ]
  },
  {
   "cell_type": "code",
   "execution_count": null,
   "metadata": {},
   "outputs": [
    {
     "data": {
      "text/html": [
       "<style>#sk-container-id-6 {color: black;}#sk-container-id-6 pre{padding: 0;}#sk-container-id-6 div.sk-toggleable {background-color: white;}#sk-container-id-6 label.sk-toggleable__label {cursor: pointer;display: block;width: 100%;margin-bottom: 0;padding: 0.3em;box-sizing: border-box;text-align: center;}#sk-container-id-6 label.sk-toggleable__label-arrow:before {content: \"▸\";float: left;margin-right: 0.25em;color: #696969;}#sk-container-id-6 label.sk-toggleable__label-arrow:hover:before {color: black;}#sk-container-id-6 div.sk-estimator:hover label.sk-toggleable__label-arrow:before {color: black;}#sk-container-id-6 div.sk-toggleable__content {max-height: 0;max-width: 0;overflow: hidden;text-align: left;background-color: #f0f8ff;}#sk-container-id-6 div.sk-toggleable__content pre {margin: 0.2em;color: black;border-radius: 0.25em;background-color: #f0f8ff;}#sk-container-id-6 input.sk-toggleable__control:checked~div.sk-toggleable__content {max-height: 200px;max-width: 100%;overflow: auto;}#sk-container-id-6 input.sk-toggleable__control:checked~label.sk-toggleable__label-arrow:before {content: \"▾\";}#sk-container-id-6 div.sk-estimator input.sk-toggleable__control:checked~label.sk-toggleable__label {background-color: #d4ebff;}#sk-container-id-6 div.sk-label input.sk-toggleable__control:checked~label.sk-toggleable__label {background-color: #d4ebff;}#sk-container-id-6 input.sk-hidden--visually {border: 0;clip: rect(1px 1px 1px 1px);clip: rect(1px, 1px, 1px, 1px);height: 1px;margin: -1px;overflow: hidden;padding: 0;position: absolute;width: 1px;}#sk-container-id-6 div.sk-estimator {font-family: monospace;background-color: #f0f8ff;border: 1px dotted black;border-radius: 0.25em;box-sizing: border-box;margin-bottom: 0.5em;}#sk-container-id-6 div.sk-estimator:hover {background-color: #d4ebff;}#sk-container-id-6 div.sk-parallel-item::after {content: \"\";width: 100%;border-bottom: 1px solid gray;flex-grow: 1;}#sk-container-id-6 div.sk-label:hover label.sk-toggleable__label {background-color: #d4ebff;}#sk-container-id-6 div.sk-serial::before {content: \"\";position: absolute;border-left: 1px solid gray;box-sizing: border-box;top: 0;bottom: 0;left: 50%;z-index: 0;}#sk-container-id-6 div.sk-serial {display: flex;flex-direction: column;align-items: center;background-color: white;padding-right: 0.2em;padding-left: 0.2em;position: relative;}#sk-container-id-6 div.sk-item {position: relative;z-index: 1;}#sk-container-id-6 div.sk-parallel {display: flex;align-items: stretch;justify-content: center;background-color: white;position: relative;}#sk-container-id-6 div.sk-item::before, #sk-container-id-6 div.sk-parallel-item::before {content: \"\";position: absolute;border-left: 1px solid gray;box-sizing: border-box;top: 0;bottom: 0;left: 50%;z-index: -1;}#sk-container-id-6 div.sk-parallel-item {display: flex;flex-direction: column;z-index: 1;position: relative;background-color: white;}#sk-container-id-6 div.sk-parallel-item:first-child::after {align-self: flex-end;width: 50%;}#sk-container-id-6 div.sk-parallel-item:last-child::after {align-self: flex-start;width: 50%;}#sk-container-id-6 div.sk-parallel-item:only-child::after {width: 0;}#sk-container-id-6 div.sk-dashed-wrapped {border: 1px dashed gray;margin: 0 0.4em 0.5em 0.4em;box-sizing: border-box;padding-bottom: 0.4em;background-color: white;}#sk-container-id-6 div.sk-label label {font-family: monospace;font-weight: bold;display: inline-block;line-height: 1.2em;}#sk-container-id-6 div.sk-label-container {text-align: center;}#sk-container-id-6 div.sk-container {/* jupyter's `normalize.less` sets `[hidden] { display: none; }` but bootstrap.min.css set `[hidden] { display: none !important; }` so we also need the `!important` here to be able to override the default hidden behavior on the sphinx rendered scikit-learn.org. See: https://github.com/scikit-learn/scikit-learn/issues/21755 */display: inline-block !important;position: relative;}#sk-container-id-6 div.sk-text-repr-fallback {display: none;}</style><div id=\"sk-container-id-6\" class=\"sk-top-container\"><div class=\"sk-text-repr-fallback\"><pre>DecisionTreeClassifier(criterion=&#x27;entropy&#x27;, max_depth=7, max_features=&#x27;sqrt&#x27;,\n",
       "                       random_state=10)</pre><b>In a Jupyter environment, please rerun this cell to show the HTML representation or trust the notebook. <br />On GitHub, the HTML representation is unable to render, please try loading this page with nbviewer.org.</b></div><div class=\"sk-container\" hidden><div class=\"sk-item\"><div class=\"sk-estimator sk-toggleable\"><input class=\"sk-toggleable__control sk-hidden--visually\" id=\"sk-estimator-id-10\" type=\"checkbox\" checked><label for=\"sk-estimator-id-10\" class=\"sk-toggleable__label sk-toggleable__label-arrow\">DecisionTreeClassifier</label><div class=\"sk-toggleable__content\"><pre>DecisionTreeClassifier(criterion=&#x27;entropy&#x27;, max_depth=7, max_features=&#x27;sqrt&#x27;,\n",
       "                       random_state=10)</pre></div></div></div></div></div>"
      ],
      "text/plain": [
       "DecisionTreeClassifier(criterion='entropy', max_depth=7, max_features='sqrt',\n",
       "                       random_state=10)"
      ]
     },
     "metadata": {},
     "output_type": "display_data"
    }
   ],
   "source": [
    "dt_grid_search.best_estimator_"
   ]
  },
  {
   "cell_type": "code",
   "execution_count": null,
   "metadata": {},
   "outputs": [
    {
     "name": "stdout",
     "output_type": "stream",
     "text": [
      "훈련 세트 Accuracy : 0.9675\n",
      "테스트 세트 Accuracy : 0.9625\n"
     ]
    }
   ],
   "source": [
    "print(f\"훈련 세트 Accuracy : {dt_grid_search.best_estimator_.score(X_train_mm, y_train):.4f}\")\n",
    "print(f\"테스트 세트 Accuracy : {dt_grid_search.best_estimator_.score(X_test_mm, y_test):.4f}\")"
   ]
  },
  {
   "cell_type": "markdown",
   "metadata": {},
   "source": [
    "> GridSearch를 했더니 더 점수가 낮아졌다."
   ]
  },
  {
   "cell_type": "code",
   "execution_count": null,
   "metadata": {},
   "outputs": [
    {
     "name": "stdout",
     "output_type": "stream",
     "text": [
      "-----------------훈련 세트 평가 지표-----------------\n",
      "              precision    recall  f1-score   support\n",
      "\n",
      "           0       0.98      0.95      0.97      2401\n",
      "           1       0.96      0.98      0.97      2399\n",
      "\n",
      "    accuracy                           0.97      4800\n",
      "   macro avg       0.97      0.97      0.97      4800\n",
      "weighted avg       0.97      0.97      0.97      4800\n",
      "\n",
      "\n",
      "----------------테스트 세트 평가 지표----------------\n",
      "              precision    recall  f1-score   support\n",
      "\n",
      "           0       0.97      0.96      0.96       601\n",
      "           1       0.96      0.97      0.96       600\n",
      "\n",
      "    accuracy                           0.96      1201\n",
      "   macro avg       0.96      0.96      0.96      1201\n",
      "weighted avg       0.96      0.96      0.96      1201\n",
      "\n"
     ]
    }
   ],
   "source": [
    "y_train_mm_pred = dt_grid_search.best_estimator_.predict(X_train_mm)\n",
    "y_test_mm_pred = dt_grid_search.best_estimator_.predict(X_test_mm)\n",
    "\n",
    "print(f\"{'-'*17}훈련 세트 평가 지표{'-'*17}\\n{classification_report(y_train, y_train_mm_pred)}\")\n",
    "print()\n",
    "print(f\"{'-'*16}테스트 세트 평가 지표{'-'*16}\\n{classification_report(y_test, y_test_mm_pred)}\")"
   ]
  },
  {
   "cell_type": "markdown",
   "metadata": {},
   "source": [
    ">max_depth: 트리의 최대 깊이 지정  \n",
    "min_samples_split: 노드를 분할하기 위한 최소 샘플 수 지정  \n",
    "min_samples_leaf: 리프 노드가 가져야 하는 최소 샘플 수 지정  \n",
    "max_features: 각 노드에서 분할에 사용할 특성의 최대 수 지정  \n",
    "criterion: 노드에서의 분할 기준 선택 (기본값은 'gini'이며, 'entropy'도 사용 가능)  "
   ]
  },
  {
   "cell_type": "code",
   "execution_count": null,
   "metadata": {},
   "outputs": [],
   "source": [
    "# 탐색할 하이퍼 파라미터 그리드 설정\n",
    "param_dt = {\n",
    "    'max_depth': [1, 3, 5, 7],\n",
    "    'min_samples_split': [2, 4, 6, 8, 10],\n",
    "    'min_samples_leaf': [1, 2, 4, 6, 8],\n",
    "    'max_features': ['sqrt', 'log2'],\n",
    "    'criterion': ['gini', 'entropy']\n",
    "}"
   ]
  },
  {
   "cell_type": "code",
   "execution_count": null,
   "metadata": {},
   "outputs": [
    {
     "data": {
      "text/html": [
       "<style>#sk-container-id-5 {color: black;}#sk-container-id-5 pre{padding: 0;}#sk-container-id-5 div.sk-toggleable {background-color: white;}#sk-container-id-5 label.sk-toggleable__label {cursor: pointer;display: block;width: 100%;margin-bottom: 0;padding: 0.3em;box-sizing: border-box;text-align: center;}#sk-container-id-5 label.sk-toggleable__label-arrow:before {content: \"▸\";float: left;margin-right: 0.25em;color: #696969;}#sk-container-id-5 label.sk-toggleable__label-arrow:hover:before {color: black;}#sk-container-id-5 div.sk-estimator:hover label.sk-toggleable__label-arrow:before {color: black;}#sk-container-id-5 div.sk-toggleable__content {max-height: 0;max-width: 0;overflow: hidden;text-align: left;background-color: #f0f8ff;}#sk-container-id-5 div.sk-toggleable__content pre {margin: 0.2em;color: black;border-radius: 0.25em;background-color: #f0f8ff;}#sk-container-id-5 input.sk-toggleable__control:checked~div.sk-toggleable__content {max-height: 200px;max-width: 100%;overflow: auto;}#sk-container-id-5 input.sk-toggleable__control:checked~label.sk-toggleable__label-arrow:before {content: \"▾\";}#sk-container-id-5 div.sk-estimator input.sk-toggleable__control:checked~label.sk-toggleable__label {background-color: #d4ebff;}#sk-container-id-5 div.sk-label input.sk-toggleable__control:checked~label.sk-toggleable__label {background-color: #d4ebff;}#sk-container-id-5 input.sk-hidden--visually {border: 0;clip: rect(1px 1px 1px 1px);clip: rect(1px, 1px, 1px, 1px);height: 1px;margin: -1px;overflow: hidden;padding: 0;position: absolute;width: 1px;}#sk-container-id-5 div.sk-estimator {font-family: monospace;background-color: #f0f8ff;border: 1px dotted black;border-radius: 0.25em;box-sizing: border-box;margin-bottom: 0.5em;}#sk-container-id-5 div.sk-estimator:hover {background-color: #d4ebff;}#sk-container-id-5 div.sk-parallel-item::after {content: \"\";width: 100%;border-bottom: 1px solid gray;flex-grow: 1;}#sk-container-id-5 div.sk-label:hover label.sk-toggleable__label {background-color: #d4ebff;}#sk-container-id-5 div.sk-serial::before {content: \"\";position: absolute;border-left: 1px solid gray;box-sizing: border-box;top: 0;bottom: 0;left: 50%;z-index: 0;}#sk-container-id-5 div.sk-serial {display: flex;flex-direction: column;align-items: center;background-color: white;padding-right: 0.2em;padding-left: 0.2em;position: relative;}#sk-container-id-5 div.sk-item {position: relative;z-index: 1;}#sk-container-id-5 div.sk-parallel {display: flex;align-items: stretch;justify-content: center;background-color: white;position: relative;}#sk-container-id-5 div.sk-item::before, #sk-container-id-5 div.sk-parallel-item::before {content: \"\";position: absolute;border-left: 1px solid gray;box-sizing: border-box;top: 0;bottom: 0;left: 50%;z-index: -1;}#sk-container-id-5 div.sk-parallel-item {display: flex;flex-direction: column;z-index: 1;position: relative;background-color: white;}#sk-container-id-5 div.sk-parallel-item:first-child::after {align-self: flex-end;width: 50%;}#sk-container-id-5 div.sk-parallel-item:last-child::after {align-self: flex-start;width: 50%;}#sk-container-id-5 div.sk-parallel-item:only-child::after {width: 0;}#sk-container-id-5 div.sk-dashed-wrapped {border: 1px dashed gray;margin: 0 0.4em 0.5em 0.4em;box-sizing: border-box;padding-bottom: 0.4em;background-color: white;}#sk-container-id-5 div.sk-label label {font-family: monospace;font-weight: bold;display: inline-block;line-height: 1.2em;}#sk-container-id-5 div.sk-label-container {text-align: center;}#sk-container-id-5 div.sk-container {/* jupyter's `normalize.less` sets `[hidden] { display: none; }` but bootstrap.min.css set `[hidden] { display: none !important; }` so we also need the `!important` here to be able to override the default hidden behavior on the sphinx rendered scikit-learn.org. See: https://github.com/scikit-learn/scikit-learn/issues/21755 */display: inline-block !important;position: relative;}#sk-container-id-5 div.sk-text-repr-fallback {display: none;}</style><div id=\"sk-container-id-5\" class=\"sk-top-container\"><div class=\"sk-text-repr-fallback\"><pre>GridSearchCV(cv=5, estimator=DecisionTreeClassifier(random_state=10),\n",
       "             param_grid={&#x27;criterion&#x27;: [&#x27;gini&#x27;, &#x27;entropy&#x27;],\n",
       "                         &#x27;max_depth&#x27;: [1, 3, 5, 7],\n",
       "                         &#x27;max_features&#x27;: [&#x27;sqrt&#x27;, &#x27;log2&#x27;],\n",
       "                         &#x27;min_samples_leaf&#x27;: [1, 2, 4, 6, 8],\n",
       "                         &#x27;min_samples_split&#x27;: [2, 4, 6, 8, 10]},\n",
       "             scoring=&#x27;accuracy&#x27;)</pre><b>In a Jupyter environment, please rerun this cell to show the HTML representation or trust the notebook. <br />On GitHub, the HTML representation is unable to render, please try loading this page with nbviewer.org.</b></div><div class=\"sk-container\" hidden><div class=\"sk-item sk-dashed-wrapped\"><div class=\"sk-label-container\"><div class=\"sk-label sk-toggleable\"><input class=\"sk-toggleable__control sk-hidden--visually\" id=\"sk-estimator-id-7\" type=\"checkbox\" ><label for=\"sk-estimator-id-7\" class=\"sk-toggleable__label sk-toggleable__label-arrow\">GridSearchCV</label><div class=\"sk-toggleable__content\"><pre>GridSearchCV(cv=5, estimator=DecisionTreeClassifier(random_state=10),\n",
       "             param_grid={&#x27;criterion&#x27;: [&#x27;gini&#x27;, &#x27;entropy&#x27;],\n",
       "                         &#x27;max_depth&#x27;: [1, 3, 5, 7],\n",
       "                         &#x27;max_features&#x27;: [&#x27;sqrt&#x27;, &#x27;log2&#x27;],\n",
       "                         &#x27;min_samples_leaf&#x27;: [1, 2, 4, 6, 8],\n",
       "                         &#x27;min_samples_split&#x27;: [2, 4, 6, 8, 10]},\n",
       "             scoring=&#x27;accuracy&#x27;)</pre></div></div></div><div class=\"sk-parallel\"><div class=\"sk-parallel-item\"><div class=\"sk-item\"><div class=\"sk-label-container\"><div class=\"sk-label sk-toggleable\"><input class=\"sk-toggleable__control sk-hidden--visually\" id=\"sk-estimator-id-8\" type=\"checkbox\" ><label for=\"sk-estimator-id-8\" class=\"sk-toggleable__label sk-toggleable__label-arrow\">estimator: DecisionTreeClassifier</label><div class=\"sk-toggleable__content\"><pre>DecisionTreeClassifier(random_state=10)</pre></div></div></div><div class=\"sk-serial\"><div class=\"sk-item\"><div class=\"sk-estimator sk-toggleable\"><input class=\"sk-toggleable__control sk-hidden--visually\" id=\"sk-estimator-id-9\" type=\"checkbox\" ><label for=\"sk-estimator-id-9\" class=\"sk-toggleable__label sk-toggleable__label-arrow\">DecisionTreeClassifier</label><div class=\"sk-toggleable__content\"><pre>DecisionTreeClassifier(random_state=10)</pre></div></div></div></div></div></div></div></div></div></div>"
      ],
      "text/plain": [
       "GridSearchCV(cv=5, estimator=DecisionTreeClassifier(random_state=10),\n",
       "             param_grid={'criterion': ['gini', 'entropy'],\n",
       "                         'max_depth': [1, 3, 5, 7],\n",
       "                         'max_features': ['sqrt', 'log2'],\n",
       "                         'min_samples_leaf': [1, 2, 4, 6, 8],\n",
       "                         'min_samples_split': [2, 4, 6, 8, 10]},\n",
       "             scoring='accuracy')"
      ]
     },
     "metadata": {},
     "output_type": "display_data"
    }
   ],
   "source": [
    "dt = DecisionTreeClassifier(random_state=10)\n",
    "\n",
    "# GridSearchCV 객체 생성\n",
    "dt_grid_search = GridSearchCV(estimator=dt, param_grid = param_dt,\n",
    "                              cv = 5, scoring = 'accuracy')\n",
    "\n",
    "# 그리드 탐색 수행\n",
    "dt_grid_search.fit(X_train_mm, y_train)"
   ]
  },
  {
   "cell_type": "code",
   "execution_count": null,
   "metadata": {},
   "outputs": [
    {
     "data": {
      "text/html": [
       "<style>#sk-container-id-6 {color: black;}#sk-container-id-6 pre{padding: 0;}#sk-container-id-6 div.sk-toggleable {background-color: white;}#sk-container-id-6 label.sk-toggleable__label {cursor: pointer;display: block;width: 100%;margin-bottom: 0;padding: 0.3em;box-sizing: border-box;text-align: center;}#sk-container-id-6 label.sk-toggleable__label-arrow:before {content: \"▸\";float: left;margin-right: 0.25em;color: #696969;}#sk-container-id-6 label.sk-toggleable__label-arrow:hover:before {color: black;}#sk-container-id-6 div.sk-estimator:hover label.sk-toggleable__label-arrow:before {color: black;}#sk-container-id-6 div.sk-toggleable__content {max-height: 0;max-width: 0;overflow: hidden;text-align: left;background-color: #f0f8ff;}#sk-container-id-6 div.sk-toggleable__content pre {margin: 0.2em;color: black;border-radius: 0.25em;background-color: #f0f8ff;}#sk-container-id-6 input.sk-toggleable__control:checked~div.sk-toggleable__content {max-height: 200px;max-width: 100%;overflow: auto;}#sk-container-id-6 input.sk-toggleable__control:checked~label.sk-toggleable__label-arrow:before {content: \"▾\";}#sk-container-id-6 div.sk-estimator input.sk-toggleable__control:checked~label.sk-toggleable__label {background-color: #d4ebff;}#sk-container-id-6 div.sk-label input.sk-toggleable__control:checked~label.sk-toggleable__label {background-color: #d4ebff;}#sk-container-id-6 input.sk-hidden--visually {border: 0;clip: rect(1px 1px 1px 1px);clip: rect(1px, 1px, 1px, 1px);height: 1px;margin: -1px;overflow: hidden;padding: 0;position: absolute;width: 1px;}#sk-container-id-6 div.sk-estimator {font-family: monospace;background-color: #f0f8ff;border: 1px dotted black;border-radius: 0.25em;box-sizing: border-box;margin-bottom: 0.5em;}#sk-container-id-6 div.sk-estimator:hover {background-color: #d4ebff;}#sk-container-id-6 div.sk-parallel-item::after {content: \"\";width: 100%;border-bottom: 1px solid gray;flex-grow: 1;}#sk-container-id-6 div.sk-label:hover label.sk-toggleable__label {background-color: #d4ebff;}#sk-container-id-6 div.sk-serial::before {content: \"\";position: absolute;border-left: 1px solid gray;box-sizing: border-box;top: 0;bottom: 0;left: 50%;z-index: 0;}#sk-container-id-6 div.sk-serial {display: flex;flex-direction: column;align-items: center;background-color: white;padding-right: 0.2em;padding-left: 0.2em;position: relative;}#sk-container-id-6 div.sk-item {position: relative;z-index: 1;}#sk-container-id-6 div.sk-parallel {display: flex;align-items: stretch;justify-content: center;background-color: white;position: relative;}#sk-container-id-6 div.sk-item::before, #sk-container-id-6 div.sk-parallel-item::before {content: \"\";position: absolute;border-left: 1px solid gray;box-sizing: border-box;top: 0;bottom: 0;left: 50%;z-index: -1;}#sk-container-id-6 div.sk-parallel-item {display: flex;flex-direction: column;z-index: 1;position: relative;background-color: white;}#sk-container-id-6 div.sk-parallel-item:first-child::after {align-self: flex-end;width: 50%;}#sk-container-id-6 div.sk-parallel-item:last-child::after {align-self: flex-start;width: 50%;}#sk-container-id-6 div.sk-parallel-item:only-child::after {width: 0;}#sk-container-id-6 div.sk-dashed-wrapped {border: 1px dashed gray;margin: 0 0.4em 0.5em 0.4em;box-sizing: border-box;padding-bottom: 0.4em;background-color: white;}#sk-container-id-6 div.sk-label label {font-family: monospace;font-weight: bold;display: inline-block;line-height: 1.2em;}#sk-container-id-6 div.sk-label-container {text-align: center;}#sk-container-id-6 div.sk-container {/* jupyter's `normalize.less` sets `[hidden] { display: none; }` but bootstrap.min.css set `[hidden] { display: none !important; }` so we also need the `!important` here to be able to override the default hidden behavior on the sphinx rendered scikit-learn.org. See: https://github.com/scikit-learn/scikit-learn/issues/21755 */display: inline-block !important;position: relative;}#sk-container-id-6 div.sk-text-repr-fallback {display: none;}</style><div id=\"sk-container-id-6\" class=\"sk-top-container\"><div class=\"sk-text-repr-fallback\"><pre>DecisionTreeClassifier(criterion=&#x27;entropy&#x27;, max_depth=7, max_features=&#x27;sqrt&#x27;,\n",
       "                       random_state=10)</pre><b>In a Jupyter environment, please rerun this cell to show the HTML representation or trust the notebook. <br />On GitHub, the HTML representation is unable to render, please try loading this page with nbviewer.org.</b></div><div class=\"sk-container\" hidden><div class=\"sk-item\"><div class=\"sk-estimator sk-toggleable\"><input class=\"sk-toggleable__control sk-hidden--visually\" id=\"sk-estimator-id-10\" type=\"checkbox\" checked><label for=\"sk-estimator-id-10\" class=\"sk-toggleable__label sk-toggleable__label-arrow\">DecisionTreeClassifier</label><div class=\"sk-toggleable__content\"><pre>DecisionTreeClassifier(criterion=&#x27;entropy&#x27;, max_depth=7, max_features=&#x27;sqrt&#x27;,\n",
       "                       random_state=10)</pre></div></div></div></div></div>"
      ],
      "text/plain": [
       "DecisionTreeClassifier(criterion='entropy', max_depth=7, max_features='sqrt',\n",
       "                       random_state=10)"
      ]
     },
     "metadata": {},
     "output_type": "display_data"
    }
   ],
   "source": [
    "dt_grid_search.best_estimator_"
   ]
  },
  {
   "cell_type": "code",
   "execution_count": null,
   "metadata": {},
   "outputs": [
    {
     "name": "stdout",
     "output_type": "stream",
     "text": [
      "훈련 세트 Accuracy : 0.9675\n",
      "테스트 세트 Accuracy : 0.9625\n"
     ]
    }
   ],
   "source": [
    "print(f\"훈련 세트 Accuracy : {dt_grid_search.best_estimator_.score(X_train_mm, y_train):.4f}\")\n",
    "print(f\"테스트 세트 Accuracy : {dt_grid_search.best_estimator_.score(X_test_mm, y_test):.4f}\")"
   ]
  },
  {
   "cell_type": "markdown",
   "metadata": {},
   "source": [
    "> GridSearch를 했더니 더 점수가 낮아졌다."
   ]
  },
  {
   "cell_type": "code",
   "execution_count": null,
   "metadata": {},
   "outputs": [
    {
     "name": "stdout",
     "output_type": "stream",
     "text": [
      "-----------------훈련 세트 평가 지표-----------------\n",
      "              precision    recall  f1-score   support\n",
      "\n",
      "           0       0.98      0.95      0.97      2401\n",
      "           1       0.96      0.98      0.97      2399\n",
      "\n",
      "    accuracy                           0.97      4800\n",
      "   macro avg       0.97      0.97      0.97      4800\n",
      "weighted avg       0.97      0.97      0.97      4800\n",
      "\n",
      "\n",
      "----------------테스트 세트 평가 지표----------------\n",
      "              precision    recall  f1-score   support\n",
      "\n",
      "           0       0.97      0.96      0.96       601\n",
      "           1       0.96      0.97      0.96       600\n",
      "\n",
      "    accuracy                           0.96      1201\n",
      "   macro avg       0.96      0.96      0.96      1201\n",
      "weighted avg       0.96      0.96      0.96      1201\n",
      "\n"
     ]
    }
   ],
   "source": [
    "y_train_mm_pred = dt_grid_search.best_estimator_.predict(X_train_mm)\n",
    "y_test_mm_pred = dt_grid_search.best_estimator_.predict(X_test_mm)\n",
    "\n",
    "print(f\"{'-'*17}훈련 세트 평가 지표{'-'*17}\\n{classification_report(y_train, y_train_mm_pred)}\")\n",
    "print()\n",
    "print(f\"{'-'*16}테스트 세트 평가 지표{'-'*16}\\n{classification_report(y_test, y_test_mm_pred)}\")"
   ]
  },
  {
   "cell_type": "markdown",
   "metadata": {},
   "source": [
    "### [10] 중요한 변수만 넣고 다시 학습"
   ]
  },
  {
   "cell_type": "code",
   "execution_count": 31,
   "metadata": {},
   "outputs": [
    {
     "data": {
      "text/plain": [
       "[('distance_nose_to_lip_long', 0.443),\n",
       " ('forehead_width_cm', 0.208),\n",
       " ('nose_wide', 0.139),\n",
       " ('lips_thin', 0.108),\n",
       " ('forehead_height_cm', 0.058),\n",
       " ('nose_long', 0.043),\n",
       " ('long_hair', 0.001)]"
      ]
     },
     "execution_count": 31,
     "metadata": {},
     "output_type": "execute_result"
    }
   ],
   "source": [
    "feature_importances_dict = {key : value for key,\n",
    "                            value in zip(dt_grid_search.best_estimator_.feature_names_in_,\n",
    "                                         dt_grid_search.best_estimator_.feature_importances_.round(3))}\n",
    "\n",
    "sorted(feature_importances_dict.items(), key = lambda x : x[1], reverse = True)"
   ]
  },
  {
   "cell_type": "markdown",
   "metadata": {},
   "source": [
    "> 변수 중요도가 10% 이상인 변수들만 넣기"
   ]
  },
  {
   "cell_type": "code",
   "execution_count": 92,
   "metadata": {},
   "outputs": [],
   "source": [
    "# 3개 넣었을때\n",
    "new_X_train_mm = X_train_mm.loc[:, ['distance_nose_to_lip_long', 'forehead_width_cm', 'nose_wide']]\n",
    "new_X_test_mm = X_test_mm.loc[:, ['distance_nose_to_lip_long', 'forehead_width_cm', 'nose_wide']]"
   ]
  },
  {
   "cell_type": "code",
   "execution_count": 98,
   "metadata": {},
   "outputs": [],
   "source": [
    "# 4개 넣었을때\n",
    "new_X_train_mm = X_train_mm.loc[:, ['distance_nose_to_lip_long', 'forehead_width_cm', 'nose_wide', 'lips_thin']]\n",
    "new_X_test_mm = X_test_mm.loc[:, ['distance_nose_to_lip_long', 'forehead_width_cm', 'nose_wide', 'lips_thin']]"
   ]
  },
  {
   "cell_type": "code",
   "execution_count": 99,
   "metadata": {},
   "outputs": [],
   "source": [
    "# 탐색할 하이퍼 파라미터 그리드 설정\n",
    "param_dt = {\n",
    "    'max_depth': [1, 3, 5, 7],\n",
    "    'min_samples_split': [2, 4, 6, 8, 10],\n",
    "    'min_samples_leaf': [1, 2, 4, 6, 8],\n",
    "    'max_features': ['sqrt', 'log2'],\n",
    "    'criterion': ['gini', 'entropy']\n",
    "}"
   ]
  },
  {
   "cell_type": "code",
   "execution_count": 100,
   "metadata": {},
   "outputs": [
    {
     "data": {
      "text/html": [
       "<style>#sk-container-id-19 {color: black;}#sk-container-id-19 pre{padding: 0;}#sk-container-id-19 div.sk-toggleable {background-color: white;}#sk-container-id-19 label.sk-toggleable__label {cursor: pointer;display: block;width: 100%;margin-bottom: 0;padding: 0.3em;box-sizing: border-box;text-align: center;}#sk-container-id-19 label.sk-toggleable__label-arrow:before {content: \"▸\";float: left;margin-right: 0.25em;color: #696969;}#sk-container-id-19 label.sk-toggleable__label-arrow:hover:before {color: black;}#sk-container-id-19 div.sk-estimator:hover label.sk-toggleable__label-arrow:before {color: black;}#sk-container-id-19 div.sk-toggleable__content {max-height: 0;max-width: 0;overflow: hidden;text-align: left;background-color: #f0f8ff;}#sk-container-id-19 div.sk-toggleable__content pre {margin: 0.2em;color: black;border-radius: 0.25em;background-color: #f0f8ff;}#sk-container-id-19 input.sk-toggleable__control:checked~div.sk-toggleable__content {max-height: 200px;max-width: 100%;overflow: auto;}#sk-container-id-19 input.sk-toggleable__control:checked~label.sk-toggleable__label-arrow:before {content: \"▾\";}#sk-container-id-19 div.sk-estimator input.sk-toggleable__control:checked~label.sk-toggleable__label {background-color: #d4ebff;}#sk-container-id-19 div.sk-label input.sk-toggleable__control:checked~label.sk-toggleable__label {background-color: #d4ebff;}#sk-container-id-19 input.sk-hidden--visually {border: 0;clip: rect(1px 1px 1px 1px);clip: rect(1px, 1px, 1px, 1px);height: 1px;margin: -1px;overflow: hidden;padding: 0;position: absolute;width: 1px;}#sk-container-id-19 div.sk-estimator {font-family: monospace;background-color: #f0f8ff;border: 1px dotted black;border-radius: 0.25em;box-sizing: border-box;margin-bottom: 0.5em;}#sk-container-id-19 div.sk-estimator:hover {background-color: #d4ebff;}#sk-container-id-19 div.sk-parallel-item::after {content: \"\";width: 100%;border-bottom: 1px solid gray;flex-grow: 1;}#sk-container-id-19 div.sk-label:hover label.sk-toggleable__label {background-color: #d4ebff;}#sk-container-id-19 div.sk-serial::before {content: \"\";position: absolute;border-left: 1px solid gray;box-sizing: border-box;top: 0;bottom: 0;left: 50%;z-index: 0;}#sk-container-id-19 div.sk-serial {display: flex;flex-direction: column;align-items: center;background-color: white;padding-right: 0.2em;padding-left: 0.2em;position: relative;}#sk-container-id-19 div.sk-item {position: relative;z-index: 1;}#sk-container-id-19 div.sk-parallel {display: flex;align-items: stretch;justify-content: center;background-color: white;position: relative;}#sk-container-id-19 div.sk-item::before, #sk-container-id-19 div.sk-parallel-item::before {content: \"\";position: absolute;border-left: 1px solid gray;box-sizing: border-box;top: 0;bottom: 0;left: 50%;z-index: -1;}#sk-container-id-19 div.sk-parallel-item {display: flex;flex-direction: column;z-index: 1;position: relative;background-color: white;}#sk-container-id-19 div.sk-parallel-item:first-child::after {align-self: flex-end;width: 50%;}#sk-container-id-19 div.sk-parallel-item:last-child::after {align-self: flex-start;width: 50%;}#sk-container-id-19 div.sk-parallel-item:only-child::after {width: 0;}#sk-container-id-19 div.sk-dashed-wrapped {border: 1px dashed gray;margin: 0 0.4em 0.5em 0.4em;box-sizing: border-box;padding-bottom: 0.4em;background-color: white;}#sk-container-id-19 div.sk-label label {font-family: monospace;font-weight: bold;display: inline-block;line-height: 1.2em;}#sk-container-id-19 div.sk-label-container {text-align: center;}#sk-container-id-19 div.sk-container {/* jupyter's `normalize.less` sets `[hidden] { display: none; }` but bootstrap.min.css set `[hidden] { display: none !important; }` so we also need the `!important` here to be able to override the default hidden behavior on the sphinx rendered scikit-learn.org. See: https://github.com/scikit-learn/scikit-learn/issues/21755 */display: inline-block !important;position: relative;}#sk-container-id-19 div.sk-text-repr-fallback {display: none;}</style><div id=\"sk-container-id-19\" class=\"sk-top-container\"><div class=\"sk-text-repr-fallback\"><pre>GridSearchCV(cv=5, estimator=DecisionTreeClassifier(random_state=10),\n",
       "             param_grid={&#x27;criterion&#x27;: [&#x27;gini&#x27;, &#x27;entropy&#x27;],\n",
       "                         &#x27;max_depth&#x27;: [1, 3, 5, 7],\n",
       "                         &#x27;max_features&#x27;: [&#x27;sqrt&#x27;, &#x27;log2&#x27;],\n",
       "                         &#x27;min_samples_leaf&#x27;: [1, 2, 4, 6, 8],\n",
       "                         &#x27;min_samples_split&#x27;: [2, 4, 6, 8, 10]},\n",
       "             scoring=&#x27;accuracy&#x27;)</pre><b>In a Jupyter environment, please rerun this cell to show the HTML representation or trust the notebook. <br />On GitHub, the HTML representation is unable to render, please try loading this page with nbviewer.org.</b></div><div class=\"sk-container\" hidden><div class=\"sk-item sk-dashed-wrapped\"><div class=\"sk-label-container\"><div class=\"sk-label sk-toggleable\"><input class=\"sk-toggleable__control sk-hidden--visually\" id=\"sk-estimator-id-35\" type=\"checkbox\" ><label for=\"sk-estimator-id-35\" class=\"sk-toggleable__label sk-toggleable__label-arrow\">GridSearchCV</label><div class=\"sk-toggleable__content\"><pre>GridSearchCV(cv=5, estimator=DecisionTreeClassifier(random_state=10),\n",
       "             param_grid={&#x27;criterion&#x27;: [&#x27;gini&#x27;, &#x27;entropy&#x27;],\n",
       "                         &#x27;max_depth&#x27;: [1, 3, 5, 7],\n",
       "                         &#x27;max_features&#x27;: [&#x27;sqrt&#x27;, &#x27;log2&#x27;],\n",
       "                         &#x27;min_samples_leaf&#x27;: [1, 2, 4, 6, 8],\n",
       "                         &#x27;min_samples_split&#x27;: [2, 4, 6, 8, 10]},\n",
       "             scoring=&#x27;accuracy&#x27;)</pre></div></div></div><div class=\"sk-parallel\"><div class=\"sk-parallel-item\"><div class=\"sk-item\"><div class=\"sk-label-container\"><div class=\"sk-label sk-toggleable\"><input class=\"sk-toggleable__control sk-hidden--visually\" id=\"sk-estimator-id-36\" type=\"checkbox\" ><label for=\"sk-estimator-id-36\" class=\"sk-toggleable__label sk-toggleable__label-arrow\">estimator: DecisionTreeClassifier</label><div class=\"sk-toggleable__content\"><pre>DecisionTreeClassifier(random_state=10)</pre></div></div></div><div class=\"sk-serial\"><div class=\"sk-item\"><div class=\"sk-estimator sk-toggleable\"><input class=\"sk-toggleable__control sk-hidden--visually\" id=\"sk-estimator-id-37\" type=\"checkbox\" ><label for=\"sk-estimator-id-37\" class=\"sk-toggleable__label sk-toggleable__label-arrow\">DecisionTreeClassifier</label><div class=\"sk-toggleable__content\"><pre>DecisionTreeClassifier(random_state=10)</pre></div></div></div></div></div></div></div></div></div></div>"
      ],
      "text/plain": [
       "GridSearchCV(cv=5, estimator=DecisionTreeClassifier(random_state=10),\n",
       "             param_grid={'criterion': ['gini', 'entropy'],\n",
       "                         'max_depth': [1, 3, 5, 7],\n",
       "                         'max_features': ['sqrt', 'log2'],\n",
       "                         'min_samples_leaf': [1, 2, 4, 6, 8],\n",
       "                         'min_samples_split': [2, 4, 6, 8, 10]},\n",
       "             scoring='accuracy')"
      ]
     },
     "execution_count": 100,
     "metadata": {},
     "output_type": "execute_result"
    }
   ],
   "source": [
    "dt = DecisionTreeClassifier(random_state=10)\n",
    "\n",
    "# GridSearchCV 객체 생성\n",
    "dt_grid_search = GridSearchCV(estimator=dt, param_grid = param_dt,\n",
    "                              cv = 5, scoring = 'accuracy')\n",
    "\n",
    "# 그리드 탐색 수행\n",
    "dt_grid_search.fit(new_X_train_mm, y_train)"
   ]
  },
  {
   "cell_type": "code",
   "execution_count": 105,
   "metadata": {},
   "outputs": [
    {
     "data": {
      "text/plain": [
       "{'criterion': 'entropy',\n",
       " 'max_depth': 5,\n",
       " 'max_features': 'sqrt',\n",
       " 'min_samples_leaf': 1,\n",
       " 'min_samples_split': 2}"
      ]
     },
     "execution_count": 105,
     "metadata": {},
     "output_type": "execute_result"
    }
   ],
   "source": [
    "dt_grid_search.best_params_"
   ]
  },
  {
   "cell_type": "code",
   "execution_count": 101,
   "metadata": {},
   "outputs": [
    {
     "data": {
      "text/html": [
       "<style>#sk-container-id-20 {color: black;}#sk-container-id-20 pre{padding: 0;}#sk-container-id-20 div.sk-toggleable {background-color: white;}#sk-container-id-20 label.sk-toggleable__label {cursor: pointer;display: block;width: 100%;margin-bottom: 0;padding: 0.3em;box-sizing: border-box;text-align: center;}#sk-container-id-20 label.sk-toggleable__label-arrow:before {content: \"▸\";float: left;margin-right: 0.25em;color: #696969;}#sk-container-id-20 label.sk-toggleable__label-arrow:hover:before {color: black;}#sk-container-id-20 div.sk-estimator:hover label.sk-toggleable__label-arrow:before {color: black;}#sk-container-id-20 div.sk-toggleable__content {max-height: 0;max-width: 0;overflow: hidden;text-align: left;background-color: #f0f8ff;}#sk-container-id-20 div.sk-toggleable__content pre {margin: 0.2em;color: black;border-radius: 0.25em;background-color: #f0f8ff;}#sk-container-id-20 input.sk-toggleable__control:checked~div.sk-toggleable__content {max-height: 200px;max-width: 100%;overflow: auto;}#sk-container-id-20 input.sk-toggleable__control:checked~label.sk-toggleable__label-arrow:before {content: \"▾\";}#sk-container-id-20 div.sk-estimator input.sk-toggleable__control:checked~label.sk-toggleable__label {background-color: #d4ebff;}#sk-container-id-20 div.sk-label input.sk-toggleable__control:checked~label.sk-toggleable__label {background-color: #d4ebff;}#sk-container-id-20 input.sk-hidden--visually {border: 0;clip: rect(1px 1px 1px 1px);clip: rect(1px, 1px, 1px, 1px);height: 1px;margin: -1px;overflow: hidden;padding: 0;position: absolute;width: 1px;}#sk-container-id-20 div.sk-estimator {font-family: monospace;background-color: #f0f8ff;border: 1px dotted black;border-radius: 0.25em;box-sizing: border-box;margin-bottom: 0.5em;}#sk-container-id-20 div.sk-estimator:hover {background-color: #d4ebff;}#sk-container-id-20 div.sk-parallel-item::after {content: \"\";width: 100%;border-bottom: 1px solid gray;flex-grow: 1;}#sk-container-id-20 div.sk-label:hover label.sk-toggleable__label {background-color: #d4ebff;}#sk-container-id-20 div.sk-serial::before {content: \"\";position: absolute;border-left: 1px solid gray;box-sizing: border-box;top: 0;bottom: 0;left: 50%;z-index: 0;}#sk-container-id-20 div.sk-serial {display: flex;flex-direction: column;align-items: center;background-color: white;padding-right: 0.2em;padding-left: 0.2em;position: relative;}#sk-container-id-20 div.sk-item {position: relative;z-index: 1;}#sk-container-id-20 div.sk-parallel {display: flex;align-items: stretch;justify-content: center;background-color: white;position: relative;}#sk-container-id-20 div.sk-item::before, #sk-container-id-20 div.sk-parallel-item::before {content: \"\";position: absolute;border-left: 1px solid gray;box-sizing: border-box;top: 0;bottom: 0;left: 50%;z-index: -1;}#sk-container-id-20 div.sk-parallel-item {display: flex;flex-direction: column;z-index: 1;position: relative;background-color: white;}#sk-container-id-20 div.sk-parallel-item:first-child::after {align-self: flex-end;width: 50%;}#sk-container-id-20 div.sk-parallel-item:last-child::after {align-self: flex-start;width: 50%;}#sk-container-id-20 div.sk-parallel-item:only-child::after {width: 0;}#sk-container-id-20 div.sk-dashed-wrapped {border: 1px dashed gray;margin: 0 0.4em 0.5em 0.4em;box-sizing: border-box;padding-bottom: 0.4em;background-color: white;}#sk-container-id-20 div.sk-label label {font-family: monospace;font-weight: bold;display: inline-block;line-height: 1.2em;}#sk-container-id-20 div.sk-label-container {text-align: center;}#sk-container-id-20 div.sk-container {/* jupyter's `normalize.less` sets `[hidden] { display: none; }` but bootstrap.min.css set `[hidden] { display: none !important; }` so we also need the `!important` here to be able to override the default hidden behavior on the sphinx rendered scikit-learn.org. See: https://github.com/scikit-learn/scikit-learn/issues/21755 */display: inline-block !important;position: relative;}#sk-container-id-20 div.sk-text-repr-fallback {display: none;}</style><div id=\"sk-container-id-20\" class=\"sk-top-container\"><div class=\"sk-text-repr-fallback\"><pre>DecisionTreeClassifier(criterion=&#x27;entropy&#x27;, max_depth=5, max_features=&#x27;sqrt&#x27;,\n",
       "                       random_state=10)</pre><b>In a Jupyter environment, please rerun this cell to show the HTML representation or trust the notebook. <br />On GitHub, the HTML representation is unable to render, please try loading this page with nbviewer.org.</b></div><div class=\"sk-container\" hidden><div class=\"sk-item\"><div class=\"sk-estimator sk-toggleable\"><input class=\"sk-toggleable__control sk-hidden--visually\" id=\"sk-estimator-id-38\" type=\"checkbox\" checked><label for=\"sk-estimator-id-38\" class=\"sk-toggleable__label sk-toggleable__label-arrow\">DecisionTreeClassifier</label><div class=\"sk-toggleable__content\"><pre>DecisionTreeClassifier(criterion=&#x27;entropy&#x27;, max_depth=5, max_features=&#x27;sqrt&#x27;,\n",
       "                       random_state=10)</pre></div></div></div></div></div>"
      ],
      "text/plain": [
       "DecisionTreeClassifier(criterion='entropy', max_depth=5, max_features='sqrt',\n",
       "                       random_state=10)"
      ]
     },
     "execution_count": 101,
     "metadata": {},
     "output_type": "execute_result"
    }
   ],
   "source": [
    "dt_grid_search.best_estimator_"
   ]
  },
  {
   "cell_type": "code",
   "execution_count": 102,
   "metadata": {},
   "outputs": [
    {
     "name": "stdout",
     "output_type": "stream",
     "text": [
      "훈련 세트 Accuracy : 0.9663\n",
      "테스트 세트 Accuracy : 0.9634\n"
     ]
    }
   ],
   "source": [
    "print(f\"훈련 세트 Accuracy : {dt_grid_search.best_estimator_.score(new_X_train_mm, y_train):.4f}\")\n",
    "print(f\"테스트 세트 Accuracy : {dt_grid_search.best_estimator_.score(new_X_test_mm, y_test):.4f}\")"
   ]
  },
  {
   "cell_type": "markdown",
   "metadata": {},
   "source": [
    "> GridSearch를 했더니 더 점수가 낮아졌다."
   ]
  },
  {
   "cell_type": "code",
   "execution_count": 103,
   "metadata": {},
   "outputs": [
    {
     "name": "stdout",
     "output_type": "stream",
     "text": [
      "-----------------훈련 세트 평가 지표-----------------\n",
      "              precision    recall  f1-score   support\n",
      "\n",
      "           0       0.96      0.97      0.97      2401\n",
      "           1       0.97      0.96      0.97      2399\n",
      "\n",
      "    accuracy                           0.97      4800\n",
      "   macro avg       0.97      0.97      0.97      4800\n",
      "weighted avg       0.97      0.97      0.97      4800\n",
      "\n",
      "\n",
      "----------------테스트 세트 평가 지표----------------\n",
      "              precision    recall  f1-score   support\n",
      "\n",
      "           0       0.96      0.97      0.96       601\n",
      "           1       0.97      0.96      0.96       600\n",
      "\n",
      "    accuracy                           0.96      1201\n",
      "   macro avg       0.96      0.96      0.96      1201\n",
      "weighted avg       0.96      0.96      0.96      1201\n",
      "\n"
     ]
    }
   ],
   "source": [
    "y_train_mm_pred = dt_grid_search.best_estimator_.predict(new_X_train_mm)\n",
    "y_test_mm_pred = dt_grid_search.best_estimator_.predict(new_X_test_mm)\n",
    "\n",
    "print(f\"{'-'*17}훈련 세트 평가 지표{'-'*17}\\n{classification_report(y_train, y_train_mm_pred)}\")\n",
    "print()\n",
    "print(f\"{'-'*16}테스트 세트 평가 지표{'-'*16}\\n{classification_report(y_test, y_test_mm_pred)}\")"
   ]
  },
  {
   "cell_type": "code",
   "execution_count": 106,
   "metadata": {},
   "outputs": [
    {
     "data": {
      "image/png": "[encoded data removed]",
      "text/plain": [
       "<Figure size 1000x600 with 1 Axes>"
      ]
     },
     "metadata": {},
     "output_type": "display_data"
    }
   ],
   "source": [
    "# 1. 모델의 확률 예측값을 가져오기, predict_proba()로 예측 확률값 얻기\n",
    "y_train_mm_pred_proba = dt_grid_search.best_estimator_.predict_proba(new_X_train_mm)[:, 1]\n",
    "y_test_mm_pred_proba = dt_grid_search.best_estimator_.predict_proba(new_X_test_mm)[:, 1]\n",
    "\n",
    "# 2. ROC 커브 계산\n",
    "train_fpr, train_tpr, train_thresholds = roc_curve(y_train, y_train_mm_pred_proba)\n",
    "test_fpr, test_tpr, test_thresholds = roc_curve(y_test, y_test_mm_pred_proba)\n",
    "\n",
    "# 3. AUC 값\n",
    "train_auc = roc_auc_score(y_train, y_train_mm_pred_proba)\n",
    "test_auc = roc_auc_score(y_test, y_test_mm_pred_proba)\n",
    "\n",
    "# 4. ROC 곡선\n",
    "plt.figure(figsize=(10, 6))\n",
    "plt.plot(train_fpr, train_tpr, label=f'Train ROC Curve (AUC = {train_auc:.4f})')\n",
    "plt.plot(test_fpr, test_tpr, label=f'Test ROC Curve (AUC = {test_auc:.4f})')\n",
    "\n",
    "# 5. 대각선 기준선(무작위 분류 모델) 추가\n",
    "plt.plot([0, 1], [0, 1], color='gray', linestyle='--')\n",
    "\n",
    "plt.xlabel('1 - Specificity (False Positive Rate)')\n",
    "plt.ylabel('Sensitivity (True Positive Rate)')\n",
    "plt.title('ROC Curve')\n",
    "plt.legend(loc='lower right')\n",
    "plt.show()\n"
   ]
  },
  {
   "cell_type": "code",
   "execution_count": 110,
   "metadata": {},
   "outputs": [
    {
     "data": {
      "text/plain": [
       "long_hair                    1.000000\n",
       "forehead_width_cm            0.439024\n",
       "forehead_height_cm           0.950000\n",
       "nose_wide                    1.000000\n",
       "nose_long                    1.000000\n",
       "lips_thin                    1.000000\n",
       "distance_nose_to_lip_long    1.000000\n",
       "Name: 951, dtype: float64"
      ]
     },
     "execution_count": 110,
     "metadata": {},
     "output_type": "execute_result"
    }
   ],
   "source": [
    "X_train_mm.iloc[2265,:]"
   ]
  },
  {
   "cell_type": "code",
   "execution_count": 113,
   "metadata": {},
   "outputs": [
    {
     "data": {
      "text/plain": [
       "0.4207500000000002"
      ]
     },
     "execution_count": 113,
     "metadata": {},
     "output_type": "execute_result"
    }
   ],
   "source": [
    "X_train_mm['forehead_height_cm'].mean()"
   ]
  },
  {
   "cell_type": "code",
   "execution_count": 127,
   "metadata": {},
   "outputs": [
    {
     "data": {
      "text/html": [
       "<div>\n",
       "<style scoped>\n",
       "    .dataframe tbody tr th:only-of-type {\n",
       "        vertical-align: middle;\n",
       "    }\n",
       "\n",
       "    .dataframe tbody tr th {\n",
       "        vertical-align: top;\n",
       "    }\n",
       "\n",
       "    .dataframe thead th {\n",
       "        text-align: right;\n",
       "    }\n",
       "</style>\n",
       "<table border=\"1\" class=\"dataframe\">\n",
       "  <thead>\n",
       "    <tr style=\"text-align: right;\">\n",
       "      <th></th>\n",
       "      <th>0</th>\n",
       "      <th>1</th>\n",
       "      <th>2</th>\n",
       "      <th>3</th>\n",
       "    </tr>\n",
       "  </thead>\n",
       "  <tbody>\n",
       "    <tr>\n",
       "      <th>0</th>\n",
       "      <td>0</td>\n",
       "      <td>0.437068</td>\n",
       "      <td>0</td>\n",
       "      <td>0</td>\n",
       "    </tr>\n",
       "  </tbody>\n",
       "</table>\n",
       "</div>"
      ],
      "text/plain": [
       "   0         1  2  3\n",
       "0  0  0.437068  0  0"
      ]
     },
     "execution_count": 127,
     "metadata": {},
     "output_type": "execute_result"
    }
   ],
   "source": [
    "pd.DataFrame([[0, X_train_mm['forehead_width_cm'].mean(), 0, 0]])"
   ]
  },
  {
   "cell_type": "code",
   "execution_count": 152,
   "metadata": {},
   "outputs": [],
   "source": [
    "# 남자의 특징이 있는 데이터\n",
    "man_feature_data = pd.DataFrame([[1, X_train_mm['forehead_width_cm'].mean(), 1, 1]],\n",
    "                                columns=['distance_nose_to_lip_long', 'forehead_width_cm',\n",
    "                                         'nose_wide', 'lips_thin'])\n",
    "\n",
    "woman_feature_data = pd.DataFrame([[0, X_train_mm['forehead_width_cm'].mean(), 0, 0]],\n",
    "                                   columns=['distance_nose_to_lip_long', 'forehead_width_cm',\n",
    "                                            'nose_wide', 'lips_thin'])"
   ]
  },
  {
   "cell_type": "code",
   "execution_count": 133,
   "metadata": {},
   "outputs": [
    {
     "data": {
      "text/plain": [
       "array([1])"
      ]
     },
     "execution_count": 133,
     "metadata": {},
     "output_type": "execute_result"
    }
   ],
   "source": [
    "dt_grid_search.best_estimator_.predict(man_feature_data)"
   ]
  },
  {
   "cell_type": "code",
   "execution_count": 134,
   "metadata": {},
   "outputs": [
    {
     "data": {
      "text/plain": [
       "array([0])"
      ]
     },
     "execution_count": 134,
     "metadata": {},
     "output_type": "execute_result"
    }
   ],
   "source": [
    "dt_grid_search.best_estimator_.predict(woman_feature_data)"
   ]
  },
  {
   "cell_type": "code",
   "execution_count": 107,
   "metadata": {},
   "outputs": [
    {
     "data": {
      "image/svg+xml": [
       "<?xml version=\"1.0\" encoding=\"UTF-8\" standalone=\"no\"?>\n",
       "<!DOCTYPE svg PUBLIC \"-//W3C//DTD SVG 1.1//EN\"\n",
       " \"http://www.w3.org/Graphics/SVG/1.1/DTD/svg11.dtd\">\n",
       "<!-- Generated by graphviz version 9.0.0 (20230911.1827)\n",
       " -->\n",
       "<!-- Title: Tree Pages: 1 -->\n",
       "<svg width=\"3463pt\" height=\"671pt\"\n",
       " viewBox=\"0.00 0.00 3462.62 671.00\" xmlns=\"http://www.w3.org/2000/svg\" xmlns:xlink=\"http://www.w3.org/1999/xlink\">\n",
       "<g id=\"graph0\" class=\"graph\" transform=\"scale(1 1) rotate(0) translate(4 667)\">\n",
       "<title>Tree</title>\n",
       "<polygon fill=\"white\" stroke=\"none\" points=\"-4,4 -4,-667 3458.62,-667 3458.62,4 -4,4\"/>\n",
       "<!-- 0 -->\n",
       "<g id=\"node1\" class=\"node\">\n",
       "<title>0</title>\n",
       "<path fill=\"#ffffff\" stroke=\"black\" d=\"M1627.62,-663C1627.62,-663 1429.38,-663 1429.38,-663 1423.38,-663 1417.38,-657 1417.38,-651 1417.38,-651 1417.38,-592 1417.38,-592 1417.38,-586 1423.38,-580 1429.38,-580 1429.38,-580 1627.62,-580 1627.62,-580 1633.62,-580 1639.62,-586 1639.62,-592 1639.62,-592 1639.62,-651 1639.62,-651 1639.62,-657 1633.62,-663 1627.62,-663\"/>\n",
       "<text text-anchor=\"middle\" x=\"1528.5\" y=\"-645.7\" font-family=\"Helvetica,sans-Serif\" font-size=\"14.00\">distance_nose_to_lip_long &lt;= 0.5</text>\n",
       "<text text-anchor=\"middle\" x=\"1528.5\" y=\"-630.7\" font-family=\"Helvetica,sans-Serif\" font-size=\"14.00\">entropy = 1.0</text>\n",
       "<text text-anchor=\"middle\" x=\"1528.5\" y=\"-615.7\" font-family=\"Helvetica,sans-Serif\" font-size=\"14.00\">samples = 4800</text>\n",
       "<text text-anchor=\"middle\" x=\"1528.5\" y=\"-600.7\" font-family=\"Helvetica,sans-Serif\" font-size=\"14.00\">value = [2401, 2399]</text>\n",
       "<text text-anchor=\"middle\" x=\"1528.5\" y=\"-585.7\" font-family=\"Helvetica,sans-Serif\" font-size=\"14.00\">class = distance_nose_to_lip_long</text>\n",
       "</g>\n",
       "<!-- 1 -->\n",
       "<g id=\"node2\" class=\"node\">\n",
       "<title>1</title>\n",
       "<path fill=\"#55abe9\" stroke=\"black\" d=\"M1402,-544C1402,-544 1245,-544 1245,-544 1239,-544 1233,-538 1233,-532 1233,-532 1233,-473 1233,-473 1233,-467 1239,-461 1245,-461 1245,-461 1402,-461 1402,-461 1408,-461 1414,-467 1414,-473 1414,-473 1414,-532 1414,-532 1414,-538 1408,-544 1402,-544\"/>\n",
       "<text text-anchor=\"middle\" x=\"1323.5\" y=\"-526.7\" font-family=\"Helvetica,sans-Serif\" font-size=\"14.00\">nose_wide &lt;= 0.5</text>\n",
       "<text text-anchor=\"middle\" x=\"1323.5\" y=\"-511.7\" font-family=\"Helvetica,sans-Serif\" font-size=\"14.00\">entropy = 0.539</text>\n",
       "<text text-anchor=\"middle\" x=\"1323.5\" y=\"-496.7\" font-family=\"Helvetica,sans-Serif\" font-size=\"14.00\">samples = 2407</text>\n",
       "<text text-anchor=\"middle\" x=\"1323.5\" y=\"-481.7\" font-family=\"Helvetica,sans-Serif\" font-size=\"14.00\">value = [297, 2110]</text>\n",
       "<text text-anchor=\"middle\" x=\"1323.5\" y=\"-466.7\" font-family=\"Helvetica,sans-Serif\" font-size=\"14.00\">class = forehead_width_cm</text>\n",
       "</g>\n",
       "<!-- 0&#45;&gt;1 -->\n",
       "<g id=\"edge1\" class=\"edge\">\n",
       "<title>0&#45;&gt;1</title>\n",
       "<path fill=\"none\" stroke=\"black\" d=\"M1456.8,-579.58C1440.1,-570.05 1422.2,-559.83 1405.11,-550.08\"/>\n",
       "<polygon fill=\"black\" stroke=\"black\" points=\"1406.89,-547.07 1396.47,-545.15 1403.42,-553.14 1406.89,-547.07\"/>\n",
       "<text text-anchor=\"middle\" x=\"1401.75\" y=\"-562.71\" font-family=\"Helvetica,sans-Serif\" font-size=\"14.00\">True</text>\n",
       "</g>\n",
       "<!-- 20 -->\n",
       "<g id=\"node21\" class=\"node\">\n",
       "<title>20</title>\n",
       "<path fill=\"#e99254\" stroke=\"black\" d=\"M2159.62,-544C2159.62,-544 1961.38,-544 1961.38,-544 1955.38,-544 1949.38,-538 1949.38,-532 1949.38,-532 1949.38,-473 1949.38,-473 1949.38,-467 1955.38,-461 1961.38,-461 1961.38,-461 2159.62,-461 2159.62,-461 2165.62,-461 2171.62,-467 2171.62,-473 2171.62,-473 2171.62,-532 2171.62,-532 2171.62,-538 2165.62,-544 2159.62,-544\"/>\n",
       "<text text-anchor=\"middle\" x=\"2060.5\" y=\"-526.7\" font-family=\"Helvetica,sans-Serif\" font-size=\"14.00\">nose_wide &lt;= 0.5</text>\n",
       "<text text-anchor=\"middle\" x=\"2060.5\" y=\"-511.7\" font-family=\"Helvetica,sans-Serif\" font-size=\"14.00\">entropy = 0.532</text>\n",
       "<text text-anchor=\"middle\" x=\"2060.5\" y=\"-496.7\" font-family=\"Helvetica,sans-Serif\" font-size=\"14.00\">samples = 2393</text>\n",
       "<text text-anchor=\"middle\" x=\"2060.5\" y=\"-481.7\" font-family=\"Helvetica,sans-Serif\" font-size=\"14.00\">value = [2104, 289]</text>\n",
       "<text text-anchor=\"middle\" x=\"2060.5\" y=\"-466.7\" font-family=\"Helvetica,sans-Serif\" font-size=\"14.00\">class = distance_nose_to_lip_long</text>\n",
       "</g>\n",
       "<!-- 0&#45;&gt;20 -->\n",
       "<g id=\"edge20\" class=\"edge\">\n",
       "<title>0&#45;&gt;20</title>\n",
       "<path fill=\"none\" stroke=\"black\" d=\"M1640.02,-595.97C1727.19,-576.8 1848.21,-550.19 1938.05,-530.43\"/>\n",
       "<polygon fill=\"black\" stroke=\"black\" points=\"1938.63,-533.89 1947.64,-528.32 1937.13,-527.05 1938.63,-533.89\"/>\n",
       "<text text-anchor=\"middle\" x=\"1935.65\" y=\"-543.26\" font-family=\"Helvetica,sans-Serif\" font-size=\"14.00\">False</text>\n",
       "</g>\n",
       "<!-- 2 -->\n",
       "<g id=\"node3\" class=\"node\">\n",
       "<title>2</title>\n",
       "<path fill=\"#3d9fe6\" stroke=\"black\" d=\"M890.62,-425C890.62,-425 722.38,-425 722.38,-425 716.38,-425 710.38,-419 710.38,-413 710.38,-413 710.38,-354 710.38,-354 710.38,-348 716.38,-342 722.38,-342 722.38,-342 890.62,-342 890.62,-342 896.62,-342 902.62,-348 902.62,-354 902.62,-354 902.62,-413 902.62,-413 902.62,-419 896.62,-425 890.62,-425\"/>\n",
       "<text text-anchor=\"middle\" x=\"806.5\" y=\"-407.7\" font-family=\"Helvetica,sans-Serif\" font-size=\"14.00\">forehead_width_cm &lt;= 0.732</text>\n",
       "<text text-anchor=\"middle\" x=\"806.5\" y=\"-392.7\" font-family=\"Helvetica,sans-Serif\" font-size=\"14.00\">entropy = 0.142</text>\n",
       "<text text-anchor=\"middle\" x=\"806.5\" y=\"-377.7\" font-family=\"Helvetica,sans-Serif\" font-size=\"14.00\">samples = 1895</text>\n",
       "<text text-anchor=\"middle\" x=\"806.5\" y=\"-362.7\" font-family=\"Helvetica,sans-Serif\" font-size=\"14.00\">value = [38, 1857]</text>\n",
       "<text text-anchor=\"middle\" x=\"806.5\" y=\"-347.7\" font-family=\"Helvetica,sans-Serif\" font-size=\"14.00\">class = forehead_width_cm</text>\n",
       "</g>\n",
       "<!-- 1&#45;&gt;2 -->\n",
       "<g id=\"edge2\" class=\"edge\">\n",
       "<title>1&#45;&gt;2</title>\n",
       "<path fill=\"none\" stroke=\"black\" d=\"M1232.56,-480.92C1143.65,-460.8 1008.28,-430.16 914.07,-408.84\"/>\n",
       "<polygon fill=\"black\" stroke=\"black\" points=\"915.08,-405.48 904.55,-406.69 913.54,-412.31 915.08,-405.48\"/>\n",
       "</g>\n",
       "<!-- 11 -->\n",
       "<g id=\"node12\" class=\"node\">\n",
       "<title>11</title>\n",
       "<path fill=\"#fefcfa\" stroke=\"black\" d=\"M1422.62,-425C1422.62,-425 1224.38,-425 1224.38,-425 1218.38,-425 1212.38,-419 1212.38,-413 1212.38,-413 1212.38,-354 1212.38,-354 1212.38,-348 1218.38,-342 1224.38,-342 1224.38,-342 1422.62,-342 1422.62,-342 1428.62,-342 1434.62,-348 1434.62,-354 1434.62,-354 1434.62,-413 1434.62,-413 1434.62,-419 1428.62,-425 1422.62,-425\"/>\n",
       "<text text-anchor=\"middle\" x=\"1323.5\" y=\"-407.7\" font-family=\"Helvetica,sans-Serif\" font-size=\"14.00\">forehead_width_cm &lt;= 0.72</text>\n",
       "<text text-anchor=\"middle\" x=\"1323.5\" y=\"-392.7\" font-family=\"Helvetica,sans-Serif\" font-size=\"14.00\">entropy = 1.0</text>\n",
       "<text text-anchor=\"middle\" x=\"1323.5\" y=\"-377.7\" font-family=\"Helvetica,sans-Serif\" font-size=\"14.00\">samples = 512</text>\n",
       "<text text-anchor=\"middle\" x=\"1323.5\" y=\"-362.7\" font-family=\"Helvetica,sans-Serif\" font-size=\"14.00\">value = [259, 253]</text>\n",
       "<text text-anchor=\"middle\" x=\"1323.5\" y=\"-347.7\" font-family=\"Helvetica,sans-Serif\" font-size=\"14.00\">class = distance_nose_to_lip_long</text>\n",
       "</g>\n",
       "<!-- 1&#45;&gt;11 -->\n",
       "<g id=\"edge11\" class=\"edge\">\n",
       "<title>1&#45;&gt;11</title>\n",
       "<path fill=\"none\" stroke=\"black\" d=\"M1323.5,-460.58C1323.5,-452.79 1323.5,-444.53 1323.5,-436.45\"/>\n",
       "<polygon fill=\"black\" stroke=\"black\" points=\"1327,-436.71 1323.5,-426.71 1320,-436.71 1327,-436.71\"/>\n",
       "</g>\n",
       "<!-- 3 -->\n",
       "<g id=\"node4\" class=\"node\">\n",
       "<title>3</title>\n",
       "<path fill=\"#3c9ee5\" stroke=\"black\" d=\"M619.62,-306C619.62,-306 451.38,-306 451.38,-306 445.38,-306 439.38,-300 439.38,-294 439.38,-294 439.38,-235 439.38,-235 439.38,-229 445.38,-223 451.38,-223 451.38,-223 619.62,-223 619.62,-223 625.62,-223 631.62,-229 631.62,-235 631.62,-235 631.62,-294 631.62,-294 631.62,-300 625.62,-306 619.62,-306\"/>\n",
       "<text text-anchor=\"middle\" x=\"535.5\" y=\"-288.7\" font-family=\"Helvetica,sans-Serif\" font-size=\"14.00\">forehead_width_cm &lt;= 0.402</text>\n",
       "<text text-anchor=\"middle\" x=\"535.5\" y=\"-273.7\" font-family=\"Helvetica,sans-Serif\" font-size=\"14.00\">entropy = 0.099</text>\n",
       "<text text-anchor=\"middle\" x=\"535.5\" y=\"-258.7\" font-family=\"Helvetica,sans-Serif\" font-size=\"14.00\">samples = 1881</text>\n",
       "<text text-anchor=\"middle\" x=\"535.5\" y=\"-243.7\" font-family=\"Helvetica,sans-Serif\" font-size=\"14.00\">value = [24, 1857]</text>\n",
       "<text text-anchor=\"middle\" x=\"535.5\" y=\"-228.7\" font-family=\"Helvetica,sans-Serif\" font-size=\"14.00\">class = forehead_width_cm</text>\n",
       "</g>\n",
       "<!-- 2&#45;&gt;3 -->\n",
       "<g id=\"edge3\" class=\"edge\">\n",
       "<title>2&#45;&gt;3</title>\n",
       "<path fill=\"none\" stroke=\"black\" d=\"M711.72,-341.58C688.72,-331.65 663.99,-320.97 640.54,-310.85\"/>\n",
       "<polygon fill=\"black\" stroke=\"black\" points=\"642.19,-307.75 631.62,-307 639.41,-314.17 642.19,-307.75\"/>\n",
       "</g>\n",
       "<!-- 10 -->\n",
       "<g id=\"node11\" class=\"node\">\n",
       "<title>10</title>\n",
       "<path fill=\"#e58139\" stroke=\"black\" d=\"M905.62,-298.5C905.62,-298.5 707.38,-298.5 707.38,-298.5 701.38,-298.5 695.38,-292.5 695.38,-286.5 695.38,-286.5 695.38,-242.5 695.38,-242.5 695.38,-236.5 701.38,-230.5 707.38,-230.5 707.38,-230.5 905.62,-230.5 905.62,-230.5 911.62,-230.5 917.62,-236.5 917.62,-242.5 917.62,-242.5 917.62,-286.5 917.62,-286.5 917.62,-292.5 911.62,-298.5 905.62,-298.5\"/>\n",
       "<text text-anchor=\"middle\" x=\"806.5\" y=\"-281.2\" font-family=\"Helvetica,sans-Serif\" font-size=\"14.00\">entropy = 0.0</text>\n",
       "<text text-anchor=\"middle\" x=\"806.5\" y=\"-266.2\" font-family=\"Helvetica,sans-Serif\" font-size=\"14.00\">samples = 14</text>\n",
       "<text text-anchor=\"middle\" x=\"806.5\" y=\"-251.2\" font-family=\"Helvetica,sans-Serif\" font-size=\"14.00\">value = [14, 0]</text>\n",
       "<text text-anchor=\"middle\" x=\"806.5\" y=\"-236.2\" font-family=\"Helvetica,sans-Serif\" font-size=\"14.00\">class = distance_nose_to_lip_long</text>\n",
       "</g>\n",
       "<!-- 2&#45;&gt;10 -->\n",
       "<g id=\"edge10\" class=\"edge\">\n",
       "<title>2&#45;&gt;10</title>\n",
       "<path fill=\"none\" stroke=\"black\" d=\"M806.5,-341.58C806.5,-331.43 806.5,-320.5 806.5,-310.18\"/>\n",
       "<polygon fill=\"black\" stroke=\"black\" points=\"810,-310.37 806.5,-300.37 803,-310.37 810,-310.37\"/>\n",
       "</g>\n",
       "<!-- 4 -->\n",
       "<g id=\"node5\" class=\"node\">\n",
       "<title>4</title>\n",
       "<path fill=\"#3a9ee5\" stroke=\"black\" d=\"M368,-187C368,-187 211,-187 211,-187 205,-187 199,-181 199,-175 199,-175 199,-116 199,-116 199,-110 205,-104 211,-104 211,-104 368,-104 368,-104 374,-104 380,-110 380,-116 380,-116 380,-175 380,-175 380,-181 374,-187 368,-187\"/>\n",
       "<text text-anchor=\"middle\" x=\"289.5\" y=\"-169.7\" font-family=\"Helvetica,sans-Serif\" font-size=\"14.00\">lips_thin &lt;= 0.5</text>\n",
       "<text text-anchor=\"middle\" x=\"289.5\" y=\"-154.7\" font-family=\"Helvetica,sans-Serif\" font-size=\"14.00\">entropy = 0.058</text>\n",
       "<text text-anchor=\"middle\" x=\"289.5\" y=\"-139.7\" font-family=\"Helvetica,sans-Serif\" font-size=\"14.00\">samples = 1055</text>\n",
       "<text text-anchor=\"middle\" x=\"289.5\" y=\"-124.7\" font-family=\"Helvetica,sans-Serif\" font-size=\"14.00\">value = [7, 1048]</text>\n",
       "<text text-anchor=\"middle\" x=\"289.5\" y=\"-109.7\" font-family=\"Helvetica,sans-Serif\" font-size=\"14.00\">class = forehead_width_cm</text>\n",
       "</g>\n",
       "<!-- 3&#45;&gt;4 -->\n",
       "<g id=\"edge4\" class=\"edge\">\n",
       "<title>3&#45;&gt;4</title>\n",
       "<path fill=\"none\" stroke=\"black\" d=\"M449.46,-222.58C428.86,-212.78 406.74,-202.26 385.71,-192.26\"/>\n",
       "<polygon fill=\"black\" stroke=\"black\" points=\"387.39,-189.18 376.86,-188.05 384.38,-195.5 387.39,-189.18\"/>\n",
       "</g>\n",
       "<!-- 7 -->\n",
       "<g id=\"node8\" class=\"node\">\n",
       "<title>7</title>\n",
       "<path fill=\"#3d9fe6\" stroke=\"black\" d=\"M614,-187C614,-187 457,-187 457,-187 451,-187 445,-181 445,-175 445,-175 445,-116 445,-116 445,-110 451,-104 457,-104 457,-104 614,-104 614,-104 620,-104 626,-110 626,-116 626,-116 626,-175 626,-175 626,-181 620,-187 614,-187\"/>\n",
       "<text text-anchor=\"middle\" x=\"535.5\" y=\"-169.7\" font-family=\"Helvetica,sans-Serif\" font-size=\"14.00\">lips_thin &lt;= 0.5</text>\n",
       "<text text-anchor=\"middle\" x=\"535.5\" y=\"-154.7\" font-family=\"Helvetica,sans-Serif\" font-size=\"14.00\">entropy = 0.145</text>\n",
       "<text text-anchor=\"middle\" x=\"535.5\" y=\"-139.7\" font-family=\"Helvetica,sans-Serif\" font-size=\"14.00\">samples = 826</text>\n",
       "<text text-anchor=\"middle\" x=\"535.5\" y=\"-124.7\" font-family=\"Helvetica,sans-Serif\" font-size=\"14.00\">value = [17, 809]</text>\n",
       "<text text-anchor=\"middle\" x=\"535.5\" y=\"-109.7\" font-family=\"Helvetica,sans-Serif\" font-size=\"14.00\">class = forehead_width_cm</text>\n",
       "</g>\n",
       "<!-- 3&#45;&gt;7 -->\n",
       "<g id=\"edge7\" class=\"edge\">\n",
       "<title>3&#45;&gt;7</title>\n",
       "<path fill=\"none\" stroke=\"black\" d=\"M535.5,-222.58C535.5,-214.79 535.5,-206.53 535.5,-198.45\"/>\n",
       "<polygon fill=\"black\" stroke=\"black\" points=\"539,-198.71 535.5,-188.71 532,-198.71 539,-198.71\"/>\n",
       "</g>\n",
       "<!-- 5 -->\n",
       "<g id=\"node6\" class=\"node\">\n",
       "<title>5</title>\n",
       "<path fill=\"#399de5\" stroke=\"black\" d=\"M169,-68C169,-68 12,-68 12,-68 6,-68 0,-62 0,-56 0,-56 0,-12 0,-12 0,-6 6,0 12,0 12,0 169,0 169,0 175,0 181,-6 181,-12 181,-12 181,-56 181,-56 181,-62 175,-68 169,-68\"/>\n",
       "<text text-anchor=\"middle\" x=\"90.5\" y=\"-50.7\" font-family=\"Helvetica,sans-Serif\" font-size=\"14.00\">entropy = 0.0</text>\n",
       "<text text-anchor=\"middle\" x=\"90.5\" y=\"-35.7\" font-family=\"Helvetica,sans-Serif\" font-size=\"14.00\">samples = 941</text>\n",
       "<text text-anchor=\"middle\" x=\"90.5\" y=\"-20.7\" font-family=\"Helvetica,sans-Serif\" font-size=\"14.00\">value = [0, 941]</text>\n",
       "<text text-anchor=\"middle\" x=\"90.5\" y=\"-5.7\" font-family=\"Helvetica,sans-Serif\" font-size=\"14.00\">class = forehead_width_cm</text>\n",
       "</g>\n",
       "<!-- 4&#45;&gt;5 -->\n",
       "<g id=\"edge5\" class=\"edge\">\n",
       "<title>4&#45;&gt;5</title>\n",
       "<path fill=\"none\" stroke=\"black\" d=\"M215.12,-103.57C197.33,-93.78 178.39,-83.36 160.79,-73.68\"/>\n",
       "<polygon fill=\"black\" stroke=\"black\" points=\"162.94,-70.86 152.49,-69.11 159.56,-77 162.94,-70.86\"/>\n",
       "</g>\n",
       "<!-- 6 -->\n",
       "<g id=\"node7\" class=\"node\">\n",
       "<title>6</title>\n",
       "<path fill=\"#46a3e7\" stroke=\"black\" d=\"M368,-68C368,-68 211,-68 211,-68 205,-68 199,-62 199,-56 199,-56 199,-12 199,-12 199,-6 205,0 211,0 211,0 368,0 368,0 374,0 380,-6 380,-12 380,-12 380,-56 380,-56 380,-62 374,-68 368,-68\"/>\n",
       "<text text-anchor=\"middle\" x=\"289.5\" y=\"-50.7\" font-family=\"Helvetica,sans-Serif\" font-size=\"14.00\">entropy = 0.333</text>\n",
       "<text text-anchor=\"middle\" x=\"289.5\" y=\"-35.7\" font-family=\"Helvetica,sans-Serif\" font-size=\"14.00\">samples = 114</text>\n",
       "<text text-anchor=\"middle\" x=\"289.5\" y=\"-20.7\" font-family=\"Helvetica,sans-Serif\" font-size=\"14.00\">value = [7, 107]</text>\n",
       "<text text-anchor=\"middle\" x=\"289.5\" y=\"-5.7\" font-family=\"Helvetica,sans-Serif\" font-size=\"14.00\">class = forehead_width_cm</text>\n",
       "</g>\n",
       "<!-- 4&#45;&gt;6 -->\n",
       "<g id=\"edge6\" class=\"edge\">\n",
       "<title>4&#45;&gt;6</title>\n",
       "<path fill=\"none\" stroke=\"black\" d=\"M289.5,-103.73C289.5,-95.88 289.5,-87.63 289.5,-79.67\"/>\n",
       "<polygon fill=\"black\" stroke=\"black\" points=\"293,-79.81 289.5,-69.81 286,-79.81 293,-79.81\"/>\n",
       "</g>\n",
       "<!-- 8 -->\n",
       "<g id=\"node9\" class=\"node\">\n",
       "<title>8</title>\n",
       "<path fill=\"#3a9de5\" stroke=\"black\" d=\"M567,-68C567,-68 410,-68 410,-68 404,-68 398,-62 398,-56 398,-56 398,-12 398,-12 398,-6 404,0 410,0 410,0 567,0 567,0 573,0 579,-6 579,-12 579,-12 579,-56 579,-56 579,-62 573,-68 567,-68\"/>\n",
       "<text text-anchor=\"middle\" x=\"488.5\" y=\"-50.7\" font-family=\"Helvetica,sans-Serif\" font-size=\"14.00\">entropy = 0.04</text>\n",
       "<text text-anchor=\"middle\" x=\"488.5\" y=\"-35.7\" font-family=\"Helvetica,sans-Serif\" font-size=\"14.00\">samples = 693</text>\n",
       "<text text-anchor=\"middle\" x=\"488.5\" y=\"-20.7\" font-family=\"Helvetica,sans-Serif\" font-size=\"14.00\">value = [3, 690]</text>\n",
       "<text text-anchor=\"middle\" x=\"488.5\" y=\"-5.7\" font-family=\"Helvetica,sans-Serif\" font-size=\"14.00\">class = forehead_width_cm</text>\n",
       "</g>\n",
       "<!-- 7&#45;&gt;8 -->\n",
       "<g id=\"edge8\" class=\"edge\">\n",
       "<title>7&#45;&gt;8</title>\n",
       "<path fill=\"none\" stroke=\"black\" d=\"M518,-103.73C514.51,-95.61 510.84,-87.05 507.32,-78.84\"/>\n",
       "<polygon fill=\"black\" stroke=\"black\" points=\"510.55,-77.5 503.39,-69.69 504.12,-80.26 510.55,-77.5\"/>\n",
       "</g>\n",
       "<!-- 9 -->\n",
       "<g id=\"node10\" class=\"node\">\n",
       "<title>9</title>\n",
       "<path fill=\"#50a9e8\" stroke=\"black\" d=\"M766,-68C766,-68 609,-68 609,-68 603,-68 597,-62 597,-56 597,-56 597,-12 597,-12 597,-6 603,0 609,0 609,0 766,0 766,0 772,0 778,-6 778,-12 778,-12 778,-56 778,-56 778,-62 772,-68 766,-68\"/>\n",
       "<text text-anchor=\"middle\" x=\"687.5\" y=\"-50.7\" font-family=\"Helvetica,sans-Serif\" font-size=\"14.00\">entropy = 0.485</text>\n",
       "<text text-anchor=\"middle\" x=\"687.5\" y=\"-35.7\" font-family=\"Helvetica,sans-Serif\" font-size=\"14.00\">samples = 133</text>\n",
       "<text text-anchor=\"middle\" x=\"687.5\" y=\"-20.7\" font-family=\"Helvetica,sans-Serif\" font-size=\"14.00\">value = [14, 119]</text>\n",
       "<text text-anchor=\"middle\" x=\"687.5\" y=\"-5.7\" font-family=\"Helvetica,sans-Serif\" font-size=\"14.00\">class = forehead_width_cm</text>\n",
       "</g>\n",
       "<!-- 7&#45;&gt;9 -->\n",
       "<g id=\"edge9\" class=\"edge\">\n",
       "<title>7&#45;&gt;9</title>\n",
       "<path fill=\"none\" stroke=\"black\" d=\"M592.1,-103.73C605.14,-94.33 619,-84.35 631.99,-74.99\"/>\n",
       "<polygon fill=\"black\" stroke=\"black\" points=\"633.98,-77.87 640.05,-69.18 629.89,-72.19 633.98,-77.87\"/>\n",
       "</g>\n",
       "<!-- 12 -->\n",
       "<g id=\"node13\" class=\"node\">\n",
       "<title>12</title>\n",
       "<path fill=\"#c0e0f7\" stroke=\"black\" d=\"M1292,-306C1292,-306 1135,-306 1135,-306 1129,-306 1123,-300 1123,-294 1123,-294 1123,-235 1123,-235 1123,-229 1129,-223 1135,-223 1135,-223 1292,-223 1292,-223 1298,-223 1304,-229 1304,-235 1304,-235 1304,-294 1304,-294 1304,-300 1298,-306 1292,-306\"/>\n",
       "<text text-anchor=\"middle\" x=\"1213.5\" y=\"-288.7\" font-family=\"Helvetica,sans-Serif\" font-size=\"14.00\">lips_thin &lt;= 0.5</text>\n",
       "<text text-anchor=\"middle\" x=\"1213.5\" y=\"-273.7\" font-family=\"Helvetica,sans-Serif\" font-size=\"14.00\">entropy = 0.974</text>\n",
       "<text text-anchor=\"middle\" x=\"1213.5\" y=\"-258.7\" font-family=\"Helvetica,sans-Serif\" font-size=\"14.00\">samples = 425</text>\n",
       "<text text-anchor=\"middle\" x=\"1213.5\" y=\"-243.7\" font-family=\"Helvetica,sans-Serif\" font-size=\"14.00\">value = [172, 253]</text>\n",
       "<text text-anchor=\"middle\" x=\"1213.5\" y=\"-228.7\" font-family=\"Helvetica,sans-Serif\" font-size=\"14.00\">class = forehead_width_cm</text>\n",
       "</g>\n",
       "<!-- 11&#45;&gt;12 -->\n",
       "<g id=\"edge12\" class=\"edge\">\n",
       "<title>11&#45;&gt;12</title>\n",
       "<path fill=\"none\" stroke=\"black\" d=\"M1285.03,-341.58C1276.77,-332.8 1267.97,-323.44 1259.47,-314.39\"/>\n",
       "<polygon fill=\"black\" stroke=\"black\" points=\"1262.2,-312.19 1252.8,-307.3 1257.1,-316.99 1262.2,-312.19\"/>\n",
       "</g>\n",
       "<!-- 19 -->\n",
       "<g id=\"node20\" class=\"node\">\n",
       "<title>19</title>\n",
       "<path fill=\"#e58139\" stroke=\"black\" d=\"M1532.62,-298.5C1532.62,-298.5 1334.38,-298.5 1334.38,-298.5 1328.38,-298.5 1322.38,-292.5 1322.38,-286.5 1322.38,-286.5 1322.38,-242.5 1322.38,-242.5 1322.38,-236.5 1328.38,-230.5 1334.38,-230.5 1334.38,-230.5 1532.62,-230.5 1532.62,-230.5 1538.62,-230.5 1544.62,-236.5 1544.62,-242.5 1544.62,-242.5 1544.62,-286.5 1544.62,-286.5 1544.62,-292.5 1538.62,-298.5 1532.62,-298.5\"/>\n",
       "<text text-anchor=\"middle\" x=\"1433.5\" y=\"-281.2\" font-family=\"Helvetica,sans-Serif\" font-size=\"14.00\">entropy = 0.0</text>\n",
       "<text text-anchor=\"middle\" x=\"1433.5\" y=\"-266.2\" font-family=\"Helvetica,sans-Serif\" font-size=\"14.00\">samples = 87</text>\n",
       "<text text-anchor=\"middle\" x=\"1433.5\" y=\"-251.2\" font-family=\"Helvetica,sans-Serif\" font-size=\"14.00\">value = [87, 0]</text>\n",
       "<text text-anchor=\"middle\" x=\"1433.5\" y=\"-236.2\" font-family=\"Helvetica,sans-Serif\" font-size=\"14.00\">class = distance_nose_to_lip_long</text>\n",
       "</g>\n",
       "<!-- 11&#45;&gt;19 -->\n",
       "<g id=\"edge19\" class=\"edge\">\n",
       "<title>11&#45;&gt;19</title>\n",
       "<path fill=\"none\" stroke=\"black\" d=\"M1361.97,-341.58C1372.44,-330.45 1383.79,-318.38 1394.29,-307.2\"/>\n",
       "<polygon fill=\"black\" stroke=\"black\" points=\"1396.8,-309.65 1401.1,-299.96 1391.7,-304.85 1396.8,-309.65\"/>\n",
       "</g>\n",
       "<!-- 13 -->\n",
       "<g id=\"node14\" class=\"node\">\n",
       "<title>13</title>\n",
       "<path fill=\"#4fa8e8\" stroke=\"black\" d=\"M1164.88,-187C1164.88,-187 1004.12,-187 1004.12,-187 998.12,-187 992.12,-181 992.12,-175 992.12,-175 992.12,-116 992.12,-116 992.12,-110 998.12,-104 1004.12,-104 1004.12,-104 1164.88,-104 1164.88,-104 1170.88,-104 1176.88,-110 1176.88,-116 1176.88,-116 1176.88,-175 1176.88,-175 1176.88,-181 1170.88,-187 1164.88,-187\"/>\n",
       "<text text-anchor=\"middle\" x=\"1084.5\" y=\"-169.7\" font-family=\"Helvetica,sans-Serif\" font-size=\"14.00\">forehead_width_cm &lt;= 0.11</text>\n",
       "<text text-anchor=\"middle\" x=\"1084.5\" y=\"-154.7\" font-family=\"Helvetica,sans-Serif\" font-size=\"14.00\">entropy = 0.474</text>\n",
       "<text text-anchor=\"middle\" x=\"1084.5\" y=\"-139.7\" font-family=\"Helvetica,sans-Serif\" font-size=\"14.00\">samples = 246</text>\n",
       "<text text-anchor=\"middle\" x=\"1084.5\" y=\"-124.7\" font-family=\"Helvetica,sans-Serif\" font-size=\"14.00\">value = [25, 221]</text>\n",
       "<text text-anchor=\"middle\" x=\"1084.5\" y=\"-109.7\" font-family=\"Helvetica,sans-Serif\" font-size=\"14.00\">class = forehead_width_cm</text>\n",
       "</g>\n",
       "<!-- 12&#45;&gt;13 -->\n",
       "<g id=\"edge13\" class=\"edge\">\n",
       "<title>12&#45;&gt;13</title>\n",
       "<path fill=\"none\" stroke=\"black\" d=\"M1168.38,-222.58C1158.51,-213.62 1147.96,-204.06 1137.8,-194.84\"/>\n",
       "<polygon fill=\"black\" stroke=\"black\" points=\"1140.25,-192.34 1130.5,-188.22 1135.55,-197.53 1140.25,-192.34\"/>\n",
       "</g>\n",
       "<!-- 16 -->\n",
       "<g id=\"node17\" class=\"node\">\n",
       "<title>16</title>\n",
       "<path fill=\"#eb9c64\" stroke=\"black\" d=\"M1405.62,-187C1405.62,-187 1207.38,-187 1207.38,-187 1201.38,-187 1195.38,-181 1195.38,-175 1195.38,-175 1195.38,-116 1195.38,-116 1195.38,-110 1201.38,-104 1207.38,-104 1207.38,-104 1405.62,-104 1405.62,-104 1411.62,-104 1417.62,-110 1417.62,-116 1417.62,-116 1417.62,-175 1417.62,-175 1417.62,-181 1411.62,-187 1405.62,-187\"/>\n",
       "<text text-anchor=\"middle\" x=\"1306.5\" y=\"-169.7\" font-family=\"Helvetica,sans-Serif\" font-size=\"14.00\">forehead_width_cm &lt;= 0.671</text>\n",
       "<text text-anchor=\"middle\" x=\"1306.5\" y=\"-154.7\" font-family=\"Helvetica,sans-Serif\" font-size=\"14.00\">entropy = 0.677</text>\n",
       "<text text-anchor=\"middle\" x=\"1306.5\" y=\"-139.7\" font-family=\"Helvetica,sans-Serif\" font-size=\"14.00\">samples = 179</text>\n",
       "<text text-anchor=\"middle\" x=\"1306.5\" y=\"-124.7\" font-family=\"Helvetica,sans-Serif\" font-size=\"14.00\">value = [147, 32]</text>\n",
       "<text text-anchor=\"middle\" x=\"1306.5\" y=\"-109.7\" font-family=\"Helvetica,sans-Serif\" font-size=\"14.00\">class = distance_nose_to_lip_long</text>\n",
       "</g>\n",
       "<!-- 12&#45;&gt;16 -->\n",
       "<g id=\"edge16\" class=\"edge\">\n",
       "<title>12&#45;&gt;16</title>\n",
       "<path fill=\"none\" stroke=\"black\" d=\"M1246.03,-222.58C1252.86,-213.98 1260.14,-204.82 1267.2,-195.95\"/>\n",
       "<polygon fill=\"black\" stroke=\"black\" points=\"1269.72,-198.39 1273.21,-188.39 1264.24,-194.04 1269.72,-198.39\"/>\n",
       "</g>\n",
       "<!-- 14 -->\n",
       "<g id=\"node15\" class=\"node\">\n",
       "<title>14</title>\n",
       "<path fill=\"#68b4eb\" stroke=\"black\" d=\"M965,-68C965,-68 808,-68 808,-68 802,-68 796,-62 796,-56 796,-56 796,-12 796,-12 796,-6 802,0 808,0 808,0 965,0 965,0 971,0 977,-6 977,-12 977,-12 977,-56 977,-56 977,-62 971,-68 965,-68\"/>\n",
       "<text text-anchor=\"middle\" x=\"886.5\" y=\"-50.7\" font-family=\"Helvetica,sans-Serif\" font-size=\"14.00\">entropy = 0.702</text>\n",
       "<text text-anchor=\"middle\" x=\"886.5\" y=\"-35.7\" font-family=\"Helvetica,sans-Serif\" font-size=\"14.00\">samples = 42</text>\n",
       "<text text-anchor=\"middle\" x=\"886.5\" y=\"-20.7\" font-family=\"Helvetica,sans-Serif\" font-size=\"14.00\">value = [8, 34]</text>\n",
       "<text text-anchor=\"middle\" x=\"886.5\" y=\"-5.7\" font-family=\"Helvetica,sans-Serif\" font-size=\"14.00\">class = forehead_width_cm</text>\n",
       "</g>\n",
       "<!-- 13&#45;&gt;14 -->\n",
       "<g id=\"edge14\" class=\"edge\">\n",
       "<title>13&#45;&gt;14</title>\n",
       "<path fill=\"none\" stroke=\"black\" d=\"M1010.49,-103.57C992.95,-93.87 974.3,-83.55 956.92,-73.95\"/>\n",
       "<polygon fill=\"black\" stroke=\"black\" points=\"958.63,-70.89 948.18,-69.11 955.24,-77.02 958.63,-70.89\"/>\n",
       "</g>\n",
       "<!-- 15 -->\n",
       "<g id=\"node16\" class=\"node\">\n",
       "<title>15</title>\n",
       "<path fill=\"#4ba6e7\" stroke=\"black\" d=\"M1164,-68C1164,-68 1007,-68 1007,-68 1001,-68 995,-62 995,-56 995,-56 995,-12 995,-12 995,-6 1001,0 1007,0 1007,0 1164,0 1164,0 1170,0 1176,-6 1176,-12 1176,-12 1176,-56 1176,-56 1176,-62 1170,-68 1164,-68\"/>\n",
       "<text text-anchor=\"middle\" x=\"1085.5\" y=\"-50.7\" font-family=\"Helvetica,sans-Serif\" font-size=\"14.00\">entropy = 0.414</text>\n",
       "<text text-anchor=\"middle\" x=\"1085.5\" y=\"-35.7\" font-family=\"Helvetica,sans-Serif\" font-size=\"14.00\">samples = 204</text>\n",
       "<text text-anchor=\"middle\" x=\"1085.5\" y=\"-20.7\" font-family=\"Helvetica,sans-Serif\" font-size=\"14.00\">value = [17, 187]</text>\n",
       "<text text-anchor=\"middle\" x=\"1085.5\" y=\"-5.7\" font-family=\"Helvetica,sans-Serif\" font-size=\"14.00\">class = forehead_width_cm</text>\n",
       "</g>\n",
       "<!-- 13&#45;&gt;15 -->\n",
       "<g id=\"edge15\" class=\"edge\">\n",
       "<title>13&#45;&gt;15</title>\n",
       "<path fill=\"none\" stroke=\"black\" d=\"M1084.87,-103.73C1084.94,-95.88 1085.02,-87.63 1085.09,-79.67\"/>\n",
       "<polygon fill=\"black\" stroke=\"black\" points=\"1088.59,-79.84 1085.18,-69.81 1081.59,-79.78 1088.59,-79.84\"/>\n",
       "</g>\n",
       "<!-- 17 -->\n",
       "<g id=\"node18\" class=\"node\">\n",
       "<title>17</title>\n",
       "<path fill=\"#eb9f69\" stroke=\"black\" d=\"M1404.62,-68C1404.62,-68 1206.38,-68 1206.38,-68 1200.38,-68 1194.38,-62 1194.38,-56 1194.38,-56 1194.38,-12 1194.38,-12 1194.38,-6 1200.38,0 1206.38,0 1206.38,0 1404.62,0 1404.62,0 1410.62,0 1416.62,-6 1416.62,-12 1416.62,-12 1416.62,-56 1416.62,-56 1416.62,-62 1410.62,-68 1404.62,-68\"/>\n",
       "<text text-anchor=\"middle\" x=\"1305.5\" y=\"-50.7\" font-family=\"Helvetica,sans-Serif\" font-size=\"14.00\">entropy = 0.71</text>\n",
       "<text text-anchor=\"middle\" x=\"1305.5\" y=\"-35.7\" font-family=\"Helvetica,sans-Serif\" font-size=\"14.00\">samples = 165</text>\n",
       "<text text-anchor=\"middle\" x=\"1305.5\" y=\"-20.7\" font-family=\"Helvetica,sans-Serif\" font-size=\"14.00\">value = [133, 32]</text>\n",
       "<text text-anchor=\"middle\" x=\"1305.5\" y=\"-5.7\" font-family=\"Helvetica,sans-Serif\" font-size=\"14.00\">class = distance_nose_to_lip_long</text>\n",
       "</g>\n",
       "<!-- 16&#45;&gt;17 -->\n",
       "<g id=\"edge17\" class=\"edge\">\n",
       "<title>16&#45;&gt;17</title>\n",
       "<path fill=\"none\" stroke=\"black\" d=\"M1306.13,-103.73C1306.06,-95.88 1305.98,-87.63 1305.91,-79.67\"/>\n",
       "<polygon fill=\"black\" stroke=\"black\" points=\"1309.41,-79.78 1305.82,-69.81 1302.41,-79.84 1309.41,-79.78\"/>\n",
       "</g>\n",
       "<!-- 18 -->\n",
       "<g id=\"node19\" class=\"node\">\n",
       "<title>18</title>\n",
       "<path fill=\"#e58139\" stroke=\"black\" d=\"M1644.62,-68C1644.62,-68 1446.38,-68 1446.38,-68 1440.38,-68 1434.38,-62 1434.38,-56 1434.38,-56 1434.38,-12 1434.38,-12 1434.38,-6 1440.38,0 1446.38,0 1446.38,0 1644.62,0 1644.62,0 1650.62,0 1656.62,-6 1656.62,-12 1656.62,-12 1656.62,-56 1656.62,-56 1656.62,-62 1650.62,-68 1644.62,-68\"/>\n",
       "<text text-anchor=\"middle\" x=\"1545.5\" y=\"-50.7\" font-family=\"Helvetica,sans-Serif\" font-size=\"14.00\">entropy = 0.0</text>\n",
       "<text text-anchor=\"middle\" x=\"1545.5\" y=\"-35.7\" font-family=\"Helvetica,sans-Serif\" font-size=\"14.00\">samples = 14</text>\n",
       "<text text-anchor=\"middle\" x=\"1545.5\" y=\"-20.7\" font-family=\"Helvetica,sans-Serif\" font-size=\"14.00\">value = [14, 0]</text>\n",
       "<text text-anchor=\"middle\" x=\"1545.5\" y=\"-5.7\" font-family=\"Helvetica,sans-Serif\" font-size=\"14.00\">class = distance_nose_to_lip_long</text>\n",
       "</g>\n",
       "<!-- 16&#45;&gt;18 -->\n",
       "<g id=\"edge18\" class=\"edge\">\n",
       "<title>16&#45;&gt;18</title>\n",
       "<path fill=\"none\" stroke=\"black\" d=\"M1395.83,-103.57C1417.6,-93.6 1440.79,-82.97 1462.26,-73.14\"/>\n",
       "<polygon fill=\"black\" stroke=\"black\" points=\"1463.63,-76.36 1471.27,-69.01 1460.72,-69.99 1463.63,-76.36\"/>\n",
       "</g>\n",
       "<!-- 21 -->\n",
       "<g id=\"node22\" class=\"node\">\n",
       "<title>21</title>\n",
       "<path fill=\"#fef8f4\" stroke=\"black\" d=\"M2159.62,-425C2159.62,-425 1961.38,-425 1961.38,-425 1955.38,-425 1949.38,-419 1949.38,-413 1949.38,-413 1949.38,-354 1949.38,-354 1949.38,-348 1955.38,-342 1961.38,-342 1961.38,-342 2159.62,-342 2159.62,-342 2165.62,-342 2171.62,-348 2171.62,-354 2171.62,-354 2171.62,-413 2171.62,-413 2171.62,-419 2165.62,-425 2159.62,-425\"/>\n",
       "<text text-anchor=\"middle\" x=\"2060.5\" y=\"-407.7\" font-family=\"Helvetica,sans-Serif\" font-size=\"14.00\">forehead_width_cm &lt;= 0.72</text>\n",
       "<text text-anchor=\"middle\" x=\"2060.5\" y=\"-392.7\" font-family=\"Helvetica,sans-Serif\" font-size=\"14.00\">entropy = 0.999</text>\n",
       "<text text-anchor=\"middle\" x=\"2060.5\" y=\"-377.7\" font-family=\"Helvetica,sans-Serif\" font-size=\"14.00\">samples = 535</text>\n",
       "<text text-anchor=\"middle\" x=\"2060.5\" y=\"-362.7\" font-family=\"Helvetica,sans-Serif\" font-size=\"14.00\">value = [275, 260]</text>\n",
       "<text text-anchor=\"middle\" x=\"2060.5\" y=\"-347.7\" font-family=\"Helvetica,sans-Serif\" font-size=\"14.00\">class = distance_nose_to_lip_long</text>\n",
       "</g>\n",
       "<!-- 20&#45;&gt;21 -->\n",
       "<g id=\"edge21\" class=\"edge\">\n",
       "<title>20&#45;&gt;21</title>\n",
       "<path fill=\"none\" stroke=\"black\" d=\"M2060.5,-460.58C2060.5,-452.79 2060.5,-444.53 2060.5,-436.45\"/>\n",
       "<polygon fill=\"black\" stroke=\"black\" points=\"2064,-436.71 2060.5,-426.71 2057,-436.71 2064,-436.71\"/>\n",
       "</g>\n",
       "<!-- 30 -->\n",
       "<g id=\"node31\" class=\"node\">\n",
       "<title>30</title>\n",
       "<path fill=\"#e5833c\" stroke=\"black\" d=\"M2732.62,-425C2732.62,-425 2534.38,-425 2534.38,-425 2528.38,-425 2522.38,-419 2522.38,-413 2522.38,-413 2522.38,-354 2522.38,-354 2522.38,-348 2528.38,-342 2534.38,-342 2534.38,-342 2732.62,-342 2732.62,-342 2738.62,-342 2744.62,-348 2744.62,-354 2744.62,-354 2744.62,-413 2744.62,-413 2744.62,-419 2738.62,-425 2732.62,-425\"/>\n",
       "<text text-anchor=\"middle\" x=\"2633.5\" y=\"-407.7\" font-family=\"Helvetica,sans-Serif\" font-size=\"14.00\">lips_thin &lt;= 0.5</text>\n",
       "<text text-anchor=\"middle\" x=\"2633.5\" y=\"-392.7\" font-family=\"Helvetica,sans-Serif\" font-size=\"14.00\">entropy = 0.116</text>\n",
       "<text text-anchor=\"middle\" x=\"2633.5\" y=\"-377.7\" font-family=\"Helvetica,sans-Serif\" font-size=\"14.00\">samples = 1858</text>\n",
       "<text text-anchor=\"middle\" x=\"2633.5\" y=\"-362.7\" font-family=\"Helvetica,sans-Serif\" font-size=\"14.00\">value = [1829, 29]</text>\n",
       "<text text-anchor=\"middle\" x=\"2633.5\" y=\"-347.7\" font-family=\"Helvetica,sans-Serif\" font-size=\"14.00\">class = distance_nose_to_lip_long</text>\n",
       "</g>\n",
       "<!-- 20&#45;&gt;30 -->\n",
       "<g id=\"edge30\" class=\"edge\">\n",
       "<title>20&#45;&gt;30</title>\n",
       "<path fill=\"none\" stroke=\"black\" d=\"M2172,-478.73C2269.44,-458.84 2410.65,-430 2511.17,-409.48\"/>\n",
       "<polygon fill=\"black\" stroke=\"black\" points=\"2511.72,-412.94 2520.81,-407.51 2510.31,-406.08 2511.72,-412.94\"/>\n",
       "</g>\n",
       "<!-- 22 -->\n",
       "<g id=\"node23\" class=\"node\">\n",
       "<title>22</title>\n",
       "<path fill=\"#c3e1f7\" stroke=\"black\" d=\"M2029,-306C2029,-306 1872,-306 1872,-306 1866,-306 1860,-300 1860,-294 1860,-294 1860,-235 1860,-235 1860,-229 1866,-223 1872,-223 1872,-223 2029,-223 2029,-223 2035,-223 2041,-229 2041,-235 2041,-235 2041,-294 2041,-294 2041,-300 2035,-306 2029,-306\"/>\n",
       "<text text-anchor=\"middle\" x=\"1950.5\" y=\"-288.7\" font-family=\"Helvetica,sans-Serif\" font-size=\"14.00\">lips_thin &lt;= 0.5</text>\n",
       "<text text-anchor=\"middle\" x=\"1950.5\" y=\"-273.7\" font-family=\"Helvetica,sans-Serif\" font-size=\"14.00\">entropy = 0.977</text>\n",
       "<text text-anchor=\"middle\" x=\"1950.5\" y=\"-258.7\" font-family=\"Helvetica,sans-Serif\" font-size=\"14.00\">samples = 441</text>\n",
       "<text text-anchor=\"middle\" x=\"1950.5\" y=\"-243.7\" font-family=\"Helvetica,sans-Serif\" font-size=\"14.00\">value = [181, 260]</text>\n",
       "<text text-anchor=\"middle\" x=\"1950.5\" y=\"-228.7\" font-family=\"Helvetica,sans-Serif\" font-size=\"14.00\">class = forehead_width_cm</text>\n",
       "</g>\n",
       "<!-- 21&#45;&gt;22 -->\n",
       "<g id=\"edge22\" class=\"edge\">\n",
       "<title>21&#45;&gt;22</title>\n",
       "<path fill=\"none\" stroke=\"black\" d=\"M2022.03,-341.58C2013.77,-332.8 2004.97,-323.44 1996.47,-314.39\"/>\n",
       "<polygon fill=\"black\" stroke=\"black\" points=\"1999.2,-312.19 1989.8,-307.3 1994.1,-316.99 1999.2,-312.19\"/>\n",
       "</g>\n",
       "<!-- 29 -->\n",
       "<g id=\"node30\" class=\"node\">\n",
       "<title>29</title>\n",
       "<path fill=\"#e58139\" stroke=\"black\" d=\"M2269.62,-298.5C2269.62,-298.5 2071.38,-298.5 2071.38,-298.5 2065.38,-298.5 2059.38,-292.5 2059.38,-286.5 2059.38,-286.5 2059.38,-242.5 2059.38,-242.5 2059.38,-236.5 2065.38,-230.5 2071.38,-230.5 2071.38,-230.5 2269.62,-230.5 2269.62,-230.5 2275.62,-230.5 2281.62,-236.5 2281.62,-242.5 2281.62,-242.5 2281.62,-286.5 2281.62,-286.5 2281.62,-292.5 2275.62,-298.5 2269.62,-298.5\"/>\n",
       "<text text-anchor=\"middle\" x=\"2170.5\" y=\"-281.2\" font-family=\"Helvetica,sans-Serif\" font-size=\"14.00\">entropy = 0.0</text>\n",
       "<text text-anchor=\"middle\" x=\"2170.5\" y=\"-266.2\" font-family=\"Helvetica,sans-Serif\" font-size=\"14.00\">samples = 94</text>\n",
       "<text text-anchor=\"middle\" x=\"2170.5\" y=\"-251.2\" font-family=\"Helvetica,sans-Serif\" font-size=\"14.00\">value = [94, 0]</text>\n",
       "<text text-anchor=\"middle\" x=\"2170.5\" y=\"-236.2\" font-family=\"Helvetica,sans-Serif\" font-size=\"14.00\">class = distance_nose_to_lip_long</text>\n",
       "</g>\n",
       "<!-- 21&#45;&gt;29 -->\n",
       "<g id=\"edge29\" class=\"edge\">\n",
       "<title>21&#45;&gt;29</title>\n",
       "<path fill=\"none\" stroke=\"black\" d=\"M2098.97,-341.58C2109.44,-330.45 2120.79,-318.38 2131.29,-307.2\"/>\n",
       "<polygon fill=\"black\" stroke=\"black\" points=\"2133.8,-309.65 2138.1,-299.96 2128.7,-304.85 2133.8,-309.65\"/>\n",
       "</g>\n",
       "<!-- 23 -->\n",
       "<g id=\"node24\" class=\"node\">\n",
       "<title>23</title>\n",
       "<path fill=\"#50a9e8\" stroke=\"black\" d=\"M2032.62,-187C2032.62,-187 1864.38,-187 1864.38,-187 1858.38,-187 1852.38,-181 1852.38,-175 1852.38,-175 1852.38,-116 1852.38,-116 1852.38,-110 1858.38,-104 1864.38,-104 1864.38,-104 2032.62,-104 2032.62,-104 2038.62,-104 2044.62,-110 2044.62,-116 2044.62,-116 2044.62,-175 2044.62,-175 2044.62,-181 2038.62,-187 2032.62,-187\"/>\n",
       "<text text-anchor=\"middle\" x=\"1948.5\" y=\"-169.7\" font-family=\"Helvetica,sans-Serif\" font-size=\"14.00\">forehead_width_cm &lt;= 0.061</text>\n",
       "<text text-anchor=\"middle\" x=\"1948.5\" y=\"-154.7\" font-family=\"Helvetica,sans-Serif\" font-size=\"14.00\">entropy = 0.487</text>\n",
       "<text text-anchor=\"middle\" x=\"1948.5\" y=\"-139.7\" font-family=\"Helvetica,sans-Serif\" font-size=\"14.00\">samples = 255</text>\n",
       "<text text-anchor=\"middle\" x=\"1948.5\" y=\"-124.7\" font-family=\"Helvetica,sans-Serif\" font-size=\"14.00\">value = [27, 228]</text>\n",
       "<text text-anchor=\"middle\" x=\"1948.5\" y=\"-109.7\" font-family=\"Helvetica,sans-Serif\" font-size=\"14.00\">class = forehead_width_cm</text>\n",
       "</g>\n",
       "<!-- 22&#45;&gt;23 -->\n",
       "<g id=\"edge23\" class=\"edge\">\n",
       "<title>22&#45;&gt;23</title>\n",
       "<path fill=\"none\" stroke=\"black\" d=\"M1949.8,-222.58C1949.67,-214.79 1949.53,-206.53 1949.39,-198.45\"/>\n",
       "<polygon fill=\"black\" stroke=\"black\" points=\"1952.89,-198.65 1949.22,-188.71 1945.89,-198.77 1952.89,-198.65\"/>\n",
       "</g>\n",
       "<!-- 26 -->\n",
       "<g id=\"node27\" class=\"node\">\n",
       "<title>26</title>\n",
       "<path fill=\"#ea9b62\" stroke=\"black\" d=\"M2272.62,-187C2272.62,-187 2074.38,-187 2074.38,-187 2068.38,-187 2062.38,-181 2062.38,-175 2062.38,-175 2062.38,-116 2062.38,-116 2062.38,-110 2068.38,-104 2074.38,-104 2074.38,-104 2272.62,-104 2272.62,-104 2278.62,-104 2284.62,-110 2284.62,-116 2284.62,-116 2284.62,-175 2284.62,-175 2284.62,-181 2278.62,-187 2272.62,-187\"/>\n",
       "<text text-anchor=\"middle\" x=\"2173.5\" y=\"-169.7\" font-family=\"Helvetica,sans-Serif\" font-size=\"14.00\">forehead_width_cm &lt;= 0.012</text>\n",
       "<text text-anchor=\"middle\" x=\"2173.5\" y=\"-154.7\" font-family=\"Helvetica,sans-Serif\" font-size=\"14.00\">entropy = 0.662</text>\n",
       "<text text-anchor=\"middle\" x=\"2173.5\" y=\"-139.7\" font-family=\"Helvetica,sans-Serif\" font-size=\"14.00\">samples = 186</text>\n",
       "<text text-anchor=\"middle\" x=\"2173.5\" y=\"-124.7\" font-family=\"Helvetica,sans-Serif\" font-size=\"14.00\">value = [154, 32]</text>\n",
       "<text text-anchor=\"middle\" x=\"2173.5\" y=\"-109.7\" font-family=\"Helvetica,sans-Serif\" font-size=\"14.00\">class = distance_nose_to_lip_long</text>\n",
       "</g>\n",
       "<!-- 22&#45;&gt;26 -->\n",
       "<g id=\"edge26\" class=\"edge\">\n",
       "<title>22&#45;&gt;26</title>\n",
       "<path fill=\"none\" stroke=\"black\" d=\"M2028.49,-222.58C2046.91,-212.92 2066.68,-202.55 2085.5,-192.67\"/>\n",
       "<polygon fill=\"black\" stroke=\"black\" points=\"2086.98,-195.85 2094.21,-188.1 2083.73,-189.65 2086.98,-195.85\"/>\n",
       "</g>\n",
       "<!-- 24 -->\n",
       "<g id=\"node25\" class=\"node\">\n",
       "<title>24</title>\n",
       "<path fill=\"#399de5\" stroke=\"black\" d=\"M1844,-68C1844,-68 1687,-68 1687,-68 1681,-68 1675,-62 1675,-56 1675,-56 1675,-12 1675,-12 1675,-6 1681,0 1687,0 1687,0 1844,0 1844,0 1850,0 1856,-6 1856,-12 1856,-12 1856,-56 1856,-56 1856,-62 1850,-68 1844,-68\"/>\n",
       "<text text-anchor=\"middle\" x=\"1765.5\" y=\"-50.7\" font-family=\"Helvetica,sans-Serif\" font-size=\"14.00\">entropy = 0.0</text>\n",
       "<text text-anchor=\"middle\" x=\"1765.5\" y=\"-35.7\" font-family=\"Helvetica,sans-Serif\" font-size=\"14.00\">samples = 36</text>\n",
       "<text text-anchor=\"middle\" x=\"1765.5\" y=\"-20.7\" font-family=\"Helvetica,sans-Serif\" font-size=\"14.00\">value = [0, 36]</text>\n",
       "<text text-anchor=\"middle\" x=\"1765.5\" y=\"-5.7\" font-family=\"Helvetica,sans-Serif\" font-size=\"14.00\">class = forehead_width_cm</text>\n",
       "</g>\n",
       "<!-- 23&#45;&gt;24 -->\n",
       "<g id=\"edge24\" class=\"edge\">\n",
       "<title>23&#45;&gt;24</title>\n",
       "<path fill=\"none\" stroke=\"black\" d=\"M1880.1,-103.57C1864.04,-93.96 1846.97,-83.75 1831.04,-74.22\"/>\n",
       "<polygon fill=\"black\" stroke=\"black\" points=\"1832.96,-71.29 1822.59,-69.16 1829.37,-77.3 1832.96,-71.29\"/>\n",
       "</g>\n",
       "<!-- 25 -->\n",
       "<g id=\"node26\" class=\"node\">\n",
       "<title>25</title>\n",
       "<path fill=\"#55abe9\" stroke=\"black\" d=\"M2043,-68C2043,-68 1886,-68 1886,-68 1880,-68 1874,-62 1874,-56 1874,-56 1874,-12 1874,-12 1874,-6 1880,0 1886,0 1886,0 2043,0 2043,0 2049,0 2055,-6 2055,-12 2055,-12 2055,-56 2055,-56 2055,-62 2049,-68 2043,-68\"/>\n",
       "<text text-anchor=\"middle\" x=\"1964.5\" y=\"-50.7\" font-family=\"Helvetica,sans-Serif\" font-size=\"14.00\">entropy = 0.539</text>\n",
       "<text text-anchor=\"middle\" x=\"1964.5\" y=\"-35.7\" font-family=\"Helvetica,sans-Serif\" font-size=\"14.00\">samples = 219</text>\n",
       "<text text-anchor=\"middle\" x=\"1964.5\" y=\"-20.7\" font-family=\"Helvetica,sans-Serif\" font-size=\"14.00\">value = [27, 192]</text>\n",
       "<text text-anchor=\"middle\" x=\"1964.5\" y=\"-5.7\" font-family=\"Helvetica,sans-Serif\" font-size=\"14.00\">class = forehead_width_cm</text>\n",
       "</g>\n",
       "<!-- 23&#45;&gt;25 -->\n",
       "<g id=\"edge25\" class=\"edge\">\n",
       "<title>23&#45;&gt;25</title>\n",
       "<path fill=\"none\" stroke=\"black\" d=\"M1954.46,-103.73C1955.6,-95.88 1956.81,-87.63 1957.97,-79.67\"/>\n",
       "<polygon fill=\"black\" stroke=\"black\" points=\"1961.43,-80.2 1959.42,-69.8 1954.51,-79.19 1961.43,-80.2\"/>\n",
       "</g>\n",
       "<!-- 27 -->\n",
       "<g id=\"node28\" class=\"node\">\n",
       "<title>27</title>\n",
       "<path fill=\"#399de5\" stroke=\"black\" d=\"M2242,-68C2242,-68 2085,-68 2085,-68 2079,-68 2073,-62 2073,-56 2073,-56 2073,-12 2073,-12 2073,-6 2079,0 2085,0 2085,0 2242,0 2242,0 2248,0 2254,-6 2254,-12 2254,-12 2254,-56 2254,-56 2254,-62 2248,-68 2242,-68\"/>\n",
       "<text text-anchor=\"middle\" x=\"2163.5\" y=\"-50.7\" font-family=\"Helvetica,sans-Serif\" font-size=\"14.00\">entropy = 0.0</text>\n",
       "<text text-anchor=\"middle\" x=\"2163.5\" y=\"-35.7\" font-family=\"Helvetica,sans-Serif\" font-size=\"14.00\">samples = 3</text>\n",
       "<text text-anchor=\"middle\" x=\"2163.5\" y=\"-20.7\" font-family=\"Helvetica,sans-Serif\" font-size=\"14.00\">value = [0, 3]</text>\n",
       "<text text-anchor=\"middle\" x=\"2163.5\" y=\"-5.7\" font-family=\"Helvetica,sans-Serif\" font-size=\"14.00\">class = forehead_width_cm</text>\n",
       "</g>\n",
       "<!-- 26&#45;&gt;27 -->\n",
       "<g id=\"edge27\" class=\"edge\">\n",
       "<title>26&#45;&gt;27</title>\n",
       "<path fill=\"none\" stroke=\"black\" d=\"M2169.78,-103.73C2169.06,-95.88 2168.31,-87.63 2167.58,-79.67\"/>\n",
       "<polygon fill=\"black\" stroke=\"black\" points=\"2171.07,-79.45 2166.68,-69.81 2164.1,-80.08 2171.07,-79.45\"/>\n",
       "</g>\n",
       "<!-- 28 -->\n",
       "<g id=\"node29\" class=\"node\">\n",
       "<title>28</title>\n",
       "<path fill=\"#ea995e\" stroke=\"black\" d=\"M2482.62,-68C2482.62,-68 2284.38,-68 2284.38,-68 2278.38,-68 2272.38,-62 2272.38,-56 2272.38,-56 2272.38,-12 2272.38,-12 2272.38,-6 2278.38,0 2284.38,0 2284.38,0 2482.62,0 2482.62,0 2488.62,0 2494.62,-6 2494.62,-12 2494.62,-12 2494.62,-56 2494.62,-56 2494.62,-62 2488.62,-68 2482.62,-68\"/>\n",
       "<text text-anchor=\"middle\" x=\"2383.5\" y=\"-50.7\" font-family=\"Helvetica,sans-Serif\" font-size=\"14.00\">entropy = 0.631</text>\n",
       "<text text-anchor=\"middle\" x=\"2383.5\" y=\"-35.7\" font-family=\"Helvetica,sans-Serif\" font-size=\"14.00\">samples = 183</text>\n",
       "<text text-anchor=\"middle\" x=\"2383.5\" y=\"-20.7\" font-family=\"Helvetica,sans-Serif\" font-size=\"14.00\">value = [154, 29]</text>\n",
       "<text text-anchor=\"middle\" x=\"2383.5\" y=\"-5.7\" font-family=\"Helvetica,sans-Serif\" font-size=\"14.00\">class = distance_nose_to_lip_long</text>\n",
       "</g>\n",
       "<!-- 26&#45;&gt;28 -->\n",
       "<g id=\"edge28\" class=\"edge\">\n",
       "<title>26&#45;&gt;28</title>\n",
       "<path fill=\"none\" stroke=\"black\" d=\"M2251.99,-103.57C2270.77,-93.78 2290.75,-83.36 2309.33,-73.68\"/>\n",
       "<polygon fill=\"black\" stroke=\"black\" points=\"2310.89,-76.81 2318.14,-69.08 2307.65,-70.6 2310.89,-76.81\"/>\n",
       "</g>\n",
       "<!-- 31 -->\n",
       "<g id=\"node32\" class=\"node\">\n",
       "<title>31</title>\n",
       "<path fill=\"#e88e4e\" stroke=\"black\" d=\"M2732.62,-306C2732.62,-306 2534.38,-306 2534.38,-306 2528.38,-306 2522.38,-300 2522.38,-294 2522.38,-294 2522.38,-235 2522.38,-235 2522.38,-229 2528.38,-223 2534.38,-223 2534.38,-223 2732.62,-223 2732.62,-223 2738.62,-223 2744.62,-229 2744.62,-235 2744.62,-235 2744.62,-294 2744.62,-294 2744.62,-300 2738.62,-306 2732.62,-306\"/>\n",
       "<text text-anchor=\"middle\" x=\"2633.5\" y=\"-288.7\" font-family=\"Helvetica,sans-Serif\" font-size=\"14.00\">forehead_width_cm &lt;= 0.012</text>\n",
       "<text text-anchor=\"middle\" x=\"2633.5\" y=\"-273.7\" font-family=\"Helvetica,sans-Serif\" font-size=\"14.00\">entropy = 0.458</text>\n",
       "<text text-anchor=\"middle\" x=\"2633.5\" y=\"-258.7\" font-family=\"Helvetica,sans-Serif\" font-size=\"14.00\">samples = 269</text>\n",
       "<text text-anchor=\"middle\" x=\"2633.5\" y=\"-243.7\" font-family=\"Helvetica,sans-Serif\" font-size=\"14.00\">value = [243, 26]</text>\n",
       "<text text-anchor=\"middle\" x=\"2633.5\" y=\"-228.7\" font-family=\"Helvetica,sans-Serif\" font-size=\"14.00\">class = distance_nose_to_lip_long</text>\n",
       "</g>\n",
       "<!-- 30&#45;&gt;31 -->\n",
       "<g id=\"edge31\" class=\"edge\">\n",
       "<title>30&#45;&gt;31</title>\n",
       "<path fill=\"none\" stroke=\"black\" d=\"M2633.5,-341.58C2633.5,-333.79 2633.5,-325.53 2633.5,-317.45\"/>\n",
       "<polygon fill=\"black\" stroke=\"black\" points=\"2637,-317.71 2633.5,-307.71 2630,-317.71 2637,-317.71\"/>\n",
       "</g>\n",
       "<!-- 36 -->\n",
       "<g id=\"node37\" class=\"node\">\n",
       "<title>36</title>\n",
       "<path fill=\"#e58139\" stroke=\"black\" d=\"M3202.62,-306C3202.62,-306 3004.38,-306 3004.38,-306 2998.38,-306 2992.38,-300 2992.38,-294 2992.38,-294 2992.38,-235 2992.38,-235 2992.38,-229 2998.38,-223 3004.38,-223 3004.38,-223 3202.62,-223 3202.62,-223 3208.62,-223 3214.62,-229 3214.62,-235 3214.62,-235 3214.62,-294 3214.62,-294 3214.62,-300 3208.62,-306 3202.62,-306\"/>\n",
       "<text text-anchor=\"middle\" x=\"3103.5\" y=\"-288.7\" font-family=\"Helvetica,sans-Serif\" font-size=\"14.00\">forehead_width_cm &lt;= 0.72</text>\n",
       "<text text-anchor=\"middle\" x=\"3103.5\" y=\"-273.7\" font-family=\"Helvetica,sans-Serif\" font-size=\"14.00\">entropy = 0.02</text>\n",
       "<text text-anchor=\"middle\" x=\"3103.5\" y=\"-258.7\" font-family=\"Helvetica,sans-Serif\" font-size=\"14.00\">samples = 1589</text>\n",
       "<text text-anchor=\"middle\" x=\"3103.5\" y=\"-243.7\" font-family=\"Helvetica,sans-Serif\" font-size=\"14.00\">value = [1586, 3]</text>\n",
       "<text text-anchor=\"middle\" x=\"3103.5\" y=\"-228.7\" font-family=\"Helvetica,sans-Serif\" font-size=\"14.00\">class = distance_nose_to_lip_long</text>\n",
       "</g>\n",
       "<!-- 30&#45;&gt;36 -->\n",
       "<g id=\"edge36\" class=\"edge\">\n",
       "<title>30&#45;&gt;36</title>\n",
       "<path fill=\"none\" stroke=\"black\" d=\"M2744.88,-354.77C2815.89,-337.1 2907.94,-314.18 2981.01,-295.99\"/>\n",
       "<polygon fill=\"black\" stroke=\"black\" points=\"2981.78,-299.41 2990.63,-293.6 2980.08,-292.62 2981.78,-299.41\"/>\n",
       "</g>\n",
       "<!-- 32 -->\n",
       "<g id=\"node33\" class=\"node\">\n",
       "<title>32</title>\n",
       "<path fill=\"#399de5\" stroke=\"black\" d=\"M2602,-179.5C2602,-179.5 2445,-179.5 2445,-179.5 2439,-179.5 2433,-173.5 2433,-167.5 2433,-167.5 2433,-123.5 2433,-123.5 2433,-117.5 2439,-111.5 2445,-111.5 2445,-111.5 2602,-111.5 2602,-111.5 2608,-111.5 2614,-117.5 2614,-123.5 2614,-123.5 2614,-167.5 2614,-167.5 2614,-173.5 2608,-179.5 2602,-179.5\"/>\n",
       "<text text-anchor=\"middle\" x=\"2523.5\" y=\"-162.2\" font-family=\"Helvetica,sans-Serif\" font-size=\"14.00\">entropy = 0.0</text>\n",
       "<text text-anchor=\"middle\" x=\"2523.5\" y=\"-147.2\" font-family=\"Helvetica,sans-Serif\" font-size=\"14.00\">samples = 4</text>\n",
       "<text text-anchor=\"middle\" x=\"2523.5\" y=\"-132.2\" font-family=\"Helvetica,sans-Serif\" font-size=\"14.00\">value = [0, 4]</text>\n",
       "<text text-anchor=\"middle\" x=\"2523.5\" y=\"-117.2\" font-family=\"Helvetica,sans-Serif\" font-size=\"14.00\">class = forehead_width_cm</text>\n",
       "</g>\n",
       "<!-- 31&#45;&gt;32 -->\n",
       "<g id=\"edge32\" class=\"edge\">\n",
       "<title>31&#45;&gt;32</title>\n",
       "<path fill=\"none\" stroke=\"black\" d=\"M2595.03,-222.58C2584.56,-211.45 2573.21,-199.38 2562.71,-188.2\"/>\n",
       "<polygon fill=\"black\" stroke=\"black\" points=\"2565.3,-185.85 2555.9,-180.96 2560.2,-190.65 2565.3,-185.85\"/>\n",
       "</g>\n",
       "<!-- 33 -->\n",
       "<g id=\"node34\" class=\"node\">\n",
       "<title>33</title>\n",
       "<path fill=\"#e78c4b\" stroke=\"black\" d=\"M2842.62,-187C2842.62,-187 2644.38,-187 2644.38,-187 2638.38,-187 2632.38,-181 2632.38,-175 2632.38,-175 2632.38,-116 2632.38,-116 2632.38,-110 2638.38,-104 2644.38,-104 2644.38,-104 2842.62,-104 2842.62,-104 2848.62,-104 2854.62,-110 2854.62,-116 2854.62,-116 2854.62,-175 2854.62,-175 2854.62,-181 2848.62,-187 2842.62,-187\"/>\n",
       "<text text-anchor=\"middle\" x=\"2743.5\" y=\"-169.7\" font-family=\"Helvetica,sans-Serif\" font-size=\"14.00\">forehead_width_cm &lt;= 0.72</text>\n",
       "<text text-anchor=\"middle\" x=\"2743.5\" y=\"-154.7\" font-family=\"Helvetica,sans-Serif\" font-size=\"14.00\">entropy = 0.413</text>\n",
       "<text text-anchor=\"middle\" x=\"2743.5\" y=\"-139.7\" font-family=\"Helvetica,sans-Serif\" font-size=\"14.00\">samples = 265</text>\n",
       "<text text-anchor=\"middle\" x=\"2743.5\" y=\"-124.7\" font-family=\"Helvetica,sans-Serif\" font-size=\"14.00\">value = [243, 22]</text>\n",
       "<text text-anchor=\"middle\" x=\"2743.5\" y=\"-109.7\" font-family=\"Helvetica,sans-Serif\" font-size=\"14.00\">class = distance_nose_to_lip_long</text>\n",
       "</g>\n",
       "<!-- 31&#45;&gt;33 -->\n",
       "<g id=\"edge33\" class=\"edge\">\n",
       "<title>31&#45;&gt;33</title>\n",
       "<path fill=\"none\" stroke=\"black\" d=\"M2671.97,-222.58C2680.23,-213.8 2689.03,-204.44 2697.53,-195.39\"/>\n",
       "<polygon fill=\"black\" stroke=\"black\" points=\"2699.9,-197.99 2704.2,-188.3 2694.8,-193.19 2699.9,-197.99\"/>\n",
       "</g>\n",
       "<!-- 34 -->\n",
       "<g id=\"node35\" class=\"node\">\n",
       "<title>34</title>\n",
       "<path fill=\"#e89152\" stroke=\"black\" d=\"M2722.62,-68C2722.62,-68 2524.38,-68 2524.38,-68 2518.38,-68 2512.38,-62 2512.38,-56 2512.38,-56 2512.38,-12 2512.38,-12 2512.38,-6 2518.38,0 2524.38,0 2524.38,0 2722.62,0 2722.62,0 2728.62,0 2734.62,-6 2734.62,-12 2734.62,-12 2734.62,-56 2734.62,-56 2734.62,-62 2728.62,-68 2722.62,-68\"/>\n",
       "<text text-anchor=\"middle\" x=\"2623.5\" y=\"-50.7\" font-family=\"Helvetica,sans-Serif\" font-size=\"14.00\">entropy = 0.502</text>\n",
       "<text text-anchor=\"middle\" x=\"2623.5\" y=\"-35.7\" font-family=\"Helvetica,sans-Serif\" font-size=\"14.00\">samples = 199</text>\n",
       "<text text-anchor=\"middle\" x=\"2623.5\" y=\"-20.7\" font-family=\"Helvetica,sans-Serif\" font-size=\"14.00\">value = [177, 22]</text>\n",
       "<text text-anchor=\"middle\" x=\"2623.5\" y=\"-5.7\" font-family=\"Helvetica,sans-Serif\" font-size=\"14.00\">class = distance_nose_to_lip_long</text>\n",
       "</g>\n",
       "<!-- 33&#45;&gt;34 -->\n",
       "<g id=\"edge34\" class=\"edge\">\n",
       "<title>33&#45;&gt;34</title>\n",
       "<path fill=\"none\" stroke=\"black\" d=\"M2698.82,-103.73C2688.82,-94.61 2678.22,-84.93 2668.22,-75.81\"/>\n",
       "<polygon fill=\"black\" stroke=\"black\" points=\"2670.86,-73.47 2661.11,-69.32 2666.14,-78.65 2670.86,-73.47\"/>\n",
       "</g>\n",
       "<!-- 35 -->\n",
       "<g id=\"node36\" class=\"node\">\n",
       "<title>35</title>\n",
       "<path fill=\"#e58139\" stroke=\"black\" d=\"M2962.62,-68C2962.62,-68 2764.38,-68 2764.38,-68 2758.38,-68 2752.38,-62 2752.38,-56 2752.38,-56 2752.38,-12 2752.38,-12 2752.38,-6 2758.38,0 2764.38,0 2764.38,0 2962.62,0 2962.62,0 2968.62,0 2974.62,-6 2974.62,-12 2974.62,-12 2974.62,-56 2974.62,-56 2974.62,-62 2968.62,-68 2962.62,-68\"/>\n",
       "<text text-anchor=\"middle\" x=\"2863.5\" y=\"-50.7\" font-family=\"Helvetica,sans-Serif\" font-size=\"14.00\">entropy = 0.0</text>\n",
       "<text text-anchor=\"middle\" x=\"2863.5\" y=\"-35.7\" font-family=\"Helvetica,sans-Serif\" font-size=\"14.00\">samples = 66</text>\n",
       "<text text-anchor=\"middle\" x=\"2863.5\" y=\"-20.7\" font-family=\"Helvetica,sans-Serif\" font-size=\"14.00\">value = [66, 0]</text>\n",
       "<text text-anchor=\"middle\" x=\"2863.5\" y=\"-5.7\" font-family=\"Helvetica,sans-Serif\" font-size=\"14.00\">class = distance_nose_to_lip_long</text>\n",
       "</g>\n",
       "<!-- 33&#45;&gt;35 -->\n",
       "<g id=\"edge35\" class=\"edge\">\n",
       "<title>33&#45;&gt;35</title>\n",
       "<path fill=\"none\" stroke=\"black\" d=\"M2788.18,-103.73C2798.18,-94.61 2808.78,-84.93 2818.78,-75.81\"/>\n",
       "<polygon fill=\"black\" stroke=\"black\" points=\"2820.86,-78.65 2825.89,-69.32 2816.14,-73.47 2820.86,-78.65\"/>\n",
       "</g>\n",
       "<!-- 37 -->\n",
       "<g id=\"node38\" class=\"node\">\n",
       "<title>37</title>\n",
       "<path fill=\"#e5813a\" stroke=\"black\" d=\"M3202.62,-187C3202.62,-187 3004.38,-187 3004.38,-187 2998.38,-187 2992.38,-181 2992.38,-175 2992.38,-175 2992.38,-116 2992.38,-116 2992.38,-110 2998.38,-104 3004.38,-104 3004.38,-104 3202.62,-104 3202.62,-104 3208.62,-104 3214.62,-110 3214.62,-116 3214.62,-116 3214.62,-175 3214.62,-175 3214.62,-181 3208.62,-187 3202.62,-187\"/>\n",
       "<text text-anchor=\"middle\" x=\"3103.5\" y=\"-169.7\" font-family=\"Helvetica,sans-Serif\" font-size=\"14.00\">forehead_width_cm &lt;= 0.573</text>\n",
       "<text text-anchor=\"middle\" x=\"3103.5\" y=\"-154.7\" font-family=\"Helvetica,sans-Serif\" font-size=\"14.00\">entropy = 0.027</text>\n",
       "<text text-anchor=\"middle\" x=\"3103.5\" y=\"-139.7\" font-family=\"Helvetica,sans-Serif\" font-size=\"14.00\">samples = 1107</text>\n",
       "<text text-anchor=\"middle\" x=\"3103.5\" y=\"-124.7\" font-family=\"Helvetica,sans-Serif\" font-size=\"14.00\">value = [1104, 3]</text>\n",
       "<text text-anchor=\"middle\" x=\"3103.5\" y=\"-109.7\" font-family=\"Helvetica,sans-Serif\" font-size=\"14.00\">class = distance_nose_to_lip_long</text>\n",
       "</g>\n",
       "<!-- 36&#45;&gt;37 -->\n",
       "<g id=\"edge37\" class=\"edge\">\n",
       "<title>36&#45;&gt;37</title>\n",
       "<path fill=\"none\" stroke=\"black\" d=\"M3103.5,-222.58C3103.5,-214.79 3103.5,-206.53 3103.5,-198.45\"/>\n",
       "<polygon fill=\"black\" stroke=\"black\" points=\"3107,-198.71 3103.5,-188.71 3100,-198.71 3107,-198.71\"/>\n",
       "</g>\n",
       "<!-- 40 -->\n",
       "<g id=\"node41\" class=\"node\">\n",
       "<title>40</title>\n",
       "<path fill=\"#e58139\" stroke=\"black\" d=\"M3442.62,-179.5C3442.62,-179.5 3244.38,-179.5 3244.38,-179.5 3238.38,-179.5 3232.38,-173.5 3232.38,-167.5 3232.38,-167.5 3232.38,-123.5 3232.38,-123.5 3232.38,-117.5 3238.38,-111.5 3244.38,-111.5 3244.38,-111.5 3442.62,-111.5 3442.62,-111.5 3448.62,-111.5 3454.62,-117.5 3454.62,-123.5 3454.62,-123.5 3454.62,-167.5 3454.62,-167.5 3454.62,-173.5 3448.62,-179.5 3442.62,-179.5\"/>\n",
       "<text text-anchor=\"middle\" x=\"3343.5\" y=\"-162.2\" font-family=\"Helvetica,sans-Serif\" font-size=\"14.00\">entropy = 0.0</text>\n",
       "<text text-anchor=\"middle\" x=\"3343.5\" y=\"-147.2\" font-family=\"Helvetica,sans-Serif\" font-size=\"14.00\">samples = 482</text>\n",
       "<text text-anchor=\"middle\" x=\"3343.5\" y=\"-132.2\" font-family=\"Helvetica,sans-Serif\" font-size=\"14.00\">value = [482, 0]</text>\n",
       "<text text-anchor=\"middle\" x=\"3343.5\" y=\"-117.2\" font-family=\"Helvetica,sans-Serif\" font-size=\"14.00\">class = distance_nose_to_lip_long</text>\n",
       "</g>\n",
       "<!-- 36&#45;&gt;40 -->\n",
       "<g id=\"edge40\" class=\"edge\">\n",
       "<title>36&#45;&gt;40</title>\n",
       "<path fill=\"none\" stroke=\"black\" d=\"M3187.44,-222.58C3212.63,-210.3 3240.15,-196.88 3264.97,-184.78\"/>\n",
       "<polygon fill=\"black\" stroke=\"black\" points=\"3266.25,-188.05 3273.71,-180.52 3263.18,-181.76 3266.25,-188.05\"/>\n",
       "</g>\n",
       "<!-- 38 -->\n",
       "<g id=\"node39\" class=\"node\">\n",
       "<title>38</title>\n",
       "<path fill=\"#e58139\" stroke=\"black\" d=\"M3202.62,-68C3202.62,-68 3004.38,-68 3004.38,-68 2998.38,-68 2992.38,-62 2992.38,-56 2992.38,-56 2992.38,-12 2992.38,-12 2992.38,-6 2998.38,0 3004.38,0 3004.38,0 3202.62,0 3202.62,0 3208.62,0 3214.62,-6 3214.62,-12 3214.62,-12 3214.62,-56 3214.62,-56 3214.62,-62 3208.62,-68 3202.62,-68\"/>\n",
       "<text text-anchor=\"middle\" x=\"3103.5\" y=\"-50.7\" font-family=\"Helvetica,sans-Serif\" font-size=\"14.00\">entropy = 0.013</text>\n",
       "<text text-anchor=\"middle\" x=\"3103.5\" y=\"-35.7\" font-family=\"Helvetica,sans-Serif\" font-size=\"14.00\">samples = 851</text>\n",
       "<text text-anchor=\"middle\" x=\"3103.5\" y=\"-20.7\" font-family=\"Helvetica,sans-Serif\" font-size=\"14.00\">value = [850, 1]</text>\n",
       "<text text-anchor=\"middle\" x=\"3103.5\" y=\"-5.7\" font-family=\"Helvetica,sans-Serif\" font-size=\"14.00\">class = distance_nose_to_lip_long</text>\n",
       "</g>\n",
       "<!-- 37&#45;&gt;38 -->\n",
       "<g id=\"edge38\" class=\"edge\">\n",
       "<title>37&#45;&gt;38</title>\n",
       "<path fill=\"none\" stroke=\"black\" d=\"M3103.5,-103.73C3103.5,-95.88 3103.5,-87.63 3103.5,-79.67\"/>\n",
       "<polygon fill=\"black\" stroke=\"black\" points=\"3107,-79.81 3103.5,-69.81 3100,-79.81 3107,-79.81\"/>\n",
       "</g>\n",
       "<!-- 39 -->\n",
       "<g id=\"node40\" class=\"node\">\n",
       "<title>39</title>\n",
       "<path fill=\"#e5823b\" stroke=\"black\" d=\"M3442.62,-68C3442.62,-68 3244.38,-68 3244.38,-68 3238.38,-68 3232.38,-62 3232.38,-56 3232.38,-56 3232.38,-12 3232.38,-12 3232.38,-6 3238.38,0 3244.38,0 3244.38,0 3442.62,0 3442.62,0 3448.62,0 3454.62,-6 3454.62,-12 3454.62,-12 3454.62,-56 3454.62,-56 3454.62,-62 3448.62,-68 3442.62,-68\"/>\n",
       "<text text-anchor=\"middle\" x=\"3343.5\" y=\"-50.7\" font-family=\"Helvetica,sans-Serif\" font-size=\"14.00\">entropy = 0.066</text>\n",
       "<text text-anchor=\"middle\" x=\"3343.5\" y=\"-35.7\" font-family=\"Helvetica,sans-Serif\" font-size=\"14.00\">samples = 256</text>\n",
       "<text text-anchor=\"middle\" x=\"3343.5\" y=\"-20.7\" font-family=\"Helvetica,sans-Serif\" font-size=\"14.00\">value = [254, 2]</text>\n",
       "<text text-anchor=\"middle\" x=\"3343.5\" y=\"-5.7\" font-family=\"Helvetica,sans-Serif\" font-size=\"14.00\">class = distance_nose_to_lip_long</text>\n",
       "</g>\n",
       "<!-- 37&#45;&gt;39 -->\n",
       "<g id=\"edge39\" class=\"edge\">\n",
       "<title>37&#45;&gt;39</title>\n",
       "<path fill=\"none\" stroke=\"black\" d=\"M3193.21,-103.57C3215.06,-93.6 3238.35,-82.97 3259.91,-73.14\"/>\n",
       "<polygon fill=\"black\" stroke=\"black\" points=\"3261.31,-76.34 3268.96,-69.01 3258.41,-69.98 3261.31,-76.34\"/>\n",
       "</g>\n",
       "</g>\n",
       "</svg>\n"
      ],
      "text/plain": [
       "<graphviz.sources.Source at 0x167652430>"
      ]
     },
     "execution_count": 107,
     "metadata": {},
     "output_type": "execute_result"
    }
   ],
   "source": [
    "# (1) DT모델을 dot포맷의 파일로 저장 ==> export_graphviz()\n",
    "from sklearn.tree import export_graphviz\n",
    "import graphviz\n",
    "\n",
    "export_graphviz(dt_grid_search.best_estimator_, out_file='tree.dot',\n",
    "                class_names=['distance_nose_to_lip_long',\n",
    "                             'forehead_width_cm', 'nose_wide', 'lips_thin'],\n",
    "                feature_names=dt_grid_search.best_estimator_.feature_names_in_,\n",
    "                impurity=True, filled=True, rounded=True)\n",
    "\n",
    "# (2) dot파일 출력\n",
    "# 파일에서 데이터 읽어오기\n",
    "with open('tree.dot') as f:\n",
    "    dot_data = f.read()\n",
    "\n",
    "# 화면에 출력하기\n",
    "graphviz.Source(dot_data)"
   ]
  },
  {
   "cell_type": "code",
   "execution_count": null,
   "metadata": {},
   "outputs": [],
   "source": []
  },
  {
   "cell_type": "code",
   "execution_count": null,
   "metadata": {},
   "outputs": [],
   "source": []
  },
  {
   "cell_type": "code",
   "execution_count": null,
   "metadata": {},
   "outputs": [],
   "source": []
  }
 ],
 "metadata": {
  "kernelspec": {
   "display_name": "ML_38",
   "language": "python",
   "name": "python3"
  },
  "language_info": {
   "codemirror_mode": {
    "name": "ipython",
    "version": 3
   },
   "file_extension": ".py",
   "mimetype": "text/x-python",
   "name": "python",
   "nbconvert_exporter": "python",
   "pygments_lexer": "ipython3",
   "version": "3.8.19"
  }
 },
 "nbformat": 4,
 "nbformat_minor": 2
}
