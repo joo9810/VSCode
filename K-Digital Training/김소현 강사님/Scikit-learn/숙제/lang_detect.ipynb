{
 "cells": [
  {
   "cell_type": "code",
   "execution_count": 32,
   "metadata": {},
   "outputs": [],
   "source": [
    "# 모듈로딩\n",
    "import pandas as pd\n",
    "import os\n",
    "from collections import Counter"
   ]
  },
  {
   "cell_type": "code",
   "execution_count": 13,
   "metadata": {},
   "outputs": [],
   "source": [
    "# 데이터 파일\n",
    "TRAIN_PATH = '[머신러닝] 과제 데이터셋/train/'\n",
    "TEST_PATH = '[머신러닝] 과제 데이터셋/test/'\n",
    "TRAIN_CSV = 'lang_test.csv'"
   ]
  },
  {
   "cell_type": "code",
   "execution_count": 14,
   "metadata": {},
   "outputs": [
    {
     "name": "stdout",
     "output_type": "stream",
     "text": [
      "[File Data] \n"
     ]
    }
   ],
   "source": [
    "# 파일 읽기 => open() -> read(), readline(), readlines() -> close()\n",
    "#           => with open() as 구문\n",
    "\n",
    "if not os.path.exists(TRAIN_CSV):\n",
    "    print(f'{TRAIN_CSV}파일이 없습니다.')\n",
    "else:\n",
    "    with open(TRAIN_CSV, mode = 'r') as f:\n",
    "        alldata = f.read()\n",
    "        print(f\"[File Data] {alldata}\")"
   ]
  },
  {
   "cell_type": "code",
   "execution_count": 37,
   "metadata": {},
   "outputs": [
    {
     "name": "stdout",
     "output_type": "stream",
     "text": [
      "tl-20.txt [머신러닝] 과제 데이터셋/train/tl-20.txt True\n",
      "Label => tl\n",
      "alldata => 9000\n",
      "alldata => 7259\n",
      "count_data =>  Counter({'a': 1469, 'n': 834, 'i': 548, 'o': 491, 's': 472, 'e': 466, 'l': 367, 't': 335, 'r': 286, 'd': 269, 'y': 246, 'g': 240, 'p': 224, 'u': 202, 'm': 173, 'b': 165, 'c': 142, 'k': 107, 'h': 49, 'w': 42, 'f': 42, 'v': 35, 'z': 22, 'j': 17, 'q': 13, 'x': 3})\n"
     ]
    }
   ],
   "source": [
    "# 폴더 안에 파일을 가져오기\n",
    "files = os.listdir(TRAIN_PATH)\n",
    "\n",
    "for file in files:\n",
    "    print(file, TRAIN_PATH+file, os.path.exists(TRAIN_PATH+file))\n",
    "    label = file[:2]\n",
    "    print(f'Label => {label}')\n",
    "    with open(TRAIN_PATH+file, mode = 'r') as f:\n",
    "        alldata = f.read()\n",
    "\n",
    "    # - 대소문자 통일\n",
    "    alldata = alldata.lower()\n",
    "    # print(f\"alldata => {alldata}\")\n",
    "\n",
    "    # - 알파벳 아닌 문자들 제거\n",
    "    alldata = alldata.replace('\\n', '')\n",
    "    print(f\"alldata => {len(alldata)}\")\n",
    "\n",
    "    for ch in alldata:\n",
    "        if (ord('a') > ord(ch)) or (ord(ch) > ord('z')):\n",
    "            alldata = alldata.replace(ch, '')\n",
    "    print(f\"alldata => {len(alldata)}\")\n",
    "\n",
    "    # - a ~ z 개수 카운팅\n",
    "    count_data = Counter(alldata)\n",
    "    print( 'count_data => ', count_data)\n",
    "    # data = {}\n",
    "    # for ch in alldata:\n",
    "    #     if ch in data:\n",
    "    #         data[ch] = data[ch] + 1\n",
    "    #     else:\n",
    "    #         data[ch] = 1\n",
    "    # print(data)\n",
    "    break"
   ]
  },
  {
   "cell_type": "code",
   "execution_count": null,
   "metadata": {},
   "outputs": [],
   "source": []
  }
 ],
 "metadata": {
  "kernelspec": {
   "display_name": "ML_38",
   "language": "python",
   "name": "python3"
  },
  "language_info": {
   "codemirror_mode": {
    "name": "ipython",
    "version": 3
   },
   "file_extension": ".py",
   "mimetype": "text/x-python",
   "name": "python",
   "nbconvert_exporter": "python",
   "pygments_lexer": "ipython3",
   "version": "3.8.19"
  }
 },
 "nbformat": 4,
 "nbformat_minor": 2
}
