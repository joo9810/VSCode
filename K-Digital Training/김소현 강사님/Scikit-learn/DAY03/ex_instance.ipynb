{
 "cells": [
  {
   "cell_type": "markdown",
   "metadata": {},
   "source": [
    "### 클래스와 인스턴스"
   ]
  },
  {
   "cell_type": "code",
   "execution_count": 9,
   "metadata": {},
   "outputs": [],
   "source": [
    "# 임시 데이터 생성\n",
    "import random\n",
    "\n",
    "random.seed(10)\n",
    "data = []\n",
    "for _ in range(30):\n",
    "    data.append([random.randint(1, 50)])"
   ]
  },
  {
   "cell_type": "code",
   "execution_count": 10,
   "metadata": {},
   "outputs": [
    {
     "data": {
      "text/plain": [
       "([1], [48])"
      ]
     },
     "execution_count": 10,
     "metadata": {},
     "output_type": "execute_result"
    }
   ],
   "source": [
    "# 스케일러에서 fit()시에 진행\n",
    "min(data), max(data)"
   ]
  },
  {
   "cell_type": "code",
   "execution_count": 12,
   "metadata": {},
   "outputs": [
    {
     "data": {
      "text/plain": [
       "[0.7708333333333334,\n",
       " 0.0625,\n",
       " 0.5833333333333334,\n",
       " 0.6458333333333334,\n",
       " 0.7708333333333334,\n",
       " 0.020833333333333332,\n",
       " 0.2916666666666667,\n",
       " 0.625,\n",
       " 0.6666666666666666,\n",
       " 0.375,\n",
       " 0.875,\n",
       " 0.22916666666666666,\n",
       " 0.0625,\n",
       " 0.7083333333333334,\n",
       " 0.6666666666666666,\n",
       " 0.4375,\n",
       " 0.10416666666666667,\n",
       " 0.3333333333333333,\n",
       " 1.0,\n",
       " 0.5,\n",
       " 0.0625,\n",
       " 0.5625,\n",
       " 0.1875,\n",
       " 0.8125,\n",
       " 0.4791666666666667,\n",
       " 0.5208333333333334,\n",
       " 0.5625,\n",
       " 0.3958333333333333,\n",
       " 0.9166666666666666,\n",
       " 0.3541666666666667]"
      ]
     },
     "execution_count": 12,
     "metadata": {},
     "output_type": "execute_result"
    }
   ],
   "source": [
    "# 스케일러에서 transform()시에 0 ~ 1사이 값으로 전부 변환\n",
    "result = [i[0] / max(data)[0] for i in data]\n",
    "result"
   ]
  },
  {
   "cell_type": "code",
   "execution_count": 13,
   "metadata": {},
   "outputs": [
    {
     "data": {
      "text/plain": [
       "(0.020833333333333332, 1.0)"
      ]
     },
     "execution_count": 13,
     "metadata": {},
     "output_type": "execute_result"
    }
   ],
   "source": [
    "min(result), max(result)"
   ]
  },
  {
   "cell_type": "markdown",
   "metadata": {},
   "source": []
  },
  {
   "cell_type": "code",
   "execution_count": null,
   "metadata": {},
   "outputs": [],
   "source": []
  }
 ],
 "metadata": {
  "kernelspec": {
   "display_name": "ML_38",
   "language": "python",
   "name": "python3"
  },
  "language_info": {
   "codemirror_mode": {
    "name": "ipython",
    "version": 3
   },
   "file_extension": ".py",
   "mimetype": "text/x-python",
   "name": "python",
   "nbconvert_exporter": "python",
   "pygments_lexer": "ipython3",
   "version": "3.8.19"
  }
 },
 "nbformat": 4,
 "nbformat_minor": 2
}
