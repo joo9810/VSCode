{
 "cells": [
  {
   "cell_type": "markdown",
   "metadata": {},
   "source": [
    "### Ensemble - RandomForest & ExtraTree\n",
    "- 배깅 방식의 앙상블 ==> 중복 랜덤 샘플 + 동일 모델(DT)\n",
    "    * 대표 알고리즘 : RandomForestC/R\n",
    "- 페이스트 방식의 앙상블 ==> 랜덤 샘플 + 동일 모델(DT)\n",
    "    * 대표 알고리즘 : ExtraTreeC/R"
   ]
  },
  {
   "cell_type": "markdown",
   "metadata": {},
   "source": [
    "[목표] 와인분류 => (0과 1) 2개 종류 분류"
   ]
  },
  {
   "cell_type": "markdown",
   "metadata": {},
   "source": [
    "[1] 모듈 로딩 및 데이터 준비"
   ]
  },
  {
   "cell_type": "code",
   "execution_count": 1,
   "metadata": {},
   "outputs": [],
   "source": [
    "# 모듈 로딩\n",
    "import pandas as pd\n",
    "import numpy as np\n",
    "import matplotlib.pyplot as plt"
   ]
  },
  {
   "cell_type": "code",
   "execution_count": 4,
   "metadata": {},
   "outputs": [],
   "source": [
    "# 데이터\n",
    "DATA_FILE = '../Data/wine.csv'\n",
    "\n",
    "# CSV >> DataFrame\n",
    "WineDF = pd.read_csv(DATA_FILE)"
   ]
  },
  {
   "cell_type": "code",
   "execution_count": 6,
   "metadata": {},
   "outputs": [
    {
     "name": "stdout",
     "output_type": "stream",
     "text": [
      "<class 'pandas.core.frame.DataFrame'>\n",
      "RangeIndex: 6497 entries, 0 to 6496\n",
      "Data columns (total 4 columns):\n",
      " #   Column   Non-Null Count  Dtype  \n",
      "---  ------   --------------  -----  \n",
      " 0   alcohol  6497 non-null   float64\n",
      " 1   sugar    6497 non-null   float64\n",
      " 2   pH       6497 non-null   float64\n",
      " 3   class    6497 non-null   float64\n",
      "dtypes: float64(4)\n",
      "memory usage: 203.2 KB\n"
     ]
    }
   ],
   "source": [
    "WineDF.info()"
   ]
  },
  {
   "cell_type": "code",
   "execution_count": 7,
   "metadata": {},
   "outputs": [
    {
     "data": {
      "text/html": [
       "<div>\n",
       "<style scoped>\n",
       "    .dataframe tbody tr th:only-of-type {\n",
       "        vertical-align: middle;\n",
       "    }\n",
       "\n",
       "    .dataframe tbody tr th {\n",
       "        vertical-align: top;\n",
       "    }\n",
       "\n",
       "    .dataframe thead th {\n",
       "        text-align: right;\n",
       "    }\n",
       "</style>\n",
       "<table border=\"1\" class=\"dataframe\">\n",
       "  <thead>\n",
       "    <tr style=\"text-align: right;\">\n",
       "      <th></th>\n",
       "      <th>alcohol</th>\n",
       "      <th>sugar</th>\n",
       "      <th>pH</th>\n",
       "      <th>class</th>\n",
       "    </tr>\n",
       "  </thead>\n",
       "  <tbody>\n",
       "    <tr>\n",
       "      <th>0</th>\n",
       "      <td>9.4</td>\n",
       "      <td>1.9</td>\n",
       "      <td>3.51</td>\n",
       "      <td>0.0</td>\n",
       "    </tr>\n",
       "    <tr>\n",
       "      <th>1</th>\n",
       "      <td>9.8</td>\n",
       "      <td>2.6</td>\n",
       "      <td>3.20</td>\n",
       "      <td>0.0</td>\n",
       "    </tr>\n",
       "  </tbody>\n",
       "</table>\n",
       "</div>"
      ],
      "text/plain": [
       "   alcohol  sugar    pH  class\n",
       "0      9.4    1.9  3.51    0.0\n",
       "1      9.8    2.6  3.20    0.0"
      ]
     },
     "execution_count": 7,
     "metadata": {},
     "output_type": "execute_result"
    }
   ],
   "source": [
    "WineDF.head(2)"
   ]
  },
  {
   "cell_type": "code",
   "execution_count": 8,
   "metadata": {},
   "outputs": [
    {
     "data": {
      "text/plain": [
       "class\n",
       "1.0    4898\n",
       "0.0    1599\n",
       "Name: count, dtype: int64"
      ]
     },
     "execution_count": 8,
     "metadata": {},
     "output_type": "execute_result"
    }
   ],
   "source": [
    "# 타겟/라벨의 클래스 분포\n",
    "WineDF['class'].value_counts()"
   ]
  },
  {
   "cell_type": "code",
   "execution_count": 11,
   "metadata": {},
   "outputs": [
    {
     "data": {
      "text/html": [
       "<div>\n",
       "<style scoped>\n",
       "    .dataframe tbody tr th:only-of-type {\n",
       "        vertical-align: middle;\n",
       "    }\n",
       "\n",
       "    .dataframe tbody tr th {\n",
       "        vertical-align: top;\n",
       "    }\n",
       "\n",
       "    .dataframe thead th {\n",
       "        text-align: right;\n",
       "    }\n",
       "</style>\n",
       "<table border=\"1\" class=\"dataframe\">\n",
       "  <thead>\n",
       "    <tr style=\"text-align: right;\">\n",
       "      <th></th>\n",
       "      <th>alcohol</th>\n",
       "      <th>sugar</th>\n",
       "      <th>pH</th>\n",
       "      <th>class</th>\n",
       "    </tr>\n",
       "  </thead>\n",
       "  <tbody>\n",
       "    <tr>\n",
       "      <th>count</th>\n",
       "      <td>6497.000000</td>\n",
       "      <td>6497.000000</td>\n",
       "      <td>6497.000000</td>\n",
       "      <td>6497.000000</td>\n",
       "    </tr>\n",
       "    <tr>\n",
       "      <th>mean</th>\n",
       "      <td>10.491801</td>\n",
       "      <td>5.443235</td>\n",
       "      <td>3.218501</td>\n",
       "      <td>0.753886</td>\n",
       "    </tr>\n",
       "    <tr>\n",
       "      <th>std</th>\n",
       "      <td>1.192712</td>\n",
       "      <td>4.757804</td>\n",
       "      <td>0.160787</td>\n",
       "      <td>0.430779</td>\n",
       "    </tr>\n",
       "    <tr>\n",
       "      <th>min</th>\n",
       "      <td>8.000000</td>\n",
       "      <td>0.600000</td>\n",
       "      <td>2.720000</td>\n",
       "      <td>0.000000</td>\n",
       "    </tr>\n",
       "    <tr>\n",
       "      <th>25%</th>\n",
       "      <td>9.500000</td>\n",
       "      <td>1.800000</td>\n",
       "      <td>3.110000</td>\n",
       "      <td>1.000000</td>\n",
       "    </tr>\n",
       "    <tr>\n",
       "      <th>50%</th>\n",
       "      <td>10.300000</td>\n",
       "      <td>3.000000</td>\n",
       "      <td>3.210000</td>\n",
       "      <td>1.000000</td>\n",
       "    </tr>\n",
       "    <tr>\n",
       "      <th>75%</th>\n",
       "      <td>11.300000</td>\n",
       "      <td>8.100000</td>\n",
       "      <td>3.320000</td>\n",
       "      <td>1.000000</td>\n",
       "    </tr>\n",
       "    <tr>\n",
       "      <th>max</th>\n",
       "      <td>14.900000</td>\n",
       "      <td>65.800000</td>\n",
       "      <td>4.010000</td>\n",
       "      <td>1.000000</td>\n",
       "    </tr>\n",
       "  </tbody>\n",
       "</table>\n",
       "</div>"
      ],
      "text/plain": [
       "           alcohol        sugar           pH        class\n",
       "count  6497.000000  6497.000000  6497.000000  6497.000000\n",
       "mean     10.491801     5.443235     3.218501     0.753886\n",
       "std       1.192712     4.757804     0.160787     0.430779\n",
       "min       8.000000     0.600000     2.720000     0.000000\n",
       "25%       9.500000     1.800000     3.110000     1.000000\n",
       "50%      10.300000     3.000000     3.210000     1.000000\n",
       "75%      11.300000     8.100000     3.320000     1.000000\n",
       "max      14.900000    65.800000     4.010000     1.000000"
      ]
     },
     "execution_count": 11,
     "metadata": {},
     "output_type": "execute_result"
    }
   ],
   "source": [
    "WineDF.describe()"
   ]
  },
  {
   "cell_type": "markdown",
   "metadata": {},
   "source": [
    "[2] 학습 준비"
   ]
  },
  {
   "cell_type": "code",
   "execution_count": 12,
   "metadata": {},
   "outputs": [],
   "source": [
    "# 학습용 & 테스트용 데이터셋 분할\n",
    "from sklearn.model_selection import train_test_split"
   ]
  },
  {
   "cell_type": "code",
   "execution_count": 15,
   "metadata": {},
   "outputs": [
    {
     "name": "stdout",
     "output_type": "stream",
     "text": [
      "featureDF : (6497, 3), targetSR : (6497,)\n"
     ]
    }
   ],
   "source": [
    "featureDF = WineDF.iloc[:, :3]\n",
    "targetSR = WineDF['class']\n",
    "\n",
    "print(f\"featureDF : {featureDF.shape}, targetSR : {targetSR.shape}\")"
   ]
  },
  {
   "cell_type": "code",
   "execution_count": 20,
   "metadata": {},
   "outputs": [
    {
     "name": "stdout",
     "output_type": "stream",
     "text": [
      "X_train : (5197, 3), y_train : (5197,)\n",
      "X_test : (1300, 3), y_test : (1300,)\n"
     ]
    }
   ],
   "source": [
    "X_train, X_test, y_train, y_test = train_test_split(featureDF, targetSR,\n",
    "                                                    stratify=targetSR,\n",
    "                                                    test_size=0.2,\n",
    "                                                    random_state=1)\n",
    "\n",
    "print(f\"X_train : {X_train.shape}, y_train : {y_train.shape}\")\n",
    "print(f\"X_test : {X_test.shape}, y_test : {y_test.shape}\")"
   ]
  },
  {
   "cell_type": "markdown",
   "metadata": {},
   "source": [
    "[3] 학습 진행"
   ]
  },
  {
   "cell_type": "code",
   "execution_count": 22,
   "metadata": {},
   "outputs": [],
   "source": [
    "# 학습방법 : 지도학습 > 분류\n",
    "# 알고리즘 : 앙상블 > 배깅 - RandomForestClassifier\n",
    "from sklearn.ensemble import RandomForestClassifier"
   ]
  },
  {
   "cell_type": "code",
   "execution_count": 36,
   "metadata": {},
   "outputs": [
    {
     "data": {
      "text/html": [
       "<style>#sk-container-id-4 {color: black;}#sk-container-id-4 pre{padding: 0;}#sk-container-id-4 div.sk-toggleable {background-color: white;}#sk-container-id-4 label.sk-toggleable__label {cursor: pointer;display: block;width: 100%;margin-bottom: 0;padding: 0.3em;box-sizing: border-box;text-align: center;}#sk-container-id-4 label.sk-toggleable__label-arrow:before {content: \"▸\";float: left;margin-right: 0.25em;color: #696969;}#sk-container-id-4 label.sk-toggleable__label-arrow:hover:before {color: black;}#sk-container-id-4 div.sk-estimator:hover label.sk-toggleable__label-arrow:before {color: black;}#sk-container-id-4 div.sk-toggleable__content {max-height: 0;max-width: 0;overflow: hidden;text-align: left;background-color: #f0f8ff;}#sk-container-id-4 div.sk-toggleable__content pre {margin: 0.2em;color: black;border-radius: 0.25em;background-color: #f0f8ff;}#sk-container-id-4 input.sk-toggleable__control:checked~div.sk-toggleable__content {max-height: 200px;max-width: 100%;overflow: auto;}#sk-container-id-4 input.sk-toggleable__control:checked~label.sk-toggleable__label-arrow:before {content: \"▾\";}#sk-container-id-4 div.sk-estimator input.sk-toggleable__control:checked~label.sk-toggleable__label {background-color: #d4ebff;}#sk-container-id-4 div.sk-label input.sk-toggleable__control:checked~label.sk-toggleable__label {background-color: #d4ebff;}#sk-container-id-4 input.sk-hidden--visually {border: 0;clip: rect(1px 1px 1px 1px);clip: rect(1px, 1px, 1px, 1px);height: 1px;margin: -1px;overflow: hidden;padding: 0;position: absolute;width: 1px;}#sk-container-id-4 div.sk-estimator {font-family: monospace;background-color: #f0f8ff;border: 1px dotted black;border-radius: 0.25em;box-sizing: border-box;margin-bottom: 0.5em;}#sk-container-id-4 div.sk-estimator:hover {background-color: #d4ebff;}#sk-container-id-4 div.sk-parallel-item::after {content: \"\";width: 100%;border-bottom: 1px solid gray;flex-grow: 1;}#sk-container-id-4 div.sk-label:hover label.sk-toggleable__label {background-color: #d4ebff;}#sk-container-id-4 div.sk-serial::before {content: \"\";position: absolute;border-left: 1px solid gray;box-sizing: border-box;top: 0;bottom: 0;left: 50%;z-index: 0;}#sk-container-id-4 div.sk-serial {display: flex;flex-direction: column;align-items: center;background-color: white;padding-right: 0.2em;padding-left: 0.2em;position: relative;}#sk-container-id-4 div.sk-item {position: relative;z-index: 1;}#sk-container-id-4 div.sk-parallel {display: flex;align-items: stretch;justify-content: center;background-color: white;position: relative;}#sk-container-id-4 div.sk-item::before, #sk-container-id-4 div.sk-parallel-item::before {content: \"\";position: absolute;border-left: 1px solid gray;box-sizing: border-box;top: 0;bottom: 0;left: 50%;z-index: -1;}#sk-container-id-4 div.sk-parallel-item {display: flex;flex-direction: column;z-index: 1;position: relative;background-color: white;}#sk-container-id-4 div.sk-parallel-item:first-child::after {align-self: flex-end;width: 50%;}#sk-container-id-4 div.sk-parallel-item:last-child::after {align-self: flex-start;width: 50%;}#sk-container-id-4 div.sk-parallel-item:only-child::after {width: 0;}#sk-container-id-4 div.sk-dashed-wrapped {border: 1px dashed gray;margin: 0 0.4em 0.5em 0.4em;box-sizing: border-box;padding-bottom: 0.4em;background-color: white;}#sk-container-id-4 div.sk-label label {font-family: monospace;font-weight: bold;display: inline-block;line-height: 1.2em;}#sk-container-id-4 div.sk-label-container {text-align: center;}#sk-container-id-4 div.sk-container {/* jupyter's `normalize.less` sets `[hidden] { display: none; }` but bootstrap.min.css set `[hidden] { display: none !important; }` so we also need the `!important` here to be able to override the default hidden behavior on the sphinx rendered scikit-learn.org. See: https://github.com/scikit-learn/scikit-learn/issues/21755 */display: inline-block !important;position: relative;}#sk-container-id-4 div.sk-text-repr-fallback {display: none;}</style><div id=\"sk-container-id-4\" class=\"sk-top-container\"><div class=\"sk-text-repr-fallback\"><pre>RandomForestClassifier(oob_score=True, random_state=7)</pre><b>In a Jupyter environment, please rerun this cell to show the HTML representation or trust the notebook. <br />On GitHub, the HTML representation is unable to render, please try loading this page with nbviewer.org.</b></div><div class=\"sk-container\" hidden><div class=\"sk-item\"><div class=\"sk-estimator sk-toggleable\"><input class=\"sk-toggleable__control sk-hidden--visually\" id=\"sk-estimator-id-4\" type=\"checkbox\" checked><label for=\"sk-estimator-id-4\" class=\"sk-toggleable__label sk-toggleable__label-arrow\">RandomForestClassifier</label><div class=\"sk-toggleable__content\"><pre>RandomForestClassifier(oob_score=True, random_state=7)</pre></div></div></div></div></div>"
      ],
      "text/plain": [
       "RandomForestClassifier(oob_score=True, random_state=7)"
      ]
     },
     "execution_count": 36,
     "metadata": {},
     "output_type": "execute_result"
    }
   ],
   "source": [
    "# 인스턴스 생성 => 100개의 내부 DT 모델에서 사용할 데이터셋 생성\n",
    "#                  random_state 매개변수 설정으로 고정된 데이터셋 생성\n",
    "#                  oob_score 매개변수 : 샘플 데이터셋 추출 후 남은 데이터셋 검증용으로 사용\n",
    "rf = RandomForestClassifier(random_state=7,\n",
    "                            oob_score=True)\n",
    "\n",
    "# 학습\n",
    "rf.fit(X_train, y_train)"
   ]
  },
  {
   "cell_type": "code",
   "execution_count": 27,
   "metadata": {},
   "outputs": [
    {
     "name": "stdout",
     "output_type": "stream",
     "text": [
      "rf.classes_ : [0. 1.]\n",
      "rf.n_classes_ : 2개\n",
      "\n",
      "rf.feature_names_in_ : ['alcohol' 'sugar' 'pH']\n",
      "rf.n_features_in_ : 3\n",
      "rf.feature_importances_ : [0.23614754 0.49961563 0.26423683]\n"
     ]
    }
   ],
   "source": [
    "# 모델 파라미터\n",
    "print(f\"rf.classes_ : {rf.classes_}\")\n",
    "print(f\"rf.n_classes_ : {rf.n_classes_}개\")\n",
    "print()\n",
    "print(f\"rf.feature_names_in_ : {rf.feature_names_in_}\")\n",
    "print(f\"rf.n_features_in_ : {rf.n_features_in_}\")\n",
    "print(f\"rf.feature_importances_ : {rf.feature_importances_}\")"
   ]
  },
  {
   "cell_type": "code",
   "execution_count": 29,
   "metadata": {},
   "outputs": [
    {
     "name": "stdout",
     "output_type": "stream",
     "text": [
      "classes_         : DecisionTreeClassifier()\n",
      "DecisionTreeClassifier(max_features='sqrt', random_state=327741615)\n",
      "DecisionTreeClassifier(max_features='sqrt', random_state=976413892)\n",
      "DecisionTreeClassifier(max_features='sqrt', random_state=1202242073)\n",
      "DecisionTreeClassifier(max_features='sqrt', random_state=1369975286)\n",
      "DecisionTreeClassifier(max_features='sqrt', random_state=1882953283)\n",
      "DecisionTreeClassifier(max_features='sqrt', random_state=2053951699)\n",
      "DecisionTreeClassifier(max_features='sqrt', random_state=959775639)\n",
      "DecisionTreeClassifier(max_features='sqrt', random_state=1956722279)\n",
      "DecisionTreeClassifier(max_features='sqrt', random_state=2052949340)\n",
      "DecisionTreeClassifier(max_features='sqrt', random_state=1322904761)\n",
      "DecisionTreeClassifier(max_features='sqrt', random_state=165338510)\n",
      "DecisionTreeClassifier(max_features='sqrt', random_state=1133316631)\n",
      "DecisionTreeClassifier(max_features='sqrt', random_state=4812360)\n",
      "DecisionTreeClassifier(max_features='sqrt', random_state=372560217)\n",
      "DecisionTreeClassifier(max_features='sqrt', random_state=309457262)\n",
      "DecisionTreeClassifier(max_features='sqrt', random_state=1801189930)\n",
      "DecisionTreeClassifier(max_features='sqrt', random_state=1152936666)\n",
      "DecisionTreeClassifier(max_features='sqrt', random_state=68334472)\n",
      "DecisionTreeClassifier(max_features='sqrt', random_state=2146978983)\n",
      "DecisionTreeClassifier(max_features='sqrt', random_state=119248870)\n",
      "DecisionTreeClassifier(max_features='sqrt', random_state=769786948)\n",
      "DecisionTreeClassifier(max_features='sqrt', random_state=1583990192)\n",
      "DecisionTreeClassifier(max_features='sqrt', random_state=1304549247)\n",
      "DecisionTreeClassifier(max_features='sqrt', random_state=1420943751)\n",
      "DecisionTreeClassifier(max_features='sqrt', random_state=1636129708)\n",
      "DecisionTreeClassifier(max_features='sqrt', random_state=1687674368)\n",
      "DecisionTreeClassifier(max_features='sqrt', random_state=283194443)\n",
      "DecisionTreeClassifier(max_features='sqrt', random_state=748743479)\n",
      "DecisionTreeClassifier(max_features='sqrt', random_state=1237575930)\n",
      "DecisionTreeClassifier(max_features='sqrt', random_state=740097030)\n",
      "DecisionTreeClassifier(max_features='sqrt', random_state=1759190803)\n",
      "DecisionTreeClassifier(max_features='sqrt', random_state=833359292)\n",
      "DecisionTreeClassifier(max_features='sqrt', random_state=916483116)\n",
      "DecisionTreeClassifier(max_features='sqrt', random_state=1485942463)\n",
      "DecisionTreeClassifier(max_features='sqrt', random_state=1941857605)\n",
      "DecisionTreeClassifier(max_features='sqrt', random_state=1844809528)\n",
      "DecisionTreeClassifier(max_features='sqrt', random_state=1852015768)\n",
      "DecisionTreeClassifier(max_features='sqrt', random_state=1127788727)\n",
      "DecisionTreeClassifier(max_features='sqrt', random_state=106941365)\n",
      "DecisionTreeClassifier(max_features='sqrt', random_state=1077017712)\n",
      "DecisionTreeClassifier(max_features='sqrt', random_state=431854331)\n",
      "DecisionTreeClassifier(max_features='sqrt', random_state=1094761661)\n",
      "DecisionTreeClassifier(max_features='sqrt', random_state=1933291456)\n",
      "DecisionTreeClassifier(max_features='sqrt', random_state=1508798754)\n",
      "DecisionTreeClassifier(max_features='sqrt', random_state=989143352)\n",
      "DecisionTreeClassifier(max_features='sqrt', random_state=747550921)\n",
      "DecisionTreeClassifier(max_features='sqrt', random_state=208262606)\n",
      "DecisionTreeClassifier(max_features='sqrt', random_state=1248819750)\n",
      "DecisionTreeClassifier(max_features='sqrt', random_state=1757192964)\n",
      "DecisionTreeClassifier(max_features='sqrt', random_state=1879603694)\n",
      "DecisionTreeClassifier(max_features='sqrt', random_state=571958409)\n",
      "DecisionTreeClassifier(max_features='sqrt', random_state=1927692119)\n",
      "DecisionTreeClassifier(max_features='sqrt', random_state=100556259)\n",
      "DecisionTreeClassifier(max_features='sqrt', random_state=1652057283)\n",
      "DecisionTreeClassifier(max_features='sqrt', random_state=1075502152)\n",
      "DecisionTreeClassifier(max_features='sqrt', random_state=1535344467)\n",
      "DecisionTreeClassifier(max_features='sqrt', random_state=725906352)\n",
      "DecisionTreeClassifier(max_features='sqrt', random_state=830456065)\n",
      "DecisionTreeClassifier(max_features='sqrt', random_state=2008983232)\n",
      "DecisionTreeClassifier(max_features='sqrt', random_state=431532432)\n",
      "DecisionTreeClassifier(max_features='sqrt', random_state=879820150)\n",
      "DecisionTreeClassifier(max_features='sqrt', random_state=2072909727)\n",
      "DecisionTreeClassifier(max_features='sqrt', random_state=2107823453)\n",
      "DecisionTreeClassifier(max_features='sqrt', random_state=488352684)\n",
      "DecisionTreeClassifier(max_features='sqrt', random_state=1599380060)\n",
      "DecisionTreeClassifier(max_features='sqrt', random_state=1938096892)\n",
      "DecisionTreeClassifier(max_features='sqrt', random_state=2050422343)\n",
      "DecisionTreeClassifier(max_features='sqrt', random_state=1497897239)\n",
      "DecisionTreeClassifier(max_features='sqrt', random_state=1571487242)\n",
      "DecisionTreeClassifier(max_features='sqrt', random_state=1187621609)\n",
      "DecisionTreeClassifier(max_features='sqrt', random_state=1451346723)\n",
      "DecisionTreeClassifier(max_features='sqrt', random_state=1917728192)\n",
      "DecisionTreeClassifier(max_features='sqrt', random_state=1153832253)\n",
      "DecisionTreeClassifier(max_features='sqrt', random_state=1966724487)\n",
      "DecisionTreeClassifier(max_features='sqrt', random_state=1348596887)\n",
      "DecisionTreeClassifier(max_features='sqrt', random_state=771276892)\n",
      "DecisionTreeClassifier(max_features='sqrt', random_state=311923447)\n",
      "DecisionTreeClassifier(max_features='sqrt', random_state=612959456)\n",
      "DecisionTreeClassifier(max_features='sqrt', random_state=1185621653)\n",
      "DecisionTreeClassifier(max_features='sqrt', random_state=358664548)\n",
      "DecisionTreeClassifier(max_features='sqrt', random_state=1944945571)\n",
      "DecisionTreeClassifier(max_features='sqrt', random_state=202873313)\n",
      "DecisionTreeClassifier(max_features='sqrt', random_state=1516030531)\n",
      "DecisionTreeClassifier(max_features='sqrt', random_state=1332338555)\n",
      "DecisionTreeClassifier(max_features='sqrt', random_state=676025563)\n",
      "DecisionTreeClassifier(max_features='sqrt', random_state=1214271969)\n",
      "DecisionTreeClassifier(max_features='sqrt', random_state=1590645779)\n",
      "DecisionTreeClassifier(max_features='sqrt', random_state=1808153499)\n",
      "DecisionTreeClassifier(max_features='sqrt', random_state=1971789316)\n",
      "DecisionTreeClassifier(max_features='sqrt', random_state=1861190419)\n",
      "DecisionTreeClassifier(max_features='sqrt', random_state=941989921)\n",
      "DecisionTreeClassifier(max_features='sqrt', random_state=1798548603)\n",
      "DecisionTreeClassifier(max_features='sqrt', random_state=1773786398)\n",
      "DecisionTreeClassifier(max_features='sqrt', random_state=2088312505)\n",
      "DecisionTreeClassifier(max_features='sqrt', random_state=1745574629)\n",
      "DecisionTreeClassifier(max_features='sqrt', random_state=1260873545)\n",
      "DecisionTreeClassifier(max_features='sqrt', random_state=775033821)\n",
      "DecisionTreeClassifier(max_features='sqrt', random_state=1474484177)\n",
      "DecisionTreeClassifier(max_features='sqrt', random_state=1035597695)\n",
      "DecisionTreeClassifier(max_features='sqrt', random_state=1289946527)\n"
     ]
    }
   ],
   "source": [
    "# 모델 파라미터\n",
    "print(f\"classes_         : {rf.estimator_}\")\n",
    "for i in rf.estimators_: print(i)"
   ]
  },
  {
   "cell_type": "code",
   "execution_count": 37,
   "metadata": {},
   "outputs": [
    {
     "name": "stdout",
     "output_type": "stream",
     "text": [
      "oob_score_ : 0.8949393881085241\n"
     ]
    }
   ],
   "source": [
    "print(f\"oob_score_ : {rf.oob_score_}\")"
   ]
  },
  {
   "cell_type": "markdown",
   "metadata": {},
   "source": [
    "[4] 성능평가"
   ]
  },
  {
   "cell_type": "code",
   "execution_count": 34,
   "metadata": {},
   "outputs": [],
   "source": [
    "train_score = rf.score(X_train, y_train)\n",
    "test_score = rf.score(X_test, y_test)"
   ]
  },
  {
   "cell_type": "code",
   "execution_count": 35,
   "metadata": {},
   "outputs": [
    {
     "name": "stdout",
     "output_type": "stream",
     "text": [
      "0.9973061381566288 0.9015384615384615\n"
     ]
    }
   ],
   "source": [
    "print(f\"{train_score} {test_score}\")"
   ]
  },
  {
   "cell_type": "markdown",
   "metadata": {},
   "source": [
    "[5] 튜닝"
   ]
  },
  {
   "cell_type": "markdown",
   "metadata": {},
   "source": [
    "- RandomizedSearchCV 하이퍼 파라미터 최적화 클래스\n",
    "    * 범위가 넓은 하이퍼 파라미터 설정에 좋음\n",
    "    * 지정된 범위에서 지정된 횟수 만큼 하이퍼 파라미터를 추출하여 조합 진행"
   ]
  },
  {
   "cell_type": "code",
   "execution_count": 39,
   "metadata": {},
   "outputs": [],
   "source": [
    "# 모듈 로딩\n",
    "from sklearn.model_selection import RandomizedSearchCV"
   ]
  },
  {
   "cell_type": "code",
   "execution_count": 56,
   "metadata": {},
   "outputs": [],
   "source": [
    "# RandomForestClassifier 하이퍼 파라미터 설정\n",
    "params = {'max_depth' : range(2, 16),\n",
    "          'min_samples_leaf' : range(5, 16),\n",
    "          'criterion' : ['gini', 'entropy', 'log_loss']}"
   ]
  },
  {
   "cell_type": "code",
   "execution_count": 57,
   "metadata": {},
   "outputs": [],
   "source": [
    "rf = RandomForestClassifier(random_state=7)"
   ]
  },
  {
   "cell_type": "code",
   "execution_count": 58,
   "metadata": {},
   "outputs": [],
   "source": [
    "searchCV = RandomizedSearchCV(rf, param_distributions=params,\n",
    "                              n_iter=50, verbose=4)"
   ]
  },
  {
   "cell_type": "code",
   "execution_count": 59,
   "metadata": {},
   "outputs": [
    {
     "name": "stdout",
     "output_type": "stream",
     "text": [
      "Fitting 5 folds for each of 50 candidates, totalling 250 fits\n",
      "[CV 1/5] END criterion=entropy, max_depth=10, min_samples_leaf=15;, score=0.871 total time=   0.2s\n",
      "[CV 2/5] END criterion=entropy, max_depth=10, min_samples_leaf=15;, score=0.839 total time=   0.2s\n",
      "[CV 3/5] END criterion=entropy, max_depth=10, min_samples_leaf=15;, score=0.877 total time=   0.2s\n",
      "[CV 4/5] END criterion=entropy, max_depth=10, min_samples_leaf=15;, score=0.882 total time=   0.2s\n",
      "[CV 5/5] END criterion=entropy, max_depth=10, min_samples_leaf=15;, score=0.869 total time=   0.2s\n",
      "[CV 1/5] END criterion=log_loss, max_depth=8, min_samples_leaf=6;, score=0.872 total time=   0.2s\n",
      "[CV 2/5] END criterion=log_loss, max_depth=8, min_samples_leaf=6;, score=0.838 total time=   0.2s\n",
      "[CV 3/5] END criterion=log_loss, max_depth=8, min_samples_leaf=6;, score=0.879 total time=   0.2s\n",
      "[CV 4/5] END criterion=log_loss, max_depth=8, min_samples_leaf=6;, score=0.880 total time=   0.2s\n",
      "[CV 5/5] END criterion=log_loss, max_depth=8, min_samples_leaf=6;, score=0.872 total time=   0.2s\n",
      "[CV 1/5] END criterion=gini, max_depth=14, min_samples_leaf=7;, score=0.881 total time=   0.2s\n",
      "[CV 2/5] END criterion=gini, max_depth=14, min_samples_leaf=7;, score=0.844 total time=   0.2s\n",
      "[CV 3/5] END criterion=gini, max_depth=14, min_samples_leaf=7;, score=0.878 total time=   0.2s\n",
      "[CV 4/5] END criterion=gini, max_depth=14, min_samples_leaf=7;, score=0.884 total time=   0.2s\n",
      "[CV 5/5] END criterion=gini, max_depth=14, min_samples_leaf=7;, score=0.874 total time=   0.2s\n",
      "[CV 1/5] END criterion=gini, max_depth=10, min_samples_leaf=15;, score=0.869 total time=   0.2s\n",
      "[CV 2/5] END criterion=gini, max_depth=10, min_samples_leaf=15;, score=0.837 total time=   0.2s\n",
      "[CV 3/5] END criterion=gini, max_depth=10, min_samples_leaf=15;, score=0.881 total time=   0.2s\n",
      "[CV 4/5] END criterion=gini, max_depth=10, min_samples_leaf=15;, score=0.883 total time=   0.2s\n",
      "[CV 5/5] END criterion=gini, max_depth=10, min_samples_leaf=15;, score=0.867 total time=   0.2s\n",
      "[CV 1/5] END criterion=gini, max_depth=8, min_samples_leaf=12;, score=0.869 total time=   0.2s\n",
      "[CV 2/5] END criterion=gini, max_depth=8, min_samples_leaf=12;, score=0.838 total time=   0.2s\n",
      "[CV 3/5] END criterion=gini, max_depth=8, min_samples_leaf=12;, score=0.876 total time=   0.2s\n",
      "[CV 4/5] END criterion=gini, max_depth=8, min_samples_leaf=12;, score=0.875 total time=   0.2s\n",
      "[CV 5/5] END criterion=gini, max_depth=8, min_samples_leaf=12;, score=0.866 total time=   0.2s\n",
      "[CV 1/5] END criterion=entropy, max_depth=15, min_samples_leaf=6;, score=0.882 total time=   0.2s\n",
      "[CV 2/5] END criterion=entropy, max_depth=15, min_samples_leaf=6;, score=0.845 total time=   0.2s\n",
      "[CV 3/5] END criterion=entropy, max_depth=15, min_samples_leaf=6;, score=0.886 total time=   0.2s\n",
      "[CV 4/5] END criterion=entropy, max_depth=15, min_samples_leaf=6;, score=0.885 total time=   0.2s\n",
      "[CV 5/5] END criterion=entropy, max_depth=15, min_samples_leaf=6;, score=0.882 total time=   0.2s\n",
      "[CV 1/5] END criterion=log_loss, max_depth=14, min_samples_leaf=7;, score=0.882 total time=   0.2s\n",
      "[CV 2/5] END criterion=log_loss, max_depth=14, min_samples_leaf=7;, score=0.846 total time=   0.2s\n",
      "[CV 3/5] END criterion=log_loss, max_depth=14, min_samples_leaf=7;, score=0.881 total time=   0.2s\n",
      "[CV 4/5] END criterion=log_loss, max_depth=14, min_samples_leaf=7;, score=0.886 total time=   0.2s\n",
      "[CV 5/5] END criterion=log_loss, max_depth=14, min_samples_leaf=7;, score=0.879 total time=   0.2s\n",
      "[CV 1/5] END criterion=gini, max_depth=11, min_samples_leaf=9;, score=0.876 total time=   0.2s\n",
      "[CV 2/5] END criterion=gini, max_depth=11, min_samples_leaf=9;, score=0.834 total time=   0.2s\n",
      "[CV 3/5] END criterion=gini, max_depth=11, min_samples_leaf=9;, score=0.879 total time=   0.2s\n",
      "[CV 4/5] END criterion=gini, max_depth=11, min_samples_leaf=9;, score=0.881 total time=   0.2s\n",
      "[CV 5/5] END criterion=gini, max_depth=11, min_samples_leaf=9;, score=0.876 total time=   0.2s\n",
      "[CV 1/5] END criterion=log_loss, max_depth=11, min_samples_leaf=8;, score=0.875 total time=   0.2s\n",
      "[CV 2/5] END criterion=log_loss, max_depth=11, min_samples_leaf=8;, score=0.839 total time=   0.2s\n",
      "[CV 3/5] END criterion=log_loss, max_depth=11, min_samples_leaf=8;, score=0.877 total time=   0.2s\n",
      "[CV 4/5] END criterion=log_loss, max_depth=11, min_samples_leaf=8;, score=0.885 total time=   0.2s\n",
      "[CV 5/5] END criterion=log_loss, max_depth=11, min_samples_leaf=8;, score=0.878 total time=   0.2s\n",
      "[CV 1/5] END criterion=gini, max_depth=13, min_samples_leaf=7;, score=0.877 total time=   0.2s\n",
      "[CV 2/5] END criterion=gini, max_depth=13, min_samples_leaf=7;, score=0.844 total time=   0.2s\n",
      "[CV 3/5] END criterion=gini, max_depth=13, min_samples_leaf=7;, score=0.880 total time=   0.2s\n",
      "[CV 4/5] END criterion=gini, max_depth=13, min_samples_leaf=7;, score=0.883 total time=   0.2s\n",
      "[CV 5/5] END criterion=gini, max_depth=13, min_samples_leaf=7;, score=0.874 total time=   0.2s\n",
      "[CV 1/5] END criterion=log_loss, max_depth=3, min_samples_leaf=7;, score=0.800 total time=   0.1s\n",
      "[CV 2/5] END criterion=log_loss, max_depth=3, min_samples_leaf=7;, score=0.800 total time=   0.1s\n",
      "[CV 3/5] END criterion=log_loss, max_depth=3, min_samples_leaf=7;, score=0.809 total time=   0.1s\n",
      "[CV 4/5] END criterion=log_loss, max_depth=3, min_samples_leaf=7;, score=0.835 total time=   0.1s\n",
      "[CV 5/5] END criterion=log_loss, max_depth=3, min_samples_leaf=7;, score=0.818 total time=   0.1s\n",
      "[CV 1/5] END criterion=gini, max_depth=15, min_samples_leaf=15;, score=0.873 total time=   0.2s\n",
      "[CV 2/5] END criterion=gini, max_depth=15, min_samples_leaf=15;, score=0.836 total time=   0.2s\n",
      "[CV 3/5] END criterion=gini, max_depth=15, min_samples_leaf=15;, score=0.882 total time=   0.2s\n",
      "[CV 4/5] END criterion=gini, max_depth=15, min_samples_leaf=15;, score=0.880 total time=   0.2s\n",
      "[CV 5/5] END criterion=gini, max_depth=15, min_samples_leaf=15;, score=0.872 total time=   0.2s\n",
      "[CV 1/5] END criterion=entropy, max_depth=12, min_samples_leaf=15;, score=0.875 total time=   0.2s\n",
      "[CV 2/5] END criterion=entropy, max_depth=12, min_samples_leaf=15;, score=0.837 total time=   0.2s\n",
      "[CV 3/5] END criterion=entropy, max_depth=12, min_samples_leaf=15;, score=0.874 total time=   0.2s\n",
      "[CV 4/5] END criterion=entropy, max_depth=12, min_samples_leaf=15;, score=0.885 total time=   0.2s\n",
      "[CV 5/5] END criterion=entropy, max_depth=12, min_samples_leaf=15;, score=0.868 total time=   0.2s\n",
      "[CV 1/5] END criterion=log_loss, max_depth=4, min_samples_leaf=5;, score=0.835 total time=   0.1s\n",
      "[CV 2/5] END criterion=log_loss, max_depth=4, min_samples_leaf=5;, score=0.837 total time=   0.1s\n",
      "[CV 3/5] END criterion=log_loss, max_depth=4, min_samples_leaf=5;, score=0.851 total time=   0.1s\n",
      "[CV 4/5] END criterion=log_loss, max_depth=4, min_samples_leaf=5;, score=0.859 total time=   0.1s\n",
      "[CV 5/5] END criterion=log_loss, max_depth=4, min_samples_leaf=5;, score=0.846 total time=   0.1s\n",
      "[CV 1/5] END criterion=gini, max_depth=7, min_samples_leaf=7;, score=0.868 total time=   0.2s\n",
      "[CV 2/5] END criterion=gini, max_depth=7, min_samples_leaf=7;, score=0.838 total time=   0.1s\n",
      "[CV 3/5] END criterion=gini, max_depth=7, min_samples_leaf=7;, score=0.876 total time=   0.1s\n",
      "[CV 4/5] END criterion=gini, max_depth=7, min_samples_leaf=7;, score=0.878 total time=   0.2s\n",
      "[CV 5/5] END criterion=gini, max_depth=7, min_samples_leaf=7;, score=0.863 total time=   0.2s\n",
      "[CV 1/5] END criterion=entropy, max_depth=14, min_samples_leaf=10;, score=0.877 total time=   0.2s\n",
      "[CV 2/5] END criterion=entropy, max_depth=14, min_samples_leaf=10;, score=0.837 total time=   0.2s\n",
      "[CV 3/5] END criterion=entropy, max_depth=14, min_samples_leaf=10;, score=0.880 total time=   0.2s\n",
      "[CV 4/5] END criterion=entropy, max_depth=14, min_samples_leaf=10;, score=0.885 total time=   0.2s\n",
      "[CV 5/5] END criterion=entropy, max_depth=14, min_samples_leaf=10;, score=0.880 total time=   0.2s\n",
      "[CV 1/5] END criterion=log_loss, max_depth=8, min_samples_leaf=14;, score=0.871 total time=   0.2s\n",
      "[CV 2/5] END criterion=log_loss, max_depth=8, min_samples_leaf=14;, score=0.838 total time=   0.2s\n",
      "[CV 3/5] END criterion=log_loss, max_depth=8, min_samples_leaf=14;, score=0.876 total time=   0.2s\n",
      "[CV 4/5] END criterion=log_loss, max_depth=8, min_samples_leaf=14;, score=0.880 total time=   0.2s\n",
      "[CV 5/5] END criterion=log_loss, max_depth=8, min_samples_leaf=14;, score=0.866 total time=   0.2s\n",
      "[CV 1/5] END criterion=entropy, max_depth=11, min_samples_leaf=6;, score=0.875 total time=   0.2s\n",
      "[CV 2/5] END criterion=entropy, max_depth=11, min_samples_leaf=6;, score=0.843 total time=   0.2s\n",
      "[CV 3/5] END criterion=entropy, max_depth=11, min_samples_leaf=6;, score=0.875 total time=   0.2s\n",
      "[CV 4/5] END criterion=entropy, max_depth=11, min_samples_leaf=6;, score=0.883 total time=   0.2s\n",
      "[CV 5/5] END criterion=entropy, max_depth=11, min_samples_leaf=6;, score=0.879 total time=   0.2s\n",
      "[CV 1/5] END criterion=gini, max_depth=7, min_samples_leaf=8;, score=0.871 total time=   0.1s\n",
      "[CV 2/5] END criterion=gini, max_depth=7, min_samples_leaf=8;, score=0.838 total time=   0.1s\n",
      "[CV 3/5] END criterion=gini, max_depth=7, min_samples_leaf=8;, score=0.870 total time=   0.2s\n",
      "[CV 4/5] END criterion=gini, max_depth=7, min_samples_leaf=8;, score=0.876 total time=   0.2s\n",
      "[CV 5/5] END criterion=gini, max_depth=7, min_samples_leaf=8;, score=0.862 total time=   0.2s\n",
      "[CV 1/5] END criterion=gini, max_depth=9, min_samples_leaf=12;, score=0.871 total time=   0.2s\n",
      "[CV 2/5] END criterion=gini, max_depth=9, min_samples_leaf=12;, score=0.838 total time=   0.2s\n",
      "[CV 3/5] END criterion=gini, max_depth=9, min_samples_leaf=12;, score=0.871 total time=   0.2s\n",
      "[CV 4/5] END criterion=gini, max_depth=9, min_samples_leaf=12;, score=0.882 total time=   0.2s\n",
      "[CV 5/5] END criterion=gini, max_depth=9, min_samples_leaf=12;, score=0.872 total time=   0.2s\n",
      "[CV 1/5] END criterion=gini, max_depth=2, min_samples_leaf=9;, score=0.756 total time=   0.1s\n",
      "[CV 2/5] END criterion=gini, max_depth=2, min_samples_leaf=9;, score=0.767 total time=   0.1s\n",
      "[CV 3/5] END criterion=gini, max_depth=2, min_samples_leaf=9;, score=0.771 total time=   0.1s\n",
      "[CV 4/5] END criterion=gini, max_depth=2, min_samples_leaf=9;, score=0.754 total time=   0.1s\n",
      "[CV 5/5] END criterion=gini, max_depth=2, min_samples_leaf=9;, score=0.754 total time=   0.1s\n",
      "[CV 1/5] END criterion=gini, max_depth=12, min_samples_leaf=11;, score=0.876 total time=   0.2s\n",
      "[CV 2/5] END criterion=gini, max_depth=12, min_samples_leaf=11;, score=0.837 total time=   0.2s\n",
      "[CV 3/5] END criterion=gini, max_depth=12, min_samples_leaf=11;, score=0.879 total time=   0.2s\n",
      "[CV 4/5] END criterion=gini, max_depth=12, min_samples_leaf=11;, score=0.883 total time=   0.2s\n",
      "[CV 5/5] END criterion=gini, max_depth=12, min_samples_leaf=11;, score=0.872 total time=   0.2s\n",
      "[CV 1/5] END criterion=gini, max_depth=10, min_samples_leaf=5;, score=0.876 total time=   0.2s\n",
      "[CV 2/5] END criterion=gini, max_depth=10, min_samples_leaf=5;, score=0.839 total time=   0.2s\n",
      "[CV 3/5] END criterion=gini, max_depth=10, min_samples_leaf=5;, score=0.879 total time=   0.2s\n",
      "[CV 4/5] END criterion=gini, max_depth=10, min_samples_leaf=5;, score=0.878 total time=   0.2s\n",
      "[CV 5/5] END criterion=gini, max_depth=10, min_samples_leaf=5;, score=0.874 total time=   0.2s\n",
      "[CV 1/5] END criterion=entropy, max_depth=12, min_samples_leaf=8;, score=0.880 total time=   0.2s\n",
      "[CV 2/5] END criterion=entropy, max_depth=12, min_samples_leaf=8;, score=0.838 total time=   0.2s\n",
      "[CV 3/5] END criterion=entropy, max_depth=12, min_samples_leaf=8;, score=0.878 total time=   0.2s\n",
      "[CV 4/5] END criterion=entropy, max_depth=12, min_samples_leaf=8;, score=0.884 total time=   0.2s\n",
      "[CV 5/5] END criterion=entropy, max_depth=12, min_samples_leaf=8;, score=0.875 total time=   0.2s\n",
      "[CV 1/5] END criterion=gini, max_depth=8, min_samples_leaf=6;, score=0.874 total time=   0.2s\n",
      "[CV 2/5] END criterion=gini, max_depth=8, min_samples_leaf=6;, score=0.837 total time=   0.2s\n",
      "[CV 3/5] END criterion=gini, max_depth=8, min_samples_leaf=6;, score=0.875 total time=   0.2s\n",
      "[CV 4/5] END criterion=gini, max_depth=8, min_samples_leaf=6;, score=0.877 total time=   0.2s\n",
      "[CV 5/5] END criterion=gini, max_depth=8, min_samples_leaf=6;, score=0.868 total time=   0.2s\n",
      "[CV 1/5] END criterion=entropy, max_depth=3, min_samples_leaf=15;, score=0.799 total time=   0.1s\n",
      "[CV 2/5] END criterion=entropy, max_depth=3, min_samples_leaf=15;, score=0.807 total time=   0.1s\n",
      "[CV 3/5] END criterion=entropy, max_depth=3, min_samples_leaf=15;, score=0.808 total time=   0.1s\n",
      "[CV 4/5] END criterion=entropy, max_depth=3, min_samples_leaf=15;, score=0.825 total time=   0.1s\n",
      "[CV 5/5] END criterion=entropy, max_depth=3, min_samples_leaf=15;, score=0.819 total time=   0.1s\n",
      "[CV 1/5] END criterion=entropy, max_depth=7, min_samples_leaf=6;, score=0.867 total time=   0.2s\n",
      "[CV 2/5] END criterion=entropy, max_depth=7, min_samples_leaf=6;, score=0.836 total time=   0.2s\n",
      "[CV 3/5] END criterion=entropy, max_depth=7, min_samples_leaf=6;, score=0.877 total time=   0.2s\n",
      "[CV 4/5] END criterion=entropy, max_depth=7, min_samples_leaf=6;, score=0.877 total time=   0.2s\n",
      "[CV 5/5] END criterion=entropy, max_depth=7, min_samples_leaf=6;, score=0.866 total time=   0.2s\n",
      "[CV 1/5] END criterion=gini, max_depth=8, min_samples_leaf=15;, score=0.870 total time=   0.2s\n",
      "[CV 2/5] END criterion=gini, max_depth=8, min_samples_leaf=15;, score=0.838 total time=   0.2s\n",
      "[CV 3/5] END criterion=gini, max_depth=8, min_samples_leaf=15;, score=0.874 total time=   0.1s\n",
      "[CV 4/5] END criterion=gini, max_depth=8, min_samples_leaf=15;, score=0.885 total time=   0.1s\n",
      "[CV 5/5] END criterion=gini, max_depth=8, min_samples_leaf=15;, score=0.870 total time=   0.2s\n",
      "[CV 1/5] END criterion=log_loss, max_depth=11, min_samples_leaf=5;, score=0.877 total time=   0.2s\n",
      "[CV 2/5] END criterion=log_loss, max_depth=11, min_samples_leaf=5;, score=0.841 total time=   0.2s\n",
      "[CV 3/5] END criterion=log_loss, max_depth=11, min_samples_leaf=5;, score=0.881 total time=   0.2s\n",
      "[CV 4/5] END criterion=log_loss, max_depth=11, min_samples_leaf=5;, score=0.883 total time=   0.2s\n",
      "[CV 5/5] END criterion=log_loss, max_depth=11, min_samples_leaf=5;, score=0.883 total time=   0.2s\n",
      "[CV 1/5] END criterion=log_loss, max_depth=3, min_samples_leaf=13;, score=0.799 total time=   0.1s\n",
      "[CV 2/5] END criterion=log_loss, max_depth=3, min_samples_leaf=13;, score=0.801 total time=   0.1s\n",
      "[CV 3/5] END criterion=log_loss, max_depth=3, min_samples_leaf=13;, score=0.808 total time=   0.1s\n",
      "[CV 4/5] END criterion=log_loss, max_depth=3, min_samples_leaf=13;, score=0.830 total time=   0.1s\n",
      "[CV 5/5] END criterion=log_loss, max_depth=3, min_samples_leaf=13;, score=0.819 total time=   0.1s\n",
      "[CV 1/5] END criterion=log_loss, max_depth=12, min_samples_leaf=11;, score=0.873 total time=   0.2s\n",
      "[CV 2/5] END criterion=log_loss, max_depth=12, min_samples_leaf=11;, score=0.838 total time=   0.2s\n",
      "[CV 3/5] END criterion=log_loss, max_depth=12, min_samples_leaf=11;, score=0.877 total time=   0.2s\n",
      "[CV 4/5] END criterion=log_loss, max_depth=12, min_samples_leaf=11;, score=0.885 total time=   0.2s\n",
      "[CV 5/5] END criterion=log_loss, max_depth=12, min_samples_leaf=11;, score=0.878 total time=   0.2s\n",
      "[CV 1/5] END criterion=entropy, max_depth=11, min_samples_leaf=12;, score=0.869 total time=   0.2s\n",
      "[CV 2/5] END criterion=entropy, max_depth=11, min_samples_leaf=12;, score=0.840 total time=   0.2s\n",
      "[CV 3/5] END criterion=entropy, max_depth=11, min_samples_leaf=12;, score=0.878 total time=   0.2s\n",
      "[CV 4/5] END criterion=entropy, max_depth=11, min_samples_leaf=12;, score=0.885 total time=   0.2s\n",
      "[CV 5/5] END criterion=entropy, max_depth=11, min_samples_leaf=12;, score=0.873 total time=   0.2s\n",
      "[CV 1/5] END criterion=gini, max_depth=2, min_samples_leaf=15;, score=0.756 total time=   0.1s\n",
      "[CV 2/5] END criterion=gini, max_depth=2, min_samples_leaf=15;, score=0.767 total time=   0.1s\n",
      "[CV 3/5] END criterion=gini, max_depth=2, min_samples_leaf=15;, score=0.771 total time=   0.1s\n",
      "[CV 4/5] END criterion=gini, max_depth=2, min_samples_leaf=15;, score=0.754 total time=   0.1s\n",
      "[CV 5/5] END criterion=gini, max_depth=2, min_samples_leaf=15;, score=0.754 total time=   0.1s\n",
      "[CV 1/5] END criterion=log_loss, max_depth=12, min_samples_leaf=6;, score=0.880 total time=   0.2s\n",
      "[CV 2/5] END criterion=log_loss, max_depth=12, min_samples_leaf=6;, score=0.843 total time=   0.2s\n",
      "[CV 3/5] END criterion=log_loss, max_depth=12, min_samples_leaf=6;, score=0.878 total time=   0.2s\n",
      "[CV 4/5] END criterion=log_loss, max_depth=12, min_samples_leaf=6;, score=0.885 total time=   0.2s\n",
      "[CV 5/5] END criterion=log_loss, max_depth=12, min_samples_leaf=6;, score=0.878 total time=   0.2s\n",
      "[CV 1/5] END criterion=gini, max_depth=15, min_samples_leaf=12;, score=0.872 total time=   0.2s\n",
      "[CV 2/5] END criterion=gini, max_depth=15, min_samples_leaf=12;, score=0.832 total time=   0.2s\n",
      "[CV 3/5] END criterion=gini, max_depth=15, min_samples_leaf=12;, score=0.881 total time=   0.2s\n",
      "[CV 4/5] END criterion=gini, max_depth=15, min_samples_leaf=12;, score=0.883 total time=   0.2s\n",
      "[CV 5/5] END criterion=gini, max_depth=15, min_samples_leaf=12;, score=0.873 total time=   0.2s\n",
      "[CV 1/5] END criterion=entropy, max_depth=8, min_samples_leaf=15;, score=0.872 total time=   0.2s\n",
      "[CV 2/5] END criterion=entropy, max_depth=8, min_samples_leaf=15;, score=0.837 total time=   0.2s\n",
      "[CV 3/5] END criterion=entropy, max_depth=8, min_samples_leaf=15;, score=0.874 total time=   0.2s\n",
      "[CV 4/5] END criterion=entropy, max_depth=8, min_samples_leaf=15;, score=0.882 total time=   0.2s\n",
      "[CV 5/5] END criterion=entropy, max_depth=8, min_samples_leaf=15;, score=0.866 total time=   0.2s\n",
      "[CV 1/5] END criterion=entropy, max_depth=5, min_samples_leaf=6;, score=0.850 total time=   0.2s\n",
      "[CV 2/5] END criterion=entropy, max_depth=5, min_samples_leaf=6;, score=0.842 total time=   0.1s\n",
      "[CV 3/5] END criterion=entropy, max_depth=5, min_samples_leaf=6;, score=0.860 total time=   0.1s\n",
      "[CV 4/5] END criterion=entropy, max_depth=5, min_samples_leaf=6;, score=0.872 total time=   0.1s\n",
      "[CV 5/5] END criterion=entropy, max_depth=5, min_samples_leaf=6;, score=0.860 total time=   0.1s\n",
      "[CV 1/5] END criterion=log_loss, max_depth=4, min_samples_leaf=11;, score=0.835 total time=   0.1s\n",
      "[CV 2/5] END criterion=log_loss, max_depth=4, min_samples_leaf=11;, score=0.838 total time=   0.1s\n",
      "[CV 3/5] END criterion=log_loss, max_depth=4, min_samples_leaf=11;, score=0.854 total time=   0.1s\n",
      "[CV 4/5] END criterion=log_loss, max_depth=4, min_samples_leaf=11;, score=0.859 total time=   0.1s\n",
      "[CV 5/5] END criterion=log_loss, max_depth=4, min_samples_leaf=11;, score=0.841 total time=   0.1s\n",
      "[CV 1/5] END criterion=gini, max_depth=15, min_samples_leaf=14;, score=0.872 total time=   0.2s\n",
      "[CV 2/5] END criterion=gini, max_depth=15, min_samples_leaf=14;, score=0.833 total time=   0.2s\n",
      "[CV 3/5] END criterion=gini, max_depth=15, min_samples_leaf=14;, score=0.874 total time=   0.2s\n",
      "[CV 4/5] END criterion=gini, max_depth=15, min_samples_leaf=14;, score=0.880 total time=   0.2s\n",
      "[CV 5/5] END criterion=gini, max_depth=15, min_samples_leaf=14;, score=0.868 total time=   0.2s\n",
      "[CV 1/5] END criterion=entropy, max_depth=3, min_samples_leaf=8;, score=0.800 total time=   0.1s\n",
      "[CV 2/5] END criterion=entropy, max_depth=3, min_samples_leaf=8;, score=0.801 total time=   0.1s\n",
      "[CV 3/5] END criterion=entropy, max_depth=3, min_samples_leaf=8;, score=0.808 total time=   0.1s\n",
      "[CV 4/5] END criterion=entropy, max_depth=3, min_samples_leaf=8;, score=0.833 total time=   0.1s\n",
      "[CV 5/5] END criterion=entropy, max_depth=3, min_samples_leaf=8;, score=0.818 total time=   0.1s\n",
      "[CV 1/5] END criterion=entropy, max_depth=6, min_samples_leaf=11;, score=0.862 total time=   0.1s\n",
      "[CV 2/5] END criterion=entropy, max_depth=6, min_samples_leaf=11;, score=0.827 total time=   0.1s\n",
      "[CV 3/5] END criterion=entropy, max_depth=6, min_samples_leaf=11;, score=0.869 total time=   0.1s\n",
      "[CV 4/5] END criterion=entropy, max_depth=6, min_samples_leaf=11;, score=0.873 total time=   0.2s\n",
      "[CV 5/5] END criterion=entropy, max_depth=6, min_samples_leaf=11;, score=0.861 total time=   0.2s\n",
      "[CV 1/5] END criterion=log_loss, max_depth=10, min_samples_leaf=9;, score=0.873 total time=   0.2s\n",
      "[CV 2/5] END criterion=log_loss, max_depth=10, min_samples_leaf=9;, score=0.845 total time=   0.2s\n",
      "[CV 3/5] END criterion=log_loss, max_depth=10, min_samples_leaf=9;, score=0.877 total time=   0.2s\n",
      "[CV 4/5] END criterion=log_loss, max_depth=10, min_samples_leaf=9;, score=0.882 total time=   0.2s\n",
      "[CV 5/5] END criterion=log_loss, max_depth=10, min_samples_leaf=9;, score=0.876 total time=   0.2s\n",
      "[CV 1/5] END criterion=entropy, max_depth=11, min_samples_leaf=15;, score=0.873 total time=   0.2s\n",
      "[CV 2/5] END criterion=entropy, max_depth=11, min_samples_leaf=15;, score=0.838 total time=   0.2s\n",
      "[CV 3/5] END criterion=entropy, max_depth=11, min_samples_leaf=15;, score=0.875 total time=   0.2s\n",
      "[CV 4/5] END criterion=entropy, max_depth=11, min_samples_leaf=15;, score=0.885 total time=   0.2s\n",
      "[CV 5/5] END criterion=entropy, max_depth=11, min_samples_leaf=15;, score=0.871 total time=   0.2s\n",
      "[CV 1/5] END criterion=entropy, max_depth=4, min_samples_leaf=8;, score=0.832 total time=   0.1s\n",
      "[CV 2/5] END criterion=entropy, max_depth=4, min_samples_leaf=8;, score=0.837 total time=   0.1s\n",
      "[CV 3/5] END criterion=entropy, max_depth=4, min_samples_leaf=8;, score=0.851 total time=   0.1s\n",
      "[CV 4/5] END criterion=entropy, max_depth=4, min_samples_leaf=8;, score=0.859 total time=   0.1s\n",
      "[CV 5/5] END criterion=entropy, max_depth=4, min_samples_leaf=8;, score=0.846 total time=   0.1s\n",
      "[CV 1/5] END criterion=gini, max_depth=4, min_samples_leaf=7;, score=0.840 total time=   0.1s\n",
      "[CV 2/5] END criterion=gini, max_depth=4, min_samples_leaf=7;, score=0.836 total time=   0.1s\n",
      "[CV 3/5] END criterion=gini, max_depth=4, min_samples_leaf=7;, score=0.860 total time=   0.1s\n",
      "[CV 4/5] END criterion=gini, max_depth=4, min_samples_leaf=7;, score=0.861 total time=   0.1s\n",
      "[CV 5/5] END criterion=gini, max_depth=4, min_samples_leaf=7;, score=0.845 total time=   0.1s\n",
      "[CV 1/5] END criterion=entropy, max_depth=10, min_samples_leaf=14;, score=0.871 total time=   0.2s\n",
      "[CV 2/5] END criterion=entropy, max_depth=10, min_samples_leaf=14;, score=0.839 total time=   0.2s\n",
      "[CV 3/5] END criterion=entropy, max_depth=10, min_samples_leaf=14;, score=0.874 total time=   0.2s\n",
      "[CV 4/5] END criterion=entropy, max_depth=10, min_samples_leaf=14;, score=0.887 total time=   0.2s\n",
      "[CV 5/5] END criterion=entropy, max_depth=10, min_samples_leaf=14;, score=0.868 total time=   0.2s\n",
      "[CV 1/5] END criterion=gini, max_depth=11, min_samples_leaf=11;, score=0.874 total time=   0.2s\n",
      "[CV 2/5] END criterion=gini, max_depth=11, min_samples_leaf=11;, score=0.836 total time=   0.2s\n",
      "[CV 3/5] END criterion=gini, max_depth=11, min_samples_leaf=11;, score=0.877 total time=   0.2s\n",
      "[CV 4/5] END criterion=gini, max_depth=11, min_samples_leaf=11;, score=0.880 total time=   0.2s\n",
      "[CV 5/5] END criterion=gini, max_depth=11, min_samples_leaf=11;, score=0.873 total time=   0.2s\n",
      "[CV 1/5] END criterion=gini, max_depth=9, min_samples_leaf=9;, score=0.870 total time=   0.2s\n",
      "[CV 2/5] END criterion=gini, max_depth=9, min_samples_leaf=9;, score=0.838 total time=   0.2s\n",
      "[CV 3/5] END criterion=gini, max_depth=9, min_samples_leaf=9;, score=0.878 total time=   0.2s\n",
      "[CV 4/5] END criterion=gini, max_depth=9, min_samples_leaf=9;, score=0.878 total time=   0.2s\n",
      "[CV 5/5] END criterion=gini, max_depth=9, min_samples_leaf=9;, score=0.872 total time=   0.2s\n",
      "[CV 1/5] END criterion=gini, max_depth=2, min_samples_leaf=7;, score=0.756 total time=   0.1s\n",
      "[CV 2/5] END criterion=gini, max_depth=2, min_samples_leaf=7;, score=0.767 total time=   0.1s\n",
      "[CV 3/5] END criterion=gini, max_depth=2, min_samples_leaf=7;, score=0.771 total time=   0.1s\n",
      "[CV 4/5] END criterion=gini, max_depth=2, min_samples_leaf=7;, score=0.754 total time=   0.1s\n",
      "[CV 5/5] END criterion=gini, max_depth=2, min_samples_leaf=7;, score=0.754 total time=   0.1s\n",
      "[CV 1/5] END criterion=gini, max_depth=12, min_samples_leaf=15;, score=0.872 total time=   0.2s\n",
      "[CV 2/5] END criterion=gini, max_depth=12, min_samples_leaf=15;, score=0.837 total time=   0.2s\n",
      "[CV 3/5] END criterion=gini, max_depth=12, min_samples_leaf=15;, score=0.879 total time=   0.2s\n",
      "[CV 4/5] END criterion=gini, max_depth=12, min_samples_leaf=15;, score=0.881 total time=   0.2s\n",
      "[CV 5/5] END criterion=gini, max_depth=12, min_samples_leaf=15;, score=0.871 total time=   0.2s\n"
     ]
    },
    {
     "data": {
      "text/html": [
       "<style>#sk-container-id-10 {color: black;}#sk-container-id-10 pre{padding: 0;}#sk-container-id-10 div.sk-toggleable {background-color: white;}#sk-container-id-10 label.sk-toggleable__label {cursor: pointer;display: block;width: 100%;margin-bottom: 0;padding: 0.3em;box-sizing: border-box;text-align: center;}#sk-container-id-10 label.sk-toggleable__label-arrow:before {content: \"▸\";float: left;margin-right: 0.25em;color: #696969;}#sk-container-id-10 label.sk-toggleable__label-arrow:hover:before {color: black;}#sk-container-id-10 div.sk-estimator:hover label.sk-toggleable__label-arrow:before {color: black;}#sk-container-id-10 div.sk-toggleable__content {max-height: 0;max-width: 0;overflow: hidden;text-align: left;background-color: #f0f8ff;}#sk-container-id-10 div.sk-toggleable__content pre {margin: 0.2em;color: black;border-radius: 0.25em;background-color: #f0f8ff;}#sk-container-id-10 input.sk-toggleable__control:checked~div.sk-toggleable__content {max-height: 200px;max-width: 100%;overflow: auto;}#sk-container-id-10 input.sk-toggleable__control:checked~label.sk-toggleable__label-arrow:before {content: \"▾\";}#sk-container-id-10 div.sk-estimator input.sk-toggleable__control:checked~label.sk-toggleable__label {background-color: #d4ebff;}#sk-container-id-10 div.sk-label input.sk-toggleable__control:checked~label.sk-toggleable__label {background-color: #d4ebff;}#sk-container-id-10 input.sk-hidden--visually {border: 0;clip: rect(1px 1px 1px 1px);clip: rect(1px, 1px, 1px, 1px);height: 1px;margin: -1px;overflow: hidden;padding: 0;position: absolute;width: 1px;}#sk-container-id-10 div.sk-estimator {font-family: monospace;background-color: #f0f8ff;border: 1px dotted black;border-radius: 0.25em;box-sizing: border-box;margin-bottom: 0.5em;}#sk-container-id-10 div.sk-estimator:hover {background-color: #d4ebff;}#sk-container-id-10 div.sk-parallel-item::after {content: \"\";width: 100%;border-bottom: 1px solid gray;flex-grow: 1;}#sk-container-id-10 div.sk-label:hover label.sk-toggleable__label {background-color: #d4ebff;}#sk-container-id-10 div.sk-serial::before {content: \"\";position: absolute;border-left: 1px solid gray;box-sizing: border-box;top: 0;bottom: 0;left: 50%;z-index: 0;}#sk-container-id-10 div.sk-serial {display: flex;flex-direction: column;align-items: center;background-color: white;padding-right: 0.2em;padding-left: 0.2em;position: relative;}#sk-container-id-10 div.sk-item {position: relative;z-index: 1;}#sk-container-id-10 div.sk-parallel {display: flex;align-items: stretch;justify-content: center;background-color: white;position: relative;}#sk-container-id-10 div.sk-item::before, #sk-container-id-10 div.sk-parallel-item::before {content: \"\";position: absolute;border-left: 1px solid gray;box-sizing: border-box;top: 0;bottom: 0;left: 50%;z-index: -1;}#sk-container-id-10 div.sk-parallel-item {display: flex;flex-direction: column;z-index: 1;position: relative;background-color: white;}#sk-container-id-10 div.sk-parallel-item:first-child::after {align-self: flex-end;width: 50%;}#sk-container-id-10 div.sk-parallel-item:last-child::after {align-self: flex-start;width: 50%;}#sk-container-id-10 div.sk-parallel-item:only-child::after {width: 0;}#sk-container-id-10 div.sk-dashed-wrapped {border: 1px dashed gray;margin: 0 0.4em 0.5em 0.4em;box-sizing: border-box;padding-bottom: 0.4em;background-color: white;}#sk-container-id-10 div.sk-label label {font-family: monospace;font-weight: bold;display: inline-block;line-height: 1.2em;}#sk-container-id-10 div.sk-label-container {text-align: center;}#sk-container-id-10 div.sk-container {/* jupyter's `normalize.less` sets `[hidden] { display: none; }` but bootstrap.min.css set `[hidden] { display: none !important; }` so we also need the `!important` here to be able to override the default hidden behavior on the sphinx rendered scikit-learn.org. See: https://github.com/scikit-learn/scikit-learn/issues/21755 */display: inline-block !important;position: relative;}#sk-container-id-10 div.sk-text-repr-fallback {display: none;}</style><div id=\"sk-container-id-10\" class=\"sk-top-container\"><div class=\"sk-text-repr-fallback\"><pre>RandomizedSearchCV(estimator=RandomForestClassifier(random_state=7), n_iter=50,\n",
       "                   param_distributions={&#x27;criterion&#x27;: [&#x27;gini&#x27;, &#x27;entropy&#x27;,\n",
       "                                                      &#x27;log_loss&#x27;],\n",
       "                                        &#x27;max_depth&#x27;: range(2, 16),\n",
       "                                        &#x27;min_samples_leaf&#x27;: range(5, 16)},\n",
       "                   verbose=4)</pre><b>In a Jupyter environment, please rerun this cell to show the HTML representation or trust the notebook. <br />On GitHub, the HTML representation is unable to render, please try loading this page with nbviewer.org.</b></div><div class=\"sk-container\" hidden><div class=\"sk-item sk-dashed-wrapped\"><div class=\"sk-label-container\"><div class=\"sk-label sk-toggleable\"><input class=\"sk-toggleable__control sk-hidden--visually\" id=\"sk-estimator-id-18\" type=\"checkbox\" ><label for=\"sk-estimator-id-18\" class=\"sk-toggleable__label sk-toggleable__label-arrow\">RandomizedSearchCV</label><div class=\"sk-toggleable__content\"><pre>RandomizedSearchCV(estimator=RandomForestClassifier(random_state=7), n_iter=50,\n",
       "                   param_distributions={&#x27;criterion&#x27;: [&#x27;gini&#x27;, &#x27;entropy&#x27;,\n",
       "                                                      &#x27;log_loss&#x27;],\n",
       "                                        &#x27;max_depth&#x27;: range(2, 16),\n",
       "                                        &#x27;min_samples_leaf&#x27;: range(5, 16)},\n",
       "                   verbose=4)</pre></div></div></div><div class=\"sk-parallel\"><div class=\"sk-parallel-item\"><div class=\"sk-item\"><div class=\"sk-label-container\"><div class=\"sk-label sk-toggleable\"><input class=\"sk-toggleable__control sk-hidden--visually\" id=\"sk-estimator-id-19\" type=\"checkbox\" ><label for=\"sk-estimator-id-19\" class=\"sk-toggleable__label sk-toggleable__label-arrow\">estimator: RandomForestClassifier</label><div class=\"sk-toggleable__content\"><pre>RandomForestClassifier(random_state=7)</pre></div></div></div><div class=\"sk-serial\"><div class=\"sk-item\"><div class=\"sk-estimator sk-toggleable\"><input class=\"sk-toggleable__control sk-hidden--visually\" id=\"sk-estimator-id-20\" type=\"checkbox\" ><label for=\"sk-estimator-id-20\" class=\"sk-toggleable__label sk-toggleable__label-arrow\">RandomForestClassifier</label><div class=\"sk-toggleable__content\"><pre>RandomForestClassifier(random_state=7)</pre></div></div></div></div></div></div></div></div></div></div>"
      ],
      "text/plain": [
       "RandomizedSearchCV(estimator=RandomForestClassifier(random_state=7), n_iter=50,\n",
       "                   param_distributions={'criterion': ['gini', 'entropy',\n",
       "                                                      'log_loss'],\n",
       "                                        'max_depth': range(2, 16),\n",
       "                                        'min_samples_leaf': range(5, 16)},\n",
       "                   verbose=4)"
      ]
     },
     "execution_count": 59,
     "metadata": {},
     "output_type": "execute_result"
    }
   ],
   "source": [
    "searchCV.fit(X_train, y_train)"
   ]
  },
  {
   "cell_type": "code",
   "execution_count": 52,
   "metadata": {},
   "outputs": [
    {
     "name": "stdout",
     "output_type": "stream",
     "text": [
      "[ searchCV.best_score_ ] 0.8745472717850005\n",
      "[ searchCV.best_params_ ] {'min_samples_leaf': 6, 'max_depth': 14}\n",
      "[ searchCV.best_estimator_ ] RandomForestClassifier(max_depth=14, min_samples_leaf=6, random_state=7)\n"
     ]
    },
    {
     "data": {
      "text/html": [
       "<div>\n",
       "<style scoped>\n",
       "    .dataframe tbody tr th:only-of-type {\n",
       "        vertical-align: middle;\n",
       "    }\n",
       "\n",
       "    .dataframe tbody tr th {\n",
       "        vertical-align: top;\n",
       "    }\n",
       "\n",
       "    .dataframe thead th {\n",
       "        text-align: right;\n",
       "    }\n",
       "</style>\n",
       "<table border=\"1\" class=\"dataframe\">\n",
       "  <thead>\n",
       "    <tr style=\"text-align: right;\">\n",
       "      <th></th>\n",
       "      <th>mean_fit_time</th>\n",
       "      <th>std_fit_time</th>\n",
       "      <th>mean_score_time</th>\n",
       "      <th>std_score_time</th>\n",
       "      <th>param_min_samples_leaf</th>\n",
       "      <th>param_max_depth</th>\n",
       "      <th>params</th>\n",
       "      <th>split0_test_score</th>\n",
       "      <th>split1_test_score</th>\n",
       "      <th>split2_test_score</th>\n",
       "      <th>split3_test_score</th>\n",
       "      <th>split4_test_score</th>\n",
       "      <th>mean_test_score</th>\n",
       "      <th>std_test_score</th>\n",
       "      <th>rank_test_score</th>\n",
       "    </tr>\n",
       "  </thead>\n",
       "  <tbody>\n",
       "    <tr>\n",
       "      <th>0</th>\n",
       "      <td>0.143105</td>\n",
       "      <td>0.007747</td>\n",
       "      <td>0.007483</td>\n",
       "      <td>0.000066</td>\n",
       "      <td>6</td>\n",
       "      <td>6</td>\n",
       "      <td>{'min_samples_leaf': 6, 'max_depth': 6}</td>\n",
       "      <td>0.865385</td>\n",
       "      <td>0.832692</td>\n",
       "      <td>0.882579</td>\n",
       "      <td>0.877767</td>\n",
       "      <td>0.858518</td>\n",
       "      <td>0.863388</td>\n",
       "      <td>0.017578</td>\n",
       "      <td>8</td>\n",
       "    </tr>\n",
       "    <tr>\n",
       "      <th>1</th>\n",
       "      <td>0.162349</td>\n",
       "      <td>0.002539</td>\n",
       "      <td>0.009441</td>\n",
       "      <td>0.000168</td>\n",
       "      <td>10</td>\n",
       "      <td>10</td>\n",
       "      <td>{'min_samples_leaf': 10, 'max_depth': 10}</td>\n",
       "      <td>0.873077</td>\n",
       "      <td>0.840385</td>\n",
       "      <td>0.880654</td>\n",
       "      <td>0.881617</td>\n",
       "      <td>0.871992</td>\n",
       "      <td>0.869545</td>\n",
       "      <td>0.015086</td>\n",
       "      <td>3</td>\n",
       "    </tr>\n",
       "    <tr>\n",
       "      <th>2</th>\n",
       "      <td>0.156626</td>\n",
       "      <td>0.007926</td>\n",
       "      <td>0.009036</td>\n",
       "      <td>0.000276</td>\n",
       "      <td>13</td>\n",
       "      <td>9</td>\n",
       "      <td>{'min_samples_leaf': 13, 'max_depth': 9}</td>\n",
       "      <td>0.869231</td>\n",
       "      <td>0.837500</td>\n",
       "      <td>0.874880</td>\n",
       "      <td>0.882579</td>\n",
       "      <td>0.871992</td>\n",
       "      <td>0.867236</td>\n",
       "      <td>0.015522</td>\n",
       "      <td>5</td>\n",
       "    </tr>\n",
       "    <tr>\n",
       "      <th>3</th>\n",
       "      <td>0.114331</td>\n",
       "      <td>0.004748</td>\n",
       "      <td>0.005535</td>\n",
       "      <td>0.000056</td>\n",
       "      <td>5</td>\n",
       "      <td>3</td>\n",
       "      <td>{'min_samples_leaf': 5, 'max_depth': 3}</td>\n",
       "      <td>0.804808</td>\n",
       "      <td>0.821154</td>\n",
       "      <td>0.834456</td>\n",
       "      <td>0.843118</td>\n",
       "      <td>0.824832</td>\n",
       "      <td>0.825674</td>\n",
       "      <td>0.012946</td>\n",
       "      <td>10</td>\n",
       "    </tr>\n",
       "    <tr>\n",
       "      <th>4</th>\n",
       "      <td>0.154360</td>\n",
       "      <td>0.003808</td>\n",
       "      <td>0.008947</td>\n",
       "      <td>0.000085</td>\n",
       "      <td>13</td>\n",
       "      <td>10</td>\n",
       "      <td>{'min_samples_leaf': 13, 'max_depth': 10}</td>\n",
       "      <td>0.874038</td>\n",
       "      <td>0.830769</td>\n",
       "      <td>0.871030</td>\n",
       "      <td>0.887392</td>\n",
       "      <td>0.875842</td>\n",
       "      <td>0.867814</td>\n",
       "      <td>0.019335</td>\n",
       "      <td>4</td>\n",
       "    </tr>\n",
       "    <tr>\n",
       "      <th>5</th>\n",
       "      <td>0.148654</td>\n",
       "      <td>0.007552</td>\n",
       "      <td>0.008048</td>\n",
       "      <td>0.000056</td>\n",
       "      <td>15</td>\n",
       "      <td>7</td>\n",
       "      <td>{'min_samples_leaf': 15, 'max_depth': 7}</td>\n",
       "      <td>0.869231</td>\n",
       "      <td>0.834615</td>\n",
       "      <td>0.872955</td>\n",
       "      <td>0.883542</td>\n",
       "      <td>0.863330</td>\n",
       "      <td>0.864735</td>\n",
       "      <td>0.016436</td>\n",
       "      <td>6</td>\n",
       "    </tr>\n",
       "    <tr>\n",
       "      <th>6</th>\n",
       "      <td>0.136599</td>\n",
       "      <td>0.003182</td>\n",
       "      <td>0.007364</td>\n",
       "      <td>0.000057</td>\n",
       "      <td>9</td>\n",
       "      <td>6</td>\n",
       "      <td>{'min_samples_leaf': 9, 'max_depth': 6}</td>\n",
       "      <td>0.864423</td>\n",
       "      <td>0.830769</td>\n",
       "      <td>0.872955</td>\n",
       "      <td>0.880654</td>\n",
       "      <td>0.859480</td>\n",
       "      <td>0.861656</td>\n",
       "      <td>0.017059</td>\n",
       "      <td>9</td>\n",
       "    </tr>\n",
       "    <tr>\n",
       "      <th>7</th>\n",
       "      <td>0.156885</td>\n",
       "      <td>0.001636</td>\n",
       "      <td>0.009285</td>\n",
       "      <td>0.000091</td>\n",
       "      <td>10</td>\n",
       "      <td>13</td>\n",
       "      <td>{'min_samples_leaf': 10, 'max_depth': 13}</td>\n",
       "      <td>0.875962</td>\n",
       "      <td>0.834615</td>\n",
       "      <td>0.881617</td>\n",
       "      <td>0.884504</td>\n",
       "      <td>0.871030</td>\n",
       "      <td>0.869546</td>\n",
       "      <td>0.018072</td>\n",
       "      <td>2</td>\n",
       "    </tr>\n",
       "    <tr>\n",
       "      <th>8</th>\n",
       "      <td>0.143837</td>\n",
       "      <td>0.008040</td>\n",
       "      <td>0.008163</td>\n",
       "      <td>0.000108</td>\n",
       "      <td>10</td>\n",
       "      <td>7</td>\n",
       "      <td>{'min_samples_leaf': 10, 'max_depth': 7}</td>\n",
       "      <td>0.869231</td>\n",
       "      <td>0.833654</td>\n",
       "      <td>0.876805</td>\n",
       "      <td>0.874880</td>\n",
       "      <td>0.866218</td>\n",
       "      <td>0.864157</td>\n",
       "      <td>0.015719</td>\n",
       "      <td>7</td>\n",
       "    </tr>\n",
       "    <tr>\n",
       "      <th>9</th>\n",
       "      <td>0.163674</td>\n",
       "      <td>0.005027</td>\n",
       "      <td>0.009735</td>\n",
       "      <td>0.000089</td>\n",
       "      <td>6</td>\n",
       "      <td>14</td>\n",
       "      <td>{'min_samples_leaf': 6, 'max_depth': 14}</td>\n",
       "      <td>0.883654</td>\n",
       "      <td>0.843269</td>\n",
       "      <td>0.883542</td>\n",
       "      <td>0.882579</td>\n",
       "      <td>0.879692</td>\n",
       "      <td>0.874547</td>\n",
       "      <td>0.015704</td>\n",
       "      <td>1</td>\n",
       "    </tr>\n",
       "  </tbody>\n",
       "</table>\n",
       "</div>"
      ],
      "text/plain": [
       "   mean_fit_time  std_fit_time  mean_score_time  std_score_time  \\\n",
       "0       0.143105      0.007747         0.007483        0.000066   \n",
       "1       0.162349      0.002539         0.009441        0.000168   \n",
       "2       0.156626      0.007926         0.009036        0.000276   \n",
       "3       0.114331      0.004748         0.005535        0.000056   \n",
       "4       0.154360      0.003808         0.008947        0.000085   \n",
       "5       0.148654      0.007552         0.008048        0.000056   \n",
       "6       0.136599      0.003182         0.007364        0.000057   \n",
       "7       0.156885      0.001636         0.009285        0.000091   \n",
       "8       0.143837      0.008040         0.008163        0.000108   \n",
       "9       0.163674      0.005027         0.009735        0.000089   \n",
       "\n",
       "  param_min_samples_leaf param_max_depth  \\\n",
       "0                      6               6   \n",
       "1                     10              10   \n",
       "2                     13               9   \n",
       "3                      5               3   \n",
       "4                     13              10   \n",
       "5                     15               7   \n",
       "6                      9               6   \n",
       "7                     10              13   \n",
       "8                     10               7   \n",
       "9                      6              14   \n",
       "\n",
       "                                      params  split0_test_score  \\\n",
       "0    {'min_samples_leaf': 6, 'max_depth': 6}           0.865385   \n",
       "1  {'min_samples_leaf': 10, 'max_depth': 10}           0.873077   \n",
       "2   {'min_samples_leaf': 13, 'max_depth': 9}           0.869231   \n",
       "3    {'min_samples_leaf': 5, 'max_depth': 3}           0.804808   \n",
       "4  {'min_samples_leaf': 13, 'max_depth': 10}           0.874038   \n",
       "5   {'min_samples_leaf': 15, 'max_depth': 7}           0.869231   \n",
       "6    {'min_samples_leaf': 9, 'max_depth': 6}           0.864423   \n",
       "7  {'min_samples_leaf': 10, 'max_depth': 13}           0.875962   \n",
       "8   {'min_samples_leaf': 10, 'max_depth': 7}           0.869231   \n",
       "9   {'min_samples_leaf': 6, 'max_depth': 14}           0.883654   \n",
       "\n",
       "   split1_test_score  split2_test_score  split3_test_score  split4_test_score  \\\n",
       "0           0.832692           0.882579           0.877767           0.858518   \n",
       "1           0.840385           0.880654           0.881617           0.871992   \n",
       "2           0.837500           0.874880           0.882579           0.871992   \n",
       "3           0.821154           0.834456           0.843118           0.824832   \n",
       "4           0.830769           0.871030           0.887392           0.875842   \n",
       "5           0.834615           0.872955           0.883542           0.863330   \n",
       "6           0.830769           0.872955           0.880654           0.859480   \n",
       "7           0.834615           0.881617           0.884504           0.871030   \n",
       "8           0.833654           0.876805           0.874880           0.866218   \n",
       "9           0.843269           0.883542           0.882579           0.879692   \n",
       "\n",
       "   mean_test_score  std_test_score  rank_test_score  \n",
       "0         0.863388        0.017578                8  \n",
       "1         0.869545        0.015086                3  \n",
       "2         0.867236        0.015522                5  \n",
       "3         0.825674        0.012946               10  \n",
       "4         0.867814        0.019335                4  \n",
       "5         0.864735        0.016436                6  \n",
       "6         0.861656        0.017059                9  \n",
       "7         0.869546        0.018072                2  \n",
       "8         0.864157        0.015719                7  \n",
       "9         0.874547        0.015704                1  "
      ]
     },
     "execution_count": 52,
     "metadata": {},
     "output_type": "execute_result"
    }
   ],
   "source": [
    "# 모델 파라미터\n",
    "print(f\"[ searchCV.best_score_ ] {searchCV.best_score_}\")\n",
    "print(f\"[ searchCV.best_params_ ] {searchCV.best_params_}\")\n",
    "print(f\"[ searchCV.best_estimator_ ] {searchCV.best_estimator_}\")\n",
    "\n",
    "cv_resultDF = pd.DataFrame(searchCV.cv_results_)\n",
    "cv_resultDF"
   ]
  },
  {
   "cell_type": "code",
   "execution_count": 53,
   "metadata": {},
   "outputs": [
    {
     "data": {
      "text/html": [
       "<style>#sk-container-id-8 {color: black;}#sk-container-id-8 pre{padding: 0;}#sk-container-id-8 div.sk-toggleable {background-color: white;}#sk-container-id-8 label.sk-toggleable__label {cursor: pointer;display: block;width: 100%;margin-bottom: 0;padding: 0.3em;box-sizing: border-box;text-align: center;}#sk-container-id-8 label.sk-toggleable__label-arrow:before {content: \"▸\";float: left;margin-right: 0.25em;color: #696969;}#sk-container-id-8 label.sk-toggleable__label-arrow:hover:before {color: black;}#sk-container-id-8 div.sk-estimator:hover label.sk-toggleable__label-arrow:before {color: black;}#sk-container-id-8 div.sk-toggleable__content {max-height: 0;max-width: 0;overflow: hidden;text-align: left;background-color: #f0f8ff;}#sk-container-id-8 div.sk-toggleable__content pre {margin: 0.2em;color: black;border-radius: 0.25em;background-color: #f0f8ff;}#sk-container-id-8 input.sk-toggleable__control:checked~div.sk-toggleable__content {max-height: 200px;max-width: 100%;overflow: auto;}#sk-container-id-8 input.sk-toggleable__control:checked~label.sk-toggleable__label-arrow:before {content: \"▾\";}#sk-container-id-8 div.sk-estimator input.sk-toggleable__control:checked~label.sk-toggleable__label {background-color: #d4ebff;}#sk-container-id-8 div.sk-label input.sk-toggleable__control:checked~label.sk-toggleable__label {background-color: #d4ebff;}#sk-container-id-8 input.sk-hidden--visually {border: 0;clip: rect(1px 1px 1px 1px);clip: rect(1px, 1px, 1px, 1px);height: 1px;margin: -1px;overflow: hidden;padding: 0;position: absolute;width: 1px;}#sk-container-id-8 div.sk-estimator {font-family: monospace;background-color: #f0f8ff;border: 1px dotted black;border-radius: 0.25em;box-sizing: border-box;margin-bottom: 0.5em;}#sk-container-id-8 div.sk-estimator:hover {background-color: #d4ebff;}#sk-container-id-8 div.sk-parallel-item::after {content: \"\";width: 100%;border-bottom: 1px solid gray;flex-grow: 1;}#sk-container-id-8 div.sk-label:hover label.sk-toggleable__label {background-color: #d4ebff;}#sk-container-id-8 div.sk-serial::before {content: \"\";position: absolute;border-left: 1px solid gray;box-sizing: border-box;top: 0;bottom: 0;left: 50%;z-index: 0;}#sk-container-id-8 div.sk-serial {display: flex;flex-direction: column;align-items: center;background-color: white;padding-right: 0.2em;padding-left: 0.2em;position: relative;}#sk-container-id-8 div.sk-item {position: relative;z-index: 1;}#sk-container-id-8 div.sk-parallel {display: flex;align-items: stretch;justify-content: center;background-color: white;position: relative;}#sk-container-id-8 div.sk-item::before, #sk-container-id-8 div.sk-parallel-item::before {content: \"\";position: absolute;border-left: 1px solid gray;box-sizing: border-box;top: 0;bottom: 0;left: 50%;z-index: -1;}#sk-container-id-8 div.sk-parallel-item {display: flex;flex-direction: column;z-index: 1;position: relative;background-color: white;}#sk-container-id-8 div.sk-parallel-item:first-child::after {align-self: flex-end;width: 50%;}#sk-container-id-8 div.sk-parallel-item:last-child::after {align-self: flex-start;width: 50%;}#sk-container-id-8 div.sk-parallel-item:only-child::after {width: 0;}#sk-container-id-8 div.sk-dashed-wrapped {border: 1px dashed gray;margin: 0 0.4em 0.5em 0.4em;box-sizing: border-box;padding-bottom: 0.4em;background-color: white;}#sk-container-id-8 div.sk-label label {font-family: monospace;font-weight: bold;display: inline-block;line-height: 1.2em;}#sk-container-id-8 div.sk-label-container {text-align: center;}#sk-container-id-8 div.sk-container {/* jupyter's `normalize.less` sets `[hidden] { display: none; }` but bootstrap.min.css set `[hidden] { display: none !important; }` so we also need the `!important` here to be able to override the default hidden behavior on the sphinx rendered scikit-learn.org. See: https://github.com/scikit-learn/scikit-learn/issues/21755 */display: inline-block !important;position: relative;}#sk-container-id-8 div.sk-text-repr-fallback {display: none;}</style><div id=\"sk-container-id-8\" class=\"sk-top-container\"><div class=\"sk-text-repr-fallback\"><pre>RandomForestClassifier(max_depth=14, min_samples_leaf=6, random_state=7)</pre><b>In a Jupyter environment, please rerun this cell to show the HTML representation or trust the notebook. <br />On GitHub, the HTML representation is unable to render, please try loading this page with nbviewer.org.</b></div><div class=\"sk-container\" hidden><div class=\"sk-item\"><div class=\"sk-estimator sk-toggleable\"><input class=\"sk-toggleable__control sk-hidden--visually\" id=\"sk-estimator-id-14\" type=\"checkbox\" checked><label for=\"sk-estimator-id-14\" class=\"sk-toggleable__label sk-toggleable__label-arrow\">RandomForestClassifier</label><div class=\"sk-toggleable__content\"><pre>RandomForestClassifier(max_depth=14, min_samples_leaf=6, random_state=7)</pre></div></div></div></div></div>"
      ],
      "text/plain": [
       "RandomForestClassifier(max_depth=14, min_samples_leaf=6, random_state=7)"
      ]
     },
     "execution_count": 53,
     "metadata": {},
     "output_type": "execute_result"
    }
   ],
   "source": [
    "searchCV.best_estimator_"
   ]
  },
  {
   "cell_type": "code",
   "execution_count": 51,
   "metadata": {},
   "outputs": [
    {
     "data": {
      "text/plain": [
       "{'min_samples_leaf': 6, 'max_depth': 14}"
      ]
     },
     "execution_count": 51,
     "metadata": {},
     "output_type": "execute_result"
    }
   ],
   "source": [
    "searchCV.best_params_"
   ]
  },
  {
   "cell_type": "code",
   "execution_count": null,
   "metadata": {},
   "outputs": [],
   "source": []
  }
 ],
 "metadata": {
  "kernelspec": {
   "display_name": "ML_38",
   "language": "python",
   "name": "python3"
  },
  "language_info": {
   "codemirror_mode": {
    "name": "ipython",
    "version": 3
   },
   "file_extension": ".py",
   "mimetype": "text/x-python",
   "name": "python",
   "nbconvert_exporter": "python",
   "pygments_lexer": "ipython3",
   "version": "3.8.19"
  }
 },
 "nbformat": 4,
 "nbformat_minor": 2
}
