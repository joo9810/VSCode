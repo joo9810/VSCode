{
 "cells": [
  {
   "cell_type": "markdown",
   "metadata": {},
   "source": [
    "### 다중분류를 위한 OVR(OVA)"
   ]
  },
  {
   "cell_type": "markdown",
   "metadata": {},
   "source": [
    "- 분류 클리스 수 만큼 2진 분류기를 생성하여 다중 분류를 진행"
   ]
  },
  {
   "cell_type": "code",
   "execution_count": 1,
   "metadata": {},
   "outputs": [],
   "source": [
    "# 모듈로딩\n",
    "from sklearn.datasets import load_digits\n",
    "from sklearn.model_selection import train_test_split\n",
    "\n",
    "import pandas as pd\n",
    "import numpy as np\n",
    "\n",
    "# 판다스에서 지수표기법(과학적 표기법) 정지 설정\n",
    "pd.options.display.float_format = '{:.5f}'.format\n",
    "np.set_printoptions(precision=6, suppress=True)"
   ]
  },
  {
   "cell_type": "markdown",
   "metadata": {},
   "source": [
    "- 데이터셋 load_digits\n",
    "    * 내장 데이터셋\n",
    "    * 이미지 데이터셋 => 8 * 8 크기 이미지\n",
    "    * 이미지 라벨/타겟 => 숫자 0 ~ 9까지 즉, 총 10개 클래스"
   ]
  },
  {
   "cell_type": "code",
   "execution_count": 2,
   "metadata": {},
   "outputs": [
    {
     "name": "stdout",
     "output_type": "stream",
     "text": [
      "(1797, 64) 2 (1797,) 1\n"
     ]
    }
   ],
   "source": [
    "featureDF, targetSR = load_digits(as_frame=True, return_X_y=True)\n",
    "\n",
    "# 이미지 픽셀 : 0 ~ 255 범위 (스케일링 안해줘도 되지만 연산을 쉽게 하기 위해)\n",
    "featureDF = featureDF / 255\n",
    "\n",
    "print(featureDF.shape, featureDF.ndim, targetSR.shape, targetSR.ndim)"
   ]
  },
  {
   "cell_type": "code",
   "execution_count": 3,
   "metadata": {},
   "outputs": [],
   "source": [
    "# featureDF, targetSR = load_iris(as_frame=True, return_X_y=True)\n",
    "# print(featureDF.shape, featureDF.ndim, targetSR.shape, targetSR.ndim)"
   ]
  },
  {
   "cell_type": "code",
   "execution_count": 4,
   "metadata": {},
   "outputs": [
    {
     "data": {
      "text/plain": [
       "(8, 8)"
      ]
     },
     "execution_count": 4,
     "metadata": {},
     "output_type": "execute_result"
    }
   ],
   "source": [
    "imgData = featureDF.iloc[1796].to_numpy().reshape(8,-1)\n",
    "imgData.shape"
   ]
  },
  {
   "cell_type": "code",
   "execution_count": 5,
   "metadata": {},
   "outputs": [
    {
     "data": {
      "image/png": "[encoded data removed]",
      "text/plain": [
       "<Figure size 640x480 with 1 Axes>"
      ]
     },
     "metadata": {},
     "output_type": "display_data"
    }
   ],
   "source": [
    "# 시각화\n",
    "import matplotlib.pyplot as plt\n",
    "\n",
    "plt.imshow(imgData, cmap='binary')\n",
    "plt.title(f\"[IMAGE {targetSR[1796]}]\")\n",
    "plt.show()"
   ]
  },
  {
   "cell_type": "markdown",
   "metadata": {},
   "source": [
    "- 학습용 데이터셋 준비 : trainDS, testDS"
   ]
  },
  {
   "cell_type": "code",
   "execution_count": 6,
   "metadata": {},
   "outputs": [],
   "source": [
    "X_train, X_test, y_train, y_test = train_test_split(featureDF, targetSR,\n",
    "                                                    stratify=targetSR,\n",
    "                                                    random_state=10)"
   ]
  },
  {
   "cell_type": "markdown",
   "metadata": {},
   "source": [
    "- OvR(Over vs Rest) 또는 OvA(Over vs All)\n",
    "    - 클래스마다 이진 분류기 만들어서 가장 높은 결정점수 낸 클래스 선택"
   ]
  },
  {
   "cell_type": "code",
   "execution_count": 7,
   "metadata": {},
   "outputs": [
    {
     "data": {
      "text/html": [
       "<style>#sk-container-id-1 {color: black;}#sk-container-id-1 pre{padding: 0;}#sk-container-id-1 div.sk-toggleable {background-color: white;}#sk-container-id-1 label.sk-toggleable__label {cursor: pointer;display: block;width: 100%;margin-bottom: 0;padding: 0.3em;box-sizing: border-box;text-align: center;}#sk-container-id-1 label.sk-toggleable__label-arrow:before {content: \"▸\";float: left;margin-right: 0.25em;color: #696969;}#sk-container-id-1 label.sk-toggleable__label-arrow:hover:before {color: black;}#sk-container-id-1 div.sk-estimator:hover label.sk-toggleable__label-arrow:before {color: black;}#sk-container-id-1 div.sk-toggleable__content {max-height: 0;max-width: 0;overflow: hidden;text-align: left;background-color: #f0f8ff;}#sk-container-id-1 div.sk-toggleable__content pre {margin: 0.2em;color: black;border-radius: 0.25em;background-color: #f0f8ff;}#sk-container-id-1 input.sk-toggleable__control:checked~div.sk-toggleable__content {max-height: 200px;max-width: 100%;overflow: auto;}#sk-container-id-1 input.sk-toggleable__control:checked~label.sk-toggleable__label-arrow:before {content: \"▾\";}#sk-container-id-1 div.sk-estimator input.sk-toggleable__control:checked~label.sk-toggleable__label {background-color: #d4ebff;}#sk-container-id-1 div.sk-label input.sk-toggleable__control:checked~label.sk-toggleable__label {background-color: #d4ebff;}#sk-container-id-1 input.sk-hidden--visually {border: 0;clip: rect(1px 1px 1px 1px);clip: rect(1px, 1px, 1px, 1px);height: 1px;margin: -1px;overflow: hidden;padding: 0;position: absolute;width: 1px;}#sk-container-id-1 div.sk-estimator {font-family: monospace;background-color: #f0f8ff;border: 1px dotted black;border-radius: 0.25em;box-sizing: border-box;margin-bottom: 0.5em;}#sk-container-id-1 div.sk-estimator:hover {background-color: #d4ebff;}#sk-container-id-1 div.sk-parallel-item::after {content: \"\";width: 100%;border-bottom: 1px solid gray;flex-grow: 1;}#sk-container-id-1 div.sk-label:hover label.sk-toggleable__label {background-color: #d4ebff;}#sk-container-id-1 div.sk-serial::before {content: \"\";position: absolute;border-left: 1px solid gray;box-sizing: border-box;top: 0;bottom: 0;left: 50%;z-index: 0;}#sk-container-id-1 div.sk-serial {display: flex;flex-direction: column;align-items: center;background-color: white;padding-right: 0.2em;padding-left: 0.2em;position: relative;}#sk-container-id-1 div.sk-item {position: relative;z-index: 1;}#sk-container-id-1 div.sk-parallel {display: flex;align-items: stretch;justify-content: center;background-color: white;position: relative;}#sk-container-id-1 div.sk-item::before, #sk-container-id-1 div.sk-parallel-item::before {content: \"\";position: absolute;border-left: 1px solid gray;box-sizing: border-box;top: 0;bottom: 0;left: 50%;z-index: -1;}#sk-container-id-1 div.sk-parallel-item {display: flex;flex-direction: column;z-index: 1;position: relative;background-color: white;}#sk-container-id-1 div.sk-parallel-item:first-child::after {align-self: flex-end;width: 50%;}#sk-container-id-1 div.sk-parallel-item:last-child::after {align-self: flex-start;width: 50%;}#sk-container-id-1 div.sk-parallel-item:only-child::after {width: 0;}#sk-container-id-1 div.sk-dashed-wrapped {border: 1px dashed gray;margin: 0 0.4em 0.5em 0.4em;box-sizing: border-box;padding-bottom: 0.4em;background-color: white;}#sk-container-id-1 div.sk-label label {font-family: monospace;font-weight: bold;display: inline-block;line-height: 1.2em;}#sk-container-id-1 div.sk-label-container {text-align: center;}#sk-container-id-1 div.sk-container {/* jupyter's `normalize.less` sets `[hidden] { display: none; }` but bootstrap.min.css set `[hidden] { display: none !important; }` so we also need the `!important` here to be able to override the default hidden behavior on the sphinx rendered scikit-learn.org. See: https://github.com/scikit-learn/scikit-learn/issues/21755 */display: inline-block !important;position: relative;}#sk-container-id-1 div.sk-text-repr-fallback {display: none;}</style><div id=\"sk-container-id-1\" class=\"sk-top-container\"><div class=\"sk-text-repr-fallback\"><pre>OneVsRestClassifier(estimator=LogisticRegression(max_iter=1000))</pre><b>In a Jupyter environment, please rerun this cell to show the HTML representation or trust the notebook. <br />On GitHub, the HTML representation is unable to render, please try loading this page with nbviewer.org.</b></div><div class=\"sk-container\" hidden><div class=\"sk-item sk-dashed-wrapped\"><div class=\"sk-label-container\"><div class=\"sk-label sk-toggleable\"><input class=\"sk-toggleable__control sk-hidden--visually\" id=\"sk-estimator-id-1\" type=\"checkbox\" ><label for=\"sk-estimator-id-1\" class=\"sk-toggleable__label sk-toggleable__label-arrow\">OneVsRestClassifier</label><div class=\"sk-toggleable__content\"><pre>OneVsRestClassifier(estimator=LogisticRegression(max_iter=1000))</pre></div></div></div><div class=\"sk-parallel\"><div class=\"sk-parallel-item\"><div class=\"sk-item\"><div class=\"sk-label-container\"><div class=\"sk-label sk-toggleable\"><input class=\"sk-toggleable__control sk-hidden--visually\" id=\"sk-estimator-id-2\" type=\"checkbox\" ><label for=\"sk-estimator-id-2\" class=\"sk-toggleable__label sk-toggleable__label-arrow\">estimator: LogisticRegression</label><div class=\"sk-toggleable__content\"><pre>LogisticRegression(max_iter=1000)</pre></div></div></div><div class=\"sk-serial\"><div class=\"sk-item\"><div class=\"sk-estimator sk-toggleable\"><input class=\"sk-toggleable__control sk-hidden--visually\" id=\"sk-estimator-id-3\" type=\"checkbox\" ><label for=\"sk-estimator-id-3\" class=\"sk-toggleable__label sk-toggleable__label-arrow\">LogisticRegression</label><div class=\"sk-toggleable__content\"><pre>LogisticRegression(max_iter=1000)</pre></div></div></div></div></div></div></div></div></div></div>"
      ],
      "text/plain": [
       "OneVsRestClassifier(estimator=LogisticRegression(max_iter=1000))"
      ]
     },
     "execution_count": 7,
     "metadata": {},
     "output_type": "execute_result"
    }
   ],
   "source": [
    "# 모듈로딩\n",
    "from sklearn.multiclass import OneVsRestClassifier\n",
    "from sklearn.linear_model import LogisticRegression\n",
    "\n",
    "ovr_clf = OneVsRestClassifier(LogisticRegression(max_iter = 1000))\n",
    "ovr_clf.fit(X_train, y_train)"
   ]
  },
  {
   "cell_type": "code",
   "execution_count": null,
   "metadata": {},
   "outputs": [],
   "source": []
  },
  {
   "cell_type": "code",
   "execution_count": 8,
   "metadata": {},
   "outputs": [
    {
     "name": "stdout",
     "output_type": "stream",
     "text": [
      "ovr_clf.estimators_ : 10개\n",
      "ovr_clf.classes_ : [0 1 2 3 4 5 6 7 8 9]\n",
      "ovr_clf.n_classes_ : 10\n",
      "ovr_clf.label_binarizer_ : LabelBinarizer(sparse_output=True)\n"
     ]
    }
   ],
   "source": [
    "# 모델 파라미터\n",
    "print(f\"ovr_clf.estimators_ : {len(ovr_clf.estimators_)}개\")\n",
    "print(f\"ovr_clf.classes_ : {ovr_clf.classes_}\")\n",
    "print(f\"ovr_clf.n_classes_ : {ovr_clf.n_classes_}\")\n",
    "print(f\"ovr_clf.label_binarizer_ : {ovr_clf.label_binarizer_}\")"
   ]
  },
  {
   "cell_type": "code",
   "execution_count": 9,
   "metadata": {},
   "outputs": [
    {
     "data": {
      "text/html": [
       "<style>#sk-container-id-2 {color: black;}#sk-container-id-2 pre{padding: 0;}#sk-container-id-2 div.sk-toggleable {background-color: white;}#sk-container-id-2 label.sk-toggleable__label {cursor: pointer;display: block;width: 100%;margin-bottom: 0;padding: 0.3em;box-sizing: border-box;text-align: center;}#sk-container-id-2 label.sk-toggleable__label-arrow:before {content: \"▸\";float: left;margin-right: 0.25em;color: #696969;}#sk-container-id-2 label.sk-toggleable__label-arrow:hover:before {color: black;}#sk-container-id-2 div.sk-estimator:hover label.sk-toggleable__label-arrow:before {color: black;}#sk-container-id-2 div.sk-toggleable__content {max-height: 0;max-width: 0;overflow: hidden;text-align: left;background-color: #f0f8ff;}#sk-container-id-2 div.sk-toggleable__content pre {margin: 0.2em;color: black;border-radius: 0.25em;background-color: #f0f8ff;}#sk-container-id-2 input.sk-toggleable__control:checked~div.sk-toggleable__content {max-height: 200px;max-width: 100%;overflow: auto;}#sk-container-id-2 input.sk-toggleable__control:checked~label.sk-toggleable__label-arrow:before {content: \"▾\";}#sk-container-id-2 div.sk-estimator input.sk-toggleable__control:checked~label.sk-toggleable__label {background-color: #d4ebff;}#sk-container-id-2 div.sk-label input.sk-toggleable__control:checked~label.sk-toggleable__label {background-color: #d4ebff;}#sk-container-id-2 input.sk-hidden--visually {border: 0;clip: rect(1px 1px 1px 1px);clip: rect(1px, 1px, 1px, 1px);height: 1px;margin: -1px;overflow: hidden;padding: 0;position: absolute;width: 1px;}#sk-container-id-2 div.sk-estimator {font-family: monospace;background-color: #f0f8ff;border: 1px dotted black;border-radius: 0.25em;box-sizing: border-box;margin-bottom: 0.5em;}#sk-container-id-2 div.sk-estimator:hover {background-color: #d4ebff;}#sk-container-id-2 div.sk-parallel-item::after {content: \"\";width: 100%;border-bottom: 1px solid gray;flex-grow: 1;}#sk-container-id-2 div.sk-label:hover label.sk-toggleable__label {background-color: #d4ebff;}#sk-container-id-2 div.sk-serial::before {content: \"\";position: absolute;border-left: 1px solid gray;box-sizing: border-box;top: 0;bottom: 0;left: 50%;z-index: 0;}#sk-container-id-2 div.sk-serial {display: flex;flex-direction: column;align-items: center;background-color: white;padding-right: 0.2em;padding-left: 0.2em;position: relative;}#sk-container-id-2 div.sk-item {position: relative;z-index: 1;}#sk-container-id-2 div.sk-parallel {display: flex;align-items: stretch;justify-content: center;background-color: white;position: relative;}#sk-container-id-2 div.sk-item::before, #sk-container-id-2 div.sk-parallel-item::before {content: \"\";position: absolute;border-left: 1px solid gray;box-sizing: border-box;top: 0;bottom: 0;left: 50%;z-index: -1;}#sk-container-id-2 div.sk-parallel-item {display: flex;flex-direction: column;z-index: 1;position: relative;background-color: white;}#sk-container-id-2 div.sk-parallel-item:first-child::after {align-self: flex-end;width: 50%;}#sk-container-id-2 div.sk-parallel-item:last-child::after {align-self: flex-start;width: 50%;}#sk-container-id-2 div.sk-parallel-item:only-child::after {width: 0;}#sk-container-id-2 div.sk-dashed-wrapped {border: 1px dashed gray;margin: 0 0.4em 0.5em 0.4em;box-sizing: border-box;padding-bottom: 0.4em;background-color: white;}#sk-container-id-2 div.sk-label label {font-family: monospace;font-weight: bold;display: inline-block;line-height: 1.2em;}#sk-container-id-2 div.sk-label-container {text-align: center;}#sk-container-id-2 div.sk-container {/* jupyter's `normalize.less` sets `[hidden] { display: none; }` but bootstrap.min.css set `[hidden] { display: none !important; }` so we also need the `!important` here to be able to override the default hidden behavior on the sphinx rendered scikit-learn.org. See: https://github.com/scikit-learn/scikit-learn/issues/21755 */display: inline-block !important;position: relative;}#sk-container-id-2 div.sk-text-repr-fallback {display: none;}</style><div id=\"sk-container-id-2\" class=\"sk-top-container\"><div class=\"sk-text-repr-fallback\"><pre>LogisticRegression(max_iter=1000, multi_class=&#x27;ovr&#x27;)</pre><b>In a Jupyter environment, please rerun this cell to show the HTML representation or trust the notebook. <br />On GitHub, the HTML representation is unable to render, please try loading this page with nbviewer.org.</b></div><div class=\"sk-container\" hidden><div class=\"sk-item\"><div class=\"sk-estimator sk-toggleable\"><input class=\"sk-toggleable__control sk-hidden--visually\" id=\"sk-estimator-id-4\" type=\"checkbox\" checked><label for=\"sk-estimator-id-4\" class=\"sk-toggleable__label sk-toggleable__label-arrow\">LogisticRegression</label><div class=\"sk-toggleable__content\"><pre>LogisticRegression(max_iter=1000, multi_class=&#x27;ovr&#x27;)</pre></div></div></div></div></div>"
      ],
      "text/plain": [
       "LogisticRegression(max_iter=1000, multi_class='ovr')"
      ]
     },
     "execution_count": 9,
     "metadata": {},
     "output_type": "execute_result"
    }
   ],
   "source": [
    "model = LogisticRegression(multi_class='ovr', max_iter=1000)\n",
    "model.fit(X_train, y_train)"
   ]
  },
  {
   "cell_type": "code",
   "execution_count": 10,
   "metadata": {},
   "outputs": [
    {
     "name": "stdout",
     "output_type": "stream",
     "text": [
      "[0 분류기] [[ 0.       -0.117211 -0.361977  0.637993 -0.259516 -1.280042 -0.549555\n",
      "  -0.051539 -0.002489 -0.450771  0.87553   0.67567   0.761063  1.421815\n",
      "  -0.372707 -0.047908 -0.000876  0.483967  1.735262 -0.566662 -1.827955\n",
      "   2.027963  0.680701 -0.023    -0.000234  1.171667  1.431241 -2.773392\n",
      "  -4.069452  0.621786  1.751173 -0.001039  0.        1.440423  1.660744\n",
      "  -3.354668 -4.168379 -0.182033  1.700054  0.       -0.006227  0.753401\n",
      "   2.703978 -2.235013 -2.415652  1.074093  0.919099 -0.012728 -0.001924\n",
      "   0.023211  2.278424  0.391211  0.569341  1.801441 -0.651051 -0.079346\n",
      "  -0.000345 -0.112692 -0.545168  0.615148  0.574332 -0.674338 -0.772614\n",
      "  -0.134407]] [-2.294685]\n",
      "[1 분류기] [[ 0.       -0.143074 -1.132225 -1.180677 -0.866008  0.169236 -0.195313\n",
      "  -0.061496 -0.003632 -0.881948 -2.792764  0.176256  1.541474  0.322755\n",
      "  -0.319918 -0.054061 -0.001149 -0.63731  -1.214654  3.468259  3.133466\n",
      "  -0.135821 -0.452731 -0.026653 -0.000552 -0.068647  0.070149  2.400616\n",
      "   1.588896 -0.631002 -0.809496 -0.001205  0.       -0.558574 -0.260303\n",
      "   1.113715  1.289588 -1.551659 -1.112884  0.       -0.006201 -0.577249\n",
      "  -0.731358  1.11708   2.294093 -1.137351 -1.312492 -0.015789 -0.002369\n",
      "  -0.276038 -1.065515  0.607529  1.788654 -0.34083  -0.701326  0.217161\n",
      "  -0.000526 -0.135093 -1.449499 -1.291752  0.553022  1.049397  0.491394\n",
      "   0.566231]] [-2.361981]\n",
      "[2 분류기] [[ 0.        0.284257  1.812571  0.828494 -0.964802 -1.512853 -0.507992\n",
      "  -0.043779  0.002691  1.343211  1.395679  0.126082  1.048209 -1.277998\n",
      "  -0.601001 -0.033644  0.00213   0.760716 -0.781405 -1.117928  1.77155\n",
      "  -0.824019 -0.459762 -0.012912 -0.000312 -0.663864 -3.090672 -2.123\n",
      "   0.759327 -1.124006 -0.759794 -0.000561  0.       -0.855328 -2.646322\n",
      "  -0.3032    0.102722 -2.676301 -1.223178  0.       -0.00343  -0.376686\n",
      "  -0.669312  2.089205 -0.034131 -2.600207 -1.141483 -0.006805  0.009771\n",
      "   0.314707  1.533574  2.07148   1.385981  0.86416   1.464356  0.200461\n",
      "   0.003457  0.320918  1.880754  0.594581  0.491056  2.030733  2.639379\n",
      "   0.729059]] [-2.251647]\n",
      "[3 분류기] [[ 0.        0.114241  1.135903  0.97724   1.163604  0.804151 -0.248112\n",
      "  -0.051214  0.002909  0.982377  0.864783 -1.047864  0.409163  1.556555\n",
      "   0.13427  -0.034847  0.002136 -0.269275 -2.78974  -1.534066  2.099415\n",
      "   0.45057  -0.448591 -0.017214 -0.000202 -0.89927  -3.266823  0.052319\n",
      "   1.655175 -1.048013 -0.982252 -0.00068   0.       -0.847912 -2.584993\n",
      "  -1.44488   0.96782   1.199606 -0.306613  0.       -0.002873 -0.388297\n",
      "  -2.121545 -2.676945 -1.34891   1.948408  1.288366 -0.012285 -0.001383\n",
      "   0.0443   -0.194491 -1.314658 -0.428732  1.807895  0.97342  -0.06622\n",
      "  -0.000311  0.040831  1.428216  1.106252  1.046526  0.794133 -0.389622\n",
      "  -0.183926]] [-2.27128]\n",
      "[4 분류기] [[ 0.       -0.104428 -1.74603  -2.048382 -0.246867 -1.721339 -0.615962\n",
      "   0.007724 -0.002071 -0.636068 -2.787431  0.301918 -0.839696 -2.587815\n",
      "  -0.385839  0.082844 -0.000676 -0.707055  0.102784  1.685561 -0.69733\n",
      "  -0.858458  0.819824  0.121277  0.003238  0.815913  2.085088 -1.015195\n",
      "  -0.79709   1.25589   1.589749  0.009493  0.        2.656402  2.524749\n",
      "   0.089611  1.141939  2.267912  1.064674  0.        0.040723  2.142772\n",
      "   1.686271  2.110828  2.824266  0.915248 -0.788666 -0.015979  0.005098\n",
      "   0.223633 -1.945542 -1.014973  1.658777 -1.896847 -1.57168  -0.092205\n",
      "  -0.00037  -0.080464 -1.823979 -1.777193  0.082021 -2.061215 -0.852263\n",
      "  -0.143159]] [-2.108111]\n",
      "[5 분류기] [[ 0.        0.327526  2.182162  0.444987  0.932667  2.970383  1.208201\n",
      "  -0.051727 -0.003533  0.839269  1.9652    0.005067 -0.955935 -1.051608\n",
      "   0.043834 -0.040213 -0.001206  1.335295  1.990108 -0.47991  -2.374555\n",
      "  -3.453842 -0.867074 -0.026847 -0.000494  1.391492  2.431671  1.514511\n",
      "  -0.274864 -1.33552  -0.877423 -0.001214  0.       -0.106189  0.051731\n",
      "  -0.435841 -0.794169 -0.473578 -0.471155  0.       -0.00428  -0.575412\n",
      "  -2.576776 -1.692831 -0.095819  0.032654 -0.472653 -0.011555 -0.001486\n",
      "   0.086772 -0.701508 -0.606917  0.698112 -0.629158 -1.149296 -0.092779\n",
      "  -0.000284  0.317993  2.308682  1.169314 -1.134715 -1.927019 -0.863335\n",
      "  -0.18044 ]] [-2.15939]\n",
      "[6 분류기] [[ 0.       -0.128331 -1.683385 -0.150648 -0.729366 -1.631417 -0.473251\n",
      "  -0.043669 -0.002787 -0.806326 -1.288791  1.023442 -1.632216 -2.860368\n",
      "  -0.644992 -0.041206 -0.000915 -0.820058  1.053793  0.946441 -2.567802\n",
      "  -3.161473 -0.770678 -0.023899 -0.000392 -0.155748  1.831418 -0.125247\n",
      "  -2.329354 -2.275438 -1.021913 -0.001069  0.        0.329559  2.868946\n",
      "   1.75209   0.856641  0.724097 -0.069012  0.       -0.007542 -0.079855\n",
      "   3.053948  1.330562 -1.035931  0.676363  2.444778  0.09496  -0.001769\n",
      "  -0.256405  1.063424  1.277708 -1.790618  1.074436  2.9352    0.112451\n",
      "  -0.000281 -0.118103 -1.646896 -0.545125  1.222518  2.642809  0.898864\n",
      "  -0.171642]] [-2.297118]\n",
      "[7 분류기] [[ 0.       -0.066874 -0.112357  0.665212  1.097937  2.258939  1.680359\n",
      "   0.395091 -0.002901 -0.460162  0.07805  -0.099131  0.300227  1.77424\n",
      "   1.492545  0.238081 -0.00092  -0.781829 -2.239789 -2.160821 -0.206457\n",
      "   1.478091  0.595186  0.029613 -0.000422 -0.855698 -2.151934 -1.341444\n",
      "   0.716894  1.976569  1.134042 -0.001487  0.       -0.308322  0.742492\n",
      "   1.890657  1.832099  1.373349  0.861981  0.       -0.004575 -0.129263\n",
      "  -0.535102  1.740207  1.275587 -1.671832 -1.014039 -0.010074 -0.001987\n",
      "  -0.24425  -1.845424  1.297625 -1.712596 -3.52696  -1.399802 -0.073362\n",
      "  -0.000424 -0.072437  0.262298 -0.027345 -4.140954 -2.732656 -0.812173\n",
      "  -0.141301]] [-2.10291]\n",
      "[8 분류기] [[ 0.       -0.089969 -0.093524 -0.127436  0.172645  0.104471 -0.42798\n",
      "  -0.05712   0.015408 -0.053942  1.045998 -0.20527  -0.550168  1.62115\n",
      "   0.293176 -0.046181  0.002773  0.314865  0.979336  0.084267  0.171776\n",
      "   1.853671  0.215999 -0.020982 -0.000362 -0.493034 -0.085335  1.894681\n",
      "   1.52925  -0.269267 -0.800088 -0.00102   0.       -0.953568 -0.528622\n",
      "   2.321706  1.167701 -1.980478 -1.333439  0.       -0.004399 -0.284337\n",
      "   1.781699  0.766265  0.605536  0.303226 -0.989243 -0.013339 -0.002066\n",
      "   0.140841  1.627685 -0.766344 -0.643084  0.471402 -0.626019 -0.098737\n",
      "  -0.000447 -0.069375 -0.311915  0.36644   0.644858 -0.005816 -0.401089\n",
      "  -0.170031]] [-2.659853]\n",
      "[9 분류기] [[ 0.       -0.085071  0.038775 -0.019729 -0.300182 -0.078214  0.138349\n",
      "  -0.042143 -0.00353   0.105224  0.834068 -0.960492 -0.052882  1.262227\n",
      "   0.389616 -0.02449  -0.001334  0.373067  1.290642 -0.370621  0.558841\n",
      "   2.735566  0.669613 -0.002262 -0.000253 -0.250287  0.732189  1.700338\n",
      "   1.43244   2.832063  0.645759 -0.001249  0.       -0.962858 -1.98672\n",
      "  -1.521696 -2.357251  1.142192  0.744269  0.       -0.003337 -0.601851\n",
      "  -2.718896 -2.65995  -2.12604   0.430373  0.959035  0.002059 -0.001379\n",
      "  -0.050527 -0.702201 -1.971739 -1.590489  0.400873  0.651097 -0.030941\n",
      "  -0.000303 -0.097587 -0.082665 -0.15271   0.606476  0.864757  0.037096\n",
      "  -0.160504]] [-2.197988]\n"
     ]
    }
   ],
   "source": [
    "for idx in range(ovr_clf.n_classes_):\n",
    "    print(f\"[{idx} 분류기]\", ovr_clf.estimators_[idx].coef_, ovr_clf.estimators_[idx].intercept_)"
   ]
  },
  {
   "cell_type": "code",
   "execution_count": 66,
   "metadata": {},
   "outputs": [
    {
     "data": {
      "image/png": "[encoded data removed]",
      "text/plain": [
       "<Figure size 640x480 with 1 Axes>"
      ]
     },
     "metadata": {},
     "output_type": "display_data"
    }
   ],
   "source": [
    "imgData2 = (X_test.loc[1249, :] * 255).to_numpy().reshape(8,-1)\n",
    "imgData2.shape\n",
    "\n",
    "# 시각화\n",
    "import matplotlib.pyplot as plt\n",
    "\n",
    "plt.imshow(imgData2, cmap='binary')\n",
    "plt.title(f\"[IMAGE {y_test[1249]}]\")\n",
    "plt.show()"
   ]
  },
  {
   "cell_type": "code",
   "execution_count": 70,
   "metadata": {},
   "outputs": [
    {
     "data": {
      "text/plain": [
       "array([[0.118287, 0.06343 , 0.079839, 0.154541, 0.065147, 0.109963,\n",
       "        0.053017, 0.081382, 0.092324, 0.182071]])"
      ]
     },
     "execution_count": 70,
     "metadata": {},
     "output_type": "execute_result"
    }
   ],
   "source": [
    "ovr_clf.predict_proba(X_test.loc[[1249], :])"
   ]
  },
  {
   "cell_type": "code",
   "execution_count": 65,
   "metadata": {},
   "outputs": [
    {
     "data": {
      "text/plain": [
       "(0.18207056534993868, 9)"
      ]
     },
     "execution_count": 65,
     "metadata": {},
     "output_type": "execute_result"
    }
   ],
   "source": [
    "ovr_clf.predict_proba(X_test.loc[[1249], :]).max(), ovr_clf.predict_proba(X_test.loc[[1249], :]).argmax()"
   ]
  },
  {
   "cell_type": "code",
   "execution_count": 11,
   "metadata": {},
   "outputs": [
    {
     "data": {
      "text/plain": [
       "array([[0.078773, 0.07785 , 0.117592, 0.192254, 0.046543, 0.106452,\n",
       "        0.083023, 0.069872, 0.090864, 0.136776],\n",
       "       [0.118287, 0.06343 , 0.079839, 0.154541, 0.065147, 0.109963,\n",
       "        0.053017, 0.081382, 0.092324, 0.182071]])"
      ]
     },
     "execution_count": 11,
     "metadata": {},
     "output_type": "execute_result"
    }
   ],
   "source": [
    "ovr_clf.predict_proba(X_test.iloc[:2])"
   ]
  },
  {
   "cell_type": "code",
   "execution_count": 12,
   "metadata": {},
   "outputs": [
    {
     "name": "stdout",
     "output_type": "stream",
     "text": [
      "model.classes_ : [0 1 2 3 4 5 6 7 8 9]\n",
      "model.coef_ : [[ 0.       -0.117211 -0.361977  0.637993 -0.259516 -1.280042 -0.549555\n",
      "  -0.051539 -0.002489 -0.450771  0.87553   0.67567   0.761063  1.421815\n",
      "  -0.372707 -0.047908 -0.000876  0.483967  1.735262 -0.566662 -1.827955\n",
      "   2.027963  0.680701 -0.023    -0.000234  1.171667  1.431241 -2.773392\n",
      "  -4.069452  0.621786  1.751173 -0.001039  0.        1.440423  1.660744\n",
      "  -3.354668 -4.168379 -0.182033  1.700054  0.       -0.006227  0.753401\n",
      "   2.703978 -2.235013 -2.415652  1.074093  0.919099 -0.012728 -0.001924\n",
      "   0.023211  2.278424  0.391211  0.569341  1.801441 -0.651051 -0.079346\n",
      "  -0.000345 -0.112692 -0.545168  0.615148  0.574332 -0.674338 -0.772614\n",
      "  -0.134407]\n",
      " [ 0.       -0.143074 -1.132225 -1.180677 -0.866008  0.169236 -0.195313\n",
      "  -0.061496 -0.003632 -0.881948 -2.792764  0.176256  1.541474  0.322755\n",
      "  -0.319918 -0.054061 -0.001149 -0.63731  -1.214654  3.468259  3.133466\n",
      "  -0.135821 -0.452731 -0.026653 -0.000552 -0.068647  0.070149  2.400616\n",
      "   1.588896 -0.631002 -0.809496 -0.001205  0.       -0.558574 -0.260303\n",
      "   1.113715  1.289588 -1.551659 -1.112884  0.       -0.006201 -0.577249\n",
      "  -0.731358  1.11708   2.294093 -1.137351 -1.312492 -0.015789 -0.002369\n",
      "  -0.276038 -1.065515  0.607529  1.788654 -0.34083  -0.701326  0.217161\n",
      "  -0.000526 -0.135093 -1.449499 -1.291752  0.553022  1.049397  0.491394\n",
      "   0.566231]\n",
      " [ 0.        0.284257  1.812571  0.828494 -0.964802 -1.512853 -0.507992\n",
      "  -0.043779  0.002691  1.343211  1.395679  0.126082  1.048209 -1.277998\n",
      "  -0.601001 -0.033644  0.00213   0.760716 -0.781405 -1.117928  1.77155\n",
      "  -0.824019 -0.459762 -0.012912 -0.000312 -0.663864 -3.090672 -2.123\n",
      "   0.759327 -1.124006 -0.759794 -0.000561  0.       -0.855328 -2.646322\n",
      "  -0.3032    0.102722 -2.676301 -1.223178  0.       -0.00343  -0.376686\n",
      "  -0.669312  2.089205 -0.034131 -2.600207 -1.141483 -0.006805  0.009771\n",
      "   0.314707  1.533574  2.07148   1.385981  0.86416   1.464356  0.200461\n",
      "   0.003457  0.320918  1.880754  0.594581  0.491056  2.030733  2.639379\n",
      "   0.729059]\n",
      " [ 0.        0.114241  1.135903  0.97724   1.163604  0.804151 -0.248112\n",
      "  -0.051214  0.002909  0.982377  0.864783 -1.047864  0.409163  1.556555\n",
      "   0.13427  -0.034847  0.002136 -0.269275 -2.78974  -1.534066  2.099415\n",
      "   0.45057  -0.448591 -0.017214 -0.000202 -0.89927  -3.266823  0.052319\n",
      "   1.655175 -1.048013 -0.982252 -0.00068   0.       -0.847912 -2.584993\n",
      "  -1.44488   0.96782   1.199606 -0.306613  0.       -0.002873 -0.388297\n",
      "  -2.121545 -2.676945 -1.34891   1.948408  1.288366 -0.012285 -0.001383\n",
      "   0.0443   -0.194491 -1.314658 -0.428732  1.807895  0.97342  -0.06622\n",
      "  -0.000311  0.040831  1.428216  1.106252  1.046526  0.794133 -0.389622\n",
      "  -0.183926]\n",
      " [ 0.       -0.104428 -1.74603  -2.048382 -0.246867 -1.721339 -0.615962\n",
      "   0.007724 -0.002071 -0.636068 -2.787431  0.301918 -0.839696 -2.587815\n",
      "  -0.385839  0.082844 -0.000676 -0.707055  0.102784  1.685561 -0.69733\n",
      "  -0.858458  0.819824  0.121277  0.003238  0.815913  2.085088 -1.015195\n",
      "  -0.79709   1.25589   1.589749  0.009493  0.        2.656402  2.524749\n",
      "   0.089611  1.141939  2.267912  1.064674  0.        0.040723  2.142772\n",
      "   1.686271  2.110828  2.824266  0.915248 -0.788666 -0.015979  0.005098\n",
      "   0.223633 -1.945542 -1.014973  1.658777 -1.896847 -1.57168  -0.092205\n",
      "  -0.00037  -0.080464 -1.823979 -1.777193  0.082021 -2.061215 -0.852263\n",
      "  -0.143159]\n",
      " [ 0.        0.327526  2.182162  0.444987  0.932667  2.970383  1.208201\n",
      "  -0.051727 -0.003533  0.839269  1.9652    0.005067 -0.955935 -1.051608\n",
      "   0.043834 -0.040213 -0.001206  1.335295  1.990108 -0.47991  -2.374555\n",
      "  -3.453842 -0.867074 -0.026847 -0.000494  1.391492  2.431671  1.514511\n",
      "  -0.274864 -1.33552  -0.877423 -0.001214  0.       -0.106189  0.051731\n",
      "  -0.435841 -0.794169 -0.473578 -0.471155  0.       -0.00428  -0.575412\n",
      "  -2.576776 -1.692831 -0.095819  0.032654 -0.472653 -0.011555 -0.001486\n",
      "   0.086772 -0.701508 -0.606917  0.698112 -0.629158 -1.149296 -0.092779\n",
      "  -0.000284  0.317993  2.308682  1.169314 -1.134715 -1.927019 -0.863335\n",
      "  -0.18044 ]\n",
      " [ 0.       -0.128331 -1.683385 -0.150648 -0.729366 -1.631417 -0.473251\n",
      "  -0.043669 -0.002787 -0.806326 -1.288791  1.023442 -1.632216 -2.860368\n",
      "  -0.644992 -0.041206 -0.000915 -0.820058  1.053793  0.946441 -2.567802\n",
      "  -3.161473 -0.770678 -0.023899 -0.000392 -0.155748  1.831418 -0.125247\n",
      "  -2.329354 -2.275438 -1.021913 -0.001069  0.        0.329559  2.868946\n",
      "   1.75209   0.856641  0.724097 -0.069012  0.       -0.007542 -0.079855\n",
      "   3.053948  1.330562 -1.035931  0.676363  2.444778  0.09496  -0.001769\n",
      "  -0.256405  1.063424  1.277708 -1.790618  1.074436  2.9352    0.112451\n",
      "  -0.000281 -0.118103 -1.646896 -0.545125  1.222518  2.642809  0.898864\n",
      "  -0.171642]\n",
      " [ 0.       -0.066874 -0.112357  0.665212  1.097937  2.258939  1.680359\n",
      "   0.395091 -0.002901 -0.460162  0.07805  -0.099131  0.300227  1.77424\n",
      "   1.492545  0.238081 -0.00092  -0.781829 -2.239789 -2.160821 -0.206457\n",
      "   1.478091  0.595186  0.029613 -0.000422 -0.855698 -2.151934 -1.341444\n",
      "   0.716894  1.976569  1.134042 -0.001487  0.       -0.308322  0.742492\n",
      "   1.890657  1.832099  1.373349  0.861981  0.       -0.004575 -0.129263\n",
      "  -0.535102  1.740207  1.275587 -1.671832 -1.014039 -0.010074 -0.001987\n",
      "  -0.24425  -1.845424  1.297625 -1.712596 -3.52696  -1.399802 -0.073362\n",
      "  -0.000424 -0.072437  0.262298 -0.027345 -4.140954 -2.732656 -0.812173\n",
      "  -0.141301]\n",
      " [ 0.       -0.089969 -0.093524 -0.127436  0.172645  0.104471 -0.42798\n",
      "  -0.05712   0.015408 -0.053942  1.045998 -0.20527  -0.550168  1.62115\n",
      "   0.293176 -0.046181  0.002773  0.314865  0.979336  0.084267  0.171776\n",
      "   1.853671  0.215999 -0.020982 -0.000362 -0.493034 -0.085335  1.894681\n",
      "   1.52925  -0.269267 -0.800088 -0.00102   0.       -0.953568 -0.528622\n",
      "   2.321706  1.167701 -1.980478 -1.333439  0.       -0.004399 -0.284337\n",
      "   1.781699  0.766265  0.605536  0.303226 -0.989243 -0.013339 -0.002066\n",
      "   0.140841  1.627685 -0.766344 -0.643084  0.471402 -0.626019 -0.098737\n",
      "  -0.000447 -0.069375 -0.311915  0.36644   0.644858 -0.005816 -0.401089\n",
      "  -0.170031]\n",
      " [ 0.       -0.085071  0.038775 -0.019729 -0.300182 -0.078214  0.138349\n",
      "  -0.042143 -0.00353   0.105224  0.834068 -0.960492 -0.052882  1.262227\n",
      "   0.389616 -0.02449  -0.001334  0.373067  1.290642 -0.370621  0.558841\n",
      "   2.735566  0.669613 -0.002262 -0.000253 -0.250287  0.732189  1.700338\n",
      "   1.43244   2.832063  0.645759 -0.001249  0.       -0.962858 -1.98672\n",
      "  -1.521696 -2.357251  1.142192  0.744269  0.       -0.003337 -0.601851\n",
      "  -2.718896 -2.65995  -2.12604   0.430373  0.959035  0.002059 -0.001379\n",
      "  -0.050527 -0.702201 -1.971739 -1.590489  0.400873  0.651097 -0.030941\n",
      "  -0.000303 -0.097587 -0.082665 -0.15271   0.606476  0.864757  0.037096\n",
      "  -0.160504]]\n",
      "model.intercept_ : [-2.294685 -2.361981 -2.251647 -2.27128  -2.108111 -2.15939  -2.297118\n",
      " -2.10291  -2.659853 -2.197988]\n"
     ]
    }
   ],
   "source": [
    "# LogisticRegression에서 제공하는 속성\n",
    "print(f\"model.classes_ : {model.classes_}\")  # 클래스 목록\n",
    "print(f\"model.coef_ : {model.coef_}\")        # 각 클래스에 대한 회귀 계수\n",
    "print(f\"model.intercept_ : {model.intercept_}\")  # 각 클래스에 대한 절편"
   ]
  },
  {
   "cell_type": "code",
   "execution_count": null,
   "metadata": {},
   "outputs": [],
   "source": []
  }
 ],
 "metadata": {
  "kernelspec": {
   "display_name": "ML_38",
   "language": "python",
   "name": "python3"
  },
  "language_info": {
   "codemirror_mode": {
    "name": "ipython",
    "version": 3
   },
   "file_extension": ".py",
   "mimetype": "text/x-python",
   "name": "python",
   "nbconvert_exporter": "python",
   "pygments_lexer": "ipython3",
   "version": "3.8.19"
  }
 },
 "nbformat": 4,
 "nbformat_minor": 2
}
