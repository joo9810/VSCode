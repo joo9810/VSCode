{
 "cells": [
  {
   "cell_type": "code",
   "execution_count": 151,
   "metadata": {},
   "outputs": [],
   "source": [
    "import pandas as pd\n",
    "import matplotlib.pyplot as plt\n",
    "from sklearn.preprocessing import LabelEncoder, StandardScaler\n",
    "from sklearn.model_selection import train_test_split\n",
    "\n",
    "import torch\n",
    "import torch.nn as nn\n",
    "import torch.nn.functional as F\n",
    "import torch.optim as optim\n",
    "from torch.utils.data import Dataset, DataLoader\n",
    "from torchinfo import summary\n",
    "from torchmetrics.regression import *\n",
    "from torchmetrics.classification import *\n",
    "from torchmetrics.functional.regression import r2_score\n",
    "from torchmetrics.functional.classification import f1_score"
   ]
  },
  {
   "cell_type": "code",
   "execution_count": 152,
   "metadata": {},
   "outputs": [
    {
     "name": "stdout",
     "output_type": "stream",
     "text": [
      "DEVICE : cpu\n"
     ]
    },
    {
     "data": {
      "text/html": [
       "<div>\n",
       "<style scoped>\n",
       "    .dataframe tbody tr th:only-of-type {\n",
       "        vertical-align: middle;\n",
       "    }\n",
       "\n",
       "    .dataframe tbody tr th {\n",
       "        vertical-align: top;\n",
       "    }\n",
       "\n",
       "    .dataframe thead th {\n",
       "        text-align: right;\n",
       "    }\n",
       "</style>\n",
       "<table border=\"1\" class=\"dataframe\">\n",
       "  <thead>\n",
       "    <tr style=\"text-align: right;\">\n",
       "      <th></th>\n",
       "      <th>sepal.length</th>\n",
       "      <th>sepal.width</th>\n",
       "      <th>petal.length</th>\n",
       "      <th>petal.width</th>\n",
       "      <th>variety</th>\n",
       "    </tr>\n",
       "  </thead>\n",
       "  <tbody>\n",
       "    <tr>\n",
       "      <th>0</th>\n",
       "      <td>5.1</td>\n",
       "      <td>3.5</td>\n",
       "      <td>1.4</td>\n",
       "      <td>0.2</td>\n",
       "      <td>Setosa</td>\n",
       "    </tr>\n",
       "    <tr>\n",
       "      <th>1</th>\n",
       "      <td>4.9</td>\n",
       "      <td>3.0</td>\n",
       "      <td>1.4</td>\n",
       "      <td>0.2</td>\n",
       "      <td>Setosa</td>\n",
       "    </tr>\n",
       "  </tbody>\n",
       "</table>\n",
       "</div>"
      ],
      "text/plain": [
       "   sepal.length  sepal.width  petal.length  petal.width variety\n",
       "0           5.1          3.5           1.4          0.2  Setosa\n",
       "1           4.9          3.0           1.4          0.2  Setosa"
      ]
     },
     "execution_count": 152,
     "metadata": {},
     "output_type": "execute_result"
    }
   ],
   "source": [
    "torch.manual_seed(1) # 시드 설정\n",
    "\n",
    "DEVICE = 'cuda' if torch.cuda.is_available() else 'cpu'\n",
    "print(f'DEVICE : {DEVICE}')\n",
    "\n",
    "DATA_FILE = '../../../Data/iris.csv'\n",
    "\n",
    "irisDF = pd.read_csv(DATA_FILE)\n",
    "irisDF.head(2)"
   ]
  },
  {
   "cell_type": "code",
   "execution_count": 153,
   "metadata": {},
   "outputs": [
    {
     "name": "stdout",
     "output_type": "stream",
     "text": [
      "<class 'pandas.core.frame.DataFrame'>\n",
      "RangeIndex: 150 entries, 0 to 149\n",
      "Data columns (total 5 columns):\n",
      " #   Column        Non-Null Count  Dtype  \n",
      "---  ------        --------------  -----  \n",
      " 0   sepal.length  150 non-null    float64\n",
      " 1   sepal.width   150 non-null    float64\n",
      " 2   petal.length  150 non-null    float64\n",
      " 3   petal.width   150 non-null    float64\n",
      " 4   variety       150 non-null    object \n",
      "dtypes: float64(4), object(1)\n",
      "memory usage: 6.0+ KB\n"
     ]
    }
   ],
   "source": [
    "# 데이터 정보 확인\n",
    "irisDF.info()"
   ]
  },
  {
   "cell_type": "code",
   "execution_count": 154,
   "metadata": {},
   "outputs": [
    {
     "data": {
      "text/plain": [
       "sepal.length    0\n",
       "sepal.width     0\n",
       "petal.length    0\n",
       "petal.width     0\n",
       "variety         0\n",
       "dtype: int64"
      ]
     },
     "execution_count": 154,
     "metadata": {},
     "output_type": "execute_result"
    }
   ],
   "source": [
    "# 데이터 결측값 확인\n",
    "irisDF.isna().sum()"
   ]
  },
  {
   "cell_type": "code",
   "execution_count": 155,
   "metadata": {},
   "outputs": [
    {
     "data": {
      "image/png": "[encoded data removed]",
      "text/plain": [
       "<Figure size 1300x500 with 1 Axes>"
      ]
     },
     "metadata": {},
     "output_type": "display_data"
    }
   ],
   "source": [
    "# 데이터 이상치 확인\n",
    "plt.figure(figsize = (13, 5))\n",
    "plt.boxplot(irisDF.iloc[:,:-1])\n",
    "plt.title('iris dataset boxplot')\n",
    "plt.ylabel('cm')\n",
    "plt.xticks(range(1,5),irisDF.columns[:-1])\n",
    "plt.show()"
   ]
  },
  {
   "cell_type": "code",
   "execution_count": 156,
   "metadata": {},
   "outputs": [],
   "source": [
    "# 피쳐 타겟 분리\n",
    "featureDF = irisDF.iloc[:,:-1]\n",
    "targetDF = irisDF.iloc[:,-1]\n",
    "\n",
    "# 타겟 라벨 인코딩\n",
    "encoder = LabelEncoder()\n",
    "encoder.fit(targetDF)\n",
    "targetDF = pd.DataFrame(encoder.transform(targetDF), columns = ['variety'])"
   ]
  },
  {
   "cell_type": "code",
   "execution_count": 157,
   "metadata": {},
   "outputs": [
    {
     "name": "stdout",
     "output_type": "stream",
     "text": [
      "X_train : (120, 4), y_train : (120, 1)\n",
      "X_test : (30, 4), y_test : (30, 1)\n"
     ]
    }
   ],
   "source": [
    "# 훈련 테스트 분리\n",
    "X_train, X_test, y_train, y_test = train_test_split(featureDF, targetDF, stratify=targetDF,\n",
    "                                                    train_size = 0.8, random_state=42)\n",
    "\n",
    "print(f'X_train : {X_train.shape}, y_train : {y_train.shape}')\n",
    "print(f'X_test : {X_test.shape}, y_test : {y_test.shape}')"
   ]
  },
  {
   "cell_type": "code",
   "execution_count": 158,
   "metadata": {},
   "outputs": [
    {
     "data": {
      "text/html": [
       "<div>\n",
       "<style scoped>\n",
       "    .dataframe tbody tr th:only-of-type {\n",
       "        vertical-align: middle;\n",
       "    }\n",
       "\n",
       "    .dataframe tbody tr th {\n",
       "        vertical-align: top;\n",
       "    }\n",
       "\n",
       "    .dataframe thead th {\n",
       "        text-align: right;\n",
       "    }\n",
       "</style>\n",
       "<table border=\"1\" class=\"dataframe\">\n",
       "  <thead>\n",
       "    <tr style=\"text-align: right;\">\n",
       "      <th></th>\n",
       "      <th>sepal.length</th>\n",
       "      <th>sepal.width</th>\n",
       "      <th>petal.length</th>\n",
       "      <th>petal.width</th>\n",
       "    </tr>\n",
       "  </thead>\n",
       "  <tbody>\n",
       "    <tr>\n",
       "      <th>0</th>\n",
       "      <td>-1.721568</td>\n",
       "      <td>-0.332101</td>\n",
       "      <td>-1.345722</td>\n",
       "      <td>-1.323276</td>\n",
       "    </tr>\n",
       "    <tr>\n",
       "      <th>1</th>\n",
       "      <td>-1.124492</td>\n",
       "      <td>-1.227655</td>\n",
       "      <td>0.414505</td>\n",
       "      <td>0.651763</td>\n",
       "    </tr>\n",
       "  </tbody>\n",
       "</table>\n",
       "</div>"
      ],
      "text/plain": [
       "   sepal.length  sepal.width  petal.length  petal.width\n",
       "0     -1.721568    -0.332101     -1.345722    -1.323276\n",
       "1     -1.124492    -1.227655      0.414505     0.651763"
      ]
     },
     "execution_count": 158,
     "metadata": {},
     "output_type": "execute_result"
    }
   ],
   "source": [
    "# 피쳐 정규화\n",
    "ss = StandardScaler()\n",
    "ss.fit(X_train)\n",
    "X_train_scaled = pd.DataFrame(ss.transform(X_train), columns=X_train.columns)\n",
    "X_test_scaled = pd.DataFrame(ss.transform(X_test), columns=X_test.columns)\n",
    "X_train_scaled.head(2)"
   ]
  },
  {
   "cell_type": "code",
   "execution_count": 159,
   "metadata": {},
   "outputs": [
    {
     "name": "stdout",
     "output_type": "stream",
     "text": [
      "[train] row : 120, feature : 4\n",
      "[test] row : 30, feature : 4\n"
     ]
    }
   ],
   "source": [
    "# 데이터셋 생성\n",
    "from DataSet import CustomDataset\n",
    "\n",
    "train_irisDS = CustomDataset(X_train_scaled, y_train)\n",
    "test_irisDS = CustomDataset(X_test_scaled, y_test)\n",
    "\n",
    "# 데이터셋 속성\n",
    "print(f'[train] row : {train_irisDS.n_rows}, feature : {train_irisDS.n_features}')\n",
    "print(f'[test] row : {test_irisDS.n_rows}, feature : {test_irisDS.n_features}')\n",
    "\n",
    "# 데이터로더 인스턴스 생성 (지정한 배치사이즈 만큼 데이터셋에서 꺼내옴)\n",
    "train_irisDL = DataLoader(train_irisDS, batch_size=10) # batch_size 기본값 : 1\n",
    "test_irisDL = DataLoader(test_irisDS, batch_size=10)"
   ]
  },
  {
   "cell_type": "code",
   "execution_count": 160,
   "metadata": {},
   "outputs": [
    {
     "name": "stdout",
     "output_type": "stream",
     "text": [
      "DeepModel(\n",
      "  (input_layer): Linear(in_features=4, out_features=30, bias=True)\n",
      "  (hidden_layer_list): ModuleList(\n",
      "    (0): Linear(in_features=30, out_features=50, bias=True)\n",
      "    (1): Linear(in_features=50, out_features=70, bias=True)\n",
      "  )\n",
      "  (output_layer): Linear(in_features=70, out_features=3, bias=True)\n",
      ")\n"
     ]
    },
    {
     "data": {
      "text/plain": [
       "=================================================================\n",
       "Layer (type:depth-idx)                   Param #\n",
       "=================================================================\n",
       "DeepModel                                --\n",
       "├─Linear: 1-1                            150\n",
       "├─ModuleList: 1-2                        --\n",
       "│    └─Linear: 2-1                       1,550\n",
       "│    └─Linear: 2-2                       3,570\n",
       "├─Linear: 1-3                            213\n",
       "=================================================================\n",
       "Total params: 5,483\n",
       "Trainable params: 5,483\n",
       "Non-trainable params: 0\n",
       "================================================================="
      ]
     },
     "execution_count": 160,
     "metadata": {},
     "output_type": "execute_result"
    }
   ],
   "source": [
    "# 모델 인스턴스 생성\n",
    "from CustomModel import DeepModel\n",
    "\n",
    "model = DeepModel(input_in=4, output_out=3, hidden_list=[30, 50, 70],\n",
    "                  act_func=F.relu, is_reg=False, is_bin=False)\n",
    "print(model)\n",
    "summary(model)"
   ]
  },
  {
   "cell_type": "code",
   "execution_count": 161,
   "metadata": {},
   "outputs": [
    {
     "name": "stdout",
     "output_type": "stream",
     "text": [
      "tensor([[-1.7216, -0.3321, -1.3457, -1.3233],\n",
      "        [-1.1245, -1.2277,  0.4145,  0.6518],\n",
      "        [ 1.1444, -0.5560,  0.5848,  0.2568],\n",
      "        [-1.1245,  0.1157, -1.2889, -1.4549],\n",
      "        [-0.4080, -1.2277,  0.1306,  0.1251],\n",
      "        [ 0.5473, -1.2277,  0.6984,  0.9151],\n",
      "        [-0.2886, -0.7799,  0.2442,  0.1251],\n",
      "        [ 0.5473, -0.5560,  0.7552,  0.3884],\n",
      "        [ 2.2191, -0.1082,  1.3230,  1.4418],\n",
      "        [ 2.2191,  1.6829,  1.6637,  1.3101]])\n",
      "tensor([[0.],\n",
      "        [2.],\n",
      "        [1.],\n",
      "        [0.],\n",
      "        [1.],\n",
      "        [2.],\n",
      "        [1.],\n",
      "        [2.],\n",
      "        [2.],\n",
      "        [2.]])\n"
     ]
    }
   ],
   "source": [
    "for feature, target in train_irisDL:\n",
    "    print(feature, target, sep='\\n')\n",
    "    break"
   ]
  },
  {
   "cell_type": "code",
   "execution_count": 162,
   "metadata": {},
   "outputs": [],
   "source": [
    "# 옵티마이저 (모델의 가중치와 절편 최적화)\n",
    "adam_optim = optim.Adam(model.parameters(), lr=0.0001)\n",
    "# 가중치, 절편을 전달하고 학습률을 설정"
   ]
  },
  {
   "cell_type": "code",
   "execution_count": 163,
   "metadata": {},
   "outputs": [
    {
     "name": "stdout",
     "output_type": "stream",
     "text": [
      "[Loss : 10/300] Train : 1.0015, Test : 0.9982\n",
      "[Score  : 10/300] Train : 0.6667, Test : 0.6667\n",
      "[Loss : 20/300] Train : 0.8211, Test : 0.8201\n",
      "[Score  : 20/300] Train : 0.6667, Test : 0.7333\n",
      "[Loss : 30/300] Train : 0.5989, Test : 0.6058\n",
      "[Score  : 30/300] Train : 0.7833, Test : 0.7667\n",
      "[Loss : 40/300] Train : 0.4418, Test : 0.4626\n",
      "[Score  : 40/300] Train : 0.8333, Test : 0.8000\n",
      "[Loss : 50/300] Train : 0.3446, Test : 0.3763\n",
      "[Score  : 50/300] Train : 0.8917, Test : 0.8000\n",
      "[Loss : 60/300] Train : 0.2789, Test : 0.3170\n",
      "[Score  : 60/300] Train : 0.9083, Test : 0.8667\n",
      "[Loss : 70/300] Train : 0.2307, Test : 0.2724\n",
      "[Score  : 70/300] Train : 0.9333, Test : 0.9000\n",
      "[Loss : 80/300] Train : 0.1926, Test : 0.2334\n",
      "[Score  : 80/300] Train : 0.9500, Test : 0.9000\n",
      "[Loss : 90/300] Train : 0.1602, Test : 0.1980\n",
      "[Score  : 90/300] Train : 0.9500, Test : 0.9333\n",
      "[Loss : 100/300] Train : 0.1333, Test : 0.1676\n",
      "[Score  : 100/300] Train : 0.9583, Test : 0.9667\n",
      "[Loss : 110/300] Train : 0.1126, Test : 0.1441\n",
      "[Score  : 110/300] Train : 0.9583, Test : 0.9667\n",
      "[Loss : 120/300] Train : 0.0969, Test : 0.1257\n",
      "[Score  : 120/300] Train : 0.9583, Test : 0.9667\n",
      "[Loss : 130/300] Train : 0.0850, Test : 0.1113\n",
      "[Score  : 130/300] Train : 0.9583, Test : 0.9667\n",
      "[Loss : 140/300] Train : 0.0761, Test : 0.1001\n",
      "[Score  : 140/300] Train : 0.9667, Test : 0.9667\n",
      "[Loss : 150/300] Train : 0.0692, Test : 0.0914\n",
      "[Score  : 150/300] Train : 0.9667, Test : 0.9667\n",
      "[Loss : 160/300] Train : 0.0637, Test : 0.0849\n",
      "[Score  : 160/300] Train : 0.9750, Test : 0.9667\n",
      "[Loss : 170/300] Train : 0.0592, Test : 0.0800\n",
      "[Score  : 170/300] Train : 0.9750, Test : 0.9667\n",
      "[Loss : 180/300] Train : 0.0556, Test : 0.0763\n",
      "[Score  : 180/300] Train : 0.9750, Test : 0.9667\n",
      "[Loss : 190/300] Train : 0.0526, Test : 0.0734\n",
      "[Score  : 190/300] Train : 0.9750, Test : 0.9667\n",
      "[Loss : 200/300] Train : 0.0500, Test : 0.0712\n",
      "[Score  : 200/300] Train : 0.9833, Test : 0.9667\n",
      "[Loss : 210/300] Train : 0.0478, Test : 0.0693\n",
      "[Score  : 210/300] Train : 0.9833, Test : 0.9667\n",
      "[Loss : 220/300] Train : 0.0459, Test : 0.0678\n",
      "[Score  : 220/300] Train : 0.9833, Test : 0.9667\n",
      "[Loss : 230/300] Train : 0.0442, Test : 0.0666\n",
      "[Score  : 230/300] Train : 0.9833, Test : 0.9667\n",
      "[Loss : 240/300] Train : 0.0427, Test : 0.0655\n",
      "[Score  : 240/300] Train : 0.9833, Test : 0.9667\n",
      "[Loss : 250/300] Train : 0.0413, Test : 0.0646\n",
      "[Score  : 250/300] Train : 0.9833, Test : 0.9667\n",
      "[Loss : 260/300] Train : 0.0401, Test : 0.0640\n",
      "[Score  : 260/300] Train : 0.9833, Test : 0.9667\n",
      "[Loss : 270/300] Train : 0.0387, Test : 0.0642\n",
      "[Score  : 270/300] Train : 0.9833, Test : 0.9667\n",
      "[Loss : 280/300] Train : 0.0375, Test : 0.0641\n",
      "[Score  : 280/300] Train : 0.9833, Test : 0.9667\n",
      "[Loss : 290/300] Train : 0.0365, Test : 0.0640\n",
      "[Score  : 290/300] Train : 0.9833, Test : 0.9667\n",
      "[Loss : 300/300] Train : 0.0356, Test : 0.0640\n",
      "[Score  : 300/300] Train : 0.9833, Test : 0.9667\n"
     ]
    }
   ],
   "source": [
    "# 모델 훈련\n",
    "from TorchTrainTest import training, testing\n",
    "EPOCH=300\n",
    "result = training(train_irisDL, test_irisDL, model, adam_optim,\n",
    "                  epoch=EPOCH, is_reg=False, is_bin=False)"
   ]
  },
  {
   "cell_type": "code",
   "execution_count": 164,
   "metadata": {},
   "outputs": [
    {
     "data": {
      "image/png": "[encoded data removed]",
      "text/plain": [
       "<Figure size 1400x500 with 2 Axes>"
      ]
     },
     "metadata": {},
     "output_type": "display_data"
    }
   ],
   "source": [
    "fig, axs = plt.subplots(1, 2, figsize = (14, 5))\n",
    "\n",
    "label_list = ['Loss', 'Score']\n",
    "\n",
    "for i in range(2):\n",
    "    axs[i].plot(range(1, EPOCH+1), result[2*i], label = f'Train {label_list[i]}')\n",
    "    axs[i].plot(range(1, EPOCH+1), result[2*i+1], label = f'Valid {label_list[i]}')\n",
    "    axs[i].set_title(label_list[i])\n",
    "    axs[i].set_xlabel('EPOCH')\n",
    "    axs[i].set_ylabel('Loss')\n",
    "    axs[i].legend()\n",
    "plt.show()"
   ]
  },
  {
   "cell_type": "markdown",
   "metadata": {},
   "source": [
    "> 학습률 : 0.0001, 에포크 : 300일때 좋은 성능을 보이는 것으로 판단됨"
   ]
  },
  {
   "cell_type": "code",
   "execution_count": 165,
   "metadata": {},
   "outputs": [
    {
     "name": "stdout",
     "output_type": "stream",
     "text": [
      "train loss : 0.0356, test loss : 0.0640\n",
      "train f1_score : 0.9833, test f1_score : 0.9667\n"
     ]
    }
   ],
   "source": [
    "# 최종 학습 성능\n",
    "print(f\"train loss : {result[0][-1]:.4f}, test loss : {result[1][-1]:.4f}\")\n",
    "print(f\"train f1_score : {result[2][-1]:.4f}, test f1_score : {result[3][-1]:.4f}\")"
   ]
  },
  {
   "cell_type": "code",
   "execution_count": null,
   "metadata": {},
   "outputs": [],
   "source": []
  }
 ],
 "metadata": {
  "kernelspec": {
   "display_name": "TORCH_38",
   "language": "python",
   "name": "python3"
  },
  "language_info": {
   "codemirror_mode": {
    "name": "ipython",
    "version": 3
   },
   "file_extension": ".py",
   "mimetype": "text/x-python",
   "name": "python",
   "nbconvert_exporter": "python",
   "pygments_lexer": "ipython3",
   "version": "3.8.19"
  }
 },
 "nbformat": 4,
 "nbformat_minor": 2
}
