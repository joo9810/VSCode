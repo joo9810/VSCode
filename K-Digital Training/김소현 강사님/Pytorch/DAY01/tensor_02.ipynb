{
 "cells": [
  {
   "cell_type": "markdown",
   "metadata": {},
   "source": [
    "### Tensor 이해"
   ]
  },
  {
   "cell_type": "code",
   "execution_count": 3,
   "metadata": {},
   "outputs": [],
   "source": [
    "# 모듈 로딩\n",
    "import torch"
   ]
  },
  {
   "cell_type": "markdown",
   "metadata": {},
   "source": [
    "- 텐서 생성 [2] torch.rand()"
   ]
  },
  {
   "cell_type": "code",
   "execution_count": 27,
   "metadata": {},
   "outputs": [
    {
     "name": "stdout",
     "output_type": "stream",
     "text": [
      "tensor([0.7576, 0.2793, 0.4031])\n",
      "tensor([[0.7347, 0.0293, 0.7999],\n",
      "        [0.3971, 0.7544, 0.5695]])\n",
      "tensor([[[0.4388, 0.6387, 0.5247]],\n",
      "\n",
      "        [[0.6826, 0.3051, 0.4635]]])\n"
     ]
    }
   ],
   "source": [
    "# 0 <= ~ < 1 범위의 임의의 숫자 1개 추출 => rand()\n",
    "torch.manual_seed(1)\n",
    "\n",
    "dataTS1 = torch.rand(3)         # 1D Vector\n",
    "dataTS2 = torch.rand(2, 3)      # 2D Matrix\n",
    "dataTS3 = torch.rand(2, 1, 3)   # 3D Tensor\n",
    "\n",
    "print(dataTS1, dataTS2, dataTS3, sep='\\n')"
   ]
  },
  {
   "cell_type": "markdown",
   "metadata": {},
   "source": [
    "- 텐서 생성 [3] torch.randn()"
   ]
  },
  {
   "cell_type": "code",
   "execution_count": 26,
   "metadata": {},
   "outputs": [
    {
     "name": "stdout",
     "output_type": "stream",
     "text": [
      "tensor([ 2.0731, -1.9578,  2.8238])\n",
      "tensor([[ 0.2384, -0.6317,  1.3790],\n",
      "        [ 0.6429, -0.4019,  2.5451]])\n",
      "tensor([[[ 0.0080,  1.2720,  0.9502]],\n",
      "\n",
      "        [[ 0.1889, -0.7525, -0.1523]]])\n"
     ]
    }
   ],
   "source": [
    "datanTS1 = torch.randn(3)         # 1D Vector\n",
    "datanTS2 = torch.randn(2, 3)      # 2D Matrix\n",
    "datanTS3 = torch.randn(2, 1, 3)   # 3D Tensor\n",
    "\n",
    "print(datanTS1, datanTS2, datanTS3, sep='\\n')"
   ]
  },
  {
   "cell_type": "markdown",
   "metadata": {},
   "source": [
    "- 텐서 생성 [4] torch.randint()"
   ]
  },
  {
   "cell_type": "code",
   "execution_count": 28,
   "metadata": {},
   "outputs": [
    {
     "data": {
      "text/plain": [
       "tensor([[1, 3, 2, 3, 1],\n",
       "        [3, 2, 3, 1, 4],\n",
       "        [1, 3, 1, 2, 3]])"
      ]
     },
     "execution_count": 28,
     "metadata": {},
     "output_type": "execute_result"
    }
   ],
   "source": [
    "torch.randint(1, 5, (3, 5)) # 1 ~ 4 범위의 정수를 3행 5열로 생성"
   ]
  },
  {
   "cell_type": "code",
   "execution_count": 58,
   "metadata": {},
   "outputs": [
    {
     "data": {
      "text/plain": [
       "tensor([[ 1, 40, 15, 38,  5, 26],\n",
       "        [29, 21, 41, 23, 13, 21],\n",
       "        [45, 14, 24,  3, 37, 38],\n",
       "        [ 3, 30, 15, 14, 15, 25]])"
      ]
     },
     "execution_count": 58,
     "metadata": {},
     "output_type": "execute_result"
    }
   ],
   "source": [
    "torch.randint(1, 46, (4, 6)) # 1 ~ 4 범위의 정수를 3행 5열로 생성"
   ]
  },
  {
   "cell_type": "code",
   "execution_count": null,
   "metadata": {},
   "outputs": [],
   "source": []
  }
 ],
 "metadata": {
  "kernelspec": {
   "display_name": "TORCH_38",
   "language": "python",
   "name": "python3"
  },
  "language_info": {
   "codemirror_mode": {
    "name": "ipython",
    "version": 3
   },
   "file_extension": ".py",
   "mimetype": "text/x-python",
   "name": "python",
   "nbconvert_exporter": "python",
   "pygments_lexer": "ipython3",
   "version": "3.8.19"
  }
 },
 "nbformat": 4,
 "nbformat_minor": 2
}
