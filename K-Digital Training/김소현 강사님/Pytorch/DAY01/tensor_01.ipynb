{
 "cells": [
  {
   "cell_type": "markdown",
   "metadata": {},
   "source": [
    "### Tensor 이해 - 생성\n",
    "- Tensor란? pytorch에서 데이터를 저장하는 객체\n",
    "    * pytorch에서 데이터를 저장하는 객체\n",
    "    * 모델에 입력/출력 데이터 형태"
   ]
  },
  {
   "cell_type": "markdown",
   "metadata": {},
   "source": [
    "- 개발 버전 : v.2.4.1"
   ]
  },
  {
   "cell_type": "code",
   "execution_count": 3,
   "metadata": {},
   "outputs": [
    {
     "name": "stdout",
     "output_type": "stream",
     "text": [
      "torch v.2.4.1\n"
     ]
    }
   ],
   "source": [
    "# 모듈 로딩\n",
    "import torch\n",
    "\n",
    "print(f\"torch v.{torch.__version__}\")"
   ]
  },
  {
   "cell_type": "code",
   "execution_count": 6,
   "metadata": {},
   "outputs": [],
   "source": [
    "def printInfo(obj, obj_name):\n",
    "    print(f\"\\n[{obj_name}]\")\n",
    "    print(f\"shape : {obj.shape}\")\n",
    "    print(f\"ndim : {obj.ndim}차원\")\n",
    "    print(f\"dtype : {obj.dtype}\")\n",
    "    print(f\"device : {obj.device}\")\n",
    "    print(f\"data : \\n{obj.data}\")"
   ]
  },
  {
   "cell_type": "markdown",
   "metadata": {},
   "source": [
    "- 텐서 생성 [1] torch.tensor()"
   ]
  },
  {
   "cell_type": "code",
   "execution_count": 10,
   "metadata": {},
   "outputs": [
    {
     "name": "stdout",
     "output_type": "stream",
     "text": [
      "\n",
      "[dataTF]\n",
      "shape : torch.Size([])\n",
      "ndim : 0차원\n",
      "dtype : torch.int64\n",
      "device : cpu\n",
      "data : \n",
      "10\n",
      "\n",
      "[dataTF]\n",
      "shape : torch.Size([])\n",
      "ndim : 0차원\n",
      "dtype : torch.uint8\n",
      "device : cpu\n",
      "data : \n",
      "10\n"
     ]
    }
   ],
   "source": [
    "# 데이터 1개 즉, 스칼라\n",
    "dataTF = torch.tensor(10)\n",
    "printInfo(dataTF, 'dataTF')\n",
    "\n",
    "dataTF = torch.tensor(10, dtype = torch.uint8)\n",
    "printInfo(dataTF, 'dataTF')"
   ]
  },
  {
   "cell_type": "code",
   "execution_count": 13,
   "metadata": {},
   "outputs": [
    {
     "name": "stdout",
     "output_type": "stream",
     "text": [
      "\n",
      "[dataTF]\n",
      "shape : torch.Size([1])\n",
      "ndim : 1차원\n",
      "dtype : torch.int64\n",
      "device : cpu\n",
      "data : \n",
      "tensor([10])\n",
      "\n",
      "[dataTF]\n",
      "shape : torch.Size([1])\n",
      "ndim : 1차원\n",
      "dtype : torch.uint8\n",
      "device : cpu\n",
      "data : \n",
      "tensor([10], dtype=torch.uint8)\n"
     ]
    }
   ],
   "source": [
    "# 데이터 1개 즉, 행렬 2D\n",
    "dataTF = torch.tensor([10])\n",
    "printInfo(dataTF, 'dataTF')\n",
    "\n",
    "dataTF = torch.tensor([10], dtype = torch.uint8)\n",
    "printInfo(dataTF, 'dataTF')"
   ]
  },
  {
   "cell_type": "code",
   "execution_count": 14,
   "metadata": {},
   "outputs": [
    {
     "name": "stdout",
     "output_type": "stream",
     "text": [
      "\n",
      "[dataTF]\n",
      "shape : torch.Size([1, 1])\n",
      "ndim : 2차원\n",
      "dtype : torch.int64\n",
      "device : cpu\n",
      "data : \n",
      "tensor([[10]])\n",
      "\n",
      "[dataTF]\n",
      "shape : torch.Size([2, 1])\n",
      "ndim : 2차원\n",
      "dtype : torch.uint8\n",
      "device : cpu\n",
      "data : \n",
      "tensor([[10],\n",
      "        [20]], dtype=torch.uint8)\n"
     ]
    }
   ],
   "source": [
    "# 데이터 1개 즉, 행렬 2D\n",
    "dataTF = torch.tensor([[10]])\n",
    "printInfo(dataTF, 'dataTF')\n",
    "\n",
    "dataTF = torch.tensor([[10],[20]], dtype = torch.uint8)\n",
    "printInfo(dataTF, 'dataTF')"
   ]
  },
  {
   "cell_type": "code",
   "execution_count": 16,
   "metadata": {},
   "outputs": [
    {
     "name": "stdout",
     "output_type": "stream",
     "text": [
      "\n",
      "[dataTF]\n",
      "shape : torch.Size([1, 1, 1, 1])\n",
      "ndim : 4차원\n",
      "dtype : torch.int64\n",
      "device : cpu\n",
      "data : \n",
      "tensor([[[[10]]]])\n",
      "\n",
      "[dataTF]\n",
      "shape : torch.Size([1, 1, 2, 1])\n",
      "ndim : 4차원\n",
      "dtype : torch.uint8\n",
      "device : cpu\n",
      "data : \n",
      "tensor([[[[10],\n",
      "          [20]]]], dtype=torch.uint8)\n"
     ]
    }
   ],
   "source": [
    "# 데이터 1개 즉, 4D\n",
    "dataTF = torch.tensor([[[[10]]]])\n",
    "printInfo(dataTF, 'dataTF')\n",
    "\n",
    "dataTF = torch.tensor([[[[10],[20]]]], dtype = torch.uint8)\n",
    "printInfo(dataTF, 'dataTF')"
   ]
  },
  {
   "cell_type": "code",
   "execution_count": null,
   "metadata": {},
   "outputs": [],
   "source": []
  }
 ],
 "metadata": {
  "kernelspec": {
   "display_name": "TORCH_38",
   "language": "python",
   "name": "python3"
  },
  "language_info": {
   "codemirror_mode": {
    "name": "ipython",
    "version": 3
   },
   "file_extension": ".py",
   "mimetype": "text/x-python",
   "name": "python",
   "nbconvert_exporter": "python",
   "pygments_lexer": "ipython3",
   "version": "3.8.19"
  }
 },
 "nbformat": 4,
 "nbformat_minor": 2
}
