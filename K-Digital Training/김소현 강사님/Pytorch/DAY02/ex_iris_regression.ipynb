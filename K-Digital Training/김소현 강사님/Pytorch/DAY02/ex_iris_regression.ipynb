{
 "cells": [
  {
   "cell_type": "markdown",
   "metadata": {},
   "source": [
    "### iris 데이터셋 활용 꽃잎 너비 예측 모델\n",
    "- 데이터셋 : iris.csv에서 2개 Feature 사용\n",
    "- 구현 프레임 워크 : Pytorch"
   ]
  },
  {
   "cell_type": "markdown",
   "metadata": {},
   "source": [
    "- [1] 모듈 로딩 및 데이터 준비"
   ]
  },
  {
   "cell_type": "code",
   "execution_count": 715,
   "metadata": {},
   "outputs": [],
   "source": [
    "# 모듈 로딩\n",
    "import torch                    # 텐서 및 수치 계산 함수 관련 모듈\n",
    "import torch.nn as nn           # 인공신경망 관련 모듈\n",
    "import torch.nn.functional as F    # 손실, 거리 등 함수 관련 모듈\n",
    "import torch.optim as optimizer # 최적화 기법 관련 모듈\n",
    "import pandas as pd             # 데이터 파일 분석 관련 모듈\n",
    "from sklearn.datasets import load_iris\n",
    "from sklearn.model_selection import train_test_split"
   ]
  },
  {
   "cell_type": "code",
   "execution_count": 716,
   "metadata": {},
   "outputs": [
    {
     "data": {
      "text/plain": [
       "<torch._C.Generator at 0x1220ed0d0>"
      ]
     },
     "execution_count": 716,
     "metadata": {},
     "output_type": "execute_result"
    }
   ],
   "source": [
    "torch.manual_seed(1)"
   ]
  },
  {
   "cell_type": "code",
   "execution_count": 717,
   "metadata": {},
   "outputs": [
    {
     "data": {
      "text/html": [
       "<div>\n",
       "<style scoped>\n",
       "    .dataframe tbody tr th:only-of-type {\n",
       "        vertical-align: middle;\n",
       "    }\n",
       "\n",
       "    .dataframe tbody tr th {\n",
       "        vertical-align: top;\n",
       "    }\n",
       "\n",
       "    .dataframe thead th {\n",
       "        text-align: right;\n",
       "    }\n",
       "</style>\n",
       "<table border=\"1\" class=\"dataframe\">\n",
       "  <thead>\n",
       "    <tr style=\"text-align: right;\">\n",
       "      <th></th>\n",
       "      <th>sepal length (cm)</th>\n",
       "      <th>sepal width (cm)</th>\n",
       "      <th>petal length (cm)</th>\n",
       "      <th>petal width (cm)</th>\n",
       "    </tr>\n",
       "  </thead>\n",
       "  <tbody>\n",
       "    <tr>\n",
       "      <th>0</th>\n",
       "      <td>5.1</td>\n",
       "      <td>3.5</td>\n",
       "      <td>1.4</td>\n",
       "      <td>0.2</td>\n",
       "    </tr>\n",
       "    <tr>\n",
       "      <th>1</th>\n",
       "      <td>4.9</td>\n",
       "      <td>3.0</td>\n",
       "      <td>1.4</td>\n",
       "      <td>0.2</td>\n",
       "    </tr>\n",
       "  </tbody>\n",
       "</table>\n",
       "</div>"
      ],
      "text/plain": [
       "   sepal length (cm)  sepal width (cm)  petal length (cm)  petal width (cm)\n",
       "0                5.1               3.5                1.4               0.2\n",
       "1                4.9               3.0                1.4               0.2"
      ]
     },
     "execution_count": 717,
     "metadata": {},
     "output_type": "execute_result"
    }
   ],
   "source": [
    "# 데이터 로딩 : CSV => DataFrame\n",
    "iris = load_iris(as_frame=True)\n",
    "irisDF = iris['data'].iloc[:,:]\n",
    "irisDF.head(2)"
   ]
  },
  {
   "cell_type": "markdown",
   "metadata": {},
   "source": [
    "[2] 모델 준비\n",
    "- 학습방법 : 지도학습 > 회귀\n",
    "- 알고리즘 : 선형관계 > 선형모델  ==> nn.Linear"
   ]
  },
  {
   "cell_type": "code",
   "execution_count": 718,
   "metadata": {},
   "outputs": [],
   "source": [
    "# in_features  : sepal.length, sepal.width, petal.length 3개\n",
    "# out_features : petal.width 1개\n",
    "model = nn.Linear(3, 1) # 가중치, 절편 생성됨"
   ]
  },
  {
   "cell_type": "code",
   "execution_count": 719,
   "metadata": {},
   "outputs": [
    {
     "name": "stdout",
     "output_type": "stream",
     "text": [
      "('weight', Parameter containing:\n",
      "tensor([[ 0.2975, -0.2548, -0.1119]], requires_grad=True))\n",
      "\n",
      "('bias', Parameter containing:\n",
      "tensor([0.2710], requires_grad=True))\n",
      "\n"
     ]
    }
   ],
   "source": [
    "# 가중치와 절편 확인\n",
    "for i in model.named_parameters():\n",
    "    print(i)\n",
    "    print()"
   ]
  },
  {
   "cell_type": "markdown",
   "metadata": {},
   "source": [
    "[3] 최적화 인스턴스 준비"
   ]
  },
  {
   "cell_type": "code",
   "execution_count": 720,
   "metadata": {},
   "outputs": [],
   "source": [
    "# 모델의 가중치와 절편을 최적화 ==> 인스턴스에 전달\n",
    "adam_optim = optimizer.Adam(model.parameters(), lr=0.1) # 최적화 인스턴스에 모델 파라미터를 주고 학습률 조정"
   ]
  },
  {
   "cell_type": "markdown",
   "metadata": {},
   "source": [
    "[4] 학습 ==> 개발자가 구현"
   ]
  },
  {
   "cell_type": "markdown",
   "metadata": {},
   "source": [
    "[4-1] 데이터셋 Tensor화 진행 : 데이터 준비 시 진행하거나 학습 전 진행"
   ]
  },
  {
   "cell_type": "code",
   "execution_count": 721,
   "metadata": {},
   "outputs": [
    {
     "data": {
      "text/plain": [
       "torch.Size([150, 3])"
      ]
     },
     "execution_count": 721,
     "metadata": {},
     "output_type": "execute_result"
    }
   ],
   "source": [
    "featureTS = torch.from_numpy(irisDF[irisDF.columns[:-1]].values).float()\n",
    "featureTS.shape"
   ]
  },
  {
   "cell_type": "code",
   "execution_count": 722,
   "metadata": {},
   "outputs": [
    {
     "data": {
      "text/plain": [
       "tensor([[0.2000],\n",
       "        [0.2000],\n",
       "        [0.2000],\n",
       "        [0.2000],\n",
       "        [0.2000],\n",
       "        [0.4000],\n",
       "        [0.3000],\n",
       "        [0.2000],\n",
       "        [0.2000],\n",
       "        [0.1000],\n",
       "        [0.2000],\n",
       "        [0.2000],\n",
       "        [0.1000],\n",
       "        [0.1000],\n",
       "        [0.2000],\n",
       "        [0.4000],\n",
       "        [0.4000],\n",
       "        [0.3000],\n",
       "        [0.3000],\n",
       "        [0.3000],\n",
       "        [0.2000],\n",
       "        [0.4000],\n",
       "        [0.2000],\n",
       "        [0.5000],\n",
       "        [0.2000],\n",
       "        [0.2000],\n",
       "        [0.4000],\n",
       "        [0.2000],\n",
       "        [0.2000],\n",
       "        [0.2000],\n",
       "        [0.2000],\n",
       "        [0.4000],\n",
       "        [0.1000],\n",
       "        [0.2000],\n",
       "        [0.2000],\n",
       "        [0.2000],\n",
       "        [0.2000],\n",
       "        [0.1000],\n",
       "        [0.2000],\n",
       "        [0.2000],\n",
       "        [0.3000],\n",
       "        [0.3000],\n",
       "        [0.2000],\n",
       "        [0.6000],\n",
       "        [0.4000],\n",
       "        [0.3000],\n",
       "        [0.2000],\n",
       "        [0.2000],\n",
       "        [0.2000],\n",
       "        [0.2000],\n",
       "        [1.4000],\n",
       "        [1.5000],\n",
       "        [1.5000],\n",
       "        [1.3000],\n",
       "        [1.5000],\n",
       "        [1.3000],\n",
       "        [1.6000],\n",
       "        [1.0000],\n",
       "        [1.3000],\n",
       "        [1.4000],\n",
       "        [1.0000],\n",
       "        [1.5000],\n",
       "        [1.0000],\n",
       "        [1.4000],\n",
       "        [1.3000],\n",
       "        [1.4000],\n",
       "        [1.5000],\n",
       "        [1.0000],\n",
       "        [1.5000],\n",
       "        [1.1000],\n",
       "        [1.8000],\n",
       "        [1.3000],\n",
       "        [1.5000],\n",
       "        [1.2000],\n",
       "        [1.3000],\n",
       "        [1.4000],\n",
       "        [1.4000],\n",
       "        [1.7000],\n",
       "        [1.5000],\n",
       "        [1.0000],\n",
       "        [1.1000],\n",
       "        [1.0000],\n",
       "        [1.2000],\n",
       "        [1.6000],\n",
       "        [1.5000],\n",
       "        [1.6000],\n",
       "        [1.5000],\n",
       "        [1.3000],\n",
       "        [1.3000],\n",
       "        [1.3000],\n",
       "        [1.2000],\n",
       "        [1.4000],\n",
       "        [1.2000],\n",
       "        [1.0000],\n",
       "        [1.3000],\n",
       "        [1.2000],\n",
       "        [1.3000],\n",
       "        [1.3000],\n",
       "        [1.1000],\n",
       "        [1.3000],\n",
       "        [2.5000],\n",
       "        [1.9000],\n",
       "        [2.1000],\n",
       "        [1.8000],\n",
       "        [2.2000],\n",
       "        [2.1000],\n",
       "        [1.7000],\n",
       "        [1.8000],\n",
       "        [1.8000],\n",
       "        [2.5000],\n",
       "        [2.0000],\n",
       "        [1.9000],\n",
       "        [2.1000],\n",
       "        [2.0000],\n",
       "        [2.4000],\n",
       "        [2.3000],\n",
       "        [1.8000],\n",
       "        [2.2000],\n",
       "        [2.3000],\n",
       "        [1.5000],\n",
       "        [2.3000],\n",
       "        [2.0000],\n",
       "        [2.0000],\n",
       "        [1.8000],\n",
       "        [2.1000],\n",
       "        [1.8000],\n",
       "        [1.8000],\n",
       "        [1.8000],\n",
       "        [2.1000],\n",
       "        [1.6000],\n",
       "        [1.9000],\n",
       "        [2.0000],\n",
       "        [2.2000],\n",
       "        [1.5000],\n",
       "        [1.4000],\n",
       "        [2.3000],\n",
       "        [2.4000],\n",
       "        [1.8000],\n",
       "        [1.8000],\n",
       "        [2.1000],\n",
       "        [2.4000],\n",
       "        [2.3000],\n",
       "        [1.9000],\n",
       "        [2.3000],\n",
       "        [2.5000],\n",
       "        [2.3000],\n",
       "        [1.9000],\n",
       "        [2.0000],\n",
       "        [2.3000],\n",
       "        [1.8000]])"
      ]
     },
     "execution_count": 722,
     "metadata": {},
     "output_type": "execute_result"
    }
   ],
   "source": [
    "targetTS = torch.from_numpy(irisDF[['petal width (cm)']].values).float()\n",
    "targetTS"
   ]
  },
  {
   "cell_type": "code",
   "execution_count": 723,
   "metadata": {},
   "outputs": [
    {
     "name": "stdout",
     "output_type": "stream",
     "text": [
      "[FEATURE] TRAIN torch.Size([96, 3]), TEST torch.Size([30, 3]), VAL torch.Size([24, 3])\n",
      "[TARGET] TRAIN torch.Size([96, 1]), TEST torch.Size([30, 1]), VAL torch.Size([24, 1])\n"
     ]
    }
   ],
   "source": [
    "# Train & Test\n",
    "X_train, X_test, y_train, y_test = train_test_split(featureTS, targetTS, \n",
    "                                                    test_size = 0.2)\n",
    "\n",
    "# Train & Valid\n",
    "X_train, X_val, y_train, y_val = train_test_split(X_train, y_train, \n",
    "                                                    test_size = 0.2)\n",
    "\n",
    "print(f'[FEATURE] TRAIN {X_train.shape}, TEST {X_test.shape}, VAL {X_val.shape}')\n",
    "print(f'[TARGET] TRAIN {y_train.shape}, TEST {y_test.shape}, VAL {y_val.shape}')"
   ]
  },
  {
   "cell_type": "code",
   "execution_count": null,
   "metadata": {},
   "outputs": [],
   "source": []
  },
  {
   "cell_type": "markdown",
   "metadata": {},
   "source": [
    "- [4-2] 학습 진행\n",
    "    * 학습 횟수 결정 ==> 에포크 설정\n",
    "    * 학습 결과 저장 ==> 손실 저장 변수"
   ]
  },
  {
   "cell_type": "code",
   "execution_count": 724,
   "metadata": {},
   "outputs": [],
   "source": [
    "# 테스트/검증 함수\n",
    "# ==> 가중치, 절편 업데이트 X, 최적화 미진행\n",
    "# ==> 현재 가중치와 절편값으로 테스트 진행\n",
    "def testing(testTS, targetTS, kind = 'val'):\n",
    "\n",
    "    with torch.no_grad():   # 가중치 및 절편 업데이트 진행 X\n",
    "        # (1) 학습 진행 - 순전파(forward)\n",
    "        pred_y = model(testTS)\n",
    "\n",
    "        # (2) 오차 계산 - 손실함수\n",
    "        loss = F.mse_loss(pred_y, targetTS).item()\n",
    "\n",
    "        # (4) 학습 결과 출력 및 저장\n",
    "        print(f'[{kind}] LOSS : {loss}')\n",
    "\n",
    "    return loss"
   ]
  },
  {
   "cell_type": "code",
   "execution_count": 725,
   "metadata": {},
   "outputs": [],
   "source": [
    "def training(featureTS, targetTS, valTS, valTargetTS):\n",
    "    EPOCH = 10\n",
    "    loss_history = [[],[]]\n",
    "\n",
    "    for epoch in range(EPOCH):\n",
    "        # (1) 학습 진행 - 순전파(forward)\n",
    "        pred_y = model(featureTS)\n",
    "\n",
    "        # (2) 오차 계산 - 손실함수\n",
    "        loss = F.mse_loss(pred_y, targetTS)\n",
    "        loss_history[0].append(loss.item())\n",
    "\n",
    "        # (3) 최적화 - 가중치, 절편 업데이트(backward)\n",
    "        adam_optim.zero_grad()\n",
    "        loss.backward()\n",
    "        adam_optim.step()\n",
    "\n",
    "        # (4) 검증 - 모델이 제대로 만들어지는지 검사용\n",
    "        val_loss = testing(valTS, valTargetTS)\n",
    "        loss_history[1].append(val_loss)\n",
    "\n",
    "        # (4) 학습 결과 출력 및 저장\n",
    "        print(f'[{epoch}/{EPOCH}] LOSS : {loss}')\n",
    "\n",
    "    return loss_history"
   ]
  },
  {
   "cell_type": "code",
   "execution_count": 726,
   "metadata": {},
   "outputs": [
    {
     "name": "stdout",
     "output_type": "stream",
     "text": [
      "[val] LOSS : 0.9947542548179626\n",
      "[0/10] LOSS : 0.6289892792701721\n",
      "[val] LOSS : 0.37997376918792725\n",
      "[1/10] LOSS : 1.26425302028656\n",
      "[val] LOSS : 0.4307759702205658\n",
      "[2/10] LOSS : 0.5593818426132202\n",
      "[val] LOSS : 0.8491775393486023\n",
      "[3/10] LOSS : 0.40246912837028503\n",
      "[val] LOSS : 0.6777521967887878\n",
      "[4/10] LOSS : 0.6726018786430359\n",
      "[val] LOSS : 0.27205824851989746\n",
      "[5/10] LOSS : 0.5483723282814026\n",
      "[val] LOSS : 0.14252597093582153\n",
      "[6/10] LOSS : 0.2675703763961792\n",
      "[val] LOSS : 0.25641193985939026\n",
      "[7/10] LOSS : 0.2203224152326584\n",
      "[val] LOSS : 0.2759142518043518\n",
      "[8/10] LOSS : 0.3470119535923004\n",
      "[val] LOSS : 0.1484280675649643\n",
      "[9/10] LOSS : 0.3533060848712921\n"
     ]
    }
   ],
   "source": [
    "# 모델 학습 진행\n",
    "loss = training(X_train, y_train, X_val, y_val)"
   ]
  },
  {
   "cell_type": "code",
   "execution_count": 727,
   "metadata": {},
   "outputs": [
    {
     "data": {
      "image/png": "[encoded data removed]",
      "text/plain": [
       "<Figure size 640x480 with 1 Axes>"
      ]
     },
     "metadata": {},
     "output_type": "display_data"
    }
   ],
   "source": [
    "import matplotlib.pyplot as plt\n",
    "\n",
    "plt.plot(range(1, 11), loss[0], label = 'Train')\n",
    "plt.plot(range(1, 11), loss[1], label = 'Val')\n",
    "plt.title(\"Train & Valid\")\n",
    "plt.grid()\n",
    "plt.xlabel('Epoch')\n",
    "plt.ylabel('Loss')\n",
    "plt.legend()\n",
    "plt.show()"
   ]
  },
  {
   "cell_type": "code",
   "execution_count": null,
   "metadata": {},
   "outputs": [],
   "source": []
  }
 ],
 "metadata": {
  "kernelspec": {
   "display_name": "TORCH_38",
   "language": "python",
   "name": "python3"
  },
  "language_info": {
   "codemirror_mode": {
    "name": "ipython",
    "version": 3
   },
   "file_extension": ".py",
   "mimetype": "text/x-python",
   "name": "python",
   "nbconvert_exporter": "python",
   "pygments_lexer": "ipython3",
   "version": "3.8.19"
  }
 },
 "nbformat": 4,
 "nbformat_minor": 2
}
