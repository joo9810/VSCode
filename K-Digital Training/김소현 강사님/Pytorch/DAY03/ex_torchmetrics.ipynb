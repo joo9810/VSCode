{
 "cells": [
  {
   "cell_type": "markdown",
   "metadata": {},
   "source": [
    "### Torchmetrics 패키지\n",
    "- pytorch에서 모델 성능평가 기능 제공 패키지\n",
    "- 추가 설치 필요\n",
    "    * pip : pip install torchmetrics\n",
    "    * conda : conda install -c conda-forge torchmetrics\n",
    "- 사용법\n",
    "    * 클래스 방식 : 인스턴스 생성 후 사용\n",
    "    * 함수 방식 : 바로 사용"
   ]
  },
  {
   "cell_type": "markdown",
   "metadata": {},
   "source": [
    "- [1] 회귀(Regression) 성능지표"
   ]
  },
  {
   "cell_type": "code",
   "execution_count": 40,
   "metadata": {},
   "outputs": [],
   "source": [
    "# 모듈 로딩\n",
    "from torchmetrics.functional.regression import r2_score, mean_squared_error, mean_absolute_error\n",
    "from torchmetrics import R2Score\n",
    "from torchmetrics.regression import MeanSquaredError, MeanAbsoluteError\n",
    "import torch"
   ]
  },
  {
   "cell_type": "code",
   "execution_count": 41,
   "metadata": {},
   "outputs": [
    {
     "data": {
      "text/plain": [
       "tensor(0.9486)"
      ]
     },
     "execution_count": 41,
     "metadata": {},
     "output_type": "execute_result"
    }
   ],
   "source": [
    "# 클래스 방식\n",
    "# 데이터\n",
    "target = torch.tensor([3, -0.5, 2, 7]) # 1D (4,)\n",
    "preds = torch.tensor([2.5, 0.0, 2, 8]) # 1D (4,)\n",
    "\n",
    "# 성능평가 => R2Score : 0 ~ 1(좋음) 정답에 얼마나 근사하게 표현했는가\n",
    "# r2score = R2Score()\n",
    "# r2score(preds, target)\n",
    "R2Score()(preds, target)"
   ]
  },
  {
   "cell_type": "code",
   "execution_count": 42,
   "metadata": {},
   "outputs": [
    {
     "data": {
      "text/plain": [
       "tensor(0.9486)"
      ]
     },
     "execution_count": 42,
     "metadata": {},
     "output_type": "execute_result"
    }
   ],
   "source": [
    "# 함수 방식\n",
    "# 데이터\n",
    "target = torch.tensor([3, -0.5, 2, 7]) # 1D (4,)\n",
    "preds = torch.tensor([2.5, 0.0, 2, 8]) # 1D (4,)\n",
    "\n",
    "# 성능평가 => r2_score : 0 ~ 1(좋음) 정답에 얼마나 근사하게 표현했는가\n",
    "r2_score(preds, target)"
   ]
  },
  {
   "cell_type": "code",
   "execution_count": 43,
   "metadata": {},
   "outputs": [],
   "source": [
    "class MyR2(R2Score):\n",
    "    pass"
   ]
  },
  {
   "cell_type": "code",
   "execution_count": 44,
   "metadata": {},
   "outputs": [
    {
     "data": {
      "text/plain": [
       "tensor(0.9486)"
      ]
     },
     "execution_count": 44,
     "metadata": {},
     "output_type": "execute_result"
    }
   ],
   "source": [
    "gg = MyR2()\n",
    "gg(preds, target)"
   ]
  },
  {
   "cell_type": "code",
   "execution_count": 45,
   "metadata": {},
   "outputs": [
    {
     "name": "stdout",
     "output_type": "stream",
     "text": [
      "tensor(0.8750)\n",
      "tensor(0.8750)\n"
     ]
    }
   ],
   "source": [
    "# 데이터\n",
    "target = torch.tensor([2.5, 5.0, 4.0, 8.0])\n",
    "preds = torch.tensor([3.0, 5.0, 2.5, 7.0])\n",
    "\n",
    "# 성능평가 => 오차계산 : 0에 가까울수록 좋은 것\n",
    "mse = MeanSquaredError()\n",
    "print(mse(preds, target))\n",
    "print(MeanSquaredError()(preds, target))"
   ]
  },
  {
   "cell_type": "code",
   "execution_count": 46,
   "metadata": {},
   "outputs": [
    {
     "data": {
      "text/plain": [
       "tensor(0.8750)"
      ]
     },
     "execution_count": 46,
     "metadata": {},
     "output_type": "execute_result"
    }
   ],
   "source": [
    "# 데이터\n",
    "target = torch.tensor([2.5, 5.0, 4.0, 8.0])\n",
    "preds = torch.tensor([3.0, 5.0, 2.5, 7.0])\n",
    "\n",
    "# 오차계산\n",
    "mean_squared_error(preds, target)"
   ]
  },
  {
   "cell_type": "markdown",
   "metadata": {},
   "source": [
    "- 분류(Classification) 성능평가지표\n",
    "    * Accuracy : 양성-양성, 음성-음성 => 불균형 데이터일 경우 신뢰성이 없음!\n",
    "    * Precision : 예측 양성인데 실제 양성\n",
    "    * Recall : 정답 양성인데 예측 양성 (의료나 사기 분야)\n",
    "    * F1-Score\n",
    "    * ConfusionMatrix\n",
    "    * ROC-AUC => 의료분야 / 2진분류"
   ]
  },
  {
   "cell_type": "code",
   "execution_count": 47,
   "metadata": {},
   "outputs": [],
   "source": [
    "# 모듈 로딩\n",
    "from torchmetrics.classification import F1Score, Accuracy, Precision, Recall\n",
    "from torchmetrics.functional.classification import f1_score, accuracy, precision, recall"
   ]
  },
  {
   "cell_type": "code",
   "execution_count": 48,
   "metadata": {},
   "outputs": [
    {
     "name": "stdout",
     "output_type": "stream",
     "text": [
      "tensor(0.6667)\n",
      "tensor(0.6667)\n"
     ]
    }
   ],
   "source": [
    "# 2진분류 => task='binary'\n",
    "from torchmetrics.classification import BinaryF1Score\n",
    "target = torch.tensor([0, 1, 1, 0, 1, 0])\n",
    "preds = torch.tensor([0, 1, 1, 0, 0, 1])\n",
    "\n",
    "f1 = F1Score(task='binary')\n",
    "print(f1(preds, target))\n",
    "\n",
    "print(BinaryF1Score()(preds, target))"
   ]
  },
  {
   "cell_type": "code",
   "execution_count": 49,
   "metadata": {},
   "outputs": [
    {
     "name": "stdout",
     "output_type": "stream",
     "text": [
      "tensor(0.4333)\n",
      "tensor(0.4333)\n"
     ]
    }
   ],
   "source": [
    "# 다중분류 => task='multiclass'\n",
    "from torchmetrics.classification import MulticlassF1Score\n",
    "target = torch.tensor([0, 1, 2, 0, 2, 0])\n",
    "preds = torch.tensor([0, 2, 1, 0, 2, 1])\n",
    "\n",
    "# average 기본 : micro\n",
    "f1 = F1Score(task='multiclass', num_classes=3, average='macro')\n",
    "print(f1(preds, target))\n",
    "\n",
    "# average 기본 : macro\n",
    "print(MulticlassF1Score(num_classes=3, average='macro')(preds, target))"
   ]
  },
  {
   "cell_type": "code",
   "execution_count": 50,
   "metadata": {},
   "outputs": [
    {
     "name": "stdout",
     "output_type": "stream",
     "text": [
      "tensor(0.6667)\n",
      "tensor(0.6667)\n"
     ]
    }
   ],
   "source": [
    "# 2진분류 => task='binary'\n",
    "from torchmetrics.classification import BinaryPrecision\n",
    "target = torch.tensor([0, 1, 1, 0, 1, 0])\n",
    "preds = torch.tensor([0, 1, 1, 0, 0, 1])\n",
    "\n",
    "Pre = Precision(task='binary', threshold=0.1)\n",
    "print(Pre(preds, target))\n",
    "\n",
    "print(BinaryPrecision()(preds, target))"
   ]
  },
  {
   "cell_type": "code",
   "execution_count": 54,
   "metadata": {},
   "outputs": [
    {
     "name": "stdout",
     "output_type": "stream",
     "text": [
      "tensor(0.5000)\n",
      "tensor(0.5000)\n"
     ]
    }
   ],
   "source": [
    "# 다중분류 => task='multiclass'\n",
    "from torchmetrics.classification import MulticlassPrecision\n",
    "target = torch.tensor([0, 1, 2, 0, 2, 0])\n",
    "preds = torch.tensor([0, 2, 1, 0, 2, 1])\n",
    "\n",
    "# average 기본 : micro\n",
    "pre = Precision(task='multiclass', num_classes=3, average='micro')\n",
    "print(pre(preds, target))\n",
    "\n",
    "# average 기본 : macro\n",
    "print(MulticlassPrecision(num_classes=3, average='macro')(preds, target))"
   ]
  },
  {
   "cell_type": "code",
   "execution_count": null,
   "metadata": {},
   "outputs": [],
   "source": []
  }
 ],
 "metadata": {
  "kernelspec": {
   "display_name": "ML_38",
   "language": "python",
   "name": "python3"
  },
  "language_info": {
   "codemirror_mode": {
    "name": "ipython",
    "version": 3
   },
   "file_extension": ".py",
   "mimetype": "text/x-python",
   "name": "python",
   "nbconvert_exporter": "python",
   "pygments_lexer": "ipython3",
   "version": "3.8.19"
  }
 },
 "nbformat": 4,
 "nbformat_minor": 2
}
