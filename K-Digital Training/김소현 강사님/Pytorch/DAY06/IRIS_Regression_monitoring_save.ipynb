{
 "cells": [
  {
   "cell_type": "markdown",
   "metadata": {},
   "source": [
    "### DNN기반 회귀 모델 구현 + 학습 진행 모니터링 + 진행 파라미터 저장\n",
    "- 데이터셋  : iris.csv\n",
    "- 피쳐/속성 : 3개 (Sepal_Length, Sepal_Width, Petal_Length)\n",
    "- 타겟/라벨 : 1개 (Petal_Width)\n",
    "- 학습 방법 : 지도학습 > 회귀\n",
    "- 알고리즘  : 인공신경망(ANN) -> MLP, DNN : 은닉층이 많은 구성\n",
    "- 프레임워크 : Pytorch\n",
    "- - -\n",
    "- 모니터링\n",
    "    * 기준 : 검증 데이터셋의 loss 또는 score\n",
    "    * 평가 : 학습 데이터셋의 loss 또는 score와 비교해서 학습 중단 여부 결정\n",
    "    * 저장 : 현재까지 진행된 모델의 파라미터(가중치, 절편) 저장 여부 또는 모델 전체 저장"
   ]
  },
  {
   "cell_type": "markdown",
   "metadata": {},
   "source": [
    "[1] 모듈 로딩 및 데이터 준비 <hr>"
   ]
  },
  {
   "cell_type": "code",
   "execution_count": 87,
   "metadata": {},
   "outputs": [],
   "source": [
    "# 모듈 로딩\n",
    "# Model 관련\n",
    "import torch\n",
    "import torch.nn as nn\n",
    "import torch.nn.functional as F\n",
    "from torch.utils.data import Dataset, DataLoader\n",
    "import torch.optim as optim\n",
    "from torchmetrics.regression import R2Score, MeanSquaredError\n",
    "from torchinfo import summary\n",
    "\n",
    "# Data 및 시각화 관련\n",
    "import pandas as pd\n",
    "import matplotlib.pyplot as plt\n",
    "from sklearn.preprocessing import *\n",
    "from sklearn.model_selection import train_test_split"
   ]
  },
  {
   "cell_type": "code",
   "execution_count": 88,
   "metadata": {},
   "outputs": [
    {
     "name": "stdout",
     "output_type": "stream",
     "text": [
      "Pytorch v.2.4.1\n",
      "pandas v.2.0.3\n"
     ]
    }
   ],
   "source": [
    "# 활용 패키지 버전 체크 ==> 사용자 정의함수로 구현하세요~\n",
    "print(f'Pytorch v.{torch.__version__}')\n",
    "print(f'pandas v.{pd.__version__}')"
   ]
  },
  {
   "cell_type": "code",
   "execution_count": 89,
   "metadata": {},
   "outputs": [
    {
     "data": {
      "text/html": [
       "<div>\n",
       "<style scoped>\n",
       "    .dataframe tbody tr th:only-of-type {\n",
       "        vertical-align: middle;\n",
       "    }\n",
       "\n",
       "    .dataframe tbody tr th {\n",
       "        vertical-align: top;\n",
       "    }\n",
       "\n",
       "    .dataframe thead th {\n",
       "        text-align: right;\n",
       "    }\n",
       "</style>\n",
       "<table border=\"1\" class=\"dataframe\">\n",
       "  <thead>\n",
       "    <tr style=\"text-align: right;\">\n",
       "      <th></th>\n",
       "      <th>sepal.length</th>\n",
       "      <th>sepal.width</th>\n",
       "      <th>petal.length</th>\n",
       "      <th>petal.width</th>\n",
       "    </tr>\n",
       "  </thead>\n",
       "  <tbody>\n",
       "    <tr>\n",
       "      <th>0</th>\n",
       "      <td>5.1</td>\n",
       "      <td>3.5</td>\n",
       "      <td>1.4</td>\n",
       "      <td>0.2</td>\n",
       "    </tr>\n",
       "    <tr>\n",
       "      <th>1</th>\n",
       "      <td>4.9</td>\n",
       "      <td>3.0</td>\n",
       "      <td>1.4</td>\n",
       "      <td>0.2</td>\n",
       "    </tr>\n",
       "  </tbody>\n",
       "</table>\n",
       "</div>"
      ],
      "text/plain": [
       "   sepal.length  sepal.width  petal.length  petal.width\n",
       "0           5.1          3.5           1.4          0.2\n",
       "1           4.9          3.0           1.4          0.2"
      ]
     },
     "execution_count": 89,
     "metadata": {},
     "output_type": "execute_result"
    }
   ],
   "source": [
    "# 데이터 로딩\n",
    "DATA_FILE = '../../../Data/iris.csv'\n",
    "\n",
    "# CSV >>> DataFrame\n",
    "irisDF = pd.read_csv(DATA_FILE, usecols=[0,1,2,3])\n",
    "\n",
    "# 확인\n",
    "irisDF.head(2)"
   ]
  },
  {
   "cell_type": "markdown",
   "metadata": {},
   "source": [
    "[2] 모델 클래스 설계 및 정의 <hr>\n",
    "- 클래스 목적 : iris 데이터를 학습 및 추론 목적\n",
    "- 클래스 이름 : IrisRegModel\n",
    "- 부모 클래스 : nn.Module\n",
    "- 매개   변수 : 층별 입출력 개수 고정하기 때문에 필요 없음\n",
    "- 속성 / 필드 :\n",
    "- 기능 / 역할 : \\__init__() : 모델 구조 설정, forward() : 순방향 학습 <= 오버라이딩(overriding)\n",
    "\n",
    "- 클래스 구조\n",
    "    * 입력층 :\n",
    "        * 입력 3개(피쳐)\n",
    "        * 출력 10개(퍼셉트론/뉴런 10개 존재)\n",
    "    * 은닉층 :\n",
    "        * 입력 10개\n",
    "        * 출력 30개(퍼셉트론/뉴런 30개 존재)\n",
    "    * 출력층 :\n",
    "        * 입력 30개\n",
    "        * 출력 1개(너비)\n",
    "\n",
    "- 손실함수/활성화함수\n",
    "    * 클래스 형태 ==> nn.MSELoss, nn.ReLU ==> init() 메서드\n",
    "    * 함수 형태 ==> torch.nn.functional 아래에 ==> forward() 메서드"
   ]
  },
  {
   "cell_type": "code",
   "execution_count": 90,
   "metadata": {},
   "outputs": [],
   "source": [
    "class IrisRegModel(nn.Module):\n",
    "\n",
    "    # 모델 구조 구성 및 인스턴스 생성 메서드\n",
    "    def __init__(self):\n",
    "        super().__init__()\n",
    "\n",
    "        self.in_layer = nn.Linear(3, 10)\n",
    "        self.hidden_layer = nn.Linear(10, 30)\n",
    "        self.out_layer = nn.Linear(30, 1)\n",
    "\n",
    "    # 순방향 학습 진행 메서드\n",
    "    def forward(self, input_data):\n",
    "        # 입력층\n",
    "        y = self.in_layer(input_data)   # f1w1+f2w2+f3w3+b\n",
    "        y = F.relu(y)                   # relu => y 값의 범위 : 0 <= y\n",
    "\n",
    "        # 은닉층 : 10개의 숫자 값(>=0)\n",
    "        y = self.hidden_layer(y)\n",
    "        y = F.relu(y)\n",
    "\n",
    "        # 출력층 : 30개의 숫자 값(>=0) 회귀이므로 바로 반환(return)\n",
    "        return self.out_layer(y)"
   ]
  },
  {
   "cell_type": "code",
   "execution_count": 91,
   "metadata": {},
   "outputs": [
    {
     "name": "stdout",
     "output_type": "stream",
     "text": [
      "IrisRegModel(\n",
      "  (in_layer): Linear(in_features=3, out_features=10, bias=True)\n",
      "  (hidden_layer): Linear(in_features=10, out_features=30, bias=True)\n",
      "  (out_layer): Linear(in_features=30, out_features=1, bias=True)\n",
      ")\n"
     ]
    }
   ],
   "source": [
    "# 모델 인스턴스 생성\n",
    "model = IrisRegModel()\n",
    "\n",
    "print(model)"
   ]
  },
  {
   "cell_type": "code",
   "execution_count": 92,
   "metadata": {},
   "outputs": [
    {
     "data": {
      "text/plain": [
       "==========================================================================================\n",
       "Layer (type:depth-idx)                   Output Shape              Param #\n",
       "==========================================================================================\n",
       "IrisRegModel                             [1000000, 1]              --\n",
       "├─Linear: 1-1                            [1000000, 10]             40\n",
       "├─Linear: 1-2                            [1000000, 30]             330\n",
       "├─Linear: 1-3                            [1000000, 1]              31\n",
       "==========================================================================================\n",
       "Total params: 401\n",
       "Trainable params: 401\n",
       "Non-trainable params: 0\n",
       "Total mult-adds (M): 401\n",
       "==========================================================================================\n",
       "Input size (MB): 12.00\n",
       "Forward/backward pass size (MB): 328.00\n",
       "Params size (MB): 0.00\n",
       "Estimated Total Size (MB): 340.00\n",
       "=========================================================================================="
      ]
     },
     "execution_count": 92,
     "metadata": {},
     "output_type": "execute_result"
    }
   ],
   "source": [
    "# 모델 사용\n",
    "summary(model, input_size=(1000000,3))"
   ]
  },
  {
   "cell_type": "markdown",
   "metadata": {},
   "source": [
    "[3] 데이터셋 클래스 설계 및 정의 <hr>\n",
    "- 데이터셋 : iris.csv\n",
    "- 피쳐 개수 : 3개\n",
    "- 타겟 개수 : 1개\n",
    "- 클래스 이름 : IrisDataset\n",
    "- 부모 클래스 : utils.data.Dataset\n",
    "- 속성 필드 : featureDF, targetDF, n_rows, n_features\n",
    "- 필수 메서드\n",
    "    * \\__init__(self) : 데이터셋 저장 및 전처리, 개발자가 필요한 속성 설정\n",
    "    * \\__len__(self) : 데이터의 개수 반환\n",
    "    * \\__getitem__(self, index) : 특정 인덱스의 피쳐와 타겟 반환"
   ]
  },
  {
   "cell_type": "code",
   "execution_count": 93,
   "metadata": {},
   "outputs": [],
   "source": [
    "class IrisDataset(Dataset):\n",
    "    def __init__(self, featureDF, targetDF):\n",
    "        self.featureDF = featureDF\n",
    "        self.targetDF = targetDF\n",
    "        self.n_rows = featureDF.shape[0]\n",
    "        self.n_features = featureDF.shape[1]\n",
    "\n",
    "    def __len__(self):\n",
    "        return self.n_rows\n",
    "\n",
    "    def __getitem__(self, index):\n",
    "        # 텐서화\n",
    "        featureTS = torch.FloatTensor(self.featureDF.iloc[index].values)\n",
    "        targetTS = torch.FloatTensor(self.targetDF.iloc[index].values)\n",
    "        \n",
    "        # 피쳐와 타겟 반환\n",
    "        return featureTS, targetTS"
   ]
  },
  {
   "cell_type": "code",
   "execution_count": 94,
   "metadata": {},
   "outputs": [],
   "source": [
    "# 데이터셋 인스턴스 생성\n",
    "\n",
    "# DataFrame에서 피쳐와 타겟 추출\n",
    "featureDF = irisDF[irisDF.columns[:-1]] # 2D (150, 3)\n",
    "targetDF = irisDF[irisDF.columns[-1:]] # 2D (150, 1)\n",
    "\n",
    "# 커스텀 데이터셋 인스턴스\n",
    "irisDS = IrisDataset(featureDF, targetDF)"
   ]
  },
  {
   "cell_type": "markdown",
   "metadata": {},
   "source": [
    "[4] 학습 준비\n",
    "- 학습 횟수 : EPOCH (처음부터 끝까지 학습하는 단위)\n",
    "- 배치 크기 : BATCH_SIZE (한 번에 학습할 데이터셋 양)\n",
    "- 위치 지정 : DEVICE (텐서 저장 및 실행 위치 : GPU/CPU) \n",
    "- 학습률 : LR 가중치와 절편 업데이트 시 경사하강법으로 업데이트 간격 설정 0.001 ~ 0.1"
   ]
  },
  {
   "cell_type": "code",
   "execution_count": 95,
   "metadata": {},
   "outputs": [
    {
     "name": "stdout",
     "output_type": "stream",
     "text": [
      "BATCH_CNT : 15\n"
     ]
    }
   ],
   "source": [
    "# 학습 진행 관련 설정\n",
    "EPOCH = 100\n",
    "BATCH_SIZE = 10\n",
    "BATCH_CNT = irisDF.shape[0] // BATCH_SIZE\n",
    "DEVICE = 'cuda' if torch.cuda.is_available() else 'cpu'\n",
    "LR = 0.001\n",
    "\n",
    "print(f'BATCH_CNT : {BATCH_CNT}')"
   ]
  },
  {
   "cell_type": "markdown",
   "metadata": {},
   "source": [
    "- 인스턴스/객체 : 모델, 데이터셋, 최적화 (, 손실함수, 성능지표)"
   ]
  },
  {
   "cell_type": "code",
   "execution_count": 96,
   "metadata": {},
   "outputs": [
    {
     "name": "stdout",
     "output_type": "stream",
     "text": [
      "(84, 3) (38, 3) (28, 3)\n",
      "(84, 1) (38, 1) (28, 1)\n",
      "<class 'pandas.core.frame.DataFrame'> <class 'pandas.core.frame.DataFrame'> <class 'pandas.core.frame.DataFrame'>\n"
     ]
    }
   ],
   "source": [
    "# 모델 인스턴스\n",
    "model = IrisRegModel()\n",
    "\n",
    "# 데이터셋 인스턴스\n",
    "X_train, X_test, y_train, y_test = train_test_split(featureDF, targetDF, random_state=1)\n",
    "X_train, X_val, y_train, y_val = train_test_split(X_train, y_train, random_state=1)\n",
    "print(f'{X_train.shape} {X_test.shape} {X_val.shape}')\n",
    "print(f'{y_train.shape} {y_test.shape} {y_val.shape}')\n",
    "print(f'{type(y_train)} {type(y_test)} {type(y_val)}')\n",
    "\n",
    "trainDS = IrisDataset(X_train, y_train)\n",
    "valDS  = IrisDataset(X_val, y_val)\n",
    "testDS = IrisDataset(X_test, y_test)\n",
    "\n",
    "# 데이터로더 인스턴스\n",
    "trainDL = DataLoader(trainDS, batch_size=BATCH_SIZE)"
   ]
  },
  {
   "cell_type": "code",
   "execution_count": 97,
   "metadata": {},
   "outputs": [
    {
     "name": "stdout",
     "output_type": "stream",
     "text": [
      "torch.Size([10, 3])\n",
      "torch.Size([10, 1])\n"
     ]
    }
   ],
   "source": [
    "# [테스트] 데이터로더\n",
    "for feature, target in trainDL:\n",
    "    print(feature.shape, target.shape, sep='\\n')\n",
    "    break"
   ]
  },
  {
   "cell_type": "code",
   "execution_count": 98,
   "metadata": {},
   "outputs": [],
   "source": [
    "# 최적화 인스턴스 => W, b 텐서 즉, model.parameters() 전달\n",
    "optimizer = optim.Adam(model.parameters(), lr=LR)\n",
    "\n",
    "# 손실함수 인스턴스 => 회귀, MSE, MAE, RMSE ....\n",
    "regLoss = nn.MSELoss()"
   ]
  },
  {
   "cell_type": "markdown",
   "metadata": {},
   "source": [
    "[5] 학습 진행 <hr>"
   ]
  },
  {
   "cell_type": "markdown",
   "metadata": {},
   "source": [
    "> 모델 저장 준비"
   ]
  },
  {
   "cell_type": "code",
   "execution_count": 99,
   "metadata": {},
   "outputs": [],
   "source": [
    "# models 폴더 아래 프로젝트 폴더 아래 모델 파일 저장\n",
    "import os \n",
    "\n",
    "# 저장 경로\n",
    "SAVE_PATH = 'models/iris/'\n",
    "# 저장 파일명\n",
    "SAVE_FILE = 'model_train_wbs.pth'\n",
    "# 모델 구조 및 파라미터 모두 저장 파일명\n",
    "SAVE_MODEL = 'model_all.pth'"
   ]
  },
  {
   "cell_type": "code",
   "execution_count": 100,
   "metadata": {},
   "outputs": [],
   "source": [
    "# 경로상 폴더 존재 여부 체크\n",
    "if not os.path.exists(SAVE_PATH):\n",
    "    os.makedirs(SAVE_PATH) # 폴더 생성"
   ]
  },
  {
   "cell_type": "markdown",
   "metadata": {},
   "source": [
    "> 학습 진행"
   ]
  },
  {
   "cell_type": "code",
   "execution_count": 101,
   "metadata": {},
   "outputs": [],
   "source": [
    "# 학습의 효과 확인 손실값과 성능평가값 저장 필요\n",
    "LOSS_HISTORY, SCORE_HISTORY = [[],[]], [[],[]]\n",
    "CNT = irisDS.n_rows / BATCH_SIZE\n",
    "\n",
    "# 학습 모니터링/스케쥴링 설정\n",
    "# => LOSS_HISTORY, SCORE_HISTORY 활용\n",
    "# => 임계기준 : 10번\n",
    "BREAK_CNT_LOSS = 0\n",
    "BREAK_CNT_SCORE = 0\n",
    "LIMIT_VALUE = 10\n",
    "\n",
    "for epoch in range(EPOCH):\n",
    "    # 학습 모드로 모델 설정\n",
    "    model.train()\n",
    "\n",
    "    # 배치 크기 만큼 데이터 로딩해서 학습 진행\n",
    "    loss_total, score_total = 0, 0\n",
    "\n",
    "    for featureTS, targetTS in trainDL:\n",
    "        # 학습 진행\n",
    "        pred_y = model(featureTS)\n",
    "\n",
    "        # 손실 계산\n",
    "        loss = regLoss(pred_y, targetTS)\n",
    "        loss_total += loss.item()\n",
    "\n",
    "        # 성능평가 계산\n",
    "        score = R2Score()(pred_y, targetTS)\n",
    "        score_total += score.item()\n",
    "\n",
    "        # 최적화 진행\n",
    "        optimizer.zero_grad()\n",
    "        loss.backward()\n",
    "        optimizer.step()\n",
    "\n",
    "    # 에포크 당 검증기능\n",
    "    # 모델 검증 모드 설정\n",
    "    model.eval()\n",
    "\n",
    "    with torch.no_grad():\n",
    "        # 검증 데이터셋\n",
    "        val_featureTS = torch.FloatTensor(valDS.featureDF.values)\n",
    "        val_targetTS = torch.FloatTensor(valDS.targetDF.values)\n",
    "\n",
    "        # 추론/평가\n",
    "        pred_test_y = model(val_featureTS)\n",
    "        # 손실 계산\n",
    "        loss_val = regLoss(pred_test_y, val_targetTS)\n",
    "        # 성능 평가\n",
    "        score_val = R2Score()(pred_test_y, val_targetTS)\n",
    "\n",
    "    \n",
    "\n",
    "    # 손실값과 성능평가값 저장\n",
    "    LOSS_HISTORY[0].append(loss_total/len(trainDL))\n",
    "    SCORE_HISTORY[0].append(score_total/len(trainDL))\n",
    "\n",
    "    LOSS_HISTORY[1].append(loss_val)\n",
    "    SCORE_HISTORY[1].append(score_val)\n",
    "\n",
    "    # 학습 진행 모니터링/스케쥴링 - 검증 DS 기준\n",
    "    # Loss 기준\n",
    "    if len(LOSS_HISTORY[1]) >= 2:\n",
    "        if LOSS_HISTORY[1][-1] >= LOSS_HISTORY[1][-2]: # 이전꺼보다 loss가 크면\n",
    "            BREAK_CNT_LOSS += 1\n",
    "\n",
    "    # 성능이 좋은 학습 가중치 저장\n",
    "    # SAVE_FILE = f'model_train_wbs_{epoch}_{score_val:.4f}.pth'\n",
    "    if len(SCORE_HISTORY[1]) == 1:\n",
    "        # 첫 번째라서 무조건 모델 파라미터 저장\n",
    "        torch.save(model.state_dict(), SAVE_PATH+SAVE_FILE)\n",
    "        # 모델 전체 저장\n",
    "        torch.save(model, SAVE_PATH+SAVE_MODEL)\n",
    "    else:\n",
    "        if SCORE_HISTORY[1][-1] > max(SCORE_HISTORY[1][:-1]):\n",
    "            torch.save(model.state_dict(), SAVE_PATH+SAVE_FILE)\n",
    "            torch.save(model, SAVE_PATH+SAVE_MODEL)\n",
    "    \n",
    "    # 학습 중단 여부 설정\n",
    "    if BREAK_CNT_LOSS > LIMIT_VALUE:\n",
    "        print('성능 및 손실 개선이 없어서 학습 중단')\n",
    "        break"
   ]
  },
  {
   "cell_type": "code",
   "execution_count": 102,
   "metadata": {},
   "outputs": [
    {
     "name": "stdout",
     "output_type": "stream",
     "text": [
      "LOSS HISTORY : [[2.32909799946679, 1.6155723730723064, 1.062068243821462, 0.6566796567704942, 0.40436627798610264, 0.2794485092163086, 0.23443196217219034, 0.21717488931285012, 0.2054436355829239, 0.1923573331700431, 0.1806540952788459, 0.16914777788850996, 0.15729175673590767, 0.14549486173523796, 0.13380398601293564, 0.12232332179943721, 0.11110561589399974, 0.10036000692182118, 0.08998237219121721, 0.08048257976770401, 0.07186021407445271, 0.06447251596384579, 0.05882643908262253, 0.05421049892902374, 0.050668092237578496, 0.04778178677790695, 0.04564667431016763, 0.04411358613934782, 0.0428709557486905, 0.041944541657964386, 0.04120524413883686, 0.0405781204915709, 0.04019782402449184, 0.039848219603300095, 0.03945412797232469, 0.03917127806279394, 0.03890012287431293, 0.03862259350717068, 0.03837199695408344, 0.03810547457800971, 0.03784824845691522, 0.03761100541386339, 0.03735956301291784, 0.03713178137938181, 0.036904489828480616, 0.036678022601538234, 0.03641980700194836, 0.036222603999906115, 0.03600386343896389, 0.03575500659644604, 0.035569524185525045, 0.03535600482589669, 0.03516119304630491, 0.03497039174868001, 0.034771259460184306, 0.034603588490022555, 0.03440834561155902, 0.03427488894926177, 0.03406767692002985, 0.03390826202101178, 0.03377882908615801, 0.033626037339369454, 0.03343990300264624, 0.033339998995264374, 0.03316634148359299, 0.03304915295706855, 0.03292415994736883, 0.03277887176308367, 0.0326572580056058, 0.03254905280967554, 0.03241288351515929, 0.03231032378971577, 0.03220806457102299, 0.03208117104238934, 0.031983647495508194, 0.031875066459178925, 0.031797965781556234, 0.03167220577597618, 0.031588088927997485, 0.03148992732167244, 0.031386901521020465, 0.031339939683675766, 0.031218790759642918, 0.031133114049832027, 0.031114625020159617, 0.03097145466340913, 0.030901323383053143, 0.03088718197411961, 0.030725760385394096, 0.030770619296365313, 0.03060112955669562, 0.030576769055591688, 0.030559580048753157, 0.03041830389863915, 0.030395242075125378, 0.03038594726887014, 0.030235338645676773, 0.030279257852170203, 0.030147123254007764, 0.03016554057184193], [tensor(1.6158), tensor(1.0750), tensor(0.6745), tensor(0.4213), tensor(0.2971), tensor(0.2616), tensor(0.2562), tensor(0.2472), tensor(0.2321), tensor(0.2109), tensor(0.1947), tensor(0.1813), tensor(0.1677), tensor(0.1537), tensor(0.1398), tensor(0.1261), tensor(0.1128), tensor(0.1003), tensor(0.0881), tensor(0.0778), tensor(0.0689), tensor(0.0615), tensor(0.0566), tensor(0.0525), tensor(0.0501), tensor(0.0480), tensor(0.0466), tensor(0.0461), tensor(0.0457), tensor(0.0454), tensor(0.0453), tensor(0.0451), tensor(0.0451), tensor(0.0453), tensor(0.0451), tensor(0.0451), tensor(0.0450), tensor(0.0449), tensor(0.0448), tensor(0.0447), tensor(0.0445), tensor(0.0444), tensor(0.0442), tensor(0.0441), tensor(0.0440), tensor(0.0439), tensor(0.0437), tensor(0.0436), tensor(0.0435), tensor(0.0433), tensor(0.0432), tensor(0.0431), tensor(0.0430), tensor(0.0429), tensor(0.0428), tensor(0.0427), tensor(0.0426), tensor(0.0426), tensor(0.0424), tensor(0.0423), tensor(0.0423), tensor(0.0422), tensor(0.0421), tensor(0.0421), tensor(0.0420), tensor(0.0419), tensor(0.0419), tensor(0.0418), tensor(0.0417), tensor(0.0416), tensor(0.0416), tensor(0.0415), tensor(0.0415), tensor(0.0414), tensor(0.0413), tensor(0.0413), tensor(0.0412), tensor(0.0412), tensor(0.0411), tensor(0.0411), tensor(0.0410), tensor(0.0410), tensor(0.0409), tensor(0.0409), tensor(0.0409), tensor(0.0408), tensor(0.0407), tensor(0.0408), tensor(0.0407), tensor(0.0408), tensor(0.0406), tensor(0.0406), tensor(0.0407), tensor(0.0406), tensor(0.0405), tensor(0.0406), tensor(0.0405), tensor(0.0405), tensor(0.0404), tensor(0.0405)]]\n",
      "SCORE HISTORY : [[-4.02899694442749, -2.4998612668779163, -1.3106656736797757, -0.4299983051088121, 0.12783556514316136, 0.41269612974590725, 0.5209083490901523, 0.5620926883485582, 0.5870126287142435, 0.6118438773685031, 0.6335964335335625, 0.6562551856040955, 0.6802695923381381, 0.703904218143887, 0.7273585928810967, 0.7502834531995985, 0.772786451710595, 0.7942660053571066, 0.8151141338878207, 0.8340142104360793, 0.8515371945169237, 0.8663446505864462, 0.8779095874892341, 0.8874036272366842, 0.8947843776808845, 0.9008565147717794, 0.905315723684099, 0.9085861444473267, 0.9112991624408298, 0.9133048057556152, 0.9149114489555359, 0.9163033697340224, 0.9171446628040738, 0.9180029034614563, 0.9189276165432401, 0.9195691214667426, 0.9202063745922513, 0.920847131146325, 0.9214267995622423, 0.922044210963779, 0.9226291047202216, 0.9231734938091702, 0.9237516257498, 0.9242639475398593, 0.9247910910182529, 0.925321082274119, 0.9259057574801974, 0.9263508121172587, 0.92686837249332, 0.9274356166521708, 0.9278603858417935, 0.928364548418257, 0.9288245373302035, 0.9292747841940986, 0.9297321372561984, 0.9301198257340325, 0.9305694434377882, 0.9308926860491434, 0.9313735233412849, 0.9317250185542636, 0.9320365124278598, 0.9324103858735826, 0.9328274130821228, 0.9330580433209738, 0.9334550499916077, 0.933721039030287, 0.9340205258793302, 0.9343553980191549, 0.9346317582660251, 0.9348826474613614, 0.9351930618286133, 0.9354271954960294, 0.9356686737802293, 0.935958981513977, 0.9361788299348619, 0.936425871319241, 0.9366061952379015, 0.9368913438585069, 0.9370754427380033, 0.9372941189342074, 0.9375160535176595, 0.9376394550005595, 0.9379192921850417, 0.9381031592686971, 0.9381705191400316, 0.9385001195801629, 0.9386408262782626, 0.9386874967151217, 0.9390523168775771, 0.9389688902431064, 0.9393542210261027, 0.9393940104378594, 0.9394621120558845, 0.9397745596037971, 0.9398141304651896, 0.939861171775394, 0.9401919643084208, 0.940096398194631, 0.9403999977641635, 0.9403614468044705], [tensor(-1.5032), tensor(-0.6653), tensor(-0.0449), tensor(0.3473), tensor(0.5398), tensor(0.5948), tensor(0.6032), tensor(0.6170), tensor(0.6404), tensor(0.6732), tensor(0.6984), tensor(0.7192), tensor(0.7403), tensor(0.7618), tensor(0.7835), tensor(0.8047), tensor(0.8253), tensor(0.8447), tensor(0.8635), tensor(0.8794), tensor(0.8932), tensor(0.9047), tensor(0.9123), tensor(0.9186), tensor(0.9224), tensor(0.9256), tensor(0.9277), tensor(0.9286), tensor(0.9293), tensor(0.9297), tensor(0.9298), tensor(0.9301), tensor(0.9301), tensor(0.9299), tensor(0.9301), tensor(0.9302), tensor(0.9303), tensor(0.9305), tensor(0.9306), tensor(0.9308), tensor(0.9310), tensor(0.9312), tensor(0.9315), tensor(0.9317), tensor(0.9318), tensor(0.9320), tensor(0.9323), tensor(0.9325), tensor(0.9326), tensor(0.9329), tensor(0.9331), tensor(0.9333), tensor(0.9334), tensor(0.9335), tensor(0.9337), tensor(0.9338), tensor(0.9340), tensor(0.9341), tensor(0.9343), tensor(0.9344), tensor(0.9345), tensor(0.9346), tensor(0.9348), tensor(0.9348), tensor(0.9350), tensor(0.9351), tensor(0.9352), tensor(0.9353), tensor(0.9354), tensor(0.9355), tensor(0.9356), tensor(0.9357), tensor(0.9358), tensor(0.9359), tensor(0.9360), tensor(0.9361), tensor(0.9361), tensor(0.9362), tensor(0.9363), tensor(0.9364), tensor(0.9365), tensor(0.9365), tensor(0.9366), tensor(0.9367), tensor(0.9366), tensor(0.9368), tensor(0.9369), tensor(0.9368), tensor(0.9370), tensor(0.9368), tensor(0.9370), tensor(0.9371), tensor(0.9370), tensor(0.9372), tensor(0.9372), tensor(0.9371), tensor(0.9373), tensor(0.9372), tensor(0.9374), tensor(0.9373)]]\n"
     ]
    }
   ],
   "source": [
    "print(f\"LOSS HISTORY : {LOSS_HISTORY}\")\n",
    "print(f\"SCORE HISTORY : {SCORE_HISTORY}\")"
   ]
  },
  {
   "cell_type": "markdown",
   "metadata": {},
   "source": [
    "- 모델 저장 방법 <hr>\n",
    "- 방법1 : 모델 파라미터만 저장\n",
    "- 방법2 : 모델 설계 구조 및 파라미터까지 모두 저장"
   ]
  },
  {
   "cell_type": "code",
   "execution_count": 111,
   "metadata": {},
   "outputs": [],
   "source": [
    "irisModel = torch.load(SAVE_PATH+SAVE_FILE, weights_only=False)"
   ]
  },
  {
   "cell_type": "code",
   "execution_count": null,
   "metadata": {},
   "outputs": [],
   "source": []
  }
 ],
 "metadata": {
  "kernelspec": {
   "display_name": "TORCH_38",
   "language": "python",
   "name": "python3"
  },
  "language_info": {
   "codemirror_mode": {
    "name": "ipython",
    "version": 3
   },
   "file_extension": ".py",
   "mimetype": "text/x-python",
   "name": "python",
   "nbconvert_exporter": "python",
   "pygments_lexer": "ipython3",
   "version": "3.8.19"
  }
 },
 "nbformat": 4,
 "nbformat_minor": 2
}
