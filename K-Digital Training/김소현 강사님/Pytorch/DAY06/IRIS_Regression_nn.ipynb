{
 "cells": [
  {
   "cell_type": "markdown",
   "metadata": {},
   "source": [
    "### DNN기반 회귀 모델 구현 + 학습 진행 모니터링\n",
    "- 데이터셋  : iris.csv\n",
    "- 피쳐/속성 : 3개 (Sepal_Length, Sepal_Width, Petal_Length)\n",
    "- 타겟/라벨 : 1개 (Petal_Width)\n",
    "- 학습 방법 : 지도학습 > 회귀\n",
    "- 알고리즘  : 인공신경망(ANN) -> MLP, DNN : 은닉층이 많은 구성\n",
    "- 프레임워크 : Pytorch\n",
    "- - -\n",
    "- 모니터링\n",
    "    * 기준 : 검증 데이터셋의 loss 또는 score\n",
    "    * 평가 : 학습 데이터셋의 loss 또는 score와 비교해서 학습 중단 여부 결정\n",
    "    * 선택 : 현재까지 진행된 모델의 파라미터(가중치, 절편) 저장 여부 또는 모델 전체 저장"
   ]
  },
  {
   "cell_type": "markdown",
   "metadata": {},
   "source": [
    "[1] 모듈 로딩 및 데이터 준비 <hr>"
   ]
  },
  {
   "cell_type": "code",
   "execution_count": 30,
   "metadata": {},
   "outputs": [],
   "source": [
    "# 모듈 로딩\n",
    "# Model 관련\n",
    "import torch\n",
    "import torch.nn as nn\n",
    "import torch.nn.functional as F\n",
    "from torch.utils.data import Dataset, DataLoader\n",
    "import torch.optim as optim\n",
    "from torchmetrics.regression import R2Score, MeanSquaredError\n",
    "from torchinfo import summary\n",
    "\n",
    "# Data 및 시각화 관련\n",
    "import pandas as pd\n",
    "import matplotlib.pyplot as plt\n",
    "from sklearn.preprocessing import *\n",
    "from sklearn.model_selection import train_test_split"
   ]
  },
  {
   "cell_type": "code",
   "execution_count": 31,
   "metadata": {},
   "outputs": [
    {
     "name": "stdout",
     "output_type": "stream",
     "text": [
      "Pytorch v.2.4.1\n",
      "pandas v.2.0.3\n"
     ]
    }
   ],
   "source": [
    "# 활용 패키지 버전 체크 ==> 사용자 정의함수로 구현하세요~\n",
    "print(f'Pytorch v.{torch.__version__}')\n",
    "print(f'pandas v.{pd.__version__}')"
   ]
  },
  {
   "cell_type": "code",
   "execution_count": 32,
   "metadata": {},
   "outputs": [
    {
     "data": {
      "text/html": [
       "<div>\n",
       "<style scoped>\n",
       "    .dataframe tbody tr th:only-of-type {\n",
       "        vertical-align: middle;\n",
       "    }\n",
       "\n",
       "    .dataframe tbody tr th {\n",
       "        vertical-align: top;\n",
       "    }\n",
       "\n",
       "    .dataframe thead th {\n",
       "        text-align: right;\n",
       "    }\n",
       "</style>\n",
       "<table border=\"1\" class=\"dataframe\">\n",
       "  <thead>\n",
       "    <tr style=\"text-align: right;\">\n",
       "      <th></th>\n",
       "      <th>sepal.length</th>\n",
       "      <th>sepal.width</th>\n",
       "      <th>petal.length</th>\n",
       "      <th>petal.width</th>\n",
       "    </tr>\n",
       "  </thead>\n",
       "  <tbody>\n",
       "    <tr>\n",
       "      <th>0</th>\n",
       "      <td>5.1</td>\n",
       "      <td>3.5</td>\n",
       "      <td>1.4</td>\n",
       "      <td>0.2</td>\n",
       "    </tr>\n",
       "    <tr>\n",
       "      <th>1</th>\n",
       "      <td>4.9</td>\n",
       "      <td>3.0</td>\n",
       "      <td>1.4</td>\n",
       "      <td>0.2</td>\n",
       "    </tr>\n",
       "  </tbody>\n",
       "</table>\n",
       "</div>"
      ],
      "text/plain": [
       "   sepal.length  sepal.width  petal.length  petal.width\n",
       "0           5.1          3.5           1.4          0.2\n",
       "1           4.9          3.0           1.4          0.2"
      ]
     },
     "execution_count": 32,
     "metadata": {},
     "output_type": "execute_result"
    }
   ],
   "source": [
    "# 데이터 로딩\n",
    "DATA_FILE = '../../../Data/iris.csv'\n",
    "\n",
    "# CSV >>> DataFrame\n",
    "irisDF = pd.read_csv(DATA_FILE, usecols=[0,1,2,3])\n",
    "\n",
    "# 확인\n",
    "irisDF.head(2)"
   ]
  },
  {
   "cell_type": "markdown",
   "metadata": {},
   "source": [
    "[2] 모델 클래스 설계 및 정의 <hr>\n",
    "- 클래스 목적 : iris 데이터를 학습 및 추론 목적\n",
    "- 클래스 이름 : IrisRegModel\n",
    "- 부모 클래스 : nn.Module\n",
    "- 매개   변수 : 층별 입출력 개수 고정하기 때문에 필요 없음\n",
    "- 속성 / 필드 :\n",
    "- 기능 / 역할 : \\__init__() : 모델 구조 설정, forward() : 순방향 학습 <= 오버라이딩(overriding)\n",
    "\n",
    "- 클래스 구조\n",
    "    * 입력층 :\n",
    "        * 입력 3개(피쳐)\n",
    "        * 출력 10개(퍼셉트론/뉴런 10개 존재)\n",
    "    * 은닉층 :\n",
    "        * 입력 10개\n",
    "        * 출력 30개(퍼셉트론/뉴런 30개 존재)\n",
    "    * 출력층 :\n",
    "        * 입력 30개\n",
    "        * 출력 1개(너비)\n",
    "\n",
    "- 손실함수/활성화함수\n",
    "    * 클래스 형태 ==> nn.MSELoss, nn.ReLU ==> init() 메서드\n",
    "    * 함수 형태 ==> torch.nn.functional 아래에 ==> forward() 메서드"
   ]
  },
  {
   "cell_type": "code",
   "execution_count": 33,
   "metadata": {},
   "outputs": [],
   "source": [
    "class IrisRegModel(nn.Module):\n",
    "\n",
    "    # 모델 구조 구성 및 인스턴스 생성 메서드\n",
    "    def __init__(self):\n",
    "        super().__init__()\n",
    "\n",
    "        self.in_layer = nn.Linear(3, 10)\n",
    "        self.hidden_layer = nn.Linear(10, 30)\n",
    "        self.out_layer = nn.Linear(30, 1)\n",
    "\n",
    "    # 순방향 학습 진행 메서드\n",
    "    def forward(self, input_data):\n",
    "        # 입력층\n",
    "        y = self.in_layer(input_data)   # f1w1+f2w2+f3w3+b\n",
    "        y = F.relu(y)                   # relu => y 값의 범위 : 0 <= y\n",
    "\n",
    "        # 은닉층 : 10개의 숫자 값(>=0)\n",
    "        y = self.hidden_layer(y)\n",
    "        y = F.relu(y)\n",
    "\n",
    "        # 출력층 : 30개의 숫자 값(>=0) 회귀이므로 바로 반환(return)\n",
    "        return self.out_layer(y)"
   ]
  },
  {
   "cell_type": "code",
   "execution_count": 34,
   "metadata": {},
   "outputs": [
    {
     "name": "stdout",
     "output_type": "stream",
     "text": [
      "IrisRegModel(\n",
      "  (in_layer): Linear(in_features=3, out_features=10, bias=True)\n",
      "  (hidden_layer): Linear(in_features=10, out_features=30, bias=True)\n",
      "  (out_layer): Linear(in_features=30, out_features=1, bias=True)\n",
      ")\n"
     ]
    }
   ],
   "source": [
    "# 모델 인스턴스 생성\n",
    "model = IrisRegModel()\n",
    "\n",
    "print(model)"
   ]
  },
  {
   "cell_type": "code",
   "execution_count": 35,
   "metadata": {},
   "outputs": [
    {
     "data": {
      "text/plain": [
       "==========================================================================================\n",
       "Layer (type:depth-idx)                   Output Shape              Param #\n",
       "==========================================================================================\n",
       "IrisRegModel                             [1000000, 1]              --\n",
       "├─Linear: 1-1                            [1000000, 10]             40\n",
       "├─Linear: 1-2                            [1000000, 30]             330\n",
       "├─Linear: 1-3                            [1000000, 1]              31\n",
       "==========================================================================================\n",
       "Total params: 401\n",
       "Trainable params: 401\n",
       "Non-trainable params: 0\n",
       "Total mult-adds (M): 401\n",
       "==========================================================================================\n",
       "Input size (MB): 12.00\n",
       "Forward/backward pass size (MB): 328.00\n",
       "Params size (MB): 0.00\n",
       "Estimated Total Size (MB): 340.00\n",
       "=========================================================================================="
      ]
     },
     "execution_count": 35,
     "metadata": {},
     "output_type": "execute_result"
    }
   ],
   "source": [
    "# 모델 사용\n",
    "summary(model, input_size=(1000000,3))"
   ]
  },
  {
   "cell_type": "markdown",
   "metadata": {},
   "source": [
    "[3] 데이터셋 클래스 설계 및 정의 <hr>\n",
    "- 데이터셋 : iris.csv\n",
    "- 피쳐 개수 : 3개\n",
    "- 타겟 개수 : 1개\n",
    "- 클래스 이름 : IrisDataset\n",
    "- 부모 클래스 : utils.data.Dataset\n",
    "- 속성 필드 : featureDF, targetDF, n_rows, n_features\n",
    "- 필수 메서드\n",
    "    * \\__init__(self) : 데이터셋 저장 및 전처리, 개발자가 필요한 속성 설정\n",
    "    * \\__len__(self) : 데이터의 개수 반환\n",
    "    * \\__getitem__(self, index) : 특정 인덱스의 피쳐와 타겟 반환"
   ]
  },
  {
   "cell_type": "code",
   "execution_count": 36,
   "metadata": {},
   "outputs": [],
   "source": [
    "class IrisDataset(Dataset):\n",
    "    def __init__(self, featureDF, targetDF):\n",
    "        self.featureDF = featureDF\n",
    "        self.targetDF = targetDF\n",
    "        self.n_rows = featureDF.shape[0]\n",
    "        self.n_features = featureDF.shape[1]\n",
    "\n",
    "    def __len__(self):\n",
    "        return self.n_rows\n",
    "\n",
    "    def __getitem__(self, index):\n",
    "        # 텐서화\n",
    "        featureTS = torch.FloatTensor(self.featureDF.iloc[index].values)\n",
    "        targetTS = torch.FloatTensor(self.targetDF.iloc[index].values)\n",
    "        \n",
    "        # 피쳐와 타겟 반환\n",
    "        return featureTS, targetTS"
   ]
  },
  {
   "cell_type": "code",
   "execution_count": 37,
   "metadata": {},
   "outputs": [],
   "source": [
    "# 데이터셋 인스턴스 생성\n",
    "\n",
    "# DataFrame에서 피쳐와 타겟 추출\n",
    "featureDF = irisDF[irisDF.columns[:-1]] # 2D (150, 3)\n",
    "targetDF = irisDF[irisDF.columns[-1:]] # 2D (150, 1)\n",
    "\n",
    "# 커스텀 데이터셋 인스턴스\n",
    "irisDS = IrisDataset(featureDF, targetDF)"
   ]
  },
  {
   "cell_type": "markdown",
   "metadata": {},
   "source": [
    "[4] 학습 준비\n",
    "- 학습 횟수 : EPOCH (처음부터 끝까지 학습하는 단위)\n",
    "- 배치 크기 : BATCH_SIZE (한 번에 학습할 데이터셋 양)\n",
    "- 위치 지정 : DEVICE (텐서 저장 및 실행 위치 : GPU/CPU) \n",
    "- 학습률 : LR 가중치와 절편 업데이트 시 경사하강법으로 업데이트 간격 설정 0.001 ~ 0.1"
   ]
  },
  {
   "cell_type": "code",
   "execution_count": 38,
   "metadata": {},
   "outputs": [
    {
     "name": "stdout",
     "output_type": "stream",
     "text": [
      "BATCH_CNT : 15\n"
     ]
    }
   ],
   "source": [
    "# 학습 진행 관련 설정\n",
    "EPOCH = 100\n",
    "BATCH_SIZE = 10\n",
    "BATCH_CNT = irisDF.shape[0] // BATCH_SIZE\n",
    "DEVICE = 'cuda' if torch.cuda.is_available() else 'cpu'\n",
    "LR = 0.001\n",
    "\n",
    "print(f'BATCH_CNT : {BATCH_CNT}')"
   ]
  },
  {
   "cell_type": "markdown",
   "metadata": {},
   "source": [
    "- 인스턴스/객체 : 모델, 데이터셋, 최적화 (, 손실함수, 성능지표)"
   ]
  },
  {
   "cell_type": "code",
   "execution_count": 39,
   "metadata": {},
   "outputs": [
    {
     "name": "stdout",
     "output_type": "stream",
     "text": [
      "(84, 3) (38, 3) (28, 3)\n",
      "(84, 1) (38, 1) (28, 1)\n",
      "<class 'pandas.core.frame.DataFrame'> <class 'pandas.core.frame.DataFrame'> <class 'pandas.core.frame.DataFrame'>\n"
     ]
    }
   ],
   "source": [
    "# 모델 인스턴스\n",
    "model = IrisRegModel()\n",
    "\n",
    "# 데이터셋 인스턴스\n",
    "X_train, X_test, y_train, y_test = train_test_split(featureDF, targetDF, random_state=1)\n",
    "X_train, X_val, y_train, y_val = train_test_split(X_train, y_train, random_state=1)\n",
    "print(f'{X_train.shape} {X_test.shape} {X_val.shape}')\n",
    "print(f'{y_train.shape} {y_test.shape} {y_val.shape}')\n",
    "print(f'{type(y_train)} {type(y_test)} {type(y_val)}')\n",
    "\n",
    "trainDS = IrisDataset(X_train, y_train)\n",
    "valDS  = IrisDataset(X_val, y_val)\n",
    "testDS = IrisDataset(X_test, y_test)\n",
    "\n",
    "# 데이터로더 인스턴스\n",
    "trainDL = DataLoader(trainDS, batch_size=BATCH_SIZE)"
   ]
  },
  {
   "cell_type": "code",
   "execution_count": 40,
   "metadata": {},
   "outputs": [
    {
     "name": "stdout",
     "output_type": "stream",
     "text": [
      "torch.Size([10, 3])\n",
      "torch.Size([10, 1])\n"
     ]
    }
   ],
   "source": [
    "# [테스트] 데이터로더\n",
    "for feature, target in trainDL:\n",
    "    print(feature.shape, target.shape, sep='\\n')\n",
    "    break"
   ]
  },
  {
   "cell_type": "code",
   "execution_count": 41,
   "metadata": {},
   "outputs": [],
   "source": [
    "# 최적화 인스턴스 => W, b 텐서 즉, model.parameters() 전달\n",
    "optimizer = optim.Adam(model.parameters(), lr=LR)\n",
    "\n",
    "# 손실함수 인스턴스 => 회귀, MSE, MAE, RMSE ....\n",
    "regLoss = nn.MSELoss()"
   ]
  },
  {
   "cell_type": "markdown",
   "metadata": {},
   "source": [
    "[5] 학습 진행"
   ]
  },
  {
   "cell_type": "code",
   "execution_count": 42,
   "metadata": {},
   "outputs": [
    {
     "name": "stdout",
     "output_type": "stream",
     "text": [
      "성능 및 손실 개선이 없어서 학습 중단\n"
     ]
    }
   ],
   "source": [
    "# 학습의 효과 확인 손실값과 성능평가값 저장 필요\n",
    "LOSS_HISTORY, SCORE_HISTORY = [[],[]], [[],[]]\n",
    "CNT = irisDS.n_rows / BATCH_SIZE\n",
    "\n",
    "# 학습 모니터링/스케쥴링 설정\n",
    "# => LOSS_HISTORY, SCORE_HISTORY 활용\n",
    "# => 임계기준 : 10번\n",
    "BREAK_CNT_LOSS = 0\n",
    "BREAK_CNT_SCORE = 0\n",
    "LIMIT_VALUE = 10\n",
    "\n",
    "for epoch in range(EPOCH):\n",
    "    # 학습 모드로 모델 설정\n",
    "    model.train()\n",
    "\n",
    "    # 배치 크기 만큼 데이터 로딩해서 학습 진행\n",
    "    loss_total, score_total = 0, 0\n",
    "\n",
    "    for featureTS, targetTS in trainDL:\n",
    "        # 학습 진행\n",
    "        pred_y = model(featureTS)\n",
    "\n",
    "        # 손실 계산\n",
    "        loss = regLoss(pred_y, targetTS)\n",
    "        loss_total += loss.item()\n",
    "\n",
    "        # 성능평가 계산\n",
    "        score = R2Score()(pred_y, targetTS)\n",
    "        score_total += score.item()\n",
    "\n",
    "        # 최적화 진행\n",
    "        optimizer.zero_grad()\n",
    "        loss.backward()\n",
    "        optimizer.step()\n",
    "\n",
    "    # 에포크 당 검증기능\n",
    "    # 모델 검증 모드 설정\n",
    "    model.eval()\n",
    "\n",
    "    with torch.no_grad():\n",
    "        # 검증 데이터셋\n",
    "        val_featureTS = torch.FloatTensor(valDS.featureDF.values)\n",
    "        val_targetTS = torch.FloatTensor(valDS.targetDF.values)\n",
    "\n",
    "        # 추론/평가\n",
    "        pred_test_y = model(val_featureTS)\n",
    "        # 손실 계산\n",
    "        loss_val = regLoss(pred_test_y, val_targetTS)\n",
    "        # 성능 평가\n",
    "        score_val = R2Score()(pred_test_y, val_targetTS)\n",
    "\n",
    "    \n",
    "\n",
    "    # 손실값과 성능평가값 저장\n",
    "    LOSS_HISTORY[0].append(loss_total/len(trainDL))\n",
    "    SCORE_HISTORY[0].append(score_total/len(trainDL))\n",
    "\n",
    "    LOSS_HISTORY[1].append(loss_val)\n",
    "    SCORE_HISTORY[1].append(score_val)\n",
    "\n",
    "    # 학습 진행 모니터링/스케쥴링 - 검증 DS 기준\n",
    "    # Loss 기준\n",
    "    if len(LOSS_HISTORY[1]) >= 2:\n",
    "        if LOSS_HISTORY[1][-1] >= LOSS_HISTORY[1][-2]: # 이전꺼보다 loss가 크면\n",
    "            BREAK_CNT_LOSS += 1\n",
    "    # Score 기준\n",
    "    if len(SCORE_HISTORY[1]) >= 2:\n",
    "        if SCORE_HISTORY[1][-1] <= SCORE_HISTORY[1][-2]: # 이전꺼보다 loss가 크면\n",
    "            BREAK_CNT_SCORE += 1\n",
    "    \n",
    "    # 학습 중단 여부 설정\n",
    "    if BREAK_CNT_LOSS > LIMIT_VALUE or BREAK_CNT_SCORE > LIMIT_VALUE:\n",
    "        print('성능 및 손실 개선이 없어서 학습 중단')\n",
    "        break"
   ]
  },
  {
   "cell_type": "code",
   "execution_count": 46,
   "metadata": {},
   "outputs": [
    {
     "name": "stdout",
     "output_type": "stream",
     "text": [
      "LOSS HISTORY : [[4.573483599556817, 3.4005881945292153, 2.5099964671664767, 1.8357127904891968, 1.3239113357332017, 0.9371889895863004, 0.6547954314284854, 0.4625866247547997, 0.34699640174706775, 0.28869084020455676, 0.26400438447793323, 0.2507488711012734, 0.2347881942987442, 0.20711672637197706, 0.17072881923781502, 0.13337430192364585, 0.11024918324417537, 0.09465246150890987, 0.0795706891351276, 0.0686487497554885, 0.06031610630452633, 0.05517074548535877, 0.05097135456485881, 0.04799723542398877, 0.0457283907259504, 0.04400402121245861, 0.04257621636821164, 0.04138656726313962, 0.04031812513454093, 0.039354887790977955, 0.03847916155225701, 0.037714074158834085, 0.03698910969412989, 0.03639819814513127, 0.035847209187017545, 0.035311842440730996, 0.03485633350080914, 0.0344368229723639, 0.03399569199730953, 0.03362783913811048, 0.0332681466307905, 0.032927482595874205, 0.03261301542321841, 0.032321062973803945, 0.032038364145490855, 0.03177625582449966, 0.031526008103456765, 0.03127402657022079, 0.031044612017770607, 0.030826880286137264, 0.030628201344774827, 0.030443072525991335, 0.03025645524677303, 0.030103802267048094, 0.02995864436444309, 0.02980128178993861, 0.029657439432210393, 0.029507383290264342, 0.029345823865797784, 0.029138826661639743, 0.028965951253970463], [tensor(3.4198), tensor(2.5040), tensor(1.8161), tensor(1.3003), tensor(0.9220), tensor(0.6494), tensor(0.4647), tensor(0.3564), tensor(0.3069), tensor(0.2921), tensor(0.2879), tensor(0.2761), tensor(0.2473), tensor(0.2007), tensor(0.1474), tensor(0.1077), tensor(0.0882), tensor(0.0737), tensor(0.0641), tensor(0.0546), tensor(0.0488), tensor(0.0456), tensor(0.0437), tensor(0.0422), tensor(0.0414), tensor(0.0409), tensor(0.0405), tensor(0.0401), tensor(0.0397), tensor(0.0394), tensor(0.0391), tensor(0.0388), tensor(0.0385), tensor(0.0383), tensor(0.0381), tensor(0.0379), tensor(0.0376), tensor(0.0374), tensor(0.0373), tensor(0.0371), tensor(0.0370), tensor(0.0368), tensor(0.0367), tensor(0.0366), tensor(0.0365), tensor(0.0364), tensor(0.0364), tensor(0.0364), tensor(0.0364), tensor(0.0364), tensor(0.0364), tensor(0.0364), tensor(0.0364), tensor(0.0365), tensor(0.0365), tensor(0.0365), tensor(0.0365), tensor(0.0365), tensor(0.0365), tensor(0.0366), tensor(0.0366)]]\n",
      "SCORE HISTORY : [[-8.795539697011312, -6.2959849039713545, -4.395019054412842, -2.9528314537472196, -1.8557264804840088, -1.0236415598127577, -0.4116259548399184, 0.00990747743182712, 0.2685584823290507, 0.403382228480445, 0.4630509813626607, 0.493798123465644, 0.5257681806882223, 0.5782688922352262, 0.6475389997164408, 0.7207881874508328, 0.7684970762994554, 0.7998038464122348, 0.832313080628713, 0.8549947539965311, 0.8719081547525194, 0.8821686373816596, 0.8910942077636719, 0.8972205784585741, 0.9019798570209079, 0.9057033128208585, 0.9088341063923306, 0.9114725192387899, 0.913868228594462, 0.9160596993234422, 0.9180614352226257, 0.919817050298055, 0.9214992258283827, 0.9229225781228807, 0.9241679310798645, 0.9254318210813735, 0.9265363216400146, 0.9275263945261637, 0.928583198123508, 0.9294676118426852, 0.9303306937217712, 0.9311571783489652, 0.93192591269811, 0.9326306647724576, 0.9333202110396491, 0.9339661796887716, 0.9345813790957133, 0.9352004395590888, 0.9357599748505486, 0.9363041652573479, 0.9368144869804382, 0.9372769395510355, 0.9377469221750895, 0.9381658898459541, 0.9385415845447116, 0.9389684531423781, 0.9393687778049045, 0.9397903482119242, 0.9402609666188558, 0.9408148858282301, 0.9413118296199374], [tensor(-4.2979), tensor(-2.8791), tensor(-1.8134), tensor(-1.0144), tensor(-0.4284), tensor(-0.0060), tensor(0.2801), tensor(0.4478), tensor(0.5246), tensor(0.5474), tensor(0.5540), tensor(0.5723), tensor(0.6169), tensor(0.6891), tensor(0.7716), tensor(0.8332), tensor(0.8634), tensor(0.8858), tensor(0.9007), tensor(0.9155), tensor(0.9243), tensor(0.9294), tensor(0.9323), tensor(0.9346), tensor(0.9358), tensor(0.9366), tensor(0.9373), tensor(0.9379), tensor(0.9384), tensor(0.9389), tensor(0.9394), tensor(0.9399), tensor(0.9404), tensor(0.9407), tensor(0.9410), tensor(0.9414), tensor(0.9417), tensor(0.9420), tensor(0.9423), tensor(0.9425), tensor(0.9427), tensor(0.9430), tensor(0.9431), tensor(0.9433), tensor(0.9434), tensor(0.9436), tensor(0.9437), tensor(0.9437), tensor(0.9437), tensor(0.9437), tensor(0.9436), tensor(0.9436), tensor(0.9435), tensor(0.9435), tensor(0.9434), tensor(0.9435), tensor(0.9435), tensor(0.9435), tensor(0.9434), tensor(0.9433), tensor(0.9433)]]\n"
     ]
    }
   ],
   "source": [
    "print(f\"LOSS HISTORY : {LOSS_HISTORY}\")\n",
    "print(f\"SCORE HISTORY : {SCORE_HISTORY}\")"
   ]
  },
  {
   "cell_type": "markdown",
   "metadata": {},
   "source": [
    "- 모델 저장 방법 <hr>\n",
    "- 방법1 : 모델 파라미터만 저장\n",
    "- 방법2 : 모델 설계 구조 및 파라미터까지 모두 저장"
   ]
  },
  {
   "cell_type": "code",
   "execution_count": 47,
   "metadata": {},
   "outputs": [
    {
     "data": {
      "text/plain": [
       "OrderedDict([('in_layer.weight',\n",
       "              tensor([[-0.3276, -0.5475,  0.0469],\n",
       "                      [-0.4278, -0.4887,  0.1337],\n",
       "                      [-0.1013,  0.6490, -0.2034],\n",
       "                      [ 0.5735, -0.3680, -0.4215],\n",
       "                      [-0.4377,  0.1948, -0.0147],\n",
       "                      [ 0.5875, -0.2994,  0.5883],\n",
       "                      [-0.4828, -0.2384,  0.0803],\n",
       "                      [ 0.4902,  0.3369, -0.0151],\n",
       "                      [-0.5152, -0.0440,  0.1745],\n",
       "                      [-0.4028,  0.2010,  0.3504]])),\n",
       "             ('in_layer.bias',\n",
       "              tensor([-0.3510,  0.3692, -0.4547,  0.0372, -0.3784, -0.0378, -0.5773,  0.4896,\n",
       "                      -0.2251,  0.1789])),\n",
       "             ('hidden_layer.weight',\n",
       "              tensor([[ 3.5554e-02, -8.6836e-03, -1.6969e-02, -3.1039e-01, -2.0200e-01,\n",
       "                       -2.7776e-01, -1.9533e-01,  2.5943e-02,  2.0766e-01,  3.5518e-04],\n",
       "                      [ 1.7280e-01,  2.8542e-03, -3.1032e-02,  3.0955e-01, -1.5341e-01,\n",
       "                       -2.4723e-01,  1.5087e-01, -1.0114e-01,  2.3599e-01,  5.1282e-02],\n",
       "                      [-1.4931e-01,  3.1236e-01,  1.8147e-01,  1.5731e-01, -2.3140e-01,\n",
       "                       -2.1023e-01, -2.9517e-02, -9.6278e-02,  7.4895e-02,  6.6520e-02],\n",
       "                      [-1.1715e-01,  3.0728e-01, -2.4184e-01, -5.8288e-01, -7.5541e-02,\n",
       "                       -1.1328e-01,  1.5750e-01,  3.0643e-01, -2.9965e-01,  6.9106e-03],\n",
       "                      [ 1.4405e-01,  2.6112e-01,  2.9732e-01,  5.0685e-02, -1.6034e-01,\n",
       "                       -3.0902e-01,  6.0966e-02, -6.8842e-02, -5.2924e-02,  1.4058e-01],\n",
       "                      [-6.8435e-02,  1.8127e-01,  9.1813e-03, -4.3320e-01,  2.1789e-01,\n",
       "                        2.2948e-01,  9.3261e-02,  1.6517e-02,  2.3548e-01, -1.6223e-02],\n",
       "                      [-2.5567e-01, -2.3183e-01,  3.3460e-01,  9.8423e-02,  2.3962e-01,\n",
       "                       -9.3372e-03,  2.1318e-01,  8.7881e-02, -1.4525e-01, -8.7346e-02],\n",
       "                      [ 2.7777e-01,  4.5482e-02, -3.1572e-01,  2.8105e-01, -2.2219e-01,\n",
       "                       -2.6137e-01,  2.3727e-01, -2.9120e-02, -3.6337e-02, -1.8073e-01],\n",
       "                      [ 1.8508e-01, -3.0974e-03, -1.4552e-01, -5.2658e-01,  2.2906e-02,\n",
       "                        4.3498e-02,  1.3433e-01,  1.9945e-01,  3.5549e-02, -7.9137e-02],\n",
       "                      [-5.8430e-03, -2.4805e-01,  3.0140e-01, -1.0528e-01,  8.7153e-02,\n",
       "                       -7.7737e-02, -4.7354e-02,  6.9002e-02, -2.8062e-02,  4.9788e-02],\n",
       "                      [-2.1515e-01, -4.5470e-02, -4.3944e-01, -5.2635e-01, -1.7892e-01,\n",
       "                        3.0276e-01,  1.5789e-01, -2.6742e-02,  1.5029e-01,  1.5864e-01],\n",
       "                      [ 8.5227e-02, -1.4547e-01, -1.9678e-02, -2.0173e-01, -3.0166e-01,\n",
       "                        3.7459e-01,  1.3708e-01,  5.2614e-02,  1.5511e-01,  8.1476e-02],\n",
       "                      [-1.2294e-01, -2.3841e-01, -7.4152e-02, -2.1049e-02, -2.6450e-01,\n",
       "                        2.3935e-01,  2.7907e-02, -2.5905e-01, -1.3542e-01, -4.7613e-02],\n",
       "                      [-6.6015e-02,  1.4368e-01,  2.0927e-01, -2.9143e-01, -1.7595e-02,\n",
       "                        2.8084e-02,  4.7753e-02, -2.2868e-01, -2.6564e-01,  2.3489e-01],\n",
       "                      [-1.9038e-01,  2.6319e-01, -1.9191e-01,  4.7715e-01, -2.9042e-01,\n",
       "                        2.1489e-01, -1.2828e-01,  1.7259e-01, -1.5798e-01, -3.0924e-01],\n",
       "                      [-1.7931e-01, -2.0129e-01,  2.2572e-01, -1.4803e-01, -6.9266e-02,\n",
       "                        2.5830e-01, -6.4421e-02, -2.9704e-01,  2.9258e-01, -2.9721e-01],\n",
       "                      [-2.9238e-01, -1.3342e-01, -3.6746e-01,  5.2469e-03, -1.3127e-01,\n",
       "                        1.4591e-01, -2.9253e-01,  3.7116e-01,  1.5246e-01,  4.3325e-02],\n",
       "                      [-1.9197e-01, -7.5428e-02,  1.6316e-01,  7.9620e-02,  1.6018e-01,\n",
       "                        6.1975e-02, -3.5025e-03,  2.5501e-01, -8.6382e-02, -2.4089e-02],\n",
       "                      [-2.5970e-01,  2.3021e-01, -1.3666e-01, -1.9338e-01, -3.0721e-01,\n",
       "                       -3.9282e-03, -5.5532e-02, -1.3210e-01,  2.2423e-01,  3.0632e-01],\n",
       "                      [-1.8314e-01, -5.8444e-03,  5.5303e-02,  2.8634e-01,  1.6728e-01,\n",
       "                       -1.5238e-01, -1.1836e-01, -1.0380e-01, -9.8585e-02, -1.5202e-01],\n",
       "                      [-3.8077e-02,  1.6141e-01, -2.4843e-01, -2.8739e-02, -3.8835e-02,\n",
       "                       -1.1141e-01, -2.2186e-01,  3.0001e-01, -2.5995e-02,  3.0430e-01],\n",
       "                      [ 3.7241e-02, -2.1462e-01,  7.6871e-02, -2.1002e-01,  1.3983e-01,\n",
       "                        9.5863e-03, -2.1920e-01, -2.7461e-01, -1.8074e-01,  1.1939e-01],\n",
       "                      [ 2.7950e-01, -1.9010e-01, -2.4926e-02,  8.3271e-02, -1.9559e-01,\n",
       "                        8.9586e-02, -1.6865e-01,  2.0716e-01, -6.3435e-02,  2.1609e-01],\n",
       "                      [ 3.1292e-01, -3.5540e-02, -4.2372e-01, -5.5773e-01, -3.4603e-02,\n",
       "                        1.5537e-01, -1.0035e-01,  1.3083e-01, -5.5221e-02,  1.6527e-01],\n",
       "                      [ 2.4199e-01,  2.3469e-01,  4.7008e-02, -6.2345e-01, -6.8397e-02,\n",
       "                        1.3280e-01,  8.7526e-02, -7.2351e-02,  2.6097e-01, -1.6597e-02],\n",
       "                      [ 2.9309e-02,  1.8739e-01, -3.1521e-02, -1.0871e-02,  3.4323e-02,\n",
       "                        2.3574e-01,  1.0850e-02,  2.6233e-01,  1.9924e-01,  2.2841e-01],\n",
       "                      [ 1.0884e-01,  3.0787e-01,  1.8480e-01, -3.0872e-01,  1.8825e-01,\n",
       "                        4.4374e-02, -1.1454e-01, -1.9850e-02, -7.0629e-02,  4.7730e-02],\n",
       "                      [ 9.5133e-03, -3.1302e-01,  2.7075e-01,  9.4983e-02, -1.1290e-01,\n",
       "                       -2.3648e-01, -1.1630e-01,  2.7421e-01, -2.5573e-01,  6.3815e-02],\n",
       "                      [ 2.6499e-01, -2.0226e-01, -1.4812e-01, -5.6548e-01,  1.6896e-01,\n",
       "                        4.0178e-01,  1.3131e-01,  1.2049e-02, -1.7482e-01, -2.1174e-01],\n",
       "                      [-1.0635e-01,  3.1336e-01, -1.6026e-01,  4.9618e-01, -2.3037e-01,\n",
       "                        9.4029e-02,  3.0912e-01, -8.4848e-02, -1.9182e-01, -4.6472e-01]])),\n",
       "             ('hidden_layer.bias',\n",
       "              tensor([-0.0333,  0.2985, -0.1442,  0.1529,  0.0909,  0.2424,  0.0072, -0.0759,\n",
       "                       0.2290, -0.1031, -0.0557,  0.2291, -0.2606, -0.1182, -0.1968, -0.1553,\n",
       "                      -0.0185, -0.3259,  0.1273, -0.0378,  0.0242,  0.1362, -0.3492, -0.2361,\n",
       "                       0.2443, -0.2974, -0.2227,  0.0985,  0.0818, -0.0675])),\n",
       "             ('out_layer.weight',\n",
       "              tensor([[ 0.1117, -0.1720, -0.1579,  0.1398, -0.0154,  0.1283, -0.1048, -0.0105,\n",
       "                        0.1917, -0.1115,  0.2414,  0.0858, -0.0723, -0.0943, -0.0781, -0.0352,\n",
       "                        0.1116, -0.0164,  0.0202,  0.0787,  0.0198, -0.1150, -0.1053,  0.2208,\n",
       "                        0.0230, -0.0126, -0.1043, -0.1145,  0.2575, -0.2765]])),\n",
       "             ('out_layer.bias', tensor([0.0946]))])"
      ]
     },
     "execution_count": 47,
     "metadata": {},
     "output_type": "execute_result"
    }
   ],
   "source": [
    "# 학습된 모델 파라미터 값 확인\n",
    "model.state_dict()"
   ]
  },
  {
   "cell_type": "markdown",
   "metadata": {},
   "source": [
    "- [방법 1] 모델 파라미터 즉, 층별 가중치와 절편들"
   ]
  },
  {
   "cell_type": "code",
   "execution_count": 52,
   "metadata": {},
   "outputs": [],
   "source": [
    "# models 폴더 아래 프로젝트 폴더 아래 모델 파일 저장\n",
    "import os \n",
    "\n",
    "# 저장 경로\n",
    "SAVE_PATH = 'models/iris/'\n",
    "# 저장 파일명\n",
    "SAVE_FILE = 'model_train_wbs.pth'"
   ]
  },
  {
   "cell_type": "code",
   "execution_count": 54,
   "metadata": {},
   "outputs": [],
   "source": [
    "# 경로상 폴더 존재 여부 체크\n",
    "if not os.path.exists(SAVE_PATH):\n",
    "    os.makedirs(SAVE_PATH) # 폴더 생성"
   ]
  },
  {
   "cell_type": "code",
   "execution_count": 56,
   "metadata": {},
   "outputs": [],
   "source": [
    "# 모델 저장\n",
    "torch.save(model.state_dict(), SAVE_PATH+SAVE_FILE)"
   ]
  },
  {
   "cell_type": "code",
   "execution_count": 59,
   "metadata": {},
   "outputs": [
    {
     "name": "stdout",
     "output_type": "stream",
     "text": [
      "<class 'collections.OrderedDict'>\n"
     ]
    }
   ],
   "source": [
    "# 모델 즉, 가중치와 절편 로딩\n",
    "# [1] 가중치와 절편을 객체로 로딩\n",
    "# [2] 모델의 state_dict 속성에 저장\n",
    "\n",
    "# 읽기\n",
    "wbTS=torch.load(SAVE_PATH+SAVE_FILE, weights_only=True)\n",
    "print(type(wbTS))"
   ]
  },
  {
   "cell_type": "code",
   "execution_count": 61,
   "metadata": {},
   "outputs": [
    {
     "data": {
      "text/plain": [
       "<All keys matched successfully>"
      ]
     },
     "execution_count": 61,
     "metadata": {},
     "output_type": "execute_result"
    }
   ],
   "source": [
    "# 모델 인스턴스에 저장\n",
    "model2 = IrisRegModel() # 층마다 W, b 초기화\n",
    "model2.load_state_dict(wbTS)"
   ]
  },
  {
   "cell_type": "code",
   "execution_count": 62,
   "metadata": {},
   "outputs": [
    {
     "name": "stdout",
     "output_type": "stream",
     "text": [
      "IrisRegModel(\n",
      "  (in_layer): Linear(in_features=3, out_features=10, bias=True)\n",
      "  (hidden_layer): Linear(in_features=10, out_features=30, bias=True)\n",
      "  (out_layer): Linear(in_features=30, out_features=1, bias=True)\n",
      ")\n"
     ]
    }
   ],
   "source": [
    "print(model2)"
   ]
  },
  {
   "cell_type": "code",
   "execution_count": null,
   "metadata": {},
   "outputs": [],
   "source": []
  }
 ],
 "metadata": {
  "kernelspec": {
   "display_name": "TORCH_38",
   "language": "python",
   "name": "python3"
  },
  "language_info": {
   "codemirror_mode": {
    "name": "ipython",
    "version": 3
   },
   "file_extension": ".py",
   "mimetype": "text/x-python",
   "name": "python",
   "nbconvert_exporter": "python",
   "pygments_lexer": "ipython3",
   "version": "3.8.19"
  }
 },
 "nbformat": 4,
 "nbformat_minor": 2
}
