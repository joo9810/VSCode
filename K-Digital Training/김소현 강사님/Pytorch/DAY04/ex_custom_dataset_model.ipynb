{
 "cells": [
  {
   "cell_type": "markdown",
   "metadata": {},
   "source": [
    "### 사용자 정의 데이터셋과 모델과 학습\n",
    "- iris.csv ==> 사용자 정의 데이터셋\n",
    "- DNN 모델 ==> 사용자 정의 모델"
   ]
  },
  {
   "cell_type": "markdown",
   "metadata": {},
   "source": [
    "[1] 모듈 로딩 및 데이터 준비 <hr>"
   ]
  },
  {
   "cell_type": "code",
   "execution_count": 1,
   "metadata": {},
   "outputs": [],
   "source": [
    "# 모듈 로딩\n",
    "import torch \n",
    "import torch.nn as nn\n",
    "import torch.nn.functional as F \n",
    "import torch.optim as optim\n",
    "from torchmetrics.classification import F1Score\n",
    "from torchinfo import summary\n",
    "\n",
    "from torch.utils.data import Dataset, DataLoader\n",
    "\n",
    "import pandas as pd\n",
    "from sklearn.preprocessing import LabelEncoder      # 타겟 컬럼 수치화"
   ]
  },
  {
   "cell_type": "code",
   "execution_count": 2,
   "metadata": {},
   "outputs": [],
   "source": [
    "# 데이터\n",
    "DATA_FILE = '../../../Data/iris.csv'"
   ]
  },
  {
   "cell_type": "code",
   "execution_count": 3,
   "metadata": {},
   "outputs": [
    {
     "data": {
      "text/html": [
       "<div>\n",
       "<style scoped>\n",
       "    .dataframe tbody tr th:only-of-type {\n",
       "        vertical-align: middle;\n",
       "    }\n",
       "\n",
       "    .dataframe tbody tr th {\n",
       "        vertical-align: top;\n",
       "    }\n",
       "\n",
       "    .dataframe thead th {\n",
       "        text-align: right;\n",
       "    }\n",
       "</style>\n",
       "<table border=\"1\" class=\"dataframe\">\n",
       "  <thead>\n",
       "    <tr style=\"text-align: right;\">\n",
       "      <th></th>\n",
       "      <th>sepal.length</th>\n",
       "      <th>sepal.width</th>\n",
       "      <th>petal.length</th>\n",
       "      <th>petal.width</th>\n",
       "      <th>variety</th>\n",
       "    </tr>\n",
       "  </thead>\n",
       "  <tbody>\n",
       "    <tr>\n",
       "      <th>0</th>\n",
       "      <td>5.1</td>\n",
       "      <td>3.5</td>\n",
       "      <td>1.4</td>\n",
       "      <td>0.2</td>\n",
       "      <td>Setosa</td>\n",
       "    </tr>\n",
       "    <tr>\n",
       "      <th>1</th>\n",
       "      <td>4.9</td>\n",
       "      <td>3.0</td>\n",
       "      <td>1.4</td>\n",
       "      <td>0.2</td>\n",
       "      <td>Setosa</td>\n",
       "    </tr>\n",
       "  </tbody>\n",
       "</table>\n",
       "</div>"
      ],
      "text/plain": [
       "   sepal.length  sepal.width  petal.length  petal.width variety\n",
       "0           5.1          3.5           1.4          0.2  Setosa\n",
       "1           4.9          3.0           1.4          0.2  Setosa"
      ]
     },
     "execution_count": 3,
     "metadata": {},
     "output_type": "execute_result"
    }
   ],
   "source": [
    "# CSV ==> DataFrame\n",
    "irisDF = pd.read_csv(DATA_FILE)\n",
    "irisDF.head(2)"
   ]
  },
  {
   "cell_type": "code",
   "execution_count": 4,
   "metadata": {},
   "outputs": [],
   "source": [
    "# 타겟 컬럼 수치화 ==> LabelEncoder\n",
    "encoder = LabelEncoder()\n",
    "encoder.fit(irisDF['variety'])\n",
    "irisDF['variety'] = encoder.transform(irisDF['variety'])"
   ]
  },
  {
   "cell_type": "code",
   "execution_count": 5,
   "metadata": {},
   "outputs": [
    {
     "data": {
      "text/html": [
       "<div>\n",
       "<style scoped>\n",
       "    .dataframe tbody tr th:only-of-type {\n",
       "        vertical-align: middle;\n",
       "    }\n",
       "\n",
       "    .dataframe tbody tr th {\n",
       "        vertical-align: top;\n",
       "    }\n",
       "\n",
       "    .dataframe thead th {\n",
       "        text-align: right;\n",
       "    }\n",
       "</style>\n",
       "<table border=\"1\" class=\"dataframe\">\n",
       "  <thead>\n",
       "    <tr style=\"text-align: right;\">\n",
       "      <th></th>\n",
       "      <th>sepal.length</th>\n",
       "      <th>sepal.width</th>\n",
       "      <th>petal.length</th>\n",
       "      <th>petal.width</th>\n",
       "      <th>variety</th>\n",
       "    </tr>\n",
       "  </thead>\n",
       "  <tbody>\n",
       "    <tr>\n",
       "      <th>0</th>\n",
       "      <td>5.1</td>\n",
       "      <td>3.5</td>\n",
       "      <td>1.4</td>\n",
       "      <td>0.2</td>\n",
       "      <td>0</td>\n",
       "    </tr>\n",
       "    <tr>\n",
       "      <th>1</th>\n",
       "      <td>4.9</td>\n",
       "      <td>3.0</td>\n",
       "      <td>1.4</td>\n",
       "      <td>0.2</td>\n",
       "      <td>0</td>\n",
       "    </tr>\n",
       "  </tbody>\n",
       "</table>\n",
       "</div>"
      ],
      "text/plain": [
       "   sepal.length  sepal.width  petal.length  petal.width  variety\n",
       "0           5.1          3.5           1.4          0.2        0\n",
       "1           4.9          3.0           1.4          0.2        0"
      ]
     },
     "execution_count": 5,
     "metadata": {},
     "output_type": "execute_result"
    }
   ],
   "source": [
    "irisDF.head(2)"
   ]
  },
  {
   "cell_type": "markdown",
   "metadata": {},
   "source": [
    "[2] 사용자 정의 데이터셋 클래스 생성 <hr>"
   ]
  },
  {
   "cell_type": "code",
   "execution_count": 6,
   "metadata": {},
   "outputs": [],
   "source": [
    "# ----------------------------------------------------\n",
    "# 클래스 목적 : 학습용 데이터셋 텐서화 및 전처리\n",
    "# 클래스 이름 : CustomDataSet\n",
    "# 부모 클래스 : torch.utils.data.Dataset\n",
    "# 매개   변수 : featureDF, targetDF\n",
    "# ----------------------------------------------------"
   ]
  },
  {
   "cell_type": "code",
   "execution_count": 7,
   "metadata": {},
   "outputs": [],
   "source": [
    "class CustomDataset(Dataset):\n",
    "    # 데이터 로딩 및 전처리 진행과 인스턴스 생성 메서드\n",
    "    def __init__(self, featureDF, targetDF):\n",
    "        super().__init__()\n",
    "        self.featureDF = featureDF\n",
    "        self.targetDF = targetDF\n",
    "        self.n_rows = featureDF.shape[0]\n",
    "        self.n_features = featureDF.shape[1]\n",
    "\n",
    "    # 데이터의 개수 반환 메서드\n",
    "    def __len__(self):\n",
    "        return self.n_rows\n",
    "\n",
    "    # 특정 index의 데이터와 타겟 반환 메서드 => Tensor 반환!!!\n",
    "    def __getitem__(self, idx):\n",
    "        featureTS = torch.FloatTensor(self.featureDF.iloc[idx].values)\n",
    "        targetTS = torch.FloatTensor(self.targetDF.iloc[idx].values)\n",
    "        return featureTS, targetTS"
   ]
  },
  {
   "cell_type": "markdown",
   "metadata": {},
   "source": [
    "[3] 데이터셋 인스턴스 생성 <hr>"
   ]
  },
  {
   "cell_type": "code",
   "execution_count": 8,
   "metadata": {},
   "outputs": [
    {
     "name": "stdout",
     "output_type": "stream",
     "text": [
      "featureDF => (150, 4), targetDF => (150, 1)\n"
     ]
    }
   ],
   "source": [
    "featureDF, targetDF = irisDF[irisDF.columns[:-1]], irisDF[[irisDF.columns[-1]]]\n",
    "\n",
    "print(f'featureDF => {featureDF.shape}, targetDF => {targetDF.shape}')"
   ]
  },
  {
   "cell_type": "code",
   "execution_count": 9,
   "metadata": {},
   "outputs": [],
   "source": [
    "# IRIS 데이터셋 인스턴스 생성\n",
    "irisDS = CustomDataset(featureDF, targetDF)"
   ]
  },
  {
   "cell_type": "code",
   "execution_count": 10,
   "metadata": {},
   "outputs": [
    {
     "data": {
      "text/plain": [
       "(4, 150)"
      ]
     },
     "execution_count": 10,
     "metadata": {},
     "output_type": "execute_result"
    }
   ],
   "source": [
    "# IRIS 데이터셋 속성\n",
    "irisDS.n_features, irisDS.n_rows"
   ]
  },
  {
   "cell_type": "code",
   "execution_count": 11,
   "metadata": {},
   "outputs": [
    {
     "data": {
      "text/plain": [
       "(tensor([5.1000, 3.5000, 1.4000, 0.2000]), tensor([0.]))"
      ]
     },
     "execution_count": 11,
     "metadata": {},
     "output_type": "execute_result"
    }
   ],
   "source": [
    "irisDS[0]"
   ]
  },
  {
   "cell_type": "markdown",
   "metadata": {},
   "source": [
    "[4] 데이터로더 인스턴스 생성"
   ]
  },
  {
   "cell_type": "code",
   "execution_count": 30,
   "metadata": {},
   "outputs": [],
   "source": [
    "# 필요한 것 : Dataset 인스턴스, Batch_size=1[기본값]\n",
    "irisDL = DataLoader(irisDS, batch_size=10)\n",
    "# 지정한 배치사이즈 만큼 데이터셋에서 꺼내옴"
   ]
  },
  {
   "cell_type": "code",
   "execution_count": 31,
   "metadata": {},
   "outputs": [
    {
     "name": "stdout",
     "output_type": "stream",
     "text": [
      "torch.Size([10, 4]) torch.Size([10, 1])\n"
     ]
    }
   ],
   "source": [
    "for dataTS, targetTS in irisDL:\n",
    "    print(dataTS.shape, targetTS.shape)\n",
    "    break"
   ]
  },
  {
   "cell_type": "markdown",
   "metadata": {},
   "source": [
    "[5] 모델 준비 <hr>"
   ]
  },
  {
   "cell_type": "code",
   "execution_count": 32,
   "metadata": {},
   "outputs": [],
   "source": [
    "# -------------------------------------------------------------\n",
    "# 모델  이름 : CustomModel\n",
    "# 부모클래스 : nn.Module\n",
    "# 매개  변수 : None\n",
    "# 모델  구조\n",
    "# - 입력층   : 입력 4개,    출력 10개    AF ReLU -> LeakyReLU\n",
    "# - 은닉층   : 입력 10개,   출력 30개    AF ReLU -> LeakyReLU\n",
    "# - 출력층   : 입력 30개,   출력  3개    AF 분류 - 다중 softmax\n",
    "# -------------------------------------------------------------\n",
    "class CustomModel(nn.Module):\n",
    "    # 모델 구성 및 인스턴스 생성 메서드\n",
    "    def __init__(self):\n",
    "        super().__init__()\n",
    "        self.in_layer = nn.Linear(4, 10)\n",
    "        self.hidden_layer = nn.Linear(10, 30)\n",
    "        self.out_layer = nn.Linear(30, 3) # 붓꽃 종류가 3종류라 출력이 3개\n",
    "\n",
    "    # 순방향 학습 메서드\n",
    "    def forward(self, x):\n",
    "        y = F.relu(self.in_layer(x))\n",
    "        y = F.relu(self.hidden_layer(y))\n",
    "        # return F.softmax(self.out_layer(y))\n",
    "        return self.out_layer(y)"
   ]
  },
  {
   "cell_type": "markdown",
   "metadata": {},
   "source": [
    "[6] 학습 <hr>"
   ]
  },
  {
   "cell_type": "code",
   "execution_count": 33,
   "metadata": {},
   "outputs": [
    {
     "name": "stdout",
     "output_type": "stream",
     "text": [
      "CustomModel(\n",
      "  (in_layer): Linear(in_features=4, out_features=10, bias=True)\n",
      "  (hidden_layer): Linear(in_features=10, out_features=30, bias=True)\n",
      "  (out_layer): Linear(in_features=30, out_features=3, bias=True)\n",
      ")\n"
     ]
    },
    {
     "data": {
      "text/plain": [
       "=================================================================\n",
       "Layer (type:depth-idx)                   Param #\n",
       "=================================================================\n",
       "CustomModel                              --\n",
       "├─Linear: 1-1                            50\n",
       "├─Linear: 1-2                            330\n",
       "├─Linear: 1-3                            93\n",
       "=================================================================\n",
       "Total params: 473\n",
       "Trainable params: 473\n",
       "Non-trainable params: 0\n",
       "================================================================="
      ]
     },
     "execution_count": 33,
     "metadata": {},
     "output_type": "execute_result"
    }
   ],
   "source": [
    "# 모델 인스턴스 생성\n",
    "model = CustomModel()\n",
    "print(model)\n",
    "summary(model)"
   ]
  },
  {
   "cell_type": "code",
   "execution_count": 41,
   "metadata": {},
   "outputs": [
    {
     "name": "stdout",
     "output_type": "stream",
     "text": [
      "torch.Size([10, 4]) torch.Size([10, 1]) torch.float32\n",
      "torch.Size([10, 3]) torch.Size([10])\n"
     ]
    },
    {
     "ename": "TypeError",
     "evalue": "__new__() missing 1 required positional argument: 'task'",
     "output_type": "error",
     "traceback": [
      "\u001b[0;31m---------------------------------------------------------------------------\u001b[0m",
      "\u001b[0;31mTypeError\u001b[0m                                 Traceback (most recent call last)",
      "Cell \u001b[0;32mIn[41], line 19\u001b[0m\n\u001b[1;32m     16\u001b[0m     loss \u001b[38;5;241m=\u001b[39m nn\u001b[38;5;241m.\u001b[39mCrossEntropyLoss()(pred_y, targetTS)\n\u001b[1;32m     17\u001b[0m     loss_total \u001b[38;5;241m+\u001b[39m\u001b[38;5;241m=\u001b[39m loss\n\u001b[0;32m---> 19\u001b[0m     score \u001b[38;5;241m=\u001b[39m \u001b[43mF1Score\u001b[49m\u001b[43m(\u001b[49m\u001b[43m)\u001b[49m(pred_y, targetTS)\n\u001b[1;32m     20\u001b[0m     score_total \u001b[38;5;241m+\u001b[39m\u001b[38;5;241m=\u001b[39m score\n\u001b[1;32m     22\u001b[0m TS_loss\u001b[38;5;241m.\u001b[39mappend(loss_total\u001b[38;5;241m/\u001b[39m\u001b[38;5;28mlen\u001b[39m(irisDL))\n",
      "\u001b[0;31mTypeError\u001b[0m: __new__() missing 1 required positional argument: 'task'"
     ]
    }
   ],
   "source": [
    "# 배치크기만큼 데이터와 타겟 추출해서 학습 진행\n",
    "TS_loss, TS_score = [], []\n",
    "for epoch in range(10):\n",
    "    loss_total, score_total = 0, 0\n",
    "    for dataTS, targetTS in irisDL:\n",
    "\n",
    "        # 배치크기 만큼의 학습 데이터\n",
    "        print(dataTS.shape, targetTS.shape, targetTS.dtype)\n",
    "        targetTS = targetTS.reshape(-1).long()\n",
    "\n",
    "        # 배치크기만큼 학습 진행\n",
    "        pred_y = model(dataTS)\n",
    "        print(pred_y.shape, targetTS.reshape(-1).shape)\n",
    "\n",
    "        # 손실 계산\n",
    "        loss = nn.CrossEntropyLoss()(pred_y, targetTS)\n",
    "        loss_total += loss\n",
    "\n",
    "        score = F1Score()(pred_y, targetTS)\n",
    "        score_total += score\n",
    "\n",
    "    TS_loss.append(loss_total/len(irisDL))\n",
    "    TS_score.append(score_total/len(irisDL))"
   ]
  },
  {
   "cell_type": "code",
   "execution_count": null,
   "metadata": {},
   "outputs": [],
   "source": []
  }
 ],
 "metadata": {
  "kernelspec": {
   "display_name": "ML_38",
   "language": "python",
   "name": "python3"
  },
  "language_info": {
   "codemirror_mode": {
    "name": "ipython",
    "version": 3
   },
   "file_extension": ".py",
   "mimetype": "text/x-python",
   "name": "python",
   "nbconvert_exporter": "python",
   "pygments_lexer": "ipython3",
   "version": "3.8.19"
  }
 },
 "nbformat": 4,
 "nbformat_minor": 2
}
