{
 "cells": [
  {
   "cell_type": "markdown",
   "metadata": {},
   "source": [
    "## 윳놀이 게임 프로그램"
   ]
  },
  {
   "cell_type": "markdown",
   "metadata": {},
   "source": [
    "> 흥부와 놀부가 윷놀이를 하는데, 각자 4개의 윷가락을 교대로 던져서 20점 이상의 점수가 먼저 나오는 사람이 승리를 한다. 윷가락을 던져 나온 점수가 \"윷(4점)\"이나 \"모(5점)\"가 나오는 경우, 동일한 사람이 한 번 더 던질 수 있다. 아래 주어진 메소드를 구현하고 필요한 기능들은 추가로 구현하여 프로그램을 작성하시오."
   ]
  },
  {
   "cell_type": "code",
   "execution_count": 59,
   "metadata": {},
   "outputs": [],
   "source": [
    "import random"
   ]
  },
  {
   "cell_type": "code",
   "execution_count": 75,
   "metadata": {},
   "outputs": [
    {
     "name": "stdout",
     "output_type": "stream",
     "text": [
      "                                 <--- 놀부 [0, 0, 1, 1]: 개 (2점)/(총 2점)\n",
      "흥부 [1, 1, 0, 0]: 개 (2점)/(총 2점) --->\n",
      "                                 <--- 놀부 [0, 0, 1, 1]: 개 (2점)/(총 4점)\n",
      "흥부 [0, 0, 0, 0]: 윳 (4점)/(총 6점) --->\n",
      "흥부 [0, 0, 0, 1]: 걸 (3점)/(총 9점) --->\n",
      "                                 <--- 놀부 [1, 0, 1, 1]: 도 (1점)/(총 5점)\n",
      "흥부 [1, 1, 1, 1]: 모 (5점)/(총 14점) --->\n",
      "흥부 [0, 0, 0, 0]: 윳 (4점)/(총 18점) --->\n",
      "흥부 [0, 1, 0, 0]: 걸 (3점)/(총 21점) --->\n",
      "---------------------------------------------------------------------------\n",
      "흥부 승리 => 흥부: 21 , 놀부: 5\n",
      "---------------------------------------------------------------------------\n"
     ]
    }
   ],
   "source": [
    "def generate_yut():\n",
    "    sticks = []\n",
    "    for _ in range(4):\n",
    "        sticks.append(random.randint(0, 1))\n",
    "\n",
    "    return sticks\n",
    "\n",
    "hungbu_score = []\n",
    "nolbu_score = []\n",
    "\n",
    "order = random.randint(0, 1)\n",
    "\n",
    "if order == 0: # 0이면 흥부 먼저\n",
    "    current_turn = hungbu_score\n",
    "else:          # 1이면 놀부 먼저\n",
    "    current_turn = nolbu_score\n",
    "\n",
    "while True:\n",
    "    current_yut = generate_yut() # 윳 생성\n",
    "\n",
    "    # current_yut = [1, 1, 1, 1] 강제로 모만 나오게 하는 상황\n",
    "\n",
    "    if current_yut == [1, 1, 1, 1]:\n",
    "        score = 5\n",
    "        name = '모'\n",
    "        current_turn.append(score)\n",
    "\n",
    "    elif current_yut == [0, 0, 0, 0]:\n",
    "        score = 4\n",
    "        name = '윳'\n",
    "        current_turn.append(score)\n",
    "\n",
    "    elif sum(current_yut) == 1:\n",
    "        score  = 3\n",
    "        name = '걸'\n",
    "        current_turn.append(score)\n",
    "\n",
    "    elif sum(current_yut) == 2:\n",
    "        score = 2\n",
    "        name = '개'\n",
    "        current_turn.append(score)\n",
    "\n",
    "    else:\n",
    "        score = 1\n",
    "        name = '도'\n",
    "        current_turn.append(score)\n",
    "\n",
    "    if current_turn == hungbu_score:\n",
    "        print(f'흥부 {current_yut}: {name} ({score}점)/(총 {sum(hungbu_score)}점) --->')\n",
    "        if score == 4 or score == 5:\n",
    "            current_turn == hungbu_score\n",
    "        else:\n",
    "            current_turn = nolbu_score\n",
    "    else:\n",
    "        print(f'{\" \" * 33}<--- 놀부 {current_yut}: {name} ({score}점)/(총 {sum(nolbu_score)}점)')\n",
    "        if score == 4 or score == 5:\n",
    "            current_turn == nolbu_score\n",
    "        else:\n",
    "            current_turn = hungbu_score\n",
    "    \n",
    "    if sum(hungbu_score) >= 20 or sum(nolbu_score) >= 20:\n",
    "        break\n",
    "\n",
    "print('-' * 75)\n",
    "if sum(hungbu_score) > sum(nolbu_score):\n",
    "    print(f'흥부 승리 => 흥부: {sum(hungbu_score)} , 놀부: {sum(nolbu_score)}')\n",
    "else:\n",
    "    print(f'놀부 승리 => 흥부: {sum(hungbu_score)} , 놀부: {sum(nolbu_score)}')\n",
    "\n",
    "print('-' * 75)"
   ]
  },
  {
   "cell_type": "code",
   "execution_count": null,
   "metadata": {},
   "outputs": [],
   "source": []
  },
  {
   "cell_type": "code",
   "execution_count": null,
   "metadata": {},
   "outputs": [],
   "source": []
  }
 ],
 "metadata": {
  "kernelspec": {
   "display_name": "PY_39",
   "language": "python",
   "name": "python3"
  },
  "language_info": {
   "codemirror_mode": {
    "name": "ipython",
    "version": 3
   },
   "file_extension": ".py",
   "mimetype": "text/x-python",
   "name": "python",
   "nbconvert_exporter": "python",
   "pygments_lexer": "ipython3",
   "version": "3.9.19"
  }
 },
 "nbformat": 4,
 "nbformat_minor": 2
}
