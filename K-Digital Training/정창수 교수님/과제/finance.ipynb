{
 "cells": [
  {
   "cell_type": "code",
   "execution_count": 92,
   "metadata": {},
   "outputs": [],
   "source": [
    "from urllib.request import urlopen\n",
    "from bs4 import BeautifulSoup\n",
    "import requests"
   ]
  },
  {
   "cell_type": "code",
   "execution_count": 143,
   "metadata": {},
   "outputs": [
    {
     "name": "stdout",
     "output_type": "stream",
     "text": [
      "------------------------------------- [ 네이버 코스피 상위 10대 기업 목록 ] -------------------------------------\n",
      "[ 1] 삼성전자\n",
      "[ 2] SK하이닉스\n",
      "[ 3] LG에너지솔루션\n",
      "[ 4] 삼성바이오로직스\n",
      "[ 5] 현대차\n",
      "[ 6] 삼성전자우\n",
      "[ 7] 셀트리온\n",
      "[ 8] 기아\n",
      "[ 9] KB금융\n",
      "[10] 신한지주\n"
     ]
    }
   ],
   "source": [
    "while True:\n",
    "\n",
    "    url = 'https://finance.naver.com/sise/sise_market_sum.naver'\n",
    "    html = requests.get(url)\n",
    "    soup = BeautifulSoup(html.text, 'html.parser')\n",
    "    tbody = soup.find('tbody')\n",
    "\n",
    "    company_name = []\n",
    "    for i in range(10):\n",
    "        company_name.append(tbody.find_all('a')[2*i].string)\n",
    "\n",
    "    print(f'-------------------------------------',\n",
    "          f'[ 네이버 코스피 상위 10대 기업 목록 ]',\n",
    "          f'-------------------------------------',)\n",
    "    for i in range(10):\n",
    "          print(f'[{i+1:2}] {company_name[i]}')\n",
    "\n",
    "    company = input('주가를 검색할 기업의 번호를 입력하세요(-1: 종료): ')\n",
    "\n",
    "    if company == '-1':\n",
    "        break\n",
    "\n",
    "    detail_list = []\n",
    "    for i in soup.find_all('td', {'class' : 'center'})[:10]:\n",
    "        detail_list.append(i.find('a')['href'][-6:])\n",
    "\n",
    "    today = []\n",
    "    for i in range(10):\n",
    "        today.append('현재가: ' + tbody.find_all('td', {'class' : 'number'})[i*10].string)\n",
    "\n",
    "    temp_url = 'https://finance.naver.com/item/main.naver?code=' + detail_list[0]\n",
    "    temp_html = requests.get(temp_url)\n",
    "    temp_soup = BeautifulSoup(temp_html.text, 'html.parser')\n",
    "    dl = temp_soup.find('dl')\n",
    "    total = [today[0]]\n",
    "    for i in (4, 5, 6, 7):\n",
    "        total.append(dl.find_all('dd')[i].string.replace(' ', ': '))\n",
    "    total"
   ]
  }
 ],
 "metadata": {
  "kernelspec": {
   "display_name": "PY_39",
   "language": "python",
   "name": "python3"
  },
  "language_info": {
   "codemirror_mode": {
    "name": "ipython",
    "version": 3
   },
   "file_extension": ".py",
   "mimetype": "text/x-python",
   "name": "python",
   "nbconvert_exporter": "python",
   "pygments_lexer": "ipython3",
   "version": "3.9.19"
  }
 },
 "nbformat": 4,
 "nbformat_minor": 2
}
