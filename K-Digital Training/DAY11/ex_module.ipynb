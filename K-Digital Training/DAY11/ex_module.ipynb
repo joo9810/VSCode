{
 "cells": [
  {
   "cell_type": "markdown",
   "metadata": {},
   "source": [
    "## 01"
   ]
  },
  {
   "cell_type": "markdown",
   "metadata": {},
   "source": [
    "모듈 - 파이썬 파일 (py) 1개\n",
    " - 구성 : 변수, 함수, 클래스가 존재 (반드시 모두 다 있지는 않음!)\n",
    " - 종류 : 내장 모듈 / 사용자 정의 모듈 / 써드 파티션 모듈(설치 필수)"
   ]
  },
  {
   "cell_type": "markdown",
   "metadata": {},
   "source": [
    "사용법 => 현재 파이썬 파일에 포함시켜야 사용 가능함"
   ]
  },
  {
   "cell_type": "code",
   "execution_count": 11,
   "metadata": {},
   "outputs": [],
   "source": [
    "import math\n",
    "import random as rad # 모듈명이 길 경우 줄여서 별칭 지정 후 사용"
   ]
  },
  {
   "cell_type": "markdown",
   "metadata": {},
   "source": [
    "모듈 내의 변수, 함수, 클래스 사용 방법  \n",
    " : 모둘명.변수명, 모듈명.함수(), 모듈명.클래스명"
   ]
  },
  {
   "cell_type": "code",
   "execution_count": 5,
   "metadata": {},
   "outputs": [
    {
     "name": "stdout",
     "output_type": "stream",
     "text": [
      "내장모듈 math 안에 있는 pi변수 3.141592653589793\n"
     ]
    }
   ],
   "source": [
    "print(f'내장모듈 math 안에 있는 pi변수 {math.pi}')"
   ]
  },
  {
   "cell_type": "code",
   "execution_count": 8,
   "metadata": {},
   "outputs": [
    {
     "name": "stdout",
     "output_type": "stream",
     "text": [
      "내장모듈 math 안에 있는 factorial()함수 : 6\n"
     ]
    }
   ],
   "source": [
    "print(f'내장모듈 math 안에 있는 factorial()함수 : {math.factorial(3)}')"
   ]
  },
  {
   "cell_type": "code",
   "execution_count": 12,
   "metadata": {},
   "outputs": [
    {
     "name": "stdout",
     "output_type": "stream",
     "text": [
      "내장모듈 random 안에 있는 random()함수 :0.9748899102376448\n"
     ]
    }
   ],
   "source": [
    "print(f'내장모듈 random 안에 있는 random()함수 :{rad.random()}')"
   ]
  },
  {
   "cell_type": "markdown",
   "metadata": {},
   "source": [
    "모듈명을 별칭 지정 시 이전 모듈명으로 사용 X"
   ]
  },
  {
   "cell_type": "code",
   "execution_count": 13,
   "metadata": {},
   "outputs": [],
   "source": [
    "# random.randint()"
   ]
  },
  {
   "cell_type": "markdown",
   "metadata": {},
   "source": [
    "## 02"
   ]
  },
  {
   "cell_type": "markdown",
   "metadata": {},
   "source": [
    "모듈 - 파이썬 파일 (py) 1개\n",
    " - 구성 : 변수, 함수, 클래스가 존재 (반드시 모두 다 있지는 않음!)\n",
    " - 종류 : 내장 모듈 / 사용자 정의 모듈 / 써드 파티션 모듈(설치 필수)"
   ]
  },
  {
   "cell_type": "markdown",
   "metadata": {},
   "source": [
    "사용법 => 현재 파이썬 파일에 포함시켜야 사용 가능함  \n",
    "모듈 내에서 일부 변수, 함수, 클래스만 포함하는 경우  \n",
    " - 형식 : from 모듈명 import 변수명/함수명/클래스명  \n",
    " - 주의 : 파일 안에 동일한 변수명/함수명/클래스가 존재한다면 해당 파일이 우선"
   ]
  },
  {
   "cell_type": "code",
   "execution_count": 36,
   "metadata": {},
   "outputs": [],
   "source": [
    "from math import pi, factorial, e\n",
    "from random import *    # *의미 : 모든 것"
   ]
  },
  {
   "cell_type": "markdown",
   "metadata": {},
   "source": [
    "전역변수"
   ]
  },
  {
   "cell_type": "code",
   "execution_count": 33,
   "metadata": {},
   "outputs": [],
   "source": [
    "pi = 'Apple'"
   ]
  },
  {
   "cell_type": "markdown",
   "metadata": {},
   "source": [
    "사용 : 바로 변수명/함수()/클래스명 사용"
   ]
  },
  {
   "cell_type": "code",
   "execution_count": 31,
   "metadata": {},
   "outputs": [
    {
     "name": "stdout",
     "output_type": "stream",
     "text": [
      "내장모듈 math 안에 있는 pi변수 사용 : 3.141592653589793\n"
     ]
    }
   ],
   "source": [
    "print(f'내장모듈 math 안에 있는 pi변수 사용 : {pi}')"
   ]
  },
  {
   "cell_type": "code",
   "execution_count": null,
   "metadata": {},
   "outputs": [],
   "source": []
  }
 ],
 "metadata": {
  "kernelspec": {
   "display_name": "PY_39",
   "language": "python",
   "name": "python3"
  },
  "language_info": {
   "codemirror_mode": {
    "name": "ipython",
    "version": 3
   },
   "file_extension": ".py",
   "mimetype": "text/x-python",
   "name": "python",
   "nbconvert_exporter": "python",
   "pygments_lexer": "ipython3",
   "version": "3.9.19"
  }
 },
 "nbformat": 4,
 "nbformat_minor": 2
}
