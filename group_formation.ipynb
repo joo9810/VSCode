{
 "cells": [
  {
   "cell_type": "code",
   "execution_count": 122,
   "metadata": {},
   "outputs": [],
   "source": [
    "import random\n",
    "\n",
    "# 그룹 생성 함수\n",
    "def generate_group():\n",
    "    # 학생 리스트\n",
    "    student = ['박란영', '조혜리', '전민규', '안효준', '김경태', '김태헌', '구성윤', '황은혁',\n",
    "            '김경환', '곽경민', '김재성', '도영훈', '한세진', '이민하', '장재웅', '이현종',\n",
    "            '박형준', '손지원', '황지원', '김환선', '김민석', '이동건', '김영주', '안윤호',\n",
    "            '김미소', '김아란', '김도연', '권도운', '김이현', '김현주', '이송은', '박지훈']\n",
    "\n",
    "    group_dict = {}\n",
    "\n",
    "    for i in range(8):\n",
    "        group_list = []\n",
    "        for j in range(4):\n",
    "            idx = random.choice(range(32-(i*4+j))) # 학생 한 명을 뽑을때마다 리스트 길이가 1씩 줄어듦\n",
    "            group_list.append(student.pop(idx)) # pop을 사용해서 비복원 추출\n",
    "        group_dict[f'{i+1}조'] = group_list # 딕셔너리에 저장\n",
    "\n",
    "\n",
    "    # team.txt 파일로 조 정보 저장\n",
    "    with open('teams.txt', 'w', encoding='utf-8') as file:\n",
    "        for group_number, group_member in group_dict.items():\n",
    "            file.write(f'{group_number}: {\", \".join(group_member)}\\n')\n",
    "\n",
    "    return group_dict\n"
   ]
  },
  {
   "cell_type": "code",
   "execution_count": 125,
   "metadata": {},
   "outputs": [
    {
     "data": {
      "text/plain": [
       "{'1조': ['전민규', '김이현', '구성윤', '김환선'],\n",
       " '2조': ['김도연', '안윤호', '김아란', '김태헌'],\n",
       " '3조': ['황지원', '조혜리', '이동건', '황은혁'],\n",
       " '4조': ['김경태', '김민석', '박지훈', '장재웅'],\n",
       " '5조': ['박란영', '도영훈', '이현종', '박형준'],\n",
       " '6조': ['손지원', '이송은', '권도운', '김경환'],\n",
       " '7조': ['곽경민', '김재성', '한세진', '김현주'],\n",
       " '8조': ['이민하', '안효준', '김영주', '김미소']}"
      ]
     },
     "execution_count": 125,
     "metadata": {},
     "output_type": "execute_result"
    }
   ],
   "source": [
    "# 첫 번째 조가 이렇게 짜였다고 가정\n",
    "first_group = {'1조': ['전민규', '김이현', '구성윤', '김환선'],\n",
    " '2조': ['김도연', '안윤호', '김아란', '김태헌'],\n",
    " '3조': ['황지원', '조혜리', '이동건', '황은혁'],\n",
    " '4조': ['김경태', '김민석', '박지훈', '장재웅'],\n",
    " '5조': ['박란영', '도영훈', '이현종', '박형준'],\n",
    " '6조': ['손지원', '이송은', '권도운', '김경환'],\n",
    " '7조': ['곽경민', '김재성', '한세진', '김현주'],\n",
    " '8조': ['이민하', '안효준', '김영주', '김미소']}\n",
    "\n",
    "first_group"
   ]
  },
  {
   "cell_type": "code",
   "execution_count": 126,
   "metadata": {},
   "outputs": [
    {
     "data": {
      "text/plain": [
       "{'1조': ['김민석', '이현종', '이민하', '조혜리'],\n",
       " '2조': ['곽경민', '장재웅', '손지원', '김환선'],\n",
       " '3조': ['이동건', '김경태', '김재성', '김태헌'],\n",
       " '4조': ['안효준', '김도연', '이송은', '황은혁'],\n",
       " '5조': ['구성윤', '김경환', '김현주', '도영훈'],\n",
       " '6조': ['권도운', '김아란', '전민규', '박지훈'],\n",
       " '7조': ['김영주', '박형준', '김이현', '한세진'],\n",
       " '8조': ['김미소', '안윤호', '황지원', '박란영']}"
      ]
     },
     "execution_count": 126,
     "metadata": {},
     "output_type": "execute_result"
    }
   ],
   "source": [
    "while True:\n",
    "    valid_group = True # 플래그 변수 지정\n",
    "    group = generate_group()\n",
    "    group # 두 번째로 생성한 조\n",
    "\n",
    "    for i in range(8):\n",
    "        for j in range(8):\n",
    "            # 만약 첫 번째 그룹과 두 번째 그룹의 교집합이 2이상인 곳이 존재하면 다시 뽑기\n",
    "            if len(set(list(first_group.values())[i]) & set(list(group.values())[j])) >= 2:\n",
    "                valid_group = False # 2이상인 곳이 존재하면 j의 for문 빠져나오기\n",
    "                break\n",
    "        if valid_group == False: # 2이상인 곳이 존재하면 i의 for문 빠져나오기\n",
    "            break\n",
    "    if valid_group == True: # 2이상이 곳이 존재하지 않으면 while문 빠져나오기\n",
    "        break\n",
    "\n",
    "group"
   ]
  },
  {
   "cell_type": "code",
   "execution_count": null,
   "metadata": {},
   "outputs": [],
   "source": []
  }
 ],
 "metadata": {
  "kernelspec": {
   "display_name": "Python 3",
   "language": "python",
   "name": "python3"
  },
  "language_info": {
   "codemirror_mode": {
    "name": "ipython",
    "version": 3
   },
   "file_extension": ".py",
   "mimetype": "text/x-python",
   "name": "python",
   "nbconvert_exporter": "python",
   "pygments_lexer": "ipython3",
   "version": "3.11.9"
  }
 },
 "nbformat": 4,
 "nbformat_minor": 2
}
