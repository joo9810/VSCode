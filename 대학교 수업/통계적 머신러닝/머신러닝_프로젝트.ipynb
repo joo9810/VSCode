{
  "nbformat": 4,
  "nbformat_minor": 0,
  "metadata": {
    "colab": {
      "provenance": []
    },
    "kernelspec": {
      "name": "python3",
      "display_name": "Python 3"
    },
    "language_info": {
      "name": "python"
    }
  },
  "cells": [
    {
      "cell_type": "markdown",
      "source": [
        "# 데이터 불러오기"
      ],
      "metadata": {
        "id": "9kd2diH9gSur"
      }
    },
    {
      "cell_type": "code",
      "execution_count": null,
      "metadata": {
        "colab": {
          "base_uri": "https://localhost:8080/",
          "height": 74
        },
        "id": "ftpnwV_egMh-",
        "outputId": "2e74b07d-63b6-4481-e844-2b204dacbf4f"
      },
      "outputs": [
        {
          "output_type": "display_data",
          "data": {
            "text/plain": [
              "<IPython.core.display.HTML object>"
            ],
            "text/html": [
              "\n",
              "     <input type=\"file\" id=\"files-520f6eb0-81a3-4e49-8852-21265914c9b0\" name=\"files[]\" multiple disabled\n",
              "        style=\"border:none\" />\n",
              "     <output id=\"result-520f6eb0-81a3-4e49-8852-21265914c9b0\">\n",
              "      Upload widget is only available when the cell has been executed in the\n",
              "      current browser session. Please rerun this cell to enable.\n",
              "      </output>\n",
              "      <script>// Copyright 2017 Google LLC\n",
              "//\n",
              "// Licensed under the Apache License, Version 2.0 (the \"License\");\n",
              "// you may not use this file except in compliance with the License.\n",
              "// You may obtain a copy of the License at\n",
              "//\n",
              "//      http://www.apache.org/licenses/LICENSE-2.0\n",
              "//\n",
              "// Unless required by applicable law or agreed to in writing, software\n",
              "// distributed under the License is distributed on an \"AS IS\" BASIS,\n",
              "// WITHOUT WARRANTIES OR CONDITIONS OF ANY KIND, either express or implied.\n",
              "// See the License for the specific language governing permissions and\n",
              "// limitations under the License.\n",
              "\n",
              "/**\n",
              " * @fileoverview Helpers for google.colab Python module.\n",
              " */\n",
              "(function(scope) {\n",
              "function span(text, styleAttributes = {}) {\n",
              "  const element = document.createElement('span');\n",
              "  element.textContent = text;\n",
              "  for (const key of Object.keys(styleAttributes)) {\n",
              "    element.style[key] = styleAttributes[key];\n",
              "  }\n",
              "  return element;\n",
              "}\n",
              "\n",
              "// Max number of bytes which will be uploaded at a time.\n",
              "const MAX_PAYLOAD_SIZE = 100 * 1024;\n",
              "\n",
              "function _uploadFiles(inputId, outputId) {\n",
              "  const steps = uploadFilesStep(inputId, outputId);\n",
              "  const outputElement = document.getElementById(outputId);\n",
              "  // Cache steps on the outputElement to make it available for the next call\n",
              "  // to uploadFilesContinue from Python.\n",
              "  outputElement.steps = steps;\n",
              "\n",
              "  return _uploadFilesContinue(outputId);\n",
              "}\n",
              "\n",
              "// This is roughly an async generator (not supported in the browser yet),\n",
              "// where there are multiple asynchronous steps and the Python side is going\n",
              "// to poll for completion of each step.\n",
              "// This uses a Promise to block the python side on completion of each step,\n",
              "// then passes the result of the previous step as the input to the next step.\n",
              "function _uploadFilesContinue(outputId) {\n",
              "  const outputElement = document.getElementById(outputId);\n",
              "  const steps = outputElement.steps;\n",
              "\n",
              "  const next = steps.next(outputElement.lastPromiseValue);\n",
              "  return Promise.resolve(next.value.promise).then((value) => {\n",
              "    // Cache the last promise value to make it available to the next\n",
              "    // step of the generator.\n",
              "    outputElement.lastPromiseValue = value;\n",
              "    return next.value.response;\n",
              "  });\n",
              "}\n",
              "\n",
              "/**\n",
              " * Generator function which is called between each async step of the upload\n",
              " * process.\n",
              " * @param {string} inputId Element ID of the input file picker element.\n",
              " * @param {string} outputId Element ID of the output display.\n",
              " * @return {!Iterable<!Object>} Iterable of next steps.\n",
              " */\n",
              "function* uploadFilesStep(inputId, outputId) {\n",
              "  const inputElement = document.getElementById(inputId);\n",
              "  inputElement.disabled = false;\n",
              "\n",
              "  const outputElement = document.getElementById(outputId);\n",
              "  outputElement.innerHTML = '';\n",
              "\n",
              "  const pickedPromise = new Promise((resolve) => {\n",
              "    inputElement.addEventListener('change', (e) => {\n",
              "      resolve(e.target.files);\n",
              "    });\n",
              "  });\n",
              "\n",
              "  const cancel = document.createElement('button');\n",
              "  inputElement.parentElement.appendChild(cancel);\n",
              "  cancel.textContent = 'Cancel upload';\n",
              "  const cancelPromise = new Promise((resolve) => {\n",
              "    cancel.onclick = () => {\n",
              "      resolve(null);\n",
              "    };\n",
              "  });\n",
              "\n",
              "  // Wait for the user to pick the files.\n",
              "  const files = yield {\n",
              "    promise: Promise.race([pickedPromise, cancelPromise]),\n",
              "    response: {\n",
              "      action: 'starting',\n",
              "    }\n",
              "  };\n",
              "\n",
              "  cancel.remove();\n",
              "\n",
              "  // Disable the input element since further picks are not allowed.\n",
              "  inputElement.disabled = true;\n",
              "\n",
              "  if (!files) {\n",
              "    return {\n",
              "      response: {\n",
              "        action: 'complete',\n",
              "      }\n",
              "    };\n",
              "  }\n",
              "\n",
              "  for (const file of files) {\n",
              "    const li = document.createElement('li');\n",
              "    li.append(span(file.name, {fontWeight: 'bold'}));\n",
              "    li.append(span(\n",
              "        `(${file.type || 'n/a'}) - ${file.size} bytes, ` +\n",
              "        `last modified: ${\n",
              "            file.lastModifiedDate ? file.lastModifiedDate.toLocaleDateString() :\n",
              "                                    'n/a'} - `));\n",
              "    const percent = span('0% done');\n",
              "    li.appendChild(percent);\n",
              "\n",
              "    outputElement.appendChild(li);\n",
              "\n",
              "    const fileDataPromise = new Promise((resolve) => {\n",
              "      const reader = new FileReader();\n",
              "      reader.onload = (e) => {\n",
              "        resolve(e.target.result);\n",
              "      };\n",
              "      reader.readAsArrayBuffer(file);\n",
              "    });\n",
              "    // Wait for the data to be ready.\n",
              "    let fileData = yield {\n",
              "      promise: fileDataPromise,\n",
              "      response: {\n",
              "        action: 'continue',\n",
              "      }\n",
              "    };\n",
              "\n",
              "    // Use a chunked sending to avoid message size limits. See b/62115660.\n",
              "    let position = 0;\n",
              "    do {\n",
              "      const length = Math.min(fileData.byteLength - position, MAX_PAYLOAD_SIZE);\n",
              "      const chunk = new Uint8Array(fileData, position, length);\n",
              "      position += length;\n",
              "\n",
              "      const base64 = btoa(String.fromCharCode.apply(null, chunk));\n",
              "      yield {\n",
              "        response: {\n",
              "          action: 'append',\n",
              "          file: file.name,\n",
              "          data: base64,\n",
              "        },\n",
              "      };\n",
              "\n",
              "      let percentDone = fileData.byteLength === 0 ?\n",
              "          100 :\n",
              "          Math.round((position / fileData.byteLength) * 100);\n",
              "      percent.textContent = `${percentDone}% done`;\n",
              "\n",
              "    } while (position < fileData.byteLength);\n",
              "  }\n",
              "\n",
              "  // All done.\n",
              "  yield {\n",
              "    response: {\n",
              "      action: 'complete',\n",
              "    }\n",
              "  };\n",
              "}\n",
              "\n",
              "scope.google = scope.google || {};\n",
              "scope.google.colab = scope.google.colab || {};\n",
              "scope.google.colab._files = {\n",
              "  _uploadFiles,\n",
              "  _uploadFilesContinue,\n",
              "};\n",
              "})(self);\n",
              "</script> "
            ]
          },
          "metadata": {}
        },
        {
          "output_type": "stream",
          "name": "stdout",
          "text": [
            "Saving salary.csv to salary.csv\n"
          ]
        }
      ],
      "source": [
        "from google.colab import files\n",
        "myfile = files.upload()"
      ]
    },
    {
      "cell_type": "code",
      "source": [
        "import pandas as pd"
      ],
      "metadata": {
        "id": "LcuXIAONg4xK"
      },
      "execution_count": null,
      "outputs": []
    },
    {
      "cell_type": "code",
      "source": [
        "df = pd.read_csv('salary.csv')"
      ],
      "metadata": {
        "id": "3zkmZPj2hY_C"
      },
      "execution_count": null,
      "outputs": []
    },
    {
      "cell_type": "code",
      "source": [
        "df"
      ],
      "metadata": {
        "colab": {
          "base_uri": "https://localhost:8080/",
          "height": 696
        },
        "id": "9X6I6gJlhb8r",
        "outputId": "ef2c47eb-0940-453a-dcfc-db2f0bd5536d"
      },
      "execution_count": null,
      "outputs": [
        {
          "output_type": "execute_result",
          "data": {
            "text/plain": [
              "       age workclass  fnlwgt     education  education-num      marital-status  \\\n",
              "0       28   Private  338409     Bachelors             13  Married-civ-spouse   \n",
              "1       49   Private  160187           9th              5               other   \n",
              "2       30       gov  141297     Bachelors             13  Married-civ-spouse   \n",
              "3       40   Private  121772     Assoc-voc             11  Married-civ-spouse   \n",
              "4       34   Private  245487       7th-8th              4  Married-civ-spouse   \n",
              "...    ...       ...     ...           ...            ...                 ...   \n",
              "32556   53   Private  304504  Some-college             10  Married-civ-spouse   \n",
              "32557   18   Private   41381       HS-grad              9       Never-married   \n",
              "32558   61   Private  190682       HS-grad              9               other   \n",
              "32559   36   Private  237943     Bachelors             13  Married-civ-spouse   \n",
              "32560   34   Private   60567          11th              7            Divorced   \n",
              "\n",
              "                     race  sex  hours-per-week  native-country  salary  \\\n",
              "0                   Black    1              40               0       0   \n",
              "1                   Black    1              16               0       0   \n",
              "2      Asian-Pac-Islander    0              40               0       1   \n",
              "3      Asian-Pac-Islander    0              40               0       1   \n",
              "4      Amer-Indian-Eskimo    0              45               0       0   \n",
              "...                   ...  ...             ...             ...     ...   \n",
              "32556               White    0              45               1       1   \n",
              "32557               White    1              20               1       0   \n",
              "32558               Black    1              50               1       0   \n",
              "32559               White    0              45               1       1   \n",
              "32560               White    0              60               1       0   \n",
              "\n",
              "       capital  \n",
              "0            0  \n",
              "1            0  \n",
              "2            0  \n",
              "3            0  \n",
              "4            0  \n",
              "...        ...  \n",
              "32556    -1887  \n",
              "32557    -1602  \n",
              "32558    -1669  \n",
              "32559    -1977  \n",
              "32560     -880  \n",
              "\n",
              "[32561 rows x 12 columns]"
            ],
            "text/html": [
              "\n",
              "  <div id=\"df-6cd04408-d3de-417d-a15e-518edf26cac5\">\n",
              "    <div class=\"colab-df-container\">\n",
              "      <div>\n",
              "<style scoped>\n",
              "    .dataframe tbody tr th:only-of-type {\n",
              "        vertical-align: middle;\n",
              "    }\n",
              "\n",
              "    .dataframe tbody tr th {\n",
              "        vertical-align: top;\n",
              "    }\n",
              "\n",
              "    .dataframe thead th {\n",
              "        text-align: right;\n",
              "    }\n",
              "</style>\n",
              "<table border=\"1\" class=\"dataframe\">\n",
              "  <thead>\n",
              "    <tr style=\"text-align: right;\">\n",
              "      <th></th>\n",
              "      <th>age</th>\n",
              "      <th>workclass</th>\n",
              "      <th>fnlwgt</th>\n",
              "      <th>education</th>\n",
              "      <th>education-num</th>\n",
              "      <th>marital-status</th>\n",
              "      <th>race</th>\n",
              "      <th>sex</th>\n",
              "      <th>hours-per-week</th>\n",
              "      <th>native-country</th>\n",
              "      <th>salary</th>\n",
              "      <th>capital</th>\n",
              "    </tr>\n",
              "  </thead>\n",
              "  <tbody>\n",
              "    <tr>\n",
              "      <th>0</th>\n",
              "      <td>28</td>\n",
              "      <td>Private</td>\n",
              "      <td>338409</td>\n",
              "      <td>Bachelors</td>\n",
              "      <td>13</td>\n",
              "      <td>Married-civ-spouse</td>\n",
              "      <td>Black</td>\n",
              "      <td>1</td>\n",
              "      <td>40</td>\n",
              "      <td>0</td>\n",
              "      <td>0</td>\n",
              "      <td>0</td>\n",
              "    </tr>\n",
              "    <tr>\n",
              "      <th>1</th>\n",
              "      <td>49</td>\n",
              "      <td>Private</td>\n",
              "      <td>160187</td>\n",
              "      <td>9th</td>\n",
              "      <td>5</td>\n",
              "      <td>other</td>\n",
              "      <td>Black</td>\n",
              "      <td>1</td>\n",
              "      <td>16</td>\n",
              "      <td>0</td>\n",
              "      <td>0</td>\n",
              "      <td>0</td>\n",
              "    </tr>\n",
              "    <tr>\n",
              "      <th>2</th>\n",
              "      <td>30</td>\n",
              "      <td>gov</td>\n",
              "      <td>141297</td>\n",
              "      <td>Bachelors</td>\n",
              "      <td>13</td>\n",
              "      <td>Married-civ-spouse</td>\n",
              "      <td>Asian-Pac-Islander</td>\n",
              "      <td>0</td>\n",
              "      <td>40</td>\n",
              "      <td>0</td>\n",
              "      <td>1</td>\n",
              "      <td>0</td>\n",
              "    </tr>\n",
              "    <tr>\n",
              "      <th>3</th>\n",
              "      <td>40</td>\n",
              "      <td>Private</td>\n",
              "      <td>121772</td>\n",
              "      <td>Assoc-voc</td>\n",
              "      <td>11</td>\n",
              "      <td>Married-civ-spouse</td>\n",
              "      <td>Asian-Pac-Islander</td>\n",
              "      <td>0</td>\n",
              "      <td>40</td>\n",
              "      <td>0</td>\n",
              "      <td>1</td>\n",
              "      <td>0</td>\n",
              "    </tr>\n",
              "    <tr>\n",
              "      <th>4</th>\n",
              "      <td>34</td>\n",
              "      <td>Private</td>\n",
              "      <td>245487</td>\n",
              "      <td>7th-8th</td>\n",
              "      <td>4</td>\n",
              "      <td>Married-civ-spouse</td>\n",
              "      <td>Amer-Indian-Eskimo</td>\n",
              "      <td>0</td>\n",
              "      <td>45</td>\n",
              "      <td>0</td>\n",
              "      <td>0</td>\n",
              "      <td>0</td>\n",
              "    </tr>\n",
              "    <tr>\n",
              "      <th>...</th>\n",
              "      <td>...</td>\n",
              "      <td>...</td>\n",
              "      <td>...</td>\n",
              "      <td>...</td>\n",
              "      <td>...</td>\n",
              "      <td>...</td>\n",
              "      <td>...</td>\n",
              "      <td>...</td>\n",
              "      <td>...</td>\n",
              "      <td>...</td>\n",
              "      <td>...</td>\n",
              "      <td>...</td>\n",
              "    </tr>\n",
              "    <tr>\n",
              "      <th>32556</th>\n",
              "      <td>53</td>\n",
              "      <td>Private</td>\n",
              "      <td>304504</td>\n",
              "      <td>Some-college</td>\n",
              "      <td>10</td>\n",
              "      <td>Married-civ-spouse</td>\n",
              "      <td>White</td>\n",
              "      <td>0</td>\n",
              "      <td>45</td>\n",
              "      <td>1</td>\n",
              "      <td>1</td>\n",
              "      <td>-1887</td>\n",
              "    </tr>\n",
              "    <tr>\n",
              "      <th>32557</th>\n",
              "      <td>18</td>\n",
              "      <td>Private</td>\n",
              "      <td>41381</td>\n",
              "      <td>HS-grad</td>\n",
              "      <td>9</td>\n",
              "      <td>Never-married</td>\n",
              "      <td>White</td>\n",
              "      <td>1</td>\n",
              "      <td>20</td>\n",
              "      <td>1</td>\n",
              "      <td>0</td>\n",
              "      <td>-1602</td>\n",
              "    </tr>\n",
              "    <tr>\n",
              "      <th>32558</th>\n",
              "      <td>61</td>\n",
              "      <td>Private</td>\n",
              "      <td>190682</td>\n",
              "      <td>HS-grad</td>\n",
              "      <td>9</td>\n",
              "      <td>other</td>\n",
              "      <td>Black</td>\n",
              "      <td>1</td>\n",
              "      <td>50</td>\n",
              "      <td>1</td>\n",
              "      <td>0</td>\n",
              "      <td>-1669</td>\n",
              "    </tr>\n",
              "    <tr>\n",
              "      <th>32559</th>\n",
              "      <td>36</td>\n",
              "      <td>Private</td>\n",
              "      <td>237943</td>\n",
              "      <td>Bachelors</td>\n",
              "      <td>13</td>\n",
              "      <td>Married-civ-spouse</td>\n",
              "      <td>White</td>\n",
              "      <td>0</td>\n",
              "      <td>45</td>\n",
              "      <td>1</td>\n",
              "      <td>1</td>\n",
              "      <td>-1977</td>\n",
              "    </tr>\n",
              "    <tr>\n",
              "      <th>32560</th>\n",
              "      <td>34</td>\n",
              "      <td>Private</td>\n",
              "      <td>60567</td>\n",
              "      <td>11th</td>\n",
              "      <td>7</td>\n",
              "      <td>Divorced</td>\n",
              "      <td>White</td>\n",
              "      <td>0</td>\n",
              "      <td>60</td>\n",
              "      <td>1</td>\n",
              "      <td>0</td>\n",
              "      <td>-880</td>\n",
              "    </tr>\n",
              "  </tbody>\n",
              "</table>\n",
              "<p>32561 rows × 12 columns</p>\n",
              "</div>\n",
              "      <button class=\"colab-df-convert\" onclick=\"convertToInteractive('df-6cd04408-d3de-417d-a15e-518edf26cac5')\"\n",
              "              title=\"Convert this dataframe to an interactive table.\"\n",
              "              style=\"display:none;\">\n",
              "        \n",
              "  <svg xmlns=\"http://www.w3.org/2000/svg\" height=\"24px\"viewBox=\"0 0 24 24\"\n",
              "       width=\"24px\">\n",
              "    <path d=\"M0 0h24v24H0V0z\" fill=\"none\"/>\n",
              "    <path d=\"M18.56 5.44l.94 2.06.94-2.06 2.06-.94-2.06-.94-.94-2.06-.94 2.06-2.06.94zm-11 1L8.5 8.5l.94-2.06 2.06-.94-2.06-.94L8.5 2.5l-.94 2.06-2.06.94zm10 10l.94 2.06.94-2.06 2.06-.94-2.06-.94-.94-2.06-.94 2.06-2.06.94z\"/><path d=\"M17.41 7.96l-1.37-1.37c-.4-.4-.92-.59-1.43-.59-.52 0-1.04.2-1.43.59L10.3 9.45l-7.72 7.72c-.78.78-.78 2.05 0 2.83L4 21.41c.39.39.9.59 1.41.59.51 0 1.02-.2 1.41-.59l7.78-7.78 2.81-2.81c.8-.78.8-2.07 0-2.86zM5.41 20L4 18.59l7.72-7.72 1.47 1.35L5.41 20z\"/>\n",
              "  </svg>\n",
              "      </button>\n",
              "      \n",
              "  <style>\n",
              "    .colab-df-container {\n",
              "      display:flex;\n",
              "      flex-wrap:wrap;\n",
              "      gap: 12px;\n",
              "    }\n",
              "\n",
              "    .colab-df-convert {\n",
              "      background-color: #E8F0FE;\n",
              "      border: none;\n",
              "      border-radius: 50%;\n",
              "      cursor: pointer;\n",
              "      display: none;\n",
              "      fill: #1967D2;\n",
              "      height: 32px;\n",
              "      padding: 0 0 0 0;\n",
              "      width: 32px;\n",
              "    }\n",
              "\n",
              "    .colab-df-convert:hover {\n",
              "      background-color: #E2EBFA;\n",
              "      box-shadow: 0px 1px 2px rgba(60, 64, 67, 0.3), 0px 1px 3px 1px rgba(60, 64, 67, 0.15);\n",
              "      fill: #174EA6;\n",
              "    }\n",
              "\n",
              "    [theme=dark] .colab-df-convert {\n",
              "      background-color: #3B4455;\n",
              "      fill: #D2E3FC;\n",
              "    }\n",
              "\n",
              "    [theme=dark] .colab-df-convert:hover {\n",
              "      background-color: #434B5C;\n",
              "      box-shadow: 0px 1px 3px 1px rgba(0, 0, 0, 0.15);\n",
              "      filter: drop-shadow(0px 1px 2px rgba(0, 0, 0, 0.3));\n",
              "      fill: #FFFFFF;\n",
              "    }\n",
              "  </style>\n",
              "\n",
              "      <script>\n",
              "        const buttonEl =\n",
              "          document.querySelector('#df-6cd04408-d3de-417d-a15e-518edf26cac5 button.colab-df-convert');\n",
              "        buttonEl.style.display =\n",
              "          google.colab.kernel.accessAllowed ? 'block' : 'none';\n",
              "\n",
              "        async function convertToInteractive(key) {\n",
              "          const element = document.querySelector('#df-6cd04408-d3de-417d-a15e-518edf26cac5');\n",
              "          const dataTable =\n",
              "            await google.colab.kernel.invokeFunction('convertToInteractive',\n",
              "                                                     [key], {});\n",
              "          if (!dataTable) return;\n",
              "\n",
              "          const docLinkHtml = 'Like what you see? Visit the ' +\n",
              "            '<a target=\"_blank\" href=https://colab.research.google.com/notebooks/data_table.ipynb>data table notebook</a>'\n",
              "            + ' to learn more about interactive tables.';\n",
              "          element.innerHTML = '';\n",
              "          dataTable['output_type'] = 'display_data';\n",
              "          await google.colab.output.renderOutput(dataTable, element);\n",
              "          const docLink = document.createElement('div');\n",
              "          docLink.innerHTML = docLinkHtml;\n",
              "          element.appendChild(docLink);\n",
              "        }\n",
              "      </script>\n",
              "    </div>\n",
              "  </div>\n",
              "  "
            ]
          },
          "metadata": {},
          "execution_count": 41
        }
      ]
    },
    {
      "cell_type": "code",
      "source": [
        "df1 = df.drop(['education-num'], axis = 1)\n",
        "df1 # education-num 변수 삭제"
      ],
      "metadata": {
        "colab": {
          "base_uri": "https://localhost:8080/",
          "height": 624
        },
        "id": "kpUaICgahdHO",
        "outputId": "40be9407-2497-4f85-c90e-736e03605221"
      },
      "execution_count": null,
      "outputs": [
        {
          "output_type": "execute_result",
          "data": {
            "text/plain": [
              "       age workclass  fnlwgt     education      marital-status  \\\n",
              "0       28   Private  338409     Bachelors  Married-civ-spouse   \n",
              "1       49   Private  160187           9th               other   \n",
              "2       30       gov  141297     Bachelors  Married-civ-spouse   \n",
              "3       40   Private  121772     Assoc-voc  Married-civ-spouse   \n",
              "4       34   Private  245487       7th-8th  Married-civ-spouse   \n",
              "...    ...       ...     ...           ...                 ...   \n",
              "32556   53   Private  304504  Some-college  Married-civ-spouse   \n",
              "32557   18   Private   41381       HS-grad       Never-married   \n",
              "32558   61   Private  190682       HS-grad               other   \n",
              "32559   36   Private  237943     Bachelors  Married-civ-spouse   \n",
              "32560   34   Private   60567          11th            Divorced   \n",
              "\n",
              "                     race  sex  hours-per-week  native-country  salary  \\\n",
              "0                   Black    1              40               0       0   \n",
              "1                   Black    1              16               0       0   \n",
              "2      Asian-Pac-Islander    0              40               0       1   \n",
              "3      Asian-Pac-Islander    0              40               0       1   \n",
              "4      Amer-Indian-Eskimo    0              45               0       0   \n",
              "...                   ...  ...             ...             ...     ...   \n",
              "32556               White    0              45               1       1   \n",
              "32557               White    1              20               1       0   \n",
              "32558               Black    1              50               1       0   \n",
              "32559               White    0              45               1       1   \n",
              "32560               White    0              60               1       0   \n",
              "\n",
              "       capital  \n",
              "0            0  \n",
              "1            0  \n",
              "2            0  \n",
              "3            0  \n",
              "4            0  \n",
              "...        ...  \n",
              "32556    -1887  \n",
              "32557    -1602  \n",
              "32558    -1669  \n",
              "32559    -1977  \n",
              "32560     -880  \n",
              "\n",
              "[32561 rows x 11 columns]"
            ],
            "text/html": [
              "\n",
              "  <div id=\"df-1fa5cae9-ddf9-4e1c-82d9-1c52192d2a42\">\n",
              "    <div class=\"colab-df-container\">\n",
              "      <div>\n",
              "<style scoped>\n",
              "    .dataframe tbody tr th:only-of-type {\n",
              "        vertical-align: middle;\n",
              "    }\n",
              "\n",
              "    .dataframe tbody tr th {\n",
              "        vertical-align: top;\n",
              "    }\n",
              "\n",
              "    .dataframe thead th {\n",
              "        text-align: right;\n",
              "    }\n",
              "</style>\n",
              "<table border=\"1\" class=\"dataframe\">\n",
              "  <thead>\n",
              "    <tr style=\"text-align: right;\">\n",
              "      <th></th>\n",
              "      <th>age</th>\n",
              "      <th>workclass</th>\n",
              "      <th>fnlwgt</th>\n",
              "      <th>education</th>\n",
              "      <th>marital-status</th>\n",
              "      <th>race</th>\n",
              "      <th>sex</th>\n",
              "      <th>hours-per-week</th>\n",
              "      <th>native-country</th>\n",
              "      <th>salary</th>\n",
              "      <th>capital</th>\n",
              "    </tr>\n",
              "  </thead>\n",
              "  <tbody>\n",
              "    <tr>\n",
              "      <th>0</th>\n",
              "      <td>28</td>\n",
              "      <td>Private</td>\n",
              "      <td>338409</td>\n",
              "      <td>Bachelors</td>\n",
              "      <td>Married-civ-spouse</td>\n",
              "      <td>Black</td>\n",
              "      <td>1</td>\n",
              "      <td>40</td>\n",
              "      <td>0</td>\n",
              "      <td>0</td>\n",
              "      <td>0</td>\n",
              "    </tr>\n",
              "    <tr>\n",
              "      <th>1</th>\n",
              "      <td>49</td>\n",
              "      <td>Private</td>\n",
              "      <td>160187</td>\n",
              "      <td>9th</td>\n",
              "      <td>other</td>\n",
              "      <td>Black</td>\n",
              "      <td>1</td>\n",
              "      <td>16</td>\n",
              "      <td>0</td>\n",
              "      <td>0</td>\n",
              "      <td>0</td>\n",
              "    </tr>\n",
              "    <tr>\n",
              "      <th>2</th>\n",
              "      <td>30</td>\n",
              "      <td>gov</td>\n",
              "      <td>141297</td>\n",
              "      <td>Bachelors</td>\n",
              "      <td>Married-civ-spouse</td>\n",
              "      <td>Asian-Pac-Islander</td>\n",
              "      <td>0</td>\n",
              "      <td>40</td>\n",
              "      <td>0</td>\n",
              "      <td>1</td>\n",
              "      <td>0</td>\n",
              "    </tr>\n",
              "    <tr>\n",
              "      <th>3</th>\n",
              "      <td>40</td>\n",
              "      <td>Private</td>\n",
              "      <td>121772</td>\n",
              "      <td>Assoc-voc</td>\n",
              "      <td>Married-civ-spouse</td>\n",
              "      <td>Asian-Pac-Islander</td>\n",
              "      <td>0</td>\n",
              "      <td>40</td>\n",
              "      <td>0</td>\n",
              "      <td>1</td>\n",
              "      <td>0</td>\n",
              "    </tr>\n",
              "    <tr>\n",
              "      <th>4</th>\n",
              "      <td>34</td>\n",
              "      <td>Private</td>\n",
              "      <td>245487</td>\n",
              "      <td>7th-8th</td>\n",
              "      <td>Married-civ-spouse</td>\n",
              "      <td>Amer-Indian-Eskimo</td>\n",
              "      <td>0</td>\n",
              "      <td>45</td>\n",
              "      <td>0</td>\n",
              "      <td>0</td>\n",
              "      <td>0</td>\n",
              "    </tr>\n",
              "    <tr>\n",
              "      <th>...</th>\n",
              "      <td>...</td>\n",
              "      <td>...</td>\n",
              "      <td>...</td>\n",
              "      <td>...</td>\n",
              "      <td>...</td>\n",
              "      <td>...</td>\n",
              "      <td>...</td>\n",
              "      <td>...</td>\n",
              "      <td>...</td>\n",
              "      <td>...</td>\n",
              "      <td>...</td>\n",
              "    </tr>\n",
              "    <tr>\n",
              "      <th>32556</th>\n",
              "      <td>53</td>\n",
              "      <td>Private</td>\n",
              "      <td>304504</td>\n",
              "      <td>Some-college</td>\n",
              "      <td>Married-civ-spouse</td>\n",
              "      <td>White</td>\n",
              "      <td>0</td>\n",
              "      <td>45</td>\n",
              "      <td>1</td>\n",
              "      <td>1</td>\n",
              "      <td>-1887</td>\n",
              "    </tr>\n",
              "    <tr>\n",
              "      <th>32557</th>\n",
              "      <td>18</td>\n",
              "      <td>Private</td>\n",
              "      <td>41381</td>\n",
              "      <td>HS-grad</td>\n",
              "      <td>Never-married</td>\n",
              "      <td>White</td>\n",
              "      <td>1</td>\n",
              "      <td>20</td>\n",
              "      <td>1</td>\n",
              "      <td>0</td>\n",
              "      <td>-1602</td>\n",
              "    </tr>\n",
              "    <tr>\n",
              "      <th>32558</th>\n",
              "      <td>61</td>\n",
              "      <td>Private</td>\n",
              "      <td>190682</td>\n",
              "      <td>HS-grad</td>\n",
              "      <td>other</td>\n",
              "      <td>Black</td>\n",
              "      <td>1</td>\n",
              "      <td>50</td>\n",
              "      <td>1</td>\n",
              "      <td>0</td>\n",
              "      <td>-1669</td>\n",
              "    </tr>\n",
              "    <tr>\n",
              "      <th>32559</th>\n",
              "      <td>36</td>\n",
              "      <td>Private</td>\n",
              "      <td>237943</td>\n",
              "      <td>Bachelors</td>\n",
              "      <td>Married-civ-spouse</td>\n",
              "      <td>White</td>\n",
              "      <td>0</td>\n",
              "      <td>45</td>\n",
              "      <td>1</td>\n",
              "      <td>1</td>\n",
              "      <td>-1977</td>\n",
              "    </tr>\n",
              "    <tr>\n",
              "      <th>32560</th>\n",
              "      <td>34</td>\n",
              "      <td>Private</td>\n",
              "      <td>60567</td>\n",
              "      <td>11th</td>\n",
              "      <td>Divorced</td>\n",
              "      <td>White</td>\n",
              "      <td>0</td>\n",
              "      <td>60</td>\n",
              "      <td>1</td>\n",
              "      <td>0</td>\n",
              "      <td>-880</td>\n",
              "    </tr>\n",
              "  </tbody>\n",
              "</table>\n",
              "<p>32561 rows × 11 columns</p>\n",
              "</div>\n",
              "      <button class=\"colab-df-convert\" onclick=\"convertToInteractive('df-1fa5cae9-ddf9-4e1c-82d9-1c52192d2a42')\"\n",
              "              title=\"Convert this dataframe to an interactive table.\"\n",
              "              style=\"display:none;\">\n",
              "        \n",
              "  <svg xmlns=\"http://www.w3.org/2000/svg\" height=\"24px\"viewBox=\"0 0 24 24\"\n",
              "       width=\"24px\">\n",
              "    <path d=\"M0 0h24v24H0V0z\" fill=\"none\"/>\n",
              "    <path d=\"M18.56 5.44l.94 2.06.94-2.06 2.06-.94-2.06-.94-.94-2.06-.94 2.06-2.06.94zm-11 1L8.5 8.5l.94-2.06 2.06-.94-2.06-.94L8.5 2.5l-.94 2.06-2.06.94zm10 10l.94 2.06.94-2.06 2.06-.94-2.06-.94-.94-2.06-.94 2.06-2.06.94z\"/><path d=\"M17.41 7.96l-1.37-1.37c-.4-.4-.92-.59-1.43-.59-.52 0-1.04.2-1.43.59L10.3 9.45l-7.72 7.72c-.78.78-.78 2.05 0 2.83L4 21.41c.39.39.9.59 1.41.59.51 0 1.02-.2 1.41-.59l7.78-7.78 2.81-2.81c.8-.78.8-2.07 0-2.86zM5.41 20L4 18.59l7.72-7.72 1.47 1.35L5.41 20z\"/>\n",
              "  </svg>\n",
              "      </button>\n",
              "      \n",
              "  <style>\n",
              "    .colab-df-container {\n",
              "      display:flex;\n",
              "      flex-wrap:wrap;\n",
              "      gap: 12px;\n",
              "    }\n",
              "\n",
              "    .colab-df-convert {\n",
              "      background-color: #E8F0FE;\n",
              "      border: none;\n",
              "      border-radius: 50%;\n",
              "      cursor: pointer;\n",
              "      display: none;\n",
              "      fill: #1967D2;\n",
              "      height: 32px;\n",
              "      padding: 0 0 0 0;\n",
              "      width: 32px;\n",
              "    }\n",
              "\n",
              "    .colab-df-convert:hover {\n",
              "      background-color: #E2EBFA;\n",
              "      box-shadow: 0px 1px 2px rgba(60, 64, 67, 0.3), 0px 1px 3px 1px rgba(60, 64, 67, 0.15);\n",
              "      fill: #174EA6;\n",
              "    }\n",
              "\n",
              "    [theme=dark] .colab-df-convert {\n",
              "      background-color: #3B4455;\n",
              "      fill: #D2E3FC;\n",
              "    }\n",
              "\n",
              "    [theme=dark] .colab-df-convert:hover {\n",
              "      background-color: #434B5C;\n",
              "      box-shadow: 0px 1px 3px 1px rgba(0, 0, 0, 0.15);\n",
              "      filter: drop-shadow(0px 1px 2px rgba(0, 0, 0, 0.3));\n",
              "      fill: #FFFFFF;\n",
              "    }\n",
              "  </style>\n",
              "\n",
              "      <script>\n",
              "        const buttonEl =\n",
              "          document.querySelector('#df-1fa5cae9-ddf9-4e1c-82d9-1c52192d2a42 button.colab-df-convert');\n",
              "        buttonEl.style.display =\n",
              "          google.colab.kernel.accessAllowed ? 'block' : 'none';\n",
              "\n",
              "        async function convertToInteractive(key) {\n",
              "          const element = document.querySelector('#df-1fa5cae9-ddf9-4e1c-82d9-1c52192d2a42');\n",
              "          const dataTable =\n",
              "            await google.colab.kernel.invokeFunction('convertToInteractive',\n",
              "                                                     [key], {});\n",
              "          if (!dataTable) return;\n",
              "\n",
              "          const docLinkHtml = 'Like what you see? Visit the ' +\n",
              "            '<a target=\"_blank\" href=https://colab.research.google.com/notebooks/data_table.ipynb>data table notebook</a>'\n",
              "            + ' to learn more about interactive tables.';\n",
              "          element.innerHTML = '';\n",
              "          dataTable['output_type'] = 'display_data';\n",
              "          await google.colab.output.renderOutput(dataTable, element);\n",
              "          const docLink = document.createElement('div');\n",
              "          docLink.innerHTML = docLinkHtml;\n",
              "          element.appendChild(docLink);\n",
              "        }\n",
              "      </script>\n",
              "    </div>\n",
              "  </div>\n",
              "  "
            ]
          },
          "metadata": {},
          "execution_count": 42
        }
      ]
    },
    {
      "cell_type": "markdown",
      "source": [
        "## 변수 설명\n",
        "\n",
        "### age: 나이 (수치)\n",
        "\n",
        "### workclass: 일 유형 (범주)\n",
        "0: Private (일반 회사원)<br>\n",
        "1: Self-emp (자영업자)<br>\n",
        "2: gov (공무원)<br>\n",
        "3: other (그 외)<br>\n",
        "\n",
        "### fnlwgt: CPS 가중치 (수치)\n",
        "(미국 인구조사국에서 할당한 가중치로 두 샘플이 유사한 fnlwgt를 갖는 경우 인구 통계학적으로 유사한 특성을 갖는다는 뜻)\n",
        "\n",
        "### education-num: 교육수준 (범주) [숫자가 클 수록 교육수준이 높음]\n",
        "1: Preschool (유치원)<br>\n",
        "2: 1st-4th (1-4학년)<br>\n",
        "3: 5th-6th (5-6학년)<br>\n",
        "4: 7th-8th (7-8학년)<br>\n",
        "5: 9th (9학년)<br>\n",
        "6: 10th (10학년)<br>\n",
        "7: 11th (11학년)<br>\n",
        "8: 12th (12학년)<br>\n",
        "9: HS-grad (고졸)<br>\n",
        "10: Some-college (전문대)<br>\n",
        "11: Assoc-voc (준학사 학위)<br>\n",
        "12: Assoc-acdm (아카데믹 어소시에이트)<br>\n",
        "13: Bachelors (4년제 학사)<br>\n",
        "14: Masters (석사 학위)<br>\n",
        "15: Prof-school (전문 학교)<br>\n",
        "16: Doctorate (박사 학위)<br>\n",
        "\n",
        "### marital-status: 결혼 상태 (범주)\n",
        "0: Divorced (이혼)<br>\n",
        "1: Married-civ-spouse (민간인 배우자와 결혼)<br>\n",
        "2: Never-married (결혼한 적 없음)<br>\n",
        "3: other (그 외)<br>\n",
        "\n",
        "### race: 인종 (범주)\n",
        "0: Amer-Indian-Eskimo (아메리카 원주민/에스키모)<br>\n",
        "1: Asian-Pac-Islander (아시아인/태평양 섬 주민)<br>\n",
        "2: Black (흑인)<br>\n",
        "3: Other (그 외)<br>\n",
        "4: White (백인)<br>\n",
        "\n",
        "### sex: 성별 (범주)\n",
        "0: 남자<br>\n",
        "1: 여자<br>\n",
        "\n",
        "### capital: 자본 (수치)\n",
        "\n",
        "### hours-per-week: 주당 근무시간 (수치)\n",
        "\n",
        "### native-country: 본 국적 (범주)\n",
        "0: Others (그 외)<br>\n",
        "1: United-States (미국)<br>\n",
        "\n",
        "### salary: 소득\n",
        "0: <=50K<br>\n",
        "1: >50K<br>\n",
        "\n",
        "## capital 변수 합친 이유\n",
        "capital 변수의 경우 capital-gain과 capital-loss의 두 변수로 나뉘었지만, capital-gain은 자본을 얻은 양, capital-loss는 자본을 잃은 양을 나타내서 자본을 얻음과 동시에 잃는 것은 불가능하기 때문에 두 변수의 수치가 동시에 0을 초과하는 경우는 없었으며 capital-loss의 값들을 음수로 취한 뒤 capital-gain 변수와 합쳐주어 capital이라는 하나의 변수로 통합시켰다.\n",
        "\n",
        "## workclass 변수의 범주 줄인 이유\n",
        "workclass 변수의 경우 private(일반 회사원), Self-emp-not-inc(비법인 자영업자), Self-emp-inc(법인 자영업자), Federal-gov(연방정부 공무원), Local-gov(지방정부 공무원), State-gov(주립정부 공무원), Never-worked(일 경험 X), Without-pay(무보수), ?(결측치)의 9개 범주로 나뉘었지만, 범주가 너무 많고 Private의 비율이 너무 많아 (Self-emp-not-inc, Self-emp-inc)를 Self-emp(자영업자)로 통합하고 (Federal-gov, Local-gov, State-gov)를 gov(공무원)로 통합하고 (Never-worked, Without-pay, ?)를 other(그 외)로 통합하여 4개의 범주로 줄였다.\n",
        "\n",
        "## marital-status 변수의 범주 줄인 이유\n",
        "marital-status 변수의 경우 Divorced(이혼), Married-AF-spouse(군인 배우자와 결혼), Married-civ-spouse(민간인 배우자와 결혼), Married-spouse-absent(직장 등의 이유로 별거), Never-married(미혼), Separated(이혼 등의 이유로 별거), Widowed(미망인)의 7개 범주로 나뉘었지만, 범주가 너무 많아 (Married-AF-spouse, Married-spouse-absent, Separated, Widowed)를 미혼은 아니지만 어떠한 이유에서든 배우자와 동거하지 않는 상태라고 취급하여 other(그 외) 변수로 통합하고 4개의 범주로 줄였다. (참고로 Married-AF-spouse는 군인 배우자가 군복무로 인해 별거중이라고 가정했다)\n",
        "\n",
        "## native-country 변수의 범주 줄인 이유\n",
        "native-country 변수의 경우 약 40여개국의 범주로 나뉘었지만 범주가 너무 많고 United-States를 제외한 나머지 국가들의 비중이 너무 적어 나머지 국가들을 Others(그 외)로 통합하고 2개의 범주로 줄였다."
      ],
      "metadata": {
        "id": "mjX3iJqOhkCU"
      }
    },
    {
      "cell_type": "markdown",
      "source": [
        "# 전처리"
      ],
      "metadata": {
        "id": "LiwwPzTriixF"
      }
    },
    {
      "cell_type": "markdown",
      "source": [
        "## 문자형 변수 숫자 코딩"
      ],
      "metadata": {
        "id": "xSAoY1rRikAh"
      }
    },
    {
      "cell_type": "markdown",
      "source": [
        "### workclass"
      ],
      "metadata": {
        "id": "b-hQ1Pdail68"
      }
    },
    {
      "cell_type": "code",
      "source": [
        "from sklearn.preprocessing import LabelEncoder\n",
        "le = LabelEncoder()"
      ],
      "metadata": {
        "id": "z_-n6qe1Lkhu"
      },
      "execution_count": null,
      "outputs": []
    },
    {
      "cell_type": "code",
      "source": [
        "df1['workclass'] = le.fit_transform(df1['workclass'])"
      ],
      "metadata": {
        "id": "HI7CfKyzMVde"
      },
      "execution_count": null,
      "outputs": []
    },
    {
      "cell_type": "code",
      "source": [
        "display(le.classes_)"
      ],
      "metadata": {
        "colab": {
          "base_uri": "https://localhost:8080/",
          "height": 35
        },
        "id": "uvYyk_3wQGKB",
        "outputId": "ee6ecdfa-f8f9-42ee-a0fc-1b891a2f240b"
      },
      "execution_count": null,
      "outputs": [
        {
          "output_type": "display_data",
          "data": {
            "text/plain": [
              "array(['Private', 'Self-emp', 'gov', 'other'], dtype=object)"
            ]
          },
          "metadata": {}
        }
      ]
    },
    {
      "cell_type": "code",
      "source": [
        "df1['workclass'].value_counts()\n",
        "# 0: Private\n",
        "# 1: Self-emp\n",
        "# 2: gov\n",
        "# 3: other"
      ],
      "metadata": {
        "colab": {
          "base_uri": "https://localhost:8080/"
        },
        "id": "MAksSNw1in5_",
        "outputId": "797ce92e-b85a-4105-d7c5-68854b796785"
      },
      "execution_count": null,
      "outputs": [
        {
          "output_type": "execute_result",
          "data": {
            "text/plain": [
              "0    22696\n",
              "2     4351\n",
              "1     3657\n",
              "3     1857\n",
              "Name: workclass, dtype: int64"
            ]
          },
          "metadata": {},
          "execution_count": 46
        }
      ]
    },
    {
      "cell_type": "markdown",
      "source": [
        "### marital-status"
      ],
      "metadata": {
        "id": "gye3rIz_iqQ-"
      }
    },
    {
      "cell_type": "code",
      "source": [
        "from sklearn.preprocessing import LabelEncoder\n",
        "le = LabelEncoder()"
      ],
      "metadata": {
        "id": "b3jwKwBTNbVT"
      },
      "execution_count": null,
      "outputs": []
    },
    {
      "cell_type": "code",
      "source": [
        "df1['marital-status'] = le.fit_transform(df1['marital-status'])"
      ],
      "metadata": {
        "id": "rcEPHBY0NgZS"
      },
      "execution_count": null,
      "outputs": []
    },
    {
      "cell_type": "code",
      "source": [
        "display(le.classes_)"
      ],
      "metadata": {
        "colab": {
          "base_uri": "https://localhost:8080/",
          "height": 53
        },
        "id": "IXdCPHBHRMpi",
        "outputId": "665d70aa-2add-4cfb-f60b-3b1d3c122590"
      },
      "execution_count": null,
      "outputs": [
        {
          "output_type": "display_data",
          "data": {
            "text/plain": [
              "array(['Divorced', 'Married-civ-spouse', 'Never-married', 'other'],\n",
              "      dtype=object)"
            ]
          },
          "metadata": {}
        }
      ]
    },
    {
      "cell_type": "code",
      "source": [
        "df1['marital-status'].value_counts()\n",
        "# 0: Divorced\n",
        "# 1: Married-civ-spouse\n",
        "# 2: Never-married\n",
        "# 3: other"
      ],
      "metadata": {
        "colab": {
          "base_uri": "https://localhost:8080/"
        },
        "id": "Exr8kxgeiu4Z",
        "outputId": "19aa0c1c-c6b8-4442-96ff-c2afaa0682c9"
      },
      "execution_count": null,
      "outputs": [
        {
          "output_type": "execute_result",
          "data": {
            "text/plain": [
              "1    14976\n",
              "2    10683\n",
              "0     4443\n",
              "3     2459\n",
              "Name: marital-status, dtype: int64"
            ]
          },
          "metadata": {},
          "execution_count": 50
        }
      ]
    },
    {
      "cell_type": "markdown",
      "source": [
        "### race"
      ],
      "metadata": {
        "id": "kK8_9_udixFL"
      }
    },
    {
      "cell_type": "code",
      "source": [
        "from sklearn.preprocessing import LabelEncoder\n",
        "le = LabelEncoder()"
      ],
      "metadata": {
        "id": "VR-fxpQTNq1_"
      },
      "execution_count": null,
      "outputs": []
    },
    {
      "cell_type": "code",
      "source": [
        "df1['race'] = le.fit_transform(df1['race'])"
      ],
      "metadata": {
        "id": "J3QwlviMNwL7"
      },
      "execution_count": null,
      "outputs": []
    },
    {
      "cell_type": "code",
      "source": [
        "display(le.classes_)"
      ],
      "metadata": {
        "colab": {
          "base_uri": "https://localhost:8080/",
          "height": 53
        },
        "id": "PZlOuTotRq9X",
        "outputId": "8b195329-b6fd-49e3-cc03-61589dfc89d6"
      },
      "execution_count": null,
      "outputs": [
        {
          "output_type": "display_data",
          "data": {
            "text/plain": [
              "array(['Amer-Indian-Eskimo', 'Asian-Pac-Islander', 'Black', 'Other',\n",
              "       'White'], dtype=object)"
            ]
          },
          "metadata": {}
        }
      ]
    },
    {
      "cell_type": "code",
      "source": [
        "df1['race'].value_counts()\n",
        "# 0: Amer-Indian-Eskimo\n",
        "# 1: Asian-Pac-Islander\n",
        "# 2: Black\n",
        "# 3: Other\n",
        "# 4: White"
      ],
      "metadata": {
        "colab": {
          "base_uri": "https://localhost:8080/"
        },
        "id": "IZMF5kOdiyqF",
        "outputId": "bf69c9ff-7805-4719-dd6f-0ec5cf817103"
      },
      "execution_count": null,
      "outputs": [
        {
          "output_type": "execute_result",
          "data": {
            "text/plain": [
              "4    27816\n",
              "2     3124\n",
              "1     1039\n",
              "0      311\n",
              "3      271\n",
              "Name: race, dtype: int64"
            ]
          },
          "metadata": {},
          "execution_count": 53
        }
      ]
    },
    {
      "cell_type": "markdown",
      "source": [
        "### education"
      ],
      "metadata": {
        "id": "F8IuPOz8RwCA"
      }
    },
    {
      "cell_type": "code",
      "source": [
        "from sklearn.preprocessing import LabelEncoder\n",
        "le = LabelEncoder()"
      ],
      "metadata": {
        "id": "4l4Lv4TtRvx4"
      },
      "execution_count": null,
      "outputs": []
    },
    {
      "cell_type": "code",
      "source": [
        "df1['education'] = le.fit_transform(df1['education'])"
      ],
      "metadata": {
        "id": "dZisDmDHR0fJ"
      },
      "execution_count": null,
      "outputs": []
    },
    {
      "cell_type": "code",
      "source": [
        "display(le.classes_)"
      ],
      "metadata": {
        "colab": {
          "base_uri": "https://localhost:8080/",
          "height": 88
        },
        "id": "RQLVvjLnR0cj",
        "outputId": "50b39695-2f92-4f24-8d22-3693f71f07c6"
      },
      "execution_count": null,
      "outputs": [
        {
          "output_type": "display_data",
          "data": {
            "text/plain": [
              "array(['10th', '11th', '12th', '1st-4th', '5th-6th', '7th-8th', '9th',\n",
              "       'Assoc-acdm', 'Assoc-voc', 'Bachelors', 'Doctorate', 'HS-grad',\n",
              "       'Masters', 'Preschool', 'Prof-school', 'Some-college'],\n",
              "      dtype=object)"
            ]
          },
          "metadata": {}
        }
      ]
    },
    {
      "cell_type": "code",
      "source": [
        "df1['education'].value_counts()\n",
        "# 0: Amer-Indian-Eskimo\n",
        "# 1: Asian-Pac-Islander\n",
        "# 2: Black\n",
        "# 3: Other\n",
        "# 4: White"
      ],
      "metadata": {
        "colab": {
          "base_uri": "https://localhost:8080/"
        },
        "id": "oJON8TuAR0Y6",
        "outputId": "3597d49a-2a00-4812-8bf4-cf78ad851437"
      },
      "execution_count": null,
      "outputs": [
        {
          "output_type": "execute_result",
          "data": {
            "text/plain": [
              "11    10501\n",
              "15     7291\n",
              "9      5355\n",
              "12     1723\n",
              "8      1382\n",
              "1      1175\n",
              "7      1067\n",
              "0       933\n",
              "5       646\n",
              "14      576\n",
              "6       514\n",
              "2       433\n",
              "10      413\n",
              "4       333\n",
              "3       168\n",
              "13       51\n",
              "Name: education, dtype: int64"
            ]
          },
          "metadata": {},
          "execution_count": 58
        }
      ]
    },
    {
      "cell_type": "code",
      "source": [
        "df1"
      ],
      "metadata": {
        "colab": {
          "base_uri": "https://localhost:8080/",
          "height": 485
        },
        "id": "locieCB1izvi",
        "outputId": "a644bc5b-af42-4d6f-ddec-ec453d5220be"
      },
      "execution_count": null,
      "outputs": [
        {
          "output_type": "execute_result",
          "data": {
            "text/plain": [
              "       age  workclass  fnlwgt  education-num  marital-status  race  sex  \\\n",
              "0       28          0  338409             13               1     1    1   \n",
              "1       49          0  160187              5               3     1    1   \n",
              "2       30          2  141297             13               1     2    0   \n",
              "3       40          0  121772             11               1     2    0   \n",
              "4       34          0  245487              4               1     3    0   \n",
              "...    ...        ...     ...            ...             ...   ...  ...   \n",
              "32556   53          0  304504             10               1     0    0   \n",
              "32557   18          0   41381              9               2     0    1   \n",
              "32558   61          0  190682              9               3     1    1   \n",
              "32559   36          0  237943             13               1     0    0   \n",
              "32560   34          0   60567              7               0     0    0   \n",
              "\n",
              "       hours-per-week  native-country  salary  capital  \n",
              "0                  40               0       0        0  \n",
              "1                  16               0       0        0  \n",
              "2                  40               0       1        0  \n",
              "3                  40               0       1        0  \n",
              "4                  45               0       0        0  \n",
              "...               ...             ...     ...      ...  \n",
              "32556              45               1       1    -1887  \n",
              "32557              20               1       0    -1602  \n",
              "32558              50               1       0    -1669  \n",
              "32559              45               1       1    -1977  \n",
              "32560              60               1       0     -880  \n",
              "\n",
              "[32561 rows x 11 columns]"
            ],
            "text/html": [
              "\n",
              "  <div id=\"df-dd8fb46e-693f-455a-b091-e50a2909823b\">\n",
              "    <div class=\"colab-df-container\">\n",
              "      <div>\n",
              "<style scoped>\n",
              "    .dataframe tbody tr th:only-of-type {\n",
              "        vertical-align: middle;\n",
              "    }\n",
              "\n",
              "    .dataframe tbody tr th {\n",
              "        vertical-align: top;\n",
              "    }\n",
              "\n",
              "    .dataframe thead th {\n",
              "        text-align: right;\n",
              "    }\n",
              "</style>\n",
              "<table border=\"1\" class=\"dataframe\">\n",
              "  <thead>\n",
              "    <tr style=\"text-align: right;\">\n",
              "      <th></th>\n",
              "      <th>age</th>\n",
              "      <th>workclass</th>\n",
              "      <th>fnlwgt</th>\n",
              "      <th>education-num</th>\n",
              "      <th>marital-status</th>\n",
              "      <th>race</th>\n",
              "      <th>sex</th>\n",
              "      <th>hours-per-week</th>\n",
              "      <th>native-country</th>\n",
              "      <th>salary</th>\n",
              "      <th>capital</th>\n",
              "    </tr>\n",
              "  </thead>\n",
              "  <tbody>\n",
              "    <tr>\n",
              "      <th>0</th>\n",
              "      <td>28</td>\n",
              "      <td>0</td>\n",
              "      <td>338409</td>\n",
              "      <td>13</td>\n",
              "      <td>1</td>\n",
              "      <td>1</td>\n",
              "      <td>1</td>\n",
              "      <td>40</td>\n",
              "      <td>0</td>\n",
              "      <td>0</td>\n",
              "      <td>0</td>\n",
              "    </tr>\n",
              "    <tr>\n",
              "      <th>1</th>\n",
              "      <td>49</td>\n",
              "      <td>0</td>\n",
              "      <td>160187</td>\n",
              "      <td>5</td>\n",
              "      <td>3</td>\n",
              "      <td>1</td>\n",
              "      <td>1</td>\n",
              "      <td>16</td>\n",
              "      <td>0</td>\n",
              "      <td>0</td>\n",
              "      <td>0</td>\n",
              "    </tr>\n",
              "    <tr>\n",
              "      <th>2</th>\n",
              "      <td>30</td>\n",
              "      <td>2</td>\n",
              "      <td>141297</td>\n",
              "      <td>13</td>\n",
              "      <td>1</td>\n",
              "      <td>2</td>\n",
              "      <td>0</td>\n",
              "      <td>40</td>\n",
              "      <td>0</td>\n",
              "      <td>1</td>\n",
              "      <td>0</td>\n",
              "    </tr>\n",
              "    <tr>\n",
              "      <th>3</th>\n",
              "      <td>40</td>\n",
              "      <td>0</td>\n",
              "      <td>121772</td>\n",
              "      <td>11</td>\n",
              "      <td>1</td>\n",
              "      <td>2</td>\n",
              "      <td>0</td>\n",
              "      <td>40</td>\n",
              "      <td>0</td>\n",
              "      <td>1</td>\n",
              "      <td>0</td>\n",
              "    </tr>\n",
              "    <tr>\n",
              "      <th>4</th>\n",
              "      <td>34</td>\n",
              "      <td>0</td>\n",
              "      <td>245487</td>\n",
              "      <td>4</td>\n",
              "      <td>1</td>\n",
              "      <td>3</td>\n",
              "      <td>0</td>\n",
              "      <td>45</td>\n",
              "      <td>0</td>\n",
              "      <td>0</td>\n",
              "      <td>0</td>\n",
              "    </tr>\n",
              "    <tr>\n",
              "      <th>...</th>\n",
              "      <td>...</td>\n",
              "      <td>...</td>\n",
              "      <td>...</td>\n",
              "      <td>...</td>\n",
              "      <td>...</td>\n",
              "      <td>...</td>\n",
              "      <td>...</td>\n",
              "      <td>...</td>\n",
              "      <td>...</td>\n",
              "      <td>...</td>\n",
              "      <td>...</td>\n",
              "    </tr>\n",
              "    <tr>\n",
              "      <th>32556</th>\n",
              "      <td>53</td>\n",
              "      <td>0</td>\n",
              "      <td>304504</td>\n",
              "      <td>10</td>\n",
              "      <td>1</td>\n",
              "      <td>0</td>\n",
              "      <td>0</td>\n",
              "      <td>45</td>\n",
              "      <td>1</td>\n",
              "      <td>1</td>\n",
              "      <td>-1887</td>\n",
              "    </tr>\n",
              "    <tr>\n",
              "      <th>32557</th>\n",
              "      <td>18</td>\n",
              "      <td>0</td>\n",
              "      <td>41381</td>\n",
              "      <td>9</td>\n",
              "      <td>2</td>\n",
              "      <td>0</td>\n",
              "      <td>1</td>\n",
              "      <td>20</td>\n",
              "      <td>1</td>\n",
              "      <td>0</td>\n",
              "      <td>-1602</td>\n",
              "    </tr>\n",
              "    <tr>\n",
              "      <th>32558</th>\n",
              "      <td>61</td>\n",
              "      <td>0</td>\n",
              "      <td>190682</td>\n",
              "      <td>9</td>\n",
              "      <td>3</td>\n",
              "      <td>1</td>\n",
              "      <td>1</td>\n",
              "      <td>50</td>\n",
              "      <td>1</td>\n",
              "      <td>0</td>\n",
              "      <td>-1669</td>\n",
              "    </tr>\n",
              "    <tr>\n",
              "      <th>32559</th>\n",
              "      <td>36</td>\n",
              "      <td>0</td>\n",
              "      <td>237943</td>\n",
              "      <td>13</td>\n",
              "      <td>1</td>\n",
              "      <td>0</td>\n",
              "      <td>0</td>\n",
              "      <td>45</td>\n",
              "      <td>1</td>\n",
              "      <td>1</td>\n",
              "      <td>-1977</td>\n",
              "    </tr>\n",
              "    <tr>\n",
              "      <th>32560</th>\n",
              "      <td>34</td>\n",
              "      <td>0</td>\n",
              "      <td>60567</td>\n",
              "      <td>7</td>\n",
              "      <td>0</td>\n",
              "      <td>0</td>\n",
              "      <td>0</td>\n",
              "      <td>60</td>\n",
              "      <td>1</td>\n",
              "      <td>0</td>\n",
              "      <td>-880</td>\n",
              "    </tr>\n",
              "  </tbody>\n",
              "</table>\n",
              "<p>32561 rows × 11 columns</p>\n",
              "</div>\n",
              "      <button class=\"colab-df-convert\" onclick=\"convertToInteractive('df-dd8fb46e-693f-455a-b091-e50a2909823b')\"\n",
              "              title=\"Convert this dataframe to an interactive table.\"\n",
              "              style=\"display:none;\">\n",
              "        \n",
              "  <svg xmlns=\"http://www.w3.org/2000/svg\" height=\"24px\"viewBox=\"0 0 24 24\"\n",
              "       width=\"24px\">\n",
              "    <path d=\"M0 0h24v24H0V0z\" fill=\"none\"/>\n",
              "    <path d=\"M18.56 5.44l.94 2.06.94-2.06 2.06-.94-2.06-.94-.94-2.06-.94 2.06-2.06.94zm-11 1L8.5 8.5l.94-2.06 2.06-.94-2.06-.94L8.5 2.5l-.94 2.06-2.06.94zm10 10l.94 2.06.94-2.06 2.06-.94-2.06-.94-.94-2.06-.94 2.06-2.06.94z\"/><path d=\"M17.41 7.96l-1.37-1.37c-.4-.4-.92-.59-1.43-.59-.52 0-1.04.2-1.43.59L10.3 9.45l-7.72 7.72c-.78.78-.78 2.05 0 2.83L4 21.41c.39.39.9.59 1.41.59.51 0 1.02-.2 1.41-.59l7.78-7.78 2.81-2.81c.8-.78.8-2.07 0-2.86zM5.41 20L4 18.59l7.72-7.72 1.47 1.35L5.41 20z\"/>\n",
              "  </svg>\n",
              "      </button>\n",
              "      \n",
              "  <style>\n",
              "    .colab-df-container {\n",
              "      display:flex;\n",
              "      flex-wrap:wrap;\n",
              "      gap: 12px;\n",
              "    }\n",
              "\n",
              "    .colab-df-convert {\n",
              "      background-color: #E8F0FE;\n",
              "      border: none;\n",
              "      border-radius: 50%;\n",
              "      cursor: pointer;\n",
              "      display: none;\n",
              "      fill: #1967D2;\n",
              "      height: 32px;\n",
              "      padding: 0 0 0 0;\n",
              "      width: 32px;\n",
              "    }\n",
              "\n",
              "    .colab-df-convert:hover {\n",
              "      background-color: #E2EBFA;\n",
              "      box-shadow: 0px 1px 2px rgba(60, 64, 67, 0.3), 0px 1px 3px 1px rgba(60, 64, 67, 0.15);\n",
              "      fill: #174EA6;\n",
              "    }\n",
              "\n",
              "    [theme=dark] .colab-df-convert {\n",
              "      background-color: #3B4455;\n",
              "      fill: #D2E3FC;\n",
              "    }\n",
              "\n",
              "    [theme=dark] .colab-df-convert:hover {\n",
              "      background-color: #434B5C;\n",
              "      box-shadow: 0px 1px 3px 1px rgba(0, 0, 0, 0.15);\n",
              "      filter: drop-shadow(0px 1px 2px rgba(0, 0, 0, 0.3));\n",
              "      fill: #FFFFFF;\n",
              "    }\n",
              "  </style>\n",
              "\n",
              "      <script>\n",
              "        const buttonEl =\n",
              "          document.querySelector('#df-dd8fb46e-693f-455a-b091-e50a2909823b button.colab-df-convert');\n",
              "        buttonEl.style.display =\n",
              "          google.colab.kernel.accessAllowed ? 'block' : 'none';\n",
              "\n",
              "        async function convertToInteractive(key) {\n",
              "          const element = document.querySelector('#df-dd8fb46e-693f-455a-b091-e50a2909823b');\n",
              "          const dataTable =\n",
              "            await google.colab.kernel.invokeFunction('convertToInteractive',\n",
              "                                                     [key], {});\n",
              "          if (!dataTable) return;\n",
              "\n",
              "          const docLinkHtml = 'Like what you see? Visit the ' +\n",
              "            '<a target=\"_blank\" href=https://colab.research.google.com/notebooks/data_table.ipynb>data table notebook</a>'\n",
              "            + ' to learn more about interactive tables.';\n",
              "          element.innerHTML = '';\n",
              "          dataTable['output_type'] = 'display_data';\n",
              "          await google.colab.output.renderOutput(dataTable, element);\n",
              "          const docLink = document.createElement('div');\n",
              "          docLink.innerHTML = docLinkHtml;\n",
              "          element.appendChild(docLink);\n",
              "        }\n",
              "      </script>\n",
              "    </div>\n",
              "  </div>\n",
              "  "
            ]
          },
          "metadata": {},
          "execution_count": 13
        }
      ]
    },
    {
      "cell_type": "markdown",
      "source": [
        "## 데이터 분할"
      ],
      "metadata": {
        "id": "ylZAyHGbi1o1"
      }
    },
    {
      "cell_type": "code",
      "source": [
        "df_input = df1.drop('salary',axis = 1)\n",
        "df_target = df1['salary']"
      ],
      "metadata": {
        "id": "4lq58CNvi0uu"
      },
      "execution_count": null,
      "outputs": []
    },
    {
      "cell_type": "code",
      "source": [
        "from sklearn.model_selection import train_test_split"
      ],
      "metadata": {
        "id": "m2Jr0HSEi8YY"
      },
      "execution_count": null,
      "outputs": []
    },
    {
      "cell_type": "code",
      "source": [
        "# train_set, test_set 분할\n",
        "train_input, test_input, train_target, test_target = train_test_split(\n",
        "    df_input, df_target, test_size = 0.2, random_state = 42)"
      ],
      "metadata": {
        "id": "SEGFZPbOi9V1"
      },
      "execution_count": null,
      "outputs": []
    },
    {
      "cell_type": "code",
      "source": [
        "print(train_input.shape, test_input.shape)\n",
        "# sub_set 20838개, val_set 5210개, test_set 6513개"
      ],
      "metadata": {
        "colab": {
          "base_uri": "https://localhost:8080/"
        },
        "id": "jTV7huL8i_NN",
        "outputId": "9109b8df-3898-4dd1-8e8c-3a531c5d889e"
      },
      "execution_count": null,
      "outputs": [
        {
          "output_type": "stream",
          "name": "stdout",
          "text": [
            "(26048, 10) (6513, 10)\n"
          ]
        }
      ]
    },
    {
      "cell_type": "markdown",
      "source": [
        "## 표준화"
      ],
      "metadata": {
        "id": "rmkyPHMkjBeI"
      }
    },
    {
      "cell_type": "code",
      "source": [
        "from sklearn.preprocessing import StandardScaler\n",
        "\n",
        "ss = StandardScaler()\n",
        "ss.fit(train_input)\n",
        "\n",
        "train_scaled = ss.transform(train_input)\n",
        "test_scaled = ss.transform(test_input)"
      ],
      "metadata": {
        "id": "ZONFK047jAUo"
      },
      "execution_count": null,
      "outputs": []
    },
    {
      "cell_type": "markdown",
      "source": [
        "# 각 알고리즘의 디폴트 값 확인"
      ],
      "metadata": {
        "id": "6cDWlVGIsmdt"
      }
    },
    {
      "cell_type": "markdown",
      "source": [
        "## 로지스틱 회귀 (확률적 경사 하강법 적용)"
      ],
      "metadata": {
        "id": "RvnjyU4njEXR"
      }
    },
    {
      "cell_type": "code",
      "source": [
        "from sklearn.linear_model import SGDClassifier\n",
        "sc = SGDClassifier(loss = 'log', random_state = 42)\n",
        "# SGDClassifier는 하나씩 꺼내는 확률적 경사하강법만 지원하고 배치나 미니배치는 지원하지 않음\n",
        "# loss = 'log'는 로지스틱 손실함수를 적용 (로지스틱 회귀모델을 훈련)\n",
        "# 경사하강법은 머신러닝 모델이 아니라 머신러닝 모델을 훈련(최적화)하는 방법임 (따라서 어떤 모델을 훈련할건지 정해줘야 함)\n",
        "# 점진적인 학습을 위해 max_iter(에포크)값은 10정도로 작게 줌\n",
        "sc.fit(train_scaled, train_target)"
      ],
      "metadata": {
        "colab": {
          "base_uri": "https://localhost:8080/"
        },
        "id": "oDRpF1NbjDXf",
        "outputId": "dadd18aa-8186-43d0-b429-aab32a88619b"
      },
      "execution_count": null,
      "outputs": [
        {
          "output_type": "execute_result",
          "data": {
            "text/plain": [
              "SGDClassifier(loss='log', random_state=42)"
            ]
          },
          "metadata": {},
          "execution_count": 22
        }
      ]
    },
    {
      "cell_type": "code",
      "source": [
        "print(sc.score(train_scaled, train_target))\n",
        "print(sc.score(test_scaled, test_target))\n",
        "# 과소적합"
      ],
      "metadata": {
        "colab": {
          "base_uri": "https://localhost:8080/"
        },
        "id": "SzgIpZ96jHi6",
        "outputId": "7de05dad-f3a3-4e27-fdee-95c9cebee98b"
      },
      "execution_count": null,
      "outputs": [
        {
          "output_type": "stream",
          "name": "stdout",
          "text": [
            "0.816377457002457\n",
            "0.8165208045447566\n"
          ]
        }
      ]
    },
    {
      "cell_type": "code",
      "source": [
        "from sklearn.metrics import classification_report"
      ],
      "metadata": {
        "id": "unm11-My4Ilu"
      },
      "execution_count": null,
      "outputs": []
    },
    {
      "cell_type": "code",
      "source": [
        "pred_train = sc.predict(train_scaled)\n",
        "pred_test = sc.predict(test_scaled)\n",
        "\n",
        "print(classification_report(train_target, pred_train))\n",
        "print(classification_report(test_target, pred_test))"
      ],
      "metadata": {
        "colab": {
          "base_uri": "https://localhost:8080/"
        },
        "id": "cWKxqBRk329a",
        "outputId": "44eec2d7-847d-402e-e43a-4c53af179e53"
      },
      "execution_count": null,
      "outputs": [
        {
          "output_type": "stream",
          "name": "stdout",
          "text": [
            "              precision    recall  f1-score   support\n",
            "\n",
            "           0       0.85      0.92      0.88     19752\n",
            "           1       0.67      0.48      0.56      6296\n",
            "\n",
            "    accuracy                           0.82     26048\n",
            "   macro avg       0.76      0.70      0.72     26048\n",
            "weighted avg       0.80      0.82      0.81     26048\n",
            "\n",
            "              precision    recall  f1-score   support\n",
            "\n",
            "           0       0.85      0.92      0.88      4968\n",
            "           1       0.65      0.50      0.56      1545\n",
            "\n",
            "    accuracy                           0.82      6513\n",
            "   macro avg       0.75      0.71      0.72      6513\n",
            "weighted avg       0.81      0.82      0.81      6513\n",
            "\n"
          ]
        }
      ]
    },
    {
      "cell_type": "markdown",
      "source": [
        "## 결정트리"
      ],
      "metadata": {
        "id": "EkmfK1R0koFP"
      }
    },
    {
      "cell_type": "code",
      "source": [
        "from sklearn.tree import DecisionTreeClassifier"
      ],
      "metadata": {
        "id": "iC1MBeyxklHp"
      },
      "execution_count": null,
      "outputs": []
    },
    {
      "cell_type": "code",
      "source": [
        "dt = DecisionTreeClassifier(random_state = 42)\n",
        "dt.fit(train_input, train_target)"
      ],
      "metadata": {
        "colab": {
          "base_uri": "https://localhost:8080/"
        },
        "id": "G5oQSE9-leHM",
        "outputId": "ba27bc08-b2ae-48a6-a2a4-2c846075bc1c"
      },
      "execution_count": null,
      "outputs": [
        {
          "output_type": "execute_result",
          "data": {
            "text/plain": [
              "DecisionTreeClassifier(random_state=42)"
            ]
          },
          "metadata": {},
          "execution_count": 27
        }
      ]
    },
    {
      "cell_type": "code",
      "source": [
        "print(dt.score(train_input, train_target))\n",
        "print(dt.score(test_input, test_target))\n",
        "# 오버피팅"
      ],
      "metadata": {
        "colab": {
          "base_uri": "https://localhost:8080/"
        },
        "id": "a-v3MHmklfgo",
        "outputId": "64925ec1-ed01-4c6c-cdb4-32388153f095"
      },
      "execution_count": null,
      "outputs": [
        {
          "output_type": "stream",
          "name": "stdout",
          "text": [
            "0.9996928746928747\n",
            "0.8108398587440504\n"
          ]
        }
      ]
    },
    {
      "cell_type": "code",
      "source": [
        "from sklearn.metrics import classification_report"
      ],
      "metadata": {
        "id": "IJW7Vih54qNU"
      },
      "execution_count": null,
      "outputs": []
    },
    {
      "cell_type": "code",
      "source": [
        "pred_train = dt.predict(train_input)\n",
        "pred_test = dt.predict(test_input)\n",
        "\n",
        "print(classification_report(train_target, pred_train))\n",
        "print(classification_report(test_target, pred_test))"
      ],
      "metadata": {
        "colab": {
          "base_uri": "https://localhost:8080/"
        },
        "id": "7X9WSSBP4q4N",
        "outputId": "d90bace3-12ae-4b23-eb56-46140ad60e69"
      },
      "execution_count": null,
      "outputs": [
        {
          "output_type": "stream",
          "name": "stdout",
          "text": [
            "              precision    recall  f1-score   support\n",
            "\n",
            "           0       1.00      1.00      1.00     19752\n",
            "           1       1.00      1.00      1.00      6296\n",
            "\n",
            "    accuracy                           1.00     26048\n",
            "   macro avg       1.00      1.00      1.00     26048\n",
            "weighted avg       1.00      1.00      1.00     26048\n",
            "\n",
            "              precision    recall  f1-score   support\n",
            "\n",
            "           0       0.88      0.87      0.88      4968\n",
            "           1       0.60      0.62      0.61      1545\n",
            "\n",
            "    accuracy                           0.81      6513\n",
            "   macro avg       0.74      0.74      0.74      6513\n",
            "weighted avg       0.81      0.81      0.81      6513\n",
            "\n"
          ]
        }
      ]
    },
    {
      "cell_type": "markdown",
      "source": [
        "## 랜덤포레스트"
      ],
      "metadata": {
        "id": "FF3bXuijmJ4R"
      }
    },
    {
      "cell_type": "code",
      "source": [
        "from sklearn.ensemble import RandomForestClassifier"
      ],
      "metadata": {
        "id": "TrOlhMtjmI4d"
      },
      "execution_count": null,
      "outputs": []
    },
    {
      "cell_type": "code",
      "source": [
        "rf = RandomForestClassifier(n_jobs = -1, random_state = 42)\n",
        "rf.fit(train_input, train_target)"
      ],
      "metadata": {
        "colab": {
          "base_uri": "https://localhost:8080/"
        },
        "id": "KD-TgUBal4_C",
        "outputId": "e9099e7c-db45-4020-d197-7ee5fd198704"
      },
      "execution_count": null,
      "outputs": [
        {
          "output_type": "execute_result",
          "data": {
            "text/plain": [
              "RandomForestClassifier(n_jobs=-1, random_state=42)"
            ]
          },
          "metadata": {},
          "execution_count": 31
        }
      ]
    },
    {
      "cell_type": "code",
      "source": [
        "print(rf.score(train_input, train_target))\n",
        "print(rf.score(test_input, test_target))\n",
        "# 오버피팅"
      ],
      "metadata": {
        "colab": {
          "base_uri": "https://localhost:8080/"
        },
        "id": "KsgW75Ualhxd",
        "outputId": "36701b71-4bea-4cd4-b59f-434964b4e1bf"
      },
      "execution_count": null,
      "outputs": [
        {
          "output_type": "stream",
          "name": "stdout",
          "text": [
            "0.999654484029484\n",
            "0.8475356978350991\n"
          ]
        }
      ]
    },
    {
      "cell_type": "code",
      "source": [
        "from sklearn.metrics import classification_report"
      ],
      "metadata": {
        "id": "jMRPvoHm41_K"
      },
      "execution_count": null,
      "outputs": []
    },
    {
      "cell_type": "code",
      "source": [
        "pred_train = rf.predict(train_input)\n",
        "pred_test = rf.predict(test_input)\n",
        "\n",
        "print(classification_report(train_target, pred_train))\n",
        "print(classification_report(test_target, pred_test))"
      ],
      "metadata": {
        "colab": {
          "base_uri": "https://localhost:8080/"
        },
        "id": "OmRobT1J45sa",
        "outputId": "7055fc27-d816-4655-8a94-d7833addbee8"
      },
      "execution_count": null,
      "outputs": [
        {
          "output_type": "stream",
          "name": "stdout",
          "text": [
            "              precision    recall  f1-score   support\n",
            "\n",
            "           0       1.00      1.00      1.00     19752\n",
            "           1       1.00      1.00      1.00      6296\n",
            "\n",
            "    accuracy                           1.00     26048\n",
            "   macro avg       1.00      1.00      1.00     26048\n",
            "weighted avg       1.00      1.00      1.00     26048\n",
            "\n",
            "              precision    recall  f1-score   support\n",
            "\n",
            "           0       0.89      0.92      0.90      4968\n",
            "           1       0.70      0.62      0.66      1545\n",
            "\n",
            "    accuracy                           0.85      6513\n",
            "   macro avg       0.79      0.77      0.78      6513\n",
            "weighted avg       0.84      0.85      0.84      6513\n",
            "\n"
          ]
        }
      ]
    },
    {
      "cell_type": "markdown",
      "source": [
        "## 엑스트라트리"
      ],
      "metadata": {
        "id": "K90-ixtynqZj"
      }
    },
    {
      "cell_type": "code",
      "source": [
        "from sklearn.ensemble import ExtraTreesClassifier"
      ],
      "metadata": {
        "id": "DPKf_4g3nSyR"
      },
      "execution_count": null,
      "outputs": []
    },
    {
      "cell_type": "code",
      "source": [
        "et = ExtraTreesClassifier(n_jobs = -1, random_state = 42)\n",
        "et.fit(train_input, train_target)"
      ],
      "metadata": {
        "colab": {
          "base_uri": "https://localhost:8080/"
        },
        "id": "jkDYu0fXn9bP",
        "outputId": "8e40216d-298b-4ef7-876c-9e59f6576abe"
      },
      "execution_count": null,
      "outputs": [
        {
          "output_type": "execute_result",
          "data": {
            "text/plain": [
              "ExtraTreesClassifier(n_jobs=-1, random_state=42)"
            ]
          },
          "metadata": {},
          "execution_count": 44
        }
      ]
    },
    {
      "cell_type": "code",
      "source": [
        "print(et.score(train_input, train_target))\n",
        "print(et.score(test_input, test_target))"
      ],
      "metadata": {
        "colab": {
          "base_uri": "https://localhost:8080/"
        },
        "id": "FKhFIVSPn072",
        "outputId": "7ba0d32c-b161-43df-f7a0-79724e636dca"
      },
      "execution_count": null,
      "outputs": [
        {
          "output_type": "stream",
          "name": "stdout",
          "text": [
            "0.9996928746928747\n",
            "0.8298787041302012\n"
          ]
        }
      ]
    },
    {
      "cell_type": "code",
      "source": [
        "from sklearn.metrics import classification_report"
      ],
      "metadata": {
        "id": "w_qsvuFf5E3h"
      },
      "execution_count": null,
      "outputs": []
    },
    {
      "cell_type": "code",
      "source": [
        "pred_train = et.predict(train_input)\n",
        "pred_test = et.predict(test_input)\n",
        "\n",
        "print(classification_report(train_target, pred_train))\n",
        "print(classification_report(test_target, pred_test))"
      ],
      "metadata": {
        "colab": {
          "base_uri": "https://localhost:8080/"
        },
        "id": "7IIMWW8S5FaZ",
        "outputId": "d7197476-cc63-4a9f-8d9c-caf551488128"
      },
      "execution_count": null,
      "outputs": [
        {
          "output_type": "stream",
          "name": "stdout",
          "text": [
            "              precision    recall  f1-score   support\n",
            "\n",
            "           0       1.00      1.00      1.00     19752\n",
            "           1       1.00      1.00      1.00      6296\n",
            "\n",
            "    accuracy                           1.00     26048\n",
            "   macro avg       1.00      1.00      1.00     26048\n",
            "weighted avg       1.00      1.00      1.00     26048\n",
            "\n",
            "              precision    recall  f1-score   support\n",
            "\n",
            "           0       0.88      0.90      0.89      4968\n",
            "           1       0.65      0.60      0.63      1545\n",
            "\n",
            "    accuracy                           0.83      6513\n",
            "   macro avg       0.77      0.75      0.76      6513\n",
            "weighted avg       0.83      0.83      0.83      6513\n",
            "\n"
          ]
        }
      ]
    },
    {
      "cell_type": "markdown",
      "source": [
        "## 그레디언트 부스팅"
      ],
      "metadata": {
        "id": "gGLy5tOEpZZo"
      }
    },
    {
      "cell_type": "code",
      "source": [
        "from sklearn.ensemble import GradientBoostingClassifier"
      ],
      "metadata": {
        "id": "aBd0cKTWpqbe"
      },
      "execution_count": null,
      "outputs": []
    },
    {
      "cell_type": "code",
      "source": [
        "gb = GradientBoostingClassifier(random_state = 42)\n",
        "gb.fit(train_input, train_target)"
      ],
      "metadata": {
        "colab": {
          "base_uri": "https://localhost:8080/"
        },
        "id": "h_0DDHEVptqr",
        "outputId": "ebc66f09-5b5b-4997-ff68-383ebf207fde"
      },
      "execution_count": null,
      "outputs": [
        {
          "output_type": "execute_result",
          "data": {
            "text/plain": [
              "GradientBoostingClassifier(random_state=42)"
            ]
          },
          "metadata": {},
          "execution_count": 52
        }
      ]
    },
    {
      "cell_type": "code",
      "source": [
        "print(gb.score(train_input, train_target))\n",
        "print(gb.score(test_input, test_target))"
      ],
      "metadata": {
        "colab": {
          "base_uri": "https://localhost:8080/"
        },
        "id": "9aF2kN0xqQNr",
        "outputId": "e0b1cda3-27bc-4a17-a8ca-a6bb71ebe93e"
      },
      "execution_count": null,
      "outputs": [
        {
          "output_type": "stream",
          "name": "stdout",
          "text": [
            "0.862791769041769\n",
            "0.8615077537233226\n"
          ]
        }
      ]
    },
    {
      "cell_type": "code",
      "source": [
        "from sklearn.metrics import classification_report"
      ],
      "metadata": {
        "id": "GvumQVDG5Oow"
      },
      "execution_count": null,
      "outputs": []
    },
    {
      "cell_type": "code",
      "source": [
        "pred_train = gb.predict(train_input)\n",
        "pred_test = gb.predict(test_input)\n",
        "\n",
        "print(classification_report(train_target, pred_train))\n",
        "print(classification_report(test_target, pred_test))"
      ],
      "metadata": {
        "colab": {
          "base_uri": "https://localhost:8080/"
        },
        "id": "ZtrfbQRt5Obv",
        "outputId": "a69f9077-9082-4a44-d550-bd87c5700d49"
      },
      "execution_count": null,
      "outputs": [
        {
          "output_type": "stream",
          "name": "stdout",
          "text": [
            "              precision    recall  f1-score   support\n",
            "\n",
            "           0       0.88      0.95      0.91     19752\n",
            "           1       0.80      0.58      0.67      6296\n",
            "\n",
            "    accuracy                           0.86     26048\n",
            "   macro avg       0.84      0.76      0.79     26048\n",
            "weighted avg       0.86      0.86      0.85     26048\n",
            "\n",
            "              precision    recall  f1-score   support\n",
            "\n",
            "           0       0.88      0.95      0.91      4968\n",
            "           1       0.78      0.58      0.66      1545\n",
            "\n",
            "    accuracy                           0.86      6513\n",
            "   macro avg       0.83      0.76      0.79      6513\n",
            "weighted avg       0.86      0.86      0.85      6513\n",
            "\n"
          ]
        }
      ]
    },
    {
      "cell_type": "markdown",
      "source": [
        "## XGBoost (그레디언트 부스팅도 지원하지만 다른 것도 지원함)"
      ],
      "metadata": {
        "id": "WCu6GOhLpTdb"
      }
    },
    {
      "cell_type": "code",
      "source": [
        "from xgboost import XGBClassifier"
      ],
      "metadata": {
        "id": "e98jKmn5n4V0"
      },
      "execution_count": null,
      "outputs": []
    },
    {
      "cell_type": "code",
      "source": [
        "xgb = XGBClassifier(tree_method = 'hist', random_state = 42)\n",
        "xgb.fit(train_input, train_target)"
      ],
      "metadata": {
        "colab": {
          "base_uri": "https://localhost:8080/"
        },
        "id": "JO0-T-muqs30",
        "outputId": "d16e19bf-670a-4946-fe0e-bfdffdd0bb4b"
      },
      "execution_count": null,
      "outputs": [
        {
          "output_type": "execute_result",
          "data": {
            "text/plain": [
              "XGBClassifier(random_state=42, tree_method='hist')"
            ]
          },
          "metadata": {},
          "execution_count": 57
        }
      ]
    },
    {
      "cell_type": "code",
      "source": [
        "print(xgb.score(train_input, train_target))\n",
        "print(xgb.score(test_input, test_target))"
      ],
      "metadata": {
        "colab": {
          "base_uri": "https://localhost:8080/"
        },
        "id": "Mxm7MBbsq6zK",
        "outputId": "ecd8305e-dc89-4fb4-b2a3-0e8ac3a4c05e"
      },
      "execution_count": null,
      "outputs": [
        {
          "output_type": "stream",
          "name": "stdout",
          "text": [
            "0.8617168304668305\n",
            "0.8585905112851221\n"
          ]
        }
      ]
    },
    {
      "cell_type": "code",
      "source": [
        "from sklearn.metrics import classification_report"
      ],
      "metadata": {
        "id": "h0GGr-FX5o0G"
      },
      "execution_count": null,
      "outputs": []
    },
    {
      "cell_type": "code",
      "source": [
        "pred_train = xgb.predict(train_input)\n",
        "pred_test = xgb.predict(test_input)\n",
        "\n",
        "print(classification_report(train_target, pred_train))\n",
        "print(classification_report(test_target, pred_test))"
      ],
      "metadata": {
        "colab": {
          "base_uri": "https://localhost:8080/"
        },
        "id": "hrrt3JvS5oui",
        "outputId": "13f1655b-d268-49b1-cbde-e571d8de5cc9"
      },
      "execution_count": null,
      "outputs": [
        {
          "output_type": "stream",
          "name": "stdout",
          "text": [
            "              precision    recall  f1-score   support\n",
            "\n",
            "           0       0.87      0.96      0.91     19752\n",
            "           1       0.80      0.57      0.66      6296\n",
            "\n",
            "    accuracy                           0.86     26048\n",
            "   macro avg       0.84      0.76      0.79     26048\n",
            "weighted avg       0.86      0.86      0.85     26048\n",
            "\n",
            "              precision    recall  f1-score   support\n",
            "\n",
            "           0       0.88      0.95      0.91      4968\n",
            "           1       0.78      0.56      0.65      1545\n",
            "\n",
            "    accuracy                           0.86      6513\n",
            "   macro avg       0.83      0.76      0.78      6513\n",
            "weighted avg       0.85      0.86      0.85      6513\n",
            "\n"
          ]
        }
      ]
    },
    {
      "cell_type": "markdown",
      "source": [
        "## LightGBM (그레디언트 부스팅 전용 라이브러리)"
      ],
      "metadata": {
        "id": "1-efTFzGrMIA"
      }
    },
    {
      "cell_type": "code",
      "source": [
        "from lightgbm import LGBMClassifier"
      ],
      "metadata": {
        "id": "6EjFixm-rGBL"
      },
      "execution_count": null,
      "outputs": []
    },
    {
      "cell_type": "code",
      "source": [
        "lgb = LGBMClassifier(random_state = 42)\n",
        "lgb.fit(train_input, train_target)"
      ],
      "metadata": {
        "colab": {
          "base_uri": "https://localhost:8080/"
        },
        "id": "5-wLEbT7raX_",
        "outputId": "bffeb29b-14ca-4e97-f57d-5b88b0f608bb"
      },
      "execution_count": null,
      "outputs": [
        {
          "output_type": "execute_result",
          "data": {
            "text/plain": [
              "LGBMClassifier(random_state=42)"
            ]
          },
          "metadata": {},
          "execution_count": 63
        }
      ]
    },
    {
      "cell_type": "code",
      "source": [
        "print(lgb.score(train_input, train_target))\n",
        "print(lgb.score(test_input, test_target))"
      ],
      "metadata": {
        "colab": {
          "base_uri": "https://localhost:8080/"
        },
        "id": "qjNwB6qardDN",
        "outputId": "2ce384f5-7bf8-4365-b3ce-51b1bb2b29a1"
      },
      "execution_count": null,
      "outputs": [
        {
          "output_type": "stream",
          "name": "stdout",
          "text": [
            "0.8799523955773956\n",
            "0.8673422385997236\n"
          ]
        }
      ]
    },
    {
      "cell_type": "code",
      "source": [
        "from sklearn.metrics import classification_report"
      ],
      "metadata": {
        "id": "9yNo1awY5x5P"
      },
      "execution_count": null,
      "outputs": []
    },
    {
      "cell_type": "code",
      "source": [
        "pred_train = lgb.predict(train_input)\n",
        "pred_test = lgb.predict(test_input)\n",
        "\n",
        "print(classification_report(train_target, pred_train))\n",
        "print(classification_report(test_target, pred_test))"
      ],
      "metadata": {
        "colab": {
          "base_uri": "https://localhost:8080/"
        },
        "id": "UDQz-q8Y5xxv",
        "outputId": "4cb1c924-a16a-4acb-a41d-6b2ad4e85a6e"
      },
      "execution_count": null,
      "outputs": [
        {
          "output_type": "stream",
          "name": "stdout",
          "text": [
            "              precision    recall  f1-score   support\n",
            "\n",
            "           0       0.90      0.95      0.92     19752\n",
            "           1       0.81      0.66      0.73      6296\n",
            "\n",
            "    accuracy                           0.88     26048\n",
            "   macro avg       0.85      0.80      0.82     26048\n",
            "weighted avg       0.88      0.88      0.88     26048\n",
            "\n",
            "              precision    recall  f1-score   support\n",
            "\n",
            "           0       0.89      0.94      0.92      4968\n",
            "           1       0.77      0.63      0.69      1545\n",
            "\n",
            "    accuracy                           0.87      6513\n",
            "   macro avg       0.83      0.79      0.80      6513\n",
            "weighted avg       0.86      0.87      0.86      6513\n",
            "\n"
          ]
        }
      ]
    },
    {
      "cell_type": "markdown",
      "source": [
        "그레디언트 부스팅, XGBoost, LightGBM이 과대적합도 없으며 전체적으로 정확도 값이 높아 최종 3개의 알고리즘으로 선택"
      ],
      "metadata": {
        "id": "mGLfR57qsj1v"
      }
    },
    {
      "cell_type": "markdown",
      "source": [
        "# 최적화"
      ],
      "metadata": {
        "id": "ZEnwNFSatXck"
      }
    },
    {
      "cell_type": "markdown",
      "source": [
        "## 그레디언트 부스팅 (랜덤서치)"
      ],
      "metadata": {
        "id": "7uAS0O60tZ4U"
      }
    },
    {
      "cell_type": "code",
      "source": [
        "from scipy.stats import uniform, randint"
      ],
      "metadata": {
        "id": "89arkHTqt3dg"
      },
      "execution_count": null,
      "outputs": []
    },
    {
      "cell_type": "code",
      "source": [
        "import numpy as np\n",
        "\n",
        "params = {'n_estimators' : randint(1,500),\n",
        "          'learning_rate' : uniform(0.01, 0.3)} # 딕셔너리\n",
        "# GradientBoostingClassifier의 매개변수를 선택하여 파라미터로 지정"
      ],
      "metadata": {
        "id": "r9j6rFqFt52J"
      },
      "execution_count": null,
      "outputs": []
    },
    {
      "cell_type": "code",
      "source": [
        "from sklearn.model_selection import RandomizedSearchCV\n",
        "\n",
        "rsgb = RandomizedSearchCV(GradientBoostingClassifier(random_state = 42), params,\n",
        "                        n_iter = 100, random_state = 42, n_jobs = -1)"
      ],
      "metadata": {
        "id": "ZRj8K9sdt95w"
      },
      "execution_count": null,
      "outputs": []
    },
    {
      "cell_type": "code",
      "source": [
        "rsgb.fit(train_input, train_target)"
      ],
      "metadata": {
        "colab": {
          "base_uri": "https://localhost:8080/"
        },
        "id": "0iu9ITmQuBkY",
        "outputId": "2b969ca1-4359-442b-f574-15a657da1cef"
      },
      "execution_count": null,
      "outputs": [
        {
          "output_type": "execute_result",
          "data": {
            "text/plain": [
              "RandomizedSearchCV(estimator=GradientBoostingClassifier(random_state=42),\n",
              "                   n_iter=100, n_jobs=-1,\n",
              "                   param_distributions={'learning_rate': <scipy.stats._distn_infrastructure.rv_frozen object at 0x7f025c750760>,\n",
              "                                        'n_estimators': <scipy.stats._distn_infrastructure.rv_frozen object at 0x7f025c27b100>},\n",
              "                   random_state=42)"
            ]
          },
          "metadata": {},
          "execution_count": 111
        }
      ]
    },
    {
      "cell_type": "code",
      "source": [
        "print(rsgb.best_params_)"
      ],
      "metadata": {
        "colab": {
          "base_uri": "https://localhost:8080/"
        },
        "id": "8KBU4G9huEwt",
        "outputId": "bc7d555f-704d-4ce6-b6a4-013f6a26e634"
      },
      "execution_count": null,
      "outputs": [
        {
          "output_type": "stream",
          "name": "stdout",
          "text": [
            "{'learning_rate': 0.14374982585607735, 'n_estimators': 215}\n"
          ]
        }
      ]
    },
    {
      "cell_type": "code",
      "source": [
        "gb_best = rsgb.best_estimator_\n",
        "from sklearn.model_selection import cross_validate\n",
        "scores = cross_validate(gb_best, train_input, train_target, return_train_score = True, n_jobs = -1)\n",
        "\n",
        "print(np.mean(scores['train_score']), np.mean(scores['test_score']))"
      ],
      "metadata": {
        "colab": {
          "base_uri": "https://localhost:8080/"
        },
        "id": "TbUzsoC_2s5y",
        "outputId": "48357111-a8d4-4a45-bc63-30df1aa9b1bc"
      },
      "execution_count": null,
      "outputs": [
        {
          "output_type": "stream",
          "name": "stdout",
          "text": [
            "0.8749904243724946 0.8649418749256143\n"
          ]
        }
      ]
    },
    {
      "cell_type": "code",
      "source": [
        "print(gb_best.score(test_input, test_target)) # 약 86.64%의 정확도"
      ],
      "metadata": {
        "colab": {
          "base_uri": "https://localhost:8080/"
        },
        "id": "kHhdX9UW2xIX",
        "outputId": "83401afc-b461-427a-93e5-21f42b6661f0"
      },
      "execution_count": null,
      "outputs": [
        {
          "output_type": "stream",
          "name": "stdout",
          "text": [
            "0.866421004145555\n"
          ]
        }
      ]
    },
    {
      "cell_type": "code",
      "source": [
        "from sklearn.metrics import classification_report"
      ],
      "metadata": {
        "id": "FopfATly9GAv"
      },
      "execution_count": null,
      "outputs": []
    },
    {
      "cell_type": "code",
      "source": [
        "pred_train = gb_best.predict(train_input)\n",
        "pred_test = gb_best.predict(test_input)\n",
        "\n",
        "print(classification_report(train_target, pred_train))\n",
        "print(classification_report(test_target, pred_test))"
      ],
      "metadata": {
        "colab": {
          "base_uri": "https://localhost:8080/"
        },
        "id": "t4i5dgk29Kvj",
        "outputId": "42c5924b-d59b-4746-d094-d157b5952371"
      },
      "execution_count": null,
      "outputs": [
        {
          "output_type": "stream",
          "name": "stdout",
          "text": [
            "              precision    recall  f1-score   support\n",
            "\n",
            "           0       0.89      0.95      0.92     19752\n",
            "           1       0.81      0.63      0.71      6296\n",
            "\n",
            "    accuracy                           0.87     26048\n",
            "   macro avg       0.85      0.79      0.81     26048\n",
            "weighted avg       0.87      0.87      0.87     26048\n",
            "\n",
            "              precision    recall  f1-score   support\n",
            "\n",
            "           0       0.89      0.94      0.92      4968\n",
            "           1       0.77      0.62      0.69      1545\n",
            "\n",
            "    accuracy                           0.87      6513\n",
            "   macro avg       0.83      0.78      0.80      6513\n",
            "weighted avg       0.86      0.87      0.86      6513\n",
            "\n"
          ]
        }
      ]
    },
    {
      "cell_type": "markdown",
      "source": [
        "## XGBoost (랜덤서치)"
      ],
      "metadata": {
        "id": "2x6rfLC33ADA"
      }
    },
    {
      "cell_type": "code",
      "source": [
        "from scipy.stats import uniform, randint"
      ],
      "metadata": {
        "id": "FZN6ZfRm3pgR"
      },
      "execution_count": null,
      "outputs": []
    },
    {
      "cell_type": "code",
      "source": [
        "import numpy as np\n",
        "\n",
        "params = {'n_estimators' : randint(1,500),\n",
        "          'learning_rate' : uniform(0.01, 0.3)} # 딕셔너리\n",
        "# GradientBoostingClassifier의 매개변수를 선택하여 파라미터로 지정"
      ],
      "metadata": {
        "id": "dTPjMEbf28wA"
      },
      "execution_count": null,
      "outputs": []
    },
    {
      "cell_type": "code",
      "source": [
        "from sklearn.model_selection import RandomizedSearchCV\n",
        "\n",
        "rsxgb = RandomizedSearchCV(XGBClassifier(random_state = 42), params,\n",
        "                        n_iter = 100, random_state = 42, n_jobs = -1)"
      ],
      "metadata": {
        "id": "SWjD8pk-3rYZ"
      },
      "execution_count": null,
      "outputs": []
    },
    {
      "cell_type": "code",
      "source": [
        "rsxgb.fit(train_input, train_target)"
      ],
      "metadata": {
        "colab": {
          "base_uri": "https://localhost:8080/"
        },
        "id": "AGkB3DPU3zJj",
        "outputId": "b494023b-8441-46ff-b0b8-bc80bad3fbb2"
      },
      "execution_count": null,
      "outputs": [
        {
          "output_type": "execute_result",
          "data": {
            "text/plain": [
              "RandomizedSearchCV(estimator=XGBClassifier(random_state=42), n_iter=100,\n",
              "                   n_jobs=-1,\n",
              "                   param_distributions={'learning_rate': <scipy.stats._distn_infrastructure.rv_frozen object at 0x7f025c750760>,\n",
              "                                        'n_estimators': <scipy.stats._distn_infrastructure.rv_frozen object at 0x7f025c27b100>},\n",
              "                   random_state=42)"
            ]
          },
          "metadata": {},
          "execution_count": 117
        }
      ]
    },
    {
      "cell_type": "code",
      "source": [
        "print(rsxgb.best_params_)"
      ],
      "metadata": {
        "colab": {
          "base_uri": "https://localhost:8080/"
        },
        "id": "VaSD0-oo4N4C",
        "outputId": "e2e5c1cd-603d-4dcc-9382-29d59e2d91e3"
      },
      "execution_count": null,
      "outputs": [
        {
          "output_type": "stream",
          "name": "stdout",
          "text": [
            "{'learning_rate': 0.3049692657420365, 'n_estimators': 131}\n"
          ]
        }
      ]
    },
    {
      "cell_type": "code",
      "source": [
        "xgb_best = rsxgb.best_estimator_\n",
        "from sklearn.model_selection import cross_validate\n",
        "scores = cross_validate(xgb_best, train_input, train_target, return_train_score = True, n_jobs = -1)\n",
        "\n",
        "print(np.mean(scores['train_score']), np.mean(scores['test_score']))"
      ],
      "metadata": {
        "colab": {
          "base_uri": "https://localhost:8080/"
        },
        "id": "jGjjeVLK8iHp",
        "outputId": "8e7ab5a8-514f-4e24-d2b4-edd512b0a347"
      },
      "execution_count": null,
      "outputs": [
        {
          "output_type": "stream",
          "name": "stdout",
          "text": [
            "0.8758446049348922 0.8652106184151231\n"
          ]
        }
      ]
    },
    {
      "cell_type": "code",
      "source": [
        "print(xgb_best.score(test_input, test_target)) # 약 86.56%의 정확도"
      ],
      "metadata": {
        "colab": {
          "base_uri": "https://localhost:8080/"
        },
        "id": "J8hkmfOh8kvf",
        "outputId": "1e891c82-d4b8-4a5a-cb8d-3e668903d6c0"
      },
      "execution_count": null,
      "outputs": [
        {
          "output_type": "stream",
          "name": "stdout",
          "text": [
            "0.8656533087670812\n"
          ]
        }
      ]
    },
    {
      "cell_type": "code",
      "source": [
        "from sklearn.metrics import classification_report"
      ],
      "metadata": {
        "id": "YBLlEABT-0jW"
      },
      "execution_count": null,
      "outputs": []
    },
    {
      "cell_type": "code",
      "source": [
        "pred_train = xgb_best.predict(train_input)\n",
        "pred_test = xgb_best.predict(test_input)\n",
        "\n",
        "print(classification_report(train_target, pred_train))\n",
        "print(classification_report(test_target, pred_test))"
      ],
      "metadata": {
        "colab": {
          "base_uri": "https://localhost:8080/"
        },
        "id": "zjuyYWdw-1Yh",
        "outputId": "af1dfe01-fcc0-4c21-dc9e-fafe17eb304b"
      },
      "execution_count": null,
      "outputs": [
        {
          "output_type": "stream",
          "name": "stdout",
          "text": [
            "              precision    recall  f1-score   support\n",
            "\n",
            "           0       0.89      0.95      0.92     19752\n",
            "           1       0.81      0.64      0.71      6296\n",
            "\n",
            "    accuracy                           0.88     26048\n",
            "   macro avg       0.85      0.79      0.82     26048\n",
            "weighted avg       0.87      0.88      0.87     26048\n",
            "\n",
            "              precision    recall  f1-score   support\n",
            "\n",
            "           0       0.89      0.94      0.91      4968\n",
            "           1       0.77      0.62      0.69      1545\n",
            "\n",
            "    accuracy                           0.87      6513\n",
            "   macro avg       0.83      0.78      0.80      6513\n",
            "weighted avg       0.86      0.87      0.86      6513\n",
            "\n"
          ]
        }
      ]
    },
    {
      "cell_type": "markdown",
      "source": [
        "## LightGBM (랜덤서치)"
      ],
      "metadata": {
        "id": "qGC9W9ZP8vGk"
      }
    },
    {
      "cell_type": "code",
      "source": [
        "from scipy.stats import uniform, randint"
      ],
      "metadata": {
        "id": "79DbK7Hl8qJP"
      },
      "execution_count": null,
      "outputs": []
    },
    {
      "cell_type": "code",
      "source": [
        "import numpy as np\n",
        "\n",
        "params = {'n_estimators' : randint(1,500),\n",
        "          'learning_rate' : uniform(0.01, 0.3)} # 딕셔너리\n",
        "# GradientBoostingClassifier의 매개변수를 선택하여 파라미터로 지정"
      ],
      "metadata": {
        "id": "et78ifhx80n5"
      },
      "execution_count": null,
      "outputs": []
    },
    {
      "cell_type": "code",
      "source": [
        "from sklearn.model_selection import RandomizedSearchCV\n",
        "\n",
        "rslgbm = RandomizedSearchCV(LGBMClassifier(random_state = 42), params,\n",
        "                        n_iter = 100, random_state = 42, n_jobs = -1)"
      ],
      "metadata": {
        "id": "j_JjTkiQ8181"
      },
      "execution_count": null,
      "outputs": []
    },
    {
      "cell_type": "code",
      "source": [
        "rslgbm.fit(train_input, train_target)"
      ],
      "metadata": {
        "colab": {
          "base_uri": "https://localhost:8080/"
        },
        "id": "R85Rt9CnSpOY",
        "outputId": "159e5d36-05e1-443c-e4f0-a1cc878c6bc8"
      },
      "execution_count": null,
      "outputs": [
        {
          "output_type": "execute_result",
          "data": {
            "text/plain": [
              "RandomizedSearchCV(estimator=LGBMClassifier(random_state=42), n_iter=100,\n",
              "                   n_jobs=-1,\n",
              "                   param_distributions={'learning_rate': <scipy.stats._distn_infrastructure.rv_frozen object at 0x7f025c750760>,\n",
              "                                        'n_estimators': <scipy.stats._distn_infrastructure.rv_frozen object at 0x7f025c27b100>},\n",
              "                   random_state=42)"
            ]
          },
          "metadata": {},
          "execution_count": 123
        }
      ]
    },
    {
      "cell_type": "code",
      "source": [
        "print(rslgbm.best_params_)"
      ],
      "metadata": {
        "colab": {
          "base_uri": "https://localhost:8080/"
        },
        "id": "i_7gDBezWYyY",
        "outputId": "55b0011d-f479-4339-b188-24d3b1d1035e"
      },
      "execution_count": null,
      "outputs": [
        {
          "output_type": "stream",
          "name": "stdout",
          "text": [
            "{'learning_rate': 0.2366653415629146, 'n_estimators': 36}\n"
          ]
        }
      ]
    },
    {
      "cell_type": "code",
      "source": [
        "lgbm_best = rslgbm.best_estimator_\n",
        "from sklearn.model_selection import cross_validate\n",
        "scores = cross_validate(lgbm_best, train_input, train_target, return_train_score = True, n_jobs = -1)\n",
        "\n",
        "print(np.mean(scores['train_score']), np.mean(scores['test_score']))"
      ],
      "metadata": {
        "colab": {
          "base_uri": "https://localhost:8080/"
        },
        "id": "MUXTPxG6WhIF",
        "outputId": "a96f9702-a1ee-436f-ca26-9542812ab832"
      },
      "execution_count": null,
      "outputs": [
        {
          "output_type": "stream",
          "name": "stdout",
          "text": [
            "0.8794533541929864 0.864673308304061\n"
          ]
        }
      ]
    },
    {
      "cell_type": "code",
      "source": [
        "print(lgbm_best.score(test_input, test_target)) # 약 86.56%의 정확도"
      ],
      "metadata": {
        "colab": {
          "base_uri": "https://localhost:8080/"
        },
        "id": "eFDrBRfhWp1Z",
        "outputId": "b2aa75a7-7b69-42fe-846e-ddbbfc95f1a3"
      },
      "execution_count": null,
      "outputs": [
        {
          "output_type": "stream",
          "name": "stdout",
          "text": [
            "0.8653462306156917\n"
          ]
        }
      ]
    },
    {
      "cell_type": "code",
      "source": [
        "pred_train = lgbm_best.predict(train_input)\n",
        "pred_test = lgbm_best.predict(test_input)\n",
        "\n",
        "print(classification_report(train_target, pred_train))\n",
        "print(classification_report(test_target, pred_test))"
      ],
      "metadata": {
        "colab": {
          "base_uri": "https://localhost:8080/"
        },
        "id": "mEkoaOfbXdFO",
        "outputId": "36833f04-f775-4fd7-e0d4-27a4e5ec9682"
      },
      "execution_count": null,
      "outputs": [
        {
          "output_type": "stream",
          "name": "stdout",
          "text": [
            "              precision    recall  f1-score   support\n",
            "\n",
            "           0       0.90      0.95      0.92     19752\n",
            "           1       0.80      0.66      0.72      6296\n",
            "\n",
            "    accuracy                           0.88     26048\n",
            "   macro avg       0.85      0.80      0.82     26048\n",
            "weighted avg       0.87      0.88      0.87     26048\n",
            "\n",
            "              precision    recall  f1-score   support\n",
            "\n",
            "           0       0.89      0.94      0.91      4968\n",
            "           1       0.76      0.63      0.69      1545\n",
            "\n",
            "    accuracy                           0.87      6513\n",
            "   macro avg       0.83      0.78      0.80      6513\n",
            "weighted avg       0.86      0.87      0.86      6513\n",
            "\n"
          ]
        }
      ]
    },
    {
      "cell_type": "code",
      "source": [],
      "metadata": {
        "id": "d9yIzP_FXhqr"
      },
      "execution_count": null,
      "outputs": []
    }
  ]
}