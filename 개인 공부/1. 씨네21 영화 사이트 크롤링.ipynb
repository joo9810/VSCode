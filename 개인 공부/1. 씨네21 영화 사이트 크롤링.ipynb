{
 "cells": [
  {
   "cell_type": "code",
   "execution_count": 2,
   "metadata": {},
   "outputs": [
    {
     "name": "stdout",
     "output_type": "stream",
     "text": [
      "Requirement already satisfied: pandas in /opt/anaconda3/envs/PY_39/lib/python3.9/site-packages (2.2.2)\n",
      "Requirement already satisfied: numpy>=1.22.4 in /opt/anaconda3/envs/PY_39/lib/python3.9/site-packages (from pandas) (1.26.4)\n",
      "Requirement already satisfied: python-dateutil>=2.8.2 in /opt/anaconda3/envs/PY_39/lib/python3.9/site-packages (from pandas) (2.9.0.post0)\n",
      "Requirement already satisfied: pytz>=2020.1 in /opt/anaconda3/envs/PY_39/lib/python3.9/site-packages (from pandas) (2024.1)\n",
      "Requirement already satisfied: tzdata>=2022.7 in /opt/anaconda3/envs/PY_39/lib/python3.9/site-packages (from pandas) (2023.3)\n",
      "Requirement already satisfied: six>=1.5 in /opt/anaconda3/envs/PY_39/lib/python3.9/site-packages (from python-dateutil>=2.8.2->pandas) (1.16.0)\n",
      "Note: you may need to restart the kernel to use updated packages.\n"
     ]
    }
   ],
   "source": []
  },
  {
   "cell_type": "code",
   "execution_count": 5,
   "metadata": {},
   "outputs": [],
   "source": [
    "import requests\n",
    "import numpy as np\n",
    "import pandas as pd\n",
    "import matplotlib.pyplot as plt\n",
    "from bs4 import BeautifulSoup\n",
    "import textwrap"
   ]
  },
  {
   "cell_type": "markdown",
   "metadata": {},
   "source": [
    "기본 정보"
   ]
  },
  {
   "cell_type": "code",
   "execution_count": 6,
   "metadata": {},
   "outputs": [],
   "source": [
    "url = 'http://www.cine21.com/movie/info/?movie_id=7392'\n",
    "request = requests.get(url)\n",
    "html = request.text.strip()\n",
    "soup = BeautifulSoup(html, 'html.parser')"
   ]
  },
  {
   "cell_type": "code",
   "execution_count": 7,
   "metadata": {},
   "outputs": [],
   "source": [
    "def movie_info(url):\n",
    "    request = requests.get(url)\n",
    "    html = request.text.strip()\n",
    "    soup = BeautifulSoup(html, 'html.parser')\n",
    "\n",
    "    # 제목\n",
    "    title = soup.select('p.tit')[0].text\n",
    "    print(\"제목:\", title) # 제목 출력\n",
    "    # 등급\n",
    "    grade = soup.select_one('span[class^=\"grade\"]').text\n",
    "    print(\"등급:\", grade)\n",
    "    # 개봉일, 누적관객\n",
    "    sub_info = soup.select('p.sub_info span')\n",
    "    for i in sub_info:\n",
    "        if '개봉일' in i.text:\n",
    "            release = i.text[6:]\n",
    "            print(\"개봉일:\", release) # 개봉일 출력\n",
    "        elif '누적관객' in i.text:\n",
    "            audience = i.text[7:]\n",
    "            print(\"누적관객:\", audience) # 누적관객 출력\n",
    "            \n",
    "    # 감독\n",
    "    director_name = soup.select('p.name')[0].text\n",
    "    print('감독:', director_name) # 감독 출력\n",
    "    # 출연 배우\n",
    "    actor = []\n",
    "    for i in soup.select('p.name')[1:]: # 0번째 인덱스는 감독이라 1번째부터\n",
    "        actor.append(i.text)\n",
    "    print('출연 배우:', actor) # 출연 배우 출력\n",
    "    # 전문가 리뷰 및 별점\n",
    "    star = soup.select('span.num') # 별점 (1번 인덱스부터 시작)\n",
    "    name = soup.select('span.name') # 이름 (0번 인덱스부터 시작)\n",
    "    comment = soup.select('span.comment') # 리뷰 (0번 인덱스부터 시작)\n",
    "    def list_append(x):\n",
    "        list = []\n",
    "        for i in np.arange(len(x)):\n",
    "            list.append(x[i].text)\n",
    "        return list\n",
    "    if len(name) != 0:\n",
    "        print('\\n - 전문가 리뷰 및 별점 -')\n",
    "    else:\n",
    "        print('\\n전문가 리뷰 없음')\n",
    "\n",
    "    for i in np.arange(len(name)):\n",
    "        if len(name) != 0:\n",
    "            print('이름:', list_append(name)[i], '( ★', list_append(star)[i+1], ')')\n",
    "            print(list_append(comment)[i], '\\n')    \n",
    "    # 평점\n",
    "    mov_rate = soup.select('ul.mov_rating li')\n",
    "\n",
    "    if mov_rate[0].text[:4] == '씨네21':\n",
    "        cine_score = mov_rate[0].text[4:]\n",
    "        netizen_score = mov_rate[1].text[3:]\n",
    "    elif mov_rate[0].text[:3] == '네티즌':\n",
    "        cine_score = '없음'\n",
    "        netizen_score = mov_rate[0].text[3:]\n",
    "    else:\n",
    "        cine_score = '없음'\n",
    "        netizen_score = '없음'\n",
    "    print(' - 씨네21 평점 -')\n",
    "    print('     ', cine_score)\n",
    "    print(' - 네티즌 평점 -')\n",
    "    print('     ', netizen_score)"
   ]
  },
  {
   "cell_type": "markdown",
   "metadata": {},
   "source": [
    "올드보이"
   ]
  },
  {
   "cell_type": "code",
   "execution_count": 8,
   "metadata": {},
   "outputs": [
    {
     "name": "stdout",
     "output_type": "stream",
     "text": [
      "제목: 올드보이\n",
      "등급: 청소년 관람불가\n",
      "개봉일: 2013-11-21\n",
      "누적관객: 3,269,000명\n",
      "감독: 박찬욱\n",
      "출연 배우: ['최민식', '유지태', '강혜정', '윤진서', '오광록', '오달수', '지대한', '이승신', '김병옥', '이대연', '김수현', '박명신', '오태경']\n",
      "\n",
      " - 전문가 리뷰 및 별점 -\n",
      "이름: 박평식 ( ★ 7 )\n",
      "머리는 뜨겁고 가슴은 차가운 감독의 복수혈전 \n",
      "\n",
      "이름: 이동진 ( ★ 9 )\n",
      "치밀한 덫과 강력한 도끼를 함께 갖춘 괴력의 영화 \n",
      "\n",
      "이름: 유지나 ( ★ 7 )\n",
      "박찬욱버전 <남자의 탄생>, 부제는 ‘늙은 꼬마-남성’의 욕망/트라우마 속으로... \n",
      "\n",
      " - 씨네21 평점 -\n",
      "      7.67\n",
      " - 네티즌 평점 -\n",
      "      8.52\n"
     ]
    }
   ],
   "source": [
    "movie_info('http://www.cine21.com/movie/info/?movie_id=7392')"
   ]
  },
  {
   "cell_type": "markdown",
   "metadata": {},
   "source": [
    "캐스트 어웨이"
   ]
  },
  {
   "cell_type": "code",
   "execution_count": 9,
   "metadata": {},
   "outputs": [
    {
     "name": "stdout",
     "output_type": "stream",
     "text": [
      "제목: 캐스트 어웨이\n",
      "등급: 12세이상관람가\n",
      "개봉일: 2001-02-03\n",
      "누적관객: 732,404명\n",
      "감독: 로버트 저메키스\n",
      "출연 배우: ['톰 행크스', '헬렌 헌트', '닉 시어시']\n",
      "\n",
      "전문가 리뷰 없음\n",
      " - 씨네21 평점 -\n",
      "      없음\n",
      " - 네티즌 평점 -\n",
      "      7.76\n"
     ]
    }
   ],
   "source": [
    "movie_info('http://www.cine21.com/movie/info/?movie_id=5174')"
   ]
  },
  {
   "cell_type": "markdown",
   "metadata": {},
   "source": [
    "서울의 봄"
   ]
  },
  {
   "cell_type": "code",
   "execution_count": 10,
   "metadata": {},
   "outputs": [
    {
     "name": "stdout",
     "output_type": "stream",
     "text": [
      "제목: 서울의 봄\n",
      "등급: 12세이상관람가\n",
      "개봉일: 2023-11-22\n",
      "누적관객: 13,126,686명\n",
      "감독: 김성수\n",
      "출연 배우: ['황정민', '정우성', '이성민', '박해준', '김성균', '정만식', '정해인', '이준혁']\n",
      "\n",
      " - 전문가 리뷰 및 별점 -\n",
      "이름: 박평식 ( ★ 7 )\n",
      "권력이 영원할 줄 아는 사악한 바보들에게 \n",
      "\n",
      "이름: 이용철 ( ★ 6 )\n",
      "검사의 봄에 되돌아보는, 뱀의 욕망이 낳은 탄식과 울분의 밤 \n",
      "\n",
      "이름: 안시환 ( ★ 7 )\n",
      "여러모로 아슬아슬하다 \n",
      "\n",
      "이름: 임수연 ( ★ 7 )\n",
      "‘어떻게 성공했지?’라는 궁금증과 하나회를 향한 분노가 왔다 갔다 \n",
      "\n",
      "이름: 이유채 ( ★ 7 )\n",
      "‘전두광 영화’가 되지 않았다는 점이 놀랍다 \n",
      "\n",
      "이름: 유선아 ( ★ 6 )\n",
      "바둑을 오셀로로 뒤집으려는 병법의 하룻밤 \n",
      "\n",
      " - 씨네21 평점 -\n",
      "      6.67\n",
      " - 네티즌 평점 -\n",
      "      8.88\n"
     ]
    }
   ],
   "source": [
    "movie_info('http://www.cine21.com/movie/info/?movie_id=58978')"
   ]
  },
  {
   "cell_type": "markdown",
   "metadata": {},
   "source": [
    "겨울왕국 1"
   ]
  },
  {
   "cell_type": "code",
   "execution_count": 11,
   "metadata": {},
   "outputs": [
    {
     "name": "stdout",
     "output_type": "stream",
     "text": [
      "제목: 겨울왕국\n",
      "등급: 전체 관람가\n",
      "개봉일: 2023-11-30\n",
      "누적관객: 10,296,101명\n",
      "감독: 크리스 벅\n",
      "출연 배우: ['제니퍼 리', '크리스틴 벨', '이디나 멘젤', '조나단 그로프', '산티노 폰타나', '조시 게드', '알란 터딕', '시아란 힌즈', '스티븐 앤더슨', '박지윤', '소연', '박혜나', '장민혁', '정상윤', '최원형', '윤승욱', '이장원']\n",
      "\n",
      " - 전문가 리뷰 및 별점 -\n",
      "이름: 김혜리 ( ★ 7 )\n",
      "브로드웨이 뮤지컬 버전이 벌써 눈에 아른거린다 \n",
      "\n",
      "이름: 박평식 ( ★ 7 )\n",
      "상쾌하고 신나는 냉동 \n",
      "\n",
      "이름: 이용철 ( ★ 6 )\n",
      "기술 올리고 서사 내리고 \n",
      "\n",
      "이름: 이지현 ( ★ 7 )\n",
      "안데르센의 환상성에 모더니티가 더해진다 \n",
      "\n",
      "이름: 이주현 ( ★ 7 )\n",
      "디즈니가 왜 애니메이션 명가인지에 대한 답 \n",
      "\n",
      "이름: 황진미 ( ★ 8 )\n",
      "이성애의 대상이 아니라, 여성적 연대의 주체가 된 공주 \n",
      "\n",
      " - 씨네21 평점 -\n",
      "      7.00\n",
      " - 네티즌 평점 -\n",
      "      7.88\n"
     ]
    }
   ],
   "source": [
    "movie_info('http://www.cine21.com/movie/info/?movie_id=40093')"
   ]
  },
  {
   "cell_type": "markdown",
   "metadata": {},
   "source": [
    "광해"
   ]
  },
  {
   "cell_type": "code",
   "execution_count": 12,
   "metadata": {},
   "outputs": [
    {
     "name": "stdout",
     "output_type": "stream",
     "text": [
      "제목: 광해, 왕이 된 남자\n",
      "등급: 15세이상관람가\n",
      "개봉일: 2012-09-13\n",
      "누적관객: 12,319,542명\n",
      "감독: 추창민\n",
      "출연 배우: ['이병헌', '류승룡', '한효주', '김명곤', '김인권', '장광', '심은경', '박지아', '신정근', '전국향', '양준모', '김명곤', '문창길', '전배수', '이양희', '도용구', '유순웅', '김종구', '이엘', '이준혁', '서진원', '박경근', '김혜원']\n",
      "\n",
      " - 전문가 리뷰 및 별점 -\n",
      "이름: 김혜리 ( ★ 7 )\n",
      "각본도 연기도 대중영화의 정석, 과도하리만큼 \n",
      "\n",
      "이름: 박평식 ( ★ 6 )\n",
      "익숙해진 설정들로 짠하게 흔든다 \n",
      "\n",
      "이름: 이동진 ( ★ 8 )\n",
      "반듯하고 번듯하다. 대중영화의 모범적 화술과 연기 \n",
      "\n",
      "이름: 이용철 ( ★ 8 )\n",
      "아름다운 상상과 연기들의 만남 \n",
      "\n",
      "이름: 황진미 ( ★ 6 )\n",
      "슬랩스틱을 강화한 조선시대판 <데이브>? \n",
      "\n",
      "이름: 송경원 ( ★ 7 )\n",
      "올해 사극의 왕(이 되고 싶소이다) \n",
      "\n",
      "이름: 유지나 ( ★ 7 )\n",
      "권력의 폭력을 광대놀이로 파고든다 \n",
      "\n",
      " - 씨네21 평점 -\n",
      "      7.00\n",
      " - 네티즌 평점 -\n",
      "      7.99\n"
     ]
    }
   ],
   "source": [
    "movie_info('http://www.cine21.com/movie/info/?movie_id=34426')"
   ]
  },
  {
   "cell_type": "markdown",
   "metadata": {},
   "source": [
    "극한직업"
   ]
  },
  {
   "cell_type": "code",
   "execution_count": 13,
   "metadata": {},
   "outputs": [
    {
     "name": "stdout",
     "output_type": "stream",
     "text": [
      "제목: 극한직업\n",
      "등급: 15세이상관람가\n",
      "개봉일: 2019-01-23\n",
      "누적관객: 16,264,944명\n",
      "감독: 이병헌\n",
      "출연 배우: ['류승룡', '이하늬', '진선규', '이동휘', '공명', '신하균', '오정세', '김의성', '송영규', '양현민', '허준석', '장진희', '김종수']\n",
      "\n",
      " - 전문가 리뷰 및 별점 -\n",
      "이름: 이용철 ( ★ 5 )\n",
      "반은 웃었다만 그다음은?  \n",
      "\n",
      "이름: 김성훈 ( ★ 7 )\n",
      "설정은 비현실적이되 설득은 리얼리티를 추구하는 웃음 \n",
      "\n",
      "이름: 송형국 ( ★ 7 )\n",
      "웃음을 향한 장인정신, 반갑다  \n",
      "\n",
      "이름: 허남웅 ( ★ 6 )\n",
      "‘닭’치고 웃음 \n",
      "\n",
      "이름: 임수연 ( ★ 7 )\n",
      "설 연휴, 친구·애인·가족·친지 누구와 봐도 성공할 코미디+액션 \n",
      "\n",
      " - 씨네21 평점 -\n",
      "      6.40\n",
      " - 네티즌 평점 -\n",
      "      7.26\n"
     ]
    }
   ],
   "source": [
    "movie_info('http://www.cine21.com/movie/info/?movie_id=52541')"
   ]
  },
  {
   "cell_type": "markdown",
   "metadata": {},
   "source": [
    "돌아이"
   ]
  },
  {
   "cell_type": "code",
   "execution_count": 14,
   "metadata": {},
   "outputs": [
    {
     "name": "stdout",
     "output_type": "stream",
     "text": [
      "제목: 돌아이\n",
      "등급: 12세이상관람가\n",
      "누적관객: 86,142명\n",
      "감독: 이두용\n",
      "출연 배우: ['전영록', '민복기', '오덕', '김미현']\n",
      "\n",
      "전문가 리뷰 없음\n",
      " - 씨네21 평점 -\n",
      "      없음\n",
      " - 네티즌 평점 -\n",
      "      6.83\n"
     ]
    }
   ],
   "source": [
    "movie_info('http://www.cine21.com/movie/info/?movie_id=4662')"
   ]
  },
  {
   "cell_type": "code",
   "execution_count": null,
   "metadata": {},
   "outputs": [],
   "source": []
  }
 ],
 "metadata": {
  "kernelspec": {
   "display_name": "Python 3",
   "language": "python",
   "name": "python3"
  },
  "language_info": {
   "codemirror_mode": {
    "name": "ipython",
    "version": 3
   },
   "file_extension": ".py",
   "mimetype": "text/x-python",
   "name": "python",
   "nbconvert_exporter": "python",
   "pygments_lexer": "ipython3",
   "version": "3.9.19"
  }
 },
 "nbformat": 4,
 "nbformat_minor": 2
}
