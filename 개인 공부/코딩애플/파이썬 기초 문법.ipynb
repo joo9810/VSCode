{
 "cells": [
  {
   "cell_type": "markdown",
   "metadata": {},
   "source": [
    "1. 리스트, 딕셔너리"
   ]
  },
  {
   "cell_type": "code",
   "execution_count": 1,
   "metadata": {},
   "outputs": [
    {
     "name": "stdout",
     "output_type": "stream",
     "text": [
      "['K5', 'white', 5000]\n",
      "white\n"
     ]
    }
   ],
   "source": [
    "중고차 = ['K5', 'white', 5000] # list\n",
    "\n",
    "print(중고차)\n",
    "print(중고차[1])"
   ]
  },
  {
   "cell_type": "code",
   "execution_count": 2,
   "metadata": {},
   "outputs": [
    {
     "name": "stdout",
     "output_type": "stream",
     "text": [
      "{'brand': 'BMW', 'model': '520d'}\n",
      "BMW\n"
     ]
    }
   ],
   "source": [
    "중고차2 = {'brand' : 'BMW', 'model' : '520d'} # dictionary\n",
    "\n",
    "print(중고차2)\n",
    "print(중고차2['brand'])"
   ]
  },
  {
   "cell_type": "markdown",
   "metadata": {},
   "source": [
    "2. 조건문"
   ]
  },
  {
   "cell_type": "code",
   "execution_count": 3,
   "metadata": {},
   "outputs": [
    {
     "name": "stdout",
     "output_type": "stream",
     "text": [
      "재고량 있음\n"
     ]
    }
   ],
   "source": [
    "재고량 = 10\n",
    "\n",
    "if 재고량 > 0:\n",
    "    print('재고량 있음')"
   ]
  },
  {
   "cell_type": "code",
   "execution_count": 4,
   "metadata": {},
   "outputs": [
    {
     "name": "stdout",
     "output_type": "stream",
     "text": [
      "주문 불가능\n"
     ]
    }
   ],
   "source": [
    "중고차재고 = ['K5', 'BMW', 'Tico']\n",
    "\n",
    "if 'Lamborghini' in 중고차재고:\n",
    "    print('주문 가능')\n",
    "else:\n",
    "    print('주문 불가능')"
   ]
  },
  {
   "cell_type": "markdown",
   "metadata": {},
   "source": [
    "3. 반복문"
   ]
  },
  {
   "cell_type": "code",
   "execution_count": 8,
   "metadata": {},
   "outputs": [
    {
     "name": "stdout",
     "output_type": "stream",
     "text": [
      "K5\n",
      "BMW\n",
      "Tico\n",
      "K5\n",
      "BMW\n",
      "Tico\n"
     ]
    }
   ],
   "source": [
    "중고차들 = ['K5', 'BMW', 'Tico']\n",
    "\n",
    "for i in 중고차들:\n",
    "    print(i)\n",
    "\n",
    "for i in range(0, 3):\n",
    "    print(중고차들[i])"
   ]
  },
  {
   "cell_type": "markdown",
   "metadata": {},
   "source": [
    "4. 함수"
   ]
  },
  {
   "cell_type": "code",
   "execution_count": 11,
   "metadata": {},
   "outputs": [
    {
     "name": "stdout",
     "output_type": "stream",
     "text": [
      "안녕하세요 중고차 신뢰 딜러 차은우입니다.\n",
      "2\n",
      "10\n"
     ]
    }
   ],
   "source": [
    "def 인사하기():\n",
    "    print('안녕하세요 중고차 신뢰 딜러 차은우입니다.')\n",
    "\n",
    "인사하기()\n",
    "\n",
    "def 모자(a):\n",
    "    print(a + 1)\n",
    "\n",
    "모자(1)\n",
    "\n",
    "def 함수():\n",
    "    return 10\n",
    "\n",
    "print(함수())"
   ]
  },
  {
   "cell_type": "code",
   "execution_count": null,
   "metadata": {},
   "outputs": [],
   "source": []
  }
 ],
 "metadata": {
  "kernelspec": {
   "display_name": "Python 3",
   "language": "python",
   "name": "python3"
  },
  "language_info": {
   "codemirror_mode": {
    "name": "ipython",
    "version": 3
   },
   "file_extension": ".py",
   "mimetype": "text/x-python",
   "name": "python",
   "nbconvert_exporter": "python",
   "pygments_lexer": "ipython3",
   "version": "3.9.18"
  }
 },
 "nbformat": 4,
 "nbformat_minor": 2
}
